{
 "cells": [
  {
   "cell_type": "markdown",
   "id": "4b4815d9",
   "metadata": {},
   "source": [
    "# Análisis de texto (text mining) con Python"
   ]
  },
  {
   "cell_type": "markdown",
   "id": "e363e792",
   "metadata": {},
   "source": [
    "https://www.cienciadedatos.net/documentos/py25-text-mining-python.html"
   ]
  },
  {
   "cell_type": "markdown",
   "id": "f2c73eaf",
   "metadata": {},
   "source": [
    "## Librerias"
   ]
  },
  {
   "cell_type": "code",
   "execution_count": 3,
   "id": "70ded49c",
   "metadata": {
    "ExecuteTime": {
     "end_time": "2022-03-17T10:48:43.160307Z",
     "start_time": "2022-03-17T10:48:32.695455Z"
    }
   },
   "outputs": [],
   "source": [
    "# Tratamiento de datos\n",
    "# ==============================================================================\n",
    "import numpy as np\n",
    "import pandas as pd\n",
    "import string\n",
    "import re\n",
    "\n",
    "# Gráficos\n",
    "# ==============================================================================\n",
    "import matplotlib.pyplot as plt\n",
    "from matplotlib import style\n",
    "import seaborn as sns\n",
    "#style.use('ggplot') or plt.style.use('ggplot')\n",
    "\n",
    "# Preprocesado y modelado\n",
    "# ==============================================================================\n",
    "from sklearn import svm\n",
    "from sklearn.model_selection import train_test_split\n",
    "from sklearn.model_selection import GridSearchCV\n",
    "from sklearn.metrics import confusion_matrix\n",
    "from sklearn.feature_extraction.text import TfidfVectorizer\n",
    "import nltk\n",
    "#nltk.download('stopwords')\n",
    "from nltk.corpus import stopwords\n",
    "\n",
    "# Configuración warnings\n",
    "# ==============================================================================\n",
    "import warnings\n",
    "warnings.filterwarnings('ignore')"
   ]
  },
  {
   "cell_type": "markdown",
   "id": "90e0ec1f",
   "metadata": {},
   "source": [
    "## Datos"
   ]
  },
  {
   "cell_type": "code",
   "execution_count": 4,
   "id": "8f4982e1",
   "metadata": {
    "ExecuteTime": {
     "end_time": "2022-03-17T11:10:46.254488Z",
     "start_time": "2022-03-17T11:10:44.334622Z"
    }
   },
   "outputs": [
    {
     "name": "stdout",
     "output_type": "stream",
     "text": [
      "Número de tweets @BillGates: 2087\n",
      "Número de tweets @mayoredlee: 2447\n",
      "Número de tweets @elonmusk: 2678\n"
     ]
    }
   ],
   "source": [
    "# Lectura de datos\n",
    "# ==============================================================================\n",
    "url = 'https://raw.githubusercontent.com/JoaquinAmatRodrigo/Estadistica-con-R/master/datos/'\n",
    "tweets_elon   = pd.read_csv(url + \"datos_tweets_@elonmusk.csv\")\n",
    "tweets_edlee  = pd.read_csv(url + \"datos_tweets_@mayoredlee.csv\")\n",
    "tweets_bgates = pd.read_csv(url + \"datos_tweets_@BillGates.csv\")\n",
    "\n",
    "print('Número de tweets @BillGates: ' + str(tweets_bgates.shape[0]))\n",
    "print('Número de tweets @mayoredlee: ' + str(tweets_edlee.shape[0]))\n",
    "print('Número de tweets @elonmusk: ' + str(tweets_elon.shape[0]))"
   ]
  },
  {
   "cell_type": "code",
   "execution_count": 5,
   "id": "c4c135be",
   "metadata": {
    "ExecuteTime": {
     "end_time": "2022-03-17T11:10:46.427737Z",
     "start_time": "2022-03-17T11:10:46.264464Z"
    }
   },
   "outputs": [
    {
     "data": {
      "text/html": [
       "<div>\n",
       "<style scoped>\n",
       "    .dataframe tbody tr th:only-of-type {\n",
       "        vertical-align: middle;\n",
       "    }\n",
       "\n",
       "    .dataframe tbody tr th {\n",
       "        vertical-align: top;\n",
       "    }\n",
       "\n",
       "    .dataframe thead th {\n",
       "        text-align: right;\n",
       "    }\n",
       "</style>\n",
       "<table border=\"1\" class=\"dataframe\">\n",
       "  <thead>\n",
       "    <tr style=\"text-align: right;\">\n",
       "      <th></th>\n",
       "      <th>autor</th>\n",
       "      <th>fecha</th>\n",
       "      <th>id</th>\n",
       "      <th>texto</th>\n",
       "    </tr>\n",
       "  </thead>\n",
       "  <tbody>\n",
       "    <tr>\n",
       "      <th>0</th>\n",
       "      <td>elonmusk</td>\n",
       "      <td>2017-11-09 17:28:57+00:00</td>\n",
       "      <td>9.286758e+17</td>\n",
       "      <td>\"If one day, my words are against science, cho...</td>\n",
       "    </tr>\n",
       "    <tr>\n",
       "      <th>1</th>\n",
       "      <td>elonmusk</td>\n",
       "      <td>2017-11-09 17:12:46+00:00</td>\n",
       "      <td>9.286717e+17</td>\n",
       "      <td>I placed the flowers\\n\\nThree broken ribs\\nA p...</td>\n",
       "    </tr>\n",
       "    <tr>\n",
       "      <th>2</th>\n",
       "      <td>elonmusk</td>\n",
       "      <td>2017-11-08 18:55:13+00:00</td>\n",
       "      <td>9.283351e+17</td>\n",
       "      <td>Atatürk Anıtkabir https://t.co/al3wt0njr6</td>\n",
       "    </tr>\n",
       "  </tbody>\n",
       "</table>\n",
       "</div>"
      ],
      "text/plain": [
       "      autor                     fecha            id  \\\n",
       "0  elonmusk 2017-11-09 17:28:57+00:00  9.286758e+17   \n",
       "1  elonmusk 2017-11-09 17:12:46+00:00  9.286717e+17   \n",
       "2  elonmusk 2017-11-08 18:55:13+00:00  9.283351e+17   \n",
       "\n",
       "                                               texto  \n",
       "0  \"If one day, my words are against science, cho...  \n",
       "1  I placed the flowers\\n\\nThree broken ribs\\nA p...  \n",
       "2          Atatürk Anıtkabir https://t.co/al3wt0njr6  "
      ]
     },
     "execution_count": 5,
     "metadata": {},
     "output_type": "execute_result"
    }
   ],
   "source": [
    "# Se unen los dos dataframes en uno solo\n",
    "tweets = pd.concat([tweets_elon, tweets_edlee, tweets_bgates], ignore_index=True)\n",
    "\n",
    "# Se seleccionan y renombran las columnas de interés\n",
    "tweets = tweets[['screen_name', 'created_at', 'status_id', 'text']]\n",
    "tweets.columns = ['autor', 'fecha', 'id', 'texto']\n",
    "\n",
    "# Parseo de fechas\n",
    "tweets['fecha'] = pd.to_datetime(tweets['fecha'])\n",
    "tweets.head(3)"
   ]
  },
  {
   "cell_type": "markdown",
   "id": "1b2ed253",
   "metadata": {},
   "source": [
    "## Distribución temporal de los tweets"
   ]
  },
  {
   "cell_type": "code",
   "execution_count": 6,
   "id": "162c653a",
   "metadata": {
    "ExecuteTime": {
     "end_time": "2022-03-17T11:10:46.947345Z",
     "start_time": "2022-03-17T11:10:46.433713Z"
    }
   },
   "outputs": [
    {
     "data": {
      "image/png": "[encoded data removed]",
      "text/plain": [
       "<Figure size 648x288 with 1 Axes>"
      ]
     },
     "metadata": {
      "needs_background": "light"
     },
     "output_type": "display_data"
    }
   ],
   "source": [
    "# Distribución temporal de los tweets\n",
    "# ==============================================================================\n",
    "fig, ax = plt.subplots(figsize=(9,4))\n",
    "\n",
    "for autor in tweets.autor.unique():\n",
    "    df_temp = tweets[tweets['autor'] == autor].copy()\n",
    "    df_temp['fecha'] = pd.to_datetime(df_temp['fecha'].dt.strftime('%Y-%m'))\n",
    "    df_temp = df_temp.groupby(df_temp['fecha']).size()\n",
    "    df_temp.plot(label=autor, ax=ax)\n",
    "\n",
    "ax.set_title('Número de tweets publicados por mes')\n",
    "ax.legend();"
   ]
  },
  {
   "cell_type": "markdown",
   "id": "50da15ff",
   "metadata": {},
   "source": [
    "## Limpieza y Tokenización"
   ]
  },
  {
   "cell_type": "markdown",
   "id": "80519aaf",
   "metadata": {},
   "source": [
    "El proceso de limpieza de texto, dentro del ámbito de text mining, consiste en eliminar del texto todo aquello que no aporte información sobre su temática, estructura o contenido. No existe una única forma de hacerlo, depende en gran medida de la finalidad del análisis y de la fuente de la que proceda el texto. Por ejemplo, en las redes sociales, los usuarios pueden escribir de la forma que quieran, lo que suele resultar en un uso elevado de abreviaturas y signos de puntuación. En este ejercicio, se procede a eliminar: patrones no informativos (urls de páginas web), signos de puntuación, etiquetas HTML, caracteres sueltos y números.\n",
    "\n",
    "Tokenizar un texto consiste en dividir el texto en las unidades que lo conforman, entendiendo por unidad el elemento más sencillo con significado propio para el análisis en cuestión, en este caso, las palabras.\n",
    "\n",
    "Existen múltiples librerías que automatizan en gran medida la limpieza y tokenización de texto, por ejemplo, la clase `feature_extraction.text.CountVectorizer` de Scikit Learn, nltk.tokenize o spaCy. A pesar de ello, para este ejemplo, se define una función que, si bien está menos optimizada, tiene la ventaja de poder adaptarse fácilmente dependiendo del tipo de texto analizado."
   ]
  },
  {
   "cell_type": "code",
   "execution_count": 7,
   "id": "18fc810e",
   "metadata": {
    "ExecuteTime": {
     "end_time": "2022-03-17T11:10:47.278815Z",
     "start_time": "2022-03-17T11:10:47.259866Z"
    }
   },
   "outputs": [
    {
     "name": "stdout",
     "output_type": "stream",
     "text": [
      "Esto es 1 ejemplo de l'limpieza de6 TEXTO  https://t.co/rnHPgyhx4Z @cienciadedatos #textmining\n",
      "['esto', 'es', 'ejemplo', 'de', 'limpieza', 'de', 'texto', 'cienciadedatos', 'textmining']\n"
     ]
    }
   ],
   "source": [
    "def limpiar_tokenizar(texto):\n",
    "    '''\n",
    "    Esta función limpia y tokeniza el texto en palabras individuales.\n",
    "    El orden en el que se va limpiando el texto no es arbitrario.\n",
    "    El listado de signos de puntuación se ha obtenido de: print(string.punctuation)\n",
    "    y re.escape(string.punctuation)\n",
    "    '''\n",
    "    \n",
    "    # Se convierte todo el texto a minúsculas\n",
    "    nuevo_texto = texto.lower()\n",
    "    # Eliminación de páginas web (palabras que empiezan por \"http\")\n",
    "    nuevo_texto = re.sub('http\\S+', ' ', nuevo_texto)\n",
    "    # Eliminación de signos de puntuación\n",
    "    regex = '[\\\\!\\\\\"\\\\#\\\\$\\\\%\\\\&\\\\\\'\\\\(\\\\)\\\\*\\\\+\\\\,\\\\-\\\\.\\\\/\\\\:\\\\;\\\\<\\\\=\\\\>\\\\?\\\\@\\\\[\\\\\\\\\\\\]\\\\^_\\\\`\\\\{\\\\|\\\\}\\\\~]'\n",
    "    nuevo_texto = re.sub(regex , ' ', nuevo_texto)\n",
    "    # Eliminación de números\n",
    "    nuevo_texto = re.sub(\"\\d+\", ' ', nuevo_texto)\n",
    "    # Eliminación de espacios en blanco múltiples\n",
    "    nuevo_texto = re.sub(\"\\\\s+\", ' ', nuevo_texto)\n",
    "    # Tokenización por palabras individuales\n",
    "    nuevo_texto = nuevo_texto.split(sep = ' ')\n",
    "    # Eliminación de tokens con una longitud < 2\n",
    "    nuevo_texto = [token for token in nuevo_texto if len(token) > 1]\n",
    "    \n",
    "    return(nuevo_texto)\n",
    "\n",
    "test = \"Esto es 1 ejemplo de l'limpieza de6 TEXTO  https://t.co/rnHPgyhx4Z @cienciadedatos #textmining\"\n",
    "print(test)\n",
    "print(limpiar_tokenizar(texto=test))"
   ]
  },
  {
   "cell_type": "markdown",
   "id": "80180963",
   "metadata": {},
   "source": [
    "La función `limpiar_tokenizar()` elimina el símbolo @ y # de las palabras a las que acompañan. En Twitter, los usuarios se identifican de esta forma, por lo que @ y # pertenecen al nombre. Aunque es importante tener en cuenta las eliminaciones del proceso de limpieza, el impacto en este caso no es demasiado alto, ya que, si un documento se caracteriza por tener la palabra #datascience, también será detectado fácilmente mediante la palabra datascience."
   ]
  },
  {
   "cell_type": "code",
   "execution_count": 8,
   "id": "c558ef32",
   "metadata": {
    "ExecuteTime": {
     "end_time": "2022-03-17T11:10:48.635206Z",
     "start_time": "2022-03-17T11:10:48.602295Z"
    }
   },
   "outputs": [
    {
     "data": {
      "text/html": [
       "<div>\n",
       "<style scoped>\n",
       "    .dataframe tbody tr th:only-of-type {\n",
       "        vertical-align: middle;\n",
       "    }\n",
       "\n",
       "    .dataframe tbody tr th {\n",
       "        vertical-align: top;\n",
       "    }\n",
       "\n",
       "    .dataframe thead th {\n",
       "        text-align: right;\n",
       "    }\n",
       "</style>\n",
       "<table border=\"1\" class=\"dataframe\">\n",
       "  <thead>\n",
       "    <tr style=\"text-align: right;\">\n",
       "      <th></th>\n",
       "      <th>autor</th>\n",
       "      <th>fecha</th>\n",
       "      <th>id</th>\n",
       "      <th>texto</th>\n",
       "    </tr>\n",
       "  </thead>\n",
       "  <tbody>\n",
       "    <tr>\n",
       "      <th>0</th>\n",
       "      <td>elonmusk</td>\n",
       "      <td>2017-11-09 17:28:57+00:00</td>\n",
       "      <td>9.286758e+17</td>\n",
       "      <td>\"If one day, my words are against science, cho...</td>\n",
       "    </tr>\n",
       "    <tr>\n",
       "      <th>1</th>\n",
       "      <td>elonmusk</td>\n",
       "      <td>2017-11-09 17:12:46+00:00</td>\n",
       "      <td>9.286717e+17</td>\n",
       "      <td>I placed the flowers\\n\\nThree broken ribs\\nA p...</td>\n",
       "    </tr>\n",
       "  </tbody>\n",
       "</table>\n",
       "</div>"
      ],
      "text/plain": [
       "      autor                     fecha            id  \\\n",
       "0  elonmusk 2017-11-09 17:28:57+00:00  9.286758e+17   \n",
       "1  elonmusk 2017-11-09 17:12:46+00:00  9.286717e+17   \n",
       "\n",
       "                                               texto  \n",
       "0  \"If one day, my words are against science, cho...  \n",
       "1  I placed the flowers\\n\\nThree broken ribs\\nA p...  "
      ]
     },
     "execution_count": 8,
     "metadata": {},
     "output_type": "execute_result"
    }
   ],
   "source": [
    "tweets.head(2)"
   ]
  },
  {
   "cell_type": "code",
   "execution_count": 9,
   "id": "d7dc7c84",
   "metadata": {
    "ExecuteTime": {
     "end_time": "2022-03-17T11:10:49.290782Z",
     "start_time": "2022-03-17T11:10:49.024682Z"
    }
   },
   "outputs": [
    {
     "data": {
      "text/html": [
       "<div>\n",
       "<style scoped>\n",
       "    .dataframe tbody tr th:only-of-type {\n",
       "        vertical-align: middle;\n",
       "    }\n",
       "\n",
       "    .dataframe tbody tr th {\n",
       "        vertical-align: top;\n",
       "    }\n",
       "\n",
       "    .dataframe thead th {\n",
       "        text-align: right;\n",
       "    }\n",
       "</style>\n",
       "<table border=\"1\" class=\"dataframe\">\n",
       "  <thead>\n",
       "    <tr style=\"text-align: right;\">\n",
       "      <th></th>\n",
       "      <th>texto</th>\n",
       "      <th>texto_tokenizado</th>\n",
       "    </tr>\n",
       "  </thead>\n",
       "  <tbody>\n",
       "    <tr>\n",
       "      <th>0</th>\n",
       "      <td>\"If one day, my words are against science, cho...</td>\n",
       "      <td>[if, one, day, my, words, are, against, scienc...</td>\n",
       "    </tr>\n",
       "    <tr>\n",
       "      <th>1</th>\n",
       "      <td>I placed the flowers\\n\\nThree broken ribs\\nA p...</td>\n",
       "      <td>[placed, the, flowers, three, broken, ribs, pi...</td>\n",
       "    </tr>\n",
       "    <tr>\n",
       "      <th>2</th>\n",
       "      <td>Atatürk Anıtkabir https://t.co/al3wt0njr6</td>\n",
       "      <td>[atatürk, anıtkabir]</td>\n",
       "    </tr>\n",
       "    <tr>\n",
       "      <th>3</th>\n",
       "      <td>@Bob_Richards One rocket, slightly toasted</td>\n",
       "      <td>[bob, richards, one, rocket, slightly, toasted]</td>\n",
       "    </tr>\n",
       "    <tr>\n",
       "      <th>4</th>\n",
       "      <td>@uncover007 500 ft so far. Should be 2 miles l...</td>\n",
       "      <td>[uncover, ft, so, far, should, be, miles, long...</td>\n",
       "    </tr>\n",
       "  </tbody>\n",
       "</table>\n",
       "</div>"
      ],
      "text/plain": [
       "                                               texto  \\\n",
       "0  \"If one day, my words are against science, cho...   \n",
       "1  I placed the flowers\\n\\nThree broken ribs\\nA p...   \n",
       "2          Atatürk Anıtkabir https://t.co/al3wt0njr6   \n",
       "3         @Bob_Richards One rocket, slightly toasted   \n",
       "4  @uncover007 500 ft so far. Should be 2 miles l...   \n",
       "\n",
       "                                    texto_tokenizado  \n",
       "0  [if, one, day, my, words, are, against, scienc...  \n",
       "1  [placed, the, flowers, three, broken, ribs, pi...  \n",
       "2                               [atatürk, anıtkabir]  \n",
       "3    [bob, richards, one, rocket, slightly, toasted]  \n",
       "4  [uncover, ft, so, far, should, be, miles, long...  "
      ]
     },
     "execution_count": 9,
     "metadata": {},
     "output_type": "execute_result"
    }
   ],
   "source": [
    "# Se aplica la función de limpieza y tokenización a cada tweet\n",
    "# ==============================================================================\n",
    "tweets['texto_tokenizado'] = tweets['texto'].apply(lambda x: limpiar_tokenizar(x))\n",
    "tweets[['texto', 'texto_tokenizado']].head()"
   ]
  },
  {
   "cell_type": "markdown",
   "id": "337cfef8",
   "metadata": {},
   "source": [
    "Gracias a la característica de los data.frame de pandas de poder contener cualquier tipo de elemento en sus columnas (siempre que sea el mismo para toda la columna), se puede almacenar el texto tokenizado. Cada elemento de la columna texto_tokenizado es una lista que contiene los tokens generados.\n",
    "\n",
    "De nuevo matizar que, para casos productivos, es preferible emplear los tokenizadores de `Scikit Learn`, `nltk` o `spaCy`."
   ]
  },
  {
   "cell_type": "markdown",
   "id": "a8320657",
   "metadata": {},
   "source": [
    "## Análisis exploratorio"
   ]
  },
  {
   "cell_type": "markdown",
   "id": "f6dd5b17",
   "metadata": {},
   "source": [
    "A la hora de entender que caracteriza la escritura de cada autor, es interesante estudiar qué palabras emplea, con qué frecuencia, así como el significado de las mismas.\n",
    "\n",
    "En Python, una de las estructuras que más facilita el análisis exploratorio es el DataFrame de Pandas, que es la estructura en la que se encuentra almacenada ahora la información de los tweets. Sin embargo, al realizar la tokenización, ha habido un cambio importante. Antes de dividir el texto, los elementos de estudio eran los tweets, y cada uno se encontraba en una fila, cumplimento así la condición de tidy data: una observación, una fila. Al realizar la tokenización, el elemento de estudio ha pasado a ser cada token (palabra), incumpliendo así la condición de tidy data. Para volver de nuevo a la estructura ideal se tiene que expandir cada lista de tokens, duplicando el valor de las otras columnas tantas veces como sea necesario. A este proceso se le conoce como expansión o unnest.\n",
    "\n",
    "Aunque puede parecer un proceso poco eficiente (el número de filas aumenta mucho), este simple cambio facilita actividades de tipo: agrupación, contaje, gráficos..."
   ]
  },
  {
   "cell_type": "markdown",
   "id": "ac16262e",
   "metadata": {
    "ExecuteTime": {
     "end_time": "2022-03-17T11:21:34.121875Z",
     "start_time": "2022-03-17T11:21:34.078989Z"
    }
   },
   "source": [
    "**Pandas** `explode()`: Transform each element of a list-like to a row, replicating index values."
   ]
  },
  {
   "cell_type": "code",
   "execution_count": 10,
   "id": "7ad24d65",
   "metadata": {
    "ExecuteTime": {
     "end_time": "2022-03-17T11:21:06.956438Z",
     "start_time": "2022-03-17T11:21:06.544519Z"
    }
   },
   "outputs": [
    {
     "data": {
      "text/html": [
       "<div>\n",
       "<style scoped>\n",
       "    .dataframe tbody tr th:only-of-type {\n",
       "        vertical-align: middle;\n",
       "    }\n",
       "\n",
       "    .dataframe tbody tr th {\n",
       "        vertical-align: top;\n",
       "    }\n",
       "\n",
       "    .dataframe thead th {\n",
       "        text-align: right;\n",
       "    }\n",
       "</style>\n",
       "<table border=\"1\" class=\"dataframe\">\n",
       "  <thead>\n",
       "    <tr style=\"text-align: right;\">\n",
       "      <th></th>\n",
       "      <th>autor</th>\n",
       "      <th>fecha</th>\n",
       "      <th>id</th>\n",
       "      <th>token</th>\n",
       "    </tr>\n",
       "  </thead>\n",
       "  <tbody>\n",
       "    <tr>\n",
       "      <th>0</th>\n",
       "      <td>elonmusk</td>\n",
       "      <td>2017-11-09 17:28:57+00:00</td>\n",
       "      <td>9.286758e+17</td>\n",
       "      <td>if</td>\n",
       "    </tr>\n",
       "    <tr>\n",
       "      <th>0</th>\n",
       "      <td>elonmusk</td>\n",
       "      <td>2017-11-09 17:28:57+00:00</td>\n",
       "      <td>9.286758e+17</td>\n",
       "      <td>one</td>\n",
       "    </tr>\n",
       "    <tr>\n",
       "      <th>0</th>\n",
       "      <td>elonmusk</td>\n",
       "      <td>2017-11-09 17:28:57+00:00</td>\n",
       "      <td>9.286758e+17</td>\n",
       "      <td>day</td>\n",
       "    </tr>\n",
       "  </tbody>\n",
       "</table>\n",
       "</div>"
      ],
      "text/plain": [
       "      autor                     fecha            id token\n",
       "0  elonmusk 2017-11-09 17:28:57+00:00  9.286758e+17    if\n",
       "0  elonmusk 2017-11-09 17:28:57+00:00  9.286758e+17   one\n",
       "0  elonmusk 2017-11-09 17:28:57+00:00  9.286758e+17   day"
      ]
     },
     "execution_count": 10,
     "metadata": {},
     "output_type": "execute_result"
    }
   ],
   "source": [
    "# Unnest de la columna texto_tokenizado\n",
    "# ==============================================================================\n",
    "tweets_tidy = tweets.explode(column='texto_tokenizado')\n",
    "tweets_tidy = tweets_tidy.drop(columns='texto')\n",
    "tweets_tidy = tweets_tidy.rename(columns={'texto_tokenizado':'token'})\n",
    "tweets_tidy.head(3)"
   ]
  },
  {
   "cell_type": "markdown",
   "id": "1a0e4e65",
   "metadata": {},
   "source": [
    "### Frecuencia de palabras"
   ]
  },
  {
   "cell_type": "code",
   "execution_count": 11,
   "id": "2d4d3275",
   "metadata": {
    "ExecuteTime": {
     "end_time": "2022-03-17T11:22:37.738345Z",
     "start_time": "2022-03-17T11:22:37.629810Z"
    }
   },
   "outputs": [
    {
     "name": "stdout",
     "output_type": "stream",
     "text": [
      "--------------------------\n",
      "Palabras totales por autor\n",
      "--------------------------\n"
     ]
    },
    {
     "data": {
      "text/plain": [
       "autor\n",
       "BillGates     31500\n",
       "elonmusk      33609\n",
       "mayoredlee    41878\n",
       "Name: token, dtype: int64"
      ]
     },
     "execution_count": 11,
     "metadata": {},
     "output_type": "execute_result"
    }
   ],
   "source": [
    "# Palabras totales utilizadas por cada autor\n",
    "# ==============================================================================\n",
    "print('--------------------------')\n",
    "print('Palabras totales por autor')\n",
    "print('--------------------------')\n",
    "tweets_tidy.groupby(by='autor')['token'].count()"
   ]
  },
  {
   "cell_type": "code",
   "execution_count": 12,
   "id": "77002d5b",
   "metadata": {
    "ExecuteTime": {
     "end_time": "2022-03-17T11:22:38.113398Z",
     "start_time": "2022-03-17T11:22:37.979657Z"
    }
   },
   "outputs": [
    {
     "name": "stdout",
     "output_type": "stream",
     "text": [
      "----------------------------\n",
      "Palabras distintas por autor\n",
      "----------------------------\n"
     ]
    },
    {
     "data": {
      "text/plain": [
       "autor\n",
       "BillGates     4848\n",
       "elonmusk      6628\n",
       "mayoredlee    5770\n",
       "Name: token, dtype: int64"
      ]
     },
     "execution_count": 12,
     "metadata": {},
     "output_type": "execute_result"
    }
   ],
   "source": [
    "# Palabras distintas utilizadas por cada autor\n",
    "# ==============================================================================\n",
    "print('----------------------------')\n",
    "print('Palabras distintas por autor')\n",
    "print('----------------------------')\n",
    "tweets_tidy.groupby(by='autor')['token'].nunique()"
   ]
  },
  {
   "cell_type": "markdown",
   "id": "9e015aa2",
   "metadata": {},
   "source": [
    "Aunque Elon Musk no es el que más palabras totales ha utilizado, bien porque ha publicado menos tweets o porque estos son más cortos, es el que más palabras distintas emplea."
   ]
  },
  {
   "cell_type": "markdown",
   "id": "6ca623cd",
   "metadata": {},
   "source": [
    "### Longitud media de tweets"
   ]
  },
  {
   "cell_type": "code",
   "execution_count": 13,
   "id": "79351a6d",
   "metadata": {
    "ExecuteTime": {
     "end_time": "2022-03-17T11:27:09.600029Z",
     "start_time": "2022-03-17T11:27:09.433479Z"
    }
   },
   "outputs": [
    {
     "data": {
      "text/html": [
       "<div>\n",
       "<style scoped>\n",
       "    .dataframe tbody tr th:only-of-type {\n",
       "        vertical-align: middle;\n",
       "    }\n",
       "\n",
       "    .dataframe tbody tr th {\n",
       "        vertical-align: top;\n",
       "    }\n",
       "\n",
       "    .dataframe thead th {\n",
       "        text-align: right;\n",
       "    }\n",
       "</style>\n",
       "<table border=\"1\" class=\"dataframe\">\n",
       "  <thead>\n",
       "    <tr style=\"text-align: right;\">\n",
       "      <th></th>\n",
       "      <th>mean</th>\n",
       "      <th>std</th>\n",
       "    </tr>\n",
       "    <tr>\n",
       "      <th>autor</th>\n",
       "      <th></th>\n",
       "      <th></th>\n",
       "    </tr>\n",
       "  </thead>\n",
       "  <tbody>\n",
       "    <tr>\n",
       "      <th>BillGates</th>\n",
       "      <td>15.144231</td>\n",
       "      <td>3.347354</td>\n",
       "    </tr>\n",
       "    <tr>\n",
       "      <th>elonmusk</th>\n",
       "      <td>12.611257</td>\n",
       "      <td>6.933870</td>\n",
       "    </tr>\n",
       "    <tr>\n",
       "      <th>mayoredlee</th>\n",
       "      <td>17.170152</td>\n",
       "      <td>3.486314</td>\n",
       "    </tr>\n",
       "  </tbody>\n",
       "</table>\n",
       "</div>"
      ],
      "text/plain": [
       "                 mean       std\n",
       "autor                          \n",
       "BillGates   15.144231  3.347354\n",
       "elonmusk    12.611257  6.933870\n",
       "mayoredlee  17.170152  3.486314"
      ]
     },
     "execution_count": 13,
     "metadata": {},
     "output_type": "execute_result"
    }
   ],
   "source": [
    "# Longitud media y desviación de los tweets de cada autor\n",
    "# ==============================================================================\n",
    "temp_df = pd.DataFrame(tweets_tidy.groupby(by = [\"autor\", \"id\"])[\"token\"].count())\n",
    "temp_df.reset_index().groupby(\"autor\")[\"token\"].agg(['mean', 'std'])"
   ]
  },
  {
   "cell_type": "markdown",
   "id": "f23b2415",
   "metadata": {},
   "source": [
    "El tipo de tweet de Bill Gates y Mayor Ed Lee es similar en cuanto a longitud media y desviación. Elon Musk alterna más entre tweets cortos y largos, siendo su media inferior a la de los otros dos."
   ]
  },
  {
   "cell_type": "markdown",
   "id": "6e369efd",
   "metadata": {},
   "source": [
    "### Palabras más utilizadas por autor"
   ]
  },
  {
   "cell_type": "code",
   "execution_count": 14,
   "id": "23f7e92b",
   "metadata": {
    "ExecuteTime": {
     "end_time": "2022-03-17T11:28:15.706170Z",
     "start_time": "2022-03-17T11:28:15.506870Z"
    }
   },
   "outputs": [
    {
     "data": {
      "text/html": [
       "<div>\n",
       "<style scoped>\n",
       "    .dataframe tbody tr th:only-of-type {\n",
       "        vertical-align: middle;\n",
       "    }\n",
       "\n",
       "    .dataframe tbody tr th {\n",
       "        vertical-align: top;\n",
       "    }\n",
       "\n",
       "    .dataframe thead th {\n",
       "        text-align: right;\n",
       "    }\n",
       "</style>\n",
       "<table border=\"1\" class=\"dataframe\">\n",
       "  <thead>\n",
       "    <tr style=\"text-align: right;\">\n",
       "      <th></th>\n",
       "      <th></th>\n",
       "      <th>autor</th>\n",
       "      <th>token</th>\n",
       "      <th>count</th>\n",
       "    </tr>\n",
       "    <tr>\n",
       "      <th>autor</th>\n",
       "      <th></th>\n",
       "      <th></th>\n",
       "      <th></th>\n",
       "      <th></th>\n",
       "    </tr>\n",
       "  </thead>\n",
       "  <tbody>\n",
       "    <tr>\n",
       "      <th rowspan=\"5\" valign=\"top\">BillGates</th>\n",
       "      <th>4195</th>\n",
       "      <td>BillGates</td>\n",
       "      <td>the</td>\n",
       "      <td>1178</td>\n",
       "    </tr>\n",
       "    <tr>\n",
       "      <th>4271</th>\n",
       "      <td>BillGates</td>\n",
       "      <td>to</td>\n",
       "      <td>1115</td>\n",
       "    </tr>\n",
       "    <tr>\n",
       "      <th>2930</th>\n",
       "      <td>BillGates</td>\n",
       "      <td>of</td>\n",
       "      <td>669</td>\n",
       "    </tr>\n",
       "    <tr>\n",
       "      <th>2084</th>\n",
       "      <td>BillGates</td>\n",
       "      <td>in</td>\n",
       "      <td>590</td>\n",
       "    </tr>\n",
       "    <tr>\n",
       "      <th>2207</th>\n",
       "      <td>BillGates</td>\n",
       "      <td>is</td>\n",
       "      <td>452</td>\n",
       "    </tr>\n",
       "    <tr>\n",
       "      <th rowspan=\"5\" valign=\"top\">elonmusk</th>\n",
       "      <th>10699</th>\n",
       "      <td>elonmusk</td>\n",
       "      <td>the</td>\n",
       "      <td>983</td>\n",
       "    </tr>\n",
       "    <tr>\n",
       "      <th>10816</th>\n",
       "      <td>elonmusk</td>\n",
       "      <td>to</td>\n",
       "      <td>913</td>\n",
       "    </tr>\n",
       "    <tr>\n",
       "      <th>8859</th>\n",
       "      <td>elonmusk</td>\n",
       "      <td>of</td>\n",
       "      <td>638</td>\n",
       "    </tr>\n",
       "    <tr>\n",
       "      <th>7801</th>\n",
       "      <td>elonmusk</td>\n",
       "      <td>is</td>\n",
       "      <td>542</td>\n",
       "    </tr>\n",
       "    <tr>\n",
       "      <th>7656</th>\n",
       "      <td>elonmusk</td>\n",
       "      <td>in</td>\n",
       "      <td>476</td>\n",
       "    </tr>\n",
       "    <tr>\n",
       "      <th rowspan=\"5\" valign=\"top\">mayoredlee</th>\n",
       "      <th>16650</th>\n",
       "      <td>mayoredlee</td>\n",
       "      <td>to</td>\n",
       "      <td>1684</td>\n",
       "    </tr>\n",
       "    <tr>\n",
       "      <th>16568</th>\n",
       "      <td>mayoredlee</td>\n",
       "      <td>the</td>\n",
       "      <td>1338</td>\n",
       "    </tr>\n",
       "    <tr>\n",
       "      <th>11669</th>\n",
       "      <td>mayoredlee</td>\n",
       "      <td>amp</td>\n",
       "      <td>1212</td>\n",
       "    </tr>\n",
       "    <tr>\n",
       "      <th>14957</th>\n",
       "      <td>mayoredlee</td>\n",
       "      <td>our</td>\n",
       "      <td>1096</td>\n",
       "    </tr>\n",
       "    <tr>\n",
       "      <th>15964</th>\n",
       "      <td>mayoredlee</td>\n",
       "      <td>sf</td>\n",
       "      <td>909</td>\n",
       "    </tr>\n",
       "  </tbody>\n",
       "</table>\n",
       "</div>"
      ],
      "text/plain": [
       "                       autor token  count\n",
       "autor                                    \n",
       "BillGates  4195    BillGates   the   1178\n",
       "           4271    BillGates    to   1115\n",
       "           2930    BillGates    of    669\n",
       "           2084    BillGates    in    590\n",
       "           2207    BillGates    is    452\n",
       "elonmusk   10699    elonmusk   the    983\n",
       "           10816    elonmusk    to    913\n",
       "           8859     elonmusk    of    638\n",
       "           7801     elonmusk    is    542\n",
       "           7656     elonmusk    in    476\n",
       "mayoredlee 16650  mayoredlee    to   1684\n",
       "           16568  mayoredlee   the   1338\n",
       "           11669  mayoredlee   amp   1212\n",
       "           14957  mayoredlee   our   1096\n",
       "           15964  mayoredlee    sf    909"
      ]
     },
     "execution_count": 14,
     "metadata": {},
     "output_type": "execute_result"
    }
   ],
   "source": [
    "# Top 5 palabras más utilizadas por cada autor\n",
    "# ==============================================================================\n",
    "tweets_tidy.groupby(['autor','token'])['token'] \\\n",
    " .count() \\\n",
    " .reset_index(name='count') \\\n",
    " .groupby('autor') \\\n",
    " .apply(lambda x: x.sort_values('count', ascending=False).head(5))"
   ]
  },
  {
   "cell_type": "markdown",
   "id": "4ddc139e",
   "metadata": {},
   "source": [
    "### Stop words"
   ]
  },
  {
   "cell_type": "markdown",
   "id": "41fdfb7a",
   "metadata": {},
   "source": [
    "En la tabla anterior puede observarse que los términos más frecuentes en todos los usuarios se corresponden con artículos, preposiciones, pronombres…, en general, palabras que no aportan información relevante sobre el texto. Ha estas palabras se les conoce como stopwords. Para cada idioma existen distintos listados de stopwords, además, dependiendo del contexto, puede ser necesario adaptar el listado. Por ejemplo, en la tabla anterior aparece el término amp que procede de la etiqueta html &amp. Con frecuencia, a medida que se realiza un análisis se encuentran palabras que deben incluirse en el listado de stopwords."
   ]
  },
  {
   "cell_type": "code",
   "execution_count": 15,
   "id": "f935d4b6",
   "metadata": {
    "ExecuteTime": {
     "end_time": "2022-03-17T11:34:19.147416Z",
     "start_time": "2022-03-17T11:34:17.927489Z"
    }
   },
   "outputs": [
    {
     "name": "stdout",
     "output_type": "stream",
     "text": [
      "['i', 'me', 'my', 'myself', 'we', 'our', 'ours', 'ourselves', 'you', \"you're\"]\n"
     ]
    }
   ],
   "source": [
    "# Obtención de listado de stopwords del inglés\n",
    "# ==============================================================================\n",
    "# !nltk.download('stopwords')\n",
    "stop_words = list(stopwords.words('english'))\n",
    "# Se añade la stoprword: amp, ax, ex\n",
    "stop_words.extend((\"amp\", \"xa\", \"xe\"))\n",
    "print(stop_words[:10])"
   ]
  },
  {
   "cell_type": "code",
   "execution_count": 16,
   "id": "1b441342",
   "metadata": {
    "ExecuteTime": {
     "end_time": "2022-03-17T11:54:57.646098Z",
     "start_time": "2022-03-17T11:54:57.498530Z"
    }
   },
   "outputs": [
    {
     "data": {
      "text/html": [
       "<div>\n",
       "<style scoped>\n",
       "    .dataframe tbody tr th:only-of-type {\n",
       "        vertical-align: middle;\n",
       "    }\n",
       "\n",
       "    .dataframe tbody tr th {\n",
       "        vertical-align: top;\n",
       "    }\n",
       "\n",
       "    .dataframe thead th {\n",
       "        text-align: right;\n",
       "    }\n",
       "</style>\n",
       "<table border=\"1\" class=\"dataframe\">\n",
       "  <thead>\n",
       "    <tr style=\"text-align: right;\">\n",
       "      <th></th>\n",
       "      <th>autor</th>\n",
       "      <th>fecha</th>\n",
       "      <th>id</th>\n",
       "      <th>token</th>\n",
       "    </tr>\n",
       "  </thead>\n",
       "  <tbody>\n",
       "    <tr>\n",
       "      <th>0</th>\n",
       "      <td>elonmusk</td>\n",
       "      <td>2017-11-09 17:28:57+00:00</td>\n",
       "      <td>9.286758e+17</td>\n",
       "      <td>one</td>\n",
       "    </tr>\n",
       "    <tr>\n",
       "      <th>0</th>\n",
       "      <td>elonmusk</td>\n",
       "      <td>2017-11-09 17:28:57+00:00</td>\n",
       "      <td>9.286758e+17</td>\n",
       "      <td>day</td>\n",
       "    </tr>\n",
       "  </tbody>\n",
       "</table>\n",
       "</div>"
      ],
      "text/plain": [
       "      autor                     fecha            id token\n",
       "0  elonmusk 2017-11-09 17:28:57+00:00  9.286758e+17   one\n",
       "0  elonmusk 2017-11-09 17:28:57+00:00  9.286758e+17   day"
      ]
     },
     "execution_count": 16,
     "metadata": {},
     "output_type": "execute_result"
    }
   ],
   "source": [
    "# Filtrado para excluir stopwords\n",
    "# ==============================================================================\n",
    "tweets_tidy = tweets_tidy[~(tweets_tidy[\"token\"].isin(stop_words))]\n",
    "tweets_tidy.head(2)"
   ]
  },
  {
   "cell_type": "code",
   "execution_count": 17,
   "id": "9c9bd68a",
   "metadata": {
    "ExecuteTime": {
     "end_time": "2022-03-17T11:55:37.807151Z",
     "start_time": "2022-03-17T11:55:36.797276Z"
    }
   },
   "outputs": [
    {
     "data": {
      "image/png": "[encoded data removed]",
      "text/plain": [
       "<Figure size 432x504 with 3 Axes>"
      ]
     },
     "metadata": {
      "needs_background": "light"
     },
     "output_type": "display_data"
    }
   ],
   "source": [
    "# Top 10 palabras por autor (sin stopwords)\n",
    "# ==============================================================================\n",
    "fig, axs = plt.subplots(nrows=3, ncols=1,figsize=(6, 7))\n",
    "for i, autor in enumerate(tweets_tidy.autor.unique()):\n",
    "    df_temp = tweets_tidy[tweets_tidy.autor == autor]\n",
    "    counts  = df_temp['token'].value_counts(ascending=False).head(10)\n",
    "    counts.plot(kind='barh', color='firebrick', ax=axs[i])\n",
    "    axs[i].invert_yaxis()\n",
    "    axs[i].set_title(autor)\n",
    "\n",
    "fig.tight_layout();"
   ]
  },
  {
   "cell_type": "markdown",
   "id": "1d7ad229",
   "metadata": {},
   "source": [
    "Los resultados obtenidos tienen sentido si ponemos en contexto la actividad profesional de los usuarios analizados. Mayor Ed Lee es alcalde de San Francisco (sf), por lo que sus tweets están relacionados con la ciudad, residentes, familias, casas... Elon Musk dirige varias empresas tecnológicas entre las que destacan Tesla y SpaceX, dedicadas a los coches y a la aeronáutica. Por último, Bill Gates, además de propietario de microsoft, dedica parte de su capital a fundaciones de ayuda, de ahí las palabras mundo, polio, ayuda..."
   ]
  },
  {
   "cell_type": "markdown",
   "id": "0b0e2256",
   "metadata": {},
   "source": [
    "### Correlación entre autores"
   ]
  },
  {
   "cell_type": "markdown",
   "id": "30ff28d0",
   "metadata": {},
   "source": [
    "Una forma de cuantificar la similitud entre los perfiles de dos usuarios de Twitter es calculando la correlación en el uso de palabras. La idea es que, si dos usuarios escriben de forma similar, tenderán a utilizar las mismas palabras y con frecuencias similares. La medida de similitud más utilizada al trabajar con texto es 1 - distancia coseno.\n",
    "\n",
    "Para poder generar los estudios de correlación se necesita disponer de cada variable en una columna. En este caso, las variables a correlacionar son los autores."
   ]
  },
  {
   "cell_type": "code",
   "execution_count": 18,
   "id": "33441686",
   "metadata": {
    "ExecuteTime": {
     "end_time": "2022-03-17T12:00:34.145226Z",
     "start_time": "2022-03-17T12:00:33.530282Z"
    }
   },
   "outputs": [
    {
     "data": {
      "text/html": [
       "<div>\n",
       "<style scoped>\n",
       "    .dataframe tbody tr th:only-of-type {\n",
       "        vertical-align: middle;\n",
       "    }\n",
       "\n",
       "    .dataframe tbody tr th {\n",
       "        vertical-align: top;\n",
       "    }\n",
       "\n",
       "    .dataframe thead th {\n",
       "        text-align: right;\n",
       "    }\n",
       "</style>\n",
       "<table border=\"1\" class=\"dataframe\">\n",
       "  <thead>\n",
       "    <tr style=\"text-align: right;\">\n",
       "      <th></th>\n",
       "      <th>BillGates</th>\n",
       "      <th>elonmusk</th>\n",
       "      <th>mayoredlee</th>\n",
       "    </tr>\n",
       "    <tr>\n",
       "      <th>token</th>\n",
       "      <th></th>\n",
       "      <th></th>\n",
       "      <th></th>\n",
       "    </tr>\n",
       "  </thead>\n",
       "  <tbody>\n",
       "    <tr>\n",
       "      <th>aa</th>\n",
       "      <td>NaN</td>\n",
       "      <td>16.0</td>\n",
       "      <td>NaN</td>\n",
       "    </tr>\n",
       "    <tr>\n",
       "      <th>aaa</th>\n",
       "      <td>NaN</td>\n",
       "      <td>NaN</td>\n",
       "      <td>2.0</td>\n",
       "    </tr>\n",
       "    <tr>\n",
       "      <th>aaja</th>\n",
       "      <td>NaN</td>\n",
       "      <td>NaN</td>\n",
       "      <td>2.0</td>\n",
       "    </tr>\n",
       "  </tbody>\n",
       "</table>\n",
       "</div>"
      ],
      "text/plain": [
       "       BillGates  elonmusk  mayoredlee\n",
       "token                                 \n",
       "aa           NaN      16.0         NaN\n",
       "aaa          NaN       NaN         2.0\n",
       "aaja         NaN       NaN         2.0"
      ]
     },
     "execution_count": 18,
     "metadata": {},
     "output_type": "execute_result"
    }
   ],
   "source": [
    "# Pivotado de datos\n",
    "# ==============================================================================\n",
    "tweets_pivot = tweets_tidy.groupby([\"autor\",\"token\"])[\"token\"] \\\n",
    "                .agg([\"count\"]).reset_index() \\\n",
    "                .pivot(index = \"token\" , columns=\"autor\", values= \"count\")\n",
    "tweets_pivot.columns.name = None\n",
    "tweets_pivot.head(3)"
   ]
  },
  {
   "cell_type": "code",
   "execution_count": 19,
   "id": "fb3d4bd2",
   "metadata": {
    "ExecuteTime": {
     "end_time": "2022-03-17T12:01:19.669530Z",
     "start_time": "2022-03-17T12:01:19.598042Z"
    }
   },
   "outputs": [
    {
     "data": {
      "text/html": [
       "<div>\n",
       "<style scoped>\n",
       "    .dataframe tbody tr th:only-of-type {\n",
       "        vertical-align: middle;\n",
       "    }\n",
       "\n",
       "    .dataframe tbody tr th {\n",
       "        vertical-align: top;\n",
       "    }\n",
       "\n",
       "    .dataframe thead th {\n",
       "        text-align: right;\n",
       "    }\n",
       "</style>\n",
       "<table border=\"1\" class=\"dataframe\">\n",
       "  <thead>\n",
       "    <tr style=\"text-align: right;\">\n",
       "      <th></th>\n",
       "      <th>BillGates</th>\n",
       "      <th>elonmusk</th>\n",
       "      <th>mayoredlee</th>\n",
       "    </tr>\n",
       "  </thead>\n",
       "  <tbody>\n",
       "    <tr>\n",
       "      <th>BillGates</th>\n",
       "      <td>1.000000</td>\n",
       "      <td>0.567274</td>\n",
       "      <td>0.496346</td>\n",
       "    </tr>\n",
       "    <tr>\n",
       "      <th>elonmusk</th>\n",
       "      <td>0.567274</td>\n",
       "      <td>1.000000</td>\n",
       "      <td>0.276732</td>\n",
       "    </tr>\n",
       "    <tr>\n",
       "      <th>mayoredlee</th>\n",
       "      <td>0.496346</td>\n",
       "      <td>0.276732</td>\n",
       "      <td>1.000000</td>\n",
       "    </tr>\n",
       "  </tbody>\n",
       "</table>\n",
       "</div>"
      ],
      "text/plain": [
       "            BillGates  elonmusk  mayoredlee\n",
       "BillGates    1.000000  0.567274    0.496346\n",
       "elonmusk     0.567274  1.000000    0.276732\n",
       "mayoredlee   0.496346  0.276732    1.000000"
      ]
     },
     "execution_count": 19,
     "metadata": {},
     "output_type": "execute_result"
    }
   ],
   "source": [
    "# Test de correlación (coseno) por el uso y frecuencia de palabras\n",
    "# ==============================================================================\n",
    "from scipy.spatial.distance import cosine\n",
    "\n",
    "def similitud_coseno(a,b):\n",
    "    distancia = cosine(a,b)\n",
    "    return 1-distancia\n",
    "\n",
    "tweets_pivot.corr(method=similitud_coseno)"
   ]
  },
  {
   "cell_type": "code",
   "execution_count": 20,
   "id": "a3973925",
   "metadata": {
    "ExecuteTime": {
     "end_time": "2022-03-17T12:27:05.698143Z",
     "start_time": "2022-03-17T12:27:04.859533Z"
    }
   },
   "outputs": [
    {
     "data": {
      "image/png": "[encoded data removed]",
      "text/plain": [
       "<Figure size 432x288 with 1 Axes>"
      ]
     },
     "metadata": {
      "needs_background": "light"
     },
     "output_type": "display_data"
    }
   ],
   "source": [
    "# Gráfico de correlación\n",
    "# ==============================================================================\n",
    "f, ax = plt.subplots(figsize=(6, 4))\n",
    "temp = tweets_pivot.dropna()\n",
    "sns.regplot(\n",
    "    x  = np.log(temp.elonmusk),\n",
    "    y  = np.log(temp.BillGates),\n",
    "    scatter_kws =  {'alpha': 0.05},\n",
    "    ax = ax\n",
    ");\n",
    "for i in np.random.choice(range(temp.shape[0]), 100):\n",
    "    ax.annotate(\n",
    "        text  = temp.index[i],\n",
    "        xy    = (np.log(temp.elonmusk[i]), np.log(temp.BillGates[i])),\n",
    "        alpha = 0.7\n",
    "    )"
   ]
  },
  {
   "cell_type": "code",
   "execution_count": 21,
   "id": "1a7c90af",
   "metadata": {
    "ExecuteTime": {
     "end_time": "2022-03-17T12:27:21.571064Z",
     "start_time": "2022-03-17T12:27:21.412940Z"
    }
   },
   "outputs": [
    {
     "name": "stdout",
     "output_type": "stream",
     "text": [
      "Palabras comunes entre Elon Musk y Ed Lee: 1760\n",
      "Palabras comunes entre Elon Elon Musk y Bill Gates: 1758\n"
     ]
    }
   ],
   "source": [
    "# Número de palabras comunes\n",
    "# ==============================================================================\n",
    "palabras_elon = set(tweets_tidy[tweets_tidy.autor == 'elonmusk']['token'])\n",
    "palabras_bill = set(tweets_tidy[tweets_tidy.autor == 'BillGates']['token'])\n",
    "palabras_edlee = set(tweets_tidy[tweets_tidy.autor == 'mayoredlee']['token'])\n",
    "\n",
    "print(f\"Palabras comunes entre Elon Musk y Ed Lee: {len(palabras_elon.intersection(palabras_edlee))}\")\n",
    "print(f\"Palabras comunes entre Elon Elon Musk y Bill Gates: {len(palabras_elon.intersection(palabras_bill))}\")"
   ]
  },
  {
   "cell_type": "markdown",
   "id": "4c2c773c",
   "metadata": {},
   "source": [
    "Aunque el número de palabras comunes entre Elon Musk y Bill Gates y entre Elon Musk y Ed Lee es similar, la correlación basada en su uso es mayor entre Elon Musk y Bill Gates. Esto tiene sentido si se contempla el hecho de que ambos trabajan como directivos de empresas tecnológicas."
   ]
  },
  {
   "cell_type": "markdown",
   "id": "25ff0bde",
   "metadata": {},
   "source": [
    "### Comparación en el uso de palabras"
   ]
  },
  {
   "cell_type": "markdown",
   "id": "63708afe",
   "metadata": {},
   "source": [
    "A continuación, se estudia qué palabras se utilizan de forma más diferenciada por cada usuario, es decir, palabras que utiliza mucho un autor y que no utiliza el otro. Una forma de hacer este análisis es mediante el [log of odds ratio](https://en.wikipedia.org/wiki/Odds_ratio) de las frecuencias. Esta comparación se hace por pares, en este caso se comparan Elon Musk y Mayor Ed Lee.\n",
    "\n",
    "log of odd ratio = log( (nk+1/N+1)Elon / (nk+1/N+1)Edd)\n",
    "\n",
    "siendo nk el número de veces que aparece el término k en los textos de cada autor y N el número total de términos de cada autor.\n",
    "\n",
    "Para realizar este cálculo es necesario que, para todos los usuarios, se cuantifique la frecuencia de cada una de las palabras que aparecen en el conjunto de tweets, es decir, si un autor no ha utilizado una de las palabras que sí ha utilizado otro, debe aparecer esa palabra en su registro con frecuencia igual a cero. Existen varias formas de conseguir esto, una de ellas es pivotar y despivotar el dataframe sustituyendo los NaN por cero."
   ]
  },
  {
   "cell_type": "markdown",
   "id": "5cf499b4-efd7-4b98-9d86-df3cadb8a920",
   "metadata": {},
   "source": [
    "`pd.melt()` Unpivot a DataFrame from wide to long format, optionally leaving identifiers set."
   ]
  },
  {
   "cell_type": "code",
   "execution_count": 23,
   "id": "a3b6eacf",
   "metadata": {},
   "outputs": [
    {
     "data": {
      "text/html": [
       "<div>\n",
       "<style scoped>\n",
       "    .dataframe tbody tr th:only-of-type {\n",
       "        vertical-align: middle;\n",
       "    }\n",
       "\n",
       "    .dataframe tbody tr th {\n",
       "        vertical-align: top;\n",
       "    }\n",
       "\n",
       "    .dataframe thead th {\n",
       "        text-align: right;\n",
       "    }\n",
       "</style>\n",
       "<table border=\"1\" class=\"dataframe\">\n",
       "  <thead>\n",
       "    <tr style=\"text-align: right;\">\n",
       "      <th></th>\n",
       "      <th>autor</th>\n",
       "      <th>fecha</th>\n",
       "      <th>id</th>\n",
       "      <th>token</th>\n",
       "    </tr>\n",
       "  </thead>\n",
       "  <tbody>\n",
       "    <tr>\n",
       "      <th>0</th>\n",
       "      <td>elonmusk</td>\n",
       "      <td>2017-11-09 17:28:57+00:00</td>\n",
       "      <td>9.286758e+17</td>\n",
       "      <td>one</td>\n",
       "    </tr>\n",
       "    <tr>\n",
       "      <th>0</th>\n",
       "      <td>elonmusk</td>\n",
       "      <td>2017-11-09 17:28:57+00:00</td>\n",
       "      <td>9.286758e+17</td>\n",
       "      <td>day</td>\n",
       "    </tr>\n",
       "  </tbody>\n",
       "</table>\n",
       "</div>"
      ],
      "text/plain": [
       "      autor                     fecha            id token\n",
       "0  elonmusk 2017-11-09 17:28:57+00:00  9.286758e+17   one\n",
       "0  elonmusk 2017-11-09 17:28:57+00:00  9.286758e+17   day"
      ]
     },
     "metadata": {},
     "output_type": "display_data"
    },
    {
     "data": {
      "text/html": [
       "<div>\n",
       "<style scoped>\n",
       "    .dataframe tbody tr th:only-of-type {\n",
       "        vertical-align: middle;\n",
       "    }\n",
       "\n",
       "    .dataframe tbody tr th {\n",
       "        vertical-align: top;\n",
       "    }\n",
       "\n",
       "    .dataframe thead th {\n",
       "        text-align: right;\n",
       "    }\n",
       "</style>\n",
       "<table border=\"1\" class=\"dataframe\">\n",
       "  <thead>\n",
       "    <tr style=\"text-align: right;\">\n",
       "      <th></th>\n",
       "      <th>BillGates</th>\n",
       "      <th>elonmusk</th>\n",
       "      <th>mayoredlee</th>\n",
       "    </tr>\n",
       "    <tr>\n",
       "      <th>token</th>\n",
       "      <th></th>\n",
       "      <th></th>\n",
       "      <th></th>\n",
       "    </tr>\n",
       "  </thead>\n",
       "  <tbody>\n",
       "    <tr>\n",
       "      <th>aa</th>\n",
       "      <td>0.0</td>\n",
       "      <td>16.0</td>\n",
       "      <td>0.0</td>\n",
       "    </tr>\n",
       "    <tr>\n",
       "      <th>aaa</th>\n",
       "      <td>0.0</td>\n",
       "      <td>0.0</td>\n",
       "      <td>2.0</td>\n",
       "    </tr>\n",
       "  </tbody>\n",
       "</table>\n",
       "</div>"
      ],
      "text/plain": [
       "       BillGates  elonmusk  mayoredlee\n",
       "token                                 \n",
       "aa           0.0      16.0         0.0\n",
       "aaa          0.0       0.0         2.0"
      ]
     },
     "metadata": {},
     "output_type": "display_data"
    },
    {
     "data": {
      "text/html": [
       "<div>\n",
       "<style scoped>\n",
       "    .dataframe tbody tr th:only-of-type {\n",
       "        vertical-align: middle;\n",
       "    }\n",
       "\n",
       "    .dataframe tbody tr th {\n",
       "        vertical-align: top;\n",
       "    }\n",
       "\n",
       "    .dataframe thead th {\n",
       "        text-align: right;\n",
       "    }\n",
       "</style>\n",
       "<table border=\"1\" class=\"dataframe\">\n",
       "  <thead>\n",
       "    <tr style=\"text-align: right;\">\n",
       "      <th></th>\n",
       "      <th>token</th>\n",
       "      <th>autor</th>\n",
       "      <th>n</th>\n",
       "    </tr>\n",
       "  </thead>\n",
       "  <tbody>\n",
       "    <tr>\n",
       "      <th>0</th>\n",
       "      <td>aa</td>\n",
       "      <td>BillGates</td>\n",
       "      <td>0.0</td>\n",
       "    </tr>\n",
       "    <tr>\n",
       "      <th>1</th>\n",
       "      <td>aaa</td>\n",
       "      <td>BillGates</td>\n",
       "      <td>0.0</td>\n",
       "    </tr>\n",
       "  </tbody>\n",
       "</table>\n",
       "</div>"
      ],
      "text/plain": [
       "  token      autor    n\n",
       "0    aa  BillGates  0.0\n",
       "1   aaa  BillGates  0.0"
      ]
     },
     "metadata": {},
     "output_type": "display_data"
    },
    {
     "data": {
      "text/html": [
       "<div>\n",
       "<style scoped>\n",
       "    .dataframe tbody tr th:only-of-type {\n",
       "        vertical-align: middle;\n",
       "    }\n",
       "\n",
       "    .dataframe tbody tr th {\n",
       "        vertical-align: top;\n",
       "    }\n",
       "\n",
       "    .dataframe thead th {\n",
       "        text-align: right;\n",
       "    }\n",
       "</style>\n",
       "<table border=\"1\" class=\"dataframe\">\n",
       "  <thead>\n",
       "    <tr style=\"text-align: right;\">\n",
       "      <th></th>\n",
       "      <th>token</th>\n",
       "      <th>autor</th>\n",
       "      <th>n</th>\n",
       "      <th>N</th>\n",
       "    </tr>\n",
       "  </thead>\n",
       "  <tbody>\n",
       "    <tr>\n",
       "      <th>0</th>\n",
       "      <td>aa</td>\n",
       "      <td>elonmusk</td>\n",
       "      <td>16.0</td>\n",
       "      <td>21719</td>\n",
       "    </tr>\n",
       "    <tr>\n",
       "      <th>1</th>\n",
       "      <td>aaa</td>\n",
       "      <td>elonmusk</td>\n",
       "      <td>0.0</td>\n",
       "      <td>21719</td>\n",
       "    </tr>\n",
       "  </tbody>\n",
       "</table>\n",
       "</div>"
      ],
      "text/plain": [
       "  token     autor     n      N\n",
       "0    aa  elonmusk  16.0  21719\n",
       "1   aaa  elonmusk   0.0  21719"
      ]
     },
     "metadata": {},
     "output_type": "display_data"
    },
    {
     "data": {
      "text/html": [
       "<div>\n",
       "<style scoped>\n",
       "    .dataframe tbody tr th:only-of-type {\n",
       "        vertical-align: middle;\n",
       "    }\n",
       "\n",
       "    .dataframe tbody tr th {\n",
       "        vertical-align: top;\n",
       "    }\n",
       "\n",
       "    .dataframe thead th {\n",
       "        text-align: right;\n",
       "    }\n",
       "</style>\n",
       "<table border=\"1\" class=\"dataframe\">\n",
       "  <thead>\n",
       "    <tr style=\"text-align: right;\">\n",
       "      <th></th>\n",
       "      <th>elonmusk</th>\n",
       "      <th>mayoredlee</th>\n",
       "      <th>log_odds</th>\n",
       "      <th>abs_log_odds</th>\n",
       "      <th>autor_frecuente</th>\n",
       "    </tr>\n",
       "    <tr>\n",
       "      <th>token</th>\n",
       "      <th></th>\n",
       "      <th></th>\n",
       "      <th></th>\n",
       "      <th></th>\n",
       "      <th></th>\n",
       "    </tr>\n",
       "  </thead>\n",
       "  <tbody>\n",
       "    <tr>\n",
       "      <th>aa</th>\n",
       "      <td>0.000783</td>\n",
       "      <td>0.000037</td>\n",
       "      <td>3.038782</td>\n",
       "      <td>3.038782</td>\n",
       "      <td>elonmusk</td>\n",
       "    </tr>\n",
       "    <tr>\n",
       "      <th>aaa</th>\n",
       "      <td>0.000046</td>\n",
       "      <td>0.000112</td>\n",
       "      <td>-0.893044</td>\n",
       "      <td>0.893044</td>\n",
       "      <td>mayoredlee</td>\n",
       "    </tr>\n",
       "    <tr>\n",
       "      <th>aaja</th>\n",
       "      <td>0.000046</td>\n",
       "      <td>0.000112</td>\n",
       "      <td>-0.893044</td>\n",
       "      <td>0.893044</td>\n",
       "      <td>mayoredlee</td>\n",
       "    </tr>\n",
       "    <tr>\n",
       "      <th>aakashhh</th>\n",
       "      <td>0.000092</td>\n",
       "      <td>0.000037</td>\n",
       "      <td>0.898715</td>\n",
       "      <td>0.898715</td>\n",
       "      <td>elonmusk</td>\n",
       "    </tr>\n",
       "    <tr>\n",
       "      <th>aamir</th>\n",
       "      <td>0.000046</td>\n",
       "      <td>0.000037</td>\n",
       "      <td>0.205568</td>\n",
       "      <td>0.205568</td>\n",
       "      <td>elonmusk</td>\n",
       "    </tr>\n",
       "  </tbody>\n",
       "</table>\n",
       "</div>"
      ],
      "text/plain": [
       "          elonmusk  mayoredlee  log_odds  abs_log_odds autor_frecuente\n",
       "token                                                                 \n",
       "aa        0.000783    0.000037  3.038782      3.038782        elonmusk\n",
       "aaa       0.000046    0.000112 -0.893044      0.893044      mayoredlee\n",
       "aaja      0.000046    0.000112 -0.893044      0.893044      mayoredlee\n",
       "aakashhh  0.000092    0.000037  0.898715      0.898715        elonmusk\n",
       "aamir     0.000046    0.000037  0.205568      0.205568        elonmusk"
      ]
     },
     "metadata": {},
     "output_type": "display_data"
    }
   ],
   "source": [
    "# Cálculo del log of odds ratio de cada palabra (elonmusk vs mayoredlee)\n",
    "# ==============================================================================\n",
    "# Pivotaje y despivotaje\n",
    "display(tweets_tidy.head(2))\n",
    "tweets_pivot = tweets_tidy.groupby([\"autor\",\"token\"])[\"token\"] \\\n",
    "                .agg([\"count\"]).reset_index() \\\n",
    "                .pivot(index = \"token\" , columns=\"autor\", values= \"count\")\n",
    "\n",
    "tweets_pivot = tweets_pivot.fillna(value=0)\n",
    "tweets_pivot.columns.name = None\n",
    "\n",
    "display(tweets_pivot.head(2))\n",
    "\n",
    "tweets_unpivot = tweets_pivot.melt(value_name='n', var_name='autor', ignore_index=False)\n",
    "tweets_unpivot = tweets_unpivot.reset_index()\n",
    "\n",
    "display(tweets_unpivot.head(2))\n",
    "\n",
    "# Selección de los autores elonmusk y mayoredlee\n",
    "tweets_unpivot = tweets_unpivot[tweets_unpivot.autor.isin(['elonmusk', 'mayoredlee'])]\n",
    "\n",
    "# Se añade el total de palabras de cada autor\n",
    "tweets_unpivot = tweets_unpivot.merge(\n",
    "                    tweets_tidy.groupby('autor')['token'].count().rename('N'),\n",
    "                    how = 'left',\n",
    "                    on  = 'autor'\n",
    "                 )\n",
    "\n",
    "display(tweets_unpivot.head(2))\n",
    "\n",
    "# Cálculo de odds y log of odds de cada palabra\n",
    "tweets_logOdds = tweets_unpivot.copy()\n",
    "tweets_logOdds['odds'] = (tweets_logOdds.n + 1) / (tweets_logOdds.N + 1)\n",
    "tweets_logOdds = tweets_logOdds[['token', 'autor', 'odds']] \\\n",
    "                    .pivot(index='token', columns='autor', values='odds')\n",
    "tweets_logOdds.columns.name = None\n",
    "\n",
    "tweets_logOdds['log_odds']     = np.log(tweets_logOdds.elonmusk/tweets_logOdds.mayoredlee)\n",
    "tweets_logOdds['abs_log_odds'] = np.abs(tweets_logOdds.log_odds)\n",
    "\n",
    "# Si el logaritmo de odds es mayor que cero, significa que es una palabra con\n",
    "# mayor probabilidad de ser de Elon Musk. Esto es así porque el ratio sea ha\n",
    "# calculado como elonmusk/mayoredlee.\n",
    "tweets_logOdds['autor_frecuente'] = np.where(tweets_logOdds.log_odds > 0,\n",
    "                                              \"elonmusk\",\n",
    "                                              \"mayoredlee\"\n",
    "                                    )\n",
    "\n",
    "display(tweets_logOdds.head(5))"
   ]
  },
  {
   "cell_type": "code",
   "execution_count": 24,
   "id": "c5eb6545",
   "metadata": {},
   "outputs": [
    {
     "name": "stdout",
     "output_type": "stream",
     "text": [
      "-----------------------------------\n",
      "Top 10 palabras más diferenciadoras\n",
      "-----------------------------------\n"
     ]
    },
    {
     "data": {
      "text/html": [
       "<div>\n",
       "<style scoped>\n",
       "    .dataframe tbody tr th:only-of-type {\n",
       "        vertical-align: middle;\n",
       "    }\n",
       "\n",
       "    .dataframe tbody tr th {\n",
       "        vertical-align: top;\n",
       "    }\n",
       "\n",
       "    .dataframe thead th {\n",
       "        text-align: right;\n",
       "    }\n",
       "</style>\n",
       "<table border=\"1\" class=\"dataframe\">\n",
       "  <thead>\n",
       "    <tr style=\"text-align: right;\">\n",
       "      <th></th>\n",
       "      <th>elonmusk</th>\n",
       "      <th>mayoredlee</th>\n",
       "      <th>log_odds</th>\n",
       "      <th>abs_log_odds</th>\n",
       "      <th>autor_frecuente</th>\n",
       "    </tr>\n",
       "    <tr>\n",
       "      <th>token</th>\n",
       "      <th></th>\n",
       "      <th></th>\n",
       "      <th></th>\n",
       "      <th></th>\n",
       "      <th></th>\n",
       "    </tr>\n",
       "  </thead>\n",
       "  <tbody>\n",
       "    <tr>\n",
       "      <th>tesla</th>\n",
       "      <td>0.012569</td>\n",
       "      <td>0.000037</td>\n",
       "      <td>5.815040</td>\n",
       "      <td>5.815040</td>\n",
       "      <td>elonmusk</td>\n",
       "    </tr>\n",
       "    <tr>\n",
       "      <th>residents</th>\n",
       "      <td>0.000046</td>\n",
       "      <td>0.009934</td>\n",
       "      <td>-5.374162</td>\n",
       "      <td>5.374162</td>\n",
       "      <td>mayoredlee</td>\n",
       "    </tr>\n",
       "    <tr>\n",
       "      <th>yes</th>\n",
       "      <td>0.005525</td>\n",
       "      <td>0.000037</td>\n",
       "      <td>4.993060</td>\n",
       "      <td>4.993060</td>\n",
       "      <td>elonmusk</td>\n",
       "    </tr>\n",
       "    <tr>\n",
       "      <th>rocket</th>\n",
       "      <td>0.005064</td>\n",
       "      <td>0.000037</td>\n",
       "      <td>4.906049</td>\n",
       "      <td>4.906049</td>\n",
       "      <td>elonmusk</td>\n",
       "    </tr>\n",
       "    <tr>\n",
       "      <th>community</th>\n",
       "      <td>0.000046</td>\n",
       "      <td>0.005960</td>\n",
       "      <td>-4.863336</td>\n",
       "      <td>4.863336</td>\n",
       "      <td>mayoredlee</td>\n",
       "    </tr>\n",
       "    <tr>\n",
       "      <th>spacex</th>\n",
       "      <td>0.004742</td>\n",
       "      <td>0.000037</td>\n",
       "      <td>4.840297</td>\n",
       "      <td>4.840297</td>\n",
       "      <td>elonmusk</td>\n",
       "    </tr>\n",
       "    <tr>\n",
       "      <th>sf</th>\n",
       "      <td>0.000276</td>\n",
       "      <td>0.034112</td>\n",
       "      <td>-4.816117</td>\n",
       "      <td>4.816117</td>\n",
       "      <td>mayoredlee</td>\n",
       "    </tr>\n",
       "    <tr>\n",
       "      <th>falcon</th>\n",
       "      <td>0.003775</td>\n",
       "      <td>0.000037</td>\n",
       "      <td>4.612288</td>\n",
       "      <td>4.612288</td>\n",
       "      <td>elonmusk</td>\n",
       "    </tr>\n",
       "    <tr>\n",
       "      <th>landing</th>\n",
       "      <td>0.003039</td>\n",
       "      <td>0.000037</td>\n",
       "      <td>4.395223</td>\n",
       "      <td>4.395223</td>\n",
       "      <td>elonmusk</td>\n",
       "    </tr>\n",
       "    <tr>\n",
       "      <th>housing</th>\n",
       "      <td>0.000092</td>\n",
       "      <td>0.006860</td>\n",
       "      <td>-4.310771</td>\n",
       "      <td>4.310771</td>\n",
       "      <td>mayoredlee</td>\n",
       "    </tr>\n",
       "  </tbody>\n",
       "</table>\n",
       "</div>"
      ],
      "text/plain": [
       "           elonmusk  mayoredlee  log_odds  abs_log_odds autor_frecuente\n",
       "token                                                                  \n",
       "tesla      0.012569    0.000037  5.815040      5.815040        elonmusk\n",
       "residents  0.000046    0.009934 -5.374162      5.374162      mayoredlee\n",
       "yes        0.005525    0.000037  4.993060      4.993060        elonmusk\n",
       "rocket     0.005064    0.000037  4.906049      4.906049        elonmusk\n",
       "community  0.000046    0.005960 -4.863336      4.863336      mayoredlee\n",
       "spacex     0.004742    0.000037  4.840297      4.840297        elonmusk\n",
       "sf         0.000276    0.034112 -4.816117      4.816117      mayoredlee\n",
       "falcon     0.003775    0.000037  4.612288      4.612288        elonmusk\n",
       "landing    0.003039    0.000037  4.395223      4.395223        elonmusk\n",
       "housing    0.000092    0.006860 -4.310771      4.310771      mayoredlee"
      ]
     },
     "execution_count": 24,
     "metadata": {},
     "output_type": "execute_result"
    }
   ],
   "source": [
    "print('-----------------------------------')\n",
    "print('Top 10 palabras más diferenciadoras')\n",
    "print('-----------------------------------')\n",
    "tweets_logOdds.sort_values('abs_log_odds', ascending=False).head(10)"
   ]
  },
  {
   "cell_type": "code",
   "execution_count": 25,
   "id": "26071398",
   "metadata": {},
   "outputs": [
    {
     "data": {
      "image/png": "[encoded data removed]",
      "text/plain": [
       "<Figure size 288x504 with 1 Axes>"
      ]
     },
     "metadata": {
      "needs_background": "light"
     },
     "output_type": "display_data"
    }
   ],
   "source": [
    "# Top 15 palabras más características de cada autor\n",
    "# ==============================================================================\n",
    "\n",
    "top_30 = tweets_logOdds[['log_odds', 'abs_log_odds', 'autor_frecuente']] \\\n",
    "        .groupby('autor_frecuente') \\\n",
    "        .apply(lambda x: x.nlargest(15, columns='abs_log_odds').reset_index()) \\\n",
    "        .reset_index(drop=True) \\\n",
    "        .sort_values('log_odds')\n",
    "\n",
    "f, ax = plt.subplots(figsize=(4, 7))\n",
    "sns.barplot(\n",
    "    x    = 'log_odds',\n",
    "    y    = 'token',\n",
    "    hue  = 'autor_frecuente',\n",
    "    data = top_30,\n",
    "    ax   = ax\n",
    ")\n",
    "ax.set_title('Top 15 palabras más características de cada autor')\n",
    "ax.set_xlabel('log odds ratio (@elonmusk / mayoredlee)');"
   ]
  },
  {
   "cell_type": "markdown",
   "id": "15c11d93-ae74-4b35-a345-a58a5a7bf649",
   "metadata": {},
   "source": [
    "Estas palabras posiblemente tendrán mucho peso a la hora de clasificar los tweets. "
   ]
  },
  {
   "cell_type": "markdown",
   "id": "60d3ed59-21e2-4ff7-a21b-65b44d59e166",
   "metadata": {},
   "source": [
    "## Term Frequency e Inverse Document Frequency"
   ]
  },
  {
   "cell_type": "markdown",
   "id": "1ee1cbc9-0f33-407e-b794-bdfc0c9282de",
   "metadata": {},
   "source": [
    "Uno de los principales intereses en text mining, natural language processing e information retrieval es cuantificar la temática de un texto, así como la importancia de cada término que lo forma. Una manera sencilla de medir la importancia de un término dentro de un documento es utilizando la frecuencia con la que aparece (tf, term-frequency). Esta aproximación, aunque simple, tiene la limitación de atribuir mucha importancia a aquellas palabras que aparecen muchas veces aunque no aporten información selectiva. Por ejemplo, si la palabra matemáticas aparece 5 veces en un documento y la palabra página aparece 50, la segunda tendrá 10 veces más peso a pesar de que no aporte tanta información sobre la temática del documento. Para solucionar este problema se pueden ponderar los valores tf multiplicándolos por la inversa de la frecuencia con la que el término en cuestión aparece en el resto de documentos(idf). De esta forma, se consigue reducir el valor de aquellos términos que aparecen en muchos documentos y que, por lo tanto, no aportan información selectiva.\n",
    "\n",
    "El estadístico tf-idf mide cómo de informativo es un término en un documento teniendo en cuenta la frecuencia con la que ese término aparece en otros documentos.\n",
    "\n",
    "**Term Frequency (tf)**\n",
    "\n",
    "tf (t, d)=nt / longitud d\n",
    "\n",
    "donde nt es el número de veces que aparece el término t en el documento d.\n",
    "\n",
    "**Inverse Document Frequency**\n",
    "\n",
    "idf (t)=log(ndn(d,t))\n",
    "\n",
    "donde nd es el número total de documentos y n(d,t) el número de documentos que contienen el término t.\n",
    "\n",
    "**Estadístico tf-idf**\n",
    "\n",
    "tf-idf(t, d)=tf (t, d)∗idf (t)\n",
    "\n",
    "En la práctica, para evitar problemas con el logaritmo cuando aparecen valores de 0, se emplea una versión corregida del idf (t). Esta es la versión implementada en Scikit Learn.\n",
    "\n",
    "idf (t)=log1+nd1+n(d,t)+1\n",
    "\n",
    "En los siguientes apartados se muestra cómo calcular el valor tf-idf Sin embargo, en la práctica, es preferible utilizar implementaciones como `TfidfVectorizer` de Scikit Learn. "
   ]
  },
  {
   "cell_type": "code",
   "execution_count": 32,
   "id": "d907174b-21c4-4091-8ab3-58c59309847d",
   "metadata": {},
   "outputs": [
    {
     "data": {
      "text/html": [
       "<div>\n",
       "<style scoped>\n",
       "    .dataframe tbody tr th:only-of-type {\n",
       "        vertical-align: middle;\n",
       "    }\n",
       "\n",
       "    .dataframe tbody tr th {\n",
       "        vertical-align: top;\n",
       "    }\n",
       "\n",
       "    .dataframe thead th {\n",
       "        text-align: right;\n",
       "    }\n",
       "</style>\n",
       "<table border=\"1\" class=\"dataframe\">\n",
       "  <thead>\n",
       "    <tr style=\"text-align: right;\">\n",
       "      <th></th>\n",
       "      <th>autor</th>\n",
       "      <th>fecha</th>\n",
       "      <th>id</th>\n",
       "      <th>token</th>\n",
       "    </tr>\n",
       "  </thead>\n",
       "  <tbody>\n",
       "    <tr>\n",
       "      <th>0</th>\n",
       "      <td>elonmusk</td>\n",
       "      <td>2017-11-09 17:28:57+00:00</td>\n",
       "      <td>9.286758e+17</td>\n",
       "      <td>one</td>\n",
       "    </tr>\n",
       "    <tr>\n",
       "      <th>0</th>\n",
       "      <td>elonmusk</td>\n",
       "      <td>2017-11-09 17:28:57+00:00</td>\n",
       "      <td>9.286758e+17</td>\n",
       "      <td>day</td>\n",
       "    </tr>\n",
       "  </tbody>\n",
       "</table>\n",
       "</div>"
      ],
      "text/plain": [
       "      autor                     fecha            id token\n",
       "0  elonmusk 2017-11-09 17:28:57+00:00  9.286758e+17   one\n",
       "0  elonmusk 2017-11-09 17:28:57+00:00  9.286758e+17   day"
      ]
     },
     "metadata": {},
     "output_type": "display_data"
    },
    {
     "data": {
      "text/html": [
       "<div>\n",
       "<style scoped>\n",
       "    .dataframe tbody tr th:only-of-type {\n",
       "        vertical-align: middle;\n",
       "    }\n",
       "\n",
       "    .dataframe tbody tr th {\n",
       "        vertical-align: top;\n",
       "    }\n",
       "\n",
       "    .dataframe thead th {\n",
       "        text-align: right;\n",
       "    }\n",
       "</style>\n",
       "<table border=\"1\" class=\"dataframe\">\n",
       "  <thead>\n",
       "    <tr style=\"text-align: right;\">\n",
       "      <th></th>\n",
       "      <th>id</th>\n",
       "      <th>token</th>\n",
       "      <th>count</th>\n",
       "    </tr>\n",
       "  </thead>\n",
       "  <tbody>\n",
       "    <tr>\n",
       "      <th>0</th>\n",
       "      <td>1.195196e+17</td>\n",
       "      <td>efforts</td>\n",
       "      <td>1</td>\n",
       "    </tr>\n",
       "    <tr>\n",
       "      <th>1</th>\n",
       "      <td>1.195196e+17</td>\n",
       "      <td>eradicating</td>\n",
       "      <td>1</td>\n",
       "    </tr>\n",
       "  </tbody>\n",
       "</table>\n",
       "</div>"
      ],
      "text/plain": [
       "             id        token  count\n",
       "0  1.195196e+17      efforts      1\n",
       "1  1.195196e+17  eradicating      1"
      ]
     },
     "metadata": {},
     "output_type": "display_data"
    },
    {
     "data": {
      "text/html": [
       "<div>\n",
       "<style scoped>\n",
       "    .dataframe tbody tr th:only-of-type {\n",
       "        vertical-align: middle;\n",
       "    }\n",
       "\n",
       "    .dataframe tbody tr th {\n",
       "        vertical-align: top;\n",
       "    }\n",
       "\n",
       "    .dataframe thead th {\n",
       "        text-align: right;\n",
       "    }\n",
       "</style>\n",
       "<table border=\"1\" class=\"dataframe\">\n",
       "  <thead>\n",
       "    <tr style=\"text-align: right;\">\n",
       "      <th></th>\n",
       "      <th>id</th>\n",
       "      <th>token</th>\n",
       "      <th>count</th>\n",
       "      <th>total_count</th>\n",
       "      <th>tf</th>\n",
       "    </tr>\n",
       "  </thead>\n",
       "  <tbody>\n",
       "    <tr>\n",
       "      <th>8158</th>\n",
       "      <td>3.546906e+17</td>\n",
       "      <td>bar</td>\n",
       "      <td>1</td>\n",
       "      <td>20</td>\n",
       "      <td>0.05</td>\n",
       "    </tr>\n",
       "    <tr>\n",
       "      <th>8159</th>\n",
       "      <td>3.546906e+17</td>\n",
       "      <td>barman</td>\n",
       "      <td>1</td>\n",
       "      <td>20</td>\n",
       "      <td>0.05</td>\n",
       "    </tr>\n",
       "    <tr>\n",
       "      <th>8164</th>\n",
       "      <td>3.546906e+17</td>\n",
       "      <td>says</td>\n",
       "      <td>1</td>\n",
       "      <td>20</td>\n",
       "      <td>0.05</td>\n",
       "    </tr>\n",
       "  </tbody>\n",
       "</table>\n",
       "</div>"
      ],
      "text/plain": [
       "                id   token  count  total_count    tf\n",
       "8158  3.546906e+17     bar      1           20  0.05\n",
       "8159  3.546906e+17  barman      1           20  0.05\n",
       "8164  3.546906e+17    says      1           20  0.05"
      ]
     },
     "execution_count": 32,
     "metadata": {},
     "output_type": "execute_result"
    }
   ],
   "source": [
    "# Cálculo term-frecuency (tf)\n",
    "# ==============================================================================\n",
    "tf = tweets_tidy.copy()\n",
    "display(tf.head(2))\n",
    "# Número de veces que aparece cada término en cada tweet\n",
    "tf = tf.groupby([\"id\", \"token\"])[\"token\"].agg([\"count\"]).reset_index()\n",
    "display(tf.head(2))\n",
    "# Se añade una columna con el total de términos por tweet\n",
    "tf['total_count'] = tf.groupby('id')['count'].transform(sum)\n",
    "# Se calcula el tf\n",
    "tf['tf'] = tf[\"count\"] / tf[\"total_count\"]\n",
    "tf.sort_values(by = \"tf\").head(3)"
   ]
  },
  {
   "cell_type": "code",
   "execution_count": 33,
   "id": "56d14a98",
   "metadata": {},
   "outputs": [
    {
     "data": {
      "text/html": [
       "<div>\n",
       "<style scoped>\n",
       "    .dataframe tbody tr th:only-of-type {\n",
       "        vertical-align: middle;\n",
       "    }\n",
       "\n",
       "    .dataframe tbody tr th {\n",
       "        vertical-align: top;\n",
       "    }\n",
       "\n",
       "    .dataframe thead th {\n",
       "        text-align: right;\n",
       "    }\n",
       "</style>\n",
       "<table border=\"1\" class=\"dataframe\">\n",
       "  <thead>\n",
       "    <tr style=\"text-align: right;\">\n",
       "      <th></th>\n",
       "      <th>token</th>\n",
       "      <th>n_documentos</th>\n",
       "      <th>idf</th>\n",
       "    </tr>\n",
       "  </thead>\n",
       "  <tbody>\n",
       "    <tr>\n",
       "      <th>50471</th>\n",
       "      <td>sf</td>\n",
       "      <td>914</td>\n",
       "      <td>2.061781</td>\n",
       "    </tr>\n",
       "    <tr>\n",
       "      <th>8724</th>\n",
       "      <td>city</td>\n",
       "      <td>355</td>\n",
       "      <td>3.007494</td>\n",
       "    </tr>\n",
       "    <tr>\n",
       "      <th>22823</th>\n",
       "      <td>great</td>\n",
       "      <td>327</td>\n",
       "      <td>3.089651</td>\n",
       "    </tr>\n",
       "  </tbody>\n",
       "</table>\n",
       "</div>"
      ],
      "text/plain": [
       "       token  n_documentos       idf\n",
       "50471     sf           914  2.061781\n",
       "8724    city           355  3.007494\n",
       "22823  great           327  3.089651"
      ]
     },
     "execution_count": 33,
     "metadata": {},
     "output_type": "execute_result"
    }
   ],
   "source": [
    "# Inverse document frequency\n",
    "# ==============================================================================\n",
    "idf = tweets_tidy.copy()\n",
    "total_documents = idf[\"id\"].drop_duplicates().count()\n",
    "# Número de documentos (tweets) en los que aparece cada término\n",
    "idf = idf.groupby([\"token\", \"id\"])[\"token\"].agg([\"count\"]).reset_index()\n",
    "idf['n_documentos'] = idf.groupby('token')['count'].transform(sum)\n",
    "# Cálculo del idf\n",
    "idf['idf'] = np.log(total_documents / idf['n_documentos'])\n",
    "idf = idf[[\"token\",\"n_documentos\", \"idf\"]].drop_duplicates()\n",
    "idf.sort_values(by=\"idf\").head(3)"
   ]
  },
  {
   "cell_type": "code",
   "execution_count": 34,
   "id": "e564c2d5-4b86-4552-b3c3-c0fb686ba3a1",
   "metadata": {},
   "outputs": [
    {
     "data": {
      "text/html": [
       "<div>\n",
       "<style scoped>\n",
       "    .dataframe tbody tr th:only-of-type {\n",
       "        vertical-align: middle;\n",
       "    }\n",
       "\n",
       "    .dataframe tbody tr th {\n",
       "        vertical-align: top;\n",
       "    }\n",
       "\n",
       "    .dataframe thead th {\n",
       "        text-align: right;\n",
       "    }\n",
       "</style>\n",
       "<table border=\"1\" class=\"dataframe\">\n",
       "  <thead>\n",
       "    <tr style=\"text-align: right;\">\n",
       "      <th></th>\n",
       "      <th>id</th>\n",
       "      <th>token</th>\n",
       "      <th>count</th>\n",
       "      <th>total_count</th>\n",
       "      <th>tf</th>\n",
       "      <th>n_documentos</th>\n",
       "      <th>idf</th>\n",
       "      <th>tf_idf</th>\n",
       "    </tr>\n",
       "  </thead>\n",
       "  <tbody>\n",
       "    <tr>\n",
       "      <th>0</th>\n",
       "      <td>1.195196e+17</td>\n",
       "      <td>efforts</td>\n",
       "      <td>1</td>\n",
       "      <td>13</td>\n",
       "      <td>0.076923</td>\n",
       "      <td>31</td>\n",
       "      <td>5.445624</td>\n",
       "      <td>0.418894</td>\n",
       "    </tr>\n",
       "    <tr>\n",
       "      <th>46</th>\n",
       "      <td>1.195196e+17</td>\n",
       "      <td>job</td>\n",
       "      <td>1</td>\n",
       "      <td>13</td>\n",
       "      <td>0.076923</td>\n",
       "      <td>36</td>\n",
       "      <td>5.296093</td>\n",
       "      <td>0.407392</td>\n",
       "    </tr>\n",
       "    <tr>\n",
       "      <th>229</th>\n",
       "      <td>1.195196e+17</td>\n",
       "      <td>nigeria</td>\n",
       "      <td>1</td>\n",
       "      <td>13</td>\n",
       "      <td>0.076923</td>\n",
       "      <td>10</td>\n",
       "      <td>6.577027</td>\n",
       "      <td>0.505925</td>\n",
       "    </tr>\n",
       "    <tr>\n",
       "      <th>239</th>\n",
       "      <td>1.195196e+17</td>\n",
       "      <td>phenomenal</td>\n",
       "      <td>1</td>\n",
       "      <td>13</td>\n",
       "      <td>0.076923</td>\n",
       "      <td>14</td>\n",
       "      <td>6.240554</td>\n",
       "      <td>0.480043</td>\n",
       "    </tr>\n",
       "    <tr>\n",
       "      <th>253</th>\n",
       "      <td>1.195196e+17</td>\n",
       "      <td>polio</td>\n",
       "      <td>1</td>\n",
       "      <td>13</td>\n",
       "      <td>0.076923</td>\n",
       "      <td>102</td>\n",
       "      <td>4.254639</td>\n",
       "      <td>0.327280</td>\n",
       "    </tr>\n",
       "  </tbody>\n",
       "</table>\n",
       "</div>"
      ],
      "text/plain": [
       "               id       token  count  total_count        tf  n_documentos  \\\n",
       "0    1.195196e+17     efforts      1           13  0.076923            31   \n",
       "46   1.195196e+17         job      1           13  0.076923            36   \n",
       "229  1.195196e+17     nigeria      1           13  0.076923            10   \n",
       "239  1.195196e+17  phenomenal      1           13  0.076923            14   \n",
       "253  1.195196e+17       polio      1           13  0.076923           102   \n",
       "\n",
       "          idf    tf_idf  \n",
       "0    5.445624  0.418894  \n",
       "46   5.296093  0.407392  \n",
       "229  6.577027  0.505925  \n",
       "239  6.240554  0.480043  \n",
       "253  4.254639  0.327280  "
      ]
     },
     "execution_count": 34,
     "metadata": {},
     "output_type": "execute_result"
    }
   ],
   "source": [
    "# Term Frequency - Inverse Document Frequency\n",
    "# ==============================================================================\n",
    "tf_idf = pd.merge(left=tf, right=idf, on=\"token\")\n",
    "tf_idf[\"tf_idf\"] = tf_idf[\"tf\"] * tf_idf[\"idf\"]\n",
    "tf_idf.sort_values(by=\"id\").head()"
   ]
  },
  {
   "cell_type": "markdown",
   "id": "19843ec5-019c-4a61-8f7e-23f870572908",
   "metadata": {},
   "source": [
    "Puede observarse que para el primer tweet (id = 1.195196e+17), todos los términos que aparecen una vez, tienen el mismo valor de tf, sin embargo, dado que no todos los términos aparecen con la misma frecuencia en el conjunto de todos los tweets, la corrección de idf es distinta para cada uno.\n",
    "\n",
    "De nuevo remarcar que, si bien se ha realizado el cálculo de forma manual con fines ilustrativos, en la práctica, es preferible utilizar implementaciones optimizadas como es el caso de la clase `TfidfVectorizer` de **Scikit Learn**. "
   ]
  },
  {
   "cell_type": "markdown",
   "id": "2abe13c3-0bda-462d-8cbe-783413ead9f8",
   "metadata": {
    "tags": []
   },
   "source": [
    "## Clasificación de tweets\n",
    "<br>\n",
    "\n",
    "Para poder aplicar algoritmos de clasificación a un texto, es necesario crear una representación numérica del mismo. Una de las formas más utilizadas se conoce como Bag of Words. Este método consiste en identificar el set formado por todas las palabras (tokens) que aparecen en el corpus, en este caso el conjunto de todos los tweets recuperados. Con este set se crea un espacio n-dimensional en el que cada dimensión (columna) es una palabra. Por último, se proyecta cada texto en ese espacio, asignando un valor para cada dimensión. En la mayoría de casos, el valor utilizado es el tf-idf.\n",
    "\n",
    "En el siguiente apartado se construye un modelo de aprendizaje estadístico basado en máquinas de vector soporte (SVM) con el objetivo de predecir la autoría de los tweets. En concreto, se comparan los tweets de Elon Musk y Mayor Ed Lee.\n",
    "\n",
    "Como modelo se emplea un `SVM` de Scikit-Learn. Para facilitar la obtención de la matriz TF-IDF se recurre a la clase `TfidVectorized` también de Scikit-Learn pero, en lugar de utilizar el tokenizador por defecto, se emplea el mismo definido en los apartados anteriores. "
   ]
  },
  {
   "cell_type": "markdown",
   "id": "44964507-11af-4b05-a861-70625e191771",
   "metadata": {},
   "source": [
    "### Train-Test\n",
    "<br>\n",
    "\n",
    "En todo proceso de aprendizaje estadístico es recomendable repartir las observaciones en un set de entrenamiento y otro de test. Esto permite evaluar la capacidad del modelo. Para este ejercicio se selecciona como test un 20% aleatorio de los tweets."
   ]
  },
  {
   "cell_type": "code",
   "execution_count": 35,
   "id": "43a0185b-e97b-4481-880e-635354806d4f",
   "metadata": {},
   "outputs": [],
   "source": [
    "# Reparto train y test\n",
    "# ==============================================================================\n",
    "datos_X = tweets.loc[tweets.autor.isin(['elonmusk', 'mayoredlee']), 'texto']\n",
    "datos_y = tweets.loc[tweets.autor.isin(['elonmusk', 'mayoredlee']), 'autor']\n",
    "\n",
    "X_train, X_test, y_train, y_test = train_test_split(\n",
    "    datos_X,\n",
    "    datos_y,\n",
    "    test_size = 0.2,\n",
    "    random_state = 123\n",
    ")"
   ]
  },
  {
   "cell_type": "markdown",
   "id": "123fc660-92e2-4321-ba2e-a9fec1aefc20",
   "metadata": {},
   "source": [
    "Es importante verificar que la proporción de cada grupo es similar en el set de entrenamiento y en el de test."
   ]
  },
  {
   "cell_type": "code",
   "execution_count": 36,
   "id": "c148bb6e-6ec0-4131-8d55-444aa590cbc4",
   "metadata": {},
   "outputs": [
    {
     "name": "stdout",
     "output_type": "stream",
     "text": [
      "{'elonmusk': 52.68292682926829, 'mayoredlee': 47.31707317073171}\n",
      "{'elonmusk': 50.53658536585366, 'mayoredlee': 49.46341463414634}\n"
     ]
    }
   ],
   "source": [
    "value, counts = np.unique(y_train, return_counts=True)\n",
    "print(dict(zip(value, 100 * counts / sum(counts))))\n",
    "value, counts = np.unique(y_test, return_counts=True)\n",
    "print(dict(zip(value, 100 * counts / sum(counts))))"
   ]
  },
  {
   "cell_type": "markdown",
   "id": "7f2d9f1c-1829-46ec-bbbb-7b198a880f96",
   "metadata": {},
   "source": [
    "### Vectorización tf-idf\n",
    "<br>\n",
    "\n",
    "Empleando los tweets de entrenamiento se crea un matriz tf-idf en la que cada columna es un término, cada fila un documento y el valor de intersección el tf-idf correspondiente. Esta matriz representa el espacio n-dimensional en el que se proyecta cada tweet.\n",
    "\n",
    "La clase [TfidfVectorizer](https://scikit-learn.org/stable/modules/generated/sklearn.feature_extraction.text.TfidfVectorizer.html) de Scikit Learn automatizan la creación de una matriz df-idf a partir de un corpus de documentos. Entre sus argumentos destaca:\n",
    "\n",
    "+ `encoding`: el tipo de codificación del texto, por defecto es 'utf-8'.\n",
    "\n",
    "+ `strip_accents`: eliminación de acentos sustituyendolos por la misma letra sin el acento. Por defecto se emplea el método ‘ascii’.\n",
    "\n",
    "+ `lowercase`: convertir a minúsculas todo el texto.\n",
    "\n",
    "+ `tokenizer`: en caso de querer pasar un tokenizador definido por el usuario o de otra librería.\n",
    "\n",
    "+ `analyzer`: tipo de división que realiza el tokenizador. Por defecto separa por palabras ('word').\n",
    "\n",
    "+ `stop_words`: lista de stopwords que se eliminan durante el tokenizado. Por defecto utiliza un listado para el inglés.\n",
    "\n",
    "+ `ngram_range`: rango de n-gramas incluidos. Por ejemplo, (1, 2) significa que se incluyen unigramas (palabras individuales) y bigramas (pares de palabras) como tokens.\n",
    "\n",
    "+ `min_df`: fracción o número de documentos en los que debe de aparecer como mínimo un término para no ser excluido en el tokenizado. Este filtrado es una forma de eliminar ruido del modelo."
   ]
  },
  {
   "cell_type": "code",
   "execution_count": 37,
   "id": "2d8b7a00-9d4d-44f7-895f-e4450d132251",
   "metadata": {},
   "outputs": [],
   "source": [
    "def limpiar_tokenizar(texto):\n",
    "    '''\n",
    "    Esta función limpia y tokeniza el texto en palabras individuales.\n",
    "    El orden en el que se va limpiando el texto no es arbitrario.\n",
    "    El listado de signos de puntuación se ha obtenido de: print(string.punctuation)\n",
    "    y re.escape(string.punctuation)\n",
    "    '''\n",
    "    \n",
    "    # Se convierte todo el texto a minúsculas\n",
    "    nuevo_texto = texto.lower()\n",
    "    # Eliminación de páginas web (palabras que empiezan por \"http\")\n",
    "    nuevo_texto = re.sub('http\\S+', ' ', nuevo_texto)\n",
    "    # Eliminación de signos de puntuación\n",
    "    regex = '[\\\\!\\\\\"\\\\#\\\\$\\\\%\\\\&\\\\\\'\\\\(\\\\)\\\\*\\\\+\\\\,\\\\-\\\\.\\\\/\\\\:\\\\;\\\\<\\\\=\\\\>\\\\?\\\\@\\\\[\\\\\\\\\\\\]\\\\^_\\\\`\\\\{\\\\|\\\\}\\\\~]'\n",
    "    nuevo_texto = re.sub(regex , ' ', nuevo_texto)\n",
    "    # Eliminación de números\n",
    "    nuevo_texto = re.sub(\"\\d+\", ' ', nuevo_texto)\n",
    "    # Eliminación de espacios en blanco múltiples\n",
    "    nuevo_texto = re.sub(\"\\\\s+\", ' ', nuevo_texto)\n",
    "    # Tokenización por palabras individuales\n",
    "    nuevo_texto = nuevo_texto.split(sep = ' ')\n",
    "    # Eliminación de tokens con una longitud < 2\n",
    "    nuevo_texto = [token for token in nuevo_texto if len(token) > 1]\n",
    "    \n",
    "    return(nuevo_texto)"
   ]
  },
  {
   "cell_type": "code",
   "execution_count": 38,
   "id": "e4d333f8-e30a-4ba0-9477-70e04d43847b",
   "metadata": {},
   "outputs": [],
   "source": [
    "stop_words = list(stopwords.words('english'))\n",
    "# Se añade la stopword: amp, ax, ex\n",
    "stop_words.extend((\"amp\", \"xa\", \"xe\"))"
   ]
  },
  {
   "cell_type": "code",
   "execution_count": 39,
   "id": "5967225a-93aa-4a8b-984d-2c0e5d28c945",
   "metadata": {},
   "outputs": [
    {
     "data": {
      "text/plain": [
       "TfidfVectorizer(min_df=3,\n",
       "                stop_words=['i', 'me', 'my', 'myself', 'we', 'our', 'ours',\n",
       "                            'ourselves', 'you', \"you're\", \"you've\", \"you'll\",\n",
       "                            \"you'd\", 'your', 'yours', 'yourself', 'yourselves',\n",
       "                            'he', 'him', 'his', 'himself', 'she', \"she's\",\n",
       "                            'her', 'hers', 'herself', 'it', \"it's\", 'its',\n",
       "                            'itself', ...],\n",
       "                tokenizer=<function limpiar_tokenizar at 0x7fc971c039e0>)"
      ]
     },
     "execution_count": 39,
     "metadata": {},
     "output_type": "execute_result"
    }
   ],
   "source": [
    "# Creación de la matriz tf-idf\n",
    "# ==============================================================================\n",
    "tfidf_vectorizador = TfidfVectorizer(\n",
    "                        tokenizer  = limpiar_tokenizar,\n",
    "                        min_df     = 3,\n",
    "                        stop_words = stop_words\n",
    "                    )\n",
    "tfidf_vectorizador.fit(X_train)"
   ]
  },
  {
   "cell_type": "markdown",
   "id": "172146af-534e-48cc-9def-573b97275aa5",
   "metadata": {},
   "source": [
    "A la hora de transformar los documentos de test, hay que proyectarlos en la misma matriz obtenida previamente con los documentos de entrenamiento. Esto es importante ya que, si en los documentos de test hay algún término que no aparece en los de entrenamiento o viceversa, las dimensiones de cada matriz no coinciden."
   ]
  },
  {
   "cell_type": "code",
   "execution_count": 40,
   "id": "445579cd-db07-4553-ab5a-c717f7fc5ce7",
   "metadata": {},
   "outputs": [],
   "source": [
    "tfidf_train = tfidf_vectorizador.transform(X_train)\n",
    "tfidf_test  = tfidf_vectorizador.transform(X_test)"
   ]
  },
  {
   "cell_type": "markdown",
   "id": "80b44633-90b9-4196-a08d-b7e143cdd008",
   "metadata": {},
   "source": [
    "Una vez que el objeto `TfidfVectorizer` ha sido entrenado, se puede acceder a los tokens creados con el método `get_feature_names()`."
   ]
  },
  {
   "cell_type": "code",
   "execution_count": 41,
   "id": "eb1128a6-cbd6-4e3a-a517-6d60b1467538",
   "metadata": {},
   "outputs": [
    {
     "name": "stdout",
     "output_type": "stream",
     "text": [
      " Número de tokens creados: 2738\n",
      "['aa', 'aapi', 'aaronpaul', 'able', 'abort', 'abt', 'ac', 'aca', 'accel', 'acceleration']\n"
     ]
    }
   ],
   "source": [
    "print(f\" Número de tokens creados: {len(tfidf_vectorizador.get_feature_names())}\")\n",
    "print(tfidf_vectorizador.get_feature_names()[:10])"
   ]
  },
  {
   "cell_type": "markdown",
   "id": "6ad191e8-0a89-42b2-97a2-3d24d1f7d72e",
   "metadata": {},
   "source": [
    "### Modelo SVM lineal"
   ]
  },
  {
   "cell_type": "markdown",
   "id": "f57d3991-d6d9-4b1a-a766-978eb89bdd6c",
   "metadata": {},
   "source": [
    "Como modelo de predicción se emplea un SVM. Para más información sobre cómo entrenar modelos de Scikit learn consultar [Machine learning con Python y Scikit-learn](https://www.cienciadedatos.net/documentos/py06_machine_learning_python_scikitlearn.html)."
   ]
  },
  {
   "cell_type": "code",
   "execution_count": 42,
   "id": "1057005d-8a1f-46fb-9cf6-b03c6b8e2919",
   "metadata": {},
   "outputs": [
    {
     "data": {
      "text/plain": [
       "SVC(kernel='linear')"
      ]
     },
     "execution_count": 42,
     "metadata": {},
     "output_type": "execute_result"
    }
   ],
   "source": [
    "# Entrenamiento del modelo SVM\n",
    "# ==============================================================================\n",
    "modelo_svm_lineal = svm.SVC(kernel= \"linear\", C = 1.0)\n",
    "modelo_svm_lineal.fit(X=tfidf_train, y= y_train)"
   ]
  },
  {
   "cell_type": "code",
   "execution_count": 43,
   "id": "10a0077e-34a8-4c92-89b3-75cd4c45d5c2",
   "metadata": {},
   "outputs": [
    {
     "data": {
      "text/html": [
       "<div>\n",
       "<style scoped>\n",
       "    .dataframe tbody tr th:only-of-type {\n",
       "        vertical-align: middle;\n",
       "    }\n",
       "\n",
       "    .dataframe tbody tr th {\n",
       "        vertical-align: top;\n",
       "    }\n",
       "\n",
       "    .dataframe thead th {\n",
       "        text-align: right;\n",
       "    }\n",
       "</style>\n",
       "<table border=\"1\" class=\"dataframe\">\n",
       "  <thead>\n",
       "    <tr style=\"text-align: right;\">\n",
       "      <th></th>\n",
       "      <th>param_C</th>\n",
       "      <th>mean_test_score</th>\n",
       "      <th>std_test_score</th>\n",
       "      <th>mean_train_score</th>\n",
       "      <th>std_train_score</th>\n",
       "    </tr>\n",
       "  </thead>\n",
       "  <tbody>\n",
       "    <tr>\n",
       "      <th>6</th>\n",
       "      <td>2.15443</td>\n",
       "      <td>0.967317</td>\n",
       "      <td>0.003123</td>\n",
       "      <td>0.997073</td>\n",
       "      <td>0.000366</td>\n",
       "    </tr>\n",
       "    <tr>\n",
       "      <th>5</th>\n",
       "      <td>0.278256</td>\n",
       "      <td>0.963902</td>\n",
       "      <td>0.001981</td>\n",
       "      <td>0.985244</td>\n",
       "      <td>0.000994</td>\n",
       "    </tr>\n",
       "    <tr>\n",
       "      <th>7</th>\n",
       "      <td>16.681</td>\n",
       "      <td>0.959756</td>\n",
       "      <td>0.004154</td>\n",
       "      <td>0.998720</td>\n",
       "      <td>0.000122</td>\n",
       "    </tr>\n",
       "    <tr>\n",
       "      <th>8</th>\n",
       "      <td>129.155</td>\n",
       "      <td>0.959024</td>\n",
       "      <td>0.005034</td>\n",
       "      <td>0.998780</td>\n",
       "      <td>0.000193</td>\n",
       "    </tr>\n",
       "    <tr>\n",
       "      <th>9</th>\n",
       "      <td>1000</td>\n",
       "      <td>0.959024</td>\n",
       "      <td>0.005034</td>\n",
       "      <td>0.998780</td>\n",
       "      <td>0.000193</td>\n",
       "    </tr>\n",
       "    <tr>\n",
       "      <th>4</th>\n",
       "      <td>0.0359381</td>\n",
       "      <td>0.753902</td>\n",
       "      <td>0.013545</td>\n",
       "      <td>0.772683</td>\n",
       "      <td>0.006535</td>\n",
       "    </tr>\n",
       "    <tr>\n",
       "      <th>0</th>\n",
       "      <td>1e-05</td>\n",
       "      <td>0.526829</td>\n",
       "      <td>0.000000</td>\n",
       "      <td>0.526829</td>\n",
       "      <td>0.000000</td>\n",
       "    </tr>\n",
       "    <tr>\n",
       "      <th>1</th>\n",
       "      <td>7.74264e-05</td>\n",
       "      <td>0.526829</td>\n",
       "      <td>0.000000</td>\n",
       "      <td>0.526829</td>\n",
       "      <td>0.000000</td>\n",
       "    </tr>\n",
       "    <tr>\n",
       "      <th>2</th>\n",
       "      <td>0.000599484</td>\n",
       "      <td>0.526829</td>\n",
       "      <td>0.000000</td>\n",
       "      <td>0.526829</td>\n",
       "      <td>0.000000</td>\n",
       "    </tr>\n",
       "    <tr>\n",
       "      <th>3</th>\n",
       "      <td>0.00464159</td>\n",
       "      <td>0.526829</td>\n",
       "      <td>0.000000</td>\n",
       "      <td>0.526829</td>\n",
       "      <td>0.000000</td>\n",
       "    </tr>\n",
       "  </tbody>\n",
       "</table>\n",
       "</div>"
      ],
      "text/plain": [
       "       param_C  mean_test_score  std_test_score  mean_train_score  \\\n",
       "6      2.15443         0.967317        0.003123          0.997073   \n",
       "5     0.278256         0.963902        0.001981          0.985244   \n",
       "7       16.681         0.959756        0.004154          0.998720   \n",
       "8      129.155         0.959024        0.005034          0.998780   \n",
       "9         1000         0.959024        0.005034          0.998780   \n",
       "4    0.0359381         0.753902        0.013545          0.772683   \n",
       "0        1e-05         0.526829        0.000000          0.526829   \n",
       "1  7.74264e-05         0.526829        0.000000          0.526829   \n",
       "2  0.000599484         0.526829        0.000000          0.526829   \n",
       "3   0.00464159         0.526829        0.000000          0.526829   \n",
       "\n",
       "   std_train_score  \n",
       "6         0.000366  \n",
       "5         0.000994  \n",
       "7         0.000122  \n",
       "8         0.000193  \n",
       "9         0.000193  \n",
       "4         0.006535  \n",
       "0         0.000000  \n",
       "1         0.000000  \n",
       "2         0.000000  \n",
       "3         0.000000  "
      ]
     },
     "execution_count": 43,
     "metadata": {},
     "output_type": "execute_result"
    }
   ],
   "source": [
    "# Grid de hiperparámetros\n",
    "# ==============================================================================\n",
    "param_grid = {'C': np.logspace(-5, 3, 10)}\n",
    "\n",
    "# Búsqueda por validación cruzada\n",
    "# ==============================================================================\n",
    "grid = GridSearchCV(\n",
    "        estimator  = svm.SVC(kernel= \"linear\"),\n",
    "        param_grid = param_grid,\n",
    "        scoring    = 'accuracy',\n",
    "        n_jobs     = -1,\n",
    "        cv         = 5, \n",
    "        verbose    = 0,\n",
    "        return_train_score = True\n",
    "      )\n",
    "\n",
    "# Se asigna el resultado a _ para que no se imprima por pantalla\n",
    "_ = grid.fit(X = tfidf_train, y = y_train)\n",
    "\n",
    "# Resultados del grid\n",
    "# ==============================================================================\n",
    "resultados = pd.DataFrame(grid.cv_results_)\n",
    "resultados.filter(regex = '(param.*|mean_t|std_t)')\\\n",
    "    .drop(columns = 'params')\\\n",
    "    .sort_values('mean_test_score', ascending = False)"
   ]
  },
  {
   "cell_type": "code",
   "execution_count": 44,
   "id": "dab36ada-0b1d-4c69-88b1-1b75b334c4c6",
   "metadata": {},
   "outputs": [
    {
     "name": "stdout",
     "output_type": "stream",
     "text": [
      "----------------------------------------\n",
      "Mejores hiperparámetros encontrados (cv)\n",
      "----------------------------------------\n",
      "{'C': 2.154434690031882} : 0.9673170731707316 accuracy\n"
     ]
    }
   ],
   "source": [
    "# Mejores hiperparámetros por validación cruzada\n",
    "# ==============================================================================\n",
    "print(\"----------------------------------------\")\n",
    "print(\"Mejores hiperparámetros encontrados (cv)\")\n",
    "print(\"----------------------------------------\")\n",
    "print(grid.best_params_, \":\", grid.best_score_, grid.scoring)\n",
    "\n",
    "modelo_final = grid.best_estimator_"
   ]
  },
  {
   "cell_type": "code",
   "execution_count": 45,
   "id": "00b8ae3d-59e6-448a-ab1f-81e99e1e335a",
   "metadata": {},
   "outputs": [
    {
     "name": "stdout",
     "output_type": "stream",
     "text": [
      "-------------\n",
      "Error de test\n",
      "-------------\n",
      "Número de clasificaciones erróneas de un total de 1025 clasificaciones: 21\n",
      "% de error: 2.048780487804878\n",
      "\n",
      "-------------------\n",
      "Matriz de confusión\n",
      "-------------------\n"
     ]
    },
    {
     "data": {
      "text/html": [
       "<div>\n",
       "<style scoped>\n",
       "    .dataframe tbody tr th:only-of-type {\n",
       "        vertical-align: middle;\n",
       "    }\n",
       "\n",
       "    .dataframe tbody tr th {\n",
       "        vertical-align: top;\n",
       "    }\n",
       "\n",
       "    .dataframe thead th {\n",
       "        text-align: right;\n",
       "    }\n",
       "</style>\n",
       "<table border=\"1\" class=\"dataframe\">\n",
       "  <thead>\n",
       "    <tr style=\"text-align: right;\">\n",
       "      <th></th>\n",
       "      <th>Elon Musk</th>\n",
       "      <th>Mayor Ed Lee</th>\n",
       "    </tr>\n",
       "  </thead>\n",
       "  <tbody>\n",
       "    <tr>\n",
       "      <th>Elon Musk</th>\n",
       "      <td>512</td>\n",
       "      <td>6</td>\n",
       "    </tr>\n",
       "    <tr>\n",
       "      <th>Mayor Ed Lee</th>\n",
       "      <td>15</td>\n",
       "      <td>492</td>\n",
       "    </tr>\n",
       "  </tbody>\n",
       "</table>\n",
       "</div>"
      ],
      "text/plain": [
       "              Elon Musk  Mayor Ed Lee\n",
       "Elon Musk           512             6\n",
       "Mayor Ed Lee         15           492"
      ]
     },
     "execution_count": 45,
     "metadata": {},
     "output_type": "execute_result"
    }
   ],
   "source": [
    "# Error predicciones test\n",
    "# ==============================================================================\n",
    "predicciones_test = modelo_final.predict(X=tfidf_test)\n",
    "\n",
    "print(\"-------------\")\n",
    "print(\"Error de test\")\n",
    "print(\"-------------\")\n",
    "\n",
    "print(f\"Número de clasificaciones erróneas de un total de {tfidf_test.shape[0]} \" \\\n",
    "      f\"clasificaciones: {(y_test != predicciones_test).sum()}\"\n",
    ")\n",
    "print(f\"% de error: {100*(y_test != predicciones_test).mean()}\")\n",
    "\n",
    "print(\"\")\n",
    "print(\"-------------------\")\n",
    "print(\"Matriz de confusión\")\n",
    "print(\"-------------------\")\n",
    "pd.DataFrame(confusion_matrix(y_true = y_test, y_pred= predicciones_test),\n",
    "             columns= [\"Elon Musk\", \"Mayor Ed Lee\"],\n",
    "             index = [\"Elon Musk\", \"Mayor Ed Lee\"])"
   ]
  },
  {
   "cell_type": "markdown",
   "id": "1c82ef2a-992e-49bf-af42-592d43f6e1de",
   "metadata": {},
   "source": [
    "Empleando un modelo de SVM lineal con hiperparámetro C=2.15 se consigue un test error del 2.05%. Se trata de un porcentaje de error bastante bajo, aún así, explorando otros modelos como pueden ser SVM no lineales o Random Forest podrían alcanzarse mejores resultados."
   ]
  },
  {
   "cell_type": "markdown",
   "id": "1e1107da-f57d-45b9-ae43-ccb57130b9b8",
   "metadata": {},
   "source": [
    "## Análisis de sentimientos\n",
    "<br>\n",
    "\n",
    "Una forma de analizar el sentimiento de un de un texto es considerando su sentimiento como la suma de los sentimientos de cada una de las palabras que lo forman. Esta no es la única forma de abordar el análisis de sentimientos, pero consigue un buen equilibrio entre complejidad y resultados.\n",
    "\n",
    "Para llevar a cabo esta aproximación es necesario disponer de un diccionario en el que se asocie a cada palabra un sentimiento o nivel de sentimiento. A estos diccionarios también se les conoce como sentiment lexicon. Dos de los más utilizados son:\n",
    "\n",
    "+ AFINN: en él, se asigna a cada palabra un valor entre -5 y 5, siendo -5 el máximo de negatividad y +5 el máximo de positividad. Se puede acceder al diccionario a través del repositorio https://github.com/fnielsen/afinn/tree/master/afinn/data.\n",
    "\n",
    "+ Bing y Liu (http://www.cs.uic.edu/~liub/FBS/opinion-lexicon-English.rar), donde las palabras están clasificadas como positivas o negativas."
   ]
  },
  {
   "cell_type": "code",
   "execution_count": 46,
   "id": "fc3b4b39-614f-43ad-bd2a-20e60c108f1a",
   "metadata": {},
   "outputs": [
    {
     "data": {
      "text/html": [
       "<div>\n",
       "<style scoped>\n",
       "    .dataframe tbody tr th:only-of-type {\n",
       "        vertical-align: middle;\n",
       "    }\n",
       "\n",
       "    .dataframe tbody tr th {\n",
       "        vertical-align: top;\n",
       "    }\n",
       "\n",
       "    .dataframe thead th {\n",
       "        text-align: right;\n",
       "    }\n",
       "</style>\n",
       "<table border=\"1\" class=\"dataframe\">\n",
       "  <thead>\n",
       "    <tr style=\"text-align: right;\">\n",
       "      <th></th>\n",
       "      <th>termino</th>\n",
       "      <th>sentimiento</th>\n",
       "    </tr>\n",
       "  </thead>\n",
       "  <tbody>\n",
       "    <tr>\n",
       "      <th>0</th>\n",
       "      <td>abandon</td>\n",
       "      <td>-2</td>\n",
       "    </tr>\n",
       "    <tr>\n",
       "      <th>1</th>\n",
       "      <td>abandoned</td>\n",
       "      <td>-2</td>\n",
       "    </tr>\n",
       "    <tr>\n",
       "      <th>2</th>\n",
       "      <td>abandons</td>\n",
       "      <td>-2</td>\n",
       "    </tr>\n",
       "    <tr>\n",
       "      <th>3</th>\n",
       "      <td>abducted</td>\n",
       "      <td>-2</td>\n",
       "    </tr>\n",
       "    <tr>\n",
       "      <th>4</th>\n",
       "      <td>abduction</td>\n",
       "      <td>-2</td>\n",
       "    </tr>\n",
       "  </tbody>\n",
       "</table>\n",
       "</div>"
      ],
      "text/plain": [
       "     termino  sentimiento\n",
       "0    abandon           -2\n",
       "1  abandoned           -2\n",
       "2   abandons           -2\n",
       "3   abducted           -2\n",
       "4  abduction           -2"
      ]
     },
     "execution_count": 46,
     "metadata": {},
     "output_type": "execute_result"
    }
   ],
   "source": [
    "# Descarga lexicon sentimientos\n",
    "# ==============================================================================\n",
    "lexicon = pd.read_table(\n",
    "            'https://raw.githubusercontent.com/fnielsen/afinn/master/afinn/data/AFINN-en-165.txt',\n",
    "            names = ['termino', 'sentimiento']\n",
    "          )\n",
    "lexicon.head()"
   ]
  },
  {
   "cell_type": "markdown",
   "id": "cdb8f7e2-3c2f-4f30-8f65-529a16af7b39",
   "metadata": {},
   "source": [
    "### Sentimiento promedio de cada tweet\n",
    "<br>\n",
    "\n",
    "Al disponer de los datos en formato tidy (una palabra por fila), mediante un inner join se añade a cada palabra su sentimiento y se filtran automáticamente todas aquellas palabras para las que no hay información disponible."
   ]
  },
  {
   "cell_type": "code",
   "execution_count": 47,
   "id": "e1d9a9f3-1fd9-4b30-a39e-58ae7d441d6c",
   "metadata": {},
   "outputs": [
    {
     "data": {
      "text/html": [
       "<div>\n",
       "<style scoped>\n",
       "    .dataframe tbody tr th:only-of-type {\n",
       "        vertical-align: middle;\n",
       "    }\n",
       "\n",
       "    .dataframe tbody tr th {\n",
       "        vertical-align: top;\n",
       "    }\n",
       "\n",
       "    .dataframe thead th {\n",
       "        text-align: right;\n",
       "    }\n",
       "</style>\n",
       "<table border=\"1\" class=\"dataframe\">\n",
       "  <thead>\n",
       "    <tr style=\"text-align: right;\">\n",
       "      <th></th>\n",
       "      <th>autor</th>\n",
       "      <th>fecha</th>\n",
       "      <th>id</th>\n",
       "      <th>sentimiento</th>\n",
       "    </tr>\n",
       "  </thead>\n",
       "  <tbody>\n",
       "    <tr>\n",
       "      <th>0</th>\n",
       "      <td>BillGates</td>\n",
       "      <td>2011-09-29 21:11:15+00:00</td>\n",
       "      <td>1.195196e+17</td>\n",
       "      <td>6</td>\n",
       "    </tr>\n",
       "    <tr>\n",
       "      <th>1</th>\n",
       "      <td>BillGates</td>\n",
       "      <td>2011-10-04 19:06:05+00:00</td>\n",
       "      <td>1.213001e+17</td>\n",
       "      <td>-3</td>\n",
       "    </tr>\n",
       "    <tr>\n",
       "      <th>2</th>\n",
       "      <td>BillGates</td>\n",
       "      <td>2011-10-06 00:37:29+00:00</td>\n",
       "      <td>1.217459e+17</td>\n",
       "      <td>3</td>\n",
       "    </tr>\n",
       "    <tr>\n",
       "      <th>3</th>\n",
       "      <td>BillGates</td>\n",
       "      <td>2011-10-06 00:38:09+00:00</td>\n",
       "      <td>1.217460e+17</td>\n",
       "      <td>6</td>\n",
       "    </tr>\n",
       "    <tr>\n",
       "      <th>4</th>\n",
       "      <td>BillGates</td>\n",
       "      <td>2011-10-19 22:12:21+00:00</td>\n",
       "      <td>1.267828e+17</td>\n",
       "      <td>3</td>\n",
       "    </tr>\n",
       "  </tbody>\n",
       "</table>\n",
       "</div>"
      ],
      "text/plain": [
       "       autor                     fecha            id  sentimiento\n",
       "0  BillGates 2011-09-29 21:11:15+00:00  1.195196e+17            6\n",
       "1  BillGates 2011-10-04 19:06:05+00:00  1.213001e+17           -3\n",
       "2  BillGates 2011-10-06 00:37:29+00:00  1.217459e+17            3\n",
       "3  BillGates 2011-10-06 00:38:09+00:00  1.217460e+17            6\n",
       "4  BillGates 2011-10-19 22:12:21+00:00  1.267828e+17            3"
      ]
     },
     "execution_count": 47,
     "metadata": {},
     "output_type": "execute_result"
    }
   ],
   "source": [
    "# Sentimiento promedio de cada tweet\n",
    "# ==============================================================================\n",
    "tweets_sentimientos = pd.merge(\n",
    "                            left     = tweets_tidy,\n",
    "                            right    = lexicon,\n",
    "                            left_on  = \"token\", \n",
    "                            right_on = \"termino\",\n",
    "                            how      = \"inner\"\n",
    "                      )\n",
    "\n",
    "tweets_sentimientos = tweets_sentimientos.drop(columns = \"termino\")\n",
    "\n",
    "# Se suman los sentimientos de las palabras que forman cada tweet.\n",
    "tweets_sentimientos = tweets_sentimientos[[\"autor\",\"fecha\", \"id\", \"sentimiento\"]] \\\n",
    "                      .groupby([\"autor\", \"fecha\", \"id\"])\\\n",
    "                      .sum().reset_index()\n",
    "tweets_sentimientos.head()"
   ]
  },
  {
   "cell_type": "markdown",
   "id": "5a79f561-e550-4dec-9bfd-b335ad172d60",
   "metadata": {},
   "source": [
    "### Tweets positivos, negativos y neutros\n",
    "<br>\n",
    "\n",
    "Se calcula el porcentaje de tweets positivos, negativos y neutros para cada autor."
   ]
  },
  {
   "cell_type": "code",
   "execution_count": 63,
   "id": "aede9c02-4161-4441-9f0a-b0b1a268cee6",
   "metadata": {},
   "outputs": [
    {
     "name": "stdout",
     "output_type": "stream",
     "text": [
      "BillGates\n",
      "============\n",
      "Positivos: 79.88\n",
      "Neutros  : 4.59\n",
      "Negativos: 15.52\n",
      " \n",
      "elonmusk\n",
      "============\n",
      "Positivos: 73.14\n",
      "Neutros  : 4.29\n",
      "Negativos: 22.57\n",
      " \n",
      "mayoredlee\n",
      "============\n",
      "Positivos: 80.73\n",
      "Neutros  : 4.07\n",
      "Negativos: 15.2\n",
      " \n"
     ]
    }
   ],
   "source": [
    "def perfil_sentimientos(df):\n",
    "    print(autor)\n",
    "    print(\"=\" * 12)\n",
    "    print(f\"Positivos: {round(100 * np.mean(df.sentimiento > 0), 2)}\")\n",
    "    print(f\"Neutros  : {round(100 * np.mean(df.sentimiento == 0), 2)}\")\n",
    "    print(f\"Negativos: {round(100 * np.mean(df.sentimiento < 0), 2)}\")\n",
    "    print(\" \")\n",
    "\n",
    "for autor, df in tweets_sentimientos.groupby(\"autor\"):\n",
    "    perfil_sentimientos(df)"
   ]
  },
  {
   "cell_type": "markdown",
   "id": "4fcefd27-00a7-4510-82d1-0903c3d9b8f5",
   "metadata": {},
   "source": [
    "Los tres autores tienen un perfil muy similar. La gran mayoría de tweets son de tipo positivo. Este patrón es común en redes sociales, donde se suele participar mostrando aspectos o actividades positivas. Los usuarios no tienden a mostrar las cosas malas de sus vidas."
   ]
  },
  {
   "cell_type": "markdown",
   "id": "80e82e3f-0795-432b-a096-235ed1fa6c25",
   "metadata": {},
   "source": [
    "### Evolución temporal\n",
    "<br>\n",
    "\n",
    "A continuación, se estudia cómo varía el sentimiento promedio de los tweets agrupados por intervalos de un mes para cada uno de los usuarios."
   ]
  },
  {
   "cell_type": "code",
   "execution_count": 64,
   "id": "6afc9253-8708-469e-a659-28d75002c41c",
   "metadata": {},
   "outputs": [
    {
     "data": {
      "image/png": "[encoded data removed]",
      "text/plain": [
       "<Figure size 504x288 with 1 Axes>"
      ]
     },
     "metadata": {
      "needs_background": "light"
     },
     "output_type": "display_data"
    }
   ],
   "source": [
    "fig, ax = plt.subplots(figsize=(7, 4)) \n",
    "\n",
    "for autor in tweets_sentimientos.autor.unique():\n",
    "    df = tweets_sentimientos[tweets_sentimientos.autor == autor].copy()\n",
    "    df = df.set_index(\"fecha\")\n",
    "    df = df[['sentimiento']].resample('1M').mean()\n",
    "    ax.plot(df.index, df.sentimiento, label=autor)\n",
    "\n",
    "ax.set_title(\"Sentimiento promedio de los tweets por mes\")\n",
    "ax.legend();"
   ]
  },
  {
   "cell_type": "markdown",
   "id": "269cf049-56ed-4de1-8116-a2734365bd8d",
   "metadata": {},
   "source": [
    "La distribución del sentimiento promedio de los tweets se mantiene aproximadamente constante para los 3 usuarios. Existen ciertas oscilaciones, pero prácticamente la totalidad de ellas dentro del rango de sentimiento positivo."
   ]
  },
  {
   "cell_type": "code",
   "execution_count": 65,
   "id": "d91efcad-84ff-45ac-ba04-2c6ba8577b68",
   "metadata": {},
   "outputs": [
    {
     "ename": "ModuleNotFoundError",
     "evalue": "No module named 'sinfo'",
     "output_type": "error",
     "traceback": [
      "\u001b[0;31m---------------------------------------------------------------------------\u001b[0m",
      "\u001b[0;31mModuleNotFoundError\u001b[0m                       Traceback (most recent call last)",
      "\u001b[0;32m/tmp/ipykernel_10094/440087068.py\u001b[0m in \u001b[0;36m<module>\u001b[0;34m\u001b[0m\n\u001b[0;32m----> 1\u001b[0;31m \u001b[0;32mfrom\u001b[0m \u001b[0msinfo\u001b[0m \u001b[0;32mimport\u001b[0m \u001b[0msinfo\u001b[0m\u001b[0;34m\u001b[0m\u001b[0;34m\u001b[0m\u001b[0m\n\u001b[0m\u001b[1;32m      2\u001b[0m \u001b[0msinfo\u001b[0m\u001b[0;34m(\u001b[0m\u001b[0;34m)\u001b[0m\u001b[0;34m\u001b[0m\u001b[0;34m\u001b[0m\u001b[0m\n",
      "\u001b[0;31mModuleNotFoundError\u001b[0m: No module named 'sinfo'"
     ]
    }
   ],
   "source": [
    "from sinfo import sinfo\n",
    "sinfo()"
   ]
  }
 ],
 "metadata": {
  "kernelspec": {
   "display_name": "cienciadedatos",
   "language": "python",
   "name": "cienciadedatos"
  },
  "language_info": {
   "codemirror_mode": {
    "name": "ipython",
    "version": 3
   },
   "file_extension": ".py",
   "mimetype": "text/x-python",
   "name": "python",
   "nbconvert_exporter": "python",
   "pygments_lexer": "ipython3",
   "version": "3.7.9"
  },
  "toc": {
   "base_numbering": 1,
   "nav_menu": {},
   "number_sections": true,
   "sideBar": true,
   "skip_h1_title": true,
   "title_cell": "Table of Contents",
   "title_sidebar": "Contents",
   "toc_cell": false,
   "toc_position": {
    "height": "calc(100% - 180px)",
    "left": "10px",
    "top": "150px",
    "width": "165px"
   },
   "toc_section_display": true,
   "toc_window_display": true
  }
 },
 "nbformat": 4,
 "nbformat_minor": 5
}
