{
 "cells": [
  {
   "cell_type": "markdown",
   "id": "4b4815d9",
   "metadata": {},
   "source": [
    "# Análisis de texto (text mining) con Python"
   ]
  },
  {
   "cell_type": "markdown",
   "id": "e363e792",
   "metadata": {},
   "source": [
    "https://www.cienciadedatos.net/documentos/py25-text-mining-python.html"
   ]
  },
  {
   "cell_type": "markdown",
   "id": "f2c73eaf",
   "metadata": {},
   "source": [
    "## Librerias"
   ]
  },
  {
   "cell_type": "code",
   "execution_count": 1,
   "id": "70ded49c",
   "metadata": {
    "ExecuteTime": {
     "end_time": "2022-03-17T10:48:43.160307Z",
     "start_time": "2022-03-17T10:48:32.695455Z"
    }
   },
   "outputs": [],
   "source": [
    "# Tratamiento de datos\n",
    "# ==============================================================================\n",
    "import numpy as np\n",
    "import pandas as pd\n",
    "import string\n",
    "import re\n",
    "\n",
    "# Gráficos\n",
    "# ==============================================================================\n",
    "import matplotlib.pyplot as plt\n",
    "from matplotlib import style\n",
    "import seaborn as sns\n",
    "#style.use('ggplot') or plt.style.use('ggplot')\n",
    "\n",
    "# Preprocesado y modelado\n",
    "# ==============================================================================\n",
    "from sklearn import svm\n",
    "from sklearn.model_selection import train_test_split\n",
    "from sklearn.model_selection import GridSearchCV\n",
    "from sklearn.metrics import confusion_matrix\n",
    "from sklearn.feature_extraction.text import TfidfVectorizer\n",
    "import nltk\n",
    "#nltk.download('stopwords')\n",
    "from nltk.corpus import stopwords\n",
    "\n",
    "# Configuración warnings\n",
    "# ==============================================================================\n",
    "import warnings\n",
    "warnings.filterwarnings('ignore')"
   ]
  },
  {
   "cell_type": "markdown",
   "id": "90e0ec1f",
   "metadata": {},
   "source": [
    "## Datos"
   ]
  },
  {
   "cell_type": "code",
   "execution_count": 14,
   "id": "8f4982e1",
   "metadata": {
    "ExecuteTime": {
     "end_time": "2022-03-17T11:10:46.254488Z",
     "start_time": "2022-03-17T11:10:44.334622Z"
    }
   },
   "outputs": [
    {
     "name": "stdout",
     "output_type": "stream",
     "text": [
      "Número de tweets @BillGates: 2087\n",
      "Número de tweets @mayoredlee: 2447\n",
      "Número de tweets @elonmusk: 2678\n"
     ]
    }
   ],
   "source": [
    "# Lectura de datos\n",
    "# ==============================================================================\n",
    "url = 'https://raw.githubusercontent.com/JoaquinAmatRodrigo/Estadistica-con-R/master/datos/'\n",
    "tweets_elon   = pd.read_csv(url + \"datos_tweets_@elonmusk.csv\")\n",
    "tweets_edlee  = pd.read_csv(url + \"datos_tweets_@mayoredlee.csv\")\n",
    "tweets_bgates = pd.read_csv(url + \"datos_tweets_@BillGates.csv\")\n",
    "\n",
    "print('Número de tweets @BillGates: ' + str(tweets_bgates.shape[0]))\n",
    "print('Número de tweets @mayoredlee: ' + str(tweets_edlee.shape[0]))\n",
    "print('Número de tweets @elonmusk: ' + str(tweets_elon.shape[0]))"
   ]
  },
  {
   "cell_type": "code",
   "execution_count": 15,
   "id": "c4c135be",
   "metadata": {
    "ExecuteTime": {
     "end_time": "2022-03-17T11:10:46.427737Z",
     "start_time": "2022-03-17T11:10:46.264464Z"
    }
   },
   "outputs": [
    {
     "data": {
      "text/html": [
       "<div>\n",
       "<style scoped>\n",
       "    .dataframe tbody tr th:only-of-type {\n",
       "        vertical-align: middle;\n",
       "    }\n",
       "\n",
       "    .dataframe tbody tr th {\n",
       "        vertical-align: top;\n",
       "    }\n",
       "\n",
       "    .dataframe thead th {\n",
       "        text-align: right;\n",
       "    }\n",
       "</style>\n",
       "<table border=\"1\" class=\"dataframe\">\n",
       "  <thead>\n",
       "    <tr style=\"text-align: right;\">\n",
       "      <th></th>\n",
       "      <th>autor</th>\n",
       "      <th>fecha</th>\n",
       "      <th>id</th>\n",
       "      <th>texto</th>\n",
       "    </tr>\n",
       "  </thead>\n",
       "  <tbody>\n",
       "    <tr>\n",
       "      <th>0</th>\n",
       "      <td>elonmusk</td>\n",
       "      <td>2017-11-09 17:28:57+00:00</td>\n",
       "      <td>9.286758e+17</td>\n",
       "      <td>\"If one day, my words are against science, cho...</td>\n",
       "    </tr>\n",
       "    <tr>\n",
       "      <th>1</th>\n",
       "      <td>elonmusk</td>\n",
       "      <td>2017-11-09 17:12:46+00:00</td>\n",
       "      <td>9.286717e+17</td>\n",
       "      <td>I placed the flowers\\n\\nThree broken ribs\\nA p...</td>\n",
       "    </tr>\n",
       "    <tr>\n",
       "      <th>2</th>\n",
       "      <td>elonmusk</td>\n",
       "      <td>2017-11-08 18:55:13+00:00</td>\n",
       "      <td>9.283351e+17</td>\n",
       "      <td>Atatürk Anıtkabir https://t.co/al3wt0njr6</td>\n",
       "    </tr>\n",
       "  </tbody>\n",
       "</table>\n",
       "</div>"
      ],
      "text/plain": [
       "      autor                     fecha            id  \\\n",
       "0  elonmusk 2017-11-09 17:28:57+00:00  9.286758e+17   \n",
       "1  elonmusk 2017-11-09 17:12:46+00:00  9.286717e+17   \n",
       "2  elonmusk 2017-11-08 18:55:13+00:00  9.283351e+17   \n",
       "\n",
       "                                               texto  \n",
       "0  \"If one day, my words are against science, cho...  \n",
       "1  I placed the flowers\\n\\nThree broken ribs\\nA p...  \n",
       "2          Atatürk Anıtkabir https://t.co/al3wt0njr6  "
      ]
     },
     "execution_count": 15,
     "metadata": {},
     "output_type": "execute_result"
    }
   ],
   "source": [
    "# Se unen los dos dataframes en uno solo\n",
    "tweets = pd.concat([tweets_elon, tweets_edlee, tweets_bgates], ignore_index=True)\n",
    "\n",
    "# Se seleccionan y renombran las columnas de interés\n",
    "tweets = tweets[['screen_name', 'created_at', 'status_id', 'text']]\n",
    "tweets.columns = ['autor', 'fecha', 'id', 'texto']\n",
    "\n",
    "# Parseo de fechas\n",
    "tweets['fecha'] = pd.to_datetime(tweets['fecha'])\n",
    "tweets.head(3)"
   ]
  },
  {
   "cell_type": "markdown",
   "id": "1b2ed253",
   "metadata": {},
   "source": [
    "## Distribución temporal de los tweets"
   ]
  },
  {
   "cell_type": "code",
   "execution_count": 16,
   "id": "162c653a",
   "metadata": {
    "ExecuteTime": {
     "end_time": "2022-03-17T11:10:46.947345Z",
     "start_time": "2022-03-17T11:10:46.433713Z"
    }
   },
   "outputs": [
    {
     "data": {
      "image/png": "[encoded data removed]",
      "text/plain": [
       "<Figure size 648x288 with 1 Axes>"
      ]
     },
     "metadata": {
      "needs_background": "light"
     },
     "output_type": "display_data"
    }
   ],
   "source": [
    "# Distribución temporal de los tweets\n",
    "# ==============================================================================\n",
    "fig, ax = plt.subplots(figsize=(9,4))\n",
    "\n",
    "for autor in tweets.autor.unique():\n",
    "    df_temp = tweets[tweets['autor'] == autor].copy()\n",
    "    df_temp['fecha'] = pd.to_datetime(df_temp['fecha'].dt.strftime('%Y-%m'))\n",
    "    df_temp = df_temp.groupby(df_temp['fecha']).size()\n",
    "    df_temp.plot(label=autor, ax=ax)\n",
    "\n",
    "ax.set_title('Número de tweets publicados por mes')\n",
    "ax.legend();"
   ]
  },
  {
   "cell_type": "markdown",
   "id": "50da15ff",
   "metadata": {},
   "source": [
    "## Limpieza y Tokenización"
   ]
  },
  {
   "cell_type": "markdown",
   "id": "80519aaf",
   "metadata": {},
   "source": [
    "El proceso de limpieza de texto, dentro del ámbito de text mining, consiste en eliminar del texto todo aquello que no aporte información sobre su temática, estructura o contenido. No existe una única forma de hacerlo, depende en gran medida de la finalidad del análisis y de la fuente de la que proceda el texto. Por ejemplo, en las redes sociales, los usuarios pueden escribir de la forma que quieran, lo que suele resultar en un uso elevado de abreviaturas y signos de puntuación. En este ejercicio, se procede a eliminar: patrones no informativos (urls de páginas web), signos de puntuación, etiquetas HTML, caracteres sueltos y números.\n",
    "\n",
    "Tokenizar un texto consiste en dividir el texto en las unidades que lo conforman, entendiendo por unidad el elemento más sencillo con significado propio para el análisis en cuestión, en este caso, las palabras.\n",
    "\n",
    "Existen múltiples librerías que automatizan en gran medida la limpieza y tokenización de texto, por ejemplo, la clase `feature_extraction.text.CountVectorizer` de Scikit Learn, nltk.tokenize o spaCy. A pesar de ello, para este ejemplo, se define una función que, si bien está menos optimizada, tiene la ventaja de poder adaptarse fácilmente dependiendo del tipo de texto analizado."
   ]
  },
  {
   "cell_type": "code",
   "execution_count": 17,
   "id": "18fc810e",
   "metadata": {
    "ExecuteTime": {
     "end_time": "2022-03-17T11:10:47.278815Z",
     "start_time": "2022-03-17T11:10:47.259866Z"
    }
   },
   "outputs": [
    {
     "name": "stdout",
     "output_type": "stream",
     "text": [
      "Esto es 1 ejemplo de l'limpieza de6 TEXTO  https://t.co/rnHPgyhx4Z @cienciadedatos #textmining\n",
      "['esto', 'es', 'ejemplo', 'de', 'limpieza', 'de', 'texto', 'cienciadedatos', 'textmining']\n"
     ]
    }
   ],
   "source": [
    "def limpiar_tokenizar(texto):\n",
    "    '''\n",
    "    Esta función limpia y tokeniza el texto en palabras individuales.\n",
    "    El orden en el que se va limpiando el texto no es arbitrario.\n",
    "    El listado de signos de puntuación se ha obtenido de: print(string.punctuation)\n",
    "    y re.escape(string.punctuation)\n",
    "    '''\n",
    "    \n",
    "    # Se convierte todo el texto a minúsculas\n",
    "    nuevo_texto = texto.lower()\n",
    "    # Eliminación de páginas web (palabras que empiezan por \"http\")\n",
    "    nuevo_texto = re.sub('http\\S+', ' ', nuevo_texto)\n",
    "    # Eliminación de signos de puntuación\n",
    "    regex = '[\\\\!\\\\\"\\\\#\\\\$\\\\%\\\\&\\\\\\'\\\\(\\\\)\\\\*\\\\+\\\\,\\\\-\\\\.\\\\/\\\\:\\\\;\\\\<\\\\=\\\\>\\\\?\\\\@\\\\[\\\\\\\\\\\\]\\\\^_\\\\`\\\\{\\\\|\\\\}\\\\~]'\n",
    "    nuevo_texto = re.sub(regex , ' ', nuevo_texto)\n",
    "    # Eliminación de números\n",
    "    nuevo_texto = re.sub(\"\\d+\", ' ', nuevo_texto)\n",
    "    # Eliminación de espacios en blanco múltiples\n",
    "    nuevo_texto = re.sub(\"\\\\s+\", ' ', nuevo_texto)\n",
    "    # Tokenización por palabras individuales\n",
    "    nuevo_texto = nuevo_texto.split(sep = ' ')\n",
    "    # Eliminación de tokens con una longitud < 2\n",
    "    nuevo_texto = [token for token in nuevo_texto if len(token) > 1]\n",
    "    \n",
    "    return(nuevo_texto)\n",
    "\n",
    "test = \"Esto es 1 ejemplo de l'limpieza de6 TEXTO  https://t.co/rnHPgyhx4Z @cienciadedatos #textmining\"\n",
    "print(test)\n",
    "print(limpiar_tokenizar(texto=test))"
   ]
  },
  {
   "cell_type": "markdown",
   "id": "80180963",
   "metadata": {},
   "source": [
    "La función `limpiar_tokenizar()` elimina el símbolo @ y # de las palabras a las que acompañan. En Twitter, los usuarios se identifican de esta forma, por lo que @ y # pertenecen al nombre. Aunque es importante tener en cuenta las eliminaciones del proceso de limpieza, el impacto en este caso no es demasiado alto, ya que, si un documento se caracteriza por tener la palabra #datascience, también será detectado fácilmente mediante la palabra datascience."
   ]
  },
  {
   "cell_type": "code",
   "execution_count": 18,
   "id": "c558ef32",
   "metadata": {
    "ExecuteTime": {
     "end_time": "2022-03-17T11:10:48.635206Z",
     "start_time": "2022-03-17T11:10:48.602295Z"
    }
   },
   "outputs": [
    {
     "data": {
      "text/html": [
       "<div>\n",
       "<style scoped>\n",
       "    .dataframe tbody tr th:only-of-type {\n",
       "        vertical-align: middle;\n",
       "    }\n",
       "\n",
       "    .dataframe tbody tr th {\n",
       "        vertical-align: top;\n",
       "    }\n",
       "\n",
       "    .dataframe thead th {\n",
       "        text-align: right;\n",
       "    }\n",
       "</style>\n",
       "<table border=\"1\" class=\"dataframe\">\n",
       "  <thead>\n",
       "    <tr style=\"text-align: right;\">\n",
       "      <th></th>\n",
       "      <th>autor</th>\n",
       "      <th>fecha</th>\n",
       "      <th>id</th>\n",
       "      <th>texto</th>\n",
       "    </tr>\n",
       "  </thead>\n",
       "  <tbody>\n",
       "    <tr>\n",
       "      <th>0</th>\n",
       "      <td>elonmusk</td>\n",
       "      <td>2017-11-09 17:28:57+00:00</td>\n",
       "      <td>9.286758e+17</td>\n",
       "      <td>\"If one day, my words are against science, cho...</td>\n",
       "    </tr>\n",
       "    <tr>\n",
       "      <th>1</th>\n",
       "      <td>elonmusk</td>\n",
       "      <td>2017-11-09 17:12:46+00:00</td>\n",
       "      <td>9.286717e+17</td>\n",
       "      <td>I placed the flowers\\n\\nThree broken ribs\\nA p...</td>\n",
       "    </tr>\n",
       "  </tbody>\n",
       "</table>\n",
       "</div>"
      ],
      "text/plain": [
       "      autor                     fecha            id  \\\n",
       "0  elonmusk 2017-11-09 17:28:57+00:00  9.286758e+17   \n",
       "1  elonmusk 2017-11-09 17:12:46+00:00  9.286717e+17   \n",
       "\n",
       "                                               texto  \n",
       "0  \"If one day, my words are against science, cho...  \n",
       "1  I placed the flowers\\n\\nThree broken ribs\\nA p...  "
      ]
     },
     "execution_count": 18,
     "metadata": {},
     "output_type": "execute_result"
    }
   ],
   "source": [
    "tweets.head(2)"
   ]
  },
  {
   "cell_type": "code",
   "execution_count": 19,
   "id": "d7dc7c84",
   "metadata": {
    "ExecuteTime": {
     "end_time": "2022-03-17T11:10:49.290782Z",
     "start_time": "2022-03-17T11:10:49.024682Z"
    }
   },
   "outputs": [
    {
     "data": {
      "text/html": [
       "<div>\n",
       "<style scoped>\n",
       "    .dataframe tbody tr th:only-of-type {\n",
       "        vertical-align: middle;\n",
       "    }\n",
       "\n",
       "    .dataframe tbody tr th {\n",
       "        vertical-align: top;\n",
       "    }\n",
       "\n",
       "    .dataframe thead th {\n",
       "        text-align: right;\n",
       "    }\n",
       "</style>\n",
       "<table border=\"1\" class=\"dataframe\">\n",
       "  <thead>\n",
       "    <tr style=\"text-align: right;\">\n",
       "      <th></th>\n",
       "      <th>texto</th>\n",
       "      <th>texto_tokenizado</th>\n",
       "    </tr>\n",
       "  </thead>\n",
       "  <tbody>\n",
       "    <tr>\n",
       "      <th>0</th>\n",
       "      <td>\"If one day, my words are against science, cho...</td>\n",
       "      <td>[if, one, day, my, words, are, against, scienc...</td>\n",
       "    </tr>\n",
       "    <tr>\n",
       "      <th>1</th>\n",
       "      <td>I placed the flowers\\n\\nThree broken ribs\\nA p...</td>\n",
       "      <td>[placed, the, flowers, three, broken, ribs, pi...</td>\n",
       "    </tr>\n",
       "    <tr>\n",
       "      <th>2</th>\n",
       "      <td>Atatürk Anıtkabir https://t.co/al3wt0njr6</td>\n",
       "      <td>[atatürk, anıtkabir]</td>\n",
       "    </tr>\n",
       "    <tr>\n",
       "      <th>3</th>\n",
       "      <td>@Bob_Richards One rocket, slightly toasted</td>\n",
       "      <td>[bob, richards, one, rocket, slightly, toasted]</td>\n",
       "    </tr>\n",
       "    <tr>\n",
       "      <th>4</th>\n",
       "      <td>@uncover007 500 ft so far. Should be 2 miles l...</td>\n",
       "      <td>[uncover, ft, so, far, should, be, miles, long...</td>\n",
       "    </tr>\n",
       "  </tbody>\n",
       "</table>\n",
       "</div>"
      ],
      "text/plain": [
       "                                               texto  \\\n",
       "0  \"If one day, my words are against science, cho...   \n",
       "1  I placed the flowers\\n\\nThree broken ribs\\nA p...   \n",
       "2          Atatürk Anıtkabir https://t.co/al3wt0njr6   \n",
       "3         @Bob_Richards One rocket, slightly toasted   \n",
       "4  @uncover007 500 ft so far. Should be 2 miles l...   \n",
       "\n",
       "                                    texto_tokenizado  \n",
       "0  [if, one, day, my, words, are, against, scienc...  \n",
       "1  [placed, the, flowers, three, broken, ribs, pi...  \n",
       "2                               [atatürk, anıtkabir]  \n",
       "3    [bob, richards, one, rocket, slightly, toasted]  \n",
       "4  [uncover, ft, so, far, should, be, miles, long...  "
      ]
     },
     "execution_count": 19,
     "metadata": {},
     "output_type": "execute_result"
    }
   ],
   "source": [
    "# Se aplica la función de limpieza y tokenización a cada tweet\n",
    "# ==============================================================================\n",
    "tweets['texto_tokenizado'] = tweets['texto'].apply(lambda x: limpiar_tokenizar(x))\n",
    "tweets[['texto', 'texto_tokenizado']].head()"
   ]
  },
  {
   "cell_type": "markdown",
   "id": "337cfef8",
   "metadata": {},
   "source": [
    "Gracias a la característica de los data.frame de pandas de poder contener cualquier tipo de elemento en sus columnas (siempre que sea el mismo para toda la columna), se puede almacenar el texto tokenizado. Cada elemento de la columna texto_tokenizado es una lista que contiene los tokens generados.\n",
    "\n",
    "De nuevo matizar que, para casos productivos, es preferible emplear los tokenizadores de `Scikit Learn`, `nltk` o `spaCy`."
   ]
  },
  {
   "cell_type": "markdown",
   "id": "a8320657",
   "metadata": {},
   "source": [
    "## Análisis exploratorio"
   ]
  },
  {
   "cell_type": "markdown",
   "id": "f6dd5b17",
   "metadata": {},
   "source": [
    "A la hora de entender que caracteriza la escritura de cada autor, es interesante estudiar qué palabras emplea, con qué frecuencia, así como el significado de las mismas.\n",
    "\n",
    "En Python, una de las estructuras que más facilita el análisis exploratorio es el DataFrame de Pandas, que es la estructura en la que se encuentra almacenada ahora la información de los tweets. Sin embargo, al realizar la tokenización, ha habido un cambio importante. Antes de dividir el texto, los elementos de estudio eran los tweets, y cada uno se encontraba en una fila, cumplimento así la condición de tidy data: una observación, una fila. Al realizar la tokenización, el elemento de estudio ha pasado a ser cada token (palabra), incumpliendo así la condición de tidy data. Para volver de nuevo a la estructura ideal se tiene que expandir cada lista de tokens, duplicando el valor de las otras columnas tantas veces como sea necesario. A este proceso se le conoce como expansión o unnest.\n",
    "\n",
    "Aunque puede parecer un proceso poco eficiente (el número de filas aumenta mucho), este simple cambio facilita actividades de tipo: agrupación, contaje, gráficos..."
   ]
  },
  {
   "cell_type": "markdown",
   "id": "ac16262e",
   "metadata": {
    "ExecuteTime": {
     "end_time": "2022-03-17T11:21:34.121875Z",
     "start_time": "2022-03-17T11:21:34.078989Z"
    }
   },
   "source": [
    "**Pandas** `explode()`: Transform each element of a list-like to a row, replicating index values."
   ]
  },
  {
   "cell_type": "code",
   "execution_count": 20,
   "id": "7ad24d65",
   "metadata": {
    "ExecuteTime": {
     "end_time": "2022-03-17T11:21:06.956438Z",
     "start_time": "2022-03-17T11:21:06.544519Z"
    }
   },
   "outputs": [
    {
     "data": {
      "text/html": [
       "<div>\n",
       "<style scoped>\n",
       "    .dataframe tbody tr th:only-of-type {\n",
       "        vertical-align: middle;\n",
       "    }\n",
       "\n",
       "    .dataframe tbody tr th {\n",
       "        vertical-align: top;\n",
       "    }\n",
       "\n",
       "    .dataframe thead th {\n",
       "        text-align: right;\n",
       "    }\n",
       "</style>\n",
       "<table border=\"1\" class=\"dataframe\">\n",
       "  <thead>\n",
       "    <tr style=\"text-align: right;\">\n",
       "      <th></th>\n",
       "      <th>autor</th>\n",
       "      <th>fecha</th>\n",
       "      <th>id</th>\n",
       "      <th>token</th>\n",
       "    </tr>\n",
       "  </thead>\n",
       "  <tbody>\n",
       "    <tr>\n",
       "      <th>0</th>\n",
       "      <td>elonmusk</td>\n",
       "      <td>2017-11-09 17:28:57+00:00</td>\n",
       "      <td>9.286758e+17</td>\n",
       "      <td>if</td>\n",
       "    </tr>\n",
       "    <tr>\n",
       "      <th>0</th>\n",
       "      <td>elonmusk</td>\n",
       "      <td>2017-11-09 17:28:57+00:00</td>\n",
       "      <td>9.286758e+17</td>\n",
       "      <td>one</td>\n",
       "    </tr>\n",
       "    <tr>\n",
       "      <th>0</th>\n",
       "      <td>elonmusk</td>\n",
       "      <td>2017-11-09 17:28:57+00:00</td>\n",
       "      <td>9.286758e+17</td>\n",
       "      <td>day</td>\n",
       "    </tr>\n",
       "  </tbody>\n",
       "</table>\n",
       "</div>"
      ],
      "text/plain": [
       "      autor                     fecha            id token\n",
       "0  elonmusk 2017-11-09 17:28:57+00:00  9.286758e+17    if\n",
       "0  elonmusk 2017-11-09 17:28:57+00:00  9.286758e+17   one\n",
       "0  elonmusk 2017-11-09 17:28:57+00:00  9.286758e+17   day"
      ]
     },
     "execution_count": 20,
     "metadata": {},
     "output_type": "execute_result"
    }
   ],
   "source": [
    "# Unnest de la columna texto_tokenizado\n",
    "# ==============================================================================\n",
    "tweets_tidy = tweets.explode(column='texto_tokenizado')\n",
    "tweets_tidy = tweets_tidy.drop(columns='texto')\n",
    "tweets_tidy = tweets_tidy.rename(columns={'texto_tokenizado':'token'})\n",
    "tweets_tidy.head(3)"
   ]
  },
  {
   "cell_type": "markdown",
   "id": "1a0e4e65",
   "metadata": {},
   "source": [
    "### Frecuencia de palabras"
   ]
  },
  {
   "cell_type": "code",
   "execution_count": 22,
   "id": "2d4d3275",
   "metadata": {
    "ExecuteTime": {
     "end_time": "2022-03-17T11:22:37.738345Z",
     "start_time": "2022-03-17T11:22:37.629810Z"
    }
   },
   "outputs": [
    {
     "name": "stdout",
     "output_type": "stream",
     "text": [
      "--------------------------\n",
      "Palabras totales por autor\n",
      "--------------------------\n"
     ]
    },
    {
     "data": {
      "text/plain": [
       "autor\n",
       "BillGates     31500\n",
       "elonmusk      33609\n",
       "mayoredlee    41878\n",
       "Name: token, dtype: int64"
      ]
     },
     "execution_count": 22,
     "metadata": {},
     "output_type": "execute_result"
    }
   ],
   "source": [
    "# Palabras totales utilizadas por cada autor\n",
    "# ==============================================================================\n",
    "print('--------------------------')\n",
    "print('Palabras totales por autor')\n",
    "print('--------------------------')\n",
    "tweets_tidy.groupby(by='autor')['token'].count()"
   ]
  },
  {
   "cell_type": "code",
   "execution_count": 23,
   "id": "77002d5b",
   "metadata": {
    "ExecuteTime": {
     "end_time": "2022-03-17T11:22:38.113398Z",
     "start_time": "2022-03-17T11:22:37.979657Z"
    }
   },
   "outputs": [
    {
     "name": "stdout",
     "output_type": "stream",
     "text": [
      "----------------------------\n",
      "Palabras distintas por autor\n",
      "----------------------------\n"
     ]
    },
    {
     "data": {
      "text/plain": [
       "autor\n",
       "BillGates     4848\n",
       "elonmusk      6628\n",
       "mayoredlee    5770\n",
       "Name: token, dtype: int64"
      ]
     },
     "execution_count": 23,
     "metadata": {},
     "output_type": "execute_result"
    }
   ],
   "source": [
    "# Palabras distintas utilizadas por cada autor\n",
    "# ==============================================================================\n",
    "print('----------------------------')\n",
    "print('Palabras distintas por autor')\n",
    "print('----------------------------')\n",
    "tweets_tidy.groupby(by='autor')['token'].nunique()"
   ]
  },
  {
   "cell_type": "markdown",
   "id": "9e015aa2",
   "metadata": {},
   "source": [
    "Aunque Elon Musk no es el que más palabras totales ha utilizado, bien porque ha publicado menos tweets o porque estos son más cortos, es el que más palabras distintas emplea."
   ]
  },
  {
   "cell_type": "markdown",
   "id": "6ca623cd",
   "metadata": {},
   "source": [
    "### Longitud media de tweets"
   ]
  },
  {
   "cell_type": "code",
   "execution_count": 24,
   "id": "79351a6d",
   "metadata": {
    "ExecuteTime": {
     "end_time": "2022-03-17T11:27:09.600029Z",
     "start_time": "2022-03-17T11:27:09.433479Z"
    }
   },
   "outputs": [
    {
     "data": {
      "text/html": [
       "<div>\n",
       "<style scoped>\n",
       "    .dataframe tbody tr th:only-of-type {\n",
       "        vertical-align: middle;\n",
       "    }\n",
       "\n",
       "    .dataframe tbody tr th {\n",
       "        vertical-align: top;\n",
       "    }\n",
       "\n",
       "    .dataframe thead th {\n",
       "        text-align: right;\n",
       "    }\n",
       "</style>\n",
       "<table border=\"1\" class=\"dataframe\">\n",
       "  <thead>\n",
       "    <tr style=\"text-align: right;\">\n",
       "      <th></th>\n",
       "      <th>mean</th>\n",
       "      <th>std</th>\n",
       "    </tr>\n",
       "    <tr>\n",
       "      <th>autor</th>\n",
       "      <th></th>\n",
       "      <th></th>\n",
       "    </tr>\n",
       "  </thead>\n",
       "  <tbody>\n",
       "    <tr>\n",
       "      <th>BillGates</th>\n",
       "      <td>15.144231</td>\n",
       "      <td>3.347354</td>\n",
       "    </tr>\n",
       "    <tr>\n",
       "      <th>elonmusk</th>\n",
       "      <td>12.611257</td>\n",
       "      <td>6.933870</td>\n",
       "    </tr>\n",
       "    <tr>\n",
       "      <th>mayoredlee</th>\n",
       "      <td>17.170152</td>\n",
       "      <td>3.486314</td>\n",
       "    </tr>\n",
       "  </tbody>\n",
       "</table>\n",
       "</div>"
      ],
      "text/plain": [
       "                 mean       std\n",
       "autor                          \n",
       "BillGates   15.144231  3.347354\n",
       "elonmusk    12.611257  6.933870\n",
       "mayoredlee  17.170152  3.486314"
      ]
     },
     "execution_count": 24,
     "metadata": {},
     "output_type": "execute_result"
    }
   ],
   "source": [
    "# Longitud media y desviación de los tweets de cada autor\n",
    "# ==============================================================================\n",
    "temp_df = pd.DataFrame(tweets_tidy.groupby(by = [\"autor\", \"id\"])[\"token\"].count())\n",
    "temp_df.reset_index().groupby(\"autor\")[\"token\"].agg(['mean', 'std'])"
   ]
  },
  {
   "cell_type": "markdown",
   "id": "f23b2415",
   "metadata": {},
   "source": [
    "El tipo de tweet de Bill Gates y Mayor Ed Lee es similar en cuanto a longitud media y desviación. Elon Musk alterna más entre tweets cortos y largos, siendo su media inferior a la de los otros dos."
   ]
  },
  {
   "cell_type": "markdown",
   "id": "6e369efd",
   "metadata": {},
   "source": [
    "### Palabras más utilizadas por autor"
   ]
  },
  {
   "cell_type": "code",
   "execution_count": 25,
   "id": "23f7e92b",
   "metadata": {
    "ExecuteTime": {
     "end_time": "2022-03-17T11:28:15.706170Z",
     "start_time": "2022-03-17T11:28:15.506870Z"
    }
   },
   "outputs": [
    {
     "data": {
      "text/html": [
       "<div>\n",
       "<style scoped>\n",
       "    .dataframe tbody tr th:only-of-type {\n",
       "        vertical-align: middle;\n",
       "    }\n",
       "\n",
       "    .dataframe tbody tr th {\n",
       "        vertical-align: top;\n",
       "    }\n",
       "\n",
       "    .dataframe thead th {\n",
       "        text-align: right;\n",
       "    }\n",
       "</style>\n",
       "<table border=\"1\" class=\"dataframe\">\n",
       "  <thead>\n",
       "    <tr style=\"text-align: right;\">\n",
       "      <th></th>\n",
       "      <th></th>\n",
       "      <th>autor</th>\n",
       "      <th>token</th>\n",
       "      <th>count</th>\n",
       "    </tr>\n",
       "    <tr>\n",
       "      <th>autor</th>\n",
       "      <th></th>\n",
       "      <th></th>\n",
       "      <th></th>\n",
       "      <th></th>\n",
       "    </tr>\n",
       "  </thead>\n",
       "  <tbody>\n",
       "    <tr>\n",
       "      <th rowspan=\"5\" valign=\"top\">BillGates</th>\n",
       "      <th>4195</th>\n",
       "      <td>BillGates</td>\n",
       "      <td>the</td>\n",
       "      <td>1178</td>\n",
       "    </tr>\n",
       "    <tr>\n",
       "      <th>4271</th>\n",
       "      <td>BillGates</td>\n",
       "      <td>to</td>\n",
       "      <td>1115</td>\n",
       "    </tr>\n",
       "    <tr>\n",
       "      <th>2930</th>\n",
       "      <td>BillGates</td>\n",
       "      <td>of</td>\n",
       "      <td>669</td>\n",
       "    </tr>\n",
       "    <tr>\n",
       "      <th>2084</th>\n",
       "      <td>BillGates</td>\n",
       "      <td>in</td>\n",
       "      <td>590</td>\n",
       "    </tr>\n",
       "    <tr>\n",
       "      <th>2207</th>\n",
       "      <td>BillGates</td>\n",
       "      <td>is</td>\n",
       "      <td>452</td>\n",
       "    </tr>\n",
       "    <tr>\n",
       "      <th rowspan=\"5\" valign=\"top\">elonmusk</th>\n",
       "      <th>10699</th>\n",
       "      <td>elonmusk</td>\n",
       "      <td>the</td>\n",
       "      <td>983</td>\n",
       "    </tr>\n",
       "    <tr>\n",
       "      <th>10816</th>\n",
       "      <td>elonmusk</td>\n",
       "      <td>to</td>\n",
       "      <td>913</td>\n",
       "    </tr>\n",
       "    <tr>\n",
       "      <th>8859</th>\n",
       "      <td>elonmusk</td>\n",
       "      <td>of</td>\n",
       "      <td>638</td>\n",
       "    </tr>\n",
       "    <tr>\n",
       "      <th>7801</th>\n",
       "      <td>elonmusk</td>\n",
       "      <td>is</td>\n",
       "      <td>542</td>\n",
       "    </tr>\n",
       "    <tr>\n",
       "      <th>7656</th>\n",
       "      <td>elonmusk</td>\n",
       "      <td>in</td>\n",
       "      <td>476</td>\n",
       "    </tr>\n",
       "    <tr>\n",
       "      <th rowspan=\"5\" valign=\"top\">mayoredlee</th>\n",
       "      <th>16650</th>\n",
       "      <td>mayoredlee</td>\n",
       "      <td>to</td>\n",
       "      <td>1684</td>\n",
       "    </tr>\n",
       "    <tr>\n",
       "      <th>16568</th>\n",
       "      <td>mayoredlee</td>\n",
       "      <td>the</td>\n",
       "      <td>1338</td>\n",
       "    </tr>\n",
       "    <tr>\n",
       "      <th>11669</th>\n",
       "      <td>mayoredlee</td>\n",
       "      <td>amp</td>\n",
       "      <td>1212</td>\n",
       "    </tr>\n",
       "    <tr>\n",
       "      <th>14957</th>\n",
       "      <td>mayoredlee</td>\n",
       "      <td>our</td>\n",
       "      <td>1096</td>\n",
       "    </tr>\n",
       "    <tr>\n",
       "      <th>15964</th>\n",
       "      <td>mayoredlee</td>\n",
       "      <td>sf</td>\n",
       "      <td>909</td>\n",
       "    </tr>\n",
       "  </tbody>\n",
       "</table>\n",
       "</div>"
      ],
      "text/plain": [
       "                       autor token  count\n",
       "autor                                    \n",
       "BillGates  4195    BillGates   the   1178\n",
       "           4271    BillGates    to   1115\n",
       "           2930    BillGates    of    669\n",
       "           2084    BillGates    in    590\n",
       "           2207    BillGates    is    452\n",
       "elonmusk   10699    elonmusk   the    983\n",
       "           10816    elonmusk    to    913\n",
       "           8859     elonmusk    of    638\n",
       "           7801     elonmusk    is    542\n",
       "           7656     elonmusk    in    476\n",
       "mayoredlee 16650  mayoredlee    to   1684\n",
       "           16568  mayoredlee   the   1338\n",
       "           11669  mayoredlee   amp   1212\n",
       "           14957  mayoredlee   our   1096\n",
       "           15964  mayoredlee    sf    909"
      ]
     },
     "execution_count": 25,
     "metadata": {},
     "output_type": "execute_result"
    }
   ],
   "source": [
    "# Top 5 palabras más utilizadas por cada autor\n",
    "# ==============================================================================\n",
    "tweets_tidy.groupby(['autor','token'])['token'] \\\n",
    " .count() \\\n",
    " .reset_index(name='count') \\\n",
    " .groupby('autor') \\\n",
    " .apply(lambda x: x.sort_values('count', ascending=False).head(5))"
   ]
  },
  {
   "cell_type": "markdown",
   "id": "4ddc139e",
   "metadata": {},
   "source": [
    "### Stop words"
   ]
  },
  {
   "cell_type": "markdown",
   "id": "41fdfb7a",
   "metadata": {},
   "source": [
    "En la tabla anterior puede observarse que los términos más frecuentes en todos los usuarios se corresponden con artículos, preposiciones, pronombres…, en general, palabras que no aportan información relevante sobre el texto. Ha estas palabras se les conoce como stopwords. Para cada idioma existen distintos listados de stopwords, además, dependiendo del contexto, puede ser necesario adaptar el listado. Por ejemplo, en la tabla anterior aparece el término amp que procede de la etiqueta html &amp. Con frecuencia, a medida que se realiza un análisis se encuentran palabras que deben incluirse en el listado de stopwords."
   ]
  },
  {
   "cell_type": "code",
   "execution_count": 37,
   "id": "f935d4b6",
   "metadata": {
    "ExecuteTime": {
     "end_time": "2022-03-17T11:34:19.147416Z",
     "start_time": "2022-03-17T11:34:17.927489Z"
    }
   },
   "outputs": [
    {
     "name": "stderr",
     "output_type": "stream",
     "text": [
      "[nltk_data] Downloading package stopwords to\n",
      "[nltk_data]     C:\\Users\\JESCOBARO\\AppData\\Roaming\\nltk_data...\n",
      "[nltk_data]   Unzipping corpora\\stopwords.zip.\n"
     ]
    },
    {
     "name": "stdout",
     "output_type": "stream",
     "text": [
      "['i', 'me', 'my', 'myself', 'we', 'our', 'ours', 'ourselves', 'you', \"you're\"]\n"
     ]
    }
   ],
   "source": [
    "# Obtención de listado de stopwords del inglés\n",
    "# ==============================================================================\n",
    "# !nltk.download('stopwords')\n",
    "stop_words = list(stopwords.words('english'))\n",
    "# Se añade la stoprword: amp, ax, ex\n",
    "stop_words.extend((\"amp\", \"xa\", \"xe\"))\n",
    "print(stop_words[:10])"
   ]
  },
  {
   "cell_type": "code",
   "execution_count": 39,
   "id": "1b441342",
   "metadata": {
    "ExecuteTime": {
     "end_time": "2022-03-17T11:54:57.646098Z",
     "start_time": "2022-03-17T11:54:57.498530Z"
    }
   },
   "outputs": [
    {
     "data": {
      "text/html": [
       "<div>\n",
       "<style scoped>\n",
       "    .dataframe tbody tr th:only-of-type {\n",
       "        vertical-align: middle;\n",
       "    }\n",
       "\n",
       "    .dataframe tbody tr th {\n",
       "        vertical-align: top;\n",
       "    }\n",
       "\n",
       "    .dataframe thead th {\n",
       "        text-align: right;\n",
       "    }\n",
       "</style>\n",
       "<table border=\"1\" class=\"dataframe\">\n",
       "  <thead>\n",
       "    <tr style=\"text-align: right;\">\n",
       "      <th></th>\n",
       "      <th>autor</th>\n",
       "      <th>fecha</th>\n",
       "      <th>id</th>\n",
       "      <th>token</th>\n",
       "    </tr>\n",
       "  </thead>\n",
       "  <tbody>\n",
       "    <tr>\n",
       "      <th>0</th>\n",
       "      <td>elonmusk</td>\n",
       "      <td>2017-11-09 17:28:57+00:00</td>\n",
       "      <td>9.286758e+17</td>\n",
       "      <td>one</td>\n",
       "    </tr>\n",
       "    <tr>\n",
       "      <th>0</th>\n",
       "      <td>elonmusk</td>\n",
       "      <td>2017-11-09 17:28:57+00:00</td>\n",
       "      <td>9.286758e+17</td>\n",
       "      <td>day</td>\n",
       "    </tr>\n",
       "  </tbody>\n",
       "</table>\n",
       "</div>"
      ],
      "text/plain": [
       "      autor                     fecha            id token\n",
       "0  elonmusk 2017-11-09 17:28:57+00:00  9.286758e+17   one\n",
       "0  elonmusk 2017-11-09 17:28:57+00:00  9.286758e+17   day"
      ]
     },
     "execution_count": 39,
     "metadata": {},
     "output_type": "execute_result"
    }
   ],
   "source": [
    "# Filtrado para excluir stopwords\n",
    "# ==============================================================================\n",
    "tweets_tidy = tweets_tidy[~(tweets_tidy[\"token\"].isin(stop_words))]\n",
    "tweets_tidy.head(2)"
   ]
  },
  {
   "cell_type": "code",
   "execution_count": 40,
   "id": "9c9bd68a",
   "metadata": {
    "ExecuteTime": {
     "end_time": "2022-03-17T11:55:37.807151Z",
     "start_time": "2022-03-17T11:55:36.797276Z"
    }
   },
   "outputs": [
    {
     "data": {
      "image/png": "[encoded data removed]",
      "text/plain": [
       "<Figure size 432x504 with 3 Axes>"
      ]
     },
     "metadata": {
      "needs_background": "light"
     },
     "output_type": "display_data"
    }
   ],
   "source": [
    "# Top 10 palabras por autor (sin stopwords)\n",
    "# ==============================================================================\n",
    "fig, axs = plt.subplots(nrows=3, ncols=1,figsize=(6, 7))\n",
    "for i, autor in enumerate(tweets_tidy.autor.unique()):\n",
    "    df_temp = tweets_tidy[tweets_tidy.autor == autor]\n",
    "    counts  = df_temp['token'].value_counts(ascending=False).head(10)\n",
    "    counts.plot(kind='barh', color='firebrick', ax=axs[i])\n",
    "    axs[i].invert_yaxis()\n",
    "    axs[i].set_title(autor)\n",
    "\n",
    "fig.tight_layout();"
   ]
  },
  {
   "cell_type": "markdown",
   "id": "1d7ad229",
   "metadata": {},
   "source": [
    "Los resultados obtenidos tienen sentido si ponemos en contexto la actividad profesional de los usuarios analizados. Mayor Ed Lee es alcalde de San Francisco (sf), por lo que sus tweets están relacionados con la ciudad, residentes, familias, casas... Elon Musk dirige varias empresas tecnológicas entre las que destacan Tesla y SpaceX, dedicadas a los coches y a la aeronáutica. Por último, Bill Gates, además de propietario de microsoft, dedica parte de su capital a fundaciones de ayuda, de ahí las palabras mundo, polio, ayuda..."
   ]
  },
  {
   "cell_type": "markdown",
   "id": "0b0e2256",
   "metadata": {},
   "source": [
    "### Correlación entre autores"
   ]
  },
  {
   "cell_type": "markdown",
   "id": "30ff28d0",
   "metadata": {},
   "source": [
    "Una forma de cuantificar la similitud entre los perfiles de dos usuarios de Twitter es calculando la correlación en el uso de palabras. La idea es que, si dos usuarios escriben de forma similar, tenderán a utilizar las mismas palabras y con frecuencias similares. La medida de similitud más utilizada al trabajar con texto es 1 - distancia coseno.\n",
    "\n",
    "Para poder generar los estudios de correlación se necesita disponer de cada variable en una columna. En este caso, las variables a correlacionar son los autores."
   ]
  },
  {
   "cell_type": "code",
   "execution_count": 41,
   "id": "33441686",
   "metadata": {
    "ExecuteTime": {
     "end_time": "2022-03-17T12:00:34.145226Z",
     "start_time": "2022-03-17T12:00:33.530282Z"
    }
   },
   "outputs": [
    {
     "data": {
      "text/html": [
       "<div>\n",
       "<style scoped>\n",
       "    .dataframe tbody tr th:only-of-type {\n",
       "        vertical-align: middle;\n",
       "    }\n",
       "\n",
       "    .dataframe tbody tr th {\n",
       "        vertical-align: top;\n",
       "    }\n",
       "\n",
       "    .dataframe thead th {\n",
       "        text-align: right;\n",
       "    }\n",
       "</style>\n",
       "<table border=\"1\" class=\"dataframe\">\n",
       "  <thead>\n",
       "    <tr style=\"text-align: right;\">\n",
       "      <th></th>\n",
       "      <th>BillGates</th>\n",
       "      <th>elonmusk</th>\n",
       "      <th>mayoredlee</th>\n",
       "    </tr>\n",
       "    <tr>\n",
       "      <th>token</th>\n",
       "      <th></th>\n",
       "      <th></th>\n",
       "      <th></th>\n",
       "    </tr>\n",
       "  </thead>\n",
       "  <tbody>\n",
       "    <tr>\n",
       "      <th>aa</th>\n",
       "      <td>NaN</td>\n",
       "      <td>16.0</td>\n",
       "      <td>NaN</td>\n",
       "    </tr>\n",
       "    <tr>\n",
       "      <th>aaa</th>\n",
       "      <td>NaN</td>\n",
       "      <td>NaN</td>\n",
       "      <td>2.0</td>\n",
       "    </tr>\n",
       "    <tr>\n",
       "      <th>aaja</th>\n",
       "      <td>NaN</td>\n",
       "      <td>NaN</td>\n",
       "      <td>2.0</td>\n",
       "    </tr>\n",
       "  </tbody>\n",
       "</table>\n",
       "</div>"
      ],
      "text/plain": [
       "       BillGates  elonmusk  mayoredlee\n",
       "token                                 \n",
       "aa           NaN      16.0         NaN\n",
       "aaa          NaN       NaN         2.0\n",
       "aaja         NaN       NaN         2.0"
      ]
     },
     "execution_count": 41,
     "metadata": {},
     "output_type": "execute_result"
    }
   ],
   "source": [
    "# Pivotado de datos\n",
    "# ==============================================================================\n",
    "tweets_pivot = tweets_tidy.groupby([\"autor\",\"token\"])[\"token\"] \\\n",
    "                .agg([\"count\"]).reset_index() \\\n",
    "                .pivot(index = \"token\" , columns=\"autor\", values= \"count\")\n",
    "tweets_pivot.columns.name = None\n",
    "tweets_pivot.head(3)"
   ]
  },
  {
   "cell_type": "code",
   "execution_count": 42,
   "id": "fb3d4bd2",
   "metadata": {
    "ExecuteTime": {
     "end_time": "2022-03-17T12:01:19.669530Z",
     "start_time": "2022-03-17T12:01:19.598042Z"
    }
   },
   "outputs": [
    {
     "data": {
      "text/html": [
       "<div>\n",
       "<style scoped>\n",
       "    .dataframe tbody tr th:only-of-type {\n",
       "        vertical-align: middle;\n",
       "    }\n",
       "\n",
       "    .dataframe tbody tr th {\n",
       "        vertical-align: top;\n",
       "    }\n",
       "\n",
       "    .dataframe thead th {\n",
       "        text-align: right;\n",
       "    }\n",
       "</style>\n",
       "<table border=\"1\" class=\"dataframe\">\n",
       "  <thead>\n",
       "    <tr style=\"text-align: right;\">\n",
       "      <th></th>\n",
       "      <th>BillGates</th>\n",
       "      <th>elonmusk</th>\n",
       "      <th>mayoredlee</th>\n",
       "    </tr>\n",
       "  </thead>\n",
       "  <tbody>\n",
       "    <tr>\n",
       "      <th>BillGates</th>\n",
       "      <td>1.000000</td>\n",
       "      <td>0.567274</td>\n",
       "      <td>0.496346</td>\n",
       "    </tr>\n",
       "    <tr>\n",
       "      <th>elonmusk</th>\n",
       "      <td>0.567274</td>\n",
       "      <td>1.000000</td>\n",
       "      <td>0.276732</td>\n",
       "    </tr>\n",
       "    <tr>\n",
       "      <th>mayoredlee</th>\n",
       "      <td>0.496346</td>\n",
       "      <td>0.276732</td>\n",
       "      <td>1.000000</td>\n",
       "    </tr>\n",
       "  </tbody>\n",
       "</table>\n",
       "</div>"
      ],
      "text/plain": [
       "            BillGates  elonmusk  mayoredlee\n",
       "BillGates    1.000000  0.567274    0.496346\n",
       "elonmusk     0.567274  1.000000    0.276732\n",
       "mayoredlee   0.496346  0.276732    1.000000"
      ]
     },
     "execution_count": 42,
     "metadata": {},
     "output_type": "execute_result"
    }
   ],
   "source": [
    "# Test de correlación (coseno) por el uso y frecuencia de palabras\n",
    "# ==============================================================================\n",
    "from scipy.spatial.distance import cosine\n",
    "\n",
    "def similitud_coseno(a,b):\n",
    "    distancia = cosine(a,b)\n",
    "    return 1-distancia\n",
    "\n",
    "tweets_pivot.corr(method=similitud_coseno)"
   ]
  },
  {
   "cell_type": "code",
   "execution_count": 51,
   "id": "a3973925",
   "metadata": {
    "ExecuteTime": {
     "end_time": "2022-03-17T12:27:05.698143Z",
     "start_time": "2022-03-17T12:27:04.859533Z"
    }
   },
   "outputs": [
    {
     "data": {
      "image/png": "[encoded data removed]",
      "text/plain": [
       "<Figure size 432x288 with 1 Axes>"
      ]
     },
     "metadata": {
      "needs_background": "light"
     },
     "output_type": "display_data"
    }
   ],
   "source": [
    "# Gráfico de correlación\n",
    "# ==============================================================================\n",
    "f, ax = plt.subplots(figsize=(6, 4))\n",
    "temp = tweets_pivot.dropna()\n",
    "sns.regplot(\n",
    "    x  = np.log(temp.elonmusk),\n",
    "    y  = np.log(temp.BillGates),\n",
    "    scatter_kws =  {'alpha': 0.05},\n",
    "    ax = ax\n",
    ");\n",
    "for i in np.random.choice(range(temp.shape[0]), 100):\n",
    "    ax.annotate(\n",
    "        text  = temp.index[i],\n",
    "        xy    = (np.log(temp.elonmusk[i]), np.log(temp.BillGates[i])),\n",
    "        alpha = 0.7\n",
    "    )"
   ]
  },
  {
   "cell_type": "code",
   "execution_count": 52,
   "id": "1a7c90af",
   "metadata": {
    "ExecuteTime": {
     "end_time": "2022-03-17T12:27:21.571064Z",
     "start_time": "2022-03-17T12:27:21.412940Z"
    }
   },
   "outputs": [
    {
     "name": "stdout",
     "output_type": "stream",
     "text": [
      "Palabras comunes entre Elon Musk y Ed Lee: 1760\n",
      "Palabras comunes entre Elon Elon Musk y Bill Gates: 1758\n"
     ]
    }
   ],
   "source": [
    "# Número de palabras comunes\n",
    "# ==============================================================================\n",
    "palabras_elon = set(tweets_tidy[tweets_tidy.autor == 'elonmusk']['token'])\n",
    "palabras_bill = set(tweets_tidy[tweets_tidy.autor == 'BillGates']['token'])\n",
    "palabras_edlee = set(tweets_tidy[tweets_tidy.autor == 'mayoredlee']['token'])\n",
    "\n",
    "print(f\"Palabras comunes entre Elon Musk y Ed Lee: {len(palabras_elon.intersection(palabras_edlee))}\")\n",
    "print(f\"Palabras comunes entre Elon Elon Musk y Bill Gates: {len(palabras_elon.intersection(palabras_bill))}\")"
   ]
  },
  {
   "cell_type": "markdown",
   "id": "4c2c773c",
   "metadata": {},
   "source": [
    "Aunque el número de palabras comunes entre Elon Musk y Bill Gates y entre Elon Musk y Ed Lee es similar, la correlación basada en su uso es mayor entre Elon Musk y Bill Gates. Esto tiene sentido si se contempla el hecho de que ambos trabajan como directivos de empresas tecnológicas."
   ]
  },
  {
   "cell_type": "markdown",
   "id": "25ff0bde",
   "metadata": {},
   "source": [
    "### Comparación en el uso de palabras"
   ]
  },
  {
   "cell_type": "markdown",
   "id": "63708afe",
   "metadata": {},
   "source": [
    "A continuación, se estudia qué palabras se utilizan de forma más diferenciada por cada usuario, es decir, palabras que utiliza mucho un autor y que no utiliza el otro. Una forma de hacer este análisis es mediante el [log of odds ratio](https://en.wikipedia.org/wiki/Odds_ratio) de las frecuencias. Esta comparación se hace por pares, en este caso se comparan Elon Musk y Mayor Ed Lee.\n",
    "\n",
    "log of odd ratio = log( (nk+1/N+1)Elon / (nk+1/N+1)Edd)\n",
    "\n",
    "siendo nk el número de veces que aparece el término k en los textos de cada autor y N el número total de términos de cada autor.\n",
    "\n",
    "Para realizar este cálculo es necesario que, para todos los usuarios, se cuantifique la frecuencia de cada una de las palabras que aparecen en el conjunto de tweets, es decir, si un autor no ha utilizado una de las palabras que sí ha utilizado otro, debe aparecer esa palabra en su registro con frecuencia igual a cero. Existen varias formas de conseguir esto, una de ellas es pivotar y despivotar el dataframe sustituyendo los NaN por cero."
   ]
  },
  {
   "cell_type": "code",
   "execution_count": null,
   "id": "a3b6eacf",
   "metadata": {},
   "outputs": [],
   "source": []
  },
  {
   "cell_type": "code",
   "execution_count": null,
   "id": "c5eb6545",
   "metadata": {},
   "outputs": [],
   "source": []
  },
  {
   "cell_type": "code",
   "execution_count": null,
   "id": "26071398",
   "metadata": {},
   "outputs": [],
   "source": []
  },
  {
   "cell_type": "code",
   "execution_count": null,
   "id": "56d14a98",
   "metadata": {},
   "outputs": [],
   "source": []
  }
 ],
 "metadata": {
  "kernelspec": {
   "display_name": "Python 3 (ipykernel)",
   "language": "python",
   "name": "python3"
  },
  "language_info": {
   "codemirror_mode": {
    "name": "ipython",
    "version": 3
   },
   "file_extension": ".py",
   "mimetype": "text/x-python",
   "name": "python",
   "nbconvert_exporter": "python",
   "pygments_lexer": "ipython3",
   "version": "3.9.0"
  },
  "toc": {
   "base_numbering": 1,
   "nav_menu": {},
   "number_sections": true,
   "sideBar": true,
   "skip_h1_title": true,
   "title_cell": "Table of Contents",
   "title_sidebar": "Contents",
   "toc_cell": false,
   "toc_position": {
    "height": "calc(100% - 180px)",
    "left": "10px",
    "top": "150px",
    "width": "165px"
   },
   "toc_section_display": true,
   "toc_window_display": true
  }
 },
 "nbformat": 4,
 "nbformat_minor": 5
}
