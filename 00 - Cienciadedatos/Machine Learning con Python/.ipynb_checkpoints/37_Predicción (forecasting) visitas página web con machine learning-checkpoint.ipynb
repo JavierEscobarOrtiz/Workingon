{
 "cells": [
  {
   "cell_type": "markdown",
   "metadata": {},
   "source": [
    "https://www.cienciadedatos.net/documentos/py37-forecasting-visitas-web-machine-learning.html"
   ]
  },
  {
   "cell_type": "markdown",
   "metadata": {},
   "source": [
    "# Librerias"
   ]
  },
  {
   "cell_type": "code",
   "execution_count": 17,
   "metadata": {
    "ExecuteTime": {
     "end_time": "2021-12-23T17:29:23.550830Z",
     "start_time": "2021-12-23T17:29:23.501198Z"
    }
   },
   "outputs": [],
   "source": [
    "# Tratamiento de datos\n",
    "# ==============================================================================\n",
    "import numpy as np\n",
    "import pandas as pd\n",
    "\n",
    "# Gráficos\n",
    "# ==============================================================================\n",
    "import matplotlib.pyplot as plt\n",
    "import seaborn as sns\n",
    "import hvplot.pandas\n",
    "%matplotlib inline\n",
    "from statsmodels.graphics.tsaplots import plot_acf\n",
    "from statsmodels.graphics.tsaplots import plot_pacf\n",
    "plt.style.use('fivethirtyeight')\n",
    "\n",
    "# Modelado y Forecasting\n",
    "# ==============================================================================\n",
    "from skforecast.ForecasterAutoreg import ForecasterAutoreg\n",
    "from skforecast.model_selection import grid_search_forecaster\n",
    "from skforecast.model_selection import backtesting_forecaster\n",
    "from skforecast.model_selection_statsmodels import backtesting_sarimax\n",
    "from skforecast.model_selection_statsmodels import grid_search_sarimax\n",
    "\n",
    "from sklearn.linear_model import Ridge\n",
    "from sklearn.preprocessing import StandardScaler\n",
    "from sklearn.pipeline import make_pipeline\n",
    "from sklearn.metrics import mean_absolute_error\n",
    "\n",
    "# Configuración warnings\n",
    "# ==============================================================================\n",
    "import warnings\n",
    "warnings.filterwarnings('once')"
   ]
  },
  {
   "cell_type": "markdown",
   "metadata": {},
   "source": [
    "# Datos"
   ]
  },
  {
   "cell_type": "code",
   "execution_count": 5,
   "metadata": {
    "ExecuteTime": {
     "end_time": "2021-12-23T12:25:33.880882Z",
     "start_time": "2021-12-23T12:25:33.766738Z"
    }
   },
   "outputs": [
    {
     "name": "stdout",
     "output_type": "stream",
     "text": [
      "<class 'pandas.core.frame.DataFrame'>\n",
      "RangeIndex: 421 entries, 0 to 420\n",
      "Data columns (total 2 columns):\n",
      " #   Column  Non-Null Count  Dtype \n",
      "---  ------  --------------  ----- \n",
      " 0   date    421 non-null    object\n",
      " 1   users   421 non-null    int64 \n",
      "dtypes: int64(1), object(1)\n",
      "memory usage: 6.7+ KB\n"
     ]
    }
   ],
   "source": [
    "# Descarga de datos\n",
    "# ==============================================================================\n",
    "url = ('https://raw.githubusercontent.com/JoaquinAmatRodrigo/Estadistica-machine-learning-python/' +\n",
    "       'master/data/visitas_por_dia_web_cienciadedatos.csv')\n",
    "datos_raw = pd.read_csv(url, sep=',')\n",
    "datos_raw.info()"
   ]
  },
  {
   "cell_type": "code",
   "execution_count": 12,
   "metadata": {
    "ExecuteTime": {
     "end_time": "2021-12-23T17:23:51.198245Z",
     "start_time": "2021-12-23T17:23:51.168328Z"
    }
   },
   "outputs": [
    {
     "data": {
      "text/html": [
       "<div>\n",
       "<style scoped>\n",
       "    .dataframe tbody tr th:only-of-type {\n",
       "        vertical-align: middle;\n",
       "    }\n",
       "\n",
       "    .dataframe tbody tr th {\n",
       "        vertical-align: top;\n",
       "    }\n",
       "\n",
       "    .dataframe thead th {\n",
       "        text-align: right;\n",
       "    }\n",
       "</style>\n",
       "<table border=\"1\" class=\"dataframe\">\n",
       "  <thead>\n",
       "    <tr style=\"text-align: right;\">\n",
       "      <th></th>\n",
       "      <th>users</th>\n",
       "    </tr>\n",
       "    <tr>\n",
       "      <th>date</th>\n",
       "      <th></th>\n",
       "    </tr>\n",
       "  </thead>\n",
       "  <tbody>\n",
       "    <tr>\n",
       "      <th>2020-07-01</th>\n",
       "      <td>2324</td>\n",
       "    </tr>\n",
       "    <tr>\n",
       "      <th>2020-07-02</th>\n",
       "      <td>2201</td>\n",
       "    </tr>\n",
       "  </tbody>\n",
       "</table>\n",
       "</div>"
      ],
      "text/plain": [
       "            users\n",
       "date             \n",
       "2020-07-01   2324\n",
       "2020-07-02   2201"
      ]
     },
     "execution_count": 12,
     "metadata": {},
     "output_type": "execute_result"
    }
   ],
   "source": [
    "# Conversión del formato fecha\n",
    "# ==============================================================================\n",
    "datos = datos_raw.copy()\n",
    "datos['date'] = pd.to_datetime(datos['date'], format='%d/%m/%y')\n",
    "datos = datos.set_index('date')\n",
    "datos = datos.asfreq('1D')\n",
    "datos = datos.sort_index()\n",
    "datos.head(2)"
   ]
  },
  {
   "cell_type": "code",
   "execution_count": 7,
   "metadata": {
    "ExecuteTime": {
     "end_time": "2021-12-23T12:25:35.585293Z",
     "start_time": "2021-12-23T12:25:35.569673Z"
    }
   },
   "outputs": [
    {
     "data": {
      "text/plain": [
       "True"
      ]
     },
     "execution_count": 7,
     "metadata": {},
     "output_type": "execute_result"
    }
   ],
   "source": [
    "# Verificar que un índice temporal está completo\n",
    "# ==============================================================================\n",
    "(datos.index == pd.date_range(\n",
    "                    start = datos.index.min(),\n",
    "                    end   = datos.index.max(),\n",
    "                    freq  = datos.index.freq)\n",
    "                ).all()"
   ]
  },
  {
   "cell_type": "code",
   "execution_count": 8,
   "metadata": {
    "ExecuteTime": {
     "end_time": "2021-12-23T17:19:25.987273Z",
     "start_time": "2021-12-23T17:19:25.754074Z"
    }
   },
   "outputs": [
    {
     "name": "stdout",
     "output_type": "stream",
     "text": [
      "Fechas train      : 2020-07-01 00:00:00 --- 2021-03-30 00:00:00\n",
      "Fechas validación : 2021-03-31 00:00:00 --- 2021-06-30 00:00:00\n",
      "Fechas test       : 2021-07-01 00:00:00 --- 2021-08-25 00:00:00\n"
     ]
    }
   ],
   "source": [
    "# Separación datos train-test\n",
    "# ==============================================================================\n",
    "fin_train = '2021-03-30 23:59:00'\n",
    "fin_validacion = '2021-06-30 23:59:00'\n",
    "\n",
    "datos_train = datos.loc[: fin_train, :]\n",
    "datos_val   = datos.loc[fin_train:fin_validacion, :]\n",
    "datos_test  = datos.loc[fin_validacion:, :]\n",
    "\n",
    "print(f\"Fechas train      : {datos_train.index.min()} --- {datos_train.index.max()}\")\n",
    "print(f\"Fechas validación : {datos_val.index.min()} --- {datos_val.index.max()}\")\n",
    "print(f\"Fechas test       : {datos_test.index.min()} --- {datos_test.index.max()}\")"
   ]
  },
  {
   "cell_type": "markdown",
   "metadata": {},
   "source": [
    "# Exploración gráfica"
   ]
  },
  {
   "cell_type": "markdown",
   "metadata": {},
   "source": [
    "**Serie temporal completa**"
   ]
  },
  {
   "cell_type": "code",
   "execution_count": 18,
   "metadata": {
    "ExecuteTime": {
     "end_time": "2021-12-23T17:29:28.192636Z",
     "start_time": "2021-12-23T17:29:27.896253Z"
    }
   },
   "outputs": [
    {
     "data": {
      "image/png": "[encoded data removed]",
      "text/plain": [
       "<Figure size 864x288 with 1 Axes>"
      ]
     },
     "metadata": {},
     "output_type": "display_data"
    }
   ],
   "source": [
    "# Gráfico serie temporal\n",
    "# ==============================================================================\n",
    "fig, ax = plt.subplots(figsize=(12, 4))\n",
    "datos_train.users.plot(ax=ax, label='train', linewidth=1)\n",
    "datos_val.users.plot(ax=ax, label='val', linewidth=1)\n",
    "datos_test.users.plot(ax=ax, label='test', linewidth=1)\n",
    "ax.set_title('Visitas diarias a cienciadedatos.net')\n",
    "ax.legend()\n",
    "plt.show();"
   ]
  },
  {
   "cell_type": "code",
   "execution_count": 16,
   "metadata": {
    "ExecuteTime": {
     "end_time": "2021-12-23T17:29:19.329937Z",
     "start_time": "2021-12-23T17:29:18.898151Z"
    }
   },
   "outputs": [
    {
     "name": "stderr",
     "output_type": "stream",
     "text": [
      "C:\\Users\\JESCOBARO\\Anaconda3\\envs\\skforecast\\lib\\site-packages\\bokeh\\core\\property\\bases.py:259: DeprecationWarning: elementwise comparison failed; this will raise an error in the future.\n",
      "  return new == old\n"
     ]
    },
    {
     "data": {},
     "metadata": {},
     "output_type": "display_data"
    },
    {
     "data": {
      "application/vnd.holoviews_exec.v0+json": "",
      "text/html": [
       "<div id='1720'>\n",
       "\n",
       "\n",
       "\n",
       "\n",
       "\n",
       "  <div class=\"bk-root\" id=\"7e547845-e9db-4f6c-a524-9c02a81eead7\" data-root-id=\"1720\"></div>\n",
       "</div>\n",
       "<script type=\"application/javascript\">(function(root) {\n",
       "  function embed_document(root) {\n",
       "    var docs_json = {\"d6e78b11-ac0b-4771-b6ad-9d7103fbcc42\":{\"defs\":[{\"extends\":null,\"module\":null,\"name\":\"ReactiveHTML1\",\"overrides\":[],\"properties\":[]},{\"extends\":null,\"module\":null,\"name\":\"FlexBox1\",\"overrides\":[],\"properties\":[{\"default\":\"flex-start\",\"kind\":null,\"name\":\"align_content\"},{\"default\":\"flex-start\",\"kind\":null,\"name\":\"align_items\"},{\"default\":\"row\",\"kind\":null,\"name\":\"flex_direction\"},{\"default\":\"wrap\",\"kind\":null,\"name\":\"flex_wrap\"},{\"default\":\"flex-start\",\"kind\":null,\"name\":\"justify_content\"}]},{\"extends\":null,\"module\":null,\"name\":\"TemplateActions1\",\"overrides\":[],\"properties\":[{\"default\":0,\"kind\":null,\"name\":\"open_modal\"},{\"default\":0,\"kind\":null,\"name\":\"close_modal\"}]},{\"extends\":null,\"module\":null,\"name\":\"MaterialTemplateActions1\",\"overrides\":[],\"properties\":[{\"default\":0,\"kind\":null,\"name\":\"open_modal\"},{\"default\":0,\"kind\":null,\"name\":\"close_modal\"}]}],\"roots\":{\"references\":[{\"attributes\":{},\"id\":\"1813\",\"type\":\"UnionRenderers\"},{\"attributes\":{},\"id\":\"1741\",\"type\":\"BasicTicker\"},{\"attributes\":{\"label\":{\"value\":\"test\"},\"renderers\":[{\"id\":\"1836\"}]},\"id\":\"1864\",\"type\":\"LegendItem\"},{\"attributes\":{\"days\":[1,2,3,4,5,6,7,8,9,10,11,12,13,14,15,16,17,18,19,20,21,22,23,24,25,26,27,28,29,30,31]},\"id\":\"1784\",\"type\":\"DaysTicker\"},{\"attributes\":{\"source\":{\"id\":\"1830\"}},\"id\":\"1837\",\"type\":\"CDSView\"},{\"attributes\":{\"mantissas\":[1,2,5],\"max_interval\":500.0,\"num_minor_ticks\":0},\"id\":\"1781\",\"type\":\"AdaptiveTicker\"},{\"attributes\":{},\"id\":\"1797\",\"type\":\"Selection\"},{\"attributes\":{\"base\":60,\"mantissas\":[1,2,5,10,15,20,30],\"max_interval\":1800000.0,\"min_interval\":1000.0,\"num_minor_ticks\":0},\"id\":\"1782\",\"type\":\"AdaptiveTicker\"},{\"attributes\":{\"base\":24,\"mantissas\":[1,2,4,6,8,12],\"max_interval\":43200000.0,\"min_interval\":3600000.0,\"num_minor_ticks\":0},\"id\":\"1783\",\"type\":\"AdaptiveTicker\"},{\"attributes\":{\"days\":[1,4,7,10,13,16,19,22,25,28]},\"id\":\"1785\",\"type\":\"DaysTicker\"},{\"attributes\":{\"months\":[0,1,2,3,4,5,6,7,8,9,10,11]},\"id\":\"1788\",\"type\":\"MonthsTicker\"},{\"attributes\":{\"line_alpha\":0.1,\"line_color\":\"#30a2da\",\"line_width\":2,\"x\":{\"field\":\"date\"},\"y\":{\"field\":\"users\"}},\"id\":\"1767\",\"type\":\"Line\"},{\"attributes\":{\"days\":[1,8,15,22]},\"id\":\"1786\",\"type\":\"DaysTicker\"},{\"attributes\":{\"coordinates\":null,\"data_source\":{\"id\":\"1763\"},\"glyph\":{\"id\":\"1766\"},\"group\":null,\"hover_glyph\":null,\"muted_glyph\":{\"id\":\"1768\"},\"nonselection_glyph\":{\"id\":\"1767\"},\"selection_glyph\":{\"id\":\"1795\"},\"view\":{\"id\":\"1770\"}},\"id\":\"1769\",\"type\":\"GlyphRenderer\"},{\"attributes\":{\"days\":[1,15]},\"id\":\"1787\",\"type\":\"DaysTicker\"},{\"attributes\":{},\"id\":\"1762\",\"type\":\"AllLabels\"},{\"attributes\":{\"coordinates\":null,\"group\":null,\"text\":\"Visitas diarias a cienciadedatos.net\",\"text_color\":\"black\",\"text_font_size\":\"12pt\"},\"id\":\"1728\",\"type\":\"Title\"},{\"attributes\":{\"months\":[0,2,4,6,8,10]},\"id\":\"1789\",\"type\":\"MonthsTicker\"},{\"attributes\":{\"axis_label\":\"date\",\"coordinates\":null,\"formatter\":{\"id\":\"1758\"},\"group\":null,\"major_label_policy\":{\"id\":\"1759\"},\"ticker\":{\"id\":\"1737\"}},\"id\":\"1736\",\"type\":\"DatetimeAxis\"},{\"attributes\":{},\"id\":\"1732\",\"type\":\"LinearScale\"},{\"attributes\":{\"line_alpha\":0.2,\"line_color\":\"#30a2da\",\"line_width\":2,\"x\":{\"field\":\"date\"},\"y\":{\"field\":\"users\"}},\"id\":\"1768\",\"type\":\"Line\"},{\"attributes\":{\"num_minor_ticks\":5,\"tickers\":[{\"id\":\"1781\"},{\"id\":\"1782\"},{\"id\":\"1783\"},{\"id\":\"1784\"},{\"id\":\"1785\"},{\"id\":\"1786\"},{\"id\":\"1787\"},{\"id\":\"1788\"},{\"id\":\"1789\"},{\"id\":\"1790\"},{\"id\":\"1791\"},{\"id\":\"1792\"}]},\"id\":\"1737\",\"type\":\"DatetimeTicker\"},{\"attributes\":{\"months\":[0,4,8]},\"id\":\"1790\",\"type\":\"MonthsTicker\"},{\"attributes\":{},\"id\":\"1734\",\"type\":\"LinearScale\"},{\"attributes\":{\"months\":[0,6]},\"id\":\"1791\",\"type\":\"MonthsTicker\"},{\"attributes\":{\"margin\":[5,5,5,5],\"name\":\"HSpacer02977\",\"sizing_mode\":\"stretch_width\"},\"id\":\"2100\",\"type\":\"Spacer\"},{\"attributes\":{\"axis_label\":\"users\",\"coordinates\":null,\"formatter\":{\"id\":\"1761\"},\"group\":null,\"major_label_policy\":{\"id\":\"1762\"},\"ticker\":{\"id\":\"1741\"}},\"id\":\"1740\",\"type\":\"LinearAxis\"},{\"attributes\":{\"source\":{\"id\":\"1763\"}},\"id\":\"1770\",\"type\":\"CDSView\"},{\"attributes\":{\"axis\":{\"id\":\"1736\"},\"coordinates\":null,\"grid_line_color\":null,\"group\":null,\"ticker\":null},\"id\":\"1739\",\"type\":\"Grid\"},{\"attributes\":{\"callback\":null,\"formatters\":{\"@{date}\":\"datetime\"},\"renderers\":[{\"id\":\"1769\"},{\"id\":\"1802\"},{\"id\":\"1836\"}],\"tags\":[\"hv_created\"],\"tooltips\":[[\"date\",\"@{date}{%F %T}\"],[\"users\",\"@{users}\"]]},\"id\":\"1724\",\"type\":\"HoverTool\"},{\"attributes\":{},\"id\":\"1764\",\"type\":\"Selection\"},{\"attributes\":{},\"id\":\"1792\",\"type\":\"YearsTicker\"},{\"attributes\":{\"axis\":{\"id\":\"1740\"},\"coordinates\":null,\"dimension\":1,\"grid_line_color\":null,\"group\":null,\"ticker\":null},\"id\":\"1743\",\"type\":\"Grid\"},{\"attributes\":{\"click_policy\":\"mute\",\"coordinates\":null,\"group\":null,\"items\":[{\"id\":\"1794\"},{\"id\":\"1828\"},{\"id\":\"1864\"}]},\"id\":\"1793\",\"type\":\"Legend\"},{\"attributes\":{},\"id\":\"1761\",\"type\":\"BasicTickFormatter\"},{\"attributes\":{\"below\":[{\"id\":\"1736\"}],\"center\":[{\"id\":\"1739\"},{\"id\":\"1743\"},{\"id\":\"1793\"}],\"height\":300,\"left\":[{\"id\":\"1740\"}],\"margin\":[5,5,5,5],\"min_border_bottom\":10,\"min_border_left\":10,\"min_border_right\":10,\"min_border_top\":10,\"renderers\":[{\"id\":\"1769\"},{\"id\":\"1802\"},{\"id\":\"1836\"}],\"sizing_mode\":\"fixed\",\"title\":{\"id\":\"1728\"},\"toolbar\":{\"id\":\"1750\"},\"width\":700,\"x_range\":{\"id\":\"1722\"},\"x_scale\":{\"id\":\"1732\"},\"y_range\":{\"id\":\"1723\"},\"y_scale\":{\"id\":\"1734\"}},\"id\":\"1727\",\"subtype\":\"Figure\",\"type\":\"Plot\"},{\"attributes\":{},\"id\":\"1778\",\"type\":\"UnionRenderers\"},{\"attributes\":{},\"id\":\"1831\",\"type\":\"Selection\"},{\"attributes\":{\"end\":7474.4,\"reset_end\":7474.4,\"reset_start\":-534.4000000000001,\"start\":-534.4000000000001,\"tags\":[[[\"users\",\"users\",null]]]},\"id\":\"1723\",\"type\":\"Range1d\"},{\"attributes\":{\"children\":[{\"id\":\"1721\"},{\"id\":\"1727\"},{\"id\":\"2100\"}],\"margin\":[0,0,0,0],\"name\":\"Row02972\",\"tags\":[\"embedded\"]},\"id\":\"1720\",\"type\":\"Row\"},{\"attributes\":{\"line_color\":\"#fc4f30\",\"line_width\":2,\"x\":{\"field\":\"date\"},\"y\":{\"field\":\"users\"}},\"id\":\"1829\",\"type\":\"Line\"},{\"attributes\":{\"tools\":[{\"id\":\"1724\"},{\"id\":\"1744\"},{\"id\":\"1745\"},{\"id\":\"1746\"},{\"id\":\"1747\"},{\"id\":\"1748\"}]},\"id\":\"1750\",\"type\":\"Toolbar\"},{\"attributes\":{\"line_alpha\":0.1,\"line_color\":\"#fc4f30\",\"line_width\":2,\"x\":{\"field\":\"date\"},\"y\":{\"field\":\"users\"}},\"id\":\"1800\",\"type\":\"Line\"},{\"attributes\":{\"line_color\":\"#e5ae38\",\"line_width\":2,\"x\":{\"field\":\"date\"},\"y\":{\"field\":\"users\"}},\"id\":\"1833\",\"type\":\"Line\"},{\"attributes\":{\"data\":{\"date\":{\"__ndarray__\":\"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\",\"dtype\":\"float64\",\"order\":\"little\",\"shape\":[273]},\"users\":[2324,2201,2146,1666,1433,2195,2240,2295,2279,2155,1737,1391,2150,2121,2136,2166,2067,1648,1401,2040,2269,2283,2174,2178,1659,1338,2041,2162,2123,2147,2124,1533,1398,2080,2110,2235,2100,1815,1635,1477,2060,2227,2054,2247,2358,1676,1384,2101,2281,2144,2161,2088,1596,1411,1952,2116,2228,2132,2092,1659,1476,2213,2206,2543,2670,2537,1858,1458,2422,2682,2817,2905,2641,2059,1708,2557,2762,2448,2784,2743,2172,1770,2977,3404,3534,3134,3086,2586,2040,3130,3632,3495,3411,3444,2457,2138,3281,3780,3775,3872,3600,2721,2307,3216,3994,4064,4201,4124,3116,2561,4185,4630,4513,4656,4319,3160,2824,4132,4553,4559,4621,4258,3092,2324,3342,4318,4821,4855,4604,3544,3195,5045,5265,5282,5419,5130,3861,3317,4156,5258,5668,5565,5306,4073,3579,5828,6807,6774,6587,6312,4810,4110,6117,6298,6587,6671,5235,3416,2855,4079,3983,4418,4660,3894,2965,2459,3698,3751,3565,3179,2781,1931,1558,1934,1973,1640,886,472,863,987,1432,1390,1278,785,488,922,1144,1677,1968,1750,2108,2012,1574,1569,2413,2604,2441,2596,2400,1994,1871,2545,2706,2753,2587,2377,1739,1747,2555,2666,2695,2640,2459,1808,1724,2320,2463,2594,2446,2379,1883,1538,2390,2521,2606,2467,2342,1652,1438,2185,2311,2563,2622,2336,1693,1579,2499,2920,2726,2827,2567,2015,1670,2642,2827,3129,3154,2758,2050,1968,2902,2954,3072,3116,2928,2133,1987,2726,3218,3178,3127,2848,2069,1926,3227,3189,3192,3177,2952,1964,1482,2179,2286]},\"selected\":{\"id\":\"1764\"},\"selection_policy\":{\"id\":\"1778\"}},\"id\":\"1763\",\"type\":\"ColumnDataSource\"},{\"attributes\":{\"line_color\":\"#fc4f30\",\"line_width\":2,\"x\":{\"field\":\"date\"},\"y\":{\"field\":\"users\"}},\"id\":\"1799\",\"type\":\"Line\"},{\"attributes\":{},\"id\":\"1759\",\"type\":\"AllLabels\"},{\"attributes\":{\"line_color\":\"#30a2da\",\"line_width\":2,\"x\":{\"field\":\"date\"},\"y\":{\"field\":\"users\"}},\"id\":\"1795\",\"type\":\"Line\"},{\"attributes\":{},\"id\":\"1744\",\"type\":\"SaveTool\"},{\"attributes\":{\"label\":{\"value\":\"val\"},\"renderers\":[{\"id\":\"1802\"}]},\"id\":\"1828\",\"type\":\"LegendItem\"},{\"attributes\":{\"end\":1629849600000.0,\"reset_end\":1629849600000.0,\"reset_start\":1593561600000.0,\"start\":1593561600000.0,\"tags\":[[[\"date\",\"date\",null]]]},\"id\":\"1722\",\"type\":\"Range1d\"},{\"attributes\":{},\"id\":\"1745\",\"type\":\"PanTool\"},{\"attributes\":{\"line_alpha\":0.2,\"line_color\":\"#e5ae38\",\"line_width\":2,\"x\":{\"field\":\"date\"},\"y\":{\"field\":\"users\"}},\"id\":\"1835\",\"type\":\"Line\"},{\"attributes\":{},\"id\":\"1748\",\"type\":\"ResetTool\"},{\"attributes\":{\"data\":{\"date\":{\"__ndarray__\":\"AADARlmId0IAAICsq4h3QgAAQBL+iHdCAAAAeFCJd0IAAMDdool3QgAAgEP1iXdCAABAqUeKd0IAAAAPmop3QgAAwHTsindCAACA2j6Ld0IAAEBAkYt3QgAAAKbji3dCAADACzaMd0IAAIBxiIx3QgAAQNfajHdCAAAAPS2Nd0IAAMCif413QgAAgAjSjXdCAABAbiSOd0IAAADUdo53QgAAwDnJjndCAACAnxuPd0IAAEAFbo93QgAAAGvAj3dCAADA0BKQd0IAAIA2ZZB3QgAAQJy3kHdCAAAAAgqRd0IAAMBnXJF3QgAAgM2ukXdCAABAMwGSd0IAAACZU5J3QgAAwP6lkndCAACAZPiSd0IAAEDKSpN3QgAAADCdk3dCAADAle+Td0IAAID7QZR3QgAAQGGUlHdCAAAAx+aUd0IAAMAsOZV3QgAAgJKLlXdCAABA+N2Vd0IAAABeMJZ3QgAAwMOClndCAACAKdWWd0IAAECPJ5d3QgAAAPV5l3dCAADAWsyXd0IAAIDAHph3QgAAQCZxmHdCAAAAjMOYd0IAAMDxFZl3QgAAgFdomXdCAABAvbqZd0IAAAAjDZp3QgAAwIhfmndCAACA7rGad0IAAEBUBJt3QgAAALpWm3dCAADAH6mbd0IAAICF+5t3QgAAQOtNnHdCAAAAUaCcd0IAAMC28px3QgAAgBxFnXdCAABAgpedd0IAAADo6Z13QgAAwE08nndCAACAs46ed0IAAEAZ4Z53QgAAAH8zn3dCAADA5IWfd0IAAIBK2J93QgAAQLAqoHdCAAAAFn2gd0IAAMB7z6B3QgAAgOEhoXdCAABAR3Shd0IAAACtxqF3QgAAwBIZondCAACAeGuid0IAAEDevaJ3QgAAAEQQo3dCAADAqWKjd0IAAIAPtaN3QgAAQHUHpHdCAAAA21mkd0IAAMBArKR3QgAAgKb+pHdCAABADFGld0IAAAByo6V3Qg==\",\"dtype\":\"float64\",\"order\":\"little\",\"shape\":[92]},\"users\":[2038,1464,1381,1360,1359,2225,2605,2615,2519,2837,2118,1966,2924,3182,3134,3127,3167,2504,2330,3605,3585,3852,3914,3541,2794,2467,3585,4022,3690,3579,3331,2543,2292,3645,3698,3623,3529,3468,2615,2534,3348,3787,3907,3848,3451,2619,2461,3399,3801,3946,3742,3543,2610,2560,3928,4257,4208,4260,4033,3005,2570,3948,4084,3866,4001,3490,2921,2504,3843,4055,3931,4016,3668,2694,2376,3569,3887,4012,3714,3494,2622,2333,3343,3659,3847,3461,3256,2443,2084,3211,3435,3391]},\"selected\":{\"id\":\"1797\"},\"selection_policy\":{\"id\":\"1813\"}},\"id\":\"1796\",\"type\":\"ColumnDataSource\"},{\"attributes\":{},\"id\":\"1746\",\"type\":\"WheelZoomTool\"},{\"attributes\":{\"line_color\":\"#e5ae38\",\"line_width\":2,\"x\":{\"field\":\"date\"},\"y\":{\"field\":\"users\"}},\"id\":\"1865\",\"type\":\"Line\"},{\"attributes\":{\"label\":{\"value\":\"train\"},\"renderers\":[{\"id\":\"1769\"}]},\"id\":\"1794\",\"type\":\"LegendItem\"},{\"attributes\":{\"overlay\":{\"id\":\"1749\"}},\"id\":\"1747\",\"type\":\"BoxZoomTool\"},{\"attributes\":{\"coordinates\":null,\"data_source\":{\"id\":\"1796\"},\"glyph\":{\"id\":\"1799\"},\"group\":null,\"hover_glyph\":null,\"muted_glyph\":{\"id\":\"1801\"},\"nonselection_glyph\":{\"id\":\"1800\"},\"selection_glyph\":{\"id\":\"1829\"},\"view\":{\"id\":\"1803\"}},\"id\":\"1802\",\"type\":\"GlyphRenderer\"},{\"attributes\":{},\"id\":\"1849\",\"type\":\"UnionRenderers\"},{\"attributes\":{\"coordinates\":null,\"data_source\":{\"id\":\"1830\"},\"glyph\":{\"id\":\"1833\"},\"group\":null,\"hover_glyph\":null,\"muted_glyph\":{\"id\":\"1835\"},\"nonselection_glyph\":{\"id\":\"1834\"},\"selection_glyph\":{\"id\":\"1865\"},\"view\":{\"id\":\"1837\"}},\"id\":\"1836\",\"type\":\"GlyphRenderer\"},{\"attributes\":{\"margin\":[5,5,5,5],\"name\":\"HSpacer02976\",\"sizing_mode\":\"stretch_width\"},\"id\":\"1721\",\"type\":\"Spacer\"},{\"attributes\":{\"data\":{\"date\":{\"__ndarray__\":\"AADA1/Wld0IAAIA9SKZ3QgAAQKOapndCAAAACe2md0IAAMBuP6d3QgAAgNSRp3dCAABAOuSnd0IAAACgNqh3QgAAwAWJqHdCAACAa9uod0IAAEDRLal3QgAAADeAqXdCAADAnNKpd0IAAIACJap3QgAAQGh3qndCAAAAzsmqd0IAAMAzHKt3QgAAgJluq3dCAABA/8Crd0IAAABlE6x3QgAAwMplrHdCAACAMLisd0IAAECWCq13QgAAAPxcrXdCAADAYa+td0IAAIDHAa53QgAAQC1UrndCAAAAk6aud0IAAMD4+K53QgAAgF5Lr3dCAABAxJ2vd0IAAAAq8K93QgAAwI9CsHdCAACA9ZSwd0IAAEBb57B3QgAAAME5sXdCAADAJoyxd0IAAICM3rF3QgAAQPIwsndCAAAAWIOyd0IAAMC91bJ3QgAAgCMos3dCAABAiXqzd0IAAADvzLN3QgAAwFQftHdCAACAunG0d0IAAEAgxLR3QgAAAIYWtXdCAADA62i1d0IAAIBRu7V3QgAAQLcNtndCAAAAHWC2d0IAAMCCsrZ3QgAAgOgEt3dCAABATle3d0IAAAC0qbd3Qg==\",\"dtype\":\"float64\",\"order\":\"little\",\"shape\":[56]},\"users\":[3123,2870,2020,1828,2722,2991,2976,2834,2609,1832,1462,2563,2897,3057,2697,2391,1730,1434,2455,2508,2563,2447,2543,1714,1415,2407,2587,2314,2465,2088,1535,133,2146,2266,2330,2323,2003,1406,1239,1989,2268,2249,2322,2098,1477,1308,1920,2219,2482,2345,2185,1546,1393,2371,2547,2448]},\"selected\":{\"id\":\"1831\"},\"selection_policy\":{\"id\":\"1849\"}},\"id\":\"1830\",\"type\":\"ColumnDataSource\"},{\"attributes\":{\"line_color\":\"#30a2da\",\"line_width\":2,\"x\":{\"field\":\"date\"},\"y\":{\"field\":\"users\"}},\"id\":\"1766\",\"type\":\"Line\"},{\"attributes\":{\"source\":{\"id\":\"1796\"}},\"id\":\"1803\",\"type\":\"CDSView\"},{\"attributes\":{},\"id\":\"1758\",\"type\":\"DatetimeTickFormatter\"},{\"attributes\":{\"bottom_units\":\"screen\",\"coordinates\":null,\"fill_alpha\":0.5,\"fill_color\":\"lightgrey\",\"group\":null,\"left_units\":\"screen\",\"level\":\"overlay\",\"line_alpha\":1.0,\"line_color\":\"black\",\"line_dash\":[4,4],\"line_width\":2,\"right_units\":\"screen\",\"syncable\":false,\"top_units\":\"screen\"},\"id\":\"1749\",\"type\":\"BoxAnnotation\"},{\"attributes\":{\"line_alpha\":0.1,\"line_color\":\"#e5ae38\",\"line_width\":2,\"x\":{\"field\":\"date\"},\"y\":{\"field\":\"users\"}},\"id\":\"1834\",\"type\":\"Line\"},{\"attributes\":{\"line_alpha\":0.2,\"line_color\":\"#fc4f30\",\"line_width\":2,\"x\":{\"field\":\"date\"},\"y\":{\"field\":\"users\"}},\"id\":\"1801\",\"type\":\"Line\"}],\"root_ids\":[\"1720\"]},\"title\":\"Bokeh Application\",\"version\":\"2.4.2\"}};\n",
       "    var render_items = [{\"docid\":\"d6e78b11-ac0b-4771-b6ad-9d7103fbcc42\",\"root_ids\":[\"1720\"],\"roots\":{\"1720\":\"7e547845-e9db-4f6c-a524-9c02a81eead7\"}}];\n",
       "    root.Bokeh.embed.embed_items_notebook(docs_json, render_items);\n",
       "  }\n",
       "  if (root.Bokeh !== undefined && root.Bokeh.Panel !== undefined) {\n",
       "    embed_document(root);\n",
       "  } else {\n",
       "    var attempts = 0;\n",
       "    var timer = setInterval(function(root) {\n",
       "      if (root.Bokeh !== undefined && root.Bokeh.Panel !== undefined) {\n",
       "        clearInterval(timer);\n",
       "        embed_document(root);\n",
       "      } else if (document.readyState == \"complete\") {\n",
       "        attempts++;\n",
       "        if (attempts > 200) {\n",
       "          clearInterval(timer);\n",
       "          console.log(\"Bokeh: ERROR: Unable to run BokehJS code because BokehJS library is missing\");\n",
       "        }\n",
       "      }\n",
       "    }, 25, root)\n",
       "  }\n",
       "})(window);</script>"
      ],
      "text/plain": [
       ":Overlay\n",
       "   .Curve.Train :Curve   [date]   (users)\n",
       "   .Curve.Val   :Curve   [date]   (users)\n",
       "   .Curve.Test  :Curve   [date]   (users)"
      ]
     },
     "execution_count": 16,
     "metadata": {
      "application/vnd.holoviews_exec.v0+json": {
       "id": "1720"
      }
     },
     "output_type": "execute_result"
    }
   ],
   "source": [
    "plot_train = datos_train.users.hvplot.line(label='train')\n",
    "plot_val = datos_val.users.hvplot.line(label='val')\n",
    "plot_test = datos_test.users.hvplot.line(label='test')\n",
    "\n",
    "layout = plot_train * plot_val * plot_test\n",
    "layout = layout.opts(title='Visitas diarias a cienciadedatos.net', ylabel='users')\n",
    "layout"
   ]
  },
  {
   "cell_type": "markdown",
   "metadata": {},
   "source": [
    "**Estacionalidad anual, mensual y semanal**"
   ]
  },
  {
   "cell_type": "code",
   "execution_count": 24,
   "metadata": {
    "ExecuteTime": {
     "end_time": "2021-12-23T17:35:42.460206Z",
     "start_time": "2021-12-23T17:35:41.885528Z"
    }
   },
   "outputs": [
    {
     "data": {},
     "metadata": {},
     "output_type": "display_data"
    },
    {
     "data": {
      "application/vnd.holoviews_exec.v0+json": "",
      "text/html": [
       "<div id='3494'>\n",
       "\n",
       "\n",
       "\n",
       "\n",
       "\n",
       "  <div class=\"bk-root\" id=\"75e6c0e3-2f2e-4a4a-ab5a-74eccbf52bb7\" data-root-id=\"3494\"></div>\n",
       "</div>\n",
       "<script type=\"application/javascript\">(function(root) {\n",
       "  function embed_document(root) {\n",
       "    var docs_json = {\"8b9cbbda-03c7-44c9-9e25-af6d19aee3db\":{\"defs\":[{\"extends\":null,\"module\":null,\"name\":\"ReactiveHTML1\",\"overrides\":[],\"properties\":[]},{\"extends\":null,\"module\":null,\"name\":\"FlexBox1\",\"overrides\":[],\"properties\":[{\"default\":\"flex-start\",\"kind\":null,\"name\":\"align_content\"},{\"default\":\"flex-start\",\"kind\":null,\"name\":\"align_items\"},{\"default\":\"row\",\"kind\":null,\"name\":\"flex_direction\"},{\"default\":\"wrap\",\"kind\":null,\"name\":\"flex_wrap\"},{\"default\":\"flex-start\",\"kind\":null,\"name\":\"justify_content\"}]},{\"extends\":null,\"module\":null,\"name\":\"TemplateActions1\",\"overrides\":[],\"properties\":[{\"default\":0,\"kind\":null,\"name\":\"open_modal\"},{\"default\":0,\"kind\":null,\"name\":\"close_modal\"}]},{\"extends\":null,\"module\":null,\"name\":\"MaterialTemplateActions1\",\"overrides\":[],\"properties\":[{\"default\":0,\"kind\":null,\"name\":\"open_modal\"},{\"default\":0,\"kind\":null,\"name\":\"close_modal\"}]}],\"roots\":{\"references\":[{\"attributes\":{\"coordinates\":null,\"data_source\":{\"id\":\"3567\"},\"glyph\":{\"id\":\"3569\"},\"group\":null,\"hover_glyph\":null,\"muted_glyph\":{\"id\":\"3571\"},\"nonselection_glyph\":{\"id\":\"3570\"},\"selection_glyph\":{\"id\":\"3574\"},\"view\":{\"id\":\"3573\"}},\"id\":\"3572\",\"type\":\"GlyphRenderer\"},{\"attributes\":{},\"id\":\"3632\",\"type\":\"UnionRenderers\"},{\"attributes\":{\"data\":{\"x0\":[\"1\",\"2\",\"3\",\"4\",\"5\",\"6\",\"7\",\"8\",\"9\",\"10\",\"11\",\"12\"],\"x1\":[\"1\",\"2\",\"3\",\"4\",\"5\",\"6\",\"7\",\"8\",\"9\",\"10\",\"11\",\"12\"],\"y0\":[922,1438,1482,1359,2292,2084,1338,1239,1458,2138,2324,472],\"y1\":{\"__ndarray__\":\"AAAAAAA8m0AAAAAAAPieQAAAAAAAaqBAAAAAAIB4okAAAAAAAHKkQAAAAAAAY6dAAAAAAABcnUAAAAAAAGWZQAAAAAAAqKFAAAAAAACEqEAAAAAAgOSvQAAAAAAAXJdA\",\"dtype\":\"float64\",\"order\":\"little\",\"shape\":[12]}},\"selected\":{\"id\":\"3621\"},\"selection_policy\":{\"id\":\"3620\"}},\"id\":\"3551\",\"type\":\"ColumnDataSource\"},{\"attributes\":{\"line_alpha\":{\"value\":0.1},\"x0\":{\"field\":\"x0\"},\"x1\":{\"field\":\"x1\"},\"y0\":{\"field\":\"y0\"},\"y1\":{\"field\":\"y1\"}},\"id\":\"3570\",\"type\":\"Segment\"},{\"attributes\":{},\"id\":\"3618\",\"type\":\"UnionRenderers\"},{\"attributes\":{\"source\":{\"id\":\"3575\"}},\"id\":\"3581\",\"type\":\"CDSView\"},{\"attributes\":{},\"id\":\"3530\",\"type\":\"CategoricalTickFormatter\"},{\"attributes\":{\"factors\":[\"1\",\"2\",\"3\",\"4\",\"5\",\"6\",\"7\",\"8\",\"9\",\"10\",\"11\",\"12\"],\"tags\":[[[\"mes\",\"mes\",null]]]},\"id\":\"3496\",\"type\":\"FactorRange\"},{\"attributes\":{\"bottom\":{\"field\":\"bottom\"},\"fill_alpha\":{\"value\":0.2},\"fill_color\":{\"value\":null},\"hatch_alpha\":{\"value\":0.2},\"line_alpha\":{\"value\":0.2},\"top\":{\"field\":\"top\"},\"width\":{\"value\":0.7},\"x\":{\"field\":\"index\"}},\"id\":\"3587\",\"type\":\"VBar\"},{\"attributes\":{\"line_color\":\"#30a2da\",\"line_width\":2,\"x\":{\"field\":\"mes\"},\"y\":{\"field\":\"users\"}},\"id\":\"3599\",\"type\":\"Line\"},{\"attributes\":{\"data\":{\"mes\":[\"1\",\"2\",\"3\",\"4\",\"5\",\"6\",\"7\",\"8\",\"9\",\"10\",\"11\",\"12\"],\"users\":{\"__ndarray__\":\"AAAAAAB4oEAAAAAAAKGiQAAAAAAAQKZAAAAAAACBpkAAAAAAAK6rQAAAAAAASKtAAAAAAAD0oEAAAAAAAGagQAAAAAAAv6RAAAAAAACIrUAAAAAAAFazQAAAAAAATqZA\",\"dtype\":\"float64\",\"order\":\"little\",\"shape\":[12]}},\"selected\":{\"id\":\"3601\"},\"selection_policy\":{\"id\":\"3632\"}},\"id\":\"3600\",\"type\":\"ColumnDataSource\"},{\"attributes\":{\"x0\":{\"field\":\"x0\"},\"x1\":{\"field\":\"x1\"},\"y0\":{\"field\":\"y0\"},\"y1\":{\"field\":\"y1\"}},\"id\":\"3553\",\"type\":\"Segment\"},{\"attributes\":{\"data\":{\"x0\":[[\"1\",-0.2],[\"2\",-0.2],[\"3\",-0.2],[\"4\",-0.2],[\"5\",-0.2],[\"6\",-0.2],[\"7\",-0.2],[\"8\",-0.2],[\"9\",-0.2],[\"10\",-0.2],[\"11\",-0.2],[\"12\",-0.2]],\"x1\":[[\"1\",0.2],[\"2\",0.2],[\"3\",0.2],[\"4\",0.2],[\"5\",0.2],[\"6\",0.2],[\"7\",0.2],[\"8\",0.2],[\"9\",0.2],[\"10\",0.2],[\"11\",0.2],[\"12\",0.2]],\"y0\":[922,1438,1482,1359,2292,2084,1338,1239,1458,2138,2324,472],\"y1\":[922,1438,1482,1359,2292,2084,1338,1239,1458,2138,2324,472]},\"selected\":{\"id\":\"3623\"},\"selection_policy\":{\"id\":\"3622\"}},\"id\":\"3559\",\"type\":\"ColumnDataSource\"},{\"attributes\":{\"line_alpha\":{\"value\":0.2},\"x0\":{\"field\":\"x0\"},\"x1\":{\"field\":\"x1\"},\"y0\":{\"field\":\"y0\"},\"y1\":{\"field\":\"y1\"}},\"id\":\"3563\",\"type\":\"Segment\"},{\"attributes\":{\"x0\":{\"field\":\"x0\"},\"x1\":{\"field\":\"x1\"},\"y0\":{\"field\":\"y0\"},\"y1\":{\"field\":\"y1\"}},\"id\":\"3569\",\"type\":\"Segment\"},{\"attributes\":{\"x0\":{\"field\":\"x0\"},\"x1\":{\"field\":\"x1\"},\"y0\":{\"field\":\"y0\"},\"y1\":{\"field\":\"y1\"}},\"id\":\"3561\",\"type\":\"Segment\"},{\"attributes\":{},\"id\":\"3627\",\"type\":\"Selection\"},{\"attributes\":{},\"id\":\"3601\",\"type\":\"Selection\"},{\"attributes\":{},\"id\":\"3617\",\"type\":\"Selection\"},{\"attributes\":{\"source\":{\"id\":\"3591\"}},\"id\":\"3598\",\"type\":\"CDSView\"},{\"attributes\":{\"x0\":{\"field\":\"x0\"},\"x1\":{\"field\":\"x1\"},\"y0\":{\"field\":\"y0\"},\"y1\":{\"field\":\"y1\"}},\"id\":\"3545\",\"type\":\"Segment\"},{\"attributes\":{},\"id\":\"3518\",\"type\":\"WheelZoomTool\"},{\"attributes\":{\"data\":{\"bottom\":{\"__ndarray__\":\"AAAAAAB4oEAAAAAAAKGiQAAAAAAAQKZAAAAAAACBpkAAAAAAAK6rQAAAAAAASKtAAAAAAAD0oEAAAAAAAGagQAAAAAAAv6RAAAAAAACIrUAAAAAAAFazQAAAAAAATqZA\",\"dtype\":\"float64\",\"order\":\"little\",\"shape\":[12]},\"index\":[\"1\",\"2\",\"3\",\"4\",\"5\",\"6\",\"7\",\"8\",\"9\",\"10\",\"11\",\"12\"],\"top\":{\"__ndarray__\":\"AAAAAAA8m0AAAAAAAPieQAAAAAAAaqBAAAAAAIB4okAAAAAAAHKkQAAAAAAAY6dAAAAAAABcnUAAAAAAAGWZQAAAAAAAqKFAAAAAAACEqEAAAAAAgOSvQAAAAAAAXJdA\",\"dtype\":\"float64\",\"order\":\"little\",\"shape\":[12]}},\"selected\":{\"id\":\"3629\"},\"selection_policy\":{\"id\":\"3628\"}},\"id\":\"3583\",\"type\":\"ColumnDataSource\"},{\"attributes\":{},\"id\":\"3531\",\"type\":\"AllLabels\"},{\"attributes\":{},\"id\":\"3628\",\"type\":\"UnionRenderers\"},{\"attributes\":{\"coordinates\":null,\"data_source\":{\"id\":\"3591\"},\"glyph\":{\"id\":\"3594\"},\"group\":null,\"hover_glyph\":null,\"muted_glyph\":{\"id\":\"3596\"},\"nonselection_glyph\":{\"id\":\"3595\"},\"selection_glyph\":{\"id\":\"3599\"},\"view\":{\"id\":\"3598\"}},\"id\":\"3597\",\"type\":\"GlyphRenderer\"},{\"attributes\":{\"bottom\":{\"field\":\"bottom\"},\"fill_alpha\":{\"value\":0.1},\"fill_color\":{\"value\":null},\"hatch_alpha\":{\"value\":0.1},\"line_alpha\":{\"value\":0.1},\"top\":{\"field\":\"top\"},\"width\":{\"value\":0.7},\"x\":{\"field\":\"index\"}},\"id\":\"3586\",\"type\":\"VBar\"},{\"attributes\":{\"data\":{\"bottom\":{\"__ndarray__\":\"AAAAAAAWpEAAAAAAAAikQAAAAAAAcKhAAAAAAADjq0AAAAAAAEuuQAAAAACAKq5AAAAAAAA9o0AAAAAAAHyhQAAAAAAAHqdAAAAAAICFsEAAAAAAgJi1QAAAAAAAxa5A\",\"dtype\":\"float64\",\"order\":\"little\",\"shape\":[12]},\"index\":[\"1\",\"2\",\"3\",\"4\",\"5\",\"6\",\"7\",\"8\",\"9\",\"10\",\"11\",\"12\"],\"top\":{\"__ndarray__\":\"AAAAAAB4oEAAAAAAAKGiQAAAAAAAQKZAAAAAAACBpkAAAAAAAK6rQAAAAAAASKtAAAAAAAD0oEAAAAAAAGagQAAAAAAAv6RAAAAAAACIrUAAAAAAAFazQAAAAAAATqZA\",\"dtype\":\"float64\",\"order\":\"little\",\"shape\":[12]}},\"selected\":{\"id\":\"3627\"},\"selection_policy\":{\"id\":\"3626\"}},\"id\":\"3575\",\"type\":\"ColumnDataSource\"},{\"attributes\":{},\"id\":\"3513\",\"type\":\"BasicTicker\"},{\"attributes\":{},\"id\":\"3592\",\"type\":\"Selection\"},{\"attributes\":{\"axis_label\":\"users\",\"coordinates\":null,\"formatter\":{\"id\":\"3533\"},\"group\":null,\"major_label_policy\":{\"id\":\"3534\"},\"ticker\":{\"id\":\"3513\"}},\"id\":\"3512\",\"type\":\"LinearAxis\"},{\"attributes\":{\"bottom\":{\"field\":\"bottom\"},\"fill_alpha\":{\"value\":0.1},\"fill_color\":{\"value\":null},\"hatch_alpha\":{\"value\":0.1},\"line_alpha\":{\"value\":0.1},\"top\":{\"field\":\"top\"},\"width\":{\"value\":0.7},\"x\":{\"field\":\"index\"}},\"id\":\"3578\",\"type\":\"VBar\"},{\"attributes\":{\"coordinates\":null,\"data_source\":{\"id\":\"3559\"},\"glyph\":{\"id\":\"3561\"},\"group\":null,\"hover_glyph\":null,\"muted_glyph\":{\"id\":\"3563\"},\"nonselection_glyph\":{\"id\":\"3562\"},\"selection_glyph\":{\"id\":\"3566\"},\"view\":{\"id\":\"3565\"}},\"id\":\"3564\",\"type\":\"GlyphRenderer\"},{\"attributes\":{\"data\":{\"mes\":[\"1\",\"2\",\"3\",\"4\",\"5\",\"6\",\"7\",\"8\",\"9\",\"10\",\"11\",\"12\"],\"users\":{\"__ndarray__\":\"AAAAAAB4oEAAAAAAAKGiQAAAAAAAQKZAAAAAAACBpkAAAAAAAK6rQAAAAAAASKtAAAAAAAD0oEAAAAAAAGagQAAAAAAAv6RAAAAAAACIrUAAAAAAAFazQAAAAAAATqZA\",\"dtype\":\"float64\",\"order\":\"little\",\"shape\":[12]}},\"selected\":{\"id\":\"3592\"},\"selection_policy\":{\"id\":\"3630\"}},\"id\":\"3591\",\"type\":\"ColumnDataSource\"},{\"attributes\":{\"margin\":[5,5,5,5],\"name\":\"HSpacer05477\",\"sizing_mode\":\"stretch_width\"},\"id\":\"3495\",\"type\":\"Spacer\"},{\"attributes\":{\"margin\":[5,5,5,5],\"name\":\"HSpacer05478\",\"sizing_mode\":\"stretch_width\"},\"id\":\"3843\",\"type\":\"Spacer\"},{\"attributes\":{\"data\":{\"index\":[\"1\",\"8\"],\"users\":[488,133]},\"selected\":{\"id\":\"3617\"},\"selection_policy\":{\"id\":\"3616\"}},\"id\":\"3535\",\"type\":\"ColumnDataSource\"},{\"attributes\":{\"fill_alpha\":{\"value\":0.1},\"fill_color\":{\"value\":null},\"hatch_alpha\":{\"value\":0.1},\"line_alpha\":{\"value\":0.1},\"x\":{\"field\":\"index\"},\"y\":{\"field\":\"users\"}},\"id\":\"3538\",\"type\":\"Circle\"},{\"attributes\":{\"source\":{\"id\":\"3551\"}},\"id\":\"3557\",\"type\":\"CDSView\"},{\"attributes\":{\"line_alpha\":{\"value\":0.1},\"x0\":{\"field\":\"x0\"},\"x1\":{\"field\":\"x1\"},\"y0\":{\"field\":\"y0\"},\"y1\":{\"field\":\"y1\"}},\"id\":\"3554\",\"type\":\"Segment\"},{\"attributes\":{\"coordinates\":null,\"data_source\":{\"id\":\"3535\"},\"glyph\":{\"id\":\"3537\"},\"group\":null,\"hover_glyph\":null,\"muted_glyph\":{\"id\":\"3539\"},\"nonselection_glyph\":{\"id\":\"3538\"},\"selection_glyph\":{\"id\":\"3542\"},\"view\":{\"id\":\"3541\"}},\"id\":\"3540\",\"type\":\"GlyphRenderer\"},{\"attributes\":{\"line_alpha\":{\"value\":1.0},\"line_cap\":{\"value\":\"butt\"},\"line_color\":{\"value\":\"black\"},\"line_dash\":{\"value\":[]},\"line_dash_offset\":{\"value\":0},\"line_join\":{\"value\":\"bevel\"},\"line_width\":{\"value\":1},\"x0\":{\"field\":\"x0\"},\"x1\":{\"field\":\"x1\"},\"y0\":{\"field\":\"y0\"},\"y1\":{\"field\":\"y1\"}},\"id\":\"3566\",\"type\":\"Segment\"},{\"attributes\":{\"line_alpha\":{\"value\":1.0},\"line_cap\":{\"value\":\"butt\"},\"line_color\":{\"value\":\"black\"},\"line_dash\":{\"value\":[]},\"line_dash_offset\":{\"value\":0},\"line_join\":{\"value\":\"bevel\"},\"line_width\":{\"value\":1},\"x0\":{\"field\":\"x0\"},\"x1\":{\"field\":\"x1\"},\"y0\":{\"field\":\"y0\"},\"y1\":{\"field\":\"y1\"}},\"id\":\"3558\",\"type\":\"Segment\"},{\"attributes\":{\"bottom_units\":\"screen\",\"coordinates\":null,\"fill_alpha\":0.5,\"fill_color\":\"lightgrey\",\"group\":null,\"left_units\":\"screen\",\"level\":\"overlay\",\"line_alpha\":1.0,\"line_color\":\"black\",\"line_dash\":[4,4],\"line_width\":2,\"right_units\":\"screen\",\"syncable\":false,\"top_units\":\"screen\"},\"id\":\"3521\",\"type\":\"BoxAnnotation\"},{\"attributes\":{\"coordinates\":null,\"data_source\":{\"id\":\"3600\"},\"glyph\":{\"id\":\"3603\"},\"group\":null,\"hover_glyph\":null,\"muted_glyph\":{\"id\":\"3605\"},\"nonselection_glyph\":{\"id\":\"3604\"},\"selection_glyph\":{\"id\":\"3608\"},\"view\":{\"id\":\"3607\"}},\"id\":\"3606\",\"type\":\"GlyphRenderer\"},{\"attributes\":{\"line_alpha\":{\"value\":0.1},\"x0\":{\"field\":\"x0\"},\"x1\":{\"field\":\"x1\"},\"y0\":{\"field\":\"y0\"},\"y1\":{\"field\":\"y1\"}},\"id\":\"3546\",\"type\":\"Segment\"},{\"attributes\":{},\"id\":\"3629\",\"type\":\"Selection\"},{\"attributes\":{\"bottom\":{\"field\":\"bottom\"},\"fill_color\":{\"value\":null},\"top\":{\"field\":\"top\"},\"width\":{\"value\":0.7},\"x\":{\"field\":\"index\"}},\"id\":\"3585\",\"type\":\"VBar\"},{\"attributes\":{\"fill_color\":{\"value\":null},\"x\":{\"field\":\"index\"},\"y\":{\"field\":\"users\"}},\"id\":\"3537\",\"type\":\"Circle\"},{\"attributes\":{\"source\":{\"id\":\"3559\"}},\"id\":\"3565\",\"type\":\"CDSView\"},{\"attributes\":{},\"id\":\"3625\",\"type\":\"Selection\"},{\"attributes\":{\"coordinates\":null,\"data_source\":{\"id\":\"3583\"},\"glyph\":{\"id\":\"3585\"},\"group\":null,\"hover_glyph\":null,\"muted_glyph\":{\"id\":\"3587\"},\"nonselection_glyph\":{\"id\":\"3586\"},\"selection_glyph\":{\"id\":\"3590\"},\"view\":{\"id\":\"3589\"}},\"id\":\"3588\",\"type\":\"GlyphRenderer\"},{\"attributes\":{},\"id\":\"3623\",\"type\":\"Selection\"},{\"attributes\":{\"source\":{\"id\":\"3543\"}},\"id\":\"3549\",\"type\":\"CDSView\"},{\"attributes\":{},\"id\":\"3534\",\"type\":\"AllLabels\"},{\"attributes\":{\"bottom\":{\"field\":\"bottom\"},\"fill_alpha\":{\"value\":1.0},\"fill_color\":{\"value\":null},\"hatch_alpha\":{\"value\":1.0},\"hatch_color\":{\"value\":\"black\"},\"hatch_scale\":{\"value\":12.0},\"hatch_weight\":{\"value\":1.0},\"line_alpha\":{\"value\":1.0},\"line_cap\":{\"value\":\"butt\"},\"line_color\":{\"value\":\"black\"},\"line_dash\":{\"value\":[]},\"line_dash_offset\":{\"value\":0},\"line_join\":{\"value\":\"bevel\"},\"line_width\":{\"value\":1},\"top\":{\"field\":\"top\"},\"width\":{\"value\":0.7},\"x\":{\"field\":\"index\"}},\"id\":\"3582\",\"type\":\"VBar\"},{\"attributes\":{\"fill_alpha\":{\"value\":0.2},\"fill_color\":{\"value\":\"#30a2da\"},\"hatch_alpha\":{\"value\":0.2},\"hatch_color\":{\"value\":\"#30a2da\"},\"line_alpha\":{\"value\":0.2},\"line_color\":{\"value\":\"#30a2da\"},\"size\":{\"value\":5.477225575051661},\"x\":{\"field\":\"mes\"},\"y\":{\"field\":\"users\"}},\"id\":\"3605\",\"type\":\"Scatter\"},{\"attributes\":{\"line_alpha\":0.1,\"line_color\":\"#30a2da\",\"line_width\":2,\"x\":{\"field\":\"mes\"},\"y\":{\"field\":\"users\"}},\"id\":\"3595\",\"type\":\"Line\"},{\"attributes\":{\"bottom\":{\"field\":\"bottom\"},\"fill_color\":{\"value\":null},\"top\":{\"field\":\"top\"},\"width\":{\"value\":0.7},\"x\":{\"field\":\"index\"}},\"id\":\"3577\",\"type\":\"VBar\"},{\"attributes\":{},\"id\":\"3516\",\"type\":\"SaveTool\"},{\"attributes\":{\"line_alpha\":{\"value\":1.0},\"line_cap\":{\"value\":\"butt\"},\"line_color\":{\"value\":\"black\"},\"line_dash\":{\"value\":[]},\"line_dash_offset\":{\"value\":0},\"line_join\":{\"value\":\"bevel\"},\"line_width\":{\"value\":1},\"x0\":{\"field\":\"x0\"},\"x1\":{\"field\":\"x1\"},\"y0\":{\"field\":\"y0\"},\"y1\":{\"field\":\"y1\"}},\"id\":\"3574\",\"type\":\"Segment\"},{\"attributes\":{},\"id\":\"3507\",\"type\":\"LinearScale\"},{\"attributes\":{\"coordinates\":null,\"data_source\":{\"id\":\"3543\"},\"glyph\":{\"id\":\"3545\"},\"group\":null,\"hover_glyph\":null,\"muted_glyph\":{\"id\":\"3547\"},\"nonselection_glyph\":{\"id\":\"3546\"},\"selection_glyph\":{\"id\":\"3550\"},\"view\":{\"id\":\"3549\"}},\"id\":\"3548\",\"type\":\"GlyphRenderer\"},{\"attributes\":{\"line_alpha\":{\"value\":1.0},\"line_cap\":{\"value\":\"butt\"},\"line_color\":{\"value\":\"black\"},\"line_dash\":{\"value\":[]},\"line_dash_offset\":{\"value\":0},\"line_join\":{\"value\":\"bevel\"},\"line_width\":{\"value\":1},\"x0\":{\"field\":\"x0\"},\"x1\":{\"field\":\"x1\"},\"y0\":{\"field\":\"y0\"},\"y1\":{\"field\":\"y1\"}},\"id\":\"3550\",\"type\":\"Segment\"},{\"attributes\":{},\"id\":\"3621\",\"type\":\"Selection\"},{\"attributes\":{},\"id\":\"3630\",\"type\":\"UnionRenderers\"},{\"attributes\":{\"callback\":null,\"renderers\":[{\"id\":\"3597\"},{\"id\":\"3606\"}],\"tags\":[\"hv_created\"],\"tooltips\":[[\"mes\",\"@{mes}\"],[\"users\",\"@{users}\"]]},\"id\":\"3498\",\"type\":\"HoverTool\"},{\"attributes\":{\"axis_label\":\"mes\",\"coordinates\":null,\"formatter\":{\"id\":\"3530\"},\"group\":null,\"major_label_policy\":{\"id\":\"3531\"},\"ticker\":{\"id\":\"3510\"}},\"id\":\"3509\",\"type\":\"CategoricalAxis\"},{\"attributes\":{},\"id\":\"3620\",\"type\":\"UnionRenderers\"},{\"attributes\":{\"angle\":{\"value\":0.0},\"fill_alpha\":{\"value\":1.0},\"fill_color\":{\"value\":\"#30a2da\"},\"hatch_alpha\":{\"value\":1.0},\"hatch_color\":{\"value\":\"#30a2da\"},\"hatch_scale\":{\"value\":12.0},\"hatch_weight\":{\"value\":1.0},\"line_alpha\":{\"value\":1.0},\"line_cap\":{\"value\":\"butt\"},\"line_color\":{\"value\":\"#30a2da\"},\"line_dash\":{\"value\":[]},\"line_dash_offset\":{\"value\":0},\"line_join\":{\"value\":\"bevel\"},\"line_width\":{\"value\":1},\"marker\":{\"value\":\"circle\"},\"size\":{\"value\":5.477225575051661},\"x\":{\"field\":\"mes\"},\"y\":{\"field\":\"users\"}},\"id\":\"3608\",\"type\":\"Scatter\"},{\"attributes\":{},\"id\":\"3505\",\"type\":\"CategoricalScale\"},{\"attributes\":{\"bottom\":{\"field\":\"bottom\"},\"fill_alpha\":{\"value\":1.0},\"fill_color\":{\"value\":null},\"hatch_alpha\":{\"value\":1.0},\"hatch_color\":{\"value\":\"black\"},\"hatch_scale\":{\"value\":12.0},\"hatch_weight\":{\"value\":1.0},\"line_alpha\":{\"value\":1.0},\"line_cap\":{\"value\":\"butt\"},\"line_color\":{\"value\":\"black\"},\"line_dash\":{\"value\":[]},\"line_dash_offset\":{\"value\":0},\"line_join\":{\"value\":\"bevel\"},\"line_width\":{\"value\":1},\"top\":{\"field\":\"top\"},\"width\":{\"value\":0.7},\"x\":{\"field\":\"index\"}},\"id\":\"3590\",\"type\":\"VBar\"},{\"attributes\":{\"below\":[{\"id\":\"3509\"}],\"center\":[{\"id\":\"3511\"},{\"id\":\"3515\"}],\"height\":300,\"left\":[{\"id\":\"3512\"}],\"margin\":[5,5,5,5],\"min_border_bottom\":10,\"min_border_left\":10,\"min_border_right\":10,\"min_border_top\":10,\"renderers\":[{\"id\":\"3540\"},{\"id\":\"3548\"},{\"id\":\"3556\"},{\"id\":\"3564\"},{\"id\":\"3572\"},{\"id\":\"3580\"},{\"id\":\"3588\"},{\"id\":\"3597\"},{\"id\":\"3606\"}],\"sizing_mode\":\"fixed\",\"title\":{\"id\":\"3501\"},\"toolbar\":{\"id\":\"3522\"},\"x_range\":{\"id\":\"3496\"},\"x_scale\":{\"id\":\"3505\"},\"y_range\":{\"id\":\"3497\"},\"y_scale\":{\"id\":\"3507\"}},\"id\":\"3500\",\"subtype\":\"Figure\",\"type\":\"Plot\"},{\"attributes\":{\"coordinates\":null,\"data_source\":{\"id\":\"3575\"},\"glyph\":{\"id\":\"3577\"},\"group\":null,\"hover_glyph\":null,\"muted_glyph\":{\"id\":\"3579\"},\"nonselection_glyph\":{\"id\":\"3578\"},\"selection_glyph\":{\"id\":\"3582\"},\"view\":{\"id\":\"3581\"}},\"id\":\"3580\",\"type\":\"GlyphRenderer\"},{\"attributes\":{\"tools\":[{\"id\":\"3498\"},{\"id\":\"3516\"},{\"id\":\"3517\"},{\"id\":\"3518\"},{\"id\":\"3519\"},{\"id\":\"3520\"}]},\"id\":\"3522\",\"type\":\"Toolbar\"},{\"attributes\":{\"source\":{\"id\":\"3535\"}},\"id\":\"3541\",\"type\":\"CDSView\"},{\"attributes\":{\"fill_alpha\":{\"value\":0.1},\"fill_color\":{\"value\":\"#30a2da\"},\"hatch_alpha\":{\"value\":0.1},\"hatch_color\":{\"value\":\"#30a2da\"},\"line_alpha\":{\"value\":0.1},\"line_color\":{\"value\":\"#30a2da\"},\"size\":{\"value\":5.477225575051661},\"x\":{\"field\":\"mes\"},\"y\":{\"field\":\"users\"}},\"id\":\"3604\",\"type\":\"Scatter\"},{\"attributes\":{\"axis\":{\"id\":\"3512\"},\"coordinates\":null,\"dimension\":1,\"grid_line_color\":null,\"group\":null,\"ticker\":null},\"id\":\"3515\",\"type\":\"Grid\"},{\"attributes\":{\"line_alpha\":{\"value\":0.1},\"x0\":{\"field\":\"x0\"},\"x1\":{\"field\":\"x1\"},\"y0\":{\"field\":\"y0\"},\"y1\":{\"field\":\"y1\"}},\"id\":\"3562\",\"type\":\"Segment\"},{\"attributes\":{},\"id\":\"3616\",\"type\":\"UnionRenderers\"},{\"attributes\":{},\"id\":\"3520\",\"type\":\"ResetTool\"},{\"attributes\":{\"children\":[{\"id\":\"3495\"},{\"id\":\"3500\"},{\"id\":\"3843\"}],\"margin\":[0,0,0,0],\"name\":\"Row05473\",\"tags\":[\"embedded\"]},\"id\":\"3494\",\"type\":\"Row\"},{\"attributes\":{\"source\":{\"id\":\"3600\"}},\"id\":\"3607\",\"type\":\"CDSView\"},{\"attributes\":{\"end\":7474.4,\"reset_end\":7474.4,\"reset_start\":-534.4000000000001,\"start\":-534.4000000000001,\"tags\":[[[\"users\",\"users\",null]]]},\"id\":\"3497\",\"type\":\"Range1d\"},{\"attributes\":{\"coordinates\":null,\"data_source\":{\"id\":\"3551\"},\"glyph\":{\"id\":\"3553\"},\"group\":null,\"hover_glyph\":null,\"muted_glyph\":{\"id\":\"3555\"},\"nonselection_glyph\":{\"id\":\"3554\"},\"selection_glyph\":{\"id\":\"3558\"},\"view\":{\"id\":\"3557\"}},\"id\":\"3556\",\"type\":\"GlyphRenderer\"},{\"attributes\":{\"fill_alpha\":{\"value\":0.2},\"fill_color\":{\"value\":null},\"hatch_alpha\":{\"value\":0.2},\"line_alpha\":{\"value\":0.2},\"x\":{\"field\":\"index\"},\"y\":{\"field\":\"users\"}},\"id\":\"3539\",\"type\":\"Circle\"},{\"attributes\":{},\"id\":\"3619\",\"type\":\"Selection\"},{\"attributes\":{},\"id\":\"3517\",\"type\":\"PanTool\"},{\"attributes\":{},\"id\":\"3622\",\"type\":\"UnionRenderers\"},{\"attributes\":{\"bottom\":{\"field\":\"bottom\"},\"fill_alpha\":{\"value\":0.2},\"fill_color\":{\"value\":null},\"hatch_alpha\":{\"value\":0.2},\"line_alpha\":{\"value\":0.2},\"top\":{\"field\":\"top\"},\"width\":{\"value\":0.7},\"x\":{\"field\":\"index\"}},\"id\":\"3579\",\"type\":\"VBar\"},{\"attributes\":{\"coordinates\":null,\"group\":null,\"text\":\"Distribuci\\u00f3n de visitas por mes\",\"text_color\":\"black\",\"text_font_size\":\"12pt\"},\"id\":\"3501\",\"type\":\"Title\"},{\"attributes\":{\"data\":{\"x0\":[\"1\",\"2\",\"3\",\"4\",\"5\",\"6\",\"7\",\"8\",\"9\",\"10\",\"11\",\"12\"],\"x1\":[\"1\",\"2\",\"3\",\"4\",\"5\",\"6\",\"7\",\"8\",\"9\",\"10\",\"11\",\"12\"],\"y0\":[2753,2920,3227,4022,4260,4084,3123,2547,3632,4656,6807,6671],\"y1\":{\"__ndarray__\":\"AAAAAAAWpEAAAAAAAAikQAAAAAAAcKhAAAAAAADjq0AAAAAAAEuuQAAAAACAKq5AAAAAAAA9o0AAAAAAAHyhQAAAAAAAHqdAAAAAAICFsEAAAAAAgJi1QAAAAAAAxa5A\",\"dtype\":\"float64\",\"order\":\"little\",\"shape\":[12]}},\"selected\":{\"id\":\"3619\"},\"selection_policy\":{\"id\":\"3618\"}},\"id\":\"3543\",\"type\":\"ColumnDataSource\"},{\"attributes\":{\"line_alpha\":{\"value\":0.2},\"x0\":{\"field\":\"x0\"},\"x1\":{\"field\":\"x1\"},\"y0\":{\"field\":\"y0\"},\"y1\":{\"field\":\"y1\"}},\"id\":\"3555\",\"type\":\"Segment\"},{\"attributes\":{\"line_alpha\":{\"value\":0.2},\"x0\":{\"field\":\"x0\"},\"x1\":{\"field\":\"x1\"},\"y0\":{\"field\":\"y0\"},\"y1\":{\"field\":\"y1\"}},\"id\":\"3547\",\"type\":\"Segment\"},{\"attributes\":{\"overlay\":{\"id\":\"3521\"}},\"id\":\"3519\",\"type\":\"BoxZoomTool\"},{\"attributes\":{\"source\":{\"id\":\"3567\"}},\"id\":\"3573\",\"type\":\"CDSView\"},{\"attributes\":{},\"id\":\"3533\",\"type\":\"BasicTickFormatter\"},{\"attributes\":{},\"id\":\"3510\",\"type\":\"CategoricalTicker\"},{\"attributes\":{\"angle\":{\"value\":0.0},\"fill_alpha\":{\"value\":1.0},\"fill_color\":{\"value\":null},\"hatch_alpha\":{\"value\":1.0},\"hatch_color\":{\"value\":\"black\"},\"hatch_scale\":{\"value\":12.0},\"hatch_weight\":{\"value\":1.0},\"line_alpha\":{\"value\":1.0},\"line_cap\":{\"value\":\"butt\"},\"line_color\":{\"value\":\"black\"},\"line_dash\":{\"value\":[]},\"line_dash_offset\":{\"value\":0},\"line_join\":{\"value\":\"bevel\"},\"line_width\":{\"value\":1},\"size\":{\"value\":4},\"x\":{\"field\":\"index\"},\"y\":{\"field\":\"users\"}},\"id\":\"3542\",\"type\":\"Circle\"},{\"attributes\":{\"fill_color\":{\"value\":\"#30a2da\"},\"hatch_color\":{\"value\":\"#30a2da\"},\"line_color\":{\"value\":\"#30a2da\"},\"size\":{\"value\":5.477225575051661},\"x\":{\"field\":\"mes\"},\"y\":{\"field\":\"users\"}},\"id\":\"3603\",\"type\":\"Scatter\"},{\"attributes\":{\"line_color\":\"#30a2da\",\"line_width\":2,\"x\":{\"field\":\"mes\"},\"y\":{\"field\":\"users\"}},\"id\":\"3594\",\"type\":\"Line\"},{\"attributes\":{},\"id\":\"3626\",\"type\":\"UnionRenderers\"},{\"attributes\":{},\"id\":\"3624\",\"type\":\"UnionRenderers\"},{\"attributes\":{\"source\":{\"id\":\"3583\"}},\"id\":\"3589\",\"type\":\"CDSView\"},{\"attributes\":{\"data\":{\"x0\":[[\"1\",-0.2],[\"2\",-0.2],[\"3\",-0.2],[\"4\",-0.2],[\"5\",-0.2],[\"6\",-0.2],[\"7\",-0.2],[\"8\",-0.2],[\"9\",-0.2],[\"10\",-0.2],[\"11\",-0.2],[\"12\",-0.2]],\"x1\":[[\"1\",0.2],[\"2\",0.2],[\"3\",0.2],[\"4\",0.2],[\"5\",0.2],[\"6\",0.2],[\"7\",0.2],[\"8\",0.2],[\"9\",0.2],[\"10\",0.2],[\"11\",0.2],[\"12\",0.2]],\"y0\":[2753,2920,3227,4022,4260,4084,3123,2547,3632,4656,6807,6671],\"y1\":[2753,2920,3227,4022,4260,4084,3123,2547,3632,4656,6807,6671]},\"selected\":{\"id\":\"3625\"},\"selection_policy\":{\"id\":\"3624\"}},\"id\":\"3567\",\"type\":\"ColumnDataSource\"},{\"attributes\":{\"line_alpha\":0.2,\"line_color\":\"#30a2da\",\"line_width\":2,\"x\":{\"field\":\"mes\"},\"y\":{\"field\":\"users\"}},\"id\":\"3596\",\"type\":\"Line\"},{\"attributes\":{\"axis\":{\"id\":\"3509\"},\"coordinates\":null,\"grid_line_color\":null,\"group\":null,\"ticker\":null},\"id\":\"3511\",\"type\":\"Grid\"},{\"attributes\":{\"line_alpha\":{\"value\":0.2},\"x0\":{\"field\":\"x0\"},\"x1\":{\"field\":\"x1\"},\"y0\":{\"field\":\"y0\"},\"y1\":{\"field\":\"y1\"}},\"id\":\"3571\",\"type\":\"Segment\"}],\"root_ids\":[\"3494\"]},\"title\":\"Bokeh Application\",\"version\":\"2.4.2\"}};\n",
       "    var render_items = [{\"docid\":\"8b9cbbda-03c7-44c9-9e25-af6d19aee3db\",\"root_ids\":[\"3494\"],\"roots\":{\"3494\":\"75e6c0e3-2f2e-4a4a-ab5a-74eccbf52bb7\"}}];\n",
       "    root.Bokeh.embed.embed_items_notebook(docs_json, render_items);\n",
       "  }\n",
       "  if (root.Bokeh !== undefined && root.Bokeh.Panel !== undefined) {\n",
       "    embed_document(root);\n",
       "  } else {\n",
       "    var attempts = 0;\n",
       "    var timer = setInterval(function(root) {\n",
       "      if (root.Bokeh !== undefined && root.Bokeh.Panel !== undefined) {\n",
       "        clearInterval(timer);\n",
       "        embed_document(root);\n",
       "      } else if (document.readyState == \"complete\") {\n",
       "        attempts++;\n",
       "        if (attempts > 200) {\n",
       "          clearInterval(timer);\n",
       "          console.log(\"Bokeh: ERROR: Unable to run BokehJS code because BokehJS library is missing\");\n",
       "        }\n",
       "      }\n",
       "    }, 25, root)\n",
       "  }\n",
       "})(window);</script>"
      ],
      "text/plain": [
       ":Overlay\n",
       "   .BoxWhisker.I  :BoxWhisker   [mes]   (users)\n",
       "   .Curve.Users   :Curve   [mes]   (users)\n",
       "   .Scatter.Users :Scatter   [mes]   (users)"
      ]
     },
     "execution_count": 24,
     "metadata": {
      "application/vnd.holoviews_exec.v0+json": {
       "id": "3494"
      }
     },
     "output_type": "execute_result"
    }
   ],
   "source": [
    "# Gráfico boxplot para estacionalidad anual\n",
    "# ==============================================================================\n",
    "# fig, ax = plt.subplots(figsize=(7, 3.5))\n",
    "# datos['mes'] = datos.index.month\n",
    "# datos.boxplot(column='users', by='mes', ax=ax,)\n",
    "# datos.groupby('mes')['users'].median().plot(style='o-', linewidth=0.8, ax=ax)\n",
    "# ax.set_ylabel('users')\n",
    "# ax.set_title('Distribución de visitas por mes')\n",
    "# fig.suptitle('');\n",
    "\n",
    "datos[\"mes\"] = datos.index.month\n",
    "boxplot = datos.sort_values(\"mes\").hvplot.box(y=\"users\", by =\"mes\",\n",
    "                                              legend=False,\n",
    "                                              box_fill_color = None,\n",
    "                                              outlier_fill_color = None)\n",
    "\n",
    "lineplot = datos.groupby(\"mes\")[\"users\"].median().hvplot.line(legend=False)\n",
    "scatterplot  = datos.groupby(\"mes\")[\"users\"].median().hvplot.scatter(legend=False)\n",
    "\n",
    "layout = boxplot * lineplot * scatterplot\n",
    "layout = layout.opts(title='Distribución de visitas por mes', ylabel='users', width=600)\n",
    "layout"
   ]
  },
  {
   "cell_type": "code",
   "execution_count": 31,
   "metadata": {
    "ExecuteTime": {
     "end_time": "2021-12-23T17:41:52.480616Z",
     "start_time": "2021-12-23T17:41:51.708446Z"
    }
   },
   "outputs": [
    {
     "data": {},
     "metadata": {},
     "output_type": "display_data"
    },
    {
     "data": {
      "application/vnd.holoviews_exec.v0+json": "",
      "text/html": [
       "<div id='4937'>\n",
       "\n",
       "\n",
       "\n",
       "\n",
       "\n",
       "  <div class=\"bk-root\" id=\"fa7f580d-a971-4d45-be9d-28283db39ec4\" data-root-id=\"4937\"></div>\n",
       "</div>\n",
       "<script type=\"application/javascript\">(function(root) {\n",
       "  function embed_document(root) {\n",
       "    var docs_json = {\"46a3fd89-a344-49cc-80e1-794266074676\":{\"defs\":[{\"extends\":null,\"module\":null,\"name\":\"ReactiveHTML1\",\"overrides\":[],\"properties\":[]},{\"extends\":null,\"module\":null,\"name\":\"FlexBox1\",\"overrides\":[],\"properties\":[{\"default\":\"flex-start\",\"kind\":null,\"name\":\"align_content\"},{\"default\":\"flex-start\",\"kind\":null,\"name\":\"align_items\"},{\"default\":\"row\",\"kind\":null,\"name\":\"flex_direction\"},{\"default\":\"wrap\",\"kind\":null,\"name\":\"flex_wrap\"},{\"default\":\"flex-start\",\"kind\":null,\"name\":\"justify_content\"}]},{\"extends\":null,\"module\":null,\"name\":\"TemplateActions1\",\"overrides\":[],\"properties\":[{\"default\":0,\"kind\":null,\"name\":\"open_modal\"},{\"default\":0,\"kind\":null,\"name\":\"close_modal\"}]},{\"extends\":null,\"module\":null,\"name\":\"MaterialTemplateActions1\",\"overrides\":[],\"properties\":[{\"default\":0,\"kind\":null,\"name\":\"open_modal\"},{\"default\":0,\"kind\":null,\"name\":\"close_modal\"}]}],\"roots\":{\"references\":[{\"attributes\":{},\"id\":\"4961\",\"type\":\"WheelZoomTool\"},{\"attributes\":{\"line_alpha\":{\"value\":0.1},\"x0\":{\"field\":\"x0\"},\"x1\":{\"field\":\"x1\"},\"y0\":{\"field\":\"y0\"},\"y1\":{\"field\":\"y1\"}},\"id\":\"4997\",\"type\":\"Segment\"},{\"attributes\":{},\"id\":\"4963\",\"type\":\"ResetTool\"},{\"attributes\":{\"source\":{\"id\":\"4986\"}},\"id\":\"4992\",\"type\":\"CDSView\"},{\"attributes\":{\"overlay\":{\"id\":\"4964\"}},\"id\":\"4962\",\"type\":\"BoxZoomTool\"},{\"attributes\":{\"bottom\":{\"field\":\"bottom\"},\"fill_alpha\":{\"value\":0.1},\"fill_color\":{\"value\":null},\"hatch_alpha\":{\"value\":0.1},\"line_alpha\":{\"value\":0.1},\"top\":{\"field\":\"top\"},\"width\":{\"value\":0.7},\"x\":{\"field\":\"index\"}},\"id\":\"5029\",\"type\":\"VBar\"},{\"attributes\":{\"line_alpha\":{\"value\":0.2},\"x0\":{\"field\":\"x0\"},\"x1\":{\"field\":\"x1\"},\"y0\":{\"field\":\"y0\"},\"y1\":{\"field\":\"y1\"}},\"id\":\"4990\",\"type\":\"Segment\"},{\"attributes\":{},\"id\":\"5075\",\"type\":\"UnionRenderers\"},{\"attributes\":{\"coordinates\":null,\"data_source\":{\"id\":\"5018\"},\"glyph\":{\"id\":\"5020\"},\"group\":null,\"hover_glyph\":null,\"muted_glyph\":{\"id\":\"5022\"},\"nonselection_glyph\":{\"id\":\"5021\"},\"selection_glyph\":{\"id\":\"5025\"},\"view\":{\"id\":\"5024\"}},\"id\":\"5023\",\"type\":\"GlyphRenderer\"},{\"attributes\":{\"data\":{\"x0\":[\"1\",\"2\",\"3\",\"4\",\"5\",\"6\",\"7\",\"8\",\"9\",\"10\",\"11\",\"12\",\"13\",\"14\",\"15\",\"16\",\"17\",\"18\",\"19\",\"20\",\"21\",\"22\",\"23\",\"24\",\"25\",\"26\",\"27\",\"28\",\"29\",\"30\",\"31\"],\"x1\":[\"1\",\"2\",\"3\",\"4\",\"5\",\"6\",\"7\",\"8\",\"9\",\"10\",\"11\",\"12\",\"13\",\"14\",\"15\",\"16\",\"17\",\"18\",\"19\",\"20\",\"21\",\"22\",\"23\",\"24\",\"25\",\"26\",\"27\",\"28\",\"29\",\"30\",\"31\"],\"y0\":[133,922,1144,1359,1433,1458,1406,1239,1477,1569,1462,1391,1652,1438,1308,1384,1730,1434,1401,1558,1546,1393,1411,886,1415,863,987,1432,1390,1278,785],\"y1\":{\"__ndarray__\":\"AAAAAACVmkAAAAAAgN+gQAAAAAAAYaBAAAAAAACqnUAAAAAAAGehQAAAAAAAe59AAAAAAABMn0AAAAAAgB2iQAAAAAAAR6JAAAAAAICeoEAAAAAAAHGhQAAAAAAALqJAAAAAAICyoEAAAAAAgAihQAAAAACAfaFAAAAAAIA0oUAAAAAAAKWgQAAAAAAAgKJAAAAAAABKoUAAAAAAAP2fQAAAAAAA0p5AAAAAAAAFokAAAAAAgF6hQAAAAAAAYp9AAAAAAAAuoUAAAAAAAM6iQAAAAAAA4J9AAAAAAABYoEAAAAAAAOqgQAAAAAAAiJ9AAAAAAAAzmkA=\",\"dtype\":\"float64\",\"order\":\"little\",\"shape\":[31]}},\"selected\":{\"id\":\"5064\"},\"selection_policy\":{\"id\":\"5063\"}},\"id\":\"4994\",\"type\":\"ColumnDataSource\"},{\"attributes\":{\"coordinates\":null,\"data_source\":{\"id\":\"4978\"},\"glyph\":{\"id\":\"4980\"},\"group\":null,\"hover_glyph\":null,\"muted_glyph\":{\"id\":\"4982\"},\"nonselection_glyph\":{\"id\":\"4981\"},\"selection_glyph\":{\"id\":\"4985\"},\"view\":{\"id\":\"4984\"}},\"id\":\"4983\",\"type\":\"GlyphRenderer\"},{\"attributes\":{\"line_color\":\"#30a2da\",\"line_width\":2,\"x\":{\"field\":\"dia_mes\"},\"y\":{\"field\":\"users\"}},\"id\":\"5037\",\"type\":\"Line\"},{\"attributes\":{},\"id\":\"5071\",\"type\":\"UnionRenderers\"},{\"attributes\":{\"data\":{\"dia_mes\":[\"1\",\"2\",\"3\",\"4\",\"5\",\"6\",\"7\",\"8\",\"9\",\"10\",\"11\",\"12\",\"13\",\"14\",\"15\",\"16\",\"17\",\"18\",\"19\",\"20\",\"21\",\"22\",\"23\",\"24\",\"25\",\"26\",\"27\",\"28\",\"29\",\"30\",\"31\"],\"users\":{\"__ndarray__\":\"AAAAAAAookAAAAAAAI6jQAAAAAAAu6NAAAAAAACookAAAAAAAO2jQAAAAAAAW6JAAAAAAACto0AAAAAAALGkQAAAAAAAMqVAAAAAAADPpEAAAAAAABCjQAAAAAAAsqRAAAAAAADRokAAAAAAABWmQAAAAAAAL6VAAAAAAAAto0AAAAAAAOOkQAAAAAAAP6RAAAAAAADVo0AAAAAAAKahQAAAAAAAHqRAAAAAAAD1o0AAAAAAAGilQAAAAAAAkKVAAAAAAAADpUAAAAAAADSkQAAAAAAAqKBAAAAAAACgpEAAAAAAAF6lQAAAAAAA+KJAAAAAAABCoEA=\",\"dtype\":\"float64\",\"order\":\"little\",\"shape\":[31]}},\"selected\":{\"id\":\"5035\"},\"selection_policy\":{\"id\":\"5073\"}},\"id\":\"5034\",\"type\":\"ColumnDataSource\"},{\"attributes\":{},\"id\":\"4977\",\"type\":\"AllLabels\"},{\"attributes\":{\"line_alpha\":{\"value\":0.2},\"x0\":{\"field\":\"x0\"},\"x1\":{\"field\":\"x1\"},\"y0\":{\"field\":\"y0\"},\"y1\":{\"field\":\"y1\"}},\"id\":\"5014\",\"type\":\"Segment\"},{\"attributes\":{},\"id\":\"5073\",\"type\":\"UnionRenderers\"},{\"attributes\":{\"fill_alpha\":{\"value\":0.2},\"fill_color\":{\"value\":null},\"hatch_alpha\":{\"value\":0.2},\"line_alpha\":{\"value\":0.2},\"x\":{\"field\":\"index\"},\"y\":{\"field\":\"users\"}},\"id\":\"4982\",\"type\":\"Circle\"},{\"attributes\":{\"bottom_units\":\"screen\",\"coordinates\":null,\"fill_alpha\":0.5,\"fill_color\":\"lightgrey\",\"group\":null,\"left_units\":\"screen\",\"level\":\"overlay\",\"line_alpha\":1.0,\"line_color\":\"black\",\"line_dash\":[4,4],\"line_width\":2,\"right_units\":\"screen\",\"syncable\":false,\"top_units\":\"screen\"},\"id\":\"4964\",\"type\":\"BoxAnnotation\"},{\"attributes\":{\"data\":{\"x0\":[[\"1\",-0.2],[\"2\",-0.2],[\"3\",-0.2],[\"4\",-0.2],[\"5\",-0.2],[\"6\",-0.2],[\"7\",-0.2],[\"8\",-0.2],[\"9\",-0.2],[\"10\",-0.2],[\"11\",-0.2],[\"12\",-0.2],[\"13\",-0.2],[\"14\",-0.2],[\"15\",-0.2],[\"16\",-0.2],[\"17\",-0.2],[\"18\",-0.2],[\"19\",-0.2],[\"20\",-0.2],[\"21\",-0.2],[\"22\",-0.2],[\"23\",-0.2],[\"24\",-0.2],[\"25\",-0.2],[\"26\",-0.2],[\"27\",-0.2],[\"28\",-0.2],[\"29\",-0.2],[\"30\",-0.2],[\"31\",-0.2]],\"x1\":[[\"1\",0.2],[\"2\",0.2],[\"3\",0.2],[\"4\",0.2],[\"5\",0.2],[\"6\",0.2],[\"7\",0.2],[\"8\",0.2],[\"9\",0.2],[\"10\",0.2],[\"11\",0.2],[\"12\",0.2],[\"13\",0.2],[\"14\",0.2],[\"15\",0.2],[\"16\",0.2],[\"17\",0.2],[\"18\",0.2],[\"19\",0.2],[\"20\",0.2],[\"21\",0.2],[\"22\",0.2],[\"23\",0.2],[\"24\",0.2],[\"25\",0.2],[\"26\",0.2],[\"27\",0.2],[\"28\",0.2],[\"29\",0.2],[\"30\",0.2],[\"31\",0.2]],\"y0\":[4084,3866,4318,5235,3623,3780,4079,4055,5045,4660,5282,3216,3994,4064,4201,4156,3714,3801,4185,5306,4513,4656,4319,3928,4257,4208,6312,4810,4621,4258,3092],\"y1\":[4084,3866,4318,5235,3623,3780,4079,4055,5045,4660,5282,3216,3994,4064,4201,4156,3714,3801,4185,5306,4513,4656,4319,3928,4257,4208,6312,4810,4621,4258,3092]},\"selected\":{\"id\":\"5068\"},\"selection_policy\":{\"id\":\"5067\"}},\"id\":\"5010\",\"type\":\"ColumnDataSource\"},{\"attributes\":{\"x0\":{\"field\":\"x0\"},\"x1\":{\"field\":\"x1\"},\"y0\":{\"field\":\"y0\"},\"y1\":{\"field\":\"y1\"}},\"id\":\"4988\",\"type\":\"Segment\"},{\"attributes\":{\"source\":{\"id\":\"5026\"}},\"id\":\"5032\",\"type\":\"CDSView\"},{\"attributes\":{\"tools\":[{\"id\":\"4941\"},{\"id\":\"4959\"},{\"id\":\"4960\"},{\"id\":\"4961\"},{\"id\":\"4962\"},{\"id\":\"4963\"}]},\"id\":\"4965\",\"type\":\"Toolbar\"},{\"attributes\":{\"line_alpha\":{\"value\":0.2},\"x0\":{\"field\":\"x0\"},\"x1\":{\"field\":\"x1\"},\"y0\":{\"field\":\"y0\"},\"y1\":{\"field\":\"y1\"}},\"id\":\"4998\",\"type\":\"Segment\"},{\"attributes\":{\"below\":[{\"id\":\"4952\"}],\"center\":[{\"id\":\"4954\"},{\"id\":\"4958\"}],\"height\":300,\"left\":[{\"id\":\"4955\"}],\"margin\":[5,5,5,5],\"min_border_bottom\":10,\"min_border_left\":10,\"min_border_right\":10,\"min_border_top\":10,\"renderers\":[{\"id\":\"4983\"},{\"id\":\"4991\"},{\"id\":\"4999\"},{\"id\":\"5007\"},{\"id\":\"5015\"},{\"id\":\"5023\"},{\"id\":\"5031\"},{\"id\":\"5040\"},{\"id\":\"5049\"}],\"sizing_mode\":\"fixed\",\"title\":{\"id\":\"4944\"},\"toolbar\":{\"id\":\"4965\"},\"x_range\":{\"id\":\"4939\"},\"x_scale\":{\"id\":\"4948\"},\"y_range\":{\"id\":\"4940\"},\"y_scale\":{\"id\":\"4950\"}},\"id\":\"4943\",\"subtype\":\"Figure\",\"type\":\"Plot\"},{\"attributes\":{\"x0\":{\"field\":\"x0\"},\"x1\":{\"field\":\"x1\"},\"y0\":{\"field\":\"y0\"},\"y1\":{\"field\":\"y1\"}},\"id\":\"5004\",\"type\":\"Segment\"},{\"attributes\":{\"line_alpha\":{\"value\":0.1},\"x0\":{\"field\":\"x0\"},\"x1\":{\"field\":\"x1\"},\"y0\":{\"field\":\"y0\"},\"y1\":{\"field\":\"y1\"}},\"id\":\"5013\",\"type\":\"Segment\"},{\"attributes\":{\"coordinates\":null,\"data_source\":{\"id\":\"4986\"},\"glyph\":{\"id\":\"4988\"},\"group\":null,\"hover_glyph\":null,\"muted_glyph\":{\"id\":\"4990\"},\"nonselection_glyph\":{\"id\":\"4989\"},\"selection_glyph\":{\"id\":\"4993\"},\"view\":{\"id\":\"4992\"}},\"id\":\"4991\",\"type\":\"GlyphRenderer\"},{\"attributes\":{\"line_alpha\":{\"value\":0.1},\"x0\":{\"field\":\"x0\"},\"x1\":{\"field\":\"x1\"},\"y0\":{\"field\":\"y0\"},\"y1\":{\"field\":\"y1\"}},\"id\":\"5005\",\"type\":\"Segment\"},{\"attributes\":{\"source\":{\"id\":\"5034\"}},\"id\":\"5041\",\"type\":\"CDSView\"},{\"attributes\":{\"line_alpha\":{\"value\":0.1},\"x0\":{\"field\":\"x0\"},\"x1\":{\"field\":\"x1\"},\"y0\":{\"field\":\"y0\"},\"y1\":{\"field\":\"y1\"}},\"id\":\"4989\",\"type\":\"Segment\"},{\"attributes\":{\"data\":{\"bottom\":{\"__ndarray__\":\"AAAAAIB1p0AAAAAAADCpQAAAAAAAeKtAAAAAAACcqkAAAAAAAO6oQAAAAAAAGqdAAAAAAACKq0AAAAAAgGOoQAAAAAAA3apAAAAAAACeqUAAAAAAAJSrQAAAAACAF6dAAAAAAIBNqEAAAAAAAKerQAAAAAAAi6lAAAAAAIAsq0AAAAAAgNWoQAAAAAAAwadAAAAAAICvqkAAAAAAAGKqQAAAAAAASqtAAAAAAICeq0AAAAAAgKarQAAAAAAA4KhAAAAAAICkqEAAAAAAAAKsQAAAAAAAbK9AAAAAAADUrEAAAAAAgBCsQAAAAAAAsqpAAAAAAIABo0A=\",\"dtype\":\"float64\",\"order\":\"little\",\"shape\":[31]},\"index\":[\"1\",\"2\",\"3\",\"4\",\"5\",\"6\",\"7\",\"8\",\"9\",\"10\",\"11\",\"12\",\"13\",\"14\",\"15\",\"16\",\"17\",\"18\",\"19\",\"20\",\"21\",\"22\",\"23\",\"24\",\"25\",\"26\",\"27\",\"28\",\"29\",\"30\",\"31\"],\"top\":{\"__ndarray__\":\"AAAAAAAookAAAAAAAI6jQAAAAAAAu6NAAAAAAACookAAAAAAAO2jQAAAAAAAW6JAAAAAAACto0AAAAAAALGkQAAAAAAAMqVAAAAAAADPpEAAAAAAABCjQAAAAAAAsqRAAAAAAADRokAAAAAAABWmQAAAAAAAL6VAAAAAAAAto0AAAAAAAOOkQAAAAAAAP6RAAAAAAADVo0AAAAAAAKahQAAAAAAAHqRAAAAAAAD1o0AAAAAAAGilQAAAAAAAkKVAAAAAAAADpUAAAAAAADSkQAAAAAAAqKBAAAAAAACgpEAAAAAAAF6lQAAAAAAA+KJAAAAAAABCoEA=\",\"dtype\":\"float64\",\"order\":\"little\",\"shape\":[31]}},\"selected\":{\"id\":\"5070\"},\"selection_policy\":{\"id\":\"5069\"}},\"id\":\"5018\",\"type\":\"ColumnDataSource\"},{\"attributes\":{},\"id\":\"5062\",\"type\":\"Selection\"},{\"attributes\":{\"data\":{\"bottom\":{\"__ndarray__\":\"AAAAAAAookAAAAAAAI6jQAAAAAAAu6NAAAAAAACookAAAAAAAO2jQAAAAAAAW6JAAAAAAACto0AAAAAAALGkQAAAAAAAMqVAAAAAAADPpEAAAAAAABCjQAAAAAAAsqRAAAAAAADRokAAAAAAABWmQAAAAAAAL6VAAAAAAAAto0AAAAAAAOOkQAAAAAAAP6RAAAAAAADVo0AAAAAAAKahQAAAAAAAHqRAAAAAAAD1o0AAAAAAAGilQAAAAAAAkKVAAAAAAAADpUAAAAAAADSkQAAAAAAAqKBAAAAAAACgpEAAAAAAAF6lQAAAAAAA+KJAAAAAAABCoEA=\",\"dtype\":\"float64\",\"order\":\"little\",\"shape\":[31]},\"index\":[\"1\",\"2\",\"3\",\"4\",\"5\",\"6\",\"7\",\"8\",\"9\",\"10\",\"11\",\"12\",\"13\",\"14\",\"15\",\"16\",\"17\",\"18\",\"19\",\"20\",\"21\",\"22\",\"23\",\"24\",\"25\",\"26\",\"27\",\"28\",\"29\",\"30\",\"31\"],\"top\":{\"__ndarray__\":\"AAAAAACVmkAAAAAAgN+gQAAAAAAAYaBAAAAAAACqnUAAAAAAAGehQAAAAAAAe59AAAAAAABMn0AAAAAAgB2iQAAAAAAAR6JAAAAAAICeoEAAAAAAAHGhQAAAAAAALqJAAAAAAICyoEAAAAAAgAihQAAAAACAfaFAAAAAAIA0oUAAAAAAAKWgQAAAAAAAgKJAAAAAAABKoUAAAAAAAP2fQAAAAAAA0p5AAAAAAAAFokAAAAAAgF6hQAAAAAAAYp9AAAAAAAAuoUAAAAAAAM6iQAAAAAAA4J9AAAAAAABYoEAAAAAAAOqgQAAAAAAAiJ9AAAAAAAAzmkA=\",\"dtype\":\"float64\",\"order\":\"little\",\"shape\":[31]}},\"selected\":{\"id\":\"5072\"},\"selection_policy\":{\"id\":\"5071\"}},\"id\":\"5026\",\"type\":\"ColumnDataSource\"},{\"attributes\":{\"callback\":null,\"renderers\":[{\"id\":\"5040\"},{\"id\":\"5049\"}],\"tags\":[\"hv_created\"],\"tooltips\":[[\"dia_mes\",\"@{dia_mes}\"],[\"users\",\"@{users}\"]]},\"id\":\"4941\",\"type\":\"HoverTool\"},{\"attributes\":{\"axis\":{\"id\":\"4952\"},\"coordinates\":null,\"grid_line_color\":null,\"group\":null,\"ticker\":null},\"id\":\"4954\",\"type\":\"Grid\"},{\"attributes\":{\"line_alpha\":{\"value\":0.2},\"x0\":{\"field\":\"x0\"},\"x1\":{\"field\":\"x1\"},\"y0\":{\"field\":\"y0\"},\"y1\":{\"field\":\"y1\"}},\"id\":\"5006\",\"type\":\"Segment\"},{\"attributes\":{},\"id\":\"5060\",\"type\":\"Selection\"},{\"attributes\":{},\"id\":\"5066\",\"type\":\"Selection\"},{\"attributes\":{\"x0\":{\"field\":\"x0\"},\"x1\":{\"field\":\"x1\"},\"y0\":{\"field\":\"y0\"},\"y1\":{\"field\":\"y1\"}},\"id\":\"4996\",\"type\":\"Segment\"},{\"attributes\":{\"line_alpha\":{\"value\":1.0},\"line_cap\":{\"value\":\"butt\"},\"line_color\":{\"value\":\"black\"},\"line_dash\":{\"value\":[]},\"line_dash_offset\":{\"value\":0},\"line_join\":{\"value\":\"bevel\"},\"line_width\":{\"value\":1},\"x0\":{\"field\":\"x0\"},\"x1\":{\"field\":\"x1\"},\"y0\":{\"field\":\"y0\"},\"y1\":{\"field\":\"y1\"}},\"id\":\"4993\",\"type\":\"Segment\"},{\"attributes\":{\"line_alpha\":0.2,\"line_color\":\"#30a2da\",\"line_width\":2,\"x\":{\"field\":\"dia_mes\"},\"y\":{\"field\":\"users\"}},\"id\":\"5039\",\"type\":\"Line\"},{\"attributes\":{},\"id\":\"5061\",\"type\":\"UnionRenderers\"},{\"attributes\":{\"source\":{\"id\":\"4994\"}},\"id\":\"5000\",\"type\":\"CDSView\"},{\"attributes\":{},\"id\":\"5044\",\"type\":\"Selection\"},{\"attributes\":{\"angle\":{\"value\":0.0},\"fill_alpha\":{\"value\":1.0},\"fill_color\":{\"value\":null},\"hatch_alpha\":{\"value\":1.0},\"hatch_color\":{\"value\":\"black\"},\"hatch_scale\":{\"value\":12.0},\"hatch_weight\":{\"value\":1.0},\"line_alpha\":{\"value\":1.0},\"line_cap\":{\"value\":\"butt\"},\"line_color\":{\"value\":\"black\"},\"line_dash\":{\"value\":[]},\"line_dash_offset\":{\"value\":0},\"line_join\":{\"value\":\"bevel\"},\"line_width\":{\"value\":1},\"size\":{\"value\":4},\"x\":{\"field\":\"index\"},\"y\":{\"field\":\"users\"}},\"id\":\"4985\",\"type\":\"Circle\"},{\"attributes\":{\"coordinates\":null,\"group\":null,\"text\":\"Distribuci\\u00f3n de visitas por d\\u00eda del mes\",\"text_color\":\"black\",\"text_font_size\":\"12pt\"},\"id\":\"4944\",\"type\":\"Title\"},{\"attributes\":{\"data\":{\"x0\":[\"1\",\"2\",\"3\",\"4\",\"5\",\"6\",\"7\",\"8\",\"9\",\"10\",\"11\",\"12\",\"13\",\"14\",\"15\",\"16\",\"17\",\"18\",\"19\",\"20\",\"21\",\"22\",\"23\",\"24\",\"25\",\"26\",\"27\",\"28\",\"29\",\"30\",\"31\"],\"x1\":[\"1\",\"2\",\"3\",\"4\",\"5\",\"6\",\"7\",\"8\",\"9\",\"10\",\"11\",\"12\",\"13\",\"14\",\"15\",\"16\",\"17\",\"18\",\"19\",\"20\",\"21\",\"22\",\"23\",\"24\",\"25\",\"26\",\"27\",\"28\",\"29\",\"30\",\"31\"],\"y0\":[4084,3866,4318,5235,3623,3780,4079,4055,5045,4660,5282,3216,3994,4064,4201,4156,3714,3801,4185,5306,4513,4656,4319,3928,4257,4208,6312,4810,4621,4258,3092],\"y1\":{\"__ndarray__\":\"AAAAAIB1p0AAAAAAADCpQAAAAAAAeKtAAAAAAACcqkAAAAAAAO6oQAAAAAAAGqdAAAAAAACKq0AAAAAAgGOoQAAAAAAA3apAAAAAAACeqUAAAAAAAJSrQAAAAACAF6dAAAAAAIBNqEAAAAAAAKerQAAAAAAAi6lAAAAAAIAsq0AAAAAAgNWoQAAAAAAAwadAAAAAAICvqkAAAAAAAGKqQAAAAAAASqtAAAAAAICeq0AAAAAAgKarQAAAAAAA4KhAAAAAAICkqEAAAAAAAAKsQAAAAAAAbK9AAAAAAADUrEAAAAAAgBCsQAAAAAAAsqpAAAAAAIABo0A=\",\"dtype\":\"float64\",\"order\":\"little\",\"shape\":[31]}},\"selected\":{\"id\":\"5062\"},\"selection_policy\":{\"id\":\"5061\"}},\"id\":\"4986\",\"type\":\"ColumnDataSource\"},{\"attributes\":{\"line_alpha\":0.1,\"line_color\":\"#30a2da\",\"line_width\":2,\"x\":{\"field\":\"dia_mes\"},\"y\":{\"field\":\"users\"}},\"id\":\"5038\",\"type\":\"Line\"},{\"attributes\":{},\"id\":\"4976\",\"type\":\"BasicTickFormatter\"},{\"attributes\":{\"source\":{\"id\":\"5043\"}},\"id\":\"5050\",\"type\":\"CDSView\"},{\"attributes\":{\"coordinates\":null,\"data_source\":{\"id\":\"4994\"},\"glyph\":{\"id\":\"4996\"},\"group\":null,\"hover_glyph\":null,\"muted_glyph\":{\"id\":\"4998\"},\"nonselection_glyph\":{\"id\":\"4997\"},\"selection_glyph\":{\"id\":\"5001\"},\"view\":{\"id\":\"5000\"}},\"id\":\"4999\",\"type\":\"GlyphRenderer\"},{\"attributes\":{\"fill_alpha\":{\"value\":0.1},\"fill_color\":{\"value\":\"#30a2da\"},\"hatch_alpha\":{\"value\":0.1},\"hatch_color\":{\"value\":\"#30a2da\"},\"line_alpha\":{\"value\":0.1},\"line_color\":{\"value\":\"#30a2da\"},\"size\":{\"value\":5.477225575051661},\"x\":{\"field\":\"dia_mes\"},\"y\":{\"field\":\"users\"}},\"id\":\"5047\",\"type\":\"Scatter\"},{\"attributes\":{\"source\":{\"id\":\"5010\"}},\"id\":\"5016\",\"type\":\"CDSView\"},{\"attributes\":{},\"id\":\"5069\",\"type\":\"UnionRenderers\"},{\"attributes\":{\"source\":{\"id\":\"5018\"}},\"id\":\"5024\",\"type\":\"CDSView\"},{\"attributes\":{\"bottom\":{\"field\":\"bottom\"},\"fill_alpha\":{\"value\":1.0},\"fill_color\":{\"value\":null},\"hatch_alpha\":{\"value\":1.0},\"hatch_color\":{\"value\":\"black\"},\"hatch_scale\":{\"value\":12.0},\"hatch_weight\":{\"value\":1.0},\"line_alpha\":{\"value\":1.0},\"line_cap\":{\"value\":\"butt\"},\"line_color\":{\"value\":\"black\"},\"line_dash\":{\"value\":[]},\"line_dash_offset\":{\"value\":0},\"line_join\":{\"value\":\"bevel\"},\"line_width\":{\"value\":1},\"top\":{\"field\":\"top\"},\"width\":{\"value\":0.7},\"x\":{\"field\":\"index\"}},\"id\":\"5033\",\"type\":\"VBar\"},{\"attributes\":{},\"id\":\"5067\",\"type\":\"UnionRenderers\"},{\"attributes\":{},\"id\":\"5068\",\"type\":\"Selection\"},{\"attributes\":{},\"id\":\"5035\",\"type\":\"Selection\"},{\"attributes\":{},\"id\":\"4948\",\"type\":\"CategoricalScale\"},{\"attributes\":{\"bottom\":{\"field\":\"bottom\"},\"fill_color\":{\"value\":null},\"top\":{\"field\":\"top\"},\"width\":{\"value\":0.7},\"x\":{\"field\":\"index\"}},\"id\":\"5020\",\"type\":\"VBar\"},{\"attributes\":{\"fill_alpha\":{\"value\":0.1},\"fill_color\":{\"value\":null},\"hatch_alpha\":{\"value\":0.1},\"line_alpha\":{\"value\":0.1},\"x\":{\"field\":\"index\"},\"y\":{\"field\":\"users\"}},\"id\":\"4981\",\"type\":\"Circle\"},{\"attributes\":{\"bottom\":{\"field\":\"bottom\"},\"fill_alpha\":{\"value\":1.0},\"fill_color\":{\"value\":null},\"hatch_alpha\":{\"value\":1.0},\"hatch_color\":{\"value\":\"black\"},\"hatch_scale\":{\"value\":12.0},\"hatch_weight\":{\"value\":1.0},\"line_alpha\":{\"value\":1.0},\"line_cap\":{\"value\":\"butt\"},\"line_color\":{\"value\":\"black\"},\"line_dash\":{\"value\":[]},\"line_dash_offset\":{\"value\":0},\"line_join\":{\"value\":\"bevel\"},\"line_width\":{\"value\":1},\"top\":{\"field\":\"top\"},\"width\":{\"value\":0.7},\"x\":{\"field\":\"index\"}},\"id\":\"5025\",\"type\":\"VBar\"},{\"attributes\":{},\"id\":\"4974\",\"type\":\"AllLabels\"},{\"attributes\":{\"axis_label\":\"dia_mes\",\"coordinates\":null,\"formatter\":{\"id\":\"4973\"},\"group\":null,\"major_label_policy\":{\"id\":\"4974\"},\"ticker\":{\"id\":\"4953\"}},\"id\":\"4952\",\"type\":\"CategoricalAxis\"},{\"attributes\":{\"factors\":[\"1\",\"2\",\"3\",\"4\",\"5\",\"6\",\"7\",\"8\",\"9\",\"10\",\"11\",\"12\",\"13\",\"14\",\"15\",\"16\",\"17\",\"18\",\"19\",\"20\",\"21\",\"22\",\"23\",\"24\",\"25\",\"26\",\"27\",\"28\",\"29\",\"30\",\"31\"],\"tags\":[[[\"dia_mes\",\"dia_mes\",null]]]},\"id\":\"4939\",\"type\":\"FactorRange\"},{\"attributes\":{\"source\":{\"id\":\"4978\"}},\"id\":\"4984\",\"type\":\"CDSView\"},{\"attributes\":{},\"id\":\"5059\",\"type\":\"UnionRenderers\"},{\"attributes\":{\"source\":{\"id\":\"5002\"}},\"id\":\"5008\",\"type\":\"CDSView\"},{\"attributes\":{\"coordinates\":null,\"data_source\":{\"id\":\"5043\"},\"glyph\":{\"id\":\"5046\"},\"group\":null,\"hover_glyph\":null,\"muted_glyph\":{\"id\":\"5048\"},\"nonselection_glyph\":{\"id\":\"5047\"},\"selection_glyph\":{\"id\":\"5051\"},\"view\":{\"id\":\"5050\"}},\"id\":\"5049\",\"type\":\"GlyphRenderer\"},{\"attributes\":{},\"id\":\"4973\",\"type\":\"CategoricalTickFormatter\"},{\"attributes\":{\"bottom\":{\"field\":\"bottom\"},\"fill_alpha\":{\"value\":0.1},\"fill_color\":{\"value\":null},\"hatch_alpha\":{\"value\":0.1},\"line_alpha\":{\"value\":0.1},\"top\":{\"field\":\"top\"},\"width\":{\"value\":0.7},\"x\":{\"field\":\"index\"}},\"id\":\"5021\",\"type\":\"VBar\"},{\"attributes\":{\"end\":7474.4,\"reset_end\":7474.4,\"reset_start\":-534.4000000000001,\"start\":-534.4000000000001,\"tags\":[[[\"users\",\"users\",null]]]},\"id\":\"4940\",\"type\":\"Range1d\"},{\"attributes\":{\"coordinates\":null,\"data_source\":{\"id\":\"5034\"},\"glyph\":{\"id\":\"5037\"},\"group\":null,\"hover_glyph\":null,\"muted_glyph\":{\"id\":\"5039\"},\"nonselection_glyph\":{\"id\":\"5038\"},\"selection_glyph\":{\"id\":\"5042\"},\"view\":{\"id\":\"5041\"}},\"id\":\"5040\",\"type\":\"GlyphRenderer\"},{\"attributes\":{\"fill_alpha\":{\"value\":0.2},\"fill_color\":{\"value\":\"#30a2da\"},\"hatch_alpha\":{\"value\":0.2},\"hatch_color\":{\"value\":\"#30a2da\"},\"line_alpha\":{\"value\":0.2},\"line_color\":{\"value\":\"#30a2da\"},\"size\":{\"value\":5.477225575051661},\"x\":{\"field\":\"dia_mes\"},\"y\":{\"field\":\"users\"}},\"id\":\"5048\",\"type\":\"Scatter\"},{\"attributes\":{},\"id\":\"4950\",\"type\":\"LinearScale\"},{\"attributes\":{},\"id\":\"5070\",\"type\":\"Selection\"},{\"attributes\":{\"line_color\":\"#30a2da\",\"line_width\":2,\"x\":{\"field\":\"dia_mes\"},\"y\":{\"field\":\"users\"}},\"id\":\"5042\",\"type\":\"Line\"},{\"attributes\":{},\"id\":\"4956\",\"type\":\"BasicTicker\"},{\"attributes\":{\"fill_color\":{\"value\":null},\"x\":{\"field\":\"index\"},\"y\":{\"field\":\"users\"}},\"id\":\"4980\",\"type\":\"Circle\"},{\"attributes\":{},\"id\":\"4953\",\"type\":\"CategoricalTicker\"},{\"attributes\":{\"margin\":[5,5,5,5],\"name\":\"HSpacer08773\",\"sizing_mode\":\"stretch_width\"},\"id\":\"4938\",\"type\":\"Spacer\"},{\"attributes\":{\"axis_label\":\"users\",\"coordinates\":null,\"formatter\":{\"id\":\"4976\"},\"group\":null,\"major_label_policy\":{\"id\":\"4977\"},\"ticker\":{\"id\":\"4956\"}},\"id\":\"4955\",\"type\":\"LinearAxis\"},{\"attributes\":{\"x0\":{\"field\":\"x0\"},\"x1\":{\"field\":\"x1\"},\"y0\":{\"field\":\"y0\"},\"y1\":{\"field\":\"y1\"}},\"id\":\"5012\",\"type\":\"Segment\"},{\"attributes\":{\"bottom\":{\"field\":\"bottom\"},\"fill_color\":{\"value\":null},\"top\":{\"field\":\"top\"},\"width\":{\"value\":0.7},\"x\":{\"field\":\"index\"}},\"id\":\"5028\",\"type\":\"VBar\"},{\"attributes\":{\"data\":{\"dia_mes\":[\"1\",\"2\",\"3\",\"4\",\"5\",\"6\",\"7\",\"8\",\"9\",\"10\",\"11\",\"12\",\"13\",\"14\",\"15\",\"16\",\"17\",\"18\",\"19\",\"20\",\"21\",\"22\",\"23\",\"24\",\"25\",\"26\",\"27\",\"28\",\"29\",\"30\",\"31\"],\"users\":{\"__ndarray__\":\"AAAAAAAookAAAAAAAI6jQAAAAAAAu6NAAAAAAACookAAAAAAAO2jQAAAAAAAW6JAAAAAAACto0AAAAAAALGkQAAAAAAAMqVAAAAAAADPpEAAAAAAABCjQAAAAAAAsqRAAAAAAADRokAAAAAAABWmQAAAAAAAL6VAAAAAAAAto0AAAAAAAOOkQAAAAAAAP6RAAAAAAADVo0AAAAAAAKahQAAAAAAAHqRAAAAAAAD1o0AAAAAAAGilQAAAAAAAkKVAAAAAAAADpUAAAAAAADSkQAAAAAAAqKBAAAAAAACgpEAAAAAAAF6lQAAAAAAA+KJAAAAAAABCoEA=\",\"dtype\":\"float64\",\"order\":\"little\",\"shape\":[31]}},\"selected\":{\"id\":\"5044\"},\"selection_policy\":{\"id\":\"5075\"}},\"id\":\"5043\",\"type\":\"ColumnDataSource\"},{\"attributes\":{\"angle\":{\"value\":0.0},\"fill_alpha\":{\"value\":1.0},\"fill_color\":{\"value\":\"#30a2da\"},\"hatch_alpha\":{\"value\":1.0},\"hatch_color\":{\"value\":\"#30a2da\"},\"hatch_scale\":{\"value\":12.0},\"hatch_weight\":{\"value\":1.0},\"line_alpha\":{\"value\":1.0},\"line_cap\":{\"value\":\"butt\"},\"line_color\":{\"value\":\"#30a2da\"},\"line_dash\":{\"value\":[]},\"line_dash_offset\":{\"value\":0},\"line_join\":{\"value\":\"bevel\"},\"line_width\":{\"value\":1},\"marker\":{\"value\":\"circle\"},\"size\":{\"value\":5.477225575051661},\"x\":{\"field\":\"dia_mes\"},\"y\":{\"field\":\"users\"}},\"id\":\"5051\",\"type\":\"Scatter\"},{\"attributes\":{\"coordinates\":null,\"data_source\":{\"id\":\"5026\"},\"glyph\":{\"id\":\"5028\"},\"group\":null,\"hover_glyph\":null,\"muted_glyph\":{\"id\":\"5030\"},\"nonselection_glyph\":{\"id\":\"5029\"},\"selection_glyph\":{\"id\":\"5033\"},\"view\":{\"id\":\"5032\"}},\"id\":\"5031\",\"type\":\"GlyphRenderer\"},{\"attributes\":{\"axis\":{\"id\":\"4955\"},\"coordinates\":null,\"dimension\":1,\"grid_line_color\":null,\"group\":null,\"ticker\":null},\"id\":\"4958\",\"type\":\"Grid\"},{\"attributes\":{\"data\":{\"x0\":[[\"1\",-0.2],[\"2\",-0.2],[\"3\",-0.2],[\"4\",-0.2],[\"5\",-0.2],[\"6\",-0.2],[\"7\",-0.2],[\"8\",-0.2],[\"9\",-0.2],[\"10\",-0.2],[\"11\",-0.2],[\"12\",-0.2],[\"13\",-0.2],[\"14\",-0.2],[\"15\",-0.2],[\"16\",-0.2],[\"17\",-0.2],[\"18\",-0.2],[\"19\",-0.2],[\"20\",-0.2],[\"21\",-0.2],[\"22\",-0.2],[\"23\",-0.2],[\"24\",-0.2],[\"25\",-0.2],[\"26\",-0.2],[\"27\",-0.2],[\"28\",-0.2],[\"29\",-0.2],[\"30\",-0.2],[\"31\",-0.2]],\"x1\":[[\"1\",0.2],[\"2\",0.2],[\"3\",0.2],[\"4\",0.2],[\"5\",0.2],[\"6\",0.2],[\"7\",0.2],[\"8\",0.2],[\"9\",0.2],[\"10\",0.2],[\"11\",0.2],[\"12\",0.2],[\"13\",0.2],[\"14\",0.2],[\"15\",0.2],[\"16\",0.2],[\"17\",0.2],[\"18\",0.2],[\"19\",0.2],[\"20\",0.2],[\"21\",0.2],[\"22\",0.2],[\"23\",0.2],[\"24\",0.2],[\"25\",0.2],[\"26\",0.2],[\"27\",0.2],[\"28\",0.2],[\"29\",0.2],[\"30\",0.2],[\"31\",0.2]],\"y0\":[133,922,1144,1359,1433,1458,1406,1239,1477,1569,1462,1391,1652,1438,1308,1384,1730,1434,1401,1558,1546,1393,1411,886,1415,863,987,1432,1390,1278,785],\"y1\":[133,922,1144,1359,1433,1458,1406,1239,1477,1569,1462,1391,1652,1438,1308,1384,1730,1434,1401,1558,1546,1393,1411,886,1415,863,987,1432,1390,1278,785]},\"selected\":{\"id\":\"5066\"},\"selection_policy\":{\"id\":\"5065\"}},\"id\":\"5002\",\"type\":\"ColumnDataSource\"},{\"attributes\":{\"data\":{\"index\":[\"1\",\"2\",\"3\",\"5\",\"6\",\"10\",\"12\",\"12\",\"13\",\"17\",\"18\",\"19\",\"23\",\"24\",\"25\",\"25\",\"26\",\"30\",\"31\"],\"users\":[6298,6587,6671,4855,4604,5265,3907,5419,5130,5258,5668,5565,5828,6807,472,6774,6587,6117,3948]},\"selected\":{\"id\":\"5060\"},\"selection_policy\":{\"id\":\"5059\"}},\"id\":\"4978\",\"type\":\"ColumnDataSource\"},{\"attributes\":{\"bottom\":{\"field\":\"bottom\"},\"fill_alpha\":{\"value\":0.2},\"fill_color\":{\"value\":null},\"hatch_alpha\":{\"value\":0.2},\"line_alpha\":{\"value\":0.2},\"top\":{\"field\":\"top\"},\"width\":{\"value\":0.7},\"x\":{\"field\":\"index\"}},\"id\":\"5030\",\"type\":\"VBar\"},{\"attributes\":{\"fill_color\":{\"value\":\"#30a2da\"},\"hatch_color\":{\"value\":\"#30a2da\"},\"line_color\":{\"value\":\"#30a2da\"},\"size\":{\"value\":5.477225575051661},\"x\":{\"field\":\"dia_mes\"},\"y\":{\"field\":\"users\"}},\"id\":\"5046\",\"type\":\"Scatter\"},{\"attributes\":{\"children\":[{\"id\":\"4938\"},{\"id\":\"4943\"},{\"id\":\"5286\"}],\"margin\":[0,0,0,0],\"name\":\"Row08769\",\"tags\":[\"embedded\"]},\"id\":\"4937\",\"type\":\"Row\"},{\"attributes\":{\"coordinates\":null,\"data_source\":{\"id\":\"5010\"},\"glyph\":{\"id\":\"5012\"},\"group\":null,\"hover_glyph\":null,\"muted_glyph\":{\"id\":\"5014\"},\"nonselection_glyph\":{\"id\":\"5013\"},\"selection_glyph\":{\"id\":\"5017\"},\"view\":{\"id\":\"5016\"}},\"id\":\"5015\",\"type\":\"GlyphRenderer\"},{\"attributes\":{\"line_alpha\":{\"value\":1.0},\"line_cap\":{\"value\":\"butt\"},\"line_color\":{\"value\":\"black\"},\"line_dash\":{\"value\":[]},\"line_dash_offset\":{\"value\":0},\"line_join\":{\"value\":\"bevel\"},\"line_width\":{\"value\":1},\"x0\":{\"field\":\"x0\"},\"x1\":{\"field\":\"x1\"},\"y0\":{\"field\":\"y0\"},\"y1\":{\"field\":\"y1\"}},\"id\":\"5009\",\"type\":\"Segment\"},{\"attributes\":{\"margin\":[5,5,5,5],\"name\":\"HSpacer08774\",\"sizing_mode\":\"stretch_width\"},\"id\":\"5286\",\"type\":\"Spacer\"},{\"attributes\":{\"line_alpha\":{\"value\":1.0},\"line_cap\":{\"value\":\"butt\"},\"line_color\":{\"value\":\"black\"},\"line_dash\":{\"value\":[]},\"line_dash_offset\":{\"value\":0},\"line_join\":{\"value\":\"bevel\"},\"line_width\":{\"value\":1},\"x0\":{\"field\":\"x0\"},\"x1\":{\"field\":\"x1\"},\"y0\":{\"field\":\"y0\"},\"y1\":{\"field\":\"y1\"}},\"id\":\"5017\",\"type\":\"Segment\"},{\"attributes\":{},\"id\":\"5064\",\"type\":\"Selection\"},{\"attributes\":{\"coordinates\":null,\"data_source\":{\"id\":\"5002\"},\"glyph\":{\"id\":\"5004\"},\"group\":null,\"hover_glyph\":null,\"muted_glyph\":{\"id\":\"5006\"},\"nonselection_glyph\":{\"id\":\"5005\"},\"selection_glyph\":{\"id\":\"5009\"},\"view\":{\"id\":\"5008\"}},\"id\":\"5007\",\"type\":\"GlyphRenderer\"},{\"attributes\":{\"bottom\":{\"field\":\"bottom\"},\"fill_alpha\":{\"value\":0.2},\"fill_color\":{\"value\":null},\"hatch_alpha\":{\"value\":0.2},\"line_alpha\":{\"value\":0.2},\"top\":{\"field\":\"top\"},\"width\":{\"value\":0.7},\"x\":{\"field\":\"index\"}},\"id\":\"5022\",\"type\":\"VBar\"},{\"attributes\":{},\"id\":\"5072\",\"type\":\"Selection\"},{\"attributes\":{\"line_alpha\":{\"value\":1.0},\"line_cap\":{\"value\":\"butt\"},\"line_color\":{\"value\":\"black\"},\"line_dash\":{\"value\":[]},\"line_dash_offset\":{\"value\":0},\"line_join\":{\"value\":\"bevel\"},\"line_width\":{\"value\":1},\"x0\":{\"field\":\"x0\"},\"x1\":{\"field\":\"x1\"},\"y0\":{\"field\":\"y0\"},\"y1\":{\"field\":\"y1\"}},\"id\":\"5001\",\"type\":\"Segment\"},{\"attributes\":{},\"id\":\"5063\",\"type\":\"UnionRenderers\"},{\"attributes\":{},\"id\":\"4959\",\"type\":\"SaveTool\"},{\"attributes\":{},\"id\":\"5065\",\"type\":\"UnionRenderers\"},{\"attributes\":{},\"id\":\"4960\",\"type\":\"PanTool\"}],\"root_ids\":[\"4937\"]},\"title\":\"Bokeh Application\",\"version\":\"2.4.2\"}};\n",
       "    var render_items = [{\"docid\":\"46a3fd89-a344-49cc-80e1-794266074676\",\"root_ids\":[\"4937\"],\"roots\":{\"4937\":\"fa7f580d-a971-4d45-be9d-28283db39ec4\"}}];\n",
       "    root.Bokeh.embed.embed_items_notebook(docs_json, render_items);\n",
       "  }\n",
       "  if (root.Bokeh !== undefined && root.Bokeh.Panel !== undefined) {\n",
       "    embed_document(root);\n",
       "  } else {\n",
       "    var attempts = 0;\n",
       "    var timer = setInterval(function(root) {\n",
       "      if (root.Bokeh !== undefined && root.Bokeh.Panel !== undefined) {\n",
       "        clearInterval(timer);\n",
       "        embed_document(root);\n",
       "      } else if (document.readyState == \"complete\") {\n",
       "        attempts++;\n",
       "        if (attempts > 200) {\n",
       "          clearInterval(timer);\n",
       "          console.log(\"Bokeh: ERROR: Unable to run BokehJS code because BokehJS library is missing\");\n",
       "        }\n",
       "      }\n",
       "    }, 25, root)\n",
       "  }\n",
       "})(window);</script>"
      ],
      "text/plain": [
       ":Overlay\n",
       "   .BoxWhisker.I  :BoxWhisker   [dia_mes]   (users)\n",
       "   .Curve.Users   :Curve   [dia_mes]   (users)\n",
       "   .Scatter.Users :Scatter   [dia_mes]   (users)"
      ]
     },
     "execution_count": 31,
     "metadata": {
      "application/vnd.holoviews_exec.v0+json": {
       "id": "4937"
      }
     },
     "output_type": "execute_result"
    }
   ],
   "source": [
    "# Gráfico boxplot para estacionalidad mensual\n",
    "# ==============================================================================\n",
    "# fig, ax = plt.subplots(figsize=(9, 3.5))\n",
    "# datos['dia_mes'] = pd.Series(datos.index).dt.day.values\n",
    "# datos.boxplot(column='users', by='dia_mes', ax=ax,)\n",
    "# datos.groupby('dia_mes')['users'].median().plot(style='o-', linewidth=0.8, ax=ax)\n",
    "# ax.set_ylabel('users')\n",
    "# ax.set_title('Distribución de visitas por día del mes')\n",
    "# fig.suptitle('');\n",
    "\n",
    "datos[\"dia_mes\"] = pd.Series(datos.index).dt.day.values\n",
    "boxplot = datos.sort_values(\"dia_mes\").hvplot.box(y=\"users\", by =\"dia_mes\",\n",
    "                                                  legend=False,\n",
    "                                                  box_fill_color = None,\n",
    "                                                  outlier_fill_color = None)\n",
    "\n",
    "lineplot = datos.groupby(\"dia_mes\")[\"users\"].median().hvplot.line(legend=False)\n",
    "scatterplot  = datos.groupby(\"dia_mes\")[\"users\"].median().hvplot.scatter(legend=False)\n",
    "\n",
    "layout = boxplot * lineplot * scatterplot\n",
    "layout = layout.opts(title='Distribución de visitas por día del mes', ylabel='users', width=600)\n",
    "layout"
   ]
  },
  {
   "cell_type": "code",
   "execution_count": 28,
   "metadata": {
    "ExecuteTime": {
     "end_time": "2021-12-23T17:40:35.515388Z",
     "start_time": "2021-12-23T17:40:34.969844Z"
    }
   },
   "outputs": [
    {
     "data": {},
     "metadata": {},
     "output_type": "display_data"
    },
    {
     "data": {
      "application/vnd.holoviews_exec.v0+json": "",
      "text/html": [
       "<div id='4456'>\n",
       "\n",
       "\n",
       "\n",
       "\n",
       "\n",
       "  <div class=\"bk-root\" id=\"ba58996e-ebaf-4f44-b681-bd52415b098d\" data-root-id=\"4456\"></div>\n",
       "</div>\n",
       "<script type=\"application/javascript\">(function(root) {\n",
       "  function embed_document(root) {\n",
       "    var docs_json = {\"25b17283-858e-4882-8d35-dd5ef7c7c1f8\":{\"defs\":[{\"extends\":null,\"module\":null,\"name\":\"ReactiveHTML1\",\"overrides\":[],\"properties\":[]},{\"extends\":null,\"module\":null,\"name\":\"FlexBox1\",\"overrides\":[],\"properties\":[{\"default\":\"flex-start\",\"kind\":null,\"name\":\"align_content\"},{\"default\":\"flex-start\",\"kind\":null,\"name\":\"align_items\"},{\"default\":\"row\",\"kind\":null,\"name\":\"flex_direction\"},{\"default\":\"wrap\",\"kind\":null,\"name\":\"flex_wrap\"},{\"default\":\"flex-start\",\"kind\":null,\"name\":\"justify_content\"}]},{\"extends\":null,\"module\":null,\"name\":\"TemplateActions1\",\"overrides\":[],\"properties\":[{\"default\":0,\"kind\":null,\"name\":\"open_modal\"},{\"default\":0,\"kind\":null,\"name\":\"close_modal\"}]},{\"extends\":null,\"module\":null,\"name\":\"MaterialTemplateActions1\",\"overrides\":[],\"properties\":[{\"default\":0,\"kind\":null,\"name\":\"open_modal\"},{\"default\":0,\"kind\":null,\"name\":\"close_modal\"}]}],\"roots\":{\"references\":[{\"attributes\":{\"line_alpha\":{\"value\":0.2},\"x0\":{\"field\":\"x0\"},\"x1\":{\"field\":\"x1\"},\"y0\":{\"field\":\"y0\"},\"y1\":{\"field\":\"y1\"}},\"id\":\"4525\",\"type\":\"Segment\"},{\"attributes\":{\"fill_color\":{\"value\":\"#30a2da\"},\"hatch_color\":{\"value\":\"#30a2da\"},\"line_color\":{\"value\":\"#30a2da\"},\"size\":{\"value\":5.477225575051661},\"x\":{\"field\":\"dia_semana\"},\"y\":{\"field\":\"users\"}},\"id\":\"4565\",\"type\":\"Scatter\"},{\"attributes\":{\"source\":{\"id\":\"4553\"}},\"id\":\"4560\",\"type\":\"CDSView\"},{\"attributes\":{\"axis\":{\"id\":\"4471\"},\"coordinates\":null,\"grid_line_color\":null,\"group\":null,\"ticker\":null},\"id\":\"4473\",\"type\":\"Grid\"},{\"attributes\":{\"bottom\":{\"field\":\"bottom\"},\"fill_color\":{\"value\":null},\"top\":{\"field\":\"top\"},\"width\":{\"value\":0.7},\"x\":{\"field\":\"index\"}},\"id\":\"4539\",\"type\":\"VBar\"},{\"attributes\":{\"data\":{\"x0\":[[\"1\",-0.2],[\"2\",-0.2],[\"3\",-0.2],[\"4\",-0.2],[\"5\",-0.2],[\"6\",-0.2],[\"7\",-0.2]],\"x1\":[[\"1\",0.2],[\"2\",0.2],[\"3\",0.2],[\"4\",0.2],[\"5\",0.2],[\"6\",0.2],[\"7\",0.2]],\"y0\":[5045,5265,5668,5565,5306,3861,3579],\"y1\":[5045,5265,5668,5565,5306,3861,3579]},\"selected\":{\"id\":\"4587\"},\"selection_policy\":{\"id\":\"4586\"}},\"id\":\"4529\",\"type\":\"ColumnDataSource\"},{\"attributes\":{\"x0\":{\"field\":\"x0\"},\"x1\":{\"field\":\"x1\"},\"y0\":{\"field\":\"y0\"},\"y1\":{\"field\":\"y1\"}},\"id\":\"4515\",\"type\":\"Segment\"},{\"attributes\":{\"below\":[{\"id\":\"4471\"}],\"center\":[{\"id\":\"4473\"},{\"id\":\"4477\"}],\"height\":300,\"left\":[{\"id\":\"4474\"}],\"margin\":[5,5,5,5],\"min_border_bottom\":10,\"min_border_left\":10,\"min_border_right\":10,\"min_border_top\":10,\"renderers\":[{\"id\":\"4502\"},{\"id\":\"4510\"},{\"id\":\"4518\"},{\"id\":\"4526\"},{\"id\":\"4534\"},{\"id\":\"4542\"},{\"id\":\"4550\"},{\"id\":\"4559\"},{\"id\":\"4568\"}],\"sizing_mode\":\"fixed\",\"title\":{\"id\":\"4463\"},\"toolbar\":{\"id\":\"4484\"},\"x_range\":{\"id\":\"4458\"},\"x_scale\":{\"id\":\"4467\"},\"y_range\":{\"id\":\"4459\"},\"y_scale\":{\"id\":\"4469\"}},\"id\":\"4462\",\"subtype\":\"Figure\",\"type\":\"Plot\"},{\"attributes\":{\"coordinates\":null,\"group\":null,\"text\":\"Distribuci\\u00f3n de visitas por d\\u00eda de la semana\",\"text_color\":\"black\",\"text_font_size\":\"12pt\"},\"id\":\"4463\",\"type\":\"Title\"},{\"attributes\":{\"source\":{\"id\":\"4529\"}},\"id\":\"4535\",\"type\":\"CDSView\"},{\"attributes\":{\"coordinates\":null,\"data_source\":{\"id\":\"4505\"},\"glyph\":{\"id\":\"4507\"},\"group\":null,\"hover_glyph\":null,\"muted_glyph\":{\"id\":\"4509\"},\"nonselection_glyph\":{\"id\":\"4508\"},\"selection_glyph\":{\"id\":\"4512\"},\"view\":{\"id\":\"4511\"}},\"id\":\"4510\",\"type\":\"GlyphRenderer\"},{\"attributes\":{\"x0\":{\"field\":\"x0\"},\"x1\":{\"field\":\"x1\"},\"y0\":{\"field\":\"y0\"},\"y1\":{\"field\":\"y1\"}},\"id\":\"4507\",\"type\":\"Segment\"},{\"attributes\":{},\"id\":\"4563\",\"type\":\"Selection\"},{\"attributes\":{\"line_alpha\":{\"value\":0.1},\"x0\":{\"field\":\"x0\"},\"x1\":{\"field\":\"x1\"},\"y0\":{\"field\":\"y0\"},\"y1\":{\"field\":\"y1\"}},\"id\":\"4524\",\"type\":\"Segment\"},{\"attributes\":{\"end\":7474.4,\"reset_end\":7474.4,\"reset_start\":-534.4000000000001,\"start\":-534.4000000000001,\"tags\":[[[\"users\",\"users\",null]]]},\"id\":\"4459\",\"type\":\"Range1d\"},{\"attributes\":{},\"id\":\"4467\",\"type\":\"CategoricalScale\"},{\"attributes\":{\"fill_alpha\":{\"value\":0.1},\"fill_color\":{\"value\":\"#30a2da\"},\"hatch_alpha\":{\"value\":0.1},\"hatch_color\":{\"value\":\"#30a2da\"},\"line_alpha\":{\"value\":0.1},\"line_color\":{\"value\":\"#30a2da\"},\"size\":{\"value\":5.477225575051661},\"x\":{\"field\":\"dia_semana\"},\"y\":{\"field\":\"users\"}},\"id\":\"4566\",\"type\":\"Scatter\"},{\"attributes\":{\"source\":{\"id\":\"4521\"}},\"id\":\"4527\",\"type\":\"CDSView\"},{\"attributes\":{\"axis_label\":\"dia_semana\",\"coordinates\":null,\"formatter\":{\"id\":\"4492\"},\"group\":null,\"major_label_policy\":{\"id\":\"4493\"},\"ticker\":{\"id\":\"4472\"}},\"id\":\"4471\",\"type\":\"CategoricalAxis\"},{\"attributes\":{\"line_alpha\":{\"value\":0.1},\"x0\":{\"field\":\"x0\"},\"x1\":{\"field\":\"x1\"},\"y0\":{\"field\":\"y0\"},\"y1\":{\"field\":\"y1\"}},\"id\":\"4508\",\"type\":\"Segment\"},{\"attributes\":{\"margin\":[5,5,5,5],\"name\":\"HSpacer07791\",\"sizing_mode\":\"stretch_width\"},\"id\":\"4805\",\"type\":\"Spacer\"},{\"attributes\":{},\"id\":\"4493\",\"type\":\"AllLabels\"},{\"attributes\":{\"coordinates\":null,\"data_source\":{\"id\":\"4553\"},\"glyph\":{\"id\":\"4556\"},\"group\":null,\"hover_glyph\":null,\"muted_glyph\":{\"id\":\"4558\"},\"nonselection_glyph\":{\"id\":\"4557\"},\"selection_glyph\":{\"id\":\"4561\"},\"view\":{\"id\":\"4560\"}},\"id\":\"4559\",\"type\":\"GlyphRenderer\"},{\"attributes\":{\"line_color\":\"#30a2da\",\"line_width\":2,\"x\":{\"field\":\"dia_semana\"},\"y\":{\"field\":\"users\"}},\"id\":\"4561\",\"type\":\"Line\"},{\"attributes\":{\"line_alpha\":{\"value\":1.0},\"line_cap\":{\"value\":\"butt\"},\"line_color\":{\"value\":\"black\"},\"line_dash\":{\"value\":[]},\"line_dash_offset\":{\"value\":0},\"line_join\":{\"value\":\"bevel\"},\"line_width\":{\"value\":1},\"x0\":{\"field\":\"x0\"},\"x1\":{\"field\":\"x1\"},\"y0\":{\"field\":\"y0\"},\"y1\":{\"field\":\"y1\"}},\"id\":\"4512\",\"type\":\"Segment\"},{\"attributes\":{},\"id\":\"4469\",\"type\":\"LinearScale\"},{\"attributes\":{\"line_alpha\":{\"value\":1.0},\"line_cap\":{\"value\":\"butt\"},\"line_color\":{\"value\":\"black\"},\"line_dash\":{\"value\":[]},\"line_dash_offset\":{\"value\":0},\"line_join\":{\"value\":\"bevel\"},\"line_width\":{\"value\":1},\"x0\":{\"field\":\"x0\"},\"x1\":{\"field\":\"x1\"},\"y0\":{\"field\":\"y0\"},\"y1\":{\"field\":\"y1\"}},\"id\":\"4520\",\"type\":\"Segment\"},{\"attributes\":{},\"id\":\"4475\",\"type\":\"BasicTicker\"},{\"attributes\":{},\"id\":\"4590\",\"type\":\"UnionRenderers\"},{\"attributes\":{},\"id\":\"4472\",\"type\":\"CategoricalTicker\"},{\"attributes\":{\"data\":{\"bottom\":{\"__ndarray__\":\"AAAAAABVpEAAAAAAALmmQAAAAAAAQKdAAAAAAABrpkAAAAAAAH2lQAAAAAAAhp9AAAAAAAB6m0A=\",\"dtype\":\"float64\",\"order\":\"little\",\"shape\":[7]},\"index\":[\"1\",\"2\",\"3\",\"4\",\"5\",\"6\",\"7\"],\"top\":{\"__ndarray__\":\"AAAAAAAhoUAAAAAAgNmhQAAAAAAANKJAAAAAAABHokAAAAAAgA6hQAAAAAAAAZpAAAAAAABnlkA=\",\"dtype\":\"float64\",\"order\":\"little\",\"shape\":[7]}},\"selected\":{\"id\":\"4591\"},\"selection_policy\":{\"id\":\"4590\"}},\"id\":\"4545\",\"type\":\"ColumnDataSource\"},{\"attributes\":{\"line_color\":\"#30a2da\",\"line_width\":2,\"x\":{\"field\":\"dia_semana\"},\"y\":{\"field\":\"users\"}},\"id\":\"4556\",\"type\":\"Line\"},{\"attributes\":{\"margin\":[5,5,5,5],\"name\":\"HSpacer07790\",\"sizing_mode\":\"stretch_width\"},\"id\":\"4457\",\"type\":\"Spacer\"},{\"attributes\":{\"axis_label\":\"users\",\"coordinates\":null,\"formatter\":{\"id\":\"4495\"},\"group\":null,\"major_label_policy\":{\"id\":\"4496\"},\"ticker\":{\"id\":\"4475\"}},\"id\":\"4474\",\"type\":\"LinearAxis\"},{\"attributes\":{\"coordinates\":null,\"data_source\":{\"id\":\"4545\"},\"glyph\":{\"id\":\"4547\"},\"group\":null,\"hover_glyph\":null,\"muted_glyph\":{\"id\":\"4549\"},\"nonselection_glyph\":{\"id\":\"4548\"},\"selection_glyph\":{\"id\":\"4552\"},\"view\":{\"id\":\"4551\"}},\"id\":\"4550\",\"type\":\"GlyphRenderer\"},{\"attributes\":{},\"id\":\"4594\",\"type\":\"UnionRenderers\"},{\"attributes\":{\"bottom\":{\"field\":\"bottom\"},\"fill_alpha\":{\"value\":0.1},\"fill_color\":{\"value\":null},\"hatch_alpha\":{\"value\":0.1},\"line_alpha\":{\"value\":0.1},\"top\":{\"field\":\"top\"},\"width\":{\"value\":0.7},\"x\":{\"field\":\"index\"}},\"id\":\"4540\",\"type\":\"VBar\"},{\"attributes\":{\"bottom\":{\"field\":\"bottom\"},\"fill_alpha\":{\"value\":1.0},\"fill_color\":{\"value\":null},\"hatch_alpha\":{\"value\":1.0},\"hatch_color\":{\"value\":\"black\"},\"hatch_scale\":{\"value\":12.0},\"hatch_weight\":{\"value\":1.0},\"line_alpha\":{\"value\":1.0},\"line_cap\":{\"value\":\"butt\"},\"line_color\":{\"value\":\"black\"},\"line_dash\":{\"value\":[]},\"line_dash_offset\":{\"value\":0},\"line_join\":{\"value\":\"bevel\"},\"line_width\":{\"value\":1},\"top\":{\"field\":\"top\"},\"width\":{\"value\":0.7},\"x\":{\"field\":\"index\"}},\"id\":\"4552\",\"type\":\"VBar\"},{\"attributes\":{\"axis\":{\"id\":\"4474\"},\"coordinates\":null,\"dimension\":1,\"grid_line_color\":null,\"group\":null,\"ticker\":null},\"id\":\"4477\",\"type\":\"Grid\"},{\"attributes\":{\"data\":{\"index\":[\"1\",\"1\",\"2\",\"2\",\"3\",\"3\",\"4\",\"4\",\"5\",\"6\",\"6\",\"7\"],\"users\":[5828,6117,6807,6298,6774,6587,6587,6671,6312,4073,4810,4110]},\"selected\":{\"id\":\"4579\"},\"selection_policy\":{\"id\":\"4578\"}},\"id\":\"4497\",\"type\":\"ColumnDataSource\"},{\"attributes\":{\"source\":{\"id\":\"4537\"}},\"id\":\"4543\",\"type\":\"CDSView\"},{\"attributes\":{\"data\":{\"x0\":[\"1\",\"2\",\"3\",\"4\",\"5\",\"6\",\"7\"],\"x1\":[\"1\",\"2\",\"3\",\"4\",\"5\",\"6\",\"7\"],\"y0\":[1432,1390,1278,785,472,863,133],\"y1\":{\"__ndarray__\":\"AAAAAAAhoUAAAAAAgNmhQAAAAAAANKJAAAAAAABHokAAAAAAgA6hQAAAAAAAAZpAAAAAAABnlkA=\",\"dtype\":\"float64\",\"order\":\"little\",\"shape\":[7]}},\"selected\":{\"id\":\"4583\"},\"selection_policy\":{\"id\":\"4582\"}},\"id\":\"4513\",\"type\":\"ColumnDataSource\"},{\"attributes\":{\"line_alpha\":{\"value\":0.2},\"x0\":{\"field\":\"x0\"},\"x1\":{\"field\":\"x1\"},\"y0\":{\"field\":\"y0\"},\"y1\":{\"field\":\"y1\"}},\"id\":\"4517\",\"type\":\"Segment\"},{\"attributes\":{\"line_alpha\":0.1,\"line_color\":\"#30a2da\",\"line_width\":2,\"x\":{\"field\":\"dia_semana\"},\"y\":{\"field\":\"users\"}},\"id\":\"4557\",\"type\":\"Line\"},{\"attributes\":{\"bottom\":{\"field\":\"bottom\"},\"fill_color\":{\"value\":null},\"top\":{\"field\":\"top\"},\"width\":{\"value\":0.7},\"x\":{\"field\":\"index\"}},\"id\":\"4547\",\"type\":\"VBar\"},{\"attributes\":{},\"id\":\"4589\",\"type\":\"Selection\"},{\"attributes\":{\"coordinates\":null,\"data_source\":{\"id\":\"4497\"},\"glyph\":{\"id\":\"4499\"},\"group\":null,\"hover_glyph\":null,\"muted_glyph\":{\"id\":\"4501\"},\"nonselection_glyph\":{\"id\":\"4500\"},\"selection_glyph\":{\"id\":\"4504\"},\"view\":{\"id\":\"4503\"}},\"id\":\"4502\",\"type\":\"GlyphRenderer\"},{\"attributes\":{},\"id\":\"4554\",\"type\":\"Selection\"},{\"attributes\":{},\"id\":\"4585\",\"type\":\"Selection\"},{\"attributes\":{\"line_alpha\":0.2,\"line_color\":\"#30a2da\",\"line_width\":2,\"x\":{\"field\":\"dia_semana\"},\"y\":{\"field\":\"users\"}},\"id\":\"4558\",\"type\":\"Line\"},{\"attributes\":{},\"id\":\"4584\",\"type\":\"UnionRenderers\"},{\"attributes\":{},\"id\":\"4592\",\"type\":\"UnionRenderers\"},{\"attributes\":{\"tools\":[{\"id\":\"4460\"},{\"id\":\"4478\"},{\"id\":\"4479\"},{\"id\":\"4480\"},{\"id\":\"4481\"},{\"id\":\"4482\"}]},\"id\":\"4484\",\"type\":\"Toolbar\"},{\"attributes\":{\"source\":{\"id\":\"4497\"}},\"id\":\"4503\",\"type\":\"CDSView\"},{\"attributes\":{\"data\":{\"x0\":[\"1\",\"2\",\"3\",\"4\",\"5\",\"6\",\"7\"],\"x1\":[\"1\",\"2\",\"3\",\"4\",\"5\",\"6\",\"7\"],\"y0\":[5045,5265,5668,5565,5306,3861,3579],\"y1\":{\"__ndarray__\":\"AAAAAADjqkAAAAAAAJ2tQAAAAAAAGK5AAAAAAABxrUAAAAAAAEarQAAAAACAd6RAAAAAAIBPokA=\",\"dtype\":\"float64\",\"order\":\"little\",\"shape\":[7]}},\"selected\":{\"id\":\"4581\"},\"selection_policy\":{\"id\":\"4580\"}},\"id\":\"4505\",\"type\":\"ColumnDataSource\"},{\"attributes\":{\"bottom_units\":\"screen\",\"coordinates\":null,\"fill_alpha\":0.5,\"fill_color\":\"lightgrey\",\"group\":null,\"left_units\":\"screen\",\"level\":\"overlay\",\"line_alpha\":1.0,\"line_color\":\"black\",\"line_dash\":[4,4],\"line_width\":2,\"right_units\":\"screen\",\"syncable\":false,\"top_units\":\"screen\"},\"id\":\"4483\",\"type\":\"BoxAnnotation\"},{\"attributes\":{},\"id\":\"4478\",\"type\":\"SaveTool\"},{\"attributes\":{},\"id\":\"4479\",\"type\":\"PanTool\"},{\"attributes\":{\"x0\":{\"field\":\"x0\"},\"x1\":{\"field\":\"x1\"},\"y0\":{\"field\":\"y0\"},\"y1\":{\"field\":\"y1\"}},\"id\":\"4531\",\"type\":\"Segment\"},{\"attributes\":{},\"id\":\"4482\",\"type\":\"ResetTool\"},{\"attributes\":{\"angle\":{\"value\":0.0},\"fill_alpha\":{\"value\":1.0},\"fill_color\":{\"value\":\"#30a2da\"},\"hatch_alpha\":{\"value\":1.0},\"hatch_color\":{\"value\":\"#30a2da\"},\"hatch_scale\":{\"value\":12.0},\"hatch_weight\":{\"value\":1.0},\"line_alpha\":{\"value\":1.0},\"line_cap\":{\"value\":\"butt\"},\"line_color\":{\"value\":\"#30a2da\"},\"line_dash\":{\"value\":[]},\"line_dash_offset\":{\"value\":0},\"line_join\":{\"value\":\"bevel\"},\"line_width\":{\"value\":1},\"marker\":{\"value\":\"circle\"},\"size\":{\"value\":5.477225575051661},\"x\":{\"field\":\"dia_semana\"},\"y\":{\"field\":\"users\"}},\"id\":\"4570\",\"type\":\"Scatter\"},{\"attributes\":{\"fill_color\":{\"value\":null},\"x\":{\"field\":\"index\"},\"y\":{\"field\":\"users\"}},\"id\":\"4499\",\"type\":\"Circle\"},{\"attributes\":{},\"id\":\"4480\",\"type\":\"WheelZoomTool\"},{\"attributes\":{},\"id\":\"4588\",\"type\":\"UnionRenderers\"},{\"attributes\":{\"source\":{\"id\":\"4562\"}},\"id\":\"4569\",\"type\":\"CDSView\"},{\"attributes\":{\"overlay\":{\"id\":\"4483\"}},\"id\":\"4481\",\"type\":\"BoxZoomTool\"},{\"attributes\":{},\"id\":\"4580\",\"type\":\"UnionRenderers\"},{\"attributes\":{},\"id\":\"4591\",\"type\":\"Selection\"},{\"attributes\":{},\"id\":\"4492\",\"type\":\"CategoricalTickFormatter\"},{\"attributes\":{\"bottom\":{\"field\":\"bottom\"},\"fill_alpha\":{\"value\":0.2},\"fill_color\":{\"value\":null},\"hatch_alpha\":{\"value\":0.2},\"line_alpha\":{\"value\":0.2},\"top\":{\"field\":\"top\"},\"width\":{\"value\":0.7},\"x\":{\"field\":\"index\"}},\"id\":\"4549\",\"type\":\"VBar\"},{\"attributes\":{\"bottom\":{\"field\":\"bottom\"},\"fill_alpha\":{\"value\":1.0},\"fill_color\":{\"value\":null},\"hatch_alpha\":{\"value\":1.0},\"hatch_color\":{\"value\":\"black\"},\"hatch_scale\":{\"value\":12.0},\"hatch_weight\":{\"value\":1.0},\"line_alpha\":{\"value\":1.0},\"line_cap\":{\"value\":\"butt\"},\"line_color\":{\"value\":\"black\"},\"line_dash\":{\"value\":[]},\"line_dash_offset\":{\"value\":0},\"line_join\":{\"value\":\"bevel\"},\"line_width\":{\"value\":1},\"top\":{\"field\":\"top\"},\"width\":{\"value\":0.7},\"x\":{\"field\":\"index\"}},\"id\":\"4544\",\"type\":\"VBar\"},{\"attributes\":{\"x0\":{\"field\":\"x0\"},\"x1\":{\"field\":\"x1\"},\"y0\":{\"field\":\"y0\"},\"y1\":{\"field\":\"y1\"}},\"id\":\"4523\",\"type\":\"Segment\"},{\"attributes\":{\"source\":{\"id\":\"4513\"}},\"id\":\"4519\",\"type\":\"CDSView\"},{\"attributes\":{},\"id\":\"4579\",\"type\":\"Selection\"},{\"attributes\":{\"children\":[{\"id\":\"4457\"},{\"id\":\"4462\"},{\"id\":\"4805\"}],\"margin\":[0,0,0,0],\"name\":\"Row07786\",\"tags\":[\"embedded\"]},\"id\":\"4456\",\"type\":\"Row\"},{\"attributes\":{\"bottom\":{\"field\":\"bottom\"},\"fill_alpha\":{\"value\":0.2},\"fill_color\":{\"value\":null},\"hatch_alpha\":{\"value\":0.2},\"line_alpha\":{\"value\":0.2},\"top\":{\"field\":\"top\"},\"width\":{\"value\":0.7},\"x\":{\"field\":\"index\"}},\"id\":\"4541\",\"type\":\"VBar\"},{\"attributes\":{},\"id\":\"4581\",\"type\":\"Selection\"},{\"attributes\":{\"data\":{\"dia_semana\":[\"1\",\"2\",\"3\",\"4\",\"5\",\"6\",\"7\"],\"users\":{\"__ndarray__\":\"AAAAAABVpEAAAAAAALmmQAAAAAAAQKdAAAAAAABrpkAAAAAAAH2lQAAAAAAAhp9AAAAAAAB6m0A=\",\"dtype\":\"float64\",\"order\":\"little\",\"shape\":[7]}},\"selected\":{\"id\":\"4554\"},\"selection_policy\":{\"id\":\"4592\"}},\"id\":\"4553\",\"type\":\"ColumnDataSource\"},{\"attributes\":{\"fill_alpha\":{\"value\":0.2},\"fill_color\":{\"value\":null},\"hatch_alpha\":{\"value\":0.2},\"line_alpha\":{\"value\":0.2},\"x\":{\"field\":\"index\"},\"y\":{\"field\":\"users\"}},\"id\":\"4501\",\"type\":\"Circle\"},{\"attributes\":{\"fill_alpha\":{\"value\":0.2},\"fill_color\":{\"value\":\"#30a2da\"},\"hatch_alpha\":{\"value\":0.2},\"hatch_color\":{\"value\":\"#30a2da\"},\"line_alpha\":{\"value\":0.2},\"line_color\":{\"value\":\"#30a2da\"},\"size\":{\"value\":5.477225575051661},\"x\":{\"field\":\"dia_semana\"},\"y\":{\"field\":\"users\"}},\"id\":\"4567\",\"type\":\"Scatter\"},{\"attributes\":{\"factors\":[\"1\",\"2\",\"3\",\"4\",\"5\",\"6\",\"7\"],\"tags\":[[[\"dia_semana\",\"dia_semana\",null]]]},\"id\":\"4458\",\"type\":\"FactorRange\"},{\"attributes\":{\"source\":{\"id\":\"4505\"}},\"id\":\"4511\",\"type\":\"CDSView\"},{\"attributes\":{\"line_alpha\":{\"value\":0.2},\"x0\":{\"field\":\"x0\"},\"x1\":{\"field\":\"x1\"},\"y0\":{\"field\":\"y0\"},\"y1\":{\"field\":\"y1\"}},\"id\":\"4533\",\"type\":\"Segment\"},{\"attributes\":{},\"id\":\"4587\",\"type\":\"Selection\"},{\"attributes\":{\"data\":{\"dia_semana\":[\"1\",\"2\",\"3\",\"4\",\"5\",\"6\",\"7\"],\"users\":{\"__ndarray__\":\"AAAAAABVpEAAAAAAALmmQAAAAAAAQKdAAAAAAABrpkAAAAAAAH2lQAAAAAAAhp9AAAAAAAB6m0A=\",\"dtype\":\"float64\",\"order\":\"little\",\"shape\":[7]}},\"selected\":{\"id\":\"4563\"},\"selection_policy\":{\"id\":\"4594\"}},\"id\":\"4562\",\"type\":\"ColumnDataSource\"},{\"attributes\":{\"line_alpha\":{\"value\":0.1},\"x0\":{\"field\":\"x0\"},\"x1\":{\"field\":\"x1\"},\"y0\":{\"field\":\"y0\"},\"y1\":{\"field\":\"y1\"}},\"id\":\"4532\",\"type\":\"Segment\"},{\"attributes\":{\"line_alpha\":{\"value\":1.0},\"line_cap\":{\"value\":\"butt\"},\"line_color\":{\"value\":\"black\"},\"line_dash\":{\"value\":[]},\"line_dash_offset\":{\"value\":0},\"line_join\":{\"value\":\"bevel\"},\"line_width\":{\"value\":1},\"x0\":{\"field\":\"x0\"},\"x1\":{\"field\":\"x1\"},\"y0\":{\"field\":\"y0\"},\"y1\":{\"field\":\"y1\"}},\"id\":\"4528\",\"type\":\"Segment\"},{\"attributes\":{},\"id\":\"4586\",\"type\":\"UnionRenderers\"},{\"attributes\":{\"coordinates\":null,\"data_source\":{\"id\":\"4521\"},\"glyph\":{\"id\":\"4523\"},\"group\":null,\"hover_glyph\":null,\"muted_glyph\":{\"id\":\"4525\"},\"nonselection_glyph\":{\"id\":\"4524\"},\"selection_glyph\":{\"id\":\"4528\"},\"view\":{\"id\":\"4527\"}},\"id\":\"4526\",\"type\":\"GlyphRenderer\"},{\"attributes\":{\"coordinates\":null,\"data_source\":{\"id\":\"4562\"},\"glyph\":{\"id\":\"4565\"},\"group\":null,\"hover_glyph\":null,\"muted_glyph\":{\"id\":\"4567\"},\"nonselection_glyph\":{\"id\":\"4566\"},\"selection_glyph\":{\"id\":\"4570\"},\"view\":{\"id\":\"4569\"}},\"id\":\"4568\",\"type\":\"GlyphRenderer\"},{\"attributes\":{\"bottom\":{\"field\":\"bottom\"},\"fill_alpha\":{\"value\":0.1},\"fill_color\":{\"value\":null},\"hatch_alpha\":{\"value\":0.1},\"line_alpha\":{\"value\":0.1},\"top\":{\"field\":\"top\"},\"width\":{\"value\":0.7},\"x\":{\"field\":\"index\"}},\"id\":\"4548\",\"type\":\"VBar\"},{\"attributes\":{\"line_alpha\":{\"value\":1.0},\"line_cap\":{\"value\":\"butt\"},\"line_color\":{\"value\":\"black\"},\"line_dash\":{\"value\":[]},\"line_dash_offset\":{\"value\":0},\"line_join\":{\"value\":\"bevel\"},\"line_width\":{\"value\":1},\"x0\":{\"field\":\"x0\"},\"x1\":{\"field\":\"x1\"},\"y0\":{\"field\":\"y0\"},\"y1\":{\"field\":\"y1\"}},\"id\":\"4536\",\"type\":\"Segment\"},{\"attributes\":{\"coordinates\":null,\"data_source\":{\"id\":\"4537\"},\"glyph\":{\"id\":\"4539\"},\"group\":null,\"hover_glyph\":null,\"muted_glyph\":{\"id\":\"4541\"},\"nonselection_glyph\":{\"id\":\"4540\"},\"selection_glyph\":{\"id\":\"4544\"},\"view\":{\"id\":\"4543\"}},\"id\":\"4542\",\"type\":\"GlyphRenderer\"},{\"attributes\":{},\"id\":\"4583\",\"type\":\"Selection\"},{\"attributes\":{\"line_alpha\":{\"value\":0.2},\"x0\":{\"field\":\"x0\"},\"x1\":{\"field\":\"x1\"},\"y0\":{\"field\":\"y0\"},\"y1\":{\"field\":\"y1\"}},\"id\":\"4509\",\"type\":\"Segment\"},{\"attributes\":{\"coordinates\":null,\"data_source\":{\"id\":\"4513\"},\"glyph\":{\"id\":\"4515\"},\"group\":null,\"hover_glyph\":null,\"muted_glyph\":{\"id\":\"4517\"},\"nonselection_glyph\":{\"id\":\"4516\"},\"selection_glyph\":{\"id\":\"4520\"},\"view\":{\"id\":\"4519\"}},\"id\":\"4518\",\"type\":\"GlyphRenderer\"},{\"attributes\":{},\"id\":\"4496\",\"type\":\"AllLabels\"},{\"attributes\":{},\"id\":\"4578\",\"type\":\"UnionRenderers\"},{\"attributes\":{},\"id\":\"4495\",\"type\":\"BasicTickFormatter\"},{\"attributes\":{\"callback\":null,\"renderers\":[{\"id\":\"4559\"},{\"id\":\"4568\"}],\"tags\":[\"hv_created\"],\"tooltips\":[[\"dia_semana\",\"@{dia_semana}\"],[\"users\",\"@{users}\"]]},\"id\":\"4460\",\"type\":\"HoverTool\"},{\"attributes\":{\"data\":{\"bottom\":{\"__ndarray__\":\"AAAAAADjqkAAAAAAAJ2tQAAAAAAAGK5AAAAAAABxrUAAAAAAAEarQAAAAACAd6RAAAAAAIBPokA=\",\"dtype\":\"float64\",\"order\":\"little\",\"shape\":[7]},\"index\":[\"1\",\"2\",\"3\",\"4\",\"5\",\"6\",\"7\"],\"top\":{\"__ndarray__\":\"AAAAAABVpEAAAAAAALmmQAAAAAAAQKdAAAAAAABrpkAAAAAAAH2lQAAAAAAAhp9AAAAAAAB6m0A=\",\"dtype\":\"float64\",\"order\":\"little\",\"shape\":[7]}},\"selected\":{\"id\":\"4589\"},\"selection_policy\":{\"id\":\"4588\"}},\"id\":\"4537\",\"type\":\"ColumnDataSource\"},{\"attributes\":{},\"id\":\"4582\",\"type\":\"UnionRenderers\"},{\"attributes\":{\"line_alpha\":{\"value\":0.1},\"x0\":{\"field\":\"x0\"},\"x1\":{\"field\":\"x1\"},\"y0\":{\"field\":\"y0\"},\"y1\":{\"field\":\"y1\"}},\"id\":\"4516\",\"type\":\"Segment\"},{\"attributes\":{\"angle\":{\"value\":0.0},\"fill_alpha\":{\"value\":1.0},\"fill_color\":{\"value\":null},\"hatch_alpha\":{\"value\":1.0},\"hatch_color\":{\"value\":\"black\"},\"hatch_scale\":{\"value\":12.0},\"hatch_weight\":{\"value\":1.0},\"line_alpha\":{\"value\":1.0},\"line_cap\":{\"value\":\"butt\"},\"line_color\":{\"value\":\"black\"},\"line_dash\":{\"value\":[]},\"line_dash_offset\":{\"value\":0},\"line_join\":{\"value\":\"bevel\"},\"line_width\":{\"value\":1},\"size\":{\"value\":4},\"x\":{\"field\":\"index\"},\"y\":{\"field\":\"users\"}},\"id\":\"4504\",\"type\":\"Circle\"},{\"attributes\":{\"fill_alpha\":{\"value\":0.1},\"fill_color\":{\"value\":null},\"hatch_alpha\":{\"value\":0.1},\"line_alpha\":{\"value\":0.1},\"x\":{\"field\":\"index\"},\"y\":{\"field\":\"users\"}},\"id\":\"4500\",\"type\":\"Circle\"},{\"attributes\":{\"data\":{\"x0\":[[\"1\",-0.2],[\"2\",-0.2],[\"3\",-0.2],[\"4\",-0.2],[\"5\",-0.2],[\"6\",-0.2],[\"7\",-0.2]],\"x1\":[[\"1\",0.2],[\"2\",0.2],[\"3\",0.2],[\"4\",0.2],[\"5\",0.2],[\"6\",0.2],[\"7\",0.2]],\"y0\":[1432,1390,1278,785,472,863,133],\"y1\":[1432,1390,1278,785,472,863,133]},\"selected\":{\"id\":\"4585\"},\"selection_policy\":{\"id\":\"4584\"}},\"id\":\"4521\",\"type\":\"ColumnDataSource\"},{\"attributes\":{\"source\":{\"id\":\"4545\"}},\"id\":\"4551\",\"type\":\"CDSView\"},{\"attributes\":{\"coordinates\":null,\"data_source\":{\"id\":\"4529\"},\"glyph\":{\"id\":\"4531\"},\"group\":null,\"hover_glyph\":null,\"muted_glyph\":{\"id\":\"4533\"},\"nonselection_glyph\":{\"id\":\"4532\"},\"selection_glyph\":{\"id\":\"4536\"},\"view\":{\"id\":\"4535\"}},\"id\":\"4534\",\"type\":\"GlyphRenderer\"}],\"root_ids\":[\"4456\"]},\"title\":\"Bokeh Application\",\"version\":\"2.4.2\"}};\n",
       "    var render_items = [{\"docid\":\"25b17283-858e-4882-8d35-dd5ef7c7c1f8\",\"root_ids\":[\"4456\"],\"roots\":{\"4456\":\"ba58996e-ebaf-4f44-b681-bd52415b098d\"}}];\n",
       "    root.Bokeh.embed.embed_items_notebook(docs_json, render_items);\n",
       "  }\n",
       "  if (root.Bokeh !== undefined && root.Bokeh.Panel !== undefined) {\n",
       "    embed_document(root);\n",
       "  } else {\n",
       "    var attempts = 0;\n",
       "    var timer = setInterval(function(root) {\n",
       "      if (root.Bokeh !== undefined && root.Bokeh.Panel !== undefined) {\n",
       "        clearInterval(timer);\n",
       "        embed_document(root);\n",
       "      } else if (document.readyState == \"complete\") {\n",
       "        attempts++;\n",
       "        if (attempts > 200) {\n",
       "          clearInterval(timer);\n",
       "          console.log(\"Bokeh: ERROR: Unable to run BokehJS code because BokehJS library is missing\");\n",
       "        }\n",
       "      }\n",
       "    }, 25, root)\n",
       "  }\n",
       "})(window);</script>"
      ],
      "text/plain": [
       ":Overlay\n",
       "   .BoxWhisker.I  :BoxWhisker   [dia_semana]   (users)\n",
       "   .Curve.Users   :Curve   [dia_semana]   (users)\n",
       "   .Scatter.Users :Scatter   [dia_semana]   (users)"
      ]
     },
     "execution_count": 28,
     "metadata": {
      "application/vnd.holoviews_exec.v0+json": {
       "id": "4456"
      }
     },
     "output_type": "execute_result"
    }
   ],
   "source": [
    "# Gráfico boxplot para estacionalidad semanal\n",
    "# ==============================================================================\n",
    "# fig, ax = plt.subplots(figsize=(7, 3.5))\n",
    "# datos['dia_semana'] = datos.index.day_of_week + 1\n",
    "# datos.boxplot(column='users', by='dia_semana', ax=ax)\n",
    "# datos.groupby('dia_semana')['users'].median().plot(style='o-', linewidth=0.8, ax=ax)\n",
    "# ax.set_ylabel('users')\n",
    "# ax.set_title('Distribución visitas por día de la semana')\n",
    "# fig.suptitle('');\n",
    "\n",
    "datos['dia_semana'] = datos.index.day_of_week + 1\n",
    "boxplot = datos.sort_values('dia_semana').hvplot.box(\n",
    "            y                  = 'users',\n",
    "            by                 = 'dia_semana',\n",
    "            legend             = False,\n",
    "            box_fill_color     = None,\n",
    "            outlier_fill_color = None\n",
    "         )\n",
    "lineplot = datos.groupby('dia_semana')['users'].median().hvplot.line(legend=False)\n",
    "scatterplot = datos.groupby('dia_semana')['users'].median().hvplot.scatter(legend=False)\n",
    "layout = boxplot * lineplot * scatterplot\n",
    "layout = layout.opts(\n",
    "            title  = 'Distribución de visitas por día de la semana',\n",
    "            ylabel = 'users',\n",
    "            width  = 600\n",
    "         )\n",
    "layout"
   ]
  },
  {
   "cell_type": "markdown",
   "metadata": {},
   "source": [
    "**Gráficos de autocorrelación**"
   ]
  },
  {
   "cell_type": "code",
   "execution_count": 29,
   "metadata": {
    "ExecuteTime": {
     "end_time": "2021-12-23T17:41:23.321847Z",
     "start_time": "2021-12-23T17:41:23.171883Z"
    }
   },
   "outputs": [
    {
     "data": {
      "image/png": "[encoded data removed]",
      "text/plain": [
       "<Figure size 504x216 with 1 Axes>"
      ]
     },
     "metadata": {},
     "output_type": "display_data"
    }
   ],
   "source": [
    "# Gráfico autocorrelación\n",
    "# ==============================================================================\n",
    "fig, ax = plt.subplots(figsize=(7, 3))\n",
    "plot_acf(datos.users, ax=ax, lags=50)\n",
    "plt.show()"
   ]
  },
  {
   "cell_type": "code",
   "execution_count": 30,
   "metadata": {
    "ExecuteTime": {
     "end_time": "2021-12-23T17:41:23.572710Z",
     "start_time": "2021-12-23T17:41:23.409977Z"
    }
   },
   "outputs": [
    {
     "name": "stderr",
     "output_type": "stream",
     "text": [
      "C:\\Users\\JESCOBARO\\Anaconda3\\envs\\skforecast\\lib\\site-packages\\statsmodels\\graphics\\tsaplots.py:353: FutureWarning: The default method 'yw' can produce PACF values outside of the [-1,1] interval. After 0.13, the default will change tounadjusted Yule-Walker ('ywm'). You can use this method now by setting method='ywm'.\n",
      "  FutureWarning,\n"
     ]
    },
    {
     "data": {
      "image/png": "[encoded data removed]",
      "text/plain": [
       "<Figure size 504x216 with 1 Axes>"
      ]
     },
     "metadata": {},
     "output_type": "display_data"
    }
   ],
   "source": [
    "# Gráfico autocorrelación parcial\n",
    "# ==============================================================================\n",
    "fig, ax = plt.subplots(figsize=(7, 3))\n",
    "plot_pacf(datos.users, ax=ax, lags=50)\n",
    "plt.show()"
   ]
  },
  {
   "cell_type": "markdown",
   "metadata": {},
   "source": [
    "# Modelo autoregresivo recursivo"
   ]
  },
  {
   "cell_type": "markdown",
   "metadata": {},
   "source": [
    "## Entrenamiento"
   ]
  },
  {
   "cell_type": "code",
   "execution_count": 32,
   "metadata": {
    "ExecuteTime": {
     "end_time": "2021-12-23T17:43:58.177954Z",
     "start_time": "2021-12-23T17:43:58.117116Z"
    }
   },
   "outputs": [
    {
     "data": {
      "text/plain": [
       "================= \n",
       "ForecasterAutoreg \n",
       "================= \n",
       "Regressor: Pipeline(steps=[('standardscaler', StandardScaler()),\n",
       "                ('ridge', Ridge(random_state=123))]) \n",
       "Lags: [ 1  2  3  4  5  6  7  8  9 10 11 12 13 14] \n",
       "Window size: 14 \n",
       "Included exogenous: False \n",
       "Type of exogenous variable: None \n",
       "Exogenous variables names: None \n",
       "Training range: [Timestamp('2020-07-01 00:00:00'), Timestamp('2021-03-30 00:00:00')] \n",
       "Training index type: DatetimeIndex \n",
       "Training index frequency: D \n",
       "Regressor parameters: {'standardscaler__copy': True, 'standardscaler__with_mean': True, 'standardscaler__with_std': True, 'ridge__alpha': 1.0, 'ridge__copy_X': True, 'ridge__fit_intercept': True, 'ridge__max_iter': None, 'ridge__normalize': 'deprecated', 'ridge__positive': False, 'ridge__random_state': 123, 'ridge__solver': 'auto', 'ridge__tol': 0.001} \n",
       "Creation date: 2021-12-23 18:43:58 \n",
       "Last fit date: 2021-12-23 18:43:58 \n",
       "Skforecast version: 0.4.1 "
      ]
     },
     "execution_count": 32,
     "metadata": {},
     "output_type": "execute_result"
    }
   ],
   "source": [
    "# Crear y entrenar forecaster\n",
    "# ==============================================================================\n",
    "forecaster = ForecasterAutoreg(regressor = make_pipeline(StandardScaler(), Ridge(random_state=123)),\n",
    "                              lags = 14)\n",
    "\n",
    "forecaster.fit(y = datos_train.users)\n",
    "forecaster"
   ]
  },
  {
   "cell_type": "markdown",
   "metadata": {},
   "source": [
    "## Predicción"
   ]
  },
  {
   "cell_type": "code",
   "execution_count": 33,
   "metadata": {
    "ExecuteTime": {
     "end_time": "2021-12-23T17:48:18.963078Z",
     "start_time": "2021-12-23T17:48:18.877299Z"
    }
   },
   "outputs": [
    {
     "name": "stdout",
     "output_type": "stream",
     "text": [
      "Information of backtesting process\n",
      "----------------------------------\n",
      "Number of observations used for initial training or as initial window: 365\n",
      "Number of observations used for backtesting: 56\n",
      "    Number of folds: 8\n",
      "    Number of steps per fold: 7\n",
      "\n",
      "Data partition in fold: 0\n",
      "    Training:   2020-07-01 00:00:00 -- 2021-06-30 00:00:00\n",
      "    Validation: 2021-07-01 00:00:00 -- 2021-07-07 00:00:00\n",
      "Data partition in fold: 1\n",
      "    Training:   2020-07-01 00:00:00 -- 2021-06-30 00:00:00\n",
      "    Validation: 2021-07-08 00:00:00 -- 2021-07-14 00:00:00\n",
      "Data partition in fold: 2\n",
      "    Training:   2020-07-01 00:00:00 -- 2021-06-30 00:00:00\n",
      "    Validation: 2021-07-15 00:00:00 -- 2021-07-21 00:00:00\n",
      "Data partition in fold: 3\n",
      "    Training:   2020-07-01 00:00:00 -- 2021-06-30 00:00:00\n",
      "    Validation: 2021-07-22 00:00:00 -- 2021-07-28 00:00:00\n",
      "Data partition in fold: 4\n",
      "    Training:   2020-07-01 00:00:00 -- 2021-06-30 00:00:00\n",
      "    Validation: 2021-07-29 00:00:00 -- 2021-08-04 00:00:00\n",
      "Data partition in fold: 5\n",
      "    Training:   2020-07-01 00:00:00 -- 2021-06-30 00:00:00\n",
      "    Validation: 2021-08-05 00:00:00 -- 2021-08-11 00:00:00\n",
      "Data partition in fold: 6\n",
      "    Training:   2020-07-01 00:00:00 -- 2021-06-30 00:00:00\n",
      "    Validation: 2021-08-12 00:00:00 -- 2021-08-18 00:00:00\n",
      "Data partition in fold: 7\n",
      "    Training:   2020-07-01 00:00:00 -- 2021-06-30 00:00:00\n",
      "    Validation: 2021-08-19 00:00:00 -- 2021-08-25 00:00:00\n",
      "\n",
      "Error backtest: [220.91842071]\n"
     ]
    },
    {
     "data": {
      "text/html": [
       "<div>\n",
       "<style scoped>\n",
       "    .dataframe tbody tr th:only-of-type {\n",
       "        vertical-align: middle;\n",
       "    }\n",
       "\n",
       "    .dataframe tbody tr th {\n",
       "        vertical-align: top;\n",
       "    }\n",
       "\n",
       "    .dataframe thead th {\n",
       "        text-align: right;\n",
       "    }\n",
       "</style>\n",
       "<table border=\"1\" class=\"dataframe\">\n",
       "  <thead>\n",
       "    <tr style=\"text-align: right;\">\n",
       "      <th></th>\n",
       "      <th>pred</th>\n",
       "    </tr>\n",
       "  </thead>\n",
       "  <tbody>\n",
       "    <tr>\n",
       "      <th>2021-07-01</th>\n",
       "      <td>3200.360985</td>\n",
       "    </tr>\n",
       "    <tr>\n",
       "      <th>2021-07-02</th>\n",
       "      <td>2998.779152</td>\n",
       "    </tr>\n",
       "    <tr>\n",
       "      <th>2021-07-03</th>\n",
       "      <td>2257.136347</td>\n",
       "    </tr>\n",
       "    <tr>\n",
       "      <th>2021-07-04</th>\n",
       "      <td>2039.233702</td>\n",
       "    </tr>\n",
       "    <tr>\n",
       "      <th>2021-07-05</th>\n",
       "      <td>2998.728288</td>\n",
       "    </tr>\n",
       "  </tbody>\n",
       "</table>\n",
       "</div>"
      ],
      "text/plain": [
       "                   pred\n",
       "2021-07-01  3200.360985\n",
       "2021-07-02  2998.779152\n",
       "2021-07-03  2257.136347\n",
       "2021-07-04  2039.233702\n",
       "2021-07-05  2998.728288"
      ]
     },
     "execution_count": 33,
     "metadata": {},
     "output_type": "execute_result"
    }
   ],
   "source": [
    "# Backtest\n",
    "# ==============================================================================\n",
    "metrica, predicciones = backtesting_forecaster(\n",
    "                                forecaster = forecaster,\n",
    "                                y = datos.users,\n",
    "                                initial_train_size = len(datos.loc[:fin_validacion]),\n",
    "                                steps = 7,\n",
    "                                refit = False,\n",
    "                                metric = \"mean_absolute_error\",\n",
    "                                verbose = True)\n",
    "\n",
    "print(f'Error backtest: {metrica}')\n",
    "predicciones.head(5)"
   ]
  },
  {
   "cell_type": "code",
   "execution_count": 34,
   "metadata": {
    "ExecuteTime": {
     "end_time": "2021-12-23T17:48:52.075378Z",
     "start_time": "2021-12-23T17:48:51.715342Z"
    }
   },
   "outputs": [
    {
     "name": "stderr",
     "output_type": "stream",
     "text": [
      "C:\\Users\\JESCOBARO\\Anaconda3\\envs\\skforecast\\lib\\site-packages\\bokeh\\core\\property\\bases.py:259: DeprecationWarning: elementwise comparison failed; this will raise an error in the future.\n",
      "  return new == old\n"
     ]
    },
    {
     "data": {},
     "metadata": {},
     "output_type": "display_data"
    },
    {
     "data": {
      "application/vnd.holoviews_exec.v0+json": "",
      "text/html": [
       "<div id='5418'>\n",
       "\n",
       "\n",
       "\n",
       "\n",
       "\n",
       "  <div class=\"bk-root\" id=\"d93a9ec9-ba4a-4d85-a886-83e0fcd11876\" data-root-id=\"5418\"></div>\n",
       "</div>\n",
       "<script type=\"application/javascript\">(function(root) {\n",
       "  function embed_document(root) {\n",
       "    var docs_json = {\"89390588-00e8-485d-a512-75feec53f6f7\":{\"defs\":[{\"extends\":null,\"module\":null,\"name\":\"ReactiveHTML1\",\"overrides\":[],\"properties\":[]},{\"extends\":null,\"module\":null,\"name\":\"FlexBox1\",\"overrides\":[],\"properties\":[{\"default\":\"flex-start\",\"kind\":null,\"name\":\"align_content\"},{\"default\":\"flex-start\",\"kind\":null,\"name\":\"align_items\"},{\"default\":\"row\",\"kind\":null,\"name\":\"flex_direction\"},{\"default\":\"wrap\",\"kind\":null,\"name\":\"flex_wrap\"},{\"default\":\"flex-start\",\"kind\":null,\"name\":\"justify_content\"}]},{\"extends\":null,\"module\":null,\"name\":\"TemplateActions1\",\"overrides\":[],\"properties\":[{\"default\":0,\"kind\":null,\"name\":\"open_modal\"},{\"default\":0,\"kind\":null,\"name\":\"close_modal\"}]},{\"extends\":null,\"module\":null,\"name\":\"MaterialTemplateActions1\",\"overrides\":[],\"properties\":[{\"default\":0,\"kind\":null,\"name\":\"open_modal\"},{\"default\":0,\"kind\":null,\"name\":\"close_modal\"}]}],\"roots\":{\"references\":[{\"attributes\":{\"num_minor_ticks\":5,\"tickers\":[{\"id\":\"5479\"},{\"id\":\"5480\"},{\"id\":\"5481\"},{\"id\":\"5482\"},{\"id\":\"5483\"},{\"id\":\"5484\"},{\"id\":\"5485\"},{\"id\":\"5486\"},{\"id\":\"5487\"},{\"id\":\"5488\"},{\"id\":\"5489\"},{\"id\":\"5490\"}]},\"id\":\"5434\",\"type\":\"DatetimeTicker\"},{\"attributes\":{},\"id\":\"5457\",\"type\":\"AllLabels\"},{\"attributes\":{\"days\":[1,8,15,22]},\"id\":\"5484\",\"type\":\"DaysTicker\"},{\"attributes\":{\"line_color\":\"#fc4f30\",\"line_width\":2,\"x\":{\"field\":\"index\"},\"y\":{\"field\":\"pred\"}},\"id\":\"5527\",\"type\":\"Line\"},{\"attributes\":{\"line_alpha\":0.2,\"line_color\":\"#fc4f30\",\"line_width\":2,\"x\":{\"field\":\"index\"},\"y\":{\"field\":\"pred\"}},\"id\":\"5499\",\"type\":\"Line\"},{\"attributes\":{\"days\":[1,2,3,4,5,6,7,8,9,10,11,12,13,14,15,16,17,18,19,20,21,22,23,24,25,26,27,28,29,30,31]},\"id\":\"5482\",\"type\":\"DaysTicker\"},{\"attributes\":{\"months\":[0,1,2,3,4,5,6,7,8,9,10,11]},\"id\":\"5486\",\"type\":\"MonthsTicker\"},{\"attributes\":{},\"id\":\"5431\",\"type\":\"LinearScale\"},{\"attributes\":{\"source\":{\"id\":\"5461\"}},\"id\":\"5468\",\"type\":\"CDSView\"},{\"attributes\":{\"days\":[1,15]},\"id\":\"5485\",\"type\":\"DaysTicker\"},{\"attributes\":{\"margin\":[5,5,5,5],\"name\":\"HSpacer09937\",\"sizing_mode\":\"stretch_width\"},\"id\":\"5419\",\"type\":\"Spacer\"},{\"attributes\":{\"axis_label\":\"users\",\"coordinates\":null,\"formatter\":{\"id\":\"5459\"},\"group\":null,\"major_label_policy\":{\"id\":\"5460\"},\"ticker\":{\"id\":\"5438\"}},\"id\":\"5437\",\"type\":\"LinearAxis\"},{\"attributes\":{\"line_color\":\"#30a2da\",\"line_width\":2,\"x\":{\"field\":\"date\"},\"y\":{\"field\":\"users\"}},\"id\":\"5464\",\"type\":\"Line\"},{\"attributes\":{\"line_alpha\":0.1,\"line_color\":\"#30a2da\",\"line_width\":2,\"x\":{\"field\":\"date\"},\"y\":{\"field\":\"users\"}},\"id\":\"5465\",\"type\":\"Line\"},{\"attributes\":{\"coordinates\":null,\"data_source\":{\"id\":\"5461\"},\"glyph\":{\"id\":\"5464\"},\"group\":null,\"hover_glyph\":null,\"muted_glyph\":{\"id\":\"5466\"},\"nonselection_glyph\":{\"id\":\"5465\"},\"selection_glyph\":{\"id\":\"5493\"},\"view\":{\"id\":\"5468\"}},\"id\":\"5467\",\"type\":\"GlyphRenderer\"},{\"attributes\":{\"end\":1629849600000.0,\"reset_end\":1629849600000.0,\"reset_start\":1625097600000.0,\"start\":1625097600000.0,\"tags\":[[[\"date\",\"date\",null]]]},\"id\":\"5420\",\"type\":\"Range1d\"},{\"attributes\":{\"axis\":{\"id\":\"5433\"},\"coordinates\":null,\"grid_line_color\":null,\"group\":null,\"ticker\":null},\"id\":\"5436\",\"type\":\"Grid\"},{\"attributes\":{},\"id\":\"5459\",\"type\":\"BasicTickFormatter\"},{\"attributes\":{\"source\":{\"id\":\"5494\"}},\"id\":\"5501\",\"type\":\"CDSView\"},{\"attributes\":{\"bottom_units\":\"screen\",\"coordinates\":null,\"fill_alpha\":0.5,\"fill_color\":\"lightgrey\",\"group\":null,\"left_units\":\"screen\",\"level\":\"overlay\",\"line_alpha\":1.0,\"line_color\":\"black\",\"line_dash\":[4,4],\"line_width\":2,\"right_units\":\"screen\",\"syncable\":false,\"top_units\":\"screen\"},\"id\":\"5446\",\"type\":\"BoxAnnotation\"},{\"attributes\":{\"months\":[0,2,4,6,8,10]},\"id\":\"5487\",\"type\":\"MonthsTicker\"},{\"attributes\":{\"line_alpha\":0.2,\"line_color\":\"#30a2da\",\"line_width\":2,\"x\":{\"field\":\"date\"},\"y\":{\"field\":\"users\"}},\"id\":\"5466\",\"type\":\"Line\"},{\"attributes\":{\"axis\":{\"id\":\"5437\"},\"coordinates\":null,\"dimension\":1,\"grid_line_color\":null,\"group\":null,\"ticker\":null},\"id\":\"5440\",\"type\":\"Grid\"},{\"attributes\":{\"line_color\":\"#fc4f30\",\"line_width\":2,\"x\":{\"field\":\"index\"},\"y\":{\"field\":\"pred\"}},\"id\":\"5497\",\"type\":\"Line\"},{\"attributes\":{\"months\":[0,4,8]},\"id\":\"5488\",\"type\":\"MonthsTicker\"},{\"attributes\":{\"end\":3630.628191178417,\"reset_end\":3630.628191178417,\"reset_start\":-184.96619919803794,\"start\":-184.96619919803794,\"tags\":[[[\"users\",\"users\",null]]]},\"id\":\"5421\",\"type\":\"Range1d\"},{\"attributes\":{\"line_color\":\"#30a2da\",\"line_width\":2,\"x\":{\"field\":\"date\"},\"y\":{\"field\":\"users\"}},\"id\":\"5493\",\"type\":\"Line\"},{\"attributes\":{},\"id\":\"5511\",\"type\":\"UnionRenderers\"},{\"attributes\":{\"months\":[0,6]},\"id\":\"5489\",\"type\":\"MonthsTicker\"},{\"attributes\":{\"below\":[{\"id\":\"5433\"}],\"center\":[{\"id\":\"5436\"},{\"id\":\"5440\"},{\"id\":\"5491\"}],\"height\":300,\"left\":[{\"id\":\"5437\"}],\"margin\":[5,5,5,5],\"min_border_bottom\":10,\"min_border_left\":10,\"min_border_right\":10,\"min_border_top\":10,\"renderers\":[{\"id\":\"5467\"},{\"id\":\"5500\"}],\"sizing_mode\":\"fixed\",\"title\":{\"id\":\"5425\"},\"toolbar\":{\"id\":\"5447\"},\"width\":700,\"x_range\":{\"id\":\"5420\"},\"x_scale\":{\"id\":\"5429\"},\"y_range\":{\"id\":\"5421\"},\"y_scale\":{\"id\":\"5431\"}},\"id\":\"5424\",\"subtype\":\"Figure\",\"type\":\"Plot\"},{\"attributes\":{\"coordinates\":null,\"data_source\":{\"id\":\"5494\"},\"glyph\":{\"id\":\"5497\"},\"group\":null,\"hover_glyph\":null,\"muted_glyph\":{\"id\":\"5499\"},\"nonselection_glyph\":{\"id\":\"5498\"},\"selection_glyph\":{\"id\":\"5527\"},\"view\":{\"id\":\"5501\"}},\"id\":\"5500\",\"type\":\"GlyphRenderer\"},{\"attributes\":{\"callback\":null,\"formatters\":{\"@{date}\":\"datetime\"},\"renderers\":[{\"id\":\"5467\"}],\"tags\":[\"hv_created\"],\"tooltips\":[[\"date\",\"@{date}{%F %T}\"],[\"users\",\"@{users}\"]]},\"id\":\"5422\",\"type\":\"HoverTool\"},{\"attributes\":{\"data\":{\"index\":{\"__ndarray__\":\"AADA1/Wld0IAAIA9SKZ3QgAAQKOapndCAAAACe2md0IAAMBuP6d3QgAAgNSRp3dCAABAOuSnd0IAAACgNqh3QgAAwAWJqHdCAACAa9uod0IAAEDRLal3QgAAADeAqXdCAADAnNKpd0IAAIACJap3QgAAQGh3qndCAAAAzsmqd0IAAMAzHKt3QgAAgJluq3dCAABA/8Crd0IAAABlE6x3QgAAwMplrHdCAACAMLisd0IAAECWCq13QgAAAPxcrXdCAADAYa+td0IAAIDHAa53QgAAQC1UrndCAAAAk6aud0IAAMD4+K53QgAAgF5Lr3dCAABAxJ2vd0IAAAAq8K93QgAAwI9CsHdCAACA9ZSwd0IAAEBb57B3QgAAAME5sXdCAADAJoyxd0IAAICM3rF3QgAAQPIwsndCAAAAWIOyd0IAAMC91bJ3QgAAgCMos3dCAABAiXqzd0IAAADvzLN3QgAAwFQftHdCAACAunG0d0IAAEAgxLR3QgAAAIYWtXdCAADA62i1d0IAAIBRu7V3QgAAQLcNtndCAAAAHWC2d0IAAMCCsrZ3QgAAgOgEt3dCAABATle3d0IAAAC0qbd3Qg==\",\"dtype\":\"float64\",\"order\":\"little\",\"shape\":[56]},\"pred\":{\"__ndarray__\":\"IN8E07gAqUBgHAXtjm2nQPd4Tc9FoqFAz3aoT+/cn0DL0SnidG2nQB1HjD1m2alA4+Oc8FLhqUB/sNJkgiCmQGRsOY4WOaRAFfxC0iOfnUA2UGm/M86bQJfM7IKNYaRAgf0qzcU7p0DLmRExHnenQGNDbTD0P6dA5XnAIzM6pUCGrc4xmk+fQLMZM6Y95ZtAHpUmzQIzpUB+JDldUFWoQGI3H0ltQqlAzgtYxSDfokC6dYeRX8WgQAu33LNKQ5hAc2fXwvDAlUATTAWDU6ChQN6Fye5dUaNApQXp1+kZpEBO1f9whoCiQASYjAqN9aJAVvVrzfmKmkCYQvSs11qXQOTv9NtWhqJAiDUNB+UlpEAg14MbE76iQEM7ZrsYQ6NAFj0s/dA+oUCPOmcI9W2XQID3wghrRIZAMcPv64vfoUAFW00uA3akQOXipLpssKRAsiBxFo3aoUDG+9KDk5OfQCZ9V+j2TJhAzq6WXTQIlEAoe9JqiuueQOS67hv1OKJAqOp1Ue1kokDxiiTE3NijQD7qT+wosqFAZP9GXknPmkCR47V/Is+YQOxBaw1znKBAdiINEHVdo0Au0+0dRROlQA==\",\"dtype\":\"float64\",\"order\":\"little\",\"shape\":[56]}},\"selected\":{\"id\":\"5495\"},\"selection_policy\":{\"id\":\"5511\"}},\"id\":\"5494\",\"type\":\"ColumnDataSource\"},{\"attributes\":{\"callback\":null,\"formatters\":{\"@{index}\":\"datetime\"},\"renderers\":[{\"id\":\"5500\"}],\"tags\":[\"hv_created\"],\"tooltips\":[[\"index\",\"@{index}{%F %T}\"],[\"pred\",\"@{pred}\"]]},\"id\":\"5423\",\"type\":\"HoverTool\"},{\"attributes\":{},\"id\":\"5490\",\"type\":\"YearsTicker\"},{\"attributes\":{\"click_policy\":\"mute\",\"coordinates\":null,\"group\":null,\"items\":[{\"id\":\"5492\"},{\"id\":\"5526\"}],\"location\":\"bottom_left\"},\"id\":\"5491\",\"type\":\"Legend\"},{\"attributes\":{},\"id\":\"5495\",\"type\":\"Selection\"},{\"attributes\":{\"line_alpha\":0.1,\"line_color\":\"#fc4f30\",\"line_width\":2,\"x\":{\"field\":\"index\"},\"y\":{\"field\":\"pred\"}},\"id\":\"5498\",\"type\":\"Line\"},{\"attributes\":{},\"id\":\"5441\",\"type\":\"SaveTool\"},{\"attributes\":{\"label\":{\"value\":\"predicci\\u00f3n\"},\"renderers\":[{\"id\":\"5500\"}]},\"id\":\"5526\",\"type\":\"LegendItem\"},{\"attributes\":{},\"id\":\"5462\",\"type\":\"Selection\"},{\"attributes\":{},\"id\":\"5429\",\"type\":\"LinearScale\"},{\"attributes\":{},\"id\":\"5442\",\"type\":\"PanTool\"},{\"attributes\":{\"overlay\":{\"id\":\"5446\"}},\"id\":\"5444\",\"type\":\"BoxZoomTool\"},{\"attributes\":{},\"id\":\"5438\",\"type\":\"BasicTicker\"},{\"attributes\":{},\"id\":\"5456\",\"type\":\"DatetimeTickFormatter\"},{\"attributes\":{},\"id\":\"5476\",\"type\":\"UnionRenderers\"},{\"attributes\":{\"data\":{\"date\":{\"__ndarray__\":\"AADA1/Wld0IAAIA9SKZ3QgAAQKOapndCAAAACe2md0IAAMBuP6d3QgAAgNSRp3dCAABAOuSnd0IAAACgNqh3QgAAwAWJqHdCAACAa9uod0IAAEDRLal3QgAAADeAqXdCAADAnNKpd0IAAIACJap3QgAAQGh3qndCAAAAzsmqd0IAAMAzHKt3QgAAgJluq3dCAABA/8Crd0IAAABlE6x3QgAAwMplrHdCAACAMLisd0IAAECWCq13QgAAAPxcrXdCAADAYa+td0IAAIDHAa53QgAAQC1UrndCAAAAk6aud0IAAMD4+K53QgAAgF5Lr3dCAABAxJ2vd0IAAAAq8K93QgAAwI9CsHdCAACA9ZSwd0IAAEBb57B3QgAAAME5sXdCAADAJoyxd0IAAICM3rF3QgAAQPIwsndCAAAAWIOyd0IAAMC91bJ3QgAAgCMos3dCAABAiXqzd0IAAADvzLN3QgAAwFQftHdCAACAunG0d0IAAEAgxLR3QgAAAIYWtXdCAADA62i1d0IAAIBRu7V3QgAAQLcNtndCAAAAHWC2d0IAAMCCsrZ3QgAAgOgEt3dCAABATle3d0IAAAC0qbd3Qg==\",\"dtype\":\"float64\",\"order\":\"little\",\"shape\":[56]},\"users\":[3123,2870,2020,1828,2722,2991,2976,2834,2609,1832,1462,2563,2897,3057,2697,2391,1730,1434,2455,2508,2563,2447,2543,1714,1415,2407,2587,2314,2465,2088,1535,133,2146,2266,2330,2323,2003,1406,1239,1989,2268,2249,2322,2098,1477,1308,1920,2219,2482,2345,2185,1546,1393,2371,2547,2448]},\"selected\":{\"id\":\"5462\"},\"selection_policy\":{\"id\":\"5476\"}},\"id\":\"5461\",\"type\":\"ColumnDataSource\"},{\"attributes\":{\"margin\":[5,5,5,5],\"name\":\"HSpacer09938\",\"sizing_mode\":\"stretch_width\"},\"id\":\"5744\",\"type\":\"Spacer\"},{\"attributes\":{},\"id\":\"5443\",\"type\":\"WheelZoomTool\"},{\"attributes\":{\"mantissas\":[1,2,5],\"max_interval\":500.0,\"num_minor_ticks\":0},\"id\":\"5479\",\"type\":\"AdaptiveTicker\"},{\"attributes\":{\"children\":[{\"id\":\"5419\"},{\"id\":\"5424\"},{\"id\":\"5744\"}],\"margin\":[0,0,0,0],\"name\":\"Row09933\",\"tags\":[\"embedded\"]},\"id\":\"5418\",\"type\":\"Row\"},{\"attributes\":{\"label\":{\"value\":\"test\"},\"renderers\":[{\"id\":\"5467\"}]},\"id\":\"5492\",\"type\":\"LegendItem\"},{\"attributes\":{\"base\":60,\"mantissas\":[1,2,5,10,15,20,30],\"max_interval\":1800000.0,\"min_interval\":1000.0,\"num_minor_ticks\":0},\"id\":\"5480\",\"type\":\"AdaptiveTicker\"},{\"attributes\":{\"base\":24,\"mantissas\":[1,2,4,6,8,12],\"max_interval\":43200000.0,\"min_interval\":3600000.0,\"num_minor_ticks\":0},\"id\":\"5481\",\"type\":\"AdaptiveTicker\"},{\"attributes\":{\"coordinates\":null,\"group\":null,\"text\":\"Predicci\\u00f3n (Autoreg-Ridge) vs vistas reales\",\"text_color\":\"black\",\"text_font_size\":\"12pt\"},\"id\":\"5425\",\"type\":\"Title\"},{\"attributes\":{\"days\":[1,4,7,10,13,16,19,22,25,28]},\"id\":\"5483\",\"type\":\"DaysTicker\"},{\"attributes\":{},\"id\":\"5445\",\"type\":\"ResetTool\"},{\"attributes\":{},\"id\":\"5460\",\"type\":\"AllLabels\"},{\"attributes\":{\"tools\":[{\"id\":\"5422\"},{\"id\":\"5423\"},{\"id\":\"5441\"},{\"id\":\"5442\"},{\"id\":\"5443\"},{\"id\":\"5444\"},{\"id\":\"5445\"}]},\"id\":\"5447\",\"type\":\"Toolbar\"},{\"attributes\":{\"axis_label\":\"date\",\"coordinates\":null,\"formatter\":{\"id\":\"5456\"},\"group\":null,\"major_label_policy\":{\"id\":\"5457\"},\"ticker\":{\"id\":\"5434\"}},\"id\":\"5433\",\"type\":\"DatetimeAxis\"}],\"root_ids\":[\"5418\"]},\"title\":\"Bokeh Application\",\"version\":\"2.4.2\"}};\n",
       "    var render_items = [{\"docid\":\"89390588-00e8-485d-a512-75feec53f6f7\",\"root_ids\":[\"5418\"],\"roots\":{\"5418\":\"d93a9ec9-ba4a-4d85-a886-83e0fcd11876\"}}];\n",
       "    root.Bokeh.embed.embed_items_notebook(docs_json, render_items);\n",
       "  }\n",
       "  if (root.Bokeh !== undefined && root.Bokeh.Panel !== undefined) {\n",
       "    embed_document(root);\n",
       "  } else {\n",
       "    var attempts = 0;\n",
       "    var timer = setInterval(function(root) {\n",
       "      if (root.Bokeh !== undefined && root.Bokeh.Panel !== undefined) {\n",
       "        clearInterval(timer);\n",
       "        embed_document(root);\n",
       "      } else if (document.readyState == \"complete\") {\n",
       "        attempts++;\n",
       "        if (attempts > 200) {\n",
       "          clearInterval(timer);\n",
       "          console.log(\"Bokeh: ERROR: Unable to run BokehJS code because BokehJS library is missing\");\n",
       "        }\n",
       "      }\n",
       "    }, 25, root)\n",
       "  }\n",
       "})(window);</script>"
      ],
      "text/plain": [
       ":Overlay\n",
       "   .Curve.Test       :Curve   [date]   (users)\n",
       "   .Curve.Predicción :Curve   [index]   (pred)"
      ]
     },
     "execution_count": 34,
     "metadata": {
      "application/vnd.holoviews_exec.v0+json": {
       "id": "5418"
      }
     },
     "output_type": "execute_result"
    }
   ],
   "source": [
    "# Gráfico\n",
    "# ==============================================================================\n",
    "# fig, ax = plt.subplots(figsize=(10, 3))\n",
    "# datos_test.loc[predicciones.index, 'users'].plot(ax=ax, linewidth=2, label='test')\n",
    "# predicciones.plot(linewidth=2, label='predicción', ax=ax)\n",
    "# ax.set_title('Predicción (Autoreg-Ridge) vs vistas reales')\n",
    "# ax.legend();\n",
    "\n",
    "plot_test = datos_test.users.hvplot.line(label='test')\n",
    "plot_predict = predicciones.hvplot.line(label='predicción')\n",
    "layout = plot_test * plot_predict\n",
    "layout = layout.opts(\n",
    "            title = 'Predicción (Autoreg-Ridge) vs vistas reales',\n",
    "            ylabel = 'users',\n",
    "            legend_position = 'bottom_left'\n",
    "         )\n",
    "layout"
   ]
  },
  {
   "cell_type": "markdown",
   "metadata": {},
   "source": [
    "## Optimización de hiperparámetros (tuning)"
   ]
  },
  {
   "cell_type": "code",
   "execution_count": 37,
   "metadata": {
    "ExecuteTime": {
     "end_time": "2021-12-23T17:54:34.147939Z",
     "start_time": "2021-12-23T17:54:32.237941Z"
    }
   },
   "outputs": [
    {
     "name": "stdout",
     "output_type": "stream",
     "text": [
      "Number of models compared: 40\n"
     ]
    },
    {
     "name": "stderr",
     "output_type": "stream",
     "text": [
      "loop lags_grid:   0%|                                               | 0/4 [00:00<?, ?it/s]\n",
      "loop param_grid:   0%|                                             | 0/10 [00:00<?, ?it/s]\u001b[A\n",
      "loop param_grid:  20%|███████▍                             | 2/10 [00:00<00:00, 18.29it/s]\u001b[A\n",
      "loop param_grid:  50%|██████████████████▌                  | 5/10 [00:00<00:00, 22.65it/s]\u001b[A\n",
      "loop param_grid:  80%|█████████████████████████████▌       | 8/10 [00:00<00:00, 25.09it/s]\u001b[A\n",
      "loop lags_grid:  25%|█████████▊                             | 1/4 [00:00<00:01,  2.41it/s]\u001b[A\n",
      "loop param_grid:   0%|                                             | 0/10 [00:00<?, ?it/s]\u001b[A\n",
      "loop param_grid:  30%|███████████                          | 3/10 [00:00<00:00, 28.14it/s]\u001b[A\n",
      "loop param_grid:  60%|██████████████████████▏              | 6/10 [00:00<00:00, 27.16it/s]\u001b[A\n",
      "loop param_grid:  90%|█████████████████████████████████▎   | 9/10 [00:00<00:00, 21.18it/s]\u001b[A\n",
      "loop lags_grid:  50%|███████████████████▌                   | 2/4 [00:00<00:00,  2.12it/s]\u001b[A\n",
      "loop param_grid:   0%|                                             | 0/10 [00:00<?, ?it/s]\u001b[A\n",
      "loop param_grid:  20%|███████▍                             | 2/10 [00:00<00:00, 19.39it/s]\u001b[A\n",
      "loop param_grid:  40%|██████████████▊                      | 4/10 [00:00<00:00, 19.15it/s]\u001b[A\n",
      "loop param_grid:  70%|█████████████████████████▉           | 7/10 [00:00<00:00, 22.03it/s]\u001b[A\n",
      "loop param_grid: 100%|████████████████████████████████████| 10/10 [00:00<00:00, 23.14it/s]\u001b[A\n",
      "loop lags_grid:  75%|█████████████████████████████▎         | 3/4 [00:01<00:00,  2.11it/s]\u001b[A\n",
      "loop param_grid:   0%|                                             | 0/10 [00:00<?, ?it/s]\u001b[A\n",
      "loop param_grid:  30%|███████████                          | 3/10 [00:00<00:00, 24.00it/s]\u001b[A\n",
      "loop param_grid:  60%|██████████████████████▏              | 6/10 [00:00<00:00, 24.26it/s]\u001b[A\n",
      "loop param_grid:  90%|█████████████████████████████████▎   | 9/10 [00:00<00:00, 24.45it/s]\u001b[A\n",
      "loop lags_grid: 100%|███████████████████████████████████████| 4/4 [00:01<00:00,  2.18it/s]\u001b[A\n"
     ]
    },
    {
     "name": "stdout",
     "output_type": "stream",
     "text": [
      "Refitting `forecaster` using the best found parameters and the whole data set: \n",
      "  lags: [ 1  2  3  4  5  6  7  8  9 10 11 12 13 14] \n",
      "  params: {'ridge__alpha': 2.154434690031882}\n",
      "\n"
     ]
    }
   ],
   "source": [
    "# Grid search de hiperparámetros\n",
    "# ==============================================================================\n",
    "forecaster = ForecasterAutoreg(\n",
    "                regressor = make_pipeline(StandardScaler(), Ridge(random_state=123)),\n",
    "                lags      = 14\n",
    "             )\n",
    "\n",
    "# Hiperparámetros del regresor: al utilizar un pipeline, el nombre del hiperparámetro\n",
    "# va precedido por el nombre del regressor.\n",
    "param_grid = {'ridge__alpha': np.logspace(-3, 3, 10)}\n",
    "\n",
    "# Lags utilizados como predictores\n",
    "lags_grid = [7, 14, 21, [7, 14, 21]]\n",
    "\n",
    "resultados_grid = grid_search_forecaster(\n",
    "                        forecaster  = forecaster,\n",
    "                        y           = datos.loc[:fin_validacion, 'users'],\n",
    "                        param_grid  = param_grid,\n",
    "                        lags_grid   = lags_grid,\n",
    "                        steps       = 7,\n",
    "                        metric      = 'mean_absolute_error',\n",
    "                        refit       = False,\n",
    "                        initial_train_size = len(datos_train),\n",
    "                        return_best = True,\n",
    "                        verbose     = False\n",
    "                  )"
   ]
  },
  {
   "cell_type": "code",
   "execution_count": 38,
   "metadata": {
    "ExecuteTime": {
     "end_time": "2021-12-23T17:54:45.418237Z",
     "start_time": "2021-12-23T17:54:45.331437Z"
    }
   },
   "outputs": [
    {
     "data": {
      "text/html": [
       "<div>\n",
       "<style scoped>\n",
       "    .dataframe tbody tr th:only-of-type {\n",
       "        vertical-align: middle;\n",
       "    }\n",
       "\n",
       "    .dataframe tbody tr th {\n",
       "        vertical-align: top;\n",
       "    }\n",
       "\n",
       "    .dataframe thead th {\n",
       "        text-align: right;\n",
       "    }\n",
       "</style>\n",
       "<table border=\"1\" class=\"dataframe\">\n",
       "  <thead>\n",
       "    <tr style=\"text-align: right;\">\n",
       "      <th></th>\n",
       "      <th>lags</th>\n",
       "      <th>params</th>\n",
       "      <th>metric</th>\n",
       "      <th>ridge__alpha</th>\n",
       "    </tr>\n",
       "  </thead>\n",
       "  <tbody>\n",
       "    <tr>\n",
       "      <th>15</th>\n",
       "      <td>[1, 2, 3, 4, 5, 6, 7, 8, 9, 10, 11, 12, 13, 14]</td>\n",
       "      <td>{'ridge__alpha': 2.154434690031882}</td>\n",
       "      <td>214.789581</td>\n",
       "      <td>2.154435</td>\n",
       "    </tr>\n",
       "    <tr>\n",
       "      <th>14</th>\n",
       "      <td>[1, 2, 3, 4, 5, 6, 7, 8, 9, 10, 11, 12, 13, 14]</td>\n",
       "      <td>{'ridge__alpha': 0.46415888336127775}</td>\n",
       "      <td>216.521380</td>\n",
       "      <td>0.464159</td>\n",
       "    </tr>\n",
       "    <tr>\n",
       "      <th>13</th>\n",
       "      <td>[1, 2, 3, 4, 5, 6, 7, 8, 9, 10, 11, 12, 13, 14]</td>\n",
       "      <td>{'ridge__alpha': 0.1}</td>\n",
       "      <td>217.757468</td>\n",
       "      <td>0.100000</td>\n",
       "    </tr>\n",
       "    <tr>\n",
       "      <th>12</th>\n",
       "      <td>[1, 2, 3, 4, 5, 6, 7, 8, 9, 10, 11, 12, 13, 14]</td>\n",
       "      <td>{'ridge__alpha': 0.021544346900318832}</td>\n",
       "      <td>218.124430</td>\n",
       "      <td>0.021544</td>\n",
       "    </tr>\n",
       "    <tr>\n",
       "      <th>11</th>\n",
       "      <td>[1, 2, 3, 4, 5, 6, 7, 8, 9, 10, 11, 12, 13, 14]</td>\n",
       "      <td>{'ridge__alpha': 0.004641588833612777}</td>\n",
       "      <td>218.205822</td>\n",
       "      <td>0.004642</td>\n",
       "    </tr>\n",
       "    <tr>\n",
       "      <th>10</th>\n",
       "      <td>[1, 2, 3, 4, 5, 6, 7, 8, 9, 10, 11, 12, 13, 14]</td>\n",
       "      <td>{'ridge__alpha': 0.001}</td>\n",
       "      <td>218.223468</td>\n",
       "      <td>0.001000</td>\n",
       "    </tr>\n",
       "    <tr>\n",
       "      <th>26</th>\n",
       "      <td>[1, 2, 3, 4, 5, 6, 7, 8, 9, 10, 11, 12, 13, 14...</td>\n",
       "      <td>{'ridge__alpha': 10.0}</td>\n",
       "      <td>219.936605</td>\n",
       "      <td>10.000000</td>\n",
       "    </tr>\n",
       "    <tr>\n",
       "      <th>25</th>\n",
       "      <td>[1, 2, 3, 4, 5, 6, 7, 8, 9, 10, 11, 12, 13, 14...</td>\n",
       "      <td>{'ridge__alpha': 2.154434690031882}</td>\n",
       "      <td>221.274328</td>\n",
       "      <td>2.154435</td>\n",
       "    </tr>\n",
       "    <tr>\n",
       "      <th>16</th>\n",
       "      <td>[1, 2, 3, 4, 5, 6, 7, 8, 9, 10, 11, 12, 13, 14]</td>\n",
       "      <td>{'ridge__alpha': 10.0}</td>\n",
       "      <td>221.291519</td>\n",
       "      <td>10.000000</td>\n",
       "    </tr>\n",
       "    <tr>\n",
       "      <th>24</th>\n",
       "      <td>[1, 2, 3, 4, 5, 6, 7, 8, 9, 10, 11, 12, 13, 14...</td>\n",
       "      <td>{'ridge__alpha': 0.46415888336127775}</td>\n",
       "      <td>226.604345</td>\n",
       "      <td>0.464159</td>\n",
       "    </tr>\n",
       "    <tr>\n",
       "      <th>23</th>\n",
       "      <td>[1, 2, 3, 4, 5, 6, 7, 8, 9, 10, 11, 12, 13, 14...</td>\n",
       "      <td>{'ridge__alpha': 0.1}</td>\n",
       "      <td>228.475988</td>\n",
       "      <td>0.100000</td>\n",
       "    </tr>\n",
       "    <tr>\n",
       "      <th>22</th>\n",
       "      <td>[1, 2, 3, 4, 5, 6, 7, 8, 9, 10, 11, 12, 13, 14...</td>\n",
       "      <td>{'ridge__alpha': 0.021544346900318832}</td>\n",
       "      <td>228.925768</td>\n",
       "      <td>0.021544</td>\n",
       "    </tr>\n",
       "    <tr>\n",
       "      <th>21</th>\n",
       "      <td>[1, 2, 3, 4, 5, 6, 7, 8, 9, 10, 11, 12, 13, 14...</td>\n",
       "      <td>{'ridge__alpha': 0.004641588833612777}</td>\n",
       "      <td>229.025617</td>\n",
       "      <td>0.004642</td>\n",
       "    </tr>\n",
       "    <tr>\n",
       "      <th>20</th>\n",
       "      <td>[1, 2, 3, 4, 5, 6, 7, 8, 9, 10, 11, 12, 13, 14...</td>\n",
       "      <td>{'ridge__alpha': 0.001}</td>\n",
       "      <td>229.047191</td>\n",
       "      <td>0.001000</td>\n",
       "    </tr>\n",
       "    <tr>\n",
       "      <th>27</th>\n",
       "      <td>[1, 2, 3, 4, 5, 6, 7, 8, 9, 10, 11, 12, 13, 14...</td>\n",
       "      <td>{'ridge__alpha': 46.41588833612773}</td>\n",
       "      <td>266.598407</td>\n",
       "      <td>46.415888</td>\n",
       "    </tr>\n",
       "    <tr>\n",
       "      <th>17</th>\n",
       "      <td>[1, 2, 3, 4, 5, 6, 7, 8, 9, 10, 11, 12, 13, 14]</td>\n",
       "      <td>{'ridge__alpha': 46.41588833612773}</td>\n",
       "      <td>270.101172</td>\n",
       "      <td>46.415888</td>\n",
       "    </tr>\n",
       "    <tr>\n",
       "      <th>36</th>\n",
       "      <td>[7, 14, 21]</td>\n",
       "      <td>{'ridge__alpha': 10.0}</td>\n",
       "      <td>306.666238</td>\n",
       "      <td>10.000000</td>\n",
       "    </tr>\n",
       "    <tr>\n",
       "      <th>35</th>\n",
       "      <td>[7, 14, 21]</td>\n",
       "      <td>{'ridge__alpha': 2.154434690031882}</td>\n",
       "      <td>309.692239</td>\n",
       "      <td>2.154435</td>\n",
       "    </tr>\n",
       "    <tr>\n",
       "      <th>34</th>\n",
       "      <td>[7, 14, 21]</td>\n",
       "      <td>{'ridge__alpha': 0.46415888336127775}</td>\n",
       "      <td>311.468760</td>\n",
       "      <td>0.464159</td>\n",
       "    </tr>\n",
       "    <tr>\n",
       "      <th>33</th>\n",
       "      <td>[7, 14, 21]</td>\n",
       "      <td>{'ridge__alpha': 0.1}</td>\n",
       "      <td>311.916745</td>\n",
       "      <td>0.100000</td>\n",
       "    </tr>\n",
       "    <tr>\n",
       "      <th>32</th>\n",
       "      <td>[7, 14, 21]</td>\n",
       "      <td>{'ridge__alpha': 0.021544346900318832}</td>\n",
       "      <td>312.014652</td>\n",
       "      <td>0.021544</td>\n",
       "    </tr>\n",
       "    <tr>\n",
       "      <th>31</th>\n",
       "      <td>[7, 14, 21]</td>\n",
       "      <td>{'ridge__alpha': 0.004641588833612777}</td>\n",
       "      <td>312.035812</td>\n",
       "      <td>0.004642</td>\n",
       "    </tr>\n",
       "    <tr>\n",
       "      <th>30</th>\n",
       "      <td>[7, 14, 21]</td>\n",
       "      <td>{'ridge__alpha': 0.001}</td>\n",
       "      <td>312.040374</td>\n",
       "      <td>0.001000</td>\n",
       "    </tr>\n",
       "    <tr>\n",
       "      <th>37</th>\n",
       "      <td>[7, 14, 21]</td>\n",
       "      <td>{'ridge__alpha': 46.41588833612773}</td>\n",
       "      <td>313.396238</td>\n",
       "      <td>46.415888</td>\n",
       "    </tr>\n",
       "    <tr>\n",
       "      <th>0</th>\n",
       "      <td>[1, 2, 3, 4, 5, 6, 7]</td>\n",
       "      <td>{'ridge__alpha': 0.001}</td>\n",
       "      <td>348.244771</td>\n",
       "      <td>0.001000</td>\n",
       "    </tr>\n",
       "    <tr>\n",
       "      <th>1</th>\n",
       "      <td>[1, 2, 3, 4, 5, 6, 7]</td>\n",
       "      <td>{'ridge__alpha': 0.004641588833612777}</td>\n",
       "      <td>348.255874</td>\n",
       "      <td>0.004642</td>\n",
       "    </tr>\n",
       "    <tr>\n",
       "      <th>2</th>\n",
       "      <td>[1, 2, 3, 4, 5, 6, 7]</td>\n",
       "      <td>{'ridge__alpha': 0.021544346900318832}</td>\n",
       "      <td>348.307161</td>\n",
       "      <td>0.021544</td>\n",
       "    </tr>\n",
       "    <tr>\n",
       "      <th>3</th>\n",
       "      <td>[1, 2, 3, 4, 5, 6, 7]</td>\n",
       "      <td>{'ridge__alpha': 0.1}</td>\n",
       "      <td>348.539867</td>\n",
       "      <td>0.100000</td>\n",
       "    </tr>\n",
       "    <tr>\n",
       "      <th>4</th>\n",
       "      <td>[1, 2, 3, 4, 5, 6, 7]</td>\n",
       "      <td>{'ridge__alpha': 0.46415888336127775}</td>\n",
       "      <td>349.513146</td>\n",
       "      <td>0.464159</td>\n",
       "    </tr>\n",
       "    <tr>\n",
       "      <th>5</th>\n",
       "      <td>[1, 2, 3, 4, 5, 6, 7]</td>\n",
       "      <td>{'ridge__alpha': 2.154434690031882}</td>\n",
       "      <td>352.794048</td>\n",
       "      <td>2.154435</td>\n",
       "    </tr>\n",
       "    <tr>\n",
       "      <th>6</th>\n",
       "      <td>[1, 2, 3, 4, 5, 6, 7]</td>\n",
       "      <td>{'ridge__alpha': 10.0}</td>\n",
       "      <td>358.928543</td>\n",
       "      <td>10.000000</td>\n",
       "    </tr>\n",
       "    <tr>\n",
       "      <th>28</th>\n",
       "      <td>[1, 2, 3, 4, 5, 6, 7, 8, 9, 10, 11, 12, 13, 14...</td>\n",
       "      <td>{'ridge__alpha': 215.44346900318823}</td>\n",
       "      <td>364.451997</td>\n",
       "      <td>215.443469</td>\n",
       "    </tr>\n",
       "    <tr>\n",
       "      <th>7</th>\n",
       "      <td>[1, 2, 3, 4, 5, 6, 7]</td>\n",
       "      <td>{'ridge__alpha': 46.41588833612773}</td>\n",
       "      <td>365.259246</td>\n",
       "      <td>46.415888</td>\n",
       "    </tr>\n",
       "    <tr>\n",
       "      <th>38</th>\n",
       "      <td>[7, 14, 21]</td>\n",
       "      <td>{'ridge__alpha': 215.44346900318823}</td>\n",
       "      <td>374.631638</td>\n",
       "      <td>215.443469</td>\n",
       "    </tr>\n",
       "    <tr>\n",
       "      <th>18</th>\n",
       "      <td>[1, 2, 3, 4, 5, 6, 7, 8, 9, 10, 11, 12, 13, 14]</td>\n",
       "      <td>{'ridge__alpha': 215.44346900318823}</td>\n",
       "      <td>386.119961</td>\n",
       "      <td>215.443469</td>\n",
       "    </tr>\n",
       "    <tr>\n",
       "      <th>8</th>\n",
       "      <td>[1, 2, 3, 4, 5, 6, 7]</td>\n",
       "      <td>{'ridge__alpha': 215.44346900318823}</td>\n",
       "      <td>435.588786</td>\n",
       "      <td>215.443469</td>\n",
       "    </tr>\n",
       "    <tr>\n",
       "      <th>29</th>\n",
       "      <td>[1, 2, 3, 4, 5, 6, 7, 8, 9, 10, 11, 12, 13, 14...</td>\n",
       "      <td>{'ridge__alpha': 1000.0}</td>\n",
       "      <td>506.066124</td>\n",
       "      <td>1000.000000</td>\n",
       "    </tr>\n",
       "    <tr>\n",
       "      <th>19</th>\n",
       "      <td>[1, 2, 3, 4, 5, 6, 7, 8, 9, 10, 11, 12, 13, 14]</td>\n",
       "      <td>{'ridge__alpha': 1000.0}</td>\n",
       "      <td>525.760121</td>\n",
       "      <td>1000.000000</td>\n",
       "    </tr>\n",
       "    <tr>\n",
       "      <th>39</th>\n",
       "      <td>[7, 14, 21]</td>\n",
       "      <td>{'ridge__alpha': 1000.0}</td>\n",
       "      <td>527.505972</td>\n",
       "      <td>1000.000000</td>\n",
       "    </tr>\n",
       "    <tr>\n",
       "      <th>9</th>\n",
       "      <td>[1, 2, 3, 4, 5, 6, 7]</td>\n",
       "      <td>{'ridge__alpha': 1000.0}</td>\n",
       "      <td>565.471869</td>\n",
       "      <td>1000.000000</td>\n",
       "    </tr>\n",
       "  </tbody>\n",
       "</table>\n",
       "</div>"
      ],
      "text/plain": [
       "                                                 lags  \\\n",
       "15    [1, 2, 3, 4, 5, 6, 7, 8, 9, 10, 11, 12, 13, 14]   \n",
       "14    [1, 2, 3, 4, 5, 6, 7, 8, 9, 10, 11, 12, 13, 14]   \n",
       "13    [1, 2, 3, 4, 5, 6, 7, 8, 9, 10, 11, 12, 13, 14]   \n",
       "12    [1, 2, 3, 4, 5, 6, 7, 8, 9, 10, 11, 12, 13, 14]   \n",
       "11    [1, 2, 3, 4, 5, 6, 7, 8, 9, 10, 11, 12, 13, 14]   \n",
       "10    [1, 2, 3, 4, 5, 6, 7, 8, 9, 10, 11, 12, 13, 14]   \n",
       "26  [1, 2, 3, 4, 5, 6, 7, 8, 9, 10, 11, 12, 13, 14...   \n",
       "25  [1, 2, 3, 4, 5, 6, 7, 8, 9, 10, 11, 12, 13, 14...   \n",
       "16    [1, 2, 3, 4, 5, 6, 7, 8, 9, 10, 11, 12, 13, 14]   \n",
       "24  [1, 2, 3, 4, 5, 6, 7, 8, 9, 10, 11, 12, 13, 14...   \n",
       "23  [1, 2, 3, 4, 5, 6, 7, 8, 9, 10, 11, 12, 13, 14...   \n",
       "22  [1, 2, 3, 4, 5, 6, 7, 8, 9, 10, 11, 12, 13, 14...   \n",
       "21  [1, 2, 3, 4, 5, 6, 7, 8, 9, 10, 11, 12, 13, 14...   \n",
       "20  [1, 2, 3, 4, 5, 6, 7, 8, 9, 10, 11, 12, 13, 14...   \n",
       "27  [1, 2, 3, 4, 5, 6, 7, 8, 9, 10, 11, 12, 13, 14...   \n",
       "17    [1, 2, 3, 4, 5, 6, 7, 8, 9, 10, 11, 12, 13, 14]   \n",
       "36                                        [7, 14, 21]   \n",
       "35                                        [7, 14, 21]   \n",
       "34                                        [7, 14, 21]   \n",
       "33                                        [7, 14, 21]   \n",
       "32                                        [7, 14, 21]   \n",
       "31                                        [7, 14, 21]   \n",
       "30                                        [7, 14, 21]   \n",
       "37                                        [7, 14, 21]   \n",
       "0                               [1, 2, 3, 4, 5, 6, 7]   \n",
       "1                               [1, 2, 3, 4, 5, 6, 7]   \n",
       "2                               [1, 2, 3, 4, 5, 6, 7]   \n",
       "3                               [1, 2, 3, 4, 5, 6, 7]   \n",
       "4                               [1, 2, 3, 4, 5, 6, 7]   \n",
       "5                               [1, 2, 3, 4, 5, 6, 7]   \n",
       "6                               [1, 2, 3, 4, 5, 6, 7]   \n",
       "28  [1, 2, 3, 4, 5, 6, 7, 8, 9, 10, 11, 12, 13, 14...   \n",
       "7                               [1, 2, 3, 4, 5, 6, 7]   \n",
       "38                                        [7, 14, 21]   \n",
       "18    [1, 2, 3, 4, 5, 6, 7, 8, 9, 10, 11, 12, 13, 14]   \n",
       "8                               [1, 2, 3, 4, 5, 6, 7]   \n",
       "29  [1, 2, 3, 4, 5, 6, 7, 8, 9, 10, 11, 12, 13, 14...   \n",
       "19    [1, 2, 3, 4, 5, 6, 7, 8, 9, 10, 11, 12, 13, 14]   \n",
       "39                                        [7, 14, 21]   \n",
       "9                               [1, 2, 3, 4, 5, 6, 7]   \n",
       "\n",
       "                                    params      metric  ridge__alpha  \n",
       "15     {'ridge__alpha': 2.154434690031882}  214.789581      2.154435  \n",
       "14   {'ridge__alpha': 0.46415888336127775}  216.521380      0.464159  \n",
       "13                   {'ridge__alpha': 0.1}  217.757468      0.100000  \n",
       "12  {'ridge__alpha': 0.021544346900318832}  218.124430      0.021544  \n",
       "11  {'ridge__alpha': 0.004641588833612777}  218.205822      0.004642  \n",
       "10                 {'ridge__alpha': 0.001}  218.223468      0.001000  \n",
       "26                  {'ridge__alpha': 10.0}  219.936605     10.000000  \n",
       "25     {'ridge__alpha': 2.154434690031882}  221.274328      2.154435  \n",
       "16                  {'ridge__alpha': 10.0}  221.291519     10.000000  \n",
       "24   {'ridge__alpha': 0.46415888336127775}  226.604345      0.464159  \n",
       "23                   {'ridge__alpha': 0.1}  228.475988      0.100000  \n",
       "22  {'ridge__alpha': 0.021544346900318832}  228.925768      0.021544  \n",
       "21  {'ridge__alpha': 0.004641588833612777}  229.025617      0.004642  \n",
       "20                 {'ridge__alpha': 0.001}  229.047191      0.001000  \n",
       "27     {'ridge__alpha': 46.41588833612773}  266.598407     46.415888  \n",
       "17     {'ridge__alpha': 46.41588833612773}  270.101172     46.415888  \n",
       "36                  {'ridge__alpha': 10.0}  306.666238     10.000000  \n",
       "35     {'ridge__alpha': 2.154434690031882}  309.692239      2.154435  \n",
       "34   {'ridge__alpha': 0.46415888336127775}  311.468760      0.464159  \n",
       "33                   {'ridge__alpha': 0.1}  311.916745      0.100000  \n",
       "32  {'ridge__alpha': 0.021544346900318832}  312.014652      0.021544  \n",
       "31  {'ridge__alpha': 0.004641588833612777}  312.035812      0.004642  \n",
       "30                 {'ridge__alpha': 0.001}  312.040374      0.001000  \n",
       "37     {'ridge__alpha': 46.41588833612773}  313.396238     46.415888  \n",
       "0                  {'ridge__alpha': 0.001}  348.244771      0.001000  \n",
       "1   {'ridge__alpha': 0.004641588833612777}  348.255874      0.004642  \n",
       "2   {'ridge__alpha': 0.021544346900318832}  348.307161      0.021544  \n",
       "3                    {'ridge__alpha': 0.1}  348.539867      0.100000  \n",
       "4    {'ridge__alpha': 0.46415888336127775}  349.513146      0.464159  \n",
       "5      {'ridge__alpha': 2.154434690031882}  352.794048      2.154435  \n",
       "6                   {'ridge__alpha': 10.0}  358.928543     10.000000  \n",
       "28    {'ridge__alpha': 215.44346900318823}  364.451997    215.443469  \n",
       "7      {'ridge__alpha': 46.41588833612773}  365.259246     46.415888  \n",
       "38    {'ridge__alpha': 215.44346900318823}  374.631638    215.443469  \n",
       "18    {'ridge__alpha': 215.44346900318823}  386.119961    215.443469  \n",
       "8     {'ridge__alpha': 215.44346900318823}  435.588786    215.443469  \n",
       "29                {'ridge__alpha': 1000.0}  506.066124   1000.000000  \n",
       "19                {'ridge__alpha': 1000.0}  525.760121   1000.000000  \n",
       "39                {'ridge__alpha': 1000.0}  527.505972   1000.000000  \n",
       "9                 {'ridge__alpha': 1000.0}  565.471869   1000.000000  "
      ]
     },
     "execution_count": 38,
     "metadata": {},
     "output_type": "execute_result"
    }
   ],
   "source": [
    "# Resultados Grid Search\n",
    "# ==============================================================================\n",
    "resultados_grid"
   ]
  },
  {
   "cell_type": "code",
   "execution_count": 39,
   "metadata": {
    "ExecuteTime": {
     "end_time": "2021-12-23T17:55:22.105019Z",
     "start_time": "2021-12-23T17:55:22.089385Z"
    }
   },
   "outputs": [
    {
     "data": {
      "text/plain": [
       "================= \n",
       "ForecasterAutoreg \n",
       "================= \n",
       "Regressor: Pipeline(steps=[('standardscaler', StandardScaler()),\n",
       "                ('ridge', Ridge(alpha=2.154434690031882, random_state=123))]) \n",
       "Lags: [ 1  2  3  4  5  6  7  8  9 10 11 12 13 14] \n",
       "Window size: 14 \n",
       "Included exogenous: False \n",
       "Type of exogenous variable: None \n",
       "Exogenous variables names: None \n",
       "Training range: [Timestamp('2020-07-01 00:00:00'), Timestamp('2021-06-30 00:00:00')] \n",
       "Training index type: DatetimeIndex \n",
       "Training index frequency: D \n",
       "Regressor parameters: {'standardscaler__copy': True, 'standardscaler__with_mean': True, 'standardscaler__with_std': True, 'ridge__alpha': 2.154434690031882, 'ridge__copy_X': True, 'ridge__fit_intercept': True, 'ridge__max_iter': None, 'ridge__normalize': 'deprecated', 'ridge__positive': False, 'ridge__random_state': 123, 'ridge__solver': 'auto', 'ridge__tol': 0.001} \n",
       "Creation date: 2021-12-23 18:54:32 \n",
       "Last fit date: 2021-12-23 18:54:34 \n",
       "Skforecast version: 0.4.1 "
      ]
     },
     "execution_count": 39,
     "metadata": {},
     "output_type": "execute_result"
    }
   ],
   "source": [
    "forecaster"
   ]
  },
  {
   "cell_type": "code",
   "execution_count": 42,
   "metadata": {
    "ExecuteTime": {
     "end_time": "2021-12-23T17:58:38.564344Z",
     "start_time": "2021-12-23T17:58:38.499081Z"
    }
   },
   "outputs": [
    {
     "name": "stdout",
     "output_type": "stream",
     "text": [
      "Information of backtesting process\n",
      "----------------------------------\n",
      "Number of observations used for initial training or as initial window: 365\n",
      "Number of observations used for backtesting: 56\n",
      "    Number of folds: 8\n",
      "    Number of steps per fold: 7\n",
      "\n",
      "Data partition in fold: 0\n",
      "    Training:   2020-07-01 00:00:00 -- 2021-06-30 00:00:00\n",
      "    Validation: 2021-07-01 00:00:00 -- 2021-07-07 00:00:00\n",
      "Data partition in fold: 1\n",
      "    Training:   2020-07-01 00:00:00 -- 2021-06-30 00:00:00\n",
      "    Validation: 2021-07-08 00:00:00 -- 2021-07-14 00:00:00\n",
      "Data partition in fold: 2\n",
      "    Training:   2020-07-01 00:00:00 -- 2021-06-30 00:00:00\n",
      "    Validation: 2021-07-15 00:00:00 -- 2021-07-21 00:00:00\n",
      "Data partition in fold: 3\n",
      "    Training:   2020-07-01 00:00:00 -- 2021-06-30 00:00:00\n",
      "    Validation: 2021-07-22 00:00:00 -- 2021-07-28 00:00:00\n",
      "Data partition in fold: 4\n",
      "    Training:   2020-07-01 00:00:00 -- 2021-06-30 00:00:00\n",
      "    Validation: 2021-07-29 00:00:00 -- 2021-08-04 00:00:00\n",
      "Data partition in fold: 5\n",
      "    Training:   2020-07-01 00:00:00 -- 2021-06-30 00:00:00\n",
      "    Validation: 2021-08-05 00:00:00 -- 2021-08-11 00:00:00\n",
      "Data partition in fold: 6\n",
      "    Training:   2020-07-01 00:00:00 -- 2021-06-30 00:00:00\n",
      "    Validation: 2021-08-12 00:00:00 -- 2021-08-18 00:00:00\n",
      "Data partition in fold: 7\n",
      "    Training:   2020-07-01 00:00:00 -- 2021-06-30 00:00:00\n",
      "    Validation: 2021-08-19 00:00:00 -- 2021-08-25 00:00:00\n",
      "\n",
      "Error backtest: [216.22994004]\n"
     ]
    }
   ],
   "source": [
    "# Backtest modelo final (conjunto de test)\n",
    "# ==============================================================================\n",
    "metrica, predicciones = backtesting_forecaster(\n",
    "                            forecaster = forecaster,\n",
    "                            y          = datos.users,\n",
    "                            initial_train_size = len(datos.loc[:fin_validacion, :]),\n",
    "                            steps      = 7,\n",
    "                            metric     = 'mean_absolute_error',\n",
    "                            verbose    = True\n",
    "                        )\n",
    "\n",
    "print(f'Error backtest: {metrica}')"
   ]
  },
  {
   "cell_type": "markdown",
   "metadata": {},
   "source": [
    "# Modeo ARIMA"
   ]
  },
  {
   "cell_type": "code",
   "execution_count": 46,
   "metadata": {
    "ExecuteTime": {
     "end_time": "2021-12-23T18:02:17.143698Z",
     "start_time": "2021-12-23T18:02:17.131732Z"
    }
   },
   "outputs": [
    {
     "name": "stdout",
     "output_type": "stream",
     "text": [
      "Refitting `forecaster` using the best found parameters and the whole data set: \n",
      "  lags: [ 1  2  3  4  5  6  7  8  9 10 11 12 13 14] \n",
      "  params: {'ridge__alpha': 2.154434690031882}\n",
      "  metric: 214.78958139997795\n",
      "\n"
     ]
    }
   ],
   "source": [
    "best_lags = resultados_grid['lags'].iloc[0]\n",
    "best_params = resultados_grid['params'].iloc[0]\n",
    "best_metric = resultados_grid['metric'].iloc[0]\n",
    "\n",
    "\n",
    "print(\n",
    "            f\"Refitting `forecaster` using the best found parameters and the whole data set: \\n\"\n",
    "            f\"  lags: {best_lags} \\n\"\n",
    "            f\"  params: {best_params}\\n\"\n",
    "            f\"  metric: {best_metric}\\n\"\n",
    "        )"
   ]
  },
  {
   "cell_type": "code",
   "execution_count": null,
   "metadata": {},
   "outputs": [],
   "source": []
  },
  {
   "cell_type": "code",
   "execution_count": null,
   "metadata": {},
   "outputs": [],
   "source": []
  },
  {
   "cell_type": "code",
   "execution_count": null,
   "metadata": {},
   "outputs": [],
   "source": []
  }
 ],
 "metadata": {
  "kernelspec": {
   "display_name": "skforecast",
   "language": "python",
   "name": "skforecast"
  },
  "language_info": {
   "codemirror_mode": {
    "name": "ipython",
    "version": 3
   },
   "file_extension": ".py",
   "mimetype": "text/x-python",
   "name": "python",
   "nbconvert_exporter": "python",
   "pygments_lexer": "ipython3",
   "version": "3.7.9"
  },
  "toc": {
   "base_numbering": "0",
   "nav_menu": {},
   "number_sections": true,
   "sideBar": true,
   "skip_h1_title": false,
   "title_cell": "Table of Contents",
   "title_sidebar": "Contents",
   "toc_cell": false,
   "toc_position": {},
   "toc_section_display": true,
   "toc_window_display": true
  },
  "varInspector": {
   "cols": {
    "lenName": 16,
    "lenType": 16,
    "lenVar": 40
   },
   "kernels_config": {
    "python": {
     "delete_cmd_postfix": "",
     "delete_cmd_prefix": "del ",
     "library": "var_list.py",
     "varRefreshCmd": "print(var_dic_list())"
    },
    "r": {
     "delete_cmd_postfix": ") ",
     "delete_cmd_prefix": "rm(",
     "library": "var_list.r",
     "varRefreshCmd": "cat(var_dic_list()) "
    }
   },
   "types_to_exclude": [
    "module",
    "function",
    "builtin_function_or_method",
    "instance",
    "_Feature"
   ],
   "window_display": false
  }
 },
 "nbformat": 4,
 "nbformat_minor": 4
}
