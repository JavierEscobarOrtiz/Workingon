{
 "cells": [
  {
   "cell_type": "markdown",
   "metadata": {},
   "source": [
    "https://www.cienciadedatos.net/documentos/py17-regresion-logistica-python.html"
   ]
  },
  {
   "cell_type": "markdown",
   "metadata": {},
   "source": [
    "# Regresión logística simple"
   ]
  },
  {
   "cell_type": "code",
   "execution_count": 1,
   "metadata": {
    "ExecuteTime": {
     "end_time": "2021-09-01T09:16:19.353317Z",
     "start_time": "2021-09-01T09:16:12.080327Z"
    }
   },
   "outputs": [],
   "source": [
    "# Tratamiento de datos\n",
    "# ==============================================================================\n",
    "import pandas as pd\n",
    "import numpy as np\n",
    "\n",
    "# Gráficos\n",
    "# ==============================================================================\n",
    "import matplotlib.pyplot as plt\n",
    "from matplotlib import style\n",
    "import seaborn as sns\n",
    "\n",
    "# Preprocesado y modelado\n",
    "# ==============================================================================\n",
    "from sklearn.linear_model import LogisticRegression\n",
    "from sklearn.model_selection import train_test_split\n",
    "from sklearn.metrics import accuracy_score\n",
    "import statsmodels.api as sm\n",
    "import statsmodels.formula.api as smf\n",
    "from statsmodels.stats.weightstats import ttest_ind\n",
    "\n",
    "# Configuración matplotlib\n",
    "# ==============================================================================\n",
    "plt.rcParams['image.cmap'] = \"bwr\"\n",
    "#plt.rcParams['figure.dpi'] = \"100\"\n",
    "plt.rcParams['savefig.bbox'] = \"tight\"\n",
    "style.use('ggplot') or plt.style.use('ggplot')\n",
    "\n",
    "# Configuración warnings\n",
    "# ==============================================================================\n",
    "import warnings\n",
    "warnings.filterwarnings('ignore')"
   ]
  },
  {
   "cell_type": "code",
   "execution_count": 2,
   "metadata": {
    "ExecuteTime": {
     "end_time": "2021-09-01T10:53:49.120093Z",
     "start_time": "2021-09-01T10:53:48.591099Z"
    }
   },
   "outputs": [
    {
     "data": {
      "text/html": [
       "<div>\n",
       "<style scoped>\n",
       "    .dataframe tbody tr th:only-of-type {\n",
       "        vertical-align: middle;\n",
       "    }\n",
       "\n",
       "    .dataframe tbody tr th {\n",
       "        vertical-align: top;\n",
       "    }\n",
       "\n",
       "    .dataframe thead th {\n",
       "        text-align: right;\n",
       "    }\n",
       "</style>\n",
       "<table border=\"1\" class=\"dataframe\">\n",
       "  <thead>\n",
       "    <tr style=\"text-align: right;\">\n",
       "      <th></th>\n",
       "      <th>matricula</th>\n",
       "      <th>matematicas</th>\n",
       "    </tr>\n",
       "  </thead>\n",
       "  <tbody>\n",
       "    <tr>\n",
       "      <th>0</th>\n",
       "      <td>0</td>\n",
       "      <td>41</td>\n",
       "    </tr>\n",
       "    <tr>\n",
       "      <th>1</th>\n",
       "      <td>0</td>\n",
       "      <td>53</td>\n",
       "    </tr>\n",
       "    <tr>\n",
       "      <th>2</th>\n",
       "      <td>0</td>\n",
       "      <td>54</td>\n",
       "    </tr>\n",
       "  </tbody>\n",
       "</table>\n",
       "</div>"
      ],
      "text/plain": [
       "   matricula  matematicas\n",
       "0          0           41\n",
       "1          0           53\n",
       "2          0           54"
      ]
     },
     "execution_count": 2,
     "metadata": {},
     "output_type": "execute_result"
    }
   ],
   "source": [
    "# Datos\n",
    "# ==============================================================================\n",
    "matricula = np.array([0, 0, 0, 0, 0, 0, 0, 0, 0, 0, 0, 1, 0, 1, 0, 0, 0, 0, 1,\n",
    "                     0, 0, 1, 0, 0, 0, 0, 1, 0, 0, 0, 0, 0, 1, 0, 0, 1, 0, 1,\n",
    "                     0, 0, 0, 0, 0, 0, 1, 0, 0, 0, 0, 0, 1, 0, 0, 0, 1, 0, 0,\n",
    "                     0, 0, 0, 0, 1, 0, 0, 0, 0, 0, 0, 0, 0, 0, 0, 1, 0, 0, 0,\n",
    "                     1, 0, 0, 0, 0, 0, 0, 1, 0, 1, 0, 0, 0, 0, 1, 0, 1, 0, 0,\n",
    "                     1, 1, 1, 0, 1, 0, 0, 0, 0, 0, 0, 1, 0, 0, 1, 0, 0, 0, 1,\n",
    "                     1, 0, 0, 1, 0, 0, 0, 0, 0, 0, 1, 0, 0, 0, 0, 0, 0, 1, 1,\n",
    "                     0, 0, 1, 0, 0, 0, 0, 0, 0, 0, 0, 0, 0, 1, 0, 0, 0, 0, 0,\n",
    "                     0, 0, 1, 0, 0, 0, 0, 1, 1, 0, 1, 1, 0, 0, 0, 0, 1, 0, 0,\n",
    "                     0, 0, 0, 0, 0, 1, 0, 0, 1, 1, 0, 1, 1, 1, 1, 0, 0, 1, 0,\n",
    "                     0, 0, 0, 0, 1, 0, 0, 0, 1, 1])\n",
    "\n",
    "matematicas = np.array([\n",
    "                  41, 53, 54, 47, 57, 51, 42, 45, 54, 52, 51, 51, 71, 57, 50, 43,\n",
    "                  51, 60, 62, 57, 35, 75, 45, 57, 45, 46, 66, 57, 49, 49, 57, 64,\n",
    "                  63, 57, 50, 58, 75, 68, 44, 40, 41, 62, 57, 43, 48, 63, 39, 70,\n",
    "                  63, 59, 61, 38, 61, 49, 73, 44, 42, 39, 55, 52, 45, 61, 39, 41,\n",
    "                  50, 40, 60, 47, 59, 49, 46, 58, 71, 58, 46, 43, 54, 56, 46, 54,\n",
    "                  57, 54, 71, 48, 40, 64, 51, 39, 40, 61, 66, 49, 65, 52, 46, 61,\n",
    "                  72, 71, 40, 69, 64, 56, 49, 54, 53, 66, 67, 40, 46, 69, 40, 41,\n",
    "                  57, 58, 57, 37, 55, 62, 64, 40, 50, 46, 53, 52, 45, 56, 45, 54,\n",
    "                  56, 41, 54, 72, 56, 47, 49, 60, 54, 55, 33, 49, 43, 50, 52, 48,\n",
    "                  58, 43, 41, 43, 46, 44, 43, 61, 40, 49, 56, 61, 50, 51, 42, 67,\n",
    "                  53, 50, 51, 72, 48, 40, 53, 39, 63, 51, 45, 39, 42, 62, 44, 65,\n",
    "                  63, 54, 45, 60, 49, 48, 57, 55, 66, 64, 55, 42, 56, 53, 41, 42,\n",
    "                  53, 42, 60, 52, 38, 57, 58, 65])\n",
    "\n",
    "datos = pd.DataFrame({'matricula': matricula, 'matematicas': matematicas})\n",
    "datos.head(3)"
   ]
  },
  {
   "cell_type": "code",
   "execution_count": 3,
   "metadata": {
    "ExecuteTime": {
     "end_time": "2021-09-01T10:54:33.651928Z",
     "start_time": "2021-09-01T10:54:33.614030Z"
    }
   },
   "outputs": [
    {
     "data": {
      "text/plain": [
       "0    151\n",
       "1     49\n",
       "Name: matricula, dtype: int64"
      ]
     },
     "execution_count": 3,
     "metadata": {},
     "output_type": "execute_result"
    }
   ],
   "source": [
    "# Número de obsercaciones por clase\n",
    "# ==============================================================================\n",
    "datos.matricula.value_counts().sort_index()"
   ]
  },
  {
   "cell_type": "code",
   "execution_count": 7,
   "metadata": {
    "ExecuteTime": {
     "end_time": "2021-09-01T10:55:04.328759Z",
     "start_time": "2021-09-01T10:55:04.179312Z"
    }
   },
   "outputs": [
    {
     "data": {
      "image/png": "[encoded data removed]",
      "text/plain": [
       "<Figure size 600x384 with 1 Axes>"
      ]
     },
     "metadata": {},
     "output_type": "display_data"
    }
   ],
   "source": [
    "# Gráfico\n",
    "# ==============================================================================\n",
    "fig, ax = plt.subplots(figsize=(6, 3.84))\n",
    "\n",
    "sns.violinplot(\n",
    "        x     = 'matricula',\n",
    "        y     = 'matematicas',\n",
    "        data  = datos,\n",
    "        #color = \"white\",\n",
    "        ax    = ax\n",
    "    )\n",
    "\n",
    "ax.set_title('Distribución notas de matemáticas por clase');\n",
    "plt.show();"
   ]
  },
  {
   "cell_type": "code",
   "execution_count": 8,
   "metadata": {
    "ExecuteTime": {
     "end_time": "2021-09-01T10:55:40.457273Z",
     "start_time": "2021-09-01T10:55:40.432339Z"
    }
   },
   "outputs": [
    {
     "name": "stdout",
     "output_type": "stream",
     "text": [
      "t=-8.245421127756739, p-value=2.248243794123437e-14\n"
     ]
    }
   ],
   "source": [
    "# T-test entre clases\n",
    "# ==============================================================================\n",
    "res_ttest = ttest_ind(\n",
    "                x1 = matematicas[matricula == 0],\n",
    "                x2 = matematicas[matricula == 1],\n",
    "                alternative='two-sided'\n",
    "            )\n",
    "print(f\"t={res_ttest[0]}, p-value={res_ttest[1]}\")"
   ]
  },
  {
   "cell_type": "markdown",
   "metadata": {
    "ExecuteTime": {
     "end_time": "2021-09-01T11:00:13.546237Z",
     "start_time": "2021-09-01T11:00:13.527287Z"
    }
   },
   "source": [
    "## Scikit-learn"
   ]
  },
  {
   "cell_type": "code",
   "execution_count": 10,
   "metadata": {
    "ExecuteTime": {
     "end_time": "2021-09-01T11:01:04.747094Z",
     "start_time": "2021-09-01T11:01:04.621446Z"
    }
   },
   "outputs": [
    {
     "data": {
      "text/plain": [
       "LogisticRegression(penalty='none')"
      ]
     },
     "execution_count": 10,
     "metadata": {},
     "output_type": "execute_result"
    }
   ],
   "source": [
    "# División de los datos en train y test\n",
    "# ==============================================================================\n",
    "X = datos[['matematicas']]\n",
    "y = datos['matricula']\n",
    "\n",
    "X_train, X_test, y_train, y_test = train_test_split(\n",
    "                                        X.values.reshape(-1,1),\n",
    "                                        y.values.reshape(-1,1),\n",
    "                                        train_size   = 0.8,\n",
    "                                        random_state = 1234,\n",
    "                                        shuffle      = True\n",
    "                                    )\n",
    "\n",
    "# Creación del modelo\n",
    "# ==============================================================================\n",
    "# Para no incluir ningún tipo de regularización en el modelo se indica\n",
    "# penalty='none'\n",
    "modelo = LogisticRegression(penalty='none')\n",
    "modelo.fit(X = X_train.reshape(-1, 1), y = y_train)"
   ]
  },
  {
   "cell_type": "code",
   "execution_count": 11,
   "metadata": {
    "ExecuteTime": {
     "end_time": "2021-09-01T11:01:23.708550Z",
     "start_time": "2021-09-01T11:01:23.671651Z"
    }
   },
   "outputs": [
    {
     "name": "stdout",
     "output_type": "stream",
     "text": [
      "Intercept: [-8.98479044]\n",
      "Coeficiente: [('matematicas', 0.14393266992917017)]\n",
      "Accuracy de entrenamiento: 0.81\n"
     ]
    }
   ],
   "source": [
    "# Información del modelo\n",
    "# ==============================================================================\n",
    "print(\"Intercept:\", modelo.intercept_)\n",
    "print(\"Coeficiente:\", list(zip(X.columns, modelo.coef_.flatten(), )))\n",
    "print(\"Accuracy de entrenamiento:\", modelo.score(X, y))"
   ]
  },
  {
   "cell_type": "code",
   "execution_count": 21,
   "metadata": {
    "ExecuteTime": {
     "end_time": "2021-09-01T11:05:39.786000Z",
     "start_time": "2021-09-01T11:05:39.755083Z"
    }
   },
   "outputs": [
    {
     "data": {
      "text/html": [
       "<div>\n",
       "<style scoped>\n",
       "    .dataframe tbody tr th:only-of-type {\n",
       "        vertical-align: middle;\n",
       "    }\n",
       "\n",
       "    .dataframe tbody tr th {\n",
       "        vertical-align: top;\n",
       "    }\n",
       "\n",
       "    .dataframe thead th {\n",
       "        text-align: right;\n",
       "    }\n",
       "</style>\n",
       "<table border=\"1\" class=\"dataframe\">\n",
       "  <thead>\n",
       "    <tr style=\"text-align: right;\">\n",
       "      <th></th>\n",
       "      <th>0</th>\n",
       "      <th>1</th>\n",
       "    </tr>\n",
       "  </thead>\n",
       "  <tbody>\n",
       "    <tr>\n",
       "      <th>0</th>\n",
       "      <td>0.685816</td>\n",
       "      <td>0.314184</td>\n",
       "    </tr>\n",
       "    <tr>\n",
       "      <th>1</th>\n",
       "      <td>0.838109</td>\n",
       "      <td>0.161891</td>\n",
       "    </tr>\n",
       "    <tr>\n",
       "      <th>2</th>\n",
       "      <td>0.443517</td>\n",
       "      <td>0.556483</td>\n",
       "    </tr>\n",
       "  </tbody>\n",
       "</table>\n",
       "</div>"
      ],
      "text/plain": [
       "          0         1\n",
       "0  0.685816  0.314184\n",
       "1  0.838109  0.161891\n",
       "2  0.443517  0.556483"
      ]
     },
     "execution_count": 21,
     "metadata": {},
     "output_type": "execute_result"
    }
   ],
   "source": [
    "# Predicciones probabilísticas\n",
    "# ==============================================================================\n",
    "# Con .predict_proba() se obtiene, para cada observación, la probabilidad predicha\n",
    "# de pertenecer a cada una de las dos clases.\n",
    "predicciones = modelo.predict_proba(X = X_test)\n",
    "predicciones = pd.DataFrame(predicciones, columns = modelo.classes_)\n",
    "predicciones.head(3)"
   ]
  },
  {
   "cell_type": "code",
   "execution_count": 22,
   "metadata": {
    "ExecuteTime": {
     "end_time": "2021-09-01T11:05:40.347015Z",
     "start_time": "2021-09-01T11:05:40.336045Z"
    }
   },
   "outputs": [
    {
     "data": {
      "text/plain": [
       "array([0, 0, 1, 1, 0, 0, 0, 0, 0, 0, 0, 1, 0, 1, 0, 0, 0, 0, 0, 0, 0, 0,\n",
       "       0, 0, 1, 0, 0, 0, 0, 0, 0, 0, 0, 0, 0, 0, 0, 0, 0, 0])"
      ]
     },
     "execution_count": 22,
     "metadata": {},
     "output_type": "execute_result"
    }
   ],
   "source": [
    "# Predicciones con clasificación final\n",
    "# ==============================================================================\n",
    "# Con .predict() se obtiene, para cada observación, la clasificación predicha por\n",
    "# el modelo. Esta clasificación se corresponde con la clase con mayor probabilidad.\n",
    "predicciones = modelo.predict(X = X_test)\n",
    "predicciones"
   ]
  },
  {
   "cell_type": "markdown",
   "metadata": {},
   "source": [
    "## Statsmodels"
   ]
  },
  {
   "cell_type": "code",
   "execution_count": 23,
   "metadata": {
    "ExecuteTime": {
     "end_time": "2021-09-01T11:06:45.893451Z",
     "start_time": "2021-09-01T11:06:45.874502Z"
    }
   },
   "outputs": [],
   "source": [
    "# División de los datos en train y test\n",
    "# ==============================================================================\n",
    "X = datos[['matematicas']]\n",
    "y = datos['matricula']\n",
    "\n",
    "X_train, X_test, y_train, y_test = train_test_split(\n",
    "                                        X.values.reshape(-1,1),\n",
    "                                        y.values.reshape(-1,1),\n",
    "                                        train_size   = 0.8,\n",
    "                                        random_state = 1234,\n",
    "                                        shuffle      = True\n",
    "                                    )"
   ]
  },
  {
   "cell_type": "code",
   "execution_count": 24,
   "metadata": {
    "ExecuteTime": {
     "end_time": "2021-09-01T11:07:29.640930Z",
     "start_time": "2021-09-01T11:07:29.622979Z"
    }
   },
   "outputs": [],
   "source": [
    "# Creación del modelo utilizando el modo fórmula (similar a R)\n",
    "# ==============================================================================\n",
    "# datos_train = pd.DataFrame(np.hstack((X_train, y_train)),\n",
    "#                            columns=['matematicas', 'matricula'])\n",
    "# modelo = smf.logit(formula = 'matricula ~matematicas', data = datos_train)\n",
    "# modelo = modelo.fit()\n",
    "# print(modelo.summary())"
   ]
  },
  {
   "cell_type": "code",
   "execution_count": 25,
   "metadata": {
    "ExecuteTime": {
     "end_time": "2021-09-01T11:07:29.906255Z",
     "start_time": "2021-09-01T11:07:29.839433Z"
    }
   },
   "outputs": [
    {
     "name": "stdout",
     "output_type": "stream",
     "text": [
      "Optimization terminated successfully.\n",
      "         Current function value: 0.451215\n",
      "         Iterations 6\n",
      "                           Logit Regression Results                           \n",
      "==============================================================================\n",
      "Dep. Variable:                      y   No. Observations:                  160\n",
      "Model:                          Logit   Df Residuals:                      158\n",
      "Method:                           MLE   Df Model:                            1\n",
      "Date:                Wed, 01 Sep 2021   Pseudo R-squ.:                  0.2247\n",
      "Time:                        13:07:29   Log-Likelihood:                -72.194\n",
      "converged:                       True   LL-Null:                       -93.122\n",
      "Covariance Type:            nonrobust   LLR p-value:                 9.831e-11\n",
      "==============================================================================\n",
      "                 coef    std err          z      P>|z|      [0.025      0.975]\n",
      "------------------------------------------------------------------------------\n",
      "const         -8.9848      1.543     -5.821      0.000     -12.010      -5.960\n",
      "x1             0.1439      0.027      5.387      0.000       0.092       0.196\n",
      "==============================================================================\n"
     ]
    }
   ],
   "source": [
    "# Creación del modelo utilizando matrices como en scikitlearn\n",
    "# ==============================================================================\n",
    "# A la matriz de predictores se le tiene que añadir una columna de 1s para el intercept del modelo\n",
    "X_train = sm.add_constant(X_train, prepend=True)\n",
    "modelo = sm.Logit(endog=y_train, exog=X_train,)\n",
    "modelo = modelo.fit()\n",
    "print(modelo.summary())"
   ]
  },
  {
   "cell_type": "code",
   "execution_count": 26,
   "metadata": {
    "ExecuteTime": {
     "end_time": "2021-09-01T11:13:22.560107Z",
     "start_time": "2021-09-01T11:13:22.531184Z"
    }
   },
   "outputs": [
    {
     "data": {
      "text/html": [
       "<div>\n",
       "<style scoped>\n",
       "    .dataframe tbody tr th:only-of-type {\n",
       "        vertical-align: middle;\n",
       "    }\n",
       "\n",
       "    .dataframe tbody tr th {\n",
       "        vertical-align: top;\n",
       "    }\n",
       "\n",
       "    .dataframe thead th {\n",
       "        text-align: right;\n",
       "    }\n",
       "</style>\n",
       "<table border=\"1\" class=\"dataframe\">\n",
       "  <thead>\n",
       "    <tr style=\"text-align: right;\">\n",
       "      <th></th>\n",
       "      <th>2.5%</th>\n",
       "      <th>97.5%</th>\n",
       "    </tr>\n",
       "  </thead>\n",
       "  <tbody>\n",
       "    <tr>\n",
       "      <th>0</th>\n",
       "      <td>-12.009997</td>\n",
       "      <td>-5.959608</td>\n",
       "    </tr>\n",
       "    <tr>\n",
       "      <th>1</th>\n",
       "      <td>0.091564</td>\n",
       "      <td>0.196301</td>\n",
       "    </tr>\n",
       "  </tbody>\n",
       "</table>\n",
       "</div>"
      ],
      "text/plain": [
       "        2.5%     97.5%\n",
       "0 -12.009997 -5.959608\n",
       "1   0.091564  0.196301"
      ]
     },
     "execution_count": 26,
     "metadata": {},
     "output_type": "execute_result"
    }
   ],
   "source": [
    "# Intervalos de confianza para los coeficientes del modelo\n",
    "# ==============================================================================\n",
    "intervalos_ci = modelo.conf_int(alpha=0.05)\n",
    "intervalos_ci = pd.DataFrame(intervalos_ci)\n",
    "intervalos_ci.columns = ['2.5%', '97.5%']\n",
    "intervalos_ci"
   ]
  },
  {
   "cell_type": "code",
   "execution_count": 27,
   "metadata": {
    "ExecuteTime": {
     "end_time": "2021-09-01T11:13:45.447813Z",
     "start_time": "2021-09-01T11:13:45.429861Z"
    }
   },
   "outputs": [
    {
     "data": {
      "text/plain": [
       "array([0.0437907 , 0.52073   , 0.05755755, 0.72042378])"
      ]
     },
     "execution_count": 27,
     "metadata": {},
     "output_type": "execute_result"
    }
   ],
   "source": [
    "# Predicción de probabilidades\n",
    "# ==============================================================================\n",
    "predicciones = modelo.predict(exog = X_train)\n",
    "predicciones[:4]"
   ]
  },
  {
   "cell_type": "code",
   "execution_count": 28,
   "metadata": {
    "ExecuteTime": {
     "end_time": "2021-09-01T11:13:57.743679Z",
     "start_time": "2021-09-01T11:13:57.721739Z"
    }
   },
   "outputs": [
    {
     "data": {
      "text/plain": [
       "array([0, 1, 0, 1, 0, 0, 0, 0, 0, 1, 0, 0, 0, 0, 0, 0, 0, 0, 0, 0, 1, 0,\n",
       "       0, 0, 0, 0, 0, 0, 0, 0, 0, 0, 0, 0, 0, 0, 0, 1, 1, 0, 0, 0, 0, 0,\n",
       "       0, 1, 0, 0, 0, 0, 0, 0, 0, 0, 1, 0, 0, 0, 0, 1, 0, 0, 1, 0, 0, 0,\n",
       "       0, 0, 1, 0, 0, 0, 1, 0, 0, 1, 0, 0, 1, 0, 0, 0, 0, 0, 0, 0, 0, 0,\n",
       "       0, 0, 1, 0, 0, 0, 0, 1, 0, 0, 0, 0, 1, 1, 1, 0, 1, 0, 0, 1, 0, 0,\n",
       "       1, 0, 0, 0, 0, 1, 0, 0, 0, 0, 0, 0, 0, 0, 0, 0, 0, 0, 0, 0, 0, 0,\n",
       "       0, 0, 0, 0, 1, 0, 0, 1, 0, 0, 0, 0, 0, 1, 1, 0, 0, 0, 0, 0, 0, 0,\n",
       "       0, 0, 0, 0, 0, 1])"
      ]
     },
     "execution_count": 28,
     "metadata": {},
     "output_type": "execute_result"
    }
   ],
   "source": [
    "# Clasificación predicha\n",
    "# ==============================================================================\n",
    "clasificacion = np.where(predicciones<0.5, 0, 1)\n",
    "clasificacion"
   ]
  },
  {
   "cell_type": "code",
   "execution_count": 35,
   "metadata": {
    "ExecuteTime": {
     "end_time": "2021-09-01T11:16:52.246279Z",
     "start_time": "2021-09-01T11:16:52.223340Z"
    }
   },
   "outputs": [
    {
     "name": "stdout",
     "output_type": "stream",
     "text": [
      "[[ 1.         33.        ]\n",
      " [ 1.         33.21105528]\n",
      " [ 1.         33.42211055]]\n",
      "=========\n",
      "[[ 1.         74.57788945]\n",
      " [ 1.         74.78894472]\n",
      " [ 1.         75.        ]]\n"
     ]
    }
   ],
   "source": [
    "# Predicciones en todo el rango de X\n",
    "# ==============================================================================\n",
    "# Se crea un vector con nuevos valores interpolados en el rango de observaciones.\n",
    "grid_X = np.linspace(\n",
    "            start = min(datos.matematicas),\n",
    "            stop  = max(datos.matematicas),\n",
    "            num   = 200\n",
    "         ).reshape(-1,1)\n",
    "\n",
    "grid_X = sm.add_constant(grid_X, prepend=True)\n",
    "print(grid_X[:3])\n",
    "print(\"=========\")\n",
    "print(grid_X[-3:])\n",
    "predicciones = modelo.predict(exog = grid_X)"
   ]
  },
  {
   "cell_type": "code",
   "execution_count": 30,
   "metadata": {
    "ExecuteTime": {
     "end_time": "2021-09-01T11:14:23.896172Z",
     "start_time": "2021-09-01T11:14:23.737596Z"
    }
   },
   "outputs": [
    {
     "data": {
      "image/png": "[encoded data removed]",
      "text/plain": [
       "<Figure size 600x384 with 1 Axes>"
      ]
     },
     "metadata": {},
     "output_type": "display_data"
    }
   ],
   "source": [
    "# Gráfico del modelo\n",
    "# ==============================================================================\n",
    "fig, ax = plt.subplots(figsize=(6, 3.84))\n",
    "\n",
    "ax.scatter(\n",
    "    X_train[(y_train == 1).flatten(), 1],\n",
    "    y_train[(y_train == 1).flatten()].flatten()\n",
    ")\n",
    "ax.scatter(\n",
    "    X_train[(y_train == 0).flatten(), 1],\n",
    "    y_train[(y_train == 0).flatten()].flatten()\n",
    ")\n",
    "ax.plot(grid_X[:, 1], predicciones, color = \"gray\")\n",
    "ax.set_title(\"Modelo regresión logística\")\n",
    "ax.set_ylabel(\"P(matrícula = 1 | matemáticas)\")\n",
    "ax.set_xlabel(\"Nota matemáticas\")\n",
    "plt.show();"
   ]
  },
  {
   "cell_type": "code",
   "execution_count": 38,
   "metadata": {
    "ExecuteTime": {
     "end_time": "2021-09-01T11:20:33.587995Z",
     "start_time": "2021-09-01T11:20:33.570043Z"
    }
   },
   "outputs": [
    {
     "name": "stdout",
     "output_type": "stream",
     "text": [
      "\n",
      "El accuracy de test es: 87.5%\n"
     ]
    }
   ],
   "source": [
    "# Accuracy de test del modelo \n",
    "# ==============================================================================\n",
    "X_test = sm.add_constant(X_test, prepend=True)\n",
    "predicciones = modelo.predict(exog = X_test)\n",
    "clasificacion = np.where(predicciones<0.5, 0, 1)\n",
    "accuracy = accuracy_score(\n",
    "            y_true    = y_test,\n",
    "            y_pred    = clasificacion,\n",
    "            normalize = True\n",
    "           )\n",
    "print(\"\")\n",
    "print(f\"El accuracy de test es: {100*accuracy}%\")"
   ]
  },
  {
   "cell_type": "markdown",
   "metadata": {},
   "source": [
    "# Regresión logística múltiple"
   ]
  },
  {
   "cell_type": "code",
   "execution_count": 39,
   "metadata": {
    "ExecuteTime": {
     "end_time": "2021-09-01T11:21:16.333077Z",
     "start_time": "2021-09-01T11:21:16.309179Z"
    }
   },
   "outputs": [],
   "source": [
    "# Tratamiento de datos\n",
    "# ==============================================================================\n",
    "import pandas as pd\n",
    "import numpy as np\n",
    "\n",
    "# Gráficos\n",
    "# ==============================================================================\n",
    "import matplotlib.pyplot as plt\n",
    "from matplotlib import style\n",
    "import seaborn as sns\n",
    "\n",
    "# Preprocesado y modelado\n",
    "# ==============================================================================\n",
    "from sklearn.linear_model import LogisticRegression\n",
    "from sklearn.model_selection import train_test_split\n",
    "from sklearn.metrics import accuracy_score\n",
    "from sklearn.metrics import plot_confusion_matrix\n",
    "import statsmodels.api as sm\n",
    "import statsmodels.formula.api as smf\n",
    "\n",
    "# Configuración matplotlib\n",
    "# ==============================================================================\n",
    "plt.rcParams['image.cmap'] = \"bwr\"\n",
    "#plt.rcParams['figure.dpi'] = \"100\"\n",
    "plt.rcParams['savefig.bbox'] = \"tight\"\n",
    "style.use('ggplot') or plt.style.use('ggplot')\n",
    "\n",
    "# Configuración warnings\n",
    "# ==============================================================================\n",
    "import warnings\n",
    "warnings.filterwarnings('ignore')"
   ]
  },
  {
   "cell_type": "code",
   "execution_count": 41,
   "metadata": {
    "ExecuteTime": {
     "end_time": "2021-09-01T11:21:29.984792Z",
     "start_time": "2021-09-01T11:21:29.490260Z"
    }
   },
   "outputs": [
    {
     "data": {
      "text/html": [
       "<div>\n",
       "<style scoped>\n",
       "    .dataframe tbody tr th:only-of-type {\n",
       "        vertical-align: middle;\n",
       "    }\n",
       "\n",
       "    .dataframe tbody tr th {\n",
       "        vertical-align: top;\n",
       "    }\n",
       "\n",
       "    .dataframe thead th {\n",
       "        text-align: right;\n",
       "    }\n",
       "</style>\n",
       "<table border=\"1\" class=\"dataframe\">\n",
       "  <thead>\n",
       "    <tr style=\"text-align: right;\">\n",
       "      <th></th>\n",
       "      <th>make</th>\n",
       "      <th>address</th>\n",
       "      <th>all</th>\n",
       "      <th>num3d</th>\n",
       "      <th>our</th>\n",
       "      <th>over</th>\n",
       "      <th>remove</th>\n",
       "      <th>internet</th>\n",
       "      <th>order</th>\n",
       "      <th>mail</th>\n",
       "      <th>...</th>\n",
       "      <th>charSemicolon</th>\n",
       "      <th>charRoundbracket</th>\n",
       "      <th>charSquarebracket</th>\n",
       "      <th>charExclamation</th>\n",
       "      <th>charDollar</th>\n",
       "      <th>charHash</th>\n",
       "      <th>capitalAve</th>\n",
       "      <th>capitalLong</th>\n",
       "      <th>capitalTotal</th>\n",
       "      <th>type</th>\n",
       "    </tr>\n",
       "  </thead>\n",
       "  <tbody>\n",
       "    <tr>\n",
       "      <th>0</th>\n",
       "      <td>0.00</td>\n",
       "      <td>0.64</td>\n",
       "      <td>0.64</td>\n",
       "      <td>0.0</td>\n",
       "      <td>0.32</td>\n",
       "      <td>0.00</td>\n",
       "      <td>0.00</td>\n",
       "      <td>0.00</td>\n",
       "      <td>0.00</td>\n",
       "      <td>0.00</td>\n",
       "      <td>...</td>\n",
       "      <td>0.00</td>\n",
       "      <td>0.000</td>\n",
       "      <td>0.0</td>\n",
       "      <td>0.778</td>\n",
       "      <td>0.000</td>\n",
       "      <td>0.000</td>\n",
       "      <td>3.756</td>\n",
       "      <td>61</td>\n",
       "      <td>278</td>\n",
       "      <td>spam</td>\n",
       "    </tr>\n",
       "    <tr>\n",
       "      <th>1</th>\n",
       "      <td>0.21</td>\n",
       "      <td>0.28</td>\n",
       "      <td>0.50</td>\n",
       "      <td>0.0</td>\n",
       "      <td>0.14</td>\n",
       "      <td>0.28</td>\n",
       "      <td>0.21</td>\n",
       "      <td>0.07</td>\n",
       "      <td>0.00</td>\n",
       "      <td>0.94</td>\n",
       "      <td>...</td>\n",
       "      <td>0.00</td>\n",
       "      <td>0.132</td>\n",
       "      <td>0.0</td>\n",
       "      <td>0.372</td>\n",
       "      <td>0.180</td>\n",
       "      <td>0.048</td>\n",
       "      <td>5.114</td>\n",
       "      <td>101</td>\n",
       "      <td>1028</td>\n",
       "      <td>spam</td>\n",
       "    </tr>\n",
       "    <tr>\n",
       "      <th>2</th>\n",
       "      <td>0.06</td>\n",
       "      <td>0.00</td>\n",
       "      <td>0.71</td>\n",
       "      <td>0.0</td>\n",
       "      <td>1.23</td>\n",
       "      <td>0.19</td>\n",
       "      <td>0.19</td>\n",
       "      <td>0.12</td>\n",
       "      <td>0.64</td>\n",
       "      <td>0.25</td>\n",
       "      <td>...</td>\n",
       "      <td>0.01</td>\n",
       "      <td>0.143</td>\n",
       "      <td>0.0</td>\n",
       "      <td>0.276</td>\n",
       "      <td>0.184</td>\n",
       "      <td>0.010</td>\n",
       "      <td>9.821</td>\n",
       "      <td>485</td>\n",
       "      <td>2259</td>\n",
       "      <td>spam</td>\n",
       "    </tr>\n",
       "  </tbody>\n",
       "</table>\n",
       "<p>3 rows × 58 columns</p>\n",
       "</div>"
      ],
      "text/plain": [
       "   make  address   all  num3d   our  over  remove  internet  order  mail  ...  \\\n",
       "0  0.00     0.64  0.64    0.0  0.32  0.00    0.00      0.00   0.00  0.00  ...   \n",
       "1  0.21     0.28  0.50    0.0  0.14  0.28    0.21      0.07   0.00  0.94  ...   \n",
       "2  0.06     0.00  0.71    0.0  1.23  0.19    0.19      0.12   0.64  0.25  ...   \n",
       "\n",
       "   charSemicolon  charRoundbracket  charSquarebracket  charExclamation  \\\n",
       "0           0.00             0.000                0.0            0.778   \n",
       "1           0.00             0.132                0.0            0.372   \n",
       "2           0.01             0.143                0.0            0.276   \n",
       "\n",
       "   charDollar  charHash  capitalAve  capitalLong  capitalTotal  type  \n",
       "0       0.000     0.000       3.756           61           278  spam  \n",
       "1       0.180     0.048       5.114          101          1028  spam  \n",
       "2       0.184     0.010       9.821          485          2259  spam  \n",
       "\n",
       "[3 rows x 58 columns]"
      ]
     },
     "execution_count": 41,
     "metadata": {},
     "output_type": "execute_result"
    }
   ],
   "source": [
    "# Datos\n",
    "# ==============================================================================\n",
    "url = 'https://raw.githubusercontent.com/JoaquinAmatRodrigo/' \\\n",
    "       + 'Estadistica-machine-learning-python/master/data/spam.csv'\n",
    "datos = pd.read_csv(url)\n",
    "datos.head(3)"
   ]
  },
  {
   "cell_type": "code",
   "execution_count": 42,
   "metadata": {
    "ExecuteTime": {
     "end_time": "2021-09-01T11:21:49.239235Z",
     "start_time": "2021-09-01T11:21:49.218291Z"
    }
   },
   "outputs": [
    {
     "name": "stdout",
     "output_type": "stream",
     "text": [
      "Número de observaciones por clase\n",
      "0    2788\n",
      "1    1813\n",
      "Name: type, dtype: int64\n",
      "\n",
      "Porcentaje de observaciones por clase\n",
      "0    60.595523\n",
      "1    39.404477\n",
      "Name: type, dtype: float64\n"
     ]
    }
   ],
   "source": [
    "datos['type'] = np.where(datos['type'] == 'spam', 1, 0)\n",
    "\n",
    "print(\"Número de observaciones por clase\")\n",
    "print(datos['type'].value_counts())\n",
    "print(\"\")\n",
    "\n",
    "print(\"Porcentaje de observaciones por clase\")\n",
    "print(100 * datos['type'].value_counts(normalize=True))"
   ]
  },
  {
   "cell_type": "code",
   "execution_count": 43,
   "metadata": {
    "ExecuteTime": {
     "end_time": "2021-09-01T11:27:16.481837Z",
     "start_time": "2021-09-01T11:27:16.447927Z"
    }
   },
   "outputs": [],
   "source": [
    "# División de los datos en train y test\n",
    "# ==============================================================================\n",
    "X = datos.drop(columns = 'type')\n",
    "y = datos['type']\n",
    "\n",
    "X_train, X_test, y_train, y_test = train_test_split(\n",
    "                                        X,\n",
    "                                        y.values.reshape(-1,1),\n",
    "                                        train_size   = 0.8,\n",
    "                                        random_state = 1234,\n",
    "                                        shuffle      = True\n",
    "                                    )"
   ]
  },
  {
   "cell_type": "code",
   "execution_count": 44,
   "metadata": {
    "ExecuteTime": {
     "end_time": "2021-09-01T11:27:28.197254Z",
     "start_time": "2021-09-01T11:27:28.045678Z"
    }
   },
   "outputs": [
    {
     "name": "stdout",
     "output_type": "stream",
     "text": [
      "Optimization terminated successfully.\n",
      "         Current function value: 0.200751\n",
      "         Iterations 15\n",
      "                           Logit Regression Results                           \n",
      "==============================================================================\n",
      "Dep. Variable:                      y   No. Observations:                 3680\n",
      "Model:                          Logit   Df Residuals:                     3622\n",
      "Method:                           MLE   Df Model:                           57\n",
      "Date:                Wed, 01 Sep 2021   Pseudo R-squ.:                  0.7009\n",
      "Time:                        13:27:28   Log-Likelihood:                -738.76\n",
      "converged:                       True   LL-Null:                       -2469.6\n",
      "Covariance Type:            nonrobust   LLR p-value:                     0.000\n",
      "=====================================================================================\n",
      "                        coef    std err          z      P>|z|      [0.025      0.975]\n",
      "-------------------------------------------------------------------------------------\n",
      "const                -1.5530      0.156     -9.956      0.000      -1.859      -1.247\n",
      "make                 -0.3077      0.255     -1.205      0.228      -0.808       0.193\n",
      "address              -0.1464      0.079     -1.860      0.063      -0.301       0.008\n",
      "all                   0.0882      0.125      0.705      0.481      -0.157       0.333\n",
      "num3d                 2.2531      1.454      1.550      0.121      -0.596       5.103\n",
      "our                   0.7254      0.128      5.682      0.000       0.475       0.976\n",
      "over                  0.7286      0.255      2.859      0.004       0.229       1.228\n",
      "remove                1.9991      0.332      6.022      0.000       1.348       2.650\n",
      "internet              0.5267      0.183      2.884      0.004       0.169       0.885\n",
      "order                 0.6556      0.316      2.076      0.038       0.037       1.274\n",
      "mail                  0.0833      0.075      1.106      0.269      -0.064       0.231\n",
      "receive              -0.1917      0.333     -0.576      0.565      -0.844       0.461\n",
      "will                 -0.1788      0.087     -2.050      0.040      -0.350      -0.008\n",
      "people               -0.1835      0.251     -0.732      0.464      -0.675       0.308\n",
      "report                0.1589      0.156      1.016      0.310      -0.148       0.466\n",
      "addresses             1.0691      0.710      1.507      0.132      -0.322       2.460\n",
      "free                  1.0272      0.163      6.309      0.000       0.708       1.346\n",
      "business              1.0484      0.258      4.059      0.000       0.542       1.555\n",
      "email                 0.0832      0.131      0.634      0.526      -0.174       0.340\n",
      "you                   0.0760      0.040      1.894      0.058      -0.003       0.155\n",
      "credit                1.4274      0.750      1.903      0.057      -0.043       2.897\n",
      "your                  0.2196      0.057      3.826      0.000       0.107       0.332\n",
      "font                  0.2320      0.192      1.208      0.227      -0.144       0.608\n",
      "num000                2.3195      0.540      4.296      0.000       1.261       3.378\n",
      "money                 0.3512      0.146      2.403      0.016       0.065       0.638\n",
      "hp                   -1.8795      0.320     -5.880      0.000      -2.506      -1.253\n",
      "hpl                  -1.1604      0.486     -2.387      0.017      -2.113      -0.207\n",
      "george              -12.9370      2.497     -5.182      0.000     -17.830      -8.044\n",
      "num650                0.4662      0.208      2.243      0.025       0.059       0.874\n",
      "lab                  -3.9850      2.593     -1.537      0.124      -9.067       1.097\n",
      "labs                 -0.1316      0.342     -0.385      0.700      -0.801       0.538\n",
      "telnet                1.0132      0.884      1.146      0.252      -0.720       2.746\n",
      "num857                2.3901      3.536      0.676      0.499      -4.541       9.321\n",
      "data                 -0.7578      0.363     -2.086      0.037      -1.470      -0.046\n",
      "num415                0.8594      1.678      0.512      0.608      -2.429       4.147\n",
      "num85                -1.9348      0.870     -2.225      0.026      -3.639      -0.231\n",
      "technology            0.8951      0.354      2.529      0.011       0.201       1.589\n",
      "num1999               0.0493      0.204      0.241      0.809      -0.351       0.449\n",
      "parts                 1.9359      1.232      1.571      0.116      -0.480       4.351\n",
      "pm                   -0.9294      0.464     -2.001      0.045      -1.840      -0.019\n",
      "direct               -0.3704      0.432     -0.857      0.391      -1.217       0.477\n",
      "cs                  -43.9842     27.447     -1.603      0.109     -97.779       9.811\n",
      "meeting              -3.0673      0.988     -3.104      0.002      -5.004      -1.130\n",
      "original             -0.8759      0.810     -1.082      0.279      -2.463       0.711\n",
      "project              -1.6666      0.583     -2.858      0.004      -2.809      -0.524\n",
      "re                   -0.8289      0.171     -4.856      0.000      -1.163      -0.494\n",
      "edu                  -1.1653      0.268     -4.355      0.000      -1.690      -0.641\n",
      "table                -2.0108      1.691     -1.189      0.234      -5.326       1.304\n",
      "conference           -5.0363      2.136     -2.358      0.018      -9.223      -0.850\n",
      "charSemicolon        -1.2001      0.491     -2.443      0.015      -2.163      -0.237\n",
      "charRoundbracket     -0.2822      0.278     -1.015      0.310      -0.827       0.263\n",
      "charSquarebracket    -0.8608      1.059     -0.813      0.416      -2.937       1.215\n",
      "charExclamation       0.2735      0.072      3.798      0.000       0.132       0.415\n",
      "charDollar            5.7530      0.836      6.880      0.000       4.114       7.392\n",
      "charHash              1.4144      1.287      1.099      0.272      -1.108       3.936\n",
      "capitalAve            0.0389      0.021      1.842      0.066      -0.002       0.080\n",
      "capitalLong           0.0048      0.003      1.799      0.072      -0.000       0.010\n",
      "capitalTotal          0.0014      0.000      5.068      0.000       0.001       0.002\n",
      "=====================================================================================\n",
      "\n",
      "Possibly complete quasi-separation: A fraction 0.28 of observations can be\n",
      "perfectly predicted. This might indicate that there is complete\n",
      "quasi-separation. In this case some parameters will not be identified.\n"
     ]
    }
   ],
   "source": [
    "# Creación del modelo utilizando matrices como en scikitlearn\n",
    "# ==============================================================================\n",
    "# A la matriz de predictores se le tiene que añadir una columna de 1s para el intercept del modelo\n",
    "X_train = sm.add_constant(X_train, prepend=True)\n",
    "modelo = sm.Logit(endog=y_train, exog=X_train,)\n",
    "modelo = modelo.fit()\n",
    "print(modelo.summary())"
   ]
  },
  {
   "cell_type": "code",
   "execution_count": 45,
   "metadata": {
    "ExecuteTime": {
     "end_time": "2021-09-01T11:27:47.127249Z",
     "start_time": "2021-09-01T11:27:47.113288Z"
    }
   },
   "outputs": [
    {
     "data": {
      "text/plain": [
       "array([0, 0, 0, ..., 1, 1, 0])"
      ]
     },
     "execution_count": 45,
     "metadata": {},
     "output_type": "execute_result"
    }
   ],
   "source": [
    "# Predicciones con intervalo de confianza \n",
    "# ==============================================================================\n",
    "predicciones = modelo.predict(exog = X_train)\n",
    "\n",
    "# Clasificación predicha\n",
    "# ==============================================================================\n",
    "clasificacion = np.where(predicciones<0.5, 0, 1)\n",
    "clasificacion"
   ]
  },
  {
   "cell_type": "code",
   "execution_count": 46,
   "metadata": {
    "ExecuteTime": {
     "end_time": "2021-09-01T11:28:00.447512Z",
     "start_time": "2021-09-01T11:28:00.422581Z"
    }
   },
   "outputs": [
    {
     "name": "stdout",
     "output_type": "stream",
     "text": [
      "\n",
      "El accuracy de test es: 92.83387622149837%\n"
     ]
    }
   ],
   "source": [
    "# Accuracy de test del modelo \n",
    "# ==============================================================================\n",
    "X_test = sm.add_constant(X_test, prepend=True)\n",
    "predicciones = modelo.predict(exog = X_test)\n",
    "clasificacion = np.where(predicciones<0.5, 0, 1)\n",
    "accuracy = accuracy_score(\n",
    "            y_true    = y_test,\n",
    "            y_pred    = clasificacion,\n",
    "            normalize = True\n",
    "           )\n",
    "print(\"\")\n",
    "print(f\"El accuracy de test es: {100*accuracy}%\")"
   ]
  },
  {
   "cell_type": "code",
   "execution_count": 47,
   "metadata": {
    "ExecuteTime": {
     "end_time": "2021-09-01T11:28:00.870111Z",
     "start_time": "2021-09-01T11:28:00.766832Z"
    }
   },
   "outputs": [
    {
     "data": {
      "text/html": [
       "<div>\n",
       "<style scoped>\n",
       "    .dataframe tbody tr th:only-of-type {\n",
       "        vertical-align: middle;\n",
       "    }\n",
       "\n",
       "    .dataframe tbody tr th {\n",
       "        vertical-align: top;\n",
       "    }\n",
       "\n",
       "    .dataframe thead th {\n",
       "        text-align: right;\n",
       "    }\n",
       "</style>\n",
       "<table border=\"1\" class=\"dataframe\">\n",
       "  <thead>\n",
       "    <tr style=\"text-align: right;\">\n",
       "      <th>Predicción</th>\n",
       "      <th>0</th>\n",
       "      <th>1</th>\n",
       "    </tr>\n",
       "    <tr>\n",
       "      <th>Real</th>\n",
       "      <th></th>\n",
       "      <th></th>\n",
       "    </tr>\n",
       "  </thead>\n",
       "  <tbody>\n",
       "    <tr>\n",
       "      <th>0</th>\n",
       "      <td>535</td>\n",
       "      <td>28</td>\n",
       "    </tr>\n",
       "    <tr>\n",
       "      <th>1</th>\n",
       "      <td>38</td>\n",
       "      <td>320</td>\n",
       "    </tr>\n",
       "  </tbody>\n",
       "</table>\n",
       "</div>"
      ],
      "text/plain": [
       "Predicción    0    1\n",
       "Real                \n",
       "0           535   28\n",
       "1            38  320"
      ]
     },
     "execution_count": 47,
     "metadata": {},
     "output_type": "execute_result"
    }
   ],
   "source": [
    "# Matriz de confusión de las predicciones de test\n",
    "# ==============================================================================\n",
    "confusion_matrix = pd.crosstab(\n",
    "    y_test.ravel(),\n",
    "    clasificacion,\n",
    "    rownames=['Real'],\n",
    "    colnames=['Predicción']\n",
    ")\n",
    "confusion_matrix"
   ]
  },
  {
   "cell_type": "code",
   "execution_count": 82,
   "metadata": {
    "ExecuteTime": {
     "end_time": "2021-09-01T11:57:12.019099Z",
     "start_time": "2021-09-01T11:57:12.004130Z"
    }
   },
   "outputs": [
    {
     "data": {
      "text/plain": [
       "535"
      ]
     },
     "execution_count": 82,
     "metadata": {},
     "output_type": "execute_result"
    }
   ],
   "source": [
    "a = y_test.ravel()\n",
    "len(a[(clasificacion == 0) & (a == 0)])"
   ]
  },
  {
   "cell_type": "code",
   "execution_count": 76,
   "metadata": {
    "ExecuteTime": {
     "end_time": "2021-09-01T11:56:06.558846Z",
     "start_time": "2021-09-01T11:56:06.543886Z"
    }
   },
   "outputs": [
    {
     "data": {
      "text/plain": [
       "358"
      ]
     },
     "execution_count": 76,
     "metadata": {},
     "output_type": "execute_result"
    }
   ],
   "source": [
    "len(clasificacion) - len(clasificacion[a == 0])"
   ]
  },
  {
   "cell_type": "code",
   "execution_count": null,
   "metadata": {},
   "outputs": [],
   "source": []
  }
 ],
 "metadata": {
  "kernelspec": {
   "display_name": "cienciadedatos",
   "language": "python",
   "name": "cienciadedatos"
  },
  "language_info": {
   "codemirror_mode": {
    "name": "ipython",
    "version": 3
   },
   "file_extension": ".py",
   "mimetype": "text/x-python",
   "name": "python",
   "nbconvert_exporter": "python",
   "pygments_lexer": "ipython3",
   "version": "3.7.9"
  },
  "toc": {
   "base_numbering": 1,
   "nav_menu": {},
   "number_sections": true,
   "sideBar": true,
   "skip_h1_title": false,
   "title_cell": "Table of Contents",
   "title_sidebar": "Contents",
   "toc_cell": false,
   "toc_position": {
    "height": "calc(100% - 180px)",
    "left": "10px",
    "top": "150px",
    "width": "245.825px"
   },
   "toc_section_display": true,
   "toc_window_display": true
  },
  "varInspector": {
   "cols": {
    "lenName": 16,
    "lenType": 16,
    "lenVar": 40
   },
   "kernels_config": {
    "python": {
     "delete_cmd_postfix": "",
     "delete_cmd_prefix": "del ",
     "library": "var_list.py",
     "varRefreshCmd": "print(var_dic_list())"
    },
    "r": {
     "delete_cmd_postfix": ") ",
     "delete_cmd_prefix": "rm(",
     "library": "var_list.r",
     "varRefreshCmd": "cat(var_dic_list()) "
    }
   },
   "types_to_exclude": [
    "module",
    "function",
    "builtin_function_or_method",
    "instance",
    "_Feature"
   ],
   "window_display": false
  }
 },
 "nbformat": 4,
 "nbformat_minor": 4
}
