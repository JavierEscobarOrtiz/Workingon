{
 "cells": [
  {
   "cell_type": "code",
   "execution_count": 2,
   "metadata": {
    "ExecuteTime": {
     "end_time": "2022-02-18T09:39:25.385608Z",
     "start_time": "2022-02-18T09:39:25.380990Z"
    }
   },
   "outputs": [],
   "source": [
    "# Unit test _backtesting_forecaster_no_refit\n",
    "# ==============================================================================\n",
    "import pytest\n",
    "from pytest import approx\n",
    "import numpy as np\n",
    "import pandas as pd\n",
    "from skforecast.ForecasterAutoreg import ForecasterAutoreg\n",
    "from skforecast.model_selection.model_selection import _backtesting_forecaster_no_refit\n",
    "from sklearn.linear_model import LinearRegression\n",
    "from sklearn.metrics import mean_squared_error "
   ]
  },
  {
   "cell_type": "code",
   "execution_count": 8,
   "metadata": {
    "ExecuteTime": {
     "end_time": "2022-02-18T09:45:05.002619Z",
     "start_time": "2022-02-18T09:45:04.979550Z"
    }
   },
   "outputs": [
    {
     "name": "stdout",
     "output_type": "stream",
     "text": [
      "[3.26621983e-29]    pred\n",
      "3   3.0\n",
      "4   4.0\n",
      "5   5.0\n",
      "6   6.0\n"
     ]
    }
   ],
   "source": [
    "y=pd.Series(np.arange(50), index=pd.data_range('2021-01-01', periods=50, freq='1D'))\n",
    "forecaster = ForecasterAutoreg(LinearRegression(), lags=3)\n",
    "forecaster.fit(y=y)\n",
    "\n",
    "metric, predictions_backtest = _backtesting_forecaster_no_refit(\n",
    "                                    forecaster          = forecaster,\n",
    "                                    y                   = y,\n",
    "                                    steps               = 3,\n",
    "                                    metric              = 'mean_squared_error',\n",
    "                                    initial_train_size  = None,\n",
    "                                    exog                = None,\n",
    "                                    interval            = None,\n",
    "                                    n_boot              = 500,\n",
    "                                    random_state        = 123,\n",
    "                                    in_sample_residuals = True,\n",
    "                                    verbose             = False\n",
    "                               )\n",
    "\n",
    "print(metric, predictions_backtest[:4])"
   ]
  },
  {
   "cell_type": "code",
   "execution_count": 5,
   "metadata": {},
   "outputs": [
    {
     "data": {
      "text/plain": [
       "2021-01-01     0\n",
       "2021-01-02     1\n",
       "2021-01-03     2\n",
       "2021-01-04     3\n",
       "2021-01-05     4\n",
       "2021-01-06     5\n",
       "2021-01-07     6\n",
       "2021-01-08     7\n",
       "2021-01-09     8\n",
       "2021-01-10     9\n",
       "2021-01-11    10\n",
       "2021-01-12    11\n",
       "2021-01-13    12\n",
       "2021-01-14    13\n",
       "2021-01-15    14\n",
       "2021-01-16    15\n",
       "2021-01-17    16\n",
       "2021-01-18    17\n",
       "2021-01-19    18\n",
       "2021-01-20    19\n",
       "2021-01-21    20\n",
       "2021-01-22    21\n",
       "2021-01-23    22\n",
       "2021-01-24    23\n",
       "2021-01-25    24\n",
       "2021-01-26    25\n",
       "2021-01-27    26\n",
       "2021-01-28    27\n",
       "2021-01-29    28\n",
       "2021-01-30    29\n",
       "2021-01-31    30\n",
       "2021-02-01    31\n",
       "2021-02-02    32\n",
       "2021-02-03    33\n",
       "2021-02-04    34\n",
       "2021-02-05    35\n",
       "2021-02-06    36\n",
       "2021-02-07    37\n",
       "2021-02-08    38\n",
       "2021-02-09    39\n",
       "2021-02-10    40\n",
       "2021-02-11    41\n",
       "2021-02-12    42\n",
       "2021-02-13    43\n",
       "2021-02-14    44\n",
       "2021-02-15    45\n",
       "2021-02-16    46\n",
       "2021-02-17    47\n",
       "2021-02-18    48\n",
       "2021-02-19    49\n",
       "Freq: D, dtype: int64"
      ]
     },
     "execution_count": 5,
     "metadata": {},
     "output_type": "execute_result"
    }
   ],
   "source": [
    "y=pd.Series(np.arange(50), index=pd.date_range('2021-01-01', periods=50, freq='1D'))\n",
    "y"
   ]
  },
  {
   "cell_type": "code",
   "execution_count": 4,
   "metadata": {
    "ExecuteTime": {
     "end_time": "2022-02-18T09:40:13.903673Z",
     "start_time": "2022-02-18T09:40:13.887857Z"
    }
   },
   "outputs": [],
   "source": [
    "forecaster = ForecasterAutoreg(LinearRegression(), lags=3)\n",
    "forecaster.fit(y=pd.Series(np.arange(50)))\n",
    "expected = pd.Series(np.array([47, 48, 49]), index=[47, 48, 49])"
   ]
  },
  {
   "cell_type": "code",
   "execution_count": null,
   "metadata": {},
   "outputs": [],
   "source": []
  },
  {
   "cell_type": "code",
   "execution_count": null,
   "metadata": {},
   "outputs": [],
   "source": []
  }
 ],
 "metadata": {
  "kernelspec": {
   "display_name": "skforecast",
   "language": "python",
   "name": "skforecast"
  },
  "language_info": {
   "codemirror_mode": {
    "name": "ipython",
    "version": 3
   },
   "file_extension": ".py",
   "mimetype": "text/x-python",
   "name": "python",
   "nbconvert_exporter": "python",
   "pygments_lexer": "ipython3",
   "version": "3.7.9"
  },
  "toc": {
   "base_numbering": 1,
   "nav_menu": {},
   "number_sections": true,
   "sideBar": true,
   "skip_h1_title": false,
   "title_cell": "Table of Contents",
   "title_sidebar": "Contents",
   "toc_cell": false,
   "toc_position": {},
   "toc_section_display": true,
   "toc_window_display": false
  },
  "varInspector": {
   "cols": {
    "lenName": 16,
    "lenType": 16,
    "lenVar": 40
   },
   "kernels_config": {
    "python": {
     "delete_cmd_postfix": "",
     "delete_cmd_prefix": "del ",
     "library": "var_list.py",
     "varRefreshCmd": "print(var_dic_list())"
    },
    "r": {
     "delete_cmd_postfix": ") ",
     "delete_cmd_prefix": "rm(",
     "library": "var_list.r",
     "varRefreshCmd": "cat(var_dic_list()) "
    }
   },
   "types_to_exclude": [
    "module",
    "function",
    "builtin_function_or_method",
    "instance",
    "_Feature"
   ],
   "window_display": false
  }
 },
 "nbformat": 4,
 "nbformat_minor": 5
}
