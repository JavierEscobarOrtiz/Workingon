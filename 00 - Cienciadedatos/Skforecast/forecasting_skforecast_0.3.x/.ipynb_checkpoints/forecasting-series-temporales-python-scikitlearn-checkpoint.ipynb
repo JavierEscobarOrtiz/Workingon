{
 "cells": [
  {
   "cell_type": "markdown",
   "metadata": {},
   "source": [
    " "
   ]
  },
  {
   "cell_type": "markdown",
   "metadata": {},
   "source": [
    "<h1><center><font size=\"25\">Forecasting series temporales con Python y Scikitlearn</font></center></h1>"
   ]
  },
  {
   "cell_type": "markdown",
   "metadata": {},
   "source": [
    "<center><b>Joaquín Amat Rodrigo</b></center>\n",
    "\n",
    "<center><i>Febrero, 2020</i></center>"
   ]
  },
  {
   "cell_type": "markdown",
   "metadata": {},
   "source": [
    "Más sobre ciencia de datos: [**cienciadedatos.net**](https://cienciadedatos.net)"
   ]
  },
  {
   "cell_type": "markdown",
   "metadata": {},
   "source": [
    "## Introducción\n",
    "<br>\n",
    "\n",
    "Una [serie temporal](https://es.wikipedia.org/wiki/Serie_temporal) (*time series*) es una sucesión de datos ordenados cronológicamente, espaciados a intervalos iguales o desiguales. \n",
    "\n",
    "[*Forecasting*](https://en.wikipedia.org/wiki/Forecasting) consiste en predecir el valor futuro de una serie temporal, bien modelando la serie temporal únicamente en función de su comportamiento pasado (autoregresivo) o empleando otras variables externas a la serie temporal.\n",
    "\n",
    "A lo largo de este documento, se describe cómo utilizar modelos de regresión de **Scikit learn** para realizar *forecaster* sobre series temporales.\n",
    "<br><br>"
   ]
  },
  {
   "cell_type": "markdown",
   "metadata": {},
   "source": [
    "## Forecasting\n",
    "<br>\n",
    "\n",
    "Cunado se trabaja con series temporales, raramente se necesita predecir el siguiente elemento de la serie ($t_{+1}$), sino todo un intervalo futuro o un punto alejado en el tiempo ($t_{+n}$). \n",
    "\n",
    "Dado que, para predecir el momento $t_{+2}$ se necesita el valor de $t_{+1}$, y $t_{+1}$ se desconoce, es necesario hacer predicciones recursivas en las que, cada nueva predicción, se basa en la predicción anterior. A este proceso se le conoce *recursive forecasting* o *multi-step forecasting* y es la principal diferencia a respecto a los problemas de regresión convencionales."
   ]
  },
  {
   "cell_type": "code",
   "execution_count": 2,
   "metadata": {
    "code_folding": [],
    "hide_input": true,
    "remove_cell": true,
    "tags": [
     "\"hide_input\""
    ]
   },
   "outputs": [
    {
     "name": "stderr",
     "output_type": "stream",
     "text": [
      "In /home/ubuntu/miniconda3/envs/cienciadedatos/lib/python3.7/site-packages/matplotlib/mpl-data/stylelib/_classic_test.mplstyle: \n",
      "The text.latex.preview rcparam was deprecated in Matplotlib 3.3 and will be removed two minor releases later.\n",
      "In /home/ubuntu/miniconda3/envs/cienciadedatos/lib/python3.7/site-packages/matplotlib/mpl-data/stylelib/_classic_test.mplstyle: \n",
      "The mathtext.fallback_to_cm rcparam was deprecated in Matplotlib 3.3 and will be removed two minor releases later.\n",
      "In /home/ubuntu/miniconda3/envs/cienciadedatos/lib/python3.7/site-packages/matplotlib/mpl-data/stylelib/_classic_test.mplstyle: Support for setting the 'mathtext.fallback_to_cm' rcParam is deprecated since 3.3 and will be removed two minor releases later; use 'mathtext.fallback : 'cm' instead.\n",
      "In /home/ubuntu/miniconda3/envs/cienciadedatos/lib/python3.7/site-packages/matplotlib/mpl-data/stylelib/_classic_test.mplstyle: \n",
      "The validate_bool_maybe_none function was deprecated in Matplotlib 3.3 and will be removed two minor releases later.\n",
      "In /home/ubuntu/miniconda3/envs/cienciadedatos/lib/python3.7/site-packages/matplotlib/mpl-data/stylelib/_classic_test.mplstyle: \n",
      "The savefig.jpeg_quality rcparam was deprecated in Matplotlib 3.3 and will be removed two minor releases later.\n",
      "In /home/ubuntu/miniconda3/envs/cienciadedatos/lib/python3.7/site-packages/matplotlib/mpl-data/stylelib/_classic_test.mplstyle: \n",
      "The keymap.all_axes rcparam was deprecated in Matplotlib 3.3 and will be removed two minor releases later.\n",
      "In /home/ubuntu/miniconda3/envs/cienciadedatos/lib/python3.7/site-packages/matplotlib/mpl-data/stylelib/_classic_test.mplstyle: \n",
      "The animation.avconv_path rcparam was deprecated in Matplotlib 3.3 and will be removed two minor releases later.\n",
      "In /home/ubuntu/miniconda3/envs/cienciadedatos/lib/python3.7/site-packages/matplotlib/mpl-data/stylelib/_classic_test.mplstyle: \n",
      "The animation.avconv_args rcparam was deprecated in Matplotlib 3.3 and will be removed two minor releases later.\n"
     ]
    }
   ],
   "source": [
    "import gif\n",
    "import numpy as np\n",
    "import matplotlib.pyplot as plt\n",
    "import pandas as pd\n",
    "\n",
    "np.random.seed(1234)\n",
    "y = 10 * np.sin(np.arange(0, 10, 0.1))\n",
    "y = y + np.random.normal(loc=0.0, scale=4, size = len(y))\n",
    "datetime = pd.date_range(start='1/1/2020', periods=len(y), freq='D')\n",
    "datos = pd.Series(y, index=datetime)\n",
    "\n",
    "# fig, ax = plt.subplots(figsize=(9, 4))\n",
    "# datos[:-30].plot(ax=ax, c='c', marker='o', label='pasado',  zorder=3)\n",
    "# datos[-31:].plot(ax=ax, c='gray', label='futuro')\n",
    "# datos[-30:-15].plot(ax=ax, c='red', marker='o', linestyle='',\n",
    "#                        label='Valores predichos')\n",
    "# datos[[-15]].plot(ax=ax, c='red', marker='X', linestyle='', markersize=12,\n",
    "#                        label='Valor a predecir')\n",
    "# ax.set_title('Predecir un intervalo a futuro')\n",
    "# ax.legend();\n",
    "\n",
    "frames = []\n",
    "\n",
    "@gif.frame\n",
    "def custom_plot(i, j):\n",
    "    fig, ax = plt.subplots(figsize=(9, 4))\n",
    "    datos[:-30].plot(ax=ax, c='c', marker='o', label='pasado',  zorder=3)\n",
    "    datos[-31:].plot(ax=ax, c='gray', label='futuro')\n",
    "    \n",
    "    datos.iloc[len(datos)-30:i+1].plot(ax=ax, c='red', marker='o', linestyle='',\n",
    "                                       label='valor predicho')\n",
    "    \n",
    "    datos.iloc[[i]].plot(ax=ax, c='red', marker='X', linestyle='',\n",
    "                         markersize=12,label='valor a predecir')\n",
    "    ax.set_title(f'Forecasting recursivo (multi-step): (t+{j})')\n",
    "    ax.legend()\n",
    "    \n",
    "    return(ax)\n",
    "\n",
    "j=1\n",
    "for i in range(len(datos)-30, len(datos)):\n",
    "    frame = custom_plot(i, j)\n",
    "    frames.append(frame)\n",
    "    j+=1\n",
    "    \n",
    "gif.save(frames, './images/forecasting_multi-step.gif', duration=10, unit=\"s\", between=\"startend\")"
   ]
  },
  {
   "cell_type": "markdown",
   "metadata": {},
   "source": [
    "![forecasting-python](./images/forecasting_multi-step.gif \"forecasting-python\")"
   ]
  },
  {
   "cell_type": "markdown",
   "metadata": {},
   "source": [
    "## Forecasting autoregresivo con scikitlearn"
   ]
  },
  {
   "cell_type": "markdown",
   "metadata": {},
   "source": [
    "La principal adaptacin para aplicar modelos de scikitlearn a problemas de forecasting es transformar una serie temporal\n",
    "a un matriz en la que, cada valor está asociado con la ventana temporal (lags) que le preceden."
   ]
  },
  {
   "cell_type": "markdown",
   "metadata": {},
   "source": [
    "![forecasting-python](./images/transform_timeseries.gif \"forecasting-python\")"
   ]
  },
  {
   "cell_type": "markdown",
   "metadata": {},
   "source": [
    "### Funciones auxiliares"
   ]
  },
  {
   "cell_type": "code",
   "execution_count": 109,
   "metadata": {},
   "outputs": [],
   "source": [
    "# Funciones auxiliares\n",
    "# ==============================================================================\n",
    "\n",
    "import numpy as np\n",
    "from sklearn.linear_model import LinearRegression\n",
    "from sklearn.linear_model import Lasso\n",
    "from sklearn.ensemble import RandomForestRegressor\n",
    "from sklearn.metrics import mean_squared_error\n",
    "\n",
    "def transform_ts_to_matrix(serie, window_size, return_index=False, verbose=False):\n",
    "    '''\n",
    "    Esta función combierte una serie en una matriz de ventanas temporales\n",
    "    donde, cada valor de y, está asociado a la ventana temporal de tamaño\n",
    "    `window_size` que le precede.\n",
    "    '''\n",
    "    \n",
    "    # Número de divisiones (ventanas)\n",
    "    n_splits = len(serie) - window_size\n",
    "    \n",
    "    # Matriz donde almacenar los índices que forman cada ventana de datos\n",
    "    X_index = np.full(shape=(n_splits, window_size), fill_value=np.nan, dtype=serie.index.dtype)\n",
    "    y_index = np.full(shape=(n_splits, 1) , fill_value=np.nan, dtype=serie.index.dtype)\n",
    "    \n",
    "    # Matriz donde almacenar los datos que forman parte de cada ventana\n",
    "    X_data  = np.full(shape=(n_splits, window_size), fill_value=np.nan, dtype= float)\n",
    "    y_data  = np.full(shape=(n_splits, 1), fill_value=np.nan, dtype= float)\n",
    "    \n",
    "    for i in range(n_splits):\n",
    "        \n",
    "        train_index = np.array(serie.index[i : window_size + i])\n",
    "        test_index  = serie.index[window_size + i]\n",
    "        \n",
    "        if verbose:\n",
    "            print(\"TRAIN:\", train_index, \"TEST:\", test_index)\n",
    "            \n",
    "        X_index[i, :] = train_index\n",
    "        y_index[i]    = test_index\n",
    "\n",
    "        X_data[i, :] = serie[train_index]\n",
    "        y_data[i]    = serie[test_index]\n",
    "    \n",
    "    if return_index:\n",
    "        return X_index, y_index\n",
    "    else:\n",
    "        return X_data, y_data\n",
    "    \n",
    "\n",
    "def ts_train_test_split(serie, test_size=2, window_size=10, return_index=False, verbose=False):\n",
    "    '''\n",
    "    Esta función combierte una serie en una matriz de ventanas temporales\n",
    "    donde, cada valor de y, está asociado a la ventana temporal de tamaño\n",
    "    `window_size` que le precede. Después, la divide en dos partes (train y test).\n",
    "    '''\n",
    "    X, y = transform_ts_to_matrix(\n",
    "                serie        = serie,\n",
    "                window_size  = window_size,\n",
    "                return_index = return_index,\n",
    "                verbose      = verbose\n",
    "            )\n",
    "    X_train = X[:-test_size, :]\n",
    "    y_train = y[:-test_size]\n",
    "    X_test  = X[-test_size, :].reshape(1, -1)\n",
    "    y_test  = y[-test_size:]\n",
    "    \n",
    "    return X_train, X_test, y_train, y_test\n",
    "\n",
    "\n",
    "def forecaster_predict(modelo, X_test, steps):\n",
    "    '''\n",
    "    Proceso de predicción recursiva en el que cada predicción se utiliza como\n",
    "    predictor de la siguiente predicción.\n",
    "    '''\n",
    "\n",
    "    predicciones = predicciones = np.full(shape=steps, fill_value=np.nan)\n",
    "\n",
    "    for i in range(steps):\n",
    "\n",
    "        prediccion = modelo.predict(X_test).flatten()[0]\n",
    "        predicciones[i] = prediccion\n",
    "\n",
    "        # Actualizar valores de X_test\n",
    "        X_test = X_test.flatten()\n",
    "        X_test = np.append(X_test[1:], prediccion)\n",
    "        X_test = X_test.reshape(1, -1)\n",
    "\n",
    "\n",
    "    return(predicciones)\n",
    "\n",
    "def extender_indice(index, steps):\n",
    "    '''\n",
    "    Extender índice temporal con n elementos, manteniendo la frecuencia del\n",
    "    índice.\n",
    "    '''\n",
    "    new_index = index.union([index[-1] + steps*datos.index.freq])\n",
    "    \n",
    "    return new_index"
   ]
  },
  {
   "cell_type": "markdown",
   "metadata": {},
   "source": [
    "#### Ejemplos funcionamiento"
   ]
  },
  {
   "cell_type": "code",
   "execution_count": 5,
   "metadata": {},
   "outputs": [
    {
     "name": "stdout",
     "output_type": "stream",
     "text": [
      "TRAIN: [0 1 2 3 4 5 6 7 8 9] TEST: 10\n",
      "TRAIN: [ 1  2  3  4  5  6  7  8  9 10] TEST: 11\n",
      "TRAIN: [ 2  3  4  5  6  7  8  9 10 11] TEST: 12\n",
      "TRAIN: [ 3  4  5  6  7  8  9 10 11 12] TEST: 13\n",
      "TRAIN: [ 4  5  6  7  8  9 10 11 12 13] TEST: 14\n",
      "TRAIN: [ 5  6  7  8  9 10 11 12 13 14] TEST: 15\n",
      "TRAIN: [ 6  7  8  9 10 11 12 13 14 15] TEST: 16\n",
      "TRAIN: [ 7  8  9 10 11 12 13 14 15 16] TEST: 17\n",
      "TRAIN: [ 8  9 10 11 12 13 14 15 16 17] TEST: 18\n",
      "TRAIN: [ 9 10 11 12 13 14 15 16 17 18] TEST: 19\n",
      "TRAIN: [10 11 12 13 14 15 16 17 18 19] TEST: 20\n",
      "X_train\n",
      "[[ 0  1  2  3  4  5  6  7  8  9]\n",
      " [ 1  2  3  4  5  6  7  8  9 10]\n",
      " [ 2  3  4  5  6  7  8  9 10 11]\n",
      " [ 3  4  5  6  7  8  9 10 11 12]\n",
      " [ 4  5  6  7  8  9 10 11 12 13]\n",
      " [ 5  6  7  8  9 10 11 12 13 14]\n",
      " [ 6  7  8  9 10 11 12 13 14 15]\n",
      " [ 7  8  9 10 11 12 13 14 15 16]\n",
      " [ 8  9 10 11 12 13 14 15 16 17]]\n",
      "\n",
      "X_test\n",
      "[[ 9 10 11 12 13 14 15 16 17 18]]\n",
      "\n",
      "y_train\n",
      "[[10]\n",
      " [11]\n",
      " [12]\n",
      " [13]\n",
      " [14]\n",
      " [15]\n",
      " [16]\n",
      " [17]\n",
      " [18]]\n",
      "\n",
      "y_test\n",
      "[[19]\n",
      " [20]]\n"
     ]
    }
   ],
   "source": [
    "set_prueba = pd.Series(range(21))\n",
    "X, y = transform_ts_to_matrix(serie = set_prueba, window_size=10, verbose=True)\n",
    "\n",
    "X_train, X_test, y_train, y_test = ts_train_test_split(\n",
    "                                        serie        = set_prueba,\n",
    "                                        test_size    = 2,\n",
    "                                        window_size  = 10,\n",
    "                                        return_index = True\n",
    "                                    )\n",
    "print('X_train')\n",
    "print(X_train)\n",
    "print(\"\")\n",
    "print('X_test')\n",
    "print(X_test)\n",
    "print(\"\")\n",
    "print('y_train')\n",
    "print(y_train)\n",
    "print(\"\")\n",
    "print('y_test')\n",
    "print(y_test)"
   ]
  },
  {
   "cell_type": "markdown",
   "metadata": {},
   "source": [
    "### Ejemplo\n",
    "<br>\n",
    "\n",
    "Los datos empleados en los ejemplos de este document se han obtenido del magnifico libro [Forecasting: Principles and Practice by Rob J Hyndman and George Athanasopoulos](\"https://otexts.com/fpp2/\")."
   ]
  },
  {
   "cell_type": "code",
   "execution_count": 6,
   "metadata": {},
   "outputs": [],
   "source": [
    "# Tratamiento de datos\n",
    "# ==============================================================================\n",
    "import numpy as np\n",
    "import pandas as pd\n",
    "\n",
    "# Gráficos\n",
    "# ==============================================================================\n",
    "import matplotlib.pyplot as plt\n",
    "\n",
    "# Modelado\n",
    "# ==============================================================================\n",
    "\n",
    "\n",
    "# Configuración warnings\n",
    "# ==============================================================================\n",
    "import warnings\n",
    "warnings.filterwarnings('ignore')"
   ]
  },
  {
   "cell_type": "code",
   "execution_count": 7,
   "metadata": {},
   "outputs": [],
   "source": [
    "url = 'https://raw.githubusercontent.com/JoaquinAmatRodrigo/Estadistica-machine-learning-python/master/data/h2o.csv'\n",
    "datos = pd.read_csv(url, sep=',')"
   ]
  },
  {
   "cell_type": "markdown",
   "metadata": {},
   "source": [
    "La columna *Date* se ha almacenado como `strings`. Para convertirlas en `Datetime`, se emplea la función `pd.to_datetime()`. Una vez en formato `Datetime` y para hacer uso de las funcionalidades de pandas se establece la columna *datetime* como índice. Además, dado que los datos son mensuales, se indica la frecuencia (*Monthly Started 'MS'*)."
   ]
  },
  {
   "cell_type": "code",
   "execution_count": 8,
   "metadata": {},
   "outputs": [],
   "source": [
    "datos['fecha'] = pd.to_datetime(datos['fecha'], format='%Y/%m/%d')\n",
    "datos = datos.set_index('fecha')\n",
    "datos = datos.rename(columns={'x': 'y'})\n",
    "datos = datos.asfreq('MS')\n",
    "datos = datos['y']\n",
    "datos = datos.sort_index()\n",
    "\n",
    "# Si el set de datos tiene valores NAN\n",
    "#datos.asfreq(freq='MS', fill_value=np.nan)"
   ]
  },
  {
   "cell_type": "code",
   "execution_count": 9,
   "metadata": {},
   "outputs": [
    {
     "data": {
      "image/png": "[encoded data removed]",
      "text/plain": [
       "<Figure size 648x288 with 1 Axes>"
      ]
     },
     "metadata": {
      "needs_background": "light"
     },
     "output_type": "display_data"
    }
   ],
   "source": [
    "fig, ax = plt.subplots(figsize=(9, 4))\n",
    "datos.plot(ax = ax);"
   ]
  },
  {
   "cell_type": "code",
   "execution_count": 10,
   "metadata": {},
   "outputs": [],
   "source": [
    "# Preprocesado del dato\n",
    "# ==============================================================================\n",
    "X_train, X_test, y_train, y_test = ts_train_test_split(\n",
    "                                        serie        = datos,\n",
    "                                        test_size    = 36,\n",
    "                                        window_size  = 12,\n",
    "                                        return_index = False\n",
    "                                    )"
   ]
  },
  {
   "cell_type": "code",
   "execution_count": 11,
   "metadata": {},
   "outputs": [
    {
     "data": {
      "text/plain": [
       "RandomForestRegressor(random_state=123)"
      ]
     },
     "execution_count": 11,
     "metadata": {},
     "output_type": "execute_result"
    }
   ],
   "source": [
    "# Entrenamiento del modelo\n",
    "# ==============================================================================\n",
    "modelo = RandomForestRegressor(random_state=123)\n",
    "modelo.fit(X=X_train, y=y_train)"
   ]
  },
  {
   "cell_type": "code",
   "execution_count": 12,
   "metadata": {},
   "outputs": [
    {
     "data": {
      "text/plain": [
       "fecha\n",
       "2005-07-01    0.934072\n",
       "2005-08-01    0.945229\n",
       "2005-09-01    1.104605\n",
       "2005-10-01    1.129161\n",
       "2005-11-01    1.124994\n",
       "Freq: MS, dtype: float64"
      ]
     },
     "execution_count": 12,
     "metadata": {},
     "output_type": "execute_result"
    }
   ],
   "source": [
    "# Predicciones\n",
    "# ==============================================================================\n",
    "steps = 36\n",
    "predicciones = forecaster_predict(modelo=modelo, X_test=X_test, steps=steps)\n",
    "# Se añade el índice a las predicciones\n",
    "predicciones = pd.Series(data=predicciones, index=datos.index[-steps :])\n",
    "predicciones.head()"
   ]
  },
  {
   "cell_type": "code",
   "execution_count": 13,
   "metadata": {},
   "outputs": [
    {
     "data": {
      "image/png": "[encoded data removed]",
      "text/plain": [
       "<Figure size 648x288 with 1 Axes>"
      ]
     },
     "metadata": {
      "needs_background": "light"
     },
     "output_type": "display_data"
    }
   ],
   "source": [
    "fig, ax=plt.subplots(figsize=(9, 4))\n",
    "datos[:-steps].plot(ax=ax, label='train')\n",
    "datos[-steps:].plot(ax=ax, label='test')\n",
    "predicciones.plot(ax=ax, label='autoregresivo sklearn')\n",
    "ax.legend();"
   ]
  },
  {
   "cell_type": "code",
   "execution_count": 134,
   "metadata": {},
   "outputs": [
    {
     "data": {
      "text/plain": [
       "0.004134261427953628"
      ]
     },
     "execution_count": 134,
     "metadata": {},
     "output_type": "execute_result"
    }
   ],
   "source": [
    "# Error\n",
    "# ==============================================================================\n",
    "mse_autoreg_sklearn = mean_squared_error(\n",
    "                            y_true = datos[-steps:],\n",
    "                            y_pred = predicciones\n",
    "                        )\n",
    "mse_autoreg_sklearn"
   ]
  },
  {
   "cell_type": "markdown",
   "metadata": {},
   "source": [
    "## Clases"
   ]
  },
  {
   "cell_type": "code",
   "execution_count": 6,
   "metadata": {},
   "outputs": [],
   "source": [
    "import numpy as np\n",
    "import logging\n",
    "from sklearn.linear_model import LinearRegression\n",
    "from sklearn.linear_model import Lasso\n",
    "from sklearn.ensemble import RandomForestRegressor\n",
    "from sklearn.metrics import mean_squared_error\n",
    "from sklearn.model_selection import ParameterGrid\n",
    "\n",
    "\n",
    "logging.basicConfig(\n",
    "    format = '%(asctime)-5s %(name)-15s %(levelname)-8s %(message)s', \n",
    "    level  = logging.INFO, # Nivel de los eventos que se registran en el logger\n",
    ")\n",
    "\n",
    "class Forecaster():\n",
    "    '''\n",
    "    Combierte un regresor de scikitlearn en un forecaster recursivo (multi-step).\n",
    "    \n",
    "    Parameters\n",
    "    ----------\n",
    "    regressor : scikitlearn regressor\n",
    "        Modelo de regresión de scikitlearn.\n",
    "        \n",
    "    n_lags : int\n",
    "        Número de lags utilizados cómo predictores.\n",
    "\n",
    "    \n",
    "    Attributes\n",
    "    ----------\n",
    "    regressor : scikitlearn regressor\n",
    "        Modelo de regresión de scikitlearn.\n",
    "        \n",
    "    last_lags : array-like, shape (1, n_lags)\n",
    "        Último valor de lags que ha visto el Forecaster al ser entrenado. Se\n",
    "        corresponde con el valor de los lags necesarios para predecir el\n",
    "        siguiente `step` después de los datos de entrenamiento.\n",
    "     \n",
    "    '''\n",
    "    \n",
    "    def __init__(self, regressor, n_lags):\n",
    "        \n",
    "        self.regressor = regressor\n",
    "        self.n_lags    = n_lags\n",
    "        self.last_lags = None\n",
    "        \n",
    "    \n",
    "    def create_lags(self, y):\n",
    "        '''\n",
    "        Combierte una serie temporal en una matriz donde, cada valor de y,\n",
    "        está asociado a los lags temporales que le preceden.\n",
    "        \n",
    "        Parameters\n",
    "        ----------        \n",
    "        y : array-like, shape (nº observaviones)\n",
    "            Serie temporal de entrenamiento.\n",
    "\n",
    "        Returns \n",
    "        -------\n",
    "        X_data : array-like, shape (nº observaviones, n_lags)\n",
    "            Matriz con el valor de los lags.\n",
    "        \n",
    "        y_data : array-like, shape (nº observaviones - n_lags)\n",
    "            \n",
    "        '''\n",
    "\n",
    "        # Número de divisiones\n",
    "        n_splits = len(y) - self.n_lags\n",
    "\n",
    "        # Matriz donde almacenar los valore de cada lag\n",
    "        X_data  = np.full(shape=(n_splits, self.n_lags), fill_value=np.nan, dtype= float)\n",
    "        y_data  = np.full(shape=(n_splits, 1), fill_value=np.nan, dtype= float)\n",
    "\n",
    "        for i in range(n_splits):\n",
    "\n",
    "            train_index = np.array(y.index[i : self.n_lags + i])\n",
    "            test_index  = y.index[self.n_lags + i]\n",
    "\n",
    "            X_data[i, :] = y[train_index]\n",
    "            y_data[i]    = y[test_index]\n",
    "\n",
    "        return X_data, y_data\n",
    "\n",
    "        \n",
    "    def fit(self, y):\n",
    "        '''\n",
    "        Entrenamiento del Forecaster\n",
    "        \n",
    "        Parameters\n",
    "        ----------        \n",
    "        y : array-like, shape (nº observaviones)\n",
    "            Serie temporal de entrenamiento.\n",
    "\n",
    "        Returns \n",
    "        -------\n",
    "        self : object\n",
    "               objeto Forecaster entrenado\n",
    "        \n",
    "        '''\n",
    "        \n",
    "        X_train, y_train = self.create_lags(y=y)\n",
    "        \n",
    "        self.regressor.fit(X=X_train, y=y_train)\n",
    "        \n",
    "        self.last_lags = np.hstack((X_train[-1, 1:], y_train[-1])).reshape(1, -1) \n",
    "        \n",
    "            \n",
    "    def predict(self, steps, X=None):\n",
    "        '''\n",
    "        Predicción recursiva en el que, cada predicción, se utiliza como\n",
    "        predictor de la siguiente predicción.\n",
    "        \n",
    "        Parameters\n",
    "        ----------\n",
    "               \n",
    "        steps : int\n",
    "            Número de pasos a futuro que se predicen.\n",
    "            \n",
    "        X : array-like, shape (1, n_lags)\n",
    "            Valor de los predictores con los que se inicia el proceso iterativo\n",
    "            de predicción. Es decir, el valor de los lags para t+1.\n",
    "    \n",
    "            Si `X==None`, se utilizan como predictores iniciales los valores\n",
    "            almacenados en `self.last_lags`, y las predicciones se inician a \n",
    "            continuación de los datos de entrenamiento.\n",
    "\n",
    "        Returns \n",
    "        -------\n",
    "        predicciones : np.array, shape (nº observaciones, )\n",
    "            Predicciones generadas por el modelo.\n",
    "            \n",
    "        '''\n",
    "        \n",
    "        if X is None:\n",
    "            X = self.last_lags\n",
    "\n",
    "        predicciones = np.full(shape=steps, fill_value=np.nan)\n",
    "\n",
    "        for i in range(steps):\n",
    "\n",
    "            prediccion = self.regressor.predict(X).ravel()[0]\n",
    "            predicciones[i] = prediccion\n",
    "\n",
    "            # Actualizar valores de X con la predicción\n",
    "            X = X.flatten()\n",
    "            X = np.append(X[1:], prediccion)\n",
    "            X = X.reshape(1, -1)\n",
    "\n",
    "\n",
    "        return(predicciones)\n",
    "    \n",
    "    \n",
    "    def set_params(self, **params):\n",
    "        '''\n",
    "        Asignar nuevos valores a los parámetros del modelo scikitlearn contenido\n",
    "        en el Forecaster.\n",
    "        \n",
    "        Parameters\n",
    "        ----------\n",
    "        params : dict\n",
    "            Valor de los parámetros.\n",
    "\n",
    "        Returns \n",
    "        -------\n",
    "        self\n",
    "        \n",
    "        '''\n",
    "        \n",
    "        self.regressor.set_params(**params)\n",
    "        \n",
    "        \n",
    "    def set_n_lags(self, n_lags):\n",
    "        '''\n",
    "        Asignar nuevo valor al atributo `n_lags` del Forecaster.\n",
    "        \n",
    "        Parameters\n",
    "        ----------\n",
    "        n_lags : int\n",
    "            Número de lags utilizados cómo predictores.\n",
    "\n",
    "        Returns \n",
    "        -------\n",
    "        self\n",
    "        \n",
    "        '''\n",
    "        \n",
    "        self.n_lags = n_lags\n",
    "        "
   ]
  },
  {
   "cell_type": "code",
   "execution_count": 7,
   "metadata": {},
   "outputs": [
    {
     "ename": "NameError",
     "evalue": "name 'datos' is not defined",
     "output_type": "error",
     "traceback": [
      "\u001b[0;31m---------------------------------------------------------------------------\u001b[0m",
      "\u001b[0;31mNameError\u001b[0m                                 Traceback (most recent call last)",
      "\u001b[0;32m<ipython-input-7-d8e7271847b5>\u001b[0m in \u001b[0;36m<module>\u001b[0;34m\u001b[0m\n\u001b[1;32m      2\u001b[0m \u001b[0;31m# ==============================================================================\u001b[0m\u001b[0;34m\u001b[0m\u001b[0;34m\u001b[0m\u001b[0;34m\u001b[0m\u001b[0m\n\u001b[1;32m      3\u001b[0m \u001b[0msteps\u001b[0m \u001b[0;34m=\u001b[0m \u001b[0;36m36\u001b[0m\u001b[0;34m\u001b[0m\u001b[0;34m\u001b[0m\u001b[0m\n\u001b[0;32m----> 4\u001b[0;31m \u001b[0mdatos_train\u001b[0m \u001b[0;34m=\u001b[0m \u001b[0mdatos\u001b[0m\u001b[0;34m[\u001b[0m\u001b[0;34m:\u001b[0m\u001b[0;34m-\u001b[0m\u001b[0msteps\u001b[0m\u001b[0;34m]\u001b[0m\u001b[0;34m\u001b[0m\u001b[0;34m\u001b[0m\u001b[0m\n\u001b[0m\u001b[1;32m      5\u001b[0m \u001b[0mdatos_test\u001b[0m  \u001b[0;34m=\u001b[0m \u001b[0mdatos\u001b[0m\u001b[0;34m[\u001b[0m\u001b[0;34m-\u001b[0m\u001b[0msteps\u001b[0m\u001b[0;34m:\u001b[0m\u001b[0;34m]\u001b[0m\u001b[0;34m\u001b[0m\u001b[0;34m\u001b[0m\u001b[0m\n\u001b[1;32m      6\u001b[0m \u001b[0;34m\u001b[0m\u001b[0m\n",
      "\u001b[0;31mNameError\u001b[0m: name 'datos' is not defined"
     ]
    }
   ],
   "source": [
    "# Datos\n",
    "# ==============================================================================\n",
    "steps = 36\n",
    "datos_train = datos[:-steps]\n",
    "datos_test  = datos[-steps:]\n",
    "\n",
    "# Crear y entrenar forecaster\n",
    "# ==============================================================================\n",
    "\n",
    "forecaster_rf = Forecaster(\n",
    "                    regressor=RandomForestRegressor(random_state=123),\n",
    "                    n_lags=12\n",
    "                )\n",
    "\n",
    "forecaster_rf.fit(y=datos_train)\n",
    "\n",
    "# Predicciones\n",
    "# ==============================================================================\n",
    "forecaster_rf.fit(y=datos_train)\n",
    "predicciones = forecaster_rf.predict(steps=steps)\n",
    "# Se añade el índice a las predicciones\n",
    "predicciones = pd.Series(data=predicciones, index=datos_test.index)\n",
    "\n",
    "# Error\n",
    "# ==============================================================================\n",
    "mse_autoreg_sklearn = mean_squared_error(\n",
    "                            y_true = datos[-steps:],\n",
    "                            y_pred = predicciones\n",
    "                        )\n",
    "print(\"MSE \", mse_autoreg_sklearn)\n",
    "\n",
    "# Gráfico\n",
    "# ==============================================================================\n",
    "fig, ax=plt.subplots(figsize=(9, 4))\n",
    "datos_train.plot(ax=ax, label='train')\n",
    "datos_test.plot(ax=ax, label='test')\n",
    "predicciones.plot(ax=ax, label='autoregresivo sklearn')\n",
    "ax.legend();"
   ]
  },
  {
   "cell_type": "code",
   "execution_count": 241,
   "metadata": {},
   "outputs": [],
   "source": [
    "def ts_cv_forecaster(forecaster, y, initial_train_size, steps, metric):\n",
    "    '''\n",
    "    Validación cruzada de un Forecaster, manteniendo el orden temporal de los\n",
    "    datos e incrementando en cada iteración el conjunto de entrenamiento.\n",
    "    \n",
    "    Parameters\n",
    "    ----------\n",
    "    forecaster : object \n",
    "        Objeto de clase Forecaster.\n",
    "        \n",
    "    y : array-like, shape (nº observaviones)\n",
    "            Serie temporal de entrenamiento. \n",
    "    \n",
    "    initial_train_size: int \n",
    "        Número de observaciones de entrenamiento utilizadas en la primera iteración\n",
    "        de validación.\n",
    "        \n",
    "    steps : int\n",
    "        Número de pasos a futuro que se predicen.\n",
    "        \n",
    "    metric : {'neg_mean_squared_error'}\n",
    "        Métrica utilizada para cuantificar la bondad de ajuste del modelo.\n",
    "\n",
    "    Returns \n",
    "    -------\n",
    "    ts_cv_results: \n",
    "        Valor de la métrica obtenido en cada partición.\n",
    "\n",
    "    '''\n",
    "    \n",
    "    ts_cv_results = []\n",
    "    \n",
    "    metrics = {\n",
    "        'neg_mean_squared_error': mean_squared_error\n",
    "    }\n",
    "    \n",
    "    metric = metrics[metric]\n",
    "    \n",
    "    folds = (len(y) - initial_train_size) // steps  \n",
    "    resto = (len(y) - initial_train_size) % steps\n",
    "    \n",
    "    if (resto != 0):\n",
    "        logging.warning(\n",
    "            f\"La configuración utilizada de initial_train_size, steps deja las \"\n",
    "            f\"últimas {resto} observaciones fuera del proceso de validación.\"\n",
    "        )\n",
    "    \n",
    "\n",
    "    for i in range(folds):\n",
    "        \n",
    "        train_end = initial_train_size + i * steps     \n",
    "        forecaster.fit(y=y[:train_end])      \n",
    "        pred = forecaster.predict(steps=steps)\n",
    "               \n",
    "        metric_value = metric(\n",
    "                            y_true = y[train_end:(train_end +  steps)],\n",
    "                            y_pred = pred\n",
    "                       )\n",
    "        \n",
    "        ts_cv_results.append(metric_value)\n",
    "                          \n",
    "    return np.array(ts_cv_results)"
   ]
  },
  {
   "cell_type": "code",
   "execution_count": 242,
   "metadata": {},
   "outputs": [
    {
     "name": "stderr",
     "output_type": "stream",
     "text": [
      "2021-02-08 14:38:04,928 root            WARNING  La configuración utilizada de initial_train_size, steps deja las últimas 4 observaciones fuera del proceso de validación.\n"
     ]
    },
    {
     "data": {
      "text/plain": [
       "0.006198820128519184"
      ]
     },
     "execution_count": 242,
     "metadata": {},
     "output_type": "execute_result"
    }
   ],
   "source": [
    "forecaster_rf = Forecaster(\n",
    "                    regressor=RandomForestRegressor(random_state=123),\n",
    "                    n_lags=12\n",
    "                )\n",
    "\n",
    "cv_metrics = ts_cv_forecaster(\n",
    "                forecaster = forecaster_rf,\n",
    "                y          = datos_train,\n",
    "                initial_train_size = int(len(datos_train)*0.5),\n",
    "                steps  = 10,\n",
    "                metric = 'neg_mean_squared_error'\n",
    "            )\n",
    "\n",
    "cv_metrics.mean()"
   ]
  },
  {
   "cell_type": "code",
   "execution_count": 277,
   "metadata": {},
   "outputs": [],
   "source": [
    "def grid_search_forecaster(forecaster, y, param_grid, initial_train_size, steps, metric, n_lags_grid=None):\n",
    "    '''\n",
    "    Busqueda exaustiva sobre los hiperparámetros de un Forecaster mediante validación cruzada.\n",
    "    \n",
    "    Parameters\n",
    "    ----------\n",
    "    forecaster : object \n",
    "        Objeto de clase Forecaster.\n",
    "        \n",
    "    y : array-like, shape (nº observaviones)\n",
    "        Serie temporal de entrenamiento. \n",
    "    \n",
    "    param_grid : dict\n",
    "        Valores de hiperparámetros sobre los que hacer la búsqueda\n",
    "    \n",
    "    initial_train_size: int \n",
    "        Número de observaciones de entrenamiento utilizadas en la primera iteración\n",
    "        de validación.\n",
    "        \n",
    "    steps : int\n",
    "        Número de pasos a futuro que se predicen.\n",
    "        \n",
    "    metric : {'neg_mean_squared_error'}\n",
    "        Métrica utilizada para cuantificar la bondad de ajuste del modelo.\n",
    "        \n",
    "    n_lags_grid : array-like\n",
    "        Valores de `n_lags` sobre los que hacer la búsqueda.\n",
    "\n",
    "    Returns \n",
    "    -------\n",
    "    results: pandas.DataFrame\n",
    "        Valor de la métrica obtenido en cada combinación de hiperparámetros.\n",
    "\n",
    "    '''\n",
    "    n_lags_list = []\n",
    "    params_list = []\n",
    "    metric_list = []\n",
    "    \n",
    "    if n_lags_grid is None:\n",
    "        n_lags_grid = [forecaster.n_lags]\n",
    "    \n",
    "    param_grid =  list(ParameterGrid(param_grid))\n",
    "    \n",
    "    for n_lags in n_lags_grid:\n",
    "        \n",
    "        forecaster.set_n_lags(n_lags)\n",
    "        \n",
    "        for params in param_grid:\n",
    "\n",
    "            forecaster.set_params(**params)\n",
    "\n",
    "            cv_metrics = ts_cv_forecaster(\n",
    "                            forecaster = forecaster,\n",
    "                            y          = y,\n",
    "                            initial_train_size = initial_train_size,\n",
    "                            steps  = steps,\n",
    "                            metric = metric\n",
    "                        )\n",
    "            \n",
    "            n_lags_list.append(n_lags)\n",
    "            params_list.append(params)\n",
    "            metric_list.append(cv_metrics.mean())\n",
    "            \n",
    "    resultados = pd.DataFrame({\n",
    "                    'n_lags': n_lags_list,\n",
    "                    'params': params_list,\n",
    "                    'metric': metric_list})\n",
    "    \n",
    "    resultados = resultados.sort_values(by='metric', ascending=True)\n",
    "            \n",
    "    return resultados "
   ]
  },
  {
   "cell_type": "code",
   "execution_count": 278,
   "metadata": {
    "scrolled": false
   },
   "outputs": [
    {
     "name": "stderr",
     "output_type": "stream",
     "text": [
      "2021-02-08 15:36:56,242 root            WARNING  La configuración utilizada de initial_train_size, steps deja las últimas 4 observaciones fuera del proceso de validación.\n",
      "2021-02-08 15:36:57,995 root            WARNING  La configuración utilizada de initial_train_size, steps deja las últimas 4 observaciones fuera del proceso de validación.\n",
      "2021-02-08 15:37:01,035 root            WARNING  La configuración utilizada de initial_train_size, steps deja las últimas 4 observaciones fuera del proceso de validación.\n",
      "2021-02-08 15:37:02,866 root            WARNING  La configuración utilizada de initial_train_size, steps deja las últimas 4 observaciones fuera del proceso de validación.\n",
      "2021-02-08 15:37:06,094 root            WARNING  La configuración utilizada de initial_train_size, steps deja las últimas 4 observaciones fuera del proceso de validación.\n",
      "2021-02-08 15:37:07,989 root            WARNING  La configuración utilizada de initial_train_size, steps deja las últimas 4 observaciones fuera del proceso de validación.\n"
     ]
    },
    {
     "data": {
      "text/html": [
       "<div>\n",
       "<style scoped>\n",
       "    .dataframe tbody tr th:only-of-type {\n",
       "        vertical-align: middle;\n",
       "    }\n",
       "\n",
       "    .dataframe tbody tr th {\n",
       "        vertical-align: top;\n",
       "    }\n",
       "\n",
       "    .dataframe thead th {\n",
       "        text-align: right;\n",
       "    }\n",
       "</style>\n",
       "<table border=\"1\" class=\"dataframe\">\n",
       "  <thead>\n",
       "    <tr style=\"text-align: right;\">\n",
       "      <th></th>\n",
       "      <th>n_lags</th>\n",
       "      <th>params</th>\n",
       "      <th>metric</th>\n",
       "    </tr>\n",
       "  </thead>\n",
       "  <tbody>\n",
       "    <tr>\n",
       "      <th>5</th>\n",
       "      <td>20</td>\n",
       "      <td>{'n_estimators': 200}</td>\n",
       "      <td>0.005353</td>\n",
       "    </tr>\n",
       "    <tr>\n",
       "      <th>4</th>\n",
       "      <td>20</td>\n",
       "      <td>{'n_estimators': 100}</td>\n",
       "      <td>0.005520</td>\n",
       "    </tr>\n",
       "    <tr>\n",
       "      <th>3</th>\n",
       "      <td>12</td>\n",
       "      <td>{'n_estimators': 200}</td>\n",
       "      <td>0.006008</td>\n",
       "    </tr>\n",
       "    <tr>\n",
       "      <th>2</th>\n",
       "      <td>12</td>\n",
       "      <td>{'n_estimators': 100}</td>\n",
       "      <td>0.006199</td>\n",
       "    </tr>\n",
       "    <tr>\n",
       "      <th>0</th>\n",
       "      <td>5</td>\n",
       "      <td>{'n_estimators': 100}</td>\n",
       "      <td>0.029428</td>\n",
       "    </tr>\n",
       "    <tr>\n",
       "      <th>1</th>\n",
       "      <td>5</td>\n",
       "      <td>{'n_estimators': 200}</td>\n",
       "      <td>0.030344</td>\n",
       "    </tr>\n",
       "  </tbody>\n",
       "</table>\n",
       "</div>"
      ],
      "text/plain": [
       "   n_lags                 params    metric\n",
       "5      20  {'n_estimators': 200}  0.005353\n",
       "4      20  {'n_estimators': 100}  0.005520\n",
       "3      12  {'n_estimators': 200}  0.006008\n",
       "2      12  {'n_estimators': 100}  0.006199\n",
       "0       5  {'n_estimators': 100}  0.029428\n",
       "1       5  {'n_estimators': 200}  0.030344"
      ]
     },
     "execution_count": 278,
     "metadata": {},
     "output_type": "execute_result"
    }
   ],
   "source": [
    "forecaster_rf = Forecaster(\n",
    "                    regressor=RandomForestRegressor(random_state=123),\n",
    "                    n_lags=12\n",
    "                 )\n",
    "\n",
    "param_grid = {'n_estimators': [100, 200]}\n",
    "n_lags_grid = [5, 12, 20]\n",
    "\n",
    "grid_search_forecaster(\n",
    "                forecaster = forecaster_rf,\n",
    "                y          = datos_train,\n",
    "                param_grid = {'n_estimators': [100, 200]},\n",
    "                n_lags_grid = n_lags_grid,\n",
    "                initial_train_size = int(len(datos_train)*0.5),\n",
    "                steps  = 10,\n",
    "                metric = 'neg_mean_squared_error'\n",
    "            )"
   ]
  },
  {
   "cell_type": "markdown",
   "metadata": {},
   "source": [
    "## Forecasting con estadísticos móviles"
   ]
  },
  {
   "cell_type": "markdown",
   "metadata": {},
   "source": [
    "## Forecasting con variables exógenas"
   ]
  },
  {
   "cell_type": "markdown",
   "metadata": {},
   "source": [
    "## Información de sesión"
   ]
  },
  {
   "cell_type": "code",
   "execution_count": 174,
   "metadata": {},
   "outputs": [
    {
     "name": "stdout",
     "output_type": "stream",
     "text": [
      "-----\n",
      "ipykernel   5.3.4\n",
      "matplotlib  3.3.2\n",
      "numpy       1.20.0\n",
      "pandas      1.1.3\n",
      "sinfo       0.3.1\n",
      "sklearn     0.24.1\n",
      "sktime      0.5.1\n",
      "statsmodels 0.12.1\n",
      "-----\n",
      "IPython             7.18.1\n",
      "jupyter_client      6.1.7\n",
      "jupyter_core        4.6.3\n",
      "jupyterlab          2.2.9\n",
      "notebook            6.1.4\n",
      "-----\n",
      "Python 3.7.7 (default, Mar 23 2020, 22:36:06) [GCC 7.3.0]\n",
      "Linux-5.4.0-1037-aws-x86_64-with-debian-buster-sid\n",
      "4 logical CPU cores, x86_64\n",
      "-----\n",
      "Session information updated at 2021-02-04 18:42\n"
     ]
    }
   ],
   "source": [
    "from sinfo import sinfo\n",
    "sinfo()"
   ]
  },
  {
   "cell_type": "markdown",
   "metadata": {},
   "source": [
    "## Bibliografía\n",
    "<br>\n",
    "\n",
    "Hyndman, R.J., & Athanasopoulos, G. (2018) Forecasting: principles and practice, 2nd edition, OTexts: Melbourne, Australia. [libro](https://otexts.com/fpp2/)\n",
    "\n",
    "Python Data Science Handbook by Jake VanderPlas [libro](https://www.amazon.es/gp/product/1491912057/ref=as_li_qf_asin_il_tl?ie=UTF8&tag=cienciadedato-21&creative=24630&linkCode=as2&creativeASIN=1491912057&linkId=73620d22f9d4a0a76d27592dabf13c83)\n",
    "\n",
    "Python for Finance: Mastering Data-Driven Finance [libro](https://www.amazon.es/gp/product/1492024333/ref=as_li_qf_asin_il_tl?ie=UTF8&tag=cienciadedato-21&creative=24630&linkCode=as2&creativeASIN=1492024333&linkId=70c3175ad015970cd1c2328b7a40a055)\n",
    "\n",
    "[Markus Löning, Anthony Bagnall, Sajaysurya Ganesh, Viktor Kazakov, Jason Lines, Franz Király (2019): “sktime: A Unified Interface for Machine Learning with Time Series”](http://learningsys.org/neurips19/assets/papers/sktime_ml_systems_neurips2019.pdf)\n",
    "\n",
    "[Markus Löning, Tony Bagnall, Sajaysurya Ganesh, George Oastler, Jason Lines, ViktorKaz, …, Aadesh Deshmukh (2020). alan-turing-institute/sktime. Zenodo. http://doi.org/10.5281/zenodo.3749000](https://github.com/alan-turing-institute/sktime)"
   ]
  },
  {
   "cell_type": "code",
   "execution_count": 175,
   "metadata": {
    "code_folding": [],
    "hide_input": true,
    "remove_cell": true,
    "tags": [
     "\"hide_input\""
    ]
   },
   "outputs": [
    {
     "data": {
      "text/html": [
       "<style>\n",
       ".text_cell_render p {\n",
       "    text-align: justify;\n",
       "    font-family: 'Open Sans','Helvetica Neue',Helvetica,Arial,sans-serif;\n",
       "    #font-size: 16px;\n",
       "    line-height: 1.5;\n",
       "    font-weight: 400;\n",
       "    text-shadow: none;\n",
       "    color: #333333;\n",
       "    text-rendering: optimizeLegibility;\n",
       "    letter-spacing: +0.1px;\n",
       "    margin-bottom: 1.15rem;\n",
       "    font-size: 1.15em\n",
       "}\n",
       "\n",
       "#notebook-container {\n",
       "    background-color: #fcfcfc;\n",
       "}\n",
       "\n",
       "div.inner_cell {\n",
       "    margin-right: 5%;\n",
       "}\n",
       "\n",
       ".output_png {\n",
       "        display: table-cell;\n",
       "        text-align: center;\n",
       "        vertical-align: middle;\n",
       "}\n",
       "\n",
       ".rendered_html code {\n",
       "    background-color: #f2f2f2;\n",
       "    font-family: monospace;\n",
       "    color: #a20505;\n",
       "    font-size: 15px;\n",
       "    #font-size: 1em;\n",
       "    padding: 1px 1px;\n",
       "    border: solid;\n",
       "    border-color: darkgray;\n",
       "    border-width: thin;\n",
       "}\n",
       "\n",
       ".rendered_html h1 {\n",
       "    padding-top: 50px;\n",
       "}\n",
       "\n",
       ".rendered_html h2 {\n",
       "    font-size: 30px\n",
       "    margin-top: 0;\n",
       "    font-size: 2.488em;\n",
       "}\n",
       "\n",
       ".rendered_html h3 {\n",
       "    font-size: 25px;\n",
       "}\n",
       "\n",
       ".rendered_html h4 {\n",
       "    font-size: 20px;\n",
       "}\n",
       "\n",
       "</style>\n"
      ],
      "text/plain": [
       "<IPython.core.display.HTML object>"
      ]
     },
     "metadata": {},
     "output_type": "display_data"
    }
   ],
   "source": [
    "%%html\n",
    "<style>\n",
    ".text_cell_render p {\n",
    "    text-align: justify;\n",
    "    font-family: 'Open Sans','Helvetica Neue',Helvetica,Arial,sans-serif;\n",
    "    #font-size: 16px;\n",
    "    line-height: 1.5;\n",
    "    font-weight: 400;\n",
    "    text-shadow: none;\n",
    "    color: #333333;\n",
    "    text-rendering: optimizeLegibility;\n",
    "    letter-spacing: +0.1px;\n",
    "    margin-bottom: 1.15rem;\n",
    "    font-size: 1.15em\n",
    "}\n",
    "\n",
    "#notebook-container {\n",
    "    background-color: #fcfcfc;\n",
    "}\n",
    "\n",
    "div.inner_cell {\n",
    "    margin-right: 5%;\n",
    "}\n",
    "\n",
    ".output_png {\n",
    "        display: table-cell;\n",
    "        text-align: center;\n",
    "        vertical-align: middle;\n",
    "}\n",
    "\n",
    ".rendered_html code {\n",
    "    background-color: #f2f2f2;\n",
    "    font-family: monospace;\n",
    "    color: #a20505;\n",
    "    font-size: 15px;\n",
    "    #font-size: 1em;\n",
    "    padding: 1px 1px;\n",
    "    border: solid;\n",
    "    border-color: darkgray;\n",
    "    border-width: thin;\n",
    "}\n",
    "\n",
    ".rendered_html h1 {\n",
    "    padding-top: 50px;\n",
    "}\n",
    "\n",
    ".rendered_html h2 {\n",
    "    font-size: 30px\n",
    "    margin-top: 0;\n",
    "    font-size: 2.488em;\n",
    "}\n",
    "\n",
    ".rendered_html h3 {\n",
    "    font-size: 25px;\n",
    "}\n",
    "\n",
    ".rendered_html h4 {\n",
    "    font-size: 20px;\n",
    "}\n",
    "\n",
    "</style>"
   ]
  },
  {
   "cell_type": "markdown",
   "metadata": {},
   "source": [
    "**¿Cómo citar este documento?**\n",
    "\n",
    "<p style=\"text-align:left\"><font size=\"3\" color=\"#555\">\n",
    "Forecasting series temporales con Python y Scikitlearn by Joaquín Amat Rodrigo, available under a Attribution 4.0 International (CC BY 4.0) at https://www.cienciadedatos.net\n",
    "    \n",
    "</font></p>"
   ]
  },
  {
   "cell_type": "markdown",
   "metadata": {},
   "source": [
    "<p><strong>¿Te ha gustado el artículo? Tu ayuda es importante</strong></p>\n",
    "\n",
    "<p style=\"text-align:left\"><font size=\"3\" color=\"#555\">\n",
    "Mantener un sitio web tiene unos costes elevados, tu contribución me ayudará a seguir generando contenido divulgativo gratuito. ¡Muchísimas gracias!</font>\n",
    "<form action=\"https://www.paypal.com/donate\" method=\"post\" target=\"_top\">\n",
    "  <input type=\"hidden\" name=\"hosted_button_id\" value=\"6NULYFYDKFTQL\" />\n",
    "  <input type=\"image\" src=\"https://www.paypalobjects.com/en_US/ES/i/btn/btn_donateCC_LG.gif\" border=\"0\" name=\"submit\" title=\"PayPal - The safer, easier way to pay online!\" alt=\"Donate with PayPal button\" />\n",
    "  <img alt=\"\" border=\"0\" src=\"https://www.paypal.com/en_ES/i/scr/pixel.gif\" width=\"1\" height=\"1\" />\n",
    "  </form>\t\n",
    "</p>"
   ]
  },
  {
   "cell_type": "markdown",
   "metadata": {},
   "source": [
    "<a rel=\"license\" href=\"http://creativecommons.org/licenses/by/4.0/\"><img alt=\"Creative Commons Licence\" style=\"border-width:0\" src=\"https://i.creativecommons.org/l/by/4.0/88x31.png\" /></a><br />This work by  Joaquín Amat Rodrigo is licensed under a <a rel=\"license\" href=\"http://creativecommons.org/licenses/by/4.0/\">Creative Commons Attribution 4.0 International License</a>."
   ]
  }
 ],
 "metadata": {
  "kernelspec": {
   "display_name": "cienciadedatos",
   "language": "python",
   "name": "cienciadedatos"
  },
  "language_info": {
   "codemirror_mode": {
    "name": "ipython",
    "version": 3
   },
   "file_extension": ".py",
   "mimetype": "text/x-python",
   "name": "python",
   "nbconvert_exporter": "python",
   "pygments_lexer": "ipython3",
   "version": "3.7.7"
  },
  "toc": {
   "base_numbering": 1,
   "nav_menu": {},
   "number_sections": false,
   "sideBar": true,
   "skip_h1_title": true,
   "title_cell": "Tabla de contenidos",
   "title_sidebar": "Tabla de contenidos",
   "toc_cell": false,
   "toc_position": {
    "height": "calc(100% - 180px)",
    "left": "10px",
    "top": "150px",
    "width": "166.762px"
   },
   "toc_section_display": true,
   "toc_window_display": true
  },
  "varInspector": {
   "cols": {
    "lenName": 16,
    "lenType": 16,
    "lenVar": 40
   },
   "kernels_config": {
    "python": {
     "delete_cmd_postfix": "",
     "delete_cmd_prefix": "del ",
     "library": "var_list.py",
     "varRefreshCmd": "print(var_dic_list())"
    },
    "r": {
     "delete_cmd_postfix": ") ",
     "delete_cmd_prefix": "rm(",
     "library": "var_list.r",
     "varRefreshCmd": "cat(var_dic_list()) "
    }
   },
   "position": {
    "height": "144.391px",
    "left": "1478px",
    "right": "20px",
    "top": "126px",
    "width": "350px"
   },
   "types_to_exclude": [
    "module",
    "function",
    "builtin_function_or_method",
    "instance",
    "_Feature"
   ],
   "window_display": false
  }
 },
 "nbformat": 4,
 "nbformat_minor": 4
}
