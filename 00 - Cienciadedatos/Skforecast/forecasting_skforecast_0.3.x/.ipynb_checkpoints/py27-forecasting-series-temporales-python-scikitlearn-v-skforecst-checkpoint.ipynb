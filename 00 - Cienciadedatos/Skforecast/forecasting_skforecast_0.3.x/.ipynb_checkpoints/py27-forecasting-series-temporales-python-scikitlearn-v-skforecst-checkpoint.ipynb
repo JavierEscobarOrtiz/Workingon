{
 "cells": [
  {
   "cell_type": "markdown",
   "metadata": {},
   "source": [
    " "
   ]
  },
  {
   "cell_type": "markdown",
   "metadata": {},
   "source": [
    "<h1><center><font size=\"25\">Forecasting series temporales con Python y Scikitlearn</font></center></h1>"
   ]
  },
  {
   "cell_type": "markdown",
   "metadata": {},
   "source": [
    "<center><b>Joaquín Amat Rodrigo</b></center>\n",
    "\n",
    "<center><i>Febrero, 2020</i></center>"
   ]
  },
  {
   "cell_type": "markdown",
   "metadata": {},
   "source": [
    "Más sobre ciencia de datos: [**cienciadedatos.net**](https://cienciadedatos.net)"
   ]
  },
  {
   "cell_type": "markdown",
   "metadata": {},
   "source": [
    "## Introducción\n",
    "<br>\n",
    "\n",
    "Una [serie temporal](https://es.wikipedia.org/wiki/Serie_temporal) (*time series*) es una sucesión de datos ordenados cronológicamente, espaciados a intervalos iguales o desiguales. \n",
    "\n",
    "El proceso de [*Forecasting*](https://en.wikipedia.org/wiki/Forecasting) consiste en predecir el valor futuro de una serie temporal, bien modelando la serie temporal únicamente en función de su comportamiento pasado (autorregresivo) o empleando otras variables externas a la serie temporal.\n",
    "\n",
    "A lo largo de este documento, se describe cómo utilizar modelos de regresión de **Scikit learn** para realizar *forecasting* sobre series temporales. Se van introduciendo de forma progresiva clases y funciones que automatizan los procesos necesarios para entrenar, predecir y selecionar modelos de *forecasting*.\n",
    "\n",
    "Al final del documento se encuentran las clases y funciones completas, con todas las funcionalidades mostradas.\n",
    "<br><br>"
   ]
  },
  {
   "cell_type": "markdown",
   "metadata": {},
   "source": [
    "## Forecasting\n",
    "<br>\n",
    "\n",
    "Cuando se trabaja con series temporales, raramente se necesita predecir el siguiente elemento de la serie ($t_{+1}$), sino todo un intervalo futuro o un punto alejado en el tiempo ($t_{+n}$). \n",
    "\n",
    "Dado que, para predecir el momento $t_{+2}$ se necesita el valor de $t_{+1}$, y $t_{+1}$ se desconoce, es necesario hacer predicciones recursivas en las que, cada nueva predicción, se basa en la predicción anterior. A este proceso se le conoce *recursive forecasting* o *multi-step forecasting* y es la principal diferencia respecto a los problemas de regresión convencionales."
   ]
  },
  {
   "cell_type": "code",
   "execution_count": 1,
   "metadata": {
    "code_folding": [],
    "hide_input": true,
    "remove_cell": true,
    "tags": [
     "\"hide_input\""
    ]
   },
   "outputs": [],
   "source": [
    "import gif\n",
    "import numpy as np\n",
    "import matplotlib.pyplot as plt\n",
    "import pandas as pd\n",
    "\n",
    "np.random.seed(1234)\n",
    "y = 10 * np.sin(np.arange(0, 10, 0.1))\n",
    "y = y + np.random.normal(loc=0.0, scale=4, size = len(y))\n",
    "datetime = pd.date_range(start='1/1/2020', periods=len(y), freq='D')\n",
    "datos = pd.Series(y, index=datetime)\n",
    "\n",
    "# fig, ax = plt.subplots(figsize=(9, 4))\n",
    "# datos[:-30].plot(ax=ax, c='c', marker='o', label='pasado',  zorder=3)\n",
    "# datos[-31:].plot(ax=ax, c='gray', label='futuro')\n",
    "# datos[-30:-15].plot(ax=ax, c='red', marker='o', linestyle='',\n",
    "#                        label='Valores predichos')\n",
    "# datos[[-15]].plot(ax=ax, c='red', marker='X', linestyle='', markersize=12,\n",
    "#                        label='Valor a predecir')\n",
    "# ax.set_title('Predecir un intervalo a futuro')\n",
    "# ax.legend();\n",
    "\n",
    "frames = []\n",
    "\n",
    "@gif.frame\n",
    "def custom_plot(i, j):\n",
    "    fig, ax = plt.subplots(figsize=(9, 4))\n",
    "    datos[:-30].plot(ax=ax, c='c', marker='o', label='pasado',  zorder=3)\n",
    "    datos[-31:].plot(ax=ax, c='gray', label='futuro')\n",
    "    \n",
    "    datos.iloc[len(datos)-30:i+1].plot(ax=ax, c='red', marker='o', linestyle='',\n",
    "                                       label='valor predicho')\n",
    "    \n",
    "    datos.iloc[[i]].plot(ax=ax, c='red', marker='X', linestyle='',\n",
    "                         markersize=12,label='valor a predecir')\n",
    "    ax.set_title(f'Forecasting recursivo (multi-step): (t+{j})')\n",
    "    ax.legend()\n",
    "    \n",
    "    return(ax)\n",
    "\n",
    "j=1\n",
    "for i in range(len(datos)-30, len(datos)):\n",
    "    frame = custom_plot(i, j)\n",
    "    frames.append(frame)\n",
    "    j+=1\n",
    "    \n",
    "gif.save(frames, './images/forecasting_multi-step.gif', duration=10, unit=\"s\", between=\"startend\")"
   ]
  },
  {
   "cell_type": "markdown",
   "metadata": {},
   "source": [
    "![forecasting-python](./images/forecasting_multi-step.gif \"forecasting-python\")"
   ]
  },
  {
   "cell_type": "markdown",
   "metadata": {},
   "source": [
    "<br>\n",
    "\n",
    "## Forecasting autorregresivo con scikit learn"
   ]
  },
  {
   "cell_type": "markdown",
   "metadata": {},
   "source": [
    "La principal adaptación que se necesita hacer para aplicar modelos de [scikit learn](https://www.cienciadedatos.net/documentos/py06_machine_learning_python_scikitlearn.html) a problemas de *forecasting* es transformar la serie temporal\n",
    "en un matriz en la que, cada valor, está asociado a la ventana temporal (lags) que le preceden."
   ]
  },
  {
   "cell_type": "markdown",
   "metadata": {},
   "source": [
    "![forecasting-python](./images/transform_timeseries.gif \"forecasting-python\")"
   ]
  },
  {
   "cell_type": "code",
   "execution_count": 2,
   "metadata": {
    "code_folding": [],
    "hide_input": true,
    "remove_cell": true,
    "tags": [
     "\"hide_input\""
    ]
   },
   "outputs": [
    {
     "data": {
      "text/html": [
       "<center><font size='2.5'> <i>Tranformación de una serie temporal en una matriz de 5 lags y un vector con el valor de la serie que sigue a cada fila de la matriz.</i></font></center>"
      ],
      "text/plain": [
       "<IPython.core.display.HTML object>"
      ]
     },
     "execution_count": 2,
     "metadata": {},
     "output_type": "execute_result"
    }
   ],
   "source": [
    "from IPython.core.display import HTML\n",
    "HTML(\"<center><font size='2.5'> <i>\" +\n",
    "\"Tranformación de una serie temporal en una matriz de 5 lags y un vector con el valor de la serie que sigue a cada fila de la matriz.\" +\n",
    "     \"</i></font></center>\")"
   ]
  },
  {
   "cell_type": "markdown",
   "metadata": {},
   "source": [
    "### Ejemplo\n",
    "<br>\n",
    "\n",
    "En el siguiente ejemplo se muestra como crear un modelo autoregresivo capaz de predecir una serie temporal."
   ]
  },
  {
   "cell_type": "markdown",
   "metadata": {},
   "source": [
    "### Librerías\n",
    "<br>\n",
    "\n",
    "Además de las librerías necesarias, se incluye la clase `ForecasterAutoreg` (código al final del documento) que contine las funcionalidades necesarias para adaptar cualquier modelo de regresón de **Scikit learn** a problemas de *forecasting*."
   ]
  },
  {
   "cell_type": "code",
   "execution_count": 16,
   "metadata": {},
   "outputs": [],
   "source": [
    "# Tratamiento de datos\n",
    "# ==============================================================================\n",
    "import numpy as np\n",
    "import pandas as pd\n",
    "\n",
    "# Gráficos\n",
    "# ==============================================================================\n",
    "import matplotlib.pyplot as plt\n",
    "\n",
    "# Configuración warnings\n",
    "# ==============================================================================\n",
    "import warnings\n",
    "warnings.filterwarnings('ignore')\n",
    "\n",
    "# Modelado y Forecasting\n",
    "# ==============================================================================\n",
    "\n",
    "# pip install git+https://github.com/JoaquinAmatRodrigo/skforecast#master\n",
    "\n",
    "# from skforecast.ForecasterAutoreg import ForecasterAutoreg\n",
    "# from skforecast.utils import grid_search_forecaster\n",
    "# from skforecast.utils import time_series_spliter\n",
    "# from skforecast.utils import ts_cv_forecaster"
   ]
  },
  {
   "cell_type": "markdown",
   "metadata": {},
   "source": [
    "### Datos\n",
    "<br>\n",
    "\n",
    "Los datos empleados en los ejemplos de este document se han obtenido del magnífico libro [Forecasting: Principles and Practice by Rob J Hyndman and George Athanasopoulos](\"https://otexts.com/fpp2/\"). Representan el gasto mensual (millones de dólares) en fármacos con corticoides que tuvo el sistema de salud en Australia entre 1991 y 2008."
   ]
  },
  {
   "cell_type": "code",
   "execution_count": 17,
   "metadata": {},
   "outputs": [],
   "source": [
    "# Descarga de datos\n",
    "# ==============================================================================\n",
    "url = 'https://raw.githubusercontent.com/JoaquinAmatRodrigo/' \\\n",
    "      + 'Estadistica-machine-learning-python/master/data/h2o.csv'\n",
    "datos = pd.read_csv(url, sep=',')"
   ]
  },
  {
   "cell_type": "markdown",
   "metadata": {},
   "source": [
    "La columna *fecha* se ha almacenado como `string`. Para convertirla en `datetime`, se emplea la función `pd.to_datetime()`. Una vez en formato `datetime`, y para hacer uso de las funcionalidades de **pandas**, se establece como índice. Además, dado que los datos son mensuales, se indica la frecuencia (*Monthly Started 'MS'*)."
   ]
  },
  {
   "cell_type": "code",
   "execution_count": 18,
   "metadata": {},
   "outputs": [],
   "source": [
    "# Preparación del dato\n",
    "# ==============================================================================\n",
    "datos['fecha'] = pd.to_datetime(datos['fecha'], format='%Y/%m/%d')\n",
    "datos = datos.set_index('fecha')\n",
    "datos = datos.rename(columns={'x': 'y'})\n",
    "datos = datos.asfreq('MS')\n",
    "datos = datos['y']\n",
    "datos = datos.sort_index()\n",
    "\n",
    "# Si el set de datos tiene valores NAN\n",
    "#datos.asfreq(freq='MS', fill_value=np.nan)"
   ]
  },
  {
   "cell_type": "markdown",
   "metadata": {},
   "source": [
    "Se utilizan los últimos 36 meses como conjunto de test para evaluar la capacidad predictiva del modelo."
   ]
  },
  {
   "cell_type": "code",
   "execution_count": 19,
   "metadata": {},
   "outputs": [
    {
     "data": {
      "image/png": "[encoded data removed]",
      "text/plain": [
       "<Figure size 648x288 with 1 Axes>"
      ]
     },
     "metadata": {
      "needs_background": "light"
     },
     "output_type": "display_data"
    }
   ],
   "source": [
    "# Separación datos train-test\n",
    "# ==============================================================================\n",
    "steps = 36\n",
    "datos_train = datos[:-steps]\n",
    "datos_test  = datos[-steps:]\n",
    "\n",
    "fig, ax=plt.subplots(figsize=(9, 4))\n",
    "datos_train.plot(ax=ax, label='train')\n",
    "datos_test.plot(ax=ax, label='test')\n",
    "ax.legend();"
   ]
  },
  {
   "cell_type": "markdown",
   "metadata": {},
   "source": [
    "### ForecasterAutoreg\n",
    "<br>\n",
    "\n",
    "Se crea y entrena un modelo `ForecasterAutoreg` a partir de un regresor [`RandomForestRegressor`](https://www.cienciadedatos.net/documentos/py08_random_forest_python.html) y una ventana temporal de 12 lags. Esto último significa que, para cada predicción, se utilizan como predictores los 12 meses anteriores."
   ]
  },
  {
   "cell_type": "code",
   "execution_count": 20,
   "metadata": {},
   "outputs": [],
   "source": [
    "# Crear y entrenar forecaster\n",
    "# ==============================================================================\n",
    "\n",
    "forecaster_rf = ForecasterAutoreg(\n",
    "                    regressor=RandomForestRegressor(random_state=123),\n",
    "                    n_lags=12\n",
    "                )\n",
    "\n",
    "forecaster_rf.fit(y=datos_train)"
   ]
  },
  {
   "cell_type": "markdown",
   "metadata": {},
   "source": [
    "### Predicciones\n",
    "<br>\n",
    "\n",
    "Una vez entrenado el modelo, se predicen los datos de test (36 meses a futuro)."
   ]
  },
  {
   "cell_type": "code",
   "execution_count": 21,
   "metadata": {},
   "outputs": [
    {
     "data": {
      "text/plain": [
       "fecha\n",
       "2005-07-01    0.934097\n",
       "2005-08-01    0.945229\n",
       "2005-09-01    1.102927\n",
       "2005-10-01    1.129161\n",
       "2005-11-01    1.123106\n",
       "Freq: MS, dtype: float64"
      ]
     },
     "execution_count": 21,
     "metadata": {},
     "output_type": "execute_result"
    }
   ],
   "source": [
    "# Predicciones\n",
    "# ==============================================================================\n",
    "steps = 36\n",
    "predicciones = forecaster_rf.predict(steps=steps)\n",
    "# Se añade el índice temporal a las predicciones\n",
    "predicciones = pd.Series(data=predicciones, index=datos_test.index)\n",
    "predicciones.head()"
   ]
  },
  {
   "cell_type": "code",
   "execution_count": 22,
   "metadata": {},
   "outputs": [
    {
     "data": {
      "image/png": "[encoded data removed]",
      "text/plain": [
       "<Figure size 648x288 with 1 Axes>"
      ]
     },
     "metadata": {
      "needs_background": "light"
     },
     "output_type": "display_data"
    }
   ],
   "source": [
    "# Gráfico\n",
    "# ==============================================================================\n",
    "fig, ax=plt.subplots(figsize=(9, 4))\n",
    "datos_train.plot(ax=ax, label='train')\n",
    "datos_test.plot(ax=ax, label='test')\n",
    "predicciones.plot(ax=ax, label='predicciones')\n",
    "ax.legend();"
   ]
  },
  {
   "cell_type": "markdown",
   "metadata": {},
   "source": [
    "### Error predicciones\n",
    "<br>\n",
    "\n",
    "Se cuantifica el error que comete el modelo en sus predicciones. En este caso, se emplea como métrica el *mean squared error (mse)*."
   ]
  },
  {
   "cell_type": "code",
   "execution_count": 23,
   "metadata": {},
   "outputs": [
    {
     "name": "stdout",
     "output_type": "stream",
     "text": [
      "Error de test (mse): 0.004192407232869847\n"
     ]
    }
   ],
   "source": [
    "# Error\n",
    "# ==============================================================================\n",
    "error_mse = mean_squared_error(\n",
    "                y_true = datos_test,\n",
    "                y_pred = predicciones\n",
    "            )\n",
    "print(f\"Error de test (mse): {error_mse}\")"
   ]
  },
  {
   "cell_type": "markdown",
   "metadata": {},
   "source": [
    "### Ajuste de hiperparámetros (*tuning*)\n",
    "<br>\n",
    "\n",
    "El `ForecasterAutoreg` entrenado ha utilizado una ventana temporal de 12 lags y un modelo [Random Forest](https://www.cienciadedatos.net/documentos/py08_random_forest_python.html) con los hiperparámetros por defecto. Sin embargo, no hay ninguna razón por la que estos valores sean los más adecuados.\n",
    "\n",
    "Con el objetivo de identificar la mejor combinación de lags e hiperparámetros, se recurre a [validación cruzada temporal](https://stats.stackexchange.com/questions/14099/using-k-fold-cross-validation-for-time-series-model-selection)."
   ]
  },
  {
   "cell_type": "code",
   "execution_count": 12,
   "metadata": {},
   "outputs": [
    {
     "name": "stderr",
     "output_type": "stream",
     "text": [
      "loop n_lags_grid:   0%|          | 0/3 [00:00<?, ?it/s]\n",
      "loop param_grid:   0%|          | 0/9 [00:00<?, ?it/s]\u001b[A\n",
      "loop param_grid:  11%|█         | 1/9 [00:01<00:12,  1.59s/it]\u001b[A\n",
      "loop param_grid:  22%|██▏       | 2/9 [00:09<00:36,  5.16s/it]\u001b[A\n",
      "loop param_grid:  33%|███▎      | 3/9 [00:24<00:58,  9.77s/it]\u001b[A\n",
      "loop param_grid:  44%|████▍     | 4/9 [00:26<00:32,  6.56s/it]\u001b[A\n",
      "loop param_grid:  56%|█████▌    | 5/9 [00:34<00:28,  7.15s/it]\u001b[A\n",
      "loop param_grid:  67%|██████▋   | 6/9 [00:49<00:29,  9.76s/it]\u001b[A\n",
      "loop param_grid:  78%|███████▊  | 7/9 [00:50<00:14,  7.13s/it]\u001b[A\n",
      "loop param_grid:  89%|████████▉ | 8/9 [00:59<00:07,  7.44s/it]\u001b[A\n",
      "loop param_grid: 100%|██████████| 9/9 [01:13<00:00,  9.76s/it]\u001b[A\n",
      "loop n_lags_grid:  33%|███▎      | 1/3 [01:13<02:27, 73.87s/it][A\n",
      "loop param_grid:   0%|          | 0/9 [00:00<?, ?it/s]\u001b[A\n",
      "loop param_grid:  11%|█         | 1/9 [00:01<00:13,  1.70s/it]\u001b[A\n",
      "loop param_grid:  22%|██▏       | 2/9 [00:09<00:37,  5.42s/it]\u001b[A\n",
      "loop param_grid:  33%|███▎      | 3/9 [00:25<01:01, 10.30s/it]\u001b[A\n",
      "loop param_grid:  44%|████▍     | 4/9 [00:27<00:34,  6.93s/it]\u001b[A\n",
      "loop param_grid:  56%|█████▌    | 5/9 [00:35<00:29,  7.44s/it]\u001b[A\n",
      "loop n_lags_grid:  33%|███▎      | 1/3 [01:52<03:44, 112.05s/it]A\n"
     ]
    },
    {
     "ename": "KeyboardInterrupt",
     "evalue": "",
     "output_type": "error",
     "traceback": [
      "\u001b[0;31m---------------------------------------------------------------------------\u001b[0m",
      "\u001b[0;31mKeyboardInterrupt\u001b[0m                         Traceback (most recent call last)",
      "\u001b[0;32m<ipython-input-12-bb1799f02202>\u001b[0m in \u001b[0;36m<module>\u001b[0;34m\u001b[0m\n\u001b[1;32m     22\u001b[0m                         \u001b[0minitial_train_size\u001b[0m    \u001b[0;34m=\u001b[0m \u001b[0mint\u001b[0m\u001b[0;34m(\u001b[0m\u001b[0mlen\u001b[0m\u001b[0;34m(\u001b[0m\u001b[0mdatos_train\u001b[0m\u001b[0;34m)\u001b[0m\u001b[0;34m*\u001b[0m\u001b[0;36m0.5\u001b[0m\u001b[0;34m)\u001b[0m\u001b[0;34m,\u001b[0m\u001b[0;34m\u001b[0m\u001b[0;34m\u001b[0m\u001b[0m\n\u001b[1;32m     23\u001b[0m                         \u001b[0mallow_incomplete_fold\u001b[0m \u001b[0;34m=\u001b[0m \u001b[0;32mFalse\u001b[0m\u001b[0;34m,\u001b[0m\u001b[0;34m\u001b[0m\u001b[0;34m\u001b[0m\u001b[0m\n\u001b[0;32m---> 24\u001b[0;31m                         \u001b[0mreturn_best\u001b[0m \u001b[0;34m=\u001b[0m \u001b[0;32mTrue\u001b[0m\u001b[0;34m\u001b[0m\u001b[0;34m\u001b[0m\u001b[0m\n\u001b[0m\u001b[1;32m     25\u001b[0m                     )\n",
      "\u001b[0;32m<ipython-input-2-b66782dba54e>\u001b[0m in \u001b[0;36mgrid_search_forecaster\u001b[0;34m(forecaster, y, param_grid, initial_train_size, steps, metric, exog, n_lags_grid, allow_incomplete_fold, return_best)\u001b[0m\n\u001b[1;32m    595\u001b[0m                             \u001b[0minitial_train_size\u001b[0m \u001b[0;34m=\u001b[0m \u001b[0minitial_train_size\u001b[0m\u001b[0;34m,\u001b[0m\u001b[0;34m\u001b[0m\u001b[0;34m\u001b[0m\u001b[0m\n\u001b[1;32m    596\u001b[0m                             \u001b[0msteps\u001b[0m  \u001b[0;34m=\u001b[0m \u001b[0msteps\u001b[0m\u001b[0;34m,\u001b[0m\u001b[0;34m\u001b[0m\u001b[0;34m\u001b[0m\u001b[0m\n\u001b[0;32m--> 597\u001b[0;31m                             \u001b[0mmetric\u001b[0m \u001b[0;34m=\u001b[0m \u001b[0mmetric\u001b[0m\u001b[0;34m\u001b[0m\u001b[0;34m\u001b[0m\u001b[0m\n\u001b[0m\u001b[1;32m    598\u001b[0m                          )\n\u001b[1;32m    599\u001b[0m \u001b[0;34m\u001b[0m\u001b[0m\n",
      "\u001b[0;32m<ipython-input-2-b66782dba54e>\u001b[0m in \u001b[0;36mts_cv_forecaster\u001b[0;34m(forecaster, y, initial_train_size, steps, metric, exog, allow_incomplete_fold)\u001b[0m\n\u001b[1;32m    497\u001b[0m         \u001b[0;32mif\u001b[0m \u001b[0mexog\u001b[0m \u001b[0;32mis\u001b[0m \u001b[0;32mNone\u001b[0m\u001b[0;34m:\u001b[0m\u001b[0;34m\u001b[0m\u001b[0;34m\u001b[0m\u001b[0m\n\u001b[1;32m    498\u001b[0m \u001b[0;34m\u001b[0m\u001b[0m\n\u001b[0;32m--> 499\u001b[0;31m             \u001b[0mforecaster\u001b[0m\u001b[0;34m.\u001b[0m\u001b[0mfit\u001b[0m\u001b[0;34m(\u001b[0m\u001b[0my\u001b[0m\u001b[0;34m=\u001b[0m\u001b[0my\u001b[0m\u001b[0;34m[\u001b[0m\u001b[0mtrain_index\u001b[0m\u001b[0;34m]\u001b[0m\u001b[0;34m)\u001b[0m\u001b[0;34m\u001b[0m\u001b[0;34m\u001b[0m\u001b[0m\n\u001b[0m\u001b[1;32m    500\u001b[0m             \u001b[0mpred\u001b[0m \u001b[0;34m=\u001b[0m \u001b[0mforecaster\u001b[0m\u001b[0;34m.\u001b[0m\u001b[0mpredict\u001b[0m\u001b[0;34m(\u001b[0m\u001b[0msteps\u001b[0m\u001b[0;34m=\u001b[0m\u001b[0mlen\u001b[0m\u001b[0;34m(\u001b[0m\u001b[0mtest_index\u001b[0m\u001b[0;34m)\u001b[0m\u001b[0;34m)\u001b[0m\u001b[0;34m\u001b[0m\u001b[0;34m\u001b[0m\u001b[0m\n\u001b[1;32m    501\u001b[0m \u001b[0;34m\u001b[0m\u001b[0m\n",
      "\u001b[0;32m<ipython-input-2-b66782dba54e>\u001b[0m in \u001b[0;36mfit\u001b[0;34m(self, y, exog)\u001b[0m\n\u001b[1;32m    151\u001b[0m \u001b[0;34m\u001b[0m\u001b[0m\n\u001b[1;32m    152\u001b[0m         \u001b[0;32melse\u001b[0m\u001b[0;34m:\u001b[0m\u001b[0;34m\u001b[0m\u001b[0;34m\u001b[0m\u001b[0m\n\u001b[0;32m--> 153\u001b[0;31m             \u001b[0mself\u001b[0m\u001b[0;34m.\u001b[0m\u001b[0mregressor\u001b[0m\u001b[0;34m.\u001b[0m\u001b[0mfit\u001b[0m\u001b[0;34m(\u001b[0m\u001b[0mX\u001b[0m\u001b[0;34m=\u001b[0m\u001b[0mX_train\u001b[0m\u001b[0;34m,\u001b[0m \u001b[0my\u001b[0m\u001b[0;34m=\u001b[0m\u001b[0my_train\u001b[0m\u001b[0;34m)\u001b[0m\u001b[0;34m\u001b[0m\u001b[0;34m\u001b[0m\u001b[0m\n\u001b[0m\u001b[1;32m    154\u001b[0m \u001b[0;34m\u001b[0m\u001b[0m\n\u001b[1;32m    155\u001b[0m         \u001b[0;31m# Se guarda la última ventana temporal de lags de entrenamiento para que\u001b[0m\u001b[0;34m\u001b[0m\u001b[0;34m\u001b[0m\u001b[0;34m\u001b[0m\u001b[0m\n",
      "\u001b[0;32m~/miniconda3/envs/cienciadedatos/lib/python3.7/site-packages/sklearn/ensemble/_forest.py\u001b[0m in \u001b[0;36mfit\u001b[0;34m(self, X, y, sample_weight)\u001b[0m\n\u001b[1;32m    391\u001b[0m                     \u001b[0mverbose\u001b[0m\u001b[0;34m=\u001b[0m\u001b[0mself\u001b[0m\u001b[0;34m.\u001b[0m\u001b[0mverbose\u001b[0m\u001b[0;34m,\u001b[0m \u001b[0mclass_weight\u001b[0m\u001b[0;34m=\u001b[0m\u001b[0mself\u001b[0m\u001b[0;34m.\u001b[0m\u001b[0mclass_weight\u001b[0m\u001b[0;34m,\u001b[0m\u001b[0;34m\u001b[0m\u001b[0;34m\u001b[0m\u001b[0m\n\u001b[1;32m    392\u001b[0m                     n_samples_bootstrap=n_samples_bootstrap)\n\u001b[0;32m--> 393\u001b[0;31m                 for i, t in enumerate(trees))\n\u001b[0m\u001b[1;32m    394\u001b[0m \u001b[0;34m\u001b[0m\u001b[0m\n\u001b[1;32m    395\u001b[0m             \u001b[0;31m# Collect newly grown trees\u001b[0m\u001b[0;34m\u001b[0m\u001b[0;34m\u001b[0m\u001b[0;34m\u001b[0m\u001b[0m\n",
      "\u001b[0;32m~/miniconda3/envs/cienciadedatos/lib/python3.7/site-packages/joblib/parallel.py\u001b[0m in \u001b[0;36m__call__\u001b[0;34m(self, iterable)\u001b[0m\n\u001b[1;32m   1042\u001b[0m                 \u001b[0mself\u001b[0m\u001b[0;34m.\u001b[0m\u001b[0m_iterating\u001b[0m \u001b[0;34m=\u001b[0m \u001b[0mself\u001b[0m\u001b[0;34m.\u001b[0m\u001b[0m_original_iterator\u001b[0m \u001b[0;32mis\u001b[0m \u001b[0;32mnot\u001b[0m \u001b[0;32mNone\u001b[0m\u001b[0;34m\u001b[0m\u001b[0;34m\u001b[0m\u001b[0m\n\u001b[1;32m   1043\u001b[0m \u001b[0;34m\u001b[0m\u001b[0m\n\u001b[0;32m-> 1044\u001b[0;31m             \u001b[0;32mwhile\u001b[0m \u001b[0mself\u001b[0m\u001b[0;34m.\u001b[0m\u001b[0mdispatch_one_batch\u001b[0m\u001b[0;34m(\u001b[0m\u001b[0miterator\u001b[0m\u001b[0;34m)\u001b[0m\u001b[0;34m:\u001b[0m\u001b[0;34m\u001b[0m\u001b[0;34m\u001b[0m\u001b[0m\n\u001b[0m\u001b[1;32m   1045\u001b[0m                 \u001b[0;32mpass\u001b[0m\u001b[0;34m\u001b[0m\u001b[0;34m\u001b[0m\u001b[0m\n\u001b[1;32m   1046\u001b[0m \u001b[0;34m\u001b[0m\u001b[0m\n",
      "\u001b[0;32m~/miniconda3/envs/cienciadedatos/lib/python3.7/site-packages/joblib/parallel.py\u001b[0m in \u001b[0;36mdispatch_one_batch\u001b[0;34m(self, iterator)\u001b[0m\n\u001b[1;32m    857\u001b[0m                 \u001b[0;32mreturn\u001b[0m \u001b[0;32mFalse\u001b[0m\u001b[0;34m\u001b[0m\u001b[0;34m\u001b[0m\u001b[0m\n\u001b[1;32m    858\u001b[0m             \u001b[0;32melse\u001b[0m\u001b[0;34m:\u001b[0m\u001b[0;34m\u001b[0m\u001b[0;34m\u001b[0m\u001b[0m\n\u001b[0;32m--> 859\u001b[0;31m                 \u001b[0mself\u001b[0m\u001b[0;34m.\u001b[0m\u001b[0m_dispatch\u001b[0m\u001b[0;34m(\u001b[0m\u001b[0mtasks\u001b[0m\u001b[0;34m)\u001b[0m\u001b[0;34m\u001b[0m\u001b[0;34m\u001b[0m\u001b[0m\n\u001b[0m\u001b[1;32m    860\u001b[0m                 \u001b[0;32mreturn\u001b[0m \u001b[0;32mTrue\u001b[0m\u001b[0;34m\u001b[0m\u001b[0;34m\u001b[0m\u001b[0m\n\u001b[1;32m    861\u001b[0m \u001b[0;34m\u001b[0m\u001b[0m\n",
      "\u001b[0;32m~/miniconda3/envs/cienciadedatos/lib/python3.7/site-packages/joblib/parallel.py\u001b[0m in \u001b[0;36m_dispatch\u001b[0;34m(self, batch)\u001b[0m\n\u001b[1;32m    775\u001b[0m         \u001b[0;32mwith\u001b[0m \u001b[0mself\u001b[0m\u001b[0;34m.\u001b[0m\u001b[0m_lock\u001b[0m\u001b[0;34m:\u001b[0m\u001b[0;34m\u001b[0m\u001b[0;34m\u001b[0m\u001b[0m\n\u001b[1;32m    776\u001b[0m             \u001b[0mjob_idx\u001b[0m \u001b[0;34m=\u001b[0m \u001b[0mlen\u001b[0m\u001b[0;34m(\u001b[0m\u001b[0mself\u001b[0m\u001b[0;34m.\u001b[0m\u001b[0m_jobs\u001b[0m\u001b[0;34m)\u001b[0m\u001b[0;34m\u001b[0m\u001b[0;34m\u001b[0m\u001b[0m\n\u001b[0;32m--> 777\u001b[0;31m             \u001b[0mjob\u001b[0m \u001b[0;34m=\u001b[0m \u001b[0mself\u001b[0m\u001b[0;34m.\u001b[0m\u001b[0m_backend\u001b[0m\u001b[0;34m.\u001b[0m\u001b[0mapply_async\u001b[0m\u001b[0;34m(\u001b[0m\u001b[0mbatch\u001b[0m\u001b[0;34m,\u001b[0m \u001b[0mcallback\u001b[0m\u001b[0;34m=\u001b[0m\u001b[0mcb\u001b[0m\u001b[0;34m)\u001b[0m\u001b[0;34m\u001b[0m\u001b[0;34m\u001b[0m\u001b[0m\n\u001b[0m\u001b[1;32m    778\u001b[0m             \u001b[0;31m# A job can complete so quickly than its callback is\u001b[0m\u001b[0;34m\u001b[0m\u001b[0;34m\u001b[0m\u001b[0;34m\u001b[0m\u001b[0m\n\u001b[1;32m    779\u001b[0m             \u001b[0;31m# called before we get here, causing self._jobs to\u001b[0m\u001b[0;34m\u001b[0m\u001b[0;34m\u001b[0m\u001b[0;34m\u001b[0m\u001b[0m\n",
      "\u001b[0;32m~/miniconda3/envs/cienciadedatos/lib/python3.7/site-packages/joblib/_parallel_backends.py\u001b[0m in \u001b[0;36mapply_async\u001b[0;34m(self, func, callback)\u001b[0m\n\u001b[1;32m    206\u001b[0m     \u001b[0;32mdef\u001b[0m \u001b[0mapply_async\u001b[0m\u001b[0;34m(\u001b[0m\u001b[0mself\u001b[0m\u001b[0;34m,\u001b[0m \u001b[0mfunc\u001b[0m\u001b[0;34m,\u001b[0m \u001b[0mcallback\u001b[0m\u001b[0;34m=\u001b[0m\u001b[0;32mNone\u001b[0m\u001b[0;34m)\u001b[0m\u001b[0;34m:\u001b[0m\u001b[0;34m\u001b[0m\u001b[0;34m\u001b[0m\u001b[0m\n\u001b[1;32m    207\u001b[0m         \u001b[0;34m\"\"\"Schedule a func to be run\"\"\"\u001b[0m\u001b[0;34m\u001b[0m\u001b[0;34m\u001b[0m\u001b[0m\n\u001b[0;32m--> 208\u001b[0;31m         \u001b[0mresult\u001b[0m \u001b[0;34m=\u001b[0m \u001b[0mImmediateResult\u001b[0m\u001b[0;34m(\u001b[0m\u001b[0mfunc\u001b[0m\u001b[0;34m)\u001b[0m\u001b[0;34m\u001b[0m\u001b[0;34m\u001b[0m\u001b[0m\n\u001b[0m\u001b[1;32m    209\u001b[0m         \u001b[0;32mif\u001b[0m \u001b[0mcallback\u001b[0m\u001b[0;34m:\u001b[0m\u001b[0;34m\u001b[0m\u001b[0;34m\u001b[0m\u001b[0m\n\u001b[1;32m    210\u001b[0m             \u001b[0mcallback\u001b[0m\u001b[0;34m(\u001b[0m\u001b[0mresult\u001b[0m\u001b[0;34m)\u001b[0m\u001b[0;34m\u001b[0m\u001b[0;34m\u001b[0m\u001b[0m\n",
      "\u001b[0;32m~/miniconda3/envs/cienciadedatos/lib/python3.7/site-packages/joblib/_parallel_backends.py\u001b[0m in \u001b[0;36m__init__\u001b[0;34m(self, batch)\u001b[0m\n\u001b[1;32m    570\u001b[0m         \u001b[0;31m# Don't delay the application, to avoid keeping the input\u001b[0m\u001b[0;34m\u001b[0m\u001b[0;34m\u001b[0m\u001b[0;34m\u001b[0m\u001b[0m\n\u001b[1;32m    571\u001b[0m         \u001b[0;31m# arguments in memory\u001b[0m\u001b[0;34m\u001b[0m\u001b[0;34m\u001b[0m\u001b[0;34m\u001b[0m\u001b[0m\n\u001b[0;32m--> 572\u001b[0;31m         \u001b[0mself\u001b[0m\u001b[0;34m.\u001b[0m\u001b[0mresults\u001b[0m \u001b[0;34m=\u001b[0m \u001b[0mbatch\u001b[0m\u001b[0;34m(\u001b[0m\u001b[0;34m)\u001b[0m\u001b[0;34m\u001b[0m\u001b[0;34m\u001b[0m\u001b[0m\n\u001b[0m\u001b[1;32m    573\u001b[0m \u001b[0;34m\u001b[0m\u001b[0m\n\u001b[1;32m    574\u001b[0m     \u001b[0;32mdef\u001b[0m \u001b[0mget\u001b[0m\u001b[0;34m(\u001b[0m\u001b[0mself\u001b[0m\u001b[0;34m)\u001b[0m\u001b[0;34m:\u001b[0m\u001b[0;34m\u001b[0m\u001b[0;34m\u001b[0m\u001b[0m\n",
      "\u001b[0;32m~/miniconda3/envs/cienciadedatos/lib/python3.7/site-packages/joblib/parallel.py\u001b[0m in \u001b[0;36m__call__\u001b[0;34m(self)\u001b[0m\n\u001b[1;32m    261\u001b[0m         \u001b[0;32mwith\u001b[0m \u001b[0mparallel_backend\u001b[0m\u001b[0;34m(\u001b[0m\u001b[0mself\u001b[0m\u001b[0;34m.\u001b[0m\u001b[0m_backend\u001b[0m\u001b[0;34m,\u001b[0m \u001b[0mn_jobs\u001b[0m\u001b[0;34m=\u001b[0m\u001b[0mself\u001b[0m\u001b[0;34m.\u001b[0m\u001b[0m_n_jobs\u001b[0m\u001b[0;34m)\u001b[0m\u001b[0;34m:\u001b[0m\u001b[0;34m\u001b[0m\u001b[0;34m\u001b[0m\u001b[0m\n\u001b[1;32m    262\u001b[0m             return [func(*args, **kwargs)\n\u001b[0;32m--> 263\u001b[0;31m                     for func, args, kwargs in self.items]\n\u001b[0m\u001b[1;32m    264\u001b[0m \u001b[0;34m\u001b[0m\u001b[0m\n\u001b[1;32m    265\u001b[0m     \u001b[0;32mdef\u001b[0m \u001b[0m__reduce__\u001b[0m\u001b[0;34m(\u001b[0m\u001b[0mself\u001b[0m\u001b[0;34m)\u001b[0m\u001b[0;34m:\u001b[0m\u001b[0;34m\u001b[0m\u001b[0;34m\u001b[0m\u001b[0m\n",
      "\u001b[0;32m~/miniconda3/envs/cienciadedatos/lib/python3.7/site-packages/joblib/parallel.py\u001b[0m in \u001b[0;36m<listcomp>\u001b[0;34m(.0)\u001b[0m\n\u001b[1;32m    261\u001b[0m         \u001b[0;32mwith\u001b[0m \u001b[0mparallel_backend\u001b[0m\u001b[0;34m(\u001b[0m\u001b[0mself\u001b[0m\u001b[0;34m.\u001b[0m\u001b[0m_backend\u001b[0m\u001b[0;34m,\u001b[0m \u001b[0mn_jobs\u001b[0m\u001b[0;34m=\u001b[0m\u001b[0mself\u001b[0m\u001b[0;34m.\u001b[0m\u001b[0m_n_jobs\u001b[0m\u001b[0;34m)\u001b[0m\u001b[0;34m:\u001b[0m\u001b[0;34m\u001b[0m\u001b[0;34m\u001b[0m\u001b[0m\n\u001b[1;32m    262\u001b[0m             return [func(*args, **kwargs)\n\u001b[0;32m--> 263\u001b[0;31m                     for func, args, kwargs in self.items]\n\u001b[0m\u001b[1;32m    264\u001b[0m \u001b[0;34m\u001b[0m\u001b[0m\n\u001b[1;32m    265\u001b[0m     \u001b[0;32mdef\u001b[0m \u001b[0m__reduce__\u001b[0m\u001b[0;34m(\u001b[0m\u001b[0mself\u001b[0m\u001b[0;34m)\u001b[0m\u001b[0;34m:\u001b[0m\u001b[0;34m\u001b[0m\u001b[0;34m\u001b[0m\u001b[0m\n",
      "\u001b[0;32m~/miniconda3/envs/cienciadedatos/lib/python3.7/site-packages/sklearn/utils/fixes.py\u001b[0m in \u001b[0;36m__call__\u001b[0;34m(self, *args, **kwargs)\u001b[0m\n\u001b[1;32m    220\u001b[0m     \u001b[0;32mdef\u001b[0m \u001b[0m__call__\u001b[0m\u001b[0;34m(\u001b[0m\u001b[0mself\u001b[0m\u001b[0;34m,\u001b[0m \u001b[0;34m*\u001b[0m\u001b[0margs\u001b[0m\u001b[0;34m,\u001b[0m \u001b[0;34m**\u001b[0m\u001b[0mkwargs\u001b[0m\u001b[0;34m)\u001b[0m\u001b[0;34m:\u001b[0m\u001b[0;34m\u001b[0m\u001b[0;34m\u001b[0m\u001b[0m\n\u001b[1;32m    221\u001b[0m         \u001b[0;32mwith\u001b[0m \u001b[0mconfig_context\u001b[0m\u001b[0;34m(\u001b[0m\u001b[0;34m**\u001b[0m\u001b[0mself\u001b[0m\u001b[0;34m.\u001b[0m\u001b[0mconfig\u001b[0m\u001b[0;34m)\u001b[0m\u001b[0;34m:\u001b[0m\u001b[0;34m\u001b[0m\u001b[0;34m\u001b[0m\u001b[0m\n\u001b[0;32m--> 222\u001b[0;31m             \u001b[0;32mreturn\u001b[0m \u001b[0mself\u001b[0m\u001b[0;34m.\u001b[0m\u001b[0mfunction\u001b[0m\u001b[0;34m(\u001b[0m\u001b[0;34m*\u001b[0m\u001b[0margs\u001b[0m\u001b[0;34m,\u001b[0m \u001b[0;34m**\u001b[0m\u001b[0mkwargs\u001b[0m\u001b[0;34m)\u001b[0m\u001b[0;34m\u001b[0m\u001b[0;34m\u001b[0m\u001b[0m\n\u001b[0m",
      "\u001b[0;32m~/miniconda3/envs/cienciadedatos/lib/python3.7/site-packages/sklearn/ensemble/_forest.py\u001b[0m in \u001b[0;36m_parallel_build_trees\u001b[0;34m(tree, forest, X, y, sample_weight, tree_idx, n_trees, verbose, class_weight, n_samples_bootstrap)\u001b[0m\n\u001b[1;32m    167\u001b[0m                                                         indices=indices)\n\u001b[1;32m    168\u001b[0m \u001b[0;34m\u001b[0m\u001b[0m\n\u001b[0;32m--> 169\u001b[0;31m         \u001b[0mtree\u001b[0m\u001b[0;34m.\u001b[0m\u001b[0mfit\u001b[0m\u001b[0;34m(\u001b[0m\u001b[0mX\u001b[0m\u001b[0;34m,\u001b[0m \u001b[0my\u001b[0m\u001b[0;34m,\u001b[0m \u001b[0msample_weight\u001b[0m\u001b[0;34m=\u001b[0m\u001b[0mcurr_sample_weight\u001b[0m\u001b[0;34m,\u001b[0m \u001b[0mcheck_input\u001b[0m\u001b[0;34m=\u001b[0m\u001b[0;32mFalse\u001b[0m\u001b[0;34m)\u001b[0m\u001b[0;34m\u001b[0m\u001b[0;34m\u001b[0m\u001b[0m\n\u001b[0m\u001b[1;32m    170\u001b[0m     \u001b[0;32melse\u001b[0m\u001b[0;34m:\u001b[0m\u001b[0;34m\u001b[0m\u001b[0;34m\u001b[0m\u001b[0m\n\u001b[1;32m    171\u001b[0m         \u001b[0mtree\u001b[0m\u001b[0;34m.\u001b[0m\u001b[0mfit\u001b[0m\u001b[0;34m(\u001b[0m\u001b[0mX\u001b[0m\u001b[0;34m,\u001b[0m \u001b[0my\u001b[0m\u001b[0;34m,\u001b[0m \u001b[0msample_weight\u001b[0m\u001b[0;34m=\u001b[0m\u001b[0msample_weight\u001b[0m\u001b[0;34m,\u001b[0m \u001b[0mcheck_input\u001b[0m\u001b[0;34m=\u001b[0m\u001b[0;32mFalse\u001b[0m\u001b[0;34m)\u001b[0m\u001b[0;34m\u001b[0m\u001b[0;34m\u001b[0m\u001b[0m\n",
      "\u001b[0;32m~/miniconda3/envs/cienciadedatos/lib/python3.7/site-packages/sklearn/tree/_classes.py\u001b[0m in \u001b[0;36mfit\u001b[0;34m(self, X, y, sample_weight, check_input, X_idx_sorted)\u001b[0m\n\u001b[1;32m   1249\u001b[0m             \u001b[0msample_weight\u001b[0m\u001b[0;34m=\u001b[0m\u001b[0msample_weight\u001b[0m\u001b[0;34m,\u001b[0m\u001b[0;34m\u001b[0m\u001b[0;34m\u001b[0m\u001b[0m\n\u001b[1;32m   1250\u001b[0m             \u001b[0mcheck_input\u001b[0m\u001b[0;34m=\u001b[0m\u001b[0mcheck_input\u001b[0m\u001b[0;34m,\u001b[0m\u001b[0;34m\u001b[0m\u001b[0;34m\u001b[0m\u001b[0m\n\u001b[0;32m-> 1251\u001b[0;31m             X_idx_sorted=X_idx_sorted)\n\u001b[0m\u001b[1;32m   1252\u001b[0m         \u001b[0;32mreturn\u001b[0m \u001b[0mself\u001b[0m\u001b[0;34m\u001b[0m\u001b[0;34m\u001b[0m\u001b[0m\n\u001b[1;32m   1253\u001b[0m \u001b[0;34m\u001b[0m\u001b[0m\n",
      "\u001b[0;32m~/miniconda3/envs/cienciadedatos/lib/python3.7/site-packages/sklearn/tree/_classes.py\u001b[0m in \u001b[0;36mfit\u001b[0;34m(self, X, y, sample_weight, check_input, X_idx_sorted)\u001b[0m\n\u001b[1;32m    387\u001b[0m                                            min_impurity_split)\n\u001b[1;32m    388\u001b[0m \u001b[0;34m\u001b[0m\u001b[0m\n\u001b[0;32m--> 389\u001b[0;31m         \u001b[0mbuilder\u001b[0m\u001b[0;34m.\u001b[0m\u001b[0mbuild\u001b[0m\u001b[0;34m(\u001b[0m\u001b[0mself\u001b[0m\u001b[0;34m.\u001b[0m\u001b[0mtree_\u001b[0m\u001b[0;34m,\u001b[0m \u001b[0mX\u001b[0m\u001b[0;34m,\u001b[0m \u001b[0my\u001b[0m\u001b[0;34m,\u001b[0m \u001b[0msample_weight\u001b[0m\u001b[0;34m)\u001b[0m\u001b[0;34m\u001b[0m\u001b[0;34m\u001b[0m\u001b[0m\n\u001b[0m\u001b[1;32m    390\u001b[0m \u001b[0;34m\u001b[0m\u001b[0m\n\u001b[1;32m    391\u001b[0m         \u001b[0;32mif\u001b[0m \u001b[0mself\u001b[0m\u001b[0;34m.\u001b[0m\u001b[0mn_outputs_\u001b[0m \u001b[0;34m==\u001b[0m \u001b[0;36m1\u001b[0m \u001b[0;32mand\u001b[0m \u001b[0mis_classifier\u001b[0m\u001b[0;34m(\u001b[0m\u001b[0mself\u001b[0m\u001b[0;34m)\u001b[0m\u001b[0;34m:\u001b[0m\u001b[0;34m\u001b[0m\u001b[0;34m\u001b[0m\u001b[0m\n",
      "\u001b[0;31mKeyboardInterrupt\u001b[0m: "
     ]
    }
   ],
   "source": [
    "# Grid search de hiperparámetros\n",
    "# ==============================================================================\n",
    "forecaster_rf = ForecasterAutoreg(\n",
    "                    regressor=RandomForestRegressor(random_state=123),\n",
    "                    n_lags=12\n",
    "                 )\n",
    "\n",
    "# Hiperparámetros del regresor\n",
    "param_grid = {'n_estimators': [100, 500, 1000],\n",
    "              'max_depth': [3, 5, 10]}\n",
    "\n",
    "# Número de lags utilizados como predictores\n",
    "n_lags_grid = [5, 12, 20]\n",
    "\n",
    "resultados_grid = grid_search_forecaster(\n",
    "                        forecaster  = forecaster_rf,\n",
    "                        y           = datos_train,\n",
    "                        param_grid  = param_grid,\n",
    "                        n_lags_grid = n_lags_grid,\n",
    "                        steps       = 10,\n",
    "                        metric      = 'neg_mean_squared_error',\n",
    "                        initial_train_size    = int(len(datos_train)*0.5),\n",
    "                        allow_incomplete_fold = False,\n",
    "                        return_best = True\n",
    "                    )"
   ]
  },
  {
   "cell_type": "code",
   "execution_count": null,
   "metadata": {},
   "outputs": [],
   "source": [
    "# Resultados Grid Search\n",
    "# ==============================================================================\n",
    "resultados_grid"
   ]
  },
  {
   "cell_type": "markdown",
   "metadata": {},
   "source": [
    "Los mejores resultados se obtienen si se utiliza una ventana temporal de 20 lags y una configuración de *random forest* {'max_depth': 10, 'n_estimators': 1000}."
   ]
  },
  {
   "cell_type": "markdown",
   "metadata": {},
   "source": [
    "### Modelo final\n",
    "<br> \n",
    "\n",
    "Finalmente, se entrena de nuevo un `ForecasterAutoreg` con la configuración óptima encontrada mediante validación. Este paso no es necesario si se indica `return_best = True` en la `función grid_search_forecaster()`."
   ]
  },
  {
   "cell_type": "code",
   "execution_count": 24,
   "metadata": {},
   "outputs": [],
   "source": [
    "# Crear y entrenar forecaster con mejores hiperparámetros\n",
    "# ==============================================================================\n",
    "regressor = RandomForestRegressor(max_depth=10, n_estimators=1000, random_state=123)\n",
    "\n",
    "forecaster_rf = ForecasterAutoreg(\n",
    "                    regressor=regressor,\n",
    "                    n_lags=20\n",
    "                )\n",
    "\n",
    "forecaster_rf.fit(y=datos_train)"
   ]
  },
  {
   "cell_type": "code",
   "execution_count": 25,
   "metadata": {},
   "outputs": [],
   "source": [
    "# Predicciones\n",
    "# ==============================================================================\n",
    "predicciones = forecaster_rf.predict(steps=steps)\n",
    "# Se añade el índice a las predicciones\n",
    "predicciones = pd.Series(data=predicciones, index=datos_test.index)"
   ]
  },
  {
   "cell_type": "code",
   "execution_count": 26,
   "metadata": {},
   "outputs": [
    {
     "data": {
      "image/png": "[encoded data removed]",
      "text/plain": [
       "<Figure size 648x288 with 1 Axes>"
      ]
     },
     "metadata": {
      "needs_background": "light"
     },
     "output_type": "display_data"
    }
   ],
   "source": [
    "# Gráfico\n",
    "# ==============================================================================\n",
    "fig, ax=plt.subplots(figsize=(9, 4))\n",
    "datos_train.plot(ax=ax, label='train')\n",
    "datos_test.plot(ax=ax, label='test')\n",
    "predicciones.plot(ax=ax, label='predicciones')\n",
    "ax.legend();"
   ]
  },
  {
   "cell_type": "code",
   "execution_count": 27,
   "metadata": {},
   "outputs": [
    {
     "name": "stdout",
     "output_type": "stream",
     "text": [
      "Error de test (mse) 0.003938402161262966\n"
     ]
    }
   ],
   "source": [
    "# Error\n",
    "# ==============================================================================\n",
    "error_mse = mean_squared_error(\n",
    "                y_true = datos_test,\n",
    "                y_pred = predicciones\n",
    "            )\n",
    "print(f\"Error de test (mse) {error_mse}\")"
   ]
  },
  {
   "cell_type": "markdown",
   "metadata": {},
   "source": [
    "Con la combinación óptima de hiperparámetros se consigue reducir el error de test de 0.0041 a 0.0039.\n",
    "<br><br>"
   ]
  },
  {
   "cell_type": "markdown",
   "metadata": {},
   "source": [
    "### Comparación con statsmodels\n",
    "<br>\n",
    "\n",
    "La librería [**statsmodels**](https://www.statsmodels.org/stable/examples/index.html#time-series-analysis) dispone de algunos de los principales modelos de *forecasting* (*AutoReg*, *AR*, *ARMA*, *ARIMA*). Se verifica que se obtienen los mismos resultados con *AutoReg* que con la clase `ForecasterAutoreg` si se utiliza un regresor lineal."
   ]
  },
  {
   "cell_type": "code",
   "execution_count": 28,
   "metadata": {},
   "outputs": [
    {
     "data": {
      "text/plain": [
       "True"
      ]
     },
     "execution_count": 28,
     "metadata": {},
     "output_type": "execute_result"
    }
   ],
   "source": [
    "# Modelo autorregresivo lineal statsmodels\n",
    "# ==============================================================================\n",
    "from statsmodels.tsa.ar_model import AutoReg\n",
    "n_lags = 15\n",
    "\n",
    "modelo_ar = AutoReg(datos_train, lags=n_lags)\n",
    "res = modelo_ar.fit()\n",
    "predicciones_statsmodels = res.predict(start=datos_test.index[0], end=datos_test.index[-1])\n",
    "\n",
    "# Modelo autorregresivo lineal Forecaster\n",
    "# ==============================================================================\n",
    "regressor = LinearRegression()\n",
    "forecaster = ForecasterAutoreg(regressor=regressor, n_lags=n_lags)\n",
    "forecaster.fit(y=datos_train)\n",
    "predicciones_forecaster = forecaster.predict(steps=36)\n",
    "\n",
    "# Verificación de que las predicciones de ambos modelos son iguales\n",
    "# ==============================================================================\n",
    "np.allclose(predicciones_statsmodels.values, predicciones_forecaster)"
   ]
  },
  {
   "cell_type": "markdown",
   "metadata": {},
   "source": [
    "## Forecasting con variables exógenas\n",
    "<br>\n",
    "\n",
    "En el ejemplo anterior, se han utilizado como predictores únicamente lags de la propia variable predicha. En ciertos escenarios, es posible disponer de información sobre otras variables, **cuyo valor a futuro se conoce**, y pueden servir como predictoreres adicionales en el  modelo."
   ]
  },
  {
   "cell_type": "markdown",
   "metadata": {},
   "source": [
    "### Ejemplo\n",
    "<br>\n",
    "\n",
    "Siguiendo con el ejemplo anterior, se simula una nueva variable cuyo comportamiento está correlacionado con la serie temporal modelada y que, por lo tanto, se quiere incorporar como predictor."
   ]
  },
  {
   "cell_type": "markdown",
   "metadata": {},
   "source": [
    "### Datos"
   ]
  },
  {
   "cell_type": "code",
   "execution_count": 29,
   "metadata": {},
   "outputs": [],
   "source": [
    "# Descarga de datos\n",
    "# ==============================================================================\n",
    "url = 'https://raw.githubusercontent.com/JoaquinAmatRodrigo/' \\\n",
    "      + 'Estadistica-machine-learning-python/master/data/h2o.csv'\n",
    "datos = pd.read_csv(url, sep=',')\n",
    "\n",
    "# Preparación del dato\n",
    "# ==============================================================================\n",
    "datos['fecha'] = pd.to_datetime(datos['fecha'], format='%Y/%m/%d')\n",
    "datos = datos.set_index('fecha')\n",
    "datos = datos.rename(columns={'x': 'y'})\n",
    "datos = datos.asfreq('MS')\n",
    "datos = datos['y']\n",
    "datos = datos.sort_index()"
   ]
  },
  {
   "cell_type": "code",
   "execution_count": 30,
   "metadata": {},
   "outputs": [
    {
     "data": {
      "image/png": "[encoded data removed]",
      "text/plain": [
       "<Figure size 648x288 with 1 Axes>"
      ]
     },
     "metadata": {
      "needs_background": "light"
     },
     "output_type": "display_data"
    }
   ],
   "source": [
    "# Datos\n",
    "# ==============================================================================\n",
    "datos_exog = datos.rolling(window=10, closed='right').mean() + 0.5\n",
    "datos_exog = datos_exog[10:]\n",
    "datos = datos[10:]\n",
    "\n",
    "fig, ax=plt.subplots(figsize=(9, 4))\n",
    "datos.plot(ax=ax, label='y')\n",
    "datos_exog.plot(ax=ax, label='variable exógena')\n",
    "ax.legend();"
   ]
  },
  {
   "cell_type": "code",
   "execution_count": 31,
   "metadata": {},
   "outputs": [],
   "source": [
    "# Separación datos train-test\n",
    "# ==============================================================================\n",
    "steps = 36\n",
    "datos_train = datos[:-steps]\n",
    "datos_test  = datos[-steps:]\n",
    "\n",
    "datos_exog_train = datos_exog[:-steps]\n",
    "datos_exog_test  = datos_exog[-steps:]"
   ]
  },
  {
   "cell_type": "markdown",
   "metadata": {},
   "source": [
    "### ForecasterAutoreg"
   ]
  },
  {
   "cell_type": "code",
   "execution_count": 32,
   "metadata": {},
   "outputs": [],
   "source": [
    "# Crear y entrenar forecaster\n",
    "# ==============================================================================\n",
    "forecaster_rf = ForecasterAutoreg(\n",
    "                    regressor=RandomForestRegressor(random_state=123),\n",
    "                    n_lags=10\n",
    "                )\n",
    "\n",
    "forecaster_rf.fit(y=datos_train, exog=datos_exog_train)"
   ]
  },
  {
   "cell_type": "markdown",
   "metadata": {},
   "source": [
    "### Predicciones\n",
    "<br>\n",
    "\n",
    "Si el `ForecasterAutoreg` se entrena con una variable exógena, hay que pasarle el valor de esta variable al predict(). Por lo tanto, solo es aplicable a escenarios en los que se dispone de información futura de la variable exógena."
   ]
  },
  {
   "cell_type": "code",
   "execution_count": 33,
   "metadata": {},
   "outputs": [],
   "source": [
    "# Predicciones\n",
    "# ==============================================================================\n",
    "predicciones = forecaster_rf.predict(steps=steps, exog=datos_exog_test)\n",
    "# Se añade el índice a las predicciones\n",
    "predicciones = pd.Series(data=predicciones, index=datos_test.index)"
   ]
  },
  {
   "cell_type": "code",
   "execution_count": 34,
   "metadata": {},
   "outputs": [
    {
     "data": {
      "image/png": "[encoded data removed]",
      "text/plain": [
       "<Figure size 648x288 with 1 Axes>"
      ]
     },
     "metadata": {
      "needs_background": "light"
     },
     "output_type": "display_data"
    }
   ],
   "source": [
    "# Gráfico\n",
    "# ==============================================================================\n",
    "fig, ax=plt.subplots(figsize=(9, 4))\n",
    "datos_train.plot(ax=ax, label='train')\n",
    "datos_test.plot(ax=ax, label='test')\n",
    "predicciones.plot(ax=ax, label='predicciones')\n",
    "ax.legend();"
   ]
  },
  {
   "cell_type": "markdown",
   "metadata": {},
   "source": [
    "### Error predicciones"
   ]
  },
  {
   "cell_type": "code",
   "execution_count": 35,
   "metadata": {},
   "outputs": [
    {
     "name": "stdout",
     "output_type": "stream",
     "text": [
      "Error de test (mse): 0.046234245254473394\n"
     ]
    }
   ],
   "source": [
    "# Error\n",
    "# ==============================================================================\n",
    "error_mse = mean_squared_error(\n",
    "                y_true = datos_test,\n",
    "                y_pred = predicciones\n",
    "            )\n",
    "print(f\"Error de test (mse): {error_mse}\")"
   ]
  },
  {
   "cell_type": "markdown",
   "metadata": {},
   "source": [
    "### Tuning del modelo"
   ]
  },
  {
   "cell_type": "code",
   "execution_count": 26,
   "metadata": {},
   "outputs": [
    {
     "name": "stderr",
     "output_type": "stream",
     "text": [
      "loop n_lags_grid:   0%|          | 0/3 [00:00<?, ?it/s]\n",
      "loop param_grid:   0%|          | 0/9 [00:00<?, ?it/s]\u001b[A\n",
      "loop param_grid:  11%|█         | 1/9 [00:01<00:09,  1.21s/it]\u001b[A\n",
      "loop param_grid:  22%|██▏       | 2/9 [00:02<00:10,  1.54s/it]\u001b[A\n",
      "loop param_grid:  33%|███▎      | 3/9 [00:09<00:23,  3.97s/it]\u001b[A\n",
      "loop param_grid:  44%|████▍     | 4/9 [00:11<00:14,  2.86s/it]\u001b[A\n",
      "loop param_grid:  56%|█████▌    | 5/9 [00:12<00:09,  2.48s/it]\u001b[A\n",
      "loop param_grid:  67%|██████▋   | 6/9 [00:19<00:12,  4.04s/it]\u001b[A\n",
      "loop param_grid:  78%|███████▊  | 7/9 [00:21<00:06,  3.10s/it]\u001b[A\n",
      "loop param_grid:  89%|████████▉ | 8/9 [00:22<00:02,  2.73s/it]\u001b[A\n",
      "loop param_grid: 100%|██████████| 9/9 [00:32<00:00,  4.98s/it]\u001b[A\n",
      "loop n_lags_grid:  33%|███▎      | 1/3 [00:32<01:05, 32.92s/it][A\n",
      "loop param_grid:   0%|          | 0/9 [00:00<?, ?it/s]\u001b[A\n",
      "loop param_grid:  11%|█         | 1/9 [00:01<00:15,  1.90s/it]\u001b[A\n",
      "loop param_grid:  22%|██▏       | 2/9 [00:04<00:15,  2.19s/it]\u001b[A\n",
      "loop param_grid:  33%|███▎      | 3/9 [00:11<00:26,  4.48s/it]\u001b[A\n",
      "loop param_grid:  44%|████▍     | 4/9 [00:12<00:15,  3.17s/it]\u001b[A\n",
      "loop param_grid:  56%|█████▌    | 5/9 [00:14<00:10,  2.70s/it]\u001b[A\n",
      "loop param_grid:  67%|██████▋   | 6/9 [00:21<00:12,  4.31s/it]\u001b[A\n",
      "loop param_grid:  78%|███████▊  | 7/9 [00:23<00:06,  3.30s/it]\u001b[A\n",
      "loop param_grid:  89%|████████▉ | 8/9 [00:25<00:02,  2.86s/it]\u001b[A\n",
      "loop param_grid: 100%|██████████| 9/9 [00:32<00:00,  4.40s/it]\u001b[A\n",
      "loop n_lags_grid:  67%|██████▋   | 2/3 [01:05<00:32, 32.91s/it][A\n",
      "loop param_grid:   0%|          | 0/9 [00:00<?, ?it/s]\u001b[A\n",
      "loop param_grid:  11%|█         | 1/9 [00:01<00:09,  1.13s/it]\u001b[A\n",
      "loop param_grid:  22%|██▏       | 2/9 [00:02<00:10,  1.54s/it]\u001b[A\n",
      "loop param_grid:  33%|███▎      | 3/9 [00:10<00:25,  4.17s/it]\u001b[A\n",
      "loop param_grid:  44%|████▍     | 4/9 [00:11<00:14,  2.99s/it]\u001b[A\n",
      "loop param_grid:  56%|█████▌    | 5/9 [00:13<00:10,  2.69s/it]\u001b[A\n",
      "loop param_grid:  67%|██████▋   | 6/9 [00:21<00:13,  4.52s/it]\u001b[A\n",
      "loop param_grid:  78%|███████▊  | 7/9 [00:22<00:06,  3.44s/it]\u001b[A\n",
      "loop param_grid:  89%|████████▉ | 8/9 [00:24<00:02,  2.98s/it]\u001b[A\n",
      "loop param_grid: 100%|██████████| 9/9 [00:33<00:00,  4.61s/it]\u001b[A\n",
      "loop n_lags_grid: 100%|██████████| 3/3 [01:38<00:00, 32.96s/it][A\n",
      "2021-02-13 10:18:14,052 root            INFO     Entrenando Forecaster con los mejores parámetros encontrados:\n",
      "2021-02-13 10:18:14,053 root            INFO     n_lags: 20, params: {'max_depth': 3, 'n_estimators': 50}\n"
     ]
    }
   ],
   "source": [
    "# Grid search de hiperparámetros\n",
    "# ==============================================================================\n",
    "forecaster_rf = ForecasterAutoreg(\n",
    "                    regressor=RandomForestRegressor(random_state=123),\n",
    "                    n_lags=12\n",
    "                 )\n",
    "\n",
    "param_grid = {'n_estimators': [50, 100, 500],\n",
    "              'max_depth': [3, 5, 10]}\n",
    "\n",
    "n_lags_grid = [5, 12, 20]\n",
    "\n",
    "resultados_grid = grid_search_forecaster(\n",
    "                        forecaster  = forecaster_rf,\n",
    "                        y           = datos_train,\n",
    "                        exog        = datos_exog_train,\n",
    "                        param_grid  = param_grid,\n",
    "                        n_lags_grid = n_lags_grid,\n",
    "                        steps       = 10,\n",
    "                        metric      = 'neg_mean_squared_error',\n",
    "                        initial_train_size    = int(len(datos_train)*0.5),\n",
    "                        allow_incomplete_fold = False,\n",
    "                        return_best = True\n",
    "                    )"
   ]
  },
  {
   "cell_type": "code",
   "execution_count": 36,
   "metadata": {},
   "outputs": [
    {
     "ename": "NameError",
     "evalue": "name 'resultados_grid' is not defined",
     "output_type": "error",
     "traceback": [
      "\u001b[0;31m---------------------------------------------------------------------------\u001b[0m",
      "\u001b[0;31mNameError\u001b[0m                                 Traceback (most recent call last)",
      "\u001b[0;32m<ipython-input-36-ad2a4b9c7703>\u001b[0m in \u001b[0;36m<module>\u001b[0;34m\u001b[0m\n\u001b[1;32m      1\u001b[0m \u001b[0;31m# Resultados Grid Search\u001b[0m\u001b[0;34m\u001b[0m\u001b[0;34m\u001b[0m\u001b[0;34m\u001b[0m\u001b[0m\n\u001b[1;32m      2\u001b[0m \u001b[0;31m# ==============================================================================\u001b[0m\u001b[0;34m\u001b[0m\u001b[0;34m\u001b[0m\u001b[0;34m\u001b[0m\u001b[0m\n\u001b[0;32m----> 3\u001b[0;31m \u001b[0mresultados_grid\u001b[0m\u001b[0;34m.\u001b[0m\u001b[0mhead\u001b[0m\u001b[0;34m(\u001b[0m\u001b[0;34m)\u001b[0m\u001b[0;34m\u001b[0m\u001b[0;34m\u001b[0m\u001b[0m\n\u001b[0m",
      "\u001b[0;31mNameError\u001b[0m: name 'resultados_grid' is not defined"
     ]
    }
   ],
   "source": [
    "# Resultados Grid Search\n",
    "# ==============================================================================\n",
    "resultados_grid.head()"
   ]
  },
  {
   "cell_type": "markdown",
   "metadata": {},
   "source": [
    "Los mejores resultados se obtienen utilizando una ventana temporal de 20 lags y una configuración de random forest {'max_depth': 3, 'n_estimators': 50}."
   ]
  },
  {
   "cell_type": "markdown",
   "metadata": {},
   "source": [
    "### Modelo final\n",
    "<br>\n",
    "\n",
    "Como se ha indicado `return_best = True` en el `grid_search_forecaster()`, el objeto `ForecasterAutoreg` ha sido modificado y entrenado con la mejor combinación encontrada."
   ]
  },
  {
   "cell_type": "code",
   "execution_count": 37,
   "metadata": {},
   "outputs": [
    {
     "data": {
      "image/png": "[encoded data removed]",
      "text/plain": [
       "<Figure size 648x288 with 1 Axes>"
      ]
     },
     "metadata": {
      "needs_background": "light"
     },
     "output_type": "display_data"
    }
   ],
   "source": [
    "# Predicciones\n",
    "# ==============================================================================\n",
    "predicciones = forecaster_rf.predict(steps=steps, exog=datos_exog_test)\n",
    "# Se añade el índice a las predicciones\n",
    "predicciones = pd.Series(data=predicciones, index=datos_test.index)\n",
    "\n",
    "# Gráfico\n",
    "# ==============================================================================\n",
    "fig, ax=plt.subplots(figsize=(9, 4))\n",
    "datos_train.plot(ax=ax, label='train')\n",
    "datos_test.plot(ax=ax, label='test')\n",
    "predicciones.plot(ax=ax, label='predicciones')\n",
    "ax.legend();"
   ]
  },
  {
   "cell_type": "code",
   "execution_count": 38,
   "metadata": {},
   "outputs": [
    {
     "name": "stdout",
     "output_type": "stream",
     "text": [
      "Error de test (mse) 0.046234245254473394\n"
     ]
    }
   ],
   "source": [
    "# Error\n",
    "# ==============================================================================\n",
    "error_mse = mean_squared_error(y_true = datos_test, y_pred = predicciones)\n",
    "print(f\"Error de test (mse) {error_mse}\")"
   ]
  },
  {
   "cell_type": "markdown",
   "metadata": {},
   "source": [
    "## ForecasterAutoreg\n",
    "<br>"
   ]
  },
  {
   "cell_type": "code",
   "execution_count": 15,
   "metadata": {},
   "outputs": [],
   "source": [
    "################################################################################\n",
    "#                               skforecast                                     #\n",
    "#                                                                              #\n",
    "# This work by Joaquín Amat Rodrigo is licensed under a Creative Commons       #\n",
    "# Attribution 4.0 International License.                                       #\n",
    "################################################################################\n",
    "# coding=utf-8\n",
    "\n",
    "\n",
    "import numpy as np\n",
    "import pandas as pd\n",
    "import logging\n",
    "import matplotlib.pyplot as plt\n",
    "import tqdm\n",
    "from sklearn.linear_model import LinearRegression\n",
    "from sklearn.linear_model import Lasso\n",
    "from sklearn.ensemble import RandomForestRegressor\n",
    "from sklearn.metrics import mean_squared_error\n",
    "from sklearn.metrics import mean_absolute_error\n",
    "from sklearn.metrics import mean_absolute_percentage_error\n",
    "from sklearn.model_selection import ParameterGrid\n",
    "\n",
    "\n",
    "logging.basicConfig(\n",
    "    format = '%(asctime)-5s %(name)-10s %(levelname)-5s %(message)s', \n",
    "    level  = logging.INFO,\n",
    ")\n",
    "\n",
    "\n",
    "################################################################################\n",
    "#                             ForecasterAutoreg                                #\n",
    "################################################################################\n",
    "\n",
    "class ForecasterAutoreg():\n",
    "    '''\n",
    "    Convierte un regresor de scikitlearn en un forecaster autoregresivo \n",
    "    recursivo (multi-step).\n",
    "    \n",
    "    Parameters\n",
    "    ----------\n",
    "    regressor : scikitlearn regressor\n",
    "        Modelo de regresión de scikitlearn.\n",
    "        \n",
    "    n_lags : int\n",
    "        Número de lags utilizados cómo predictores.\n",
    "\n",
    "    \n",
    "    Attributes\n",
    "    ----------\n",
    "    regressor : scikitlearn regressor\n",
    "        Modelo de regresión de scikitlearn.\n",
    "        \n",
    "    last_window : array-like, shape (1, n_lags)\n",
    "        Última ventana temporal que ha visto el Forecaster al ser entrenado.\n",
    "        Se corresponde con el valor de los lags necesarios para predecir el\n",
    "        siguiente `step` después de los datos de entrenamiento.\n",
    "        \n",
    "    included_exog: bool, default `False`.\n",
    "        Si el Forecaster se ha entrenado utilizando variable exógena.\n",
    "     \n",
    "    '''\n",
    "    \n",
    "    def __init__(self, regressor, n_lags):\n",
    "        \n",
    "        self.regressor     = regressor\n",
    "        self.n_lags        = n_lags\n",
    "        self.last_window   = None\n",
    "        self.included_exog = False\n",
    "    \n",
    "    \n",
    "    def create_lags(self, y):\n",
    "        '''\n",
    "        Convierte una serie temporal en una matriz donde, cada valor de `y`,\n",
    "        está asociado a los lags temporales que le preceden.\n",
    "        \n",
    "        Parameters\n",
    "        ----------        \n",
    "        y : 1D np.ndarray, pd.Series\n",
    "            Serie temporal de entrenamiento.\n",
    "\n",
    "        Returns \n",
    "        -------\n",
    "        X_data : 2D np.ndarray, shape (nº observaciones, n_lags)\n",
    "            Matriz con el valor de los lags.\n",
    "        \n",
    "        y_data : 1D np.ndarray, shape (nº observaciones - n_lags,)\n",
    "            Valores de la variable respuesta\n",
    "            \n",
    "        '''\n",
    "        \n",
    "        self._check_y(y=y)\n",
    "        y = self._preproces_y(y=y)        \n",
    "            \n",
    "        # Número de divisiones\n",
    "        n_splits = len(y) - self.n_lags\n",
    "\n",
    "        # Matriz donde almacenar los valore de cada lag\n",
    "        X_data  = np.full(shape=(n_splits, self.n_lags), fill_value=np.nan, dtype= float)\n",
    "        y_data  = np.full(shape=(n_splits, 1), fill_value=np.nan, dtype= float)\n",
    "\n",
    "        for i in range(n_splits):\n",
    "\n",
    "            train_index = np.arange(i, self.n_lags + i)\n",
    "            test_index  = [self.n_lags + i]\n",
    "\n",
    "            X_data[i, :] = y[train_index]\n",
    "            y_data[i]    = y[test_index]\n",
    "\n",
    "        return X_data, y_data.ravel()\n",
    "\n",
    "        \n",
    "    def fit(self, y, exog=None):\n",
    "        '''\n",
    "        Entrenamiento del Forecaster\n",
    "        \n",
    "        Parameters\n",
    "        ----------        \n",
    "        y : 1D np.ndarray, pd.Series\n",
    "            Serie temporal de entrenamiento.\n",
    "            \n",
    "        exog : 1D np.ndarray, pd.Series, default `None`\n",
    "            Variable exógena a la serie temporal que se incluye como\n",
    "            predictor.\n",
    "\n",
    "\n",
    "        Returns \n",
    "        -------\n",
    "        self : object\n",
    "               objeto Forecaster entrenado\n",
    "        \n",
    "        '''\n",
    "        \n",
    "        # Comprobaciones\n",
    "        self._check_y(y=y)\n",
    "        y = self._preproces_y(y=y)\n",
    "        \n",
    "        if exog is not None:\n",
    "            self._check_exog(exog=exog)\n",
    "            exog = self._preproces_exog(exog=exog)\n",
    "        \n",
    "        X_train, y_train = self.create_lags(y=y)\n",
    "        \n",
    "        if exog is not None:\n",
    "            self.included_exog = True\n",
    "            self.regressor.fit(\n",
    "                # Se tiene que eliminar de exog las primeras self.n_lags\n",
    "                # posiciones ya que son están en X_train.\n",
    "                X = np.column_stack((X_train, exog[self.n_lags:])),\n",
    "                y = y_train\n",
    "            )\n",
    "            \n",
    "        else:\n",
    "            self.regressor.fit(X=X_train, y=y_train)\n",
    "        \n",
    "        # Se guarda la última ventana temporal de lags de entrenamiento para que \n",
    "        # puedan utilizarse como predictores en la primera iteración del predict().\n",
    "        self.last_window = np.hstack((X_train[-1, 1:], y_train[-1])).reshape(1, -1)\n",
    "        \n",
    "            \n",
    "    def predict(self, steps, X=None, exog=None):\n",
    "        '''\n",
    "        Proceso iterativo en la que, cada predicción, se utiliza como\n",
    "        predictor de la siguiente predicción.\n",
    "        \n",
    "        Parameters\n",
    "        ----------\n",
    "               \n",
    "        steps : int\n",
    "            Número de pasos a futuro que se predicen.\n",
    "            \n",
    "        X : 2D np.ndarray, shape (1, n_lags), default `None`\n",
    "            Valor de los predictores con los que se inicia el proceso iterativo\n",
    "            de predicción. Es decir, el valor de los lags en t+1.\n",
    "    \n",
    "            Si `X=None`, se utilizan como predictores iniciales los valores\n",
    "            almacenados en `self.last_window`, y las predicciones se inician a \n",
    "            continuación de los datos de entrenamiento.\n",
    "            \n",
    "        exog : 1D np.ndarray, pd.Series, default `None`\n",
    "            Variable exógena a la serie temporal que se incluye como\n",
    "            predictor.\n",
    "\n",
    "        Returns \n",
    "        -------\n",
    "        predicciones : 1D np.array, shape (steps,)\n",
    "            Predicciones del modelo.\n",
    "            \n",
    "        '''\n",
    "        \n",
    "        if exog is None and self.included_exog:\n",
    "            raise Exception(\n",
    "                \"Forecaster entrenado con variable exogena. Se tiene \" \\\n",
    "                + \"que aportar esta misma variable en el predict().\"\n",
    "            )\n",
    "                \n",
    "        if X is None:\n",
    "            X = self.last_window\n",
    "        \n",
    "        if exog is not None:\n",
    "            self._check_exog(exog=exog)\n",
    "            exog = self._preproces_exog(exog=exog)\n",
    "            \n",
    "\n",
    "        predicciones = np.full(shape=steps, fill_value=np.nan)\n",
    "\n",
    "        for i in range(steps):\n",
    "            if exog is None:\n",
    "                prediccion = self.regressor.predict(X=X)\n",
    "            else:\n",
    "                prediccion = self.regressor.predict(X=np.column_stack((X, exog[i])))\n",
    "                \n",
    "            predicciones[i] = prediccion.ravel()[0]\n",
    "\n",
    "            # Actualizar valores de X. Se descarta la primera posición y se\n",
    "            # añade la nueva predicción al final.\n",
    "            X = X.flatten()\n",
    "            X = np.append(X[1:], prediccion)\n",
    "            X = X.reshape(1, -1)\n",
    "\n",
    "\n",
    "        return np.array(predicciones)\n",
    "    \n",
    "    \n",
    "    def _check_y(self, y):\n",
    "        '''\n",
    "        Comprueba que `y` es un `np.ndarray` o `pd.Series`.\n",
    "        \n",
    "        Parameters\n",
    "        ----------        \n",
    "        y : array-like\n",
    "            valores de la serie temporal\n",
    "\n",
    "        Returns \n",
    "        -------\n",
    "        bool\n",
    "        '''\n",
    "        \n",
    "        if not isinstance(y, (np.ndarray, pd.Series)):\n",
    "            \n",
    "            raise Exception('`y` tiene que ser `1D np.ndarray` o `pd.Series`.')\n",
    "            \n",
    "        elif isinstance(y, np.ndarray) and y.ndim != 1:\n",
    "            \n",
    "            raise Exception(\n",
    "                f\"`y` tiene que ser `1D np.ndarray` o `pd.Series`, \"\n",
    "                f\"detectado `np.ndarray` con dimensiones {y.ndim}.\"\n",
    "            )\n",
    "        else:\n",
    "            return\n",
    "        \n",
    "        \n",
    "    def _check_exog(self, exog):\n",
    "        '''\n",
    "        Comprueba que `exog` es un `np.ndarray` o `pd.Series`.\n",
    "        \n",
    "        Parameters\n",
    "        ----------        \n",
    "        exog : array-like\n",
    "            valores de la serie temporal\n",
    "\n",
    "        Returns \n",
    "        -------\n",
    "        bool\n",
    "        '''\n",
    "        \n",
    "        if not isinstance(exog, (np.ndarray, pd.Series)):\n",
    "            \n",
    "            raise Exception('`exog` tiene que ser `1D np.ndarray` o `pd.Series`.')\n",
    "            \n",
    "        elif isinstance(exog, np.ndarray) and exog.ndim != 1:\n",
    "            \n",
    "            raise Exception(\n",
    "                f\"`exog` tiene que ser `1D np.ndarray` o `pd.Series`, \"\n",
    "                f\"detectado `np.ndarray` con dimensiones {exog.ndim}.\"\n",
    "            )\n",
    "        else:\n",
    "            return\n",
    "        \n",
    "    def _preproces_y(self, y):\n",
    "        \n",
    "        '''\n",
    "        Si `y` es `pd.Series`, lo convierte en `np.ndarray` de 1 dimensión.\n",
    "        \n",
    "        Parameters\n",
    "        ----------        \n",
    "        y :1D np.ndarray, pd.Series\n",
    "            valores de la serie temporal\n",
    "\n",
    "        Returns \n",
    "        -------\n",
    "        y: 1D np.ndarray, shape(samples,)\n",
    "        '''\n",
    "        \n",
    "        if isinstance(y, pd.Series):\n",
    "            return y.to_numpy()\n",
    "        else:\n",
    "            return y\n",
    "        \n",
    "    def _preproces_exog(self, exog):\n",
    "        \n",
    "        '''\n",
    "        Si `exog` es `pd.Series`, lo convierte en `np.ndarray` de 1 dimensión.\n",
    "        \n",
    "        Parameters\n",
    "        ----------        \n",
    "        exog : 1D np.ndarray, pd.Series\n",
    "            valores de la serie temporal.\n",
    "\n",
    "        Returns \n",
    "        -------\n",
    "        exog: 1D np.ndarray, shape(samples,)\n",
    "        '''\n",
    "        \n",
    "        if isinstance(exog, pd.Series):\n",
    "            return exog.to_numpy()\n",
    "        else:\n",
    "            return exog\n",
    "    \n",
    "    \n",
    "    def set_params(self, **params):\n",
    "        '''\n",
    "        Asignar nuevos valores a los parámetros del modelo scikitlearn contenido\n",
    "        en el Forecaster.\n",
    "        \n",
    "        Parameters\n",
    "        ----------\n",
    "        params : dict\n",
    "            Valor de los parámetros.\n",
    "\n",
    "        Returns \n",
    "        -------\n",
    "        self\n",
    "        \n",
    "        '''\n",
    "        \n",
    "        self.regressor.set_params(**params)\n",
    "        \n",
    "        \n",
    "    def set_n_lags(self, n_lags):\n",
    "        '''\n",
    "        Asignar nuevo valor al atributo `n_lags` del Forecaster.\n",
    "        \n",
    "        Parameters\n",
    "        ----------\n",
    "        n_lags : int\n",
    "            Número de lags utilizados cómo predictores.\n",
    "\n",
    "        Returns \n",
    "        -------\n",
    "        self\n",
    "        \n",
    "        '''\n",
    "        \n",
    "        self.n_lags = n_lags\n",
    "        \n",
    "        \n",
    "\n",
    "################################################################################\n",
    "#      time_series_spliter,  ts_cv_forecaster,   grid_search_forecaster        #\n",
    "################################################################################\n",
    "\n",
    "def time_series_spliter(y, initial_train_size, steps, allow_incomplete_fold=True):\n",
    "    '''\n",
    "    \n",
    "    Dividir los índices de una serie temporal en múltiples pares de train-test.\n",
    "    Se mantiene el orden temporal de los datos y se incrementa en cada iteración\n",
    "    el conjunto de entrenamiento.\n",
    "    \n",
    "    Parameters\n",
    "    ----------        \n",
    "    y : 1D np.ndarray, pd.Series\n",
    "        Serie temporal de entrenamiento. \n",
    "    \n",
    "    initial_train_size: int \n",
    "        Número de observaciones de entrenamiento en la partición inicial.\n",
    "        \n",
    "    steps : int\n",
    "        Número de pasos a futuro que se predicen.\n",
    "        \n",
    "    allow_incomplete_fold : bool, default `True`\n",
    "        Se permite que el último conjunto de test esté incompleto si este\n",
    "        no alcanza `steps` observaciones. De lo contrario, se descartan las\n",
    "        últimas observaciones.\n",
    "\n",
    "    Yields\n",
    "    ------\n",
    "    train : 1D np.ndarray\n",
    "        Índices del conjunto de entrenamiento.\n",
    "        \n",
    "    test : 1D np.ndarray\n",
    "        Índices del conjunto de test.\n",
    "        \n",
    "    '''\n",
    "    \n",
    "    if not isinstance(y, (np.ndarray, pd.Series)):\n",
    "\n",
    "        raise Exception('`y` tiene que ser `1D np.ndarray` o `pd.Series`.')\n",
    "\n",
    "    elif isinstance(y, np.ndarray) and y.ndim != 1:\n",
    "\n",
    "        raise Exception(\n",
    "            f\"`y` tiene que ser `1D np.ndarray` o `pd.Series`, \"\n",
    "            f\"detectado `np.ndarray` con dimensiones {y.ndim}.\"\n",
    "        ) \n",
    "        \n",
    "    if isinstance(y, pd.Series):\n",
    "        y = y.to_numpy().copy()\n",
    "    \n",
    "  \n",
    "    folds     = (len(y) - initial_train_size) // steps  + 1\n",
    "    remainder = (len(y) - initial_train_size) % steps    \n",
    "    \n",
    "    for i in range(folds):\n",
    "          \n",
    "        if i < folds - 1:\n",
    "            train_end     = initial_train_size + i * steps    \n",
    "            train_indices = range(train_end)\n",
    "            test_indices  = range(train_end, train_end + steps)\n",
    "            \n",
    "        else:\n",
    "            if remainder != 0 and allow_incomplete_fold:\n",
    "                train_end     = initial_train_size + i * steps  \n",
    "                train_indices = range(train_end)\n",
    "                test_indices  = range(train_end, train_end + remainder)\n",
    "            else:\n",
    "                break\n",
    "        \n",
    "        yield train_indices, test_indices\n",
    "        \n",
    "\n",
    "def ts_cv_forecaster(forecaster, y, initial_train_size, steps, metric, exog=None,\n",
    "                     allow_incomplete_fold=True):\n",
    "    '''\n",
    "    Validación cruzada de un objeto Forecaster, manteniendo el orden temporal de\n",
    "    los datos e incrementando en cada iteración el conjunto de entrenamiento.\n",
    "    \n",
    "    Parameters\n",
    "    ----------\n",
    "    forecaster : object \n",
    "        Objeto de clase Forecaster.\n",
    "        \n",
    "    y : 1D np.ndarray, pd.Series\n",
    "        Serie temporal de entrenamiento.\n",
    "            \n",
    "    exog : 1D np.ndarray, pd.Series, default `None`\n",
    "        Variable exógena a la serie temporal que se incluye como\n",
    "        predictor.\n",
    "    \n",
    "    initial_train_size: int \n",
    "        Número de observaciones de entrenamiento utilizadas en la primera iteración\n",
    "        de validación.\n",
    "        \n",
    "    steps : int\n",
    "        Número de pasos a futuro que se predicen.\n",
    "        \n",
    "    allow_incomplete_fold : bool, default `False`\n",
    "        Se permite que el último conjunto de test esté incompleto si este\n",
    "        no alcanza `steps` observaciones. De lo contrario, se descartan las\n",
    "        últimas observaciones.\n",
    "        \n",
    "    metric : {'neg_mean_squared_error', 'neg_mean_absolute_error', 'neg_mean_absolute_percentage_error'}\n",
    "        Métrica utilizada para cuantificar la bondad de ajuste del modelo.\n",
    "\n",
    "    Returns \n",
    "    -------\n",
    "    ts_cv_results: \n",
    "        Valor de la métrica obtenido en cada partición.\n",
    "\n",
    "    '''\n",
    "    \n",
    "    forecaster._check_y(y=y)\n",
    "    y = forecaster._preproces_y(y=y)\n",
    "    \n",
    "    if exog is not None:\n",
    "        forecaster._check_exog(exog=exog)\n",
    "        exog = forecaster._preproces_exog(exog=exog)\n",
    "    \n",
    "    ts_cv_results = []\n",
    "    \n",
    "    metrics = {\n",
    "        'neg_mean_squared_error': mean_squared_error,\n",
    "        'neg_mean_absolute_error': mean_absolute_error,\n",
    "        'neg_mean_absolute_percentage_error': mean_absolute_percentage_error\n",
    "    }\n",
    "    \n",
    "    metric = metrics[metric]\n",
    "    \n",
    "    splits = time_series_spliter(\n",
    "                y                     = y,\n",
    "                initial_train_size    = initial_train_size,\n",
    "                steps                 = steps,\n",
    "                allow_incomplete_fold = allow_incomplete_fold\n",
    "             )\n",
    "    \n",
    "    for train_index, test_index in splits:\n",
    "        \n",
    "        if exog is None:\n",
    "            \n",
    "            forecaster.fit(y=y[train_index])      \n",
    "            pred = forecaster.predict(steps=len(test_index))\n",
    "            \n",
    "        else:\n",
    "            \n",
    "            forecaster.fit(y=y[train_index], exog=exog[train_index])      \n",
    "            pred = forecaster.predict(steps=len(test_index), exog=exog[test_index])\n",
    "               \n",
    "        metric_value = metric(\n",
    "                            y_true = y[test_index],\n",
    "                            y_pred = pred\n",
    "                       )\n",
    "        \n",
    "        ts_cv_results.append(metric_value)\n",
    "                          \n",
    "    return np.array(ts_cv_results)\n",
    "\n",
    "\n",
    "def grid_search_forecaster(forecaster, y, param_grid, initial_train_size, steps,\n",
    "                           metric, exog=None, n_lags_grid=None,\n",
    "                           allow_incomplete_fold=False, return_best=True):\n",
    "    '''\n",
    "    Búsqueda exhaustiva sobre los hiperparámetros de un Forecaster mediante\n",
    "    validación cruzada.\n",
    "    \n",
    "    Parameters\n",
    "    ----------\n",
    "    forecaster : object \n",
    "        Objeto de clase Forecaster.\n",
    "        \n",
    "    y : 1D np.ndarray, pd.Series\n",
    "        Serie temporal de entrenamiento.\n",
    "            \n",
    "    exog : 1D np.ndarray, pd.Series, default `None`\n",
    "        Variable exógena a la serie temporal que se incluye como\n",
    "        predictor.\n",
    "    \n",
    "    param_grid : dict\n",
    "        Valores de hiperparámetros sobre los que hacer la búsqueda\n",
    "    \n",
    "    initial_train_size: int \n",
    "        Número de observaciones de entrenamiento utilizadas en la primera iteración\n",
    "        de validación.\n",
    "        \n",
    "    steps : int\n",
    "        Número de pasos a futuro que se predicen.\n",
    "        \n",
    "    metric : {'neg_mean_squared_error'}\n",
    "        Métrica utilizada para cuantificar la bondad de ajuste del modelo.\n",
    "        \n",
    "    n_lags_grid : array-like\n",
    "        Valores de `n_lags` sobre los que hacer la búsqueda.\n",
    "        \n",
    "    allow_incomplete_fold : bool, default `False`\n",
    "        Se permite que el último conjunto de test esté incompleto si este\n",
    "        no alcanza `steps` observaciones. De lo contrario, se descartan las\n",
    "        últimas observaciones.\n",
    "        \n",
    "    return_best : devuelve modifica el Forecaster y lo entrena con los mejores\n",
    "                  hiperparámetros encontrados.\n",
    "\n",
    "    Returns \n",
    "    -------\n",
    "    results: pandas.DataFrame\n",
    "        Valor de la métrica obtenido en cada combinación de hiperparámetros.\n",
    "\n",
    "    '''\n",
    "    \n",
    "    forecaster._check_y(y=y)\n",
    "    y = forecaster._preproces_y(y=y)\n",
    "    \n",
    "    if exog is not None:\n",
    "        forecaster._check_exog(exog=exog)\n",
    "        exog = forecaster._preproces_exog(exog=exog)\n",
    "        \n",
    "    if n_lags_grid is None:\n",
    "        n_lags_grid = [forecaster.n_lags]\n",
    "        \n",
    "    n_lags_list = []\n",
    "    params_list = []\n",
    "    metric_list = []\n",
    "    \n",
    "    param_grid =  list(ParameterGrid(param_grid))\n",
    "    \n",
    "    for n_lags in tqdm.tqdm(n_lags_grid, desc='loop n_lags_grid', position=0):\n",
    "        \n",
    "        forecaster.set_n_lags(n_lags)\n",
    "        \n",
    "        for params in tqdm.tqdm(param_grid, desc='loop param_grid', position=1, leave=False):\n",
    "\n",
    "            forecaster.set_params(**params)\n",
    "\n",
    "            cv_metrics = ts_cv_forecaster(\n",
    "                            forecaster = forecaster,\n",
    "                            y          = y,\n",
    "                            exog       = exog,\n",
    "                            initial_train_size = initial_train_size,\n",
    "                            steps  = steps,\n",
    "                            metric = metric\n",
    "                         )\n",
    "            \n",
    "            n_lags_list.append(n_lags)\n",
    "            params_list.append(params)\n",
    "            metric_list.append(cv_metrics.mean())\n",
    "            \n",
    "    resultados = pd.DataFrame({\n",
    "                    'n_lags': n_lags_list,\n",
    "                    'params': params_list,\n",
    "                    'metric': metric_list})\n",
    "    \n",
    "    resultados = resultados.sort_values(by='metric', ascending=True)\n",
    "    \n",
    "    if return_best:\n",
    "        \n",
    "        best_n_lags = resultados['n_lags'].iloc[0]\n",
    "        best_params = resultados['params'].iloc[0]\n",
    "        logging.info(\"Entrenando Forecaster con los mejores parámetros encontrados:\")\n",
    "        logging.info(f\"n_lags: {best_n_lags}, params: {best_params}\")\n",
    "        forecaster.set_n_lags(best_n_lags)\n",
    "        forecaster.set_params(**best_params)\n",
    "        forecaster.fit(y=y, exog=exog)\n",
    "            \n",
    "    return resultados "
   ]
  },
  {
   "cell_type": "markdown",
   "metadata": {},
   "source": [
    "## Información de sesión"
   ]
  },
  {
   "cell_type": "code",
   "execution_count": 30,
   "metadata": {},
   "outputs": [
    {
     "name": "stdout",
     "output_type": "stream",
     "text": [
      "-----\n",
      "PIL         8.0.1\n",
      "gif         NA\n",
      "ipykernel   5.4.3\n",
      "matplotlib  3.3.2\n",
      "numpy       1.19.2\n",
      "pandas      1.2.1\n",
      "sinfo       0.3.1\n",
      "sklearn     0.24.1\n",
      "statsmodels 0.11.1\n",
      "tqdm        4.56.2\n",
      "-----\n",
      "IPython             7.20.0\n",
      "jupyter_client      6.1.11\n",
      "jupyter_core        4.7.1\n",
      "notebook            6.2.0\n",
      "-----\n",
      "Python 3.7.9 (default, Aug 31 2020, 12:42:55) [GCC 7.3.0]\n",
      "Linux-5.4.0-1037-aws-x86_64-with-debian-buster-sid\n",
      "2 logical CPU cores, x86_64\n",
      "-----\n",
      "Session information updated at 2021-02-13 10:18\n"
     ]
    }
   ],
   "source": [
    "from sinfo import sinfo\n",
    "sinfo()"
   ]
  },
  {
   "cell_type": "markdown",
   "metadata": {},
   "source": [
    "## Bibliografía\n",
    "<br>\n",
    "\n",
    "Hyndman, R.J., & Athanasopoulos, G. (2018) Forecasting: principles and practice, 2nd edition, OTexts: Melbourne, Australia. [libro](https://otexts.com/fpp2/)\n",
    "\n",
    "Python Data Science Handbook by Jake VanderPlas [libro](https://www.amazon.es/gp/product/1491912057/ref=as_li_qf_asin_il_tl?ie=UTF8&tag=cienciadedato-21&creative=24630&linkCode=as2&creativeASIN=1491912057&linkId=73620d22f9d4a0a76d27592dabf13c83)\n",
    "\n",
    "Python for Finance: Mastering Data-Driven Finance [libro](https://www.amazon.es/gp/product/1492024333/ref=as_li_qf_asin_il_tl?ie=UTF8&tag=cienciadedato-21&creative=24630&linkCode=as2&creativeASIN=1492024333&linkId=70c3175ad015970cd1c2328b7a40a055)\n",
    "\n",
    "[Markus Löning, Anthony Bagnall, Sajaysurya Ganesh, Viktor Kazakov, Jason Lines, Franz Király (2019): “sktime: A Unified Interface for Machine Learning with Time Series”](http://learningsys.org/neurips19/assets/papers/sktime_ml_systems_neurips2019.pdf)\n",
    "\n",
    "[Markus Löning, Tony Bagnall, Sajaysurya Ganesh, George Oastler, Jason Lines, ViktorKaz, …, Aadesh Deshmukh (2020). alan-turing-institute/sktime. Zenodo. http://doi.org/10.5281/zenodo.3749000](https://github.com/alan-turing-institute/sktime)"
   ]
  },
  {
   "cell_type": "code",
   "execution_count": 31,
   "metadata": {
    "code_folding": [],
    "hide_input": true,
    "remove_cell": true,
    "tags": [
     "\"hide_input\""
    ]
   },
   "outputs": [
    {
     "data": {
      "text/html": [
       "<style>\n",
       ".text_cell_render p {\n",
       "    text-align: justify;\n",
       "    font-family: 'Open Sans','Helvetica Neue',Helvetica,Arial,sans-serif;\n",
       "    #font-size: 16px;\n",
       "    line-height: 1.5;\n",
       "    font-weight: 400;\n",
       "    text-shadow: none;\n",
       "    color: #333333;\n",
       "    text-rendering: optimizeLegibility;\n",
       "    letter-spacing: +0.1px;\n",
       "    margin-bottom: 1.15rem;\n",
       "    font-size: 1.15em\n",
       "}\n",
       "\n",
       "#notebook-container {\n",
       "    background-color: #fcfcfc;\n",
       "}\n",
       "\n",
       "div.inner_cell {\n",
       "    margin-right: 5%;\n",
       "}\n",
       "\n",
       ".output_png {\n",
       "        display: table-cell;\n",
       "        text-align: center;\n",
       "        vertical-align: middle;\n",
       "}\n",
       "\n",
       ".rendered_html code {\n",
       "    background-color: #f2f2f2;\n",
       "    font-family: monospace;\n",
       "    color: #a20505;\n",
       "    font-size: 15px;\n",
       "    #font-size: 1em;\n",
       "    padding: 1px 1px;\n",
       "    border: solid;\n",
       "    border-color: darkgray;\n",
       "    border-width: thin;\n",
       "}\n",
       "\n",
       ".rendered_html h1 {\n",
       "    padding-top: 50px;\n",
       "}\n",
       "\n",
       ".rendered_html h2 {\n",
       "    font-size: 30px\n",
       "    margin-top: 0;\n",
       "    font-size: 2.488em;\n",
       "}\n",
       "\n",
       ".rendered_html h3 {\n",
       "    font-size: 25px;\n",
       "}\n",
       "\n",
       ".rendered_html h4 {\n",
       "    font-size: 20px;\n",
       "}\n",
       "\n",
       "</style>\n"
      ],
      "text/plain": [
       "<IPython.core.display.HTML object>"
      ]
     },
     "metadata": {},
     "output_type": "display_data"
    }
   ],
   "source": [
    "%%html\n",
    "<style>\n",
    ".text_cell_render p {\n",
    "    text-align: justify;\n",
    "    font-family: 'Open Sans','Helvetica Neue',Helvetica,Arial,sans-serif;\n",
    "    #font-size: 16px;\n",
    "    line-height: 1.5;\n",
    "    font-weight: 400;\n",
    "    text-shadow: none;\n",
    "    color: #333333;\n",
    "    text-rendering: optimizeLegibility;\n",
    "    letter-spacing: +0.1px;\n",
    "    margin-bottom: 1.15rem;\n",
    "    font-size: 1.15em\n",
    "}\n",
    "\n",
    "#notebook-container {\n",
    "    background-color: #fcfcfc;\n",
    "}\n",
    "\n",
    "div.inner_cell {\n",
    "    margin-right: 5%;\n",
    "}\n",
    "\n",
    ".output_png {\n",
    "        display: table-cell;\n",
    "        text-align: center;\n",
    "        vertical-align: middle;\n",
    "}\n",
    "\n",
    ".rendered_html code {\n",
    "    background-color: #f2f2f2;\n",
    "    font-family: monospace;\n",
    "    color: #a20505;\n",
    "    font-size: 15px;\n",
    "    #font-size: 1em;\n",
    "    padding: 1px 1px;\n",
    "    border: solid;\n",
    "    border-color: darkgray;\n",
    "    border-width: thin;\n",
    "}\n",
    "\n",
    ".rendered_html h1 {\n",
    "    padding-top: 50px;\n",
    "}\n",
    "\n",
    ".rendered_html h2 {\n",
    "    font-size: 30px\n",
    "    margin-top: 0;\n",
    "    font-size: 2.488em;\n",
    "}\n",
    "\n",
    ".rendered_html h3 {\n",
    "    font-size: 25px;\n",
    "}\n",
    "\n",
    ".rendered_html h4 {\n",
    "    font-size: 20px;\n",
    "}\n",
    "\n",
    "</style>"
   ]
  },
  {
   "cell_type": "markdown",
   "metadata": {},
   "source": [
    "**¿Cómo citar este documento?**\n",
    "\n",
    "<p style=\"text-align:left\"><font size=\"3\" color=\"#555\">\n",
    "Forecasting series temporales con Python y Scikitlearn by Joaquín Amat Rodrigo, available under a Attribution 4.0 International (CC BY 4.0) at https://www.cienciadedatos.net/py27-forecasting-series-temporales-python-scikitlearn.html\n",
    "    \n",
    "</font></p>"
   ]
  },
  {
   "cell_type": "markdown",
   "metadata": {},
   "source": [
    "<p><strong>¿Te ha gustado el artículo? Tu ayuda es importante</strong></p>\n",
    "\n",
    "<p style=\"text-align:left\"><font size=\"3\" color=\"#555\">\n",
    "Mantener un sitio web tiene unos costes elevados, tu contribución me ayudará a seguir generando contenido divulgativo gratuito. ¡Muchísimas gracias!</font>\n",
    "<form action=\"https://www.paypal.com/donate\" method=\"post\" target=\"_top\">\n",
    "  <input type=\"hidden\" name=\"hosted_button_id\" value=\"6NULYFYDKFTQL\" />\n",
    "  <input type=\"image\" src=\"https://www.paypalobjects.com/en_US/ES/i/btn/btn_donateCC_LG.gif\" border=\"0\" name=\"submit\" title=\"PayPal - The safer, easier way to pay online!\" alt=\"Donate with PayPal button\" />\n",
    "  <img alt=\"\" border=\"0\" src=\"https://www.paypal.com/en_ES/i/scr/pixel.gif\" width=\"1\" height=\"1\" />\n",
    "  </form>\t\n",
    "</p>"
   ]
  },
  {
   "cell_type": "markdown",
   "metadata": {},
   "source": [
    "<a rel=\"license\" href=\"http://creativecommons.org/licenses/by/4.0/\"><img alt=\"Creative Commons Licence\" style=\"border-width:0\" src=\"https://i.creativecommons.org/l/by/4.0/88x31.png\" /></a><br />This work by  Joaquín Amat Rodrigo is licensed under a <a rel=\"license\" href=\"http://creativecommons.org/licenses/by/4.0/\">Creative Commons Attribution 4.0 International License</a>."
   ]
  }
 ],
 "metadata": {
  "kernelspec": {
   "display_name": "cienciadedatos",
   "language": "python",
   "name": "cienciadedatos"
  },
  "language_info": {
   "codemirror_mode": {
    "name": "ipython",
    "version": 3
   },
   "file_extension": ".py",
   "mimetype": "text/x-python",
   "name": "python",
   "nbconvert_exporter": "python",
   "pygments_lexer": "ipython3",
   "version": "3.7.9"
  },
  "toc": {
   "base_numbering": 1,
   "nav_menu": {},
   "number_sections": false,
   "sideBar": true,
   "skip_h1_title": true,
   "title_cell": "Tabla de contenidos",
   "title_sidebar": "Tabla de contenidos",
   "toc_cell": false,
   "toc_position": {
    "height": "calc(100% - 180px)",
    "left": "10px",
    "top": "150px",
    "width": "284.75px"
   },
   "toc_section_display": true,
   "toc_window_display": true
  },
  "varInspector": {
   "cols": {
    "lenName": 16,
    "lenType": 16,
    "lenVar": 40
   },
   "kernels_config": {
    "python": {
     "delete_cmd_postfix": "",
     "delete_cmd_prefix": "del ",
     "library": "var_list.py",
     "varRefreshCmd": "print(var_dic_list())"
    },
    "r": {
     "delete_cmd_postfix": ") ",
     "delete_cmd_prefix": "rm(",
     "library": "var_list.r",
     "varRefreshCmd": "cat(var_dic_list()) "
    }
   },
   "position": {
    "height": "144.391px",
    "left": "1478px",
    "right": "20px",
    "top": "126px",
    "width": "350px"
   },
   "types_to_exclude": [
    "module",
    "function",
    "builtin_function_or_method",
    "instance",
    "_Feature"
   ],
   "window_display": false
  }
 },
 "nbformat": 4,
 "nbformat_minor": 4
}
