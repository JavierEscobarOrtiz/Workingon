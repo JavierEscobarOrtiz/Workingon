{
 "cells": [
  {
   "cell_type": "markdown",
   "metadata": {},
   "source": [
    "<head>\n",
    "  <title>Regressión logística con Python</title>\n",
    "</head>"
   ]
  },
  {
   "cell_type": "markdown",
   "metadata": {},
   "source": [
    "<h1><center><font size=\"25\">Regressión logística con Python</font></center></h1>"
   ]
  },
  {
   "cell_type": "markdown",
   "metadata": {},
   "source": [
    "<center><b>Joaquín Amat Rodrigo</b></center>\n",
    "\n",
    "<center><i>Junio, 2020</i></center>"
   ]
  },
  {
   "cell_type": "markdown",
   "metadata": {},
   "source": [
    "Más sobre ciencia de datos: [**cienciadedatos.net**](https://cienciadedatos.net)\n",
    "+ [**Machine learning con Python y Scikit-learn**]()\n",
    "+ [**Regressión lineal con Python: Ridge y Lasso**]()"
   ]
  },
  {
   "cell_type": "markdown",
   "metadata": {},
   "source": [
    "La regresión lineal es........."
   ]
  },
  {
   "cell_type": "markdown",
   "metadata": {},
   "source": [
    "Linear regression es un método estadístico que attempts to model the relationship between a scalar response (or dependent variable) and one or more explanatory variables (or independent variables) by fitting a linear equation to observed data. The case of one explanatory variable is called simple linear regression.  For more than one explanatory variable, the process is called multiple linear regression.[\n",
    "\n",
    "For example, a modeler might want to relate the weights of individuals to their heights using a linear regression model.\n"
   ]
  },
  {
   "cell_type": "markdown",
   "metadata": {},
   "source": [
    "## Introducción\n",
    "<br>\n"
   ]
  },
  {
   "cell_type": "markdown",
   "metadata": {},
   "source": [
    "### Modelos de regresión lineal (LM)\n",
    "<br>\n",
    "\n",
    "El modelo de regresión lineal (Legendre, Gauss, Galton y Pearson) considera que, dado un conjunto de observaciones, la media $\\mu$ de la variable respuesta $Y$ se relaciona de forma lineal con la o las variables regresoras $X$.\n",
    "\n",
    "$$\\mu = \\beta_0 + \\beta_1 x_{1} + \\beta_2 x_{2} + ... + \\beta_p x_{p}$$\n",
    "\n",
    "o en notación matricial (incorporando $\\beta_0$ en el vector $\\mathbf{\\beta}$:\n",
    "\n",
    "$$\\mu = \\mathbf{X}^T \\mathbf{\\beta}$$\n",
    "\n",
    "Ajustar el modelo consiste en estimar los valores de los coeficientes de regresión $\\hat{\\beta}$ y la varianza $\\hat{\\sigma}^2$ que maximizan la verosimilitud (*likelihood*) de los datos, es decir, los que dan lugar al modelo que con mayor probabilidad puede haber generado los datos observados. El método empleado con más frecuencia es el ajuste por mínimos cuadrados ordinarios (*OLS*): este método identifíca como mejor ajuste la linea que minimíza la suma de delas desviaciones verticales entre cada dato de entrenamiento y la linea , elevadas al cuadrado.\n",
    "\n",
    "$$\\hat{\\beta} = \\underset{\\beta_0,\\beta}{\\arg\\min} (Y - \\mathbf{X}^T \\mathbf{\\beta})^2$$\n",
    "\n",
    "$$\\hat{\\mu} = \\mathbf{X}^T \\mathbf{\\hat{\\beta}}$$\n",
    "\n",
    "$$\\hat{\\sigma}^2 = \\frac{\\sum^n_{i=1} \\hat{\\epsilon}_i^2}{n-p} = \\frac{\\sum^n_{i=1} (y_i - \\hat{\\mu})^2}{n-p}$$\n",
    "\n",
    "donde $\\hat{\\epsilon}_i$ es la diferencia entre cada valor observado y la media estimada, $n$ es el número de observaciones y $p$ el número de predicciones.\n",
    "\n",
    "Es importante resaltar una característica de estos modelos. La estimación de la media $\\hat{\\mu}$ depende directamente del valor de los predictores $\\mathbf{X}$, sin embargo, la estimación de la varianza $\\hat{\\sigma}^2$ no depende directamente de los predictores, sino de $\\hat{\\mu}$. Para que sean válidas, deben cumplirse varias condiciones, dos de las cuales son:\n",
    "\n",
    "+ La variable respuesta $Y$ se tiene que distribuir de forma normal.\n",
    "\n",
    "+ La varianza $\\sigma^2$ debe de ser constante en todo el rango de la variable respuesta.\n",
    "\n",
    "<br><br>"
   ]
  },
  {
   "cell_type": "markdown",
   "metadata": {},
   "source": [
    "### Modelos lineales generalizados (GLM)\n",
    "<br>\n",
    "\n",
    "El requisito de que la variable respuesta se distribuya de forma normal hace que el modelo de regresión lineal no sea aplicable a muchos problemas reales. Los modelos [GLM](https://es.wikipedia.org/wiki/Modelo_lineal_generalizado) (John Nelder y Robert Wedderburn) permiten superar esta limitación haciendo una abstracción a un modelo más genérico, en el que la variable respuesta puede seguir cualquier distribución de la [familia exponencial](https://en.wikipedia.org/wiki/Exponential_family) (Gaussian, Poisson, binomial…). Para conseguirlo, la media de la variable respuesta ya no está relacionada directamente con los predictores, sino que se hace a través de una función *link* $g(.)$. Por ejemplo, el modelo lineal generalizado es equivale al modelo de [regresión lineal por mínimos cuadrados](https://joaquinamatrodrigo.github.io/documentos/24_Correlacion_y_Regresion_lineal.html) cuando la función *link* es la identidad, o a la [regresión logística](https://joaquinamatrodrigo.github.io/documentos/27_Regresion_logistica_simple_y_multiple.html) cuando es binomial (*logit*).\n",
    "\n",
    "$$g(\\mu) = \\beta_0 + \\beta_1 x_{1} + \\beta_2 x_{2} + ... + \\beta_p x_{p}$$\n",
    "\n",
    "$$g(\\mu) = \\mathbf{X}^T \\mathbf{\\beta}$$\n",
    "\n",
    "\n",
    "Cuando se emplea una función *identidad*, la máxima verosimilitud equivale a minimizar la suma de errores cuadrados, lo que tiene una solución analítica. Para el resto de familias o cuando se emplea la regularización *L1*, no existe una solución analítica, por lo que se requiere un método de optimización iterativo como el *iteratively reweighted least squares (IRLSM)*, *L-BFGS*, método de Newton o descenso de gradiente.\n",
    "<br><br>"
   ]
  },
  {
   "cell_type": "markdown",
   "metadata": {},
   "source": [
    "### Regularización\n",
    "<br>\n",
    "\n",
    "Además, el modelo lineal generalizado puede incluir regularización durante su ajuste, por lo que también incluye los modelos [ridge regression](https://joaquinamatrodrigo.github.io/documentos/31_Seleccion_de_predictores_subset_selection_Ridge_Lasso_dimension_reduction.html), [lasso](https://joaquinamatrodrigo.github.io/documentos/31_Seleccion_de_predictores_subset_selection_Ridge_Lasso_dimension_reduction.html) y [elastic net](https://joaquinamatrodrigo.github.io/documentos/31_Seleccion_de_predictores_subset_selection_Ridge_Lasso_dimension_reduction.html).\n",
    "\n",
    "**H2O** incorpora 3 tipos de regularización para los modelos *GLM* con el objetivo de evitar *overfitting*, reducir varianza y atenuar el efecto de la correlación entre predictores. Por lo general, aplicando regularización se consigue modelos con mayor poder predictivo (generalización).\n",
    "\n",
    "\n",
    "+ El modelo [lasso](https://rpubs.com/Joaquin_AR/242707) es un modelo lineal por mínimos cuadrados que incorpora una regularización que penaliza la suma del valor absolutos de los coeficientes de regresión $(||\\beta||_1 = \\sum_{k=1} ^p |\\beta_k|)$. A esta penalización se le conoce como *l1* y tiene el efecto de forzar a que los coeficientes de los predictores tiendan a cero. Dado que un predictor con coeficiente de regresión cero no influye en el modelo, *lasso* consigue seleccionar los predictores más influyentes. El grado de penalización está controlado por el hiperparámetro $\\lambda$. Cuando $\\lambda = 0$, el resultado es equivalente al de un modelo lineal por mínimos cuadrados ordinarios. A medida que $\\lambda$ aumenta, mayor es la penalización y más predictores quedan excluidos.\n",
    "\n",
    "+ El modelo [ridge](https://rpubs.com/Joaquin_AR/242707) es un modelo lineal por mínimos cuadrados que incorpora una regularización que penaliza la suma de los coeficientes elevados al cuadrado $(||\\beta||^2_2 = \\sum_{k=1} ^p \\beta^2_k)$. A esta penalización se le conoce como *l2* y tiene el efecto de reducir de forma proporcional el valor de todos los coeficientes del modelo pero sin que estos lleguen a cero. Al igual que *lasso*, el grado de penalización está controlado por el hiperparámetro $\\lambda$.\n",
    "\n",
    "La principal diferencia práctica entre *lasso* y *ridge* es que el primero consigue que algunos coeficientes sean exactamente cero, por lo que realiza selección de predictores, mientras que el segundo no llega a excluir ninguno. Esto supone una ventaja notable de *lasso* en escenarios donde no todos los predictores son importantes para el modelo y se desea que los menos influyentes queden excluidos. Por otro lado, cuando existen predictores altamente correlacionados (linealmente), *ridge* reduce la influencia de todos ellos a la vez y de forma proporcional, mientras que *lasso* tiende a seleccionar uno de ellos, dándole todo el peso y excluyendo al resto. En presencia de correlaciones, esta selección varía mucho con pequeñas perturbaciones (cambios en los datos de entrenamiento), por lo que, las soluciones de *lasso*, son muy inestables si los predictores están altamente correlacionados.\n",
    "\n",
    "Para conseguir un equilibrio óptimo entre estas dos propiedades, se puede emplear lo que se conoce como penalización *elastic net*, que combina ambas estrategias.\n",
    "\n",
    "+ El modelo *elastic net* incluye una regularización que combina la penalización *l1* y *l2* $(\\alpha \\lambda ||\\beta||_1 + \\frac{1}{2}(1- \\alpha)||\\beta||^2_2)$. El grado en que influye cada una de las penalizaciones está controlado por el hiperparámetro $\\alpha$. Su valor debe estar comprendido en el intervalo [0,1], cuando $\\alpha = 0$, **H2O** aplica *ridge regression* y cuando $\\alpha = 1$ aplica *lasso*. La combinación de ambas penalizaciones suele dar lugar a buenos resultados. Una estrategia frecuentemente utilizada es asignarle casi todo el peso a la penalización *l1* ($\\alpha$ muy próximo a 1) para conseguir seleccionar predictores y un poco a la *l2* para dar cierta estabilidad en el caso de que algunos predictores estén correlacionados.\n",
    "\n",
    "Encontrar el mejor modelo *GLM* implica identificar los valores óptimos de los hiperparámetros de regularización $\\alpha$ y $\\lambda$. Por defecto, **H2O** selecciona $\\alpha = 0.5$ y, con cada uno de ellos, analiza un rango de valores $\\lambda$. También es posible  hacer una búsqueda del valor óptimo de $\\alpha$ mediante un *grid seach*.\n",
    "<br><br>"
   ]
  },
  {
   "cell_type": "markdown",
   "metadata": {},
   "source": [
    "## Método de ajuste\n",
    "<br>"
   ]
  },
  {
   "cell_type": "markdown",
   "metadata": {},
   "source": [
    "Cuando se emplea una función *link* gausiana (con o sin regularización *L2*), la máxima verosimilitud equivale a minimizar la suma de errores cuadrados, lo que tiene una solución analítica. Para el resto de familias o cuando se emplea la regularización *L1*, no existe una solución analítica con la que encontrar la máxima verosimilitud, por lo que se requiere un método de optimización iterativo como el *iteratively reweighted least squares* (IRLSM), L-BFGS, método de Newton o descenso de gradiente.\n",
    "<br><br>"
   ]
  },
  {
   "cell_type": "code",
   "execution_count": null,
   "metadata": {},
   "outputs": [],
   "source": []
  },
  {
   "cell_type": "code",
   "execution_count": 12,
   "metadata": {},
   "outputs": [],
   "source": [
    "import numpy as np\n",
    "from sklearn.datasets import load_iris\n",
    "from sklearn.linear_model import LogisticRegression"
   ]
  },
  {
   "cell_type": "code",
   "execution_count": 13,
   "metadata": {},
   "outputs": [],
   "source": [
    "iris = load_iris()\n",
    "X = iris.data\n",
    "y = iris.target"
   ]
  },
  {
   "cell_type": "code",
   "execution_count": 19,
   "metadata": {},
   "outputs": [
    {
     "name": "stdout",
     "output_type": "stream",
     "text": [
      "Dimensiones set de datos: (150, 4)\n",
      "Número de observaciones por grupo: [(0, 50), (1, 50), (2, 50)]\n"
     ]
    }
   ],
   "source": [
    "print(f\"Dimensiones set de datos: {X.shape}\")\n",
    "print(f\"Número de observaciones por grupo: {list(zip(np.unique(y), np.bincount(y)))}\")"
   ]
  },
  {
   "cell_type": "code",
   "execution_count": 22,
   "metadata": {},
   "outputs": [
    {
     "name": "stderr",
     "output_type": "stream",
     "text": [
      "/home/ubuntu/miniconda3/lib/python3.7/site-packages/sklearn/linear_model/_logistic.py:764: ConvergenceWarning: lbfgs failed to converge (status=1):\n",
      "STOP: TOTAL NO. of ITERATIONS REACHED LIMIT.\n",
      "\n",
      "Increase the number of iterations (max_iter) or scale the data as shown in:\n",
      "    https://scikit-learn.org/stable/modules/preprocessing.html\n",
      "Please also refer to the documentation for alternative solver options:\n",
      "    https://scikit-learn.org/stable/modules/linear_model.html#logistic-regression\n",
      "  extra_warning_msg=_LOGISTIC_SOLVER_CONVERGENCE_MSG)\n"
     ]
    },
    {
     "data": {
      "text/plain": [
       "LogisticRegression()"
      ]
     },
     "execution_count": 22,
     "metadata": {},
     "output_type": "execute_result"
    }
   ],
   "source": [
    "modelo_log = LogisticRegression(multi_class='auto', solver='lbfgs')\n",
    "modelo_log.fit(X, y)"
   ]
  },
  {
   "cell_type": "code",
   "execution_count": 23,
   "metadata": {},
   "outputs": [
    {
     "data": {
      "text/plain": [
       "array([[-0.41856958,  0.96684181, -2.52114755, -1.08412437],\n",
       "       [ 0.53117805, -0.3146598 , -0.19979472, -0.94884187],\n",
       "       [-0.11260847, -0.65218202,  2.72094227,  2.03296624]])"
      ]
     },
     "execution_count": 23,
     "metadata": {},
     "output_type": "execute_result"
    }
   ],
   "source": [
    "# $ coeficientes por clase\n",
    "modelo_log.coef_"
   ]
  },
  {
   "cell_type": "code",
   "execution_count": 27,
   "metadata": {},
   "outputs": [
    {
     "data": {
      "image/png": "[encoded data removed]",
      "text/plain": [
       "<Figure size 432x108 with 3 Axes>"
      ]
     },
     "metadata": {
      "needs_background": "light"
     },
     "output_type": "display_data"
    }
   ],
   "source": [
    "import numpy as np\n",
    "import matplotlib.pyplot as plt\n",
    "\n",
    "\n",
    "fig, axes = plt.subplots(1, 3, figsize=(6, 1.5))\n",
    "\n",
    "for ax, coef, classname in zip(axes, modelo_log.coef_, iris.target_names):\n",
    "    ax.barh(range(4), coef, height=.5, color=plt.cm.bwr_r(np.sign(coef)))\n",
    "    ax.set_xlim(modelo_log.coef_.min() - .1, modelo_log.coef_.max() + .1)\n",
    "\n",
    "    ax.set_title(classname)\n",
    "    ax.set_frame_on(False)\n",
    "    ax.set_yticks(())\n",
    "    \n",
    "axes[0].set_yticks(range(4))\n",
    "axes[0].set_yticklabels(iris.feature_names)\n",
    "plt.tight_layout()"
   ]
  },
  {
   "cell_type": "markdown",
   "metadata": {},
   "source": [
    "## Bibliografía\n",
    "<br>\n",
    "\n",
    "Scikit-learn: Machine Learning in Python, Pedregosa et al., JMLR 12, pp. 2825-2830, 2011.\n",
    "\n",
    "API design for machine learning software: experiences from the scikit-learn project, Buitinck et al., 2013.\n",
    "    \n",
    "Uso de *pipes* y *ColumnTransformer*: https://www.dataschool.io/encoding-categorical-features-in-python/"
   ]
  },
  {
   "cell_type": "code",
   "execution_count": 5,
   "metadata": {
    "code_folding": [],
    "hide_input": true,
    "remove_cell": true,
    "tags": [
     "\"hide_input\""
    ]
   },
   "outputs": [
    {
     "data": {
      "text/html": [
       "<style>\n",
       ".text_cell_render p {\n",
       "    text-align: justify;\n",
       "    font-family: 'Open Sans','Helvetica Neue',Helvetica,Arial,sans-serif;\n",
       "    #font-size: 16px;\n",
       "    line-height: 1.5;\n",
       "    font-weight: 400;\n",
       "    text-shadow: none;\n",
       "    color: #333333;\n",
       "    text-rendering: optimizeLegibility;\n",
       "    letter-spacing: +0.1px;\n",
       "    margin-bottom: 1.15rem;\n",
       "    font-size: 1.1em;\n",
       "}\n",
       "\n",
       "div.inner_cell {\n",
       "    margin-right: 5%;\n",
       "}\n",
       "\n",
       ".output_png {\n",
       "        display: table-cell;\n",
       "        text-align: center;\n",
       "        vertical-align: middle;\n",
       "}\n",
       "\n",
       ".rendered_html code {\n",
       "    background-color: #f2f2f2;\n",
       "    font-family: monospace;\n",
       "    color: #a20505;\n",
       "    font-size: 15px;\n",
       "    font-size: 1em;\n",
       "}\n",
       "\n",
       ".rendered_html h1 {\n",
       "    padding-top: 50px;\n",
       "}\n",
       "\n",
       ".rendered_html h2 {\n",
       "    font-size: 30px\n",
       "    margin-top: 0;\n",
       "    font-size: 2.488em;\n",
       "}\n",
       "\n",
       ".rendered_html h3 {\n",
       "    font-size: 25px;\n",
       "}\n",
       "\n",
       ".rendered_html h4 {\n",
       "    font-size: 20px;\n",
       "}\n",
       "\n",
       "</style>\n"
      ],
      "text/plain": [
       "<IPython.core.display.HTML object>"
      ]
     },
     "metadata": {},
     "output_type": "display_data"
    }
   ],
   "source": [
    "%%html\n",
    "<style>\n",
    ".text_cell_render p {\n",
    "    text-align: justify;\n",
    "    font-family: 'Open Sans','Helvetica Neue',Helvetica,Arial,sans-serif;\n",
    "    #font-size: 16px;\n",
    "    line-height: 1.5;\n",
    "    font-weight: 400;\n",
    "    text-shadow: none;\n",
    "    color: #333333;\n",
    "    text-rendering: optimizeLegibility;\n",
    "    letter-spacing: +0.1px;\n",
    "    margin-bottom: 1.15rem;\n",
    "    font-size: 1.1em;\n",
    "}\n",
    "\n",
    "div.inner_cell {\n",
    "    margin-right: 5%;\n",
    "}\n",
    "\n",
    ".output_png {\n",
    "        display: table-cell;\n",
    "        text-align: center;\n",
    "        vertical-align: middle;\n",
    "}\n",
    "\n",
    ".rendered_html code {\n",
    "    background-color: #f2f2f2;\n",
    "    font-family: monospace;\n",
    "    color: #a20505;\n",
    "    font-size: 15px;\n",
    "    font-size: 1em;\n",
    "}\n",
    "\n",
    ".rendered_html h1 {\n",
    "    padding-top: 50px;\n",
    "}\n",
    "\n",
    ".rendered_html h2 {\n",
    "    font-size: 30px\n",
    "    margin-top: 0;\n",
    "    font-size: 2.488em;\n",
    "}\n",
    "\n",
    ".rendered_html h3 {\n",
    "    font-size: 25px;\n",
    "}\n",
    "\n",
    ".rendered_html h4 {\n",
    "    font-size: 20px;\n",
    "}\n",
    "\n",
    "</style>"
   ]
  },
  {
   "cell_type": "markdown",
   "metadata": {},
   "source": [
    "<a rel=\"license\" href=\"http://creativecommons.org/licenses/by/4.0/\"><img alt=\"Creative Commons Licence\" style=\"border-width:0\" src=\"https://i.creativecommons.org/l/by/4.0/88x31.png\" /></a><br />This work by  Joaquín Amat Rodrigo is licensed under a <a rel=\"license\" href=\"http://creativecommons.org/licenses/by/4.0/\">Creative Commons Attribution 4.0 International License</a>."
   ]
  }
 ],
 "metadata": {
  "kernelspec": {
   "display_name": "Python 3",
   "language": "python",
   "name": "python3"
  },
  "language_info": {
   "codemirror_mode": {
    "name": "ipython",
    "version": 3
   },
   "file_extension": ".py",
   "mimetype": "text/x-python",
   "name": "python",
   "nbconvert_exporter": "python",
   "pygments_lexer": "ipython3",
   "version": "3.7.4"
  }
 },
 "nbformat": 4,
 "nbformat_minor": 4
}
