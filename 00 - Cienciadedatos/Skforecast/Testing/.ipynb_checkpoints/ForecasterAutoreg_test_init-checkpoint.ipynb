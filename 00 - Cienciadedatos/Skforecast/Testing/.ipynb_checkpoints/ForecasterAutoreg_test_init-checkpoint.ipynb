{
 "cells": [
  {
   "cell_type": "code",
   "execution_count": 1,
   "id": "f8c1bb8b",
   "metadata": {
    "ExecuteTime": {
     "end_time": "2022-02-11T12:28:52.605898Z",
     "start_time": "2022-02-11T12:28:51.566965Z"
    }
   },
   "outputs": [],
   "source": [
    "# Unit test __init__\n",
    "# ==============================================================================\n",
    "import pytest\n",
    "from pytest import approx\n",
    "import numpy as np\n",
    "import pandas as pd\n",
    "from skforecast.ForecasterAutoreg import ForecasterAutoreg\n",
    "from sklearn.linear_model import LinearRegression\n",
    "\n",
    "def test_init_lags_when_integer():\n",
    "    '''\n",
    "    Test creation of attribute lags when integer is passed.\n",
    "    '''\n",
    "    forecaster = ForecasterAutoreg(LinearRegression(), lags=10)\n",
    "    assert (forecaster.lags == np.arange(10) + 1).all()\n",
    "    \n",
    "def test_init_lags_when_list():\n",
    "    '''\n",
    "    Test creation of attribute lags when list is passed.\n",
    "    '''\n",
    "    forecaster = ForecasterAutoreg(LinearRegression(), lags=[1, 2, 3])\n",
    "    assert (forecaster.lags == np.array([1, 2, 3])).all()\n",
    "    \n",
    "def test_init_lags_when_range():\n",
    "    '''\n",
    "    Test creation of attribute lags when range is passed.\n",
    "    '''\n",
    "    forecaster = ForecasterAutoreg(LinearRegression(), lags=range(1, 4))\n",
    "    assert (forecaster.lags == np.array(range(1, 4))).all()\n",
    "    \n",
    "def test_init_lags_when_numpy_arange():\n",
    "    '''\n",
    "    Test creation of attribute lags when numpy arange is passed.\n",
    "    '''\n",
    "    forecaster = ForecasterAutoreg(LinearRegression(), lags=np.arange(1, 10))\n",
    "    assert (forecaster.lags == np.arange(1, 10)).all()\n",
    "\n",
    "def test_init_exception_when_lags_is_int_lower_than_1():\n",
    "    '''\n",
    "    Test exception is raised when lags is initialized with int lower than 1.\n",
    "    '''\n",
    "    with pytest.raises(Exception):\n",
    "        ForecasterAutoreg(LinearRegression(), lags=-10)\n",
    "        \n",
    "def test_init_exception_when_lags_has_values_lower_than_1():\n",
    "    '''\n",
    "    Test exception is raised when lags is initialized with any value lower than 1.\n",
    "    '''\n",
    "    for lags in [[0, 1], range(0, 2), np.arange(0, 2)]:\n",
    "        with pytest.raises(Exception):\n",
    "            ForecasterAutoreg(LinearRegression(), lags=lags)"
   ]
  },
  {
   "cell_type": "code",
   "execution_count": 3,
   "id": "b4006b11",
   "metadata": {
    "ExecuteTime": {
     "end_time": "2022-02-11T12:29:32.319835Z",
     "start_time": "2022-02-11T12:29:32.316769Z"
    }
   },
   "outputs": [],
   "source": [
    "def test_init_lags_when_integer():\n",
    "    '''\n",
    "    Test creation of attribute lags when integer is passed.\n",
    "    '''\n",
    "    forecaster = ForecasterAutoreg(LinearRegression(), lags=10)\n",
    "    assert (forecaster.lags == np.arange(10) + 1).all()\n",
    "    "
   ]
  },
  {
   "cell_type": "code",
   "execution_count": 25,
   "id": "324b4f6e",
   "metadata": {
    "ExecuteTime": {
     "end_time": "2022-02-11T12:45:09.214516Z",
     "start_time": "2022-02-11T12:45:09.210947Z"
    }
   },
   "outputs": [],
   "source": [
    "def test_init_exception_when_lags_list_or_numpy_array_with_values_not_int():\n",
    "    '''\n",
    "    Test exception is raised when lags is list or numpy array and element(s) are not int.\n",
    "    '''\n",
    "    lags_list = [1, 1.5, 7*1.2, [1, 2], range(5)]\n",
    "    lags_np_array = np.array([1, 1.5, 7*1.2, [1, 2], range(5)])\n",
    "    \n",
    "    for lags in [lags_list, lags_np_array]:\n",
    "        for lag in lags:\n",
    "            if not isinstance(lag, int):\n",
    "                with pytest.raises(Exception):\n",
    "                    ForecasterAutoreg(LinearRegression(), lags=lags)"
   ]
  },
  {
   "cell_type": "code",
   "execution_count": 38,
   "id": "6d67b342",
   "metadata": {
    "ExecuteTime": {
     "end_time": "2022-02-11T12:51:01.278823Z",
     "start_time": "2022-02-11T12:51:01.274512Z"
    }
   },
   "outputs": [
    {
     "name": "stdout",
     "output_type": "stream",
     "text": [
      "<class 'numpy.float64'>\n",
      "error\n",
      "<class 'numpy.float64'>\n",
      "error\n",
      "<class 'numpy.float64'>\n",
      "error\n"
     ]
    }
   ],
   "source": [
    "lags = [1, 1.5, 7*1.2, [1, 2], range(5)]\n",
    "lags = np.array([1, 1.5, 7*1.2])\n",
    "for lag in lags:\n",
    "    print(type(lag))\n",
    "    if not isinstance(lag, int):\n",
    "        print('error')"
   ]
  },
  {
   "cell_type": "code",
   "execution_count": 47,
   "id": "f78644f2",
   "metadata": {
    "ExecuteTime": {
     "end_time": "2022-02-11T12:52:07.625134Z",
     "start_time": "2022-02-11T12:52:07.620808Z"
    }
   },
   "outputs": [
    {
     "name": "stdout",
     "output_type": "stream",
     "text": [
      "<class 'numpy.ndarray'>\n",
      "<class 'numpy.ndarray'>\n"
     ]
    },
    {
     "name": "stderr",
     "output_type": "stream",
     "text": [
      "/tmp/ipykernel_12105/472568454.py:2: VisibleDeprecationWarning: Creating an ndarray from ragged nested sequences (which is a list-or-tuple of lists-or-tuples-or ndarrays with different lengths or shapes) is deprecated. If you meant to do this, you must specify 'dtype=object' when creating the ndarray.\n",
      "  print(type(np.array([1, 1.5, 7*1.2, range(5), [1,2]])))\n"
     ]
    }
   ],
   "source": [
    "print(type(np.array([1, 1.5, 7*1.2])))\n",
    "print(type(np.array([1, 1.5, 7*1.2, range(5), [1,2]])))"
   ]
  },
  {
   "cell_type": "code",
   "execution_count": 49,
   "id": "e182591f",
   "metadata": {
    "ExecuteTime": {
     "end_time": "2022-02-11T13:07:56.426049Z",
     "start_time": "2022-02-11T13:07:56.422615Z"
    }
   },
   "outputs": [],
   "source": [
    "forecaster = ForecasterAutoreg(LinearRegression(), lags=np.array([1, 10]))"
   ]
  },
  {
   "cell_type": "code",
   "execution_count": null,
   "id": "3f519c31",
   "metadata": {},
   "outputs": [],
   "source": []
  }
 ],
 "metadata": {
  "kernelspec": {
   "display_name": "skforecast",
   "language": "python",
   "name": "skforecast"
  },
  "language_info": {
   "codemirror_mode": {
    "name": "ipython",
    "version": 3
   },
   "file_extension": ".py",
   "mimetype": "text/x-python",
   "name": "python",
   "nbconvert_exporter": "python",
   "pygments_lexer": "ipython3",
   "version": "3.8.0"
  },
  "toc": {
   "base_numbering": 1,
   "nav_menu": {},
   "number_sections": true,
   "sideBar": true,
   "skip_h1_title": false,
   "title_cell": "Table of Contents",
   "title_sidebar": "Contents",
   "toc_cell": false,
   "toc_position": {},
   "toc_section_display": true,
   "toc_window_display": false
  },
  "varInspector": {
   "cols": {
    "lenName": 16,
    "lenType": 16,
    "lenVar": 40
   },
   "kernels_config": {
    "python": {
     "delete_cmd_postfix": "",
     "delete_cmd_prefix": "del ",
     "library": "var_list.py",
     "varRefreshCmd": "print(var_dic_list())"
    },
    "r": {
     "delete_cmd_postfix": ") ",
     "delete_cmd_prefix": "rm(",
     "library": "var_list.r",
     "varRefreshCmd": "cat(var_dic_list()) "
    }
   },
   "types_to_exclude": [
    "module",
    "function",
    "builtin_function_or_method",
    "instance",
    "_Feature"
   ],
   "window_display": false
  }
 },
 "nbformat": 4,
 "nbformat_minor": 5
}
