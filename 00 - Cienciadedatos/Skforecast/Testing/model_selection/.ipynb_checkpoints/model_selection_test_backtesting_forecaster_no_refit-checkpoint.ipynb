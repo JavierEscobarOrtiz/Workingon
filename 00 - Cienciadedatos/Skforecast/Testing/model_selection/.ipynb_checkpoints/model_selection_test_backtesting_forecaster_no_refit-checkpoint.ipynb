{
 "cells": [
  {
   "cell_type": "code",
   "execution_count": 3,
   "id": "f8c1bb8b",
   "metadata": {
    "ExecuteTime": {
     "end_time": "2022-02-18T09:39:25.385608Z",
     "start_time": "2022-02-18T09:39:25.380990Z"
    }
   },
   "outputs": [],
   "source": [
    "# Unit test _backtesting_forecaster_no_refit\n",
    "# ==============================================================================\n",
    "import pytest\n",
    "from pytest import approx\n",
    "import numpy as np\n",
    "import pandas as pd\n",
    "from skforecast.ForecasterAutoreg import ForecasterAutoreg\n",
    "from skforecast.model_selection.model_selection import _backtesting_forecaster_no_refit\n",
    "from sklearn.linear_model import LinearRegression\n",
    "from sklearn.metrics import mean_squared_error "
   ]
  },
  {
   "cell_type": "code",
   "execution_count": 8,
   "id": "6d5cf670",
   "metadata": {
    "ExecuteTime": {
     "end_time": "2022-02-18T09:45:05.002619Z",
     "start_time": "2022-02-18T09:45:04.979550Z"
    }
   },
   "outputs": [
    {
     "name": "stdout",
     "output_type": "stream",
     "text": [
      "[3.26621983e-29]    pred\n",
      "3   3.0\n",
      "4   4.0\n",
      "5   5.0\n",
      "6   6.0\n"
     ]
    }
   ],
   "source": [
    "y=pd.Series(np.arange(50))\n",
    "forecaster = ForecasterAutoreg(LinearRegression(), lags=3)\n",
    "forecaster.fit(y=y)\n",
    "\n",
    "metric, predictions_backtest = _backtesting_forecaster_no_refit(\n",
    "                                    forecaster          = forecaster,\n",
    "                                    y                   = y,\n",
    "                                    steps               = 3,\n",
    "                                    metric              = 'mean_squared_error',\n",
    "                                    initial_train_size  = None,\n",
    "                                    exog                = None,\n",
    "                                    interval            = None,\n",
    "                                    n_boot              = 500,\n",
    "                                    random_state        = 123,\n",
    "                                    in_sample_residuals = True,\n",
    "                                    verbose             = False\n",
    "                               )\n",
    "\n",
    "print(metric, predictions_backtest[:4])"
   ]
  },
  {
   "cell_type": "code",
   "execution_count": 4,
   "id": "9280b7a4",
   "metadata": {
    "ExecuteTime": {
     "end_time": "2022-02-18T09:40:13.903673Z",
     "start_time": "2022-02-18T09:40:13.887857Z"
    }
   },
   "outputs": [],
   "source": [
    "forecaster = ForecasterAutoreg(LinearRegression(), lags=3)\n",
    "forecaster.fit(y=pd.Series(np.arange(50)))\n",
    "expected = pd.Series(np.array([47, 48, 49]), index=[47, 48, 49])"
   ]
  },
  {
   "cell_type": "code",
   "execution_count": null,
   "id": "bb045074",
   "metadata": {},
   "outputs": [],
   "source": []
  },
  {
   "cell_type": "code",
   "execution_count": null,
   "id": "67a37012",
   "metadata": {},
   "outputs": [],
   "source": []
  }
 ],
 "metadata": {
  "kernelspec": {
   "display_name": "skforecast",
   "language": "python",
   "name": "skforecast"
  },
  "language_info": {
   "codemirror_mode": {
    "name": "ipython",
    "version": 3
   },
   "file_extension": ".py",
   "mimetype": "text/x-python",
   "name": "python",
   "nbconvert_exporter": "python",
   "pygments_lexer": "ipython3",
   "version": "3.8.0"
  },
  "toc": {
   "base_numbering": 1,
   "nav_menu": {},
   "number_sections": true,
   "sideBar": true,
   "skip_h1_title": false,
   "title_cell": "Table of Contents",
   "title_sidebar": "Contents",
   "toc_cell": false,
   "toc_position": {},
   "toc_section_display": true,
   "toc_window_display": false
  },
  "varInspector": {
   "cols": {
    "lenName": 16,
    "lenType": 16,
    "lenVar": 40
   },
   "kernels_config": {
    "python": {
     "delete_cmd_postfix": "",
     "delete_cmd_prefix": "del ",
     "library": "var_list.py",
     "varRefreshCmd": "print(var_dic_list())"
    },
    "r": {
     "delete_cmd_postfix": ") ",
     "delete_cmd_prefix": "rm(",
     "library": "var_list.r",
     "varRefreshCmd": "cat(var_dic_list()) "
    }
   },
   "types_to_exclude": [
    "module",
    "function",
    "builtin_function_or_method",
    "instance",
    "_Feature"
   ],
   "window_display": false
  }
 },
 "nbformat": 4,
 "nbformat_minor": 5
}
