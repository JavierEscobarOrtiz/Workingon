{
 "cells": [
  {
   "cell_type": "markdown",
   "metadata": {},
   "source": [
    " "
   ]
  },
  {
   "cell_type": "markdown",
   "metadata": {},
   "source": [
    "<h1><center><font size=\"25\">Predicción (<i>forecasting</i>) visitas página web con machine learning</font></center></h1>"
   ]
  },
  {
   "cell_type": "markdown",
   "metadata": {},
   "source": [
    "<center><b>Joaquín Amat Rodrigo</b></center>\n",
    "\n",
    "<center><i>Septiembre, 2021 (última actualización Enero 2022)</i></center>"
   ]
  },
  {
   "cell_type": "markdown",
   "metadata": {},
   "source": [
    "Más sobre ciencia de datos: [**cienciadedatos.net**](https://cienciadedatos.net)\n",
    "\n",
    "+ [Forecasting series temporales con Python y Scikit Learn](https://www.cienciadedatos.net/documentos/py27-forecasting-series-temporales-python-scikitlearn.html)\n",
    "+ [Predicción (forecasting) de la demanda eléctrica con Python](https://www.cienciadedatos.net/documentos/py29-forecasting-demanda-energia-electrica-python.html)\n",
    "+ [skforecast](https://joaquinamatrodrigo.github.io/skforecast/latest/index.html)"
   ]
  },
  {
   "cell_type": "markdown",
   "metadata": {},
   "source": [
    "## Introducción\n",
    "<br>\n",
    "\n",
    "Una serie temporal (*time series*) es una sucesión de datos ordenados cronológicamente, espaciados a intervalos iguales o desiguales. El proceso de *forecasting* consiste en predecir el valor futuro de una serie temporal, bien modelando la serie únicamente en función de su comportamiento pasado (autorregresivo) o empleando otras variables externas.\n",
    "\n",
    "En este documento se muestra un ejemplo de cómo utilizar métodos *machine learning* y modelado estadístico (ARIMA) para predecir el número de visitas diarias que recibe una página web. Para ello, se hace uso de [**Skforecast v0.4**](https://joaquinamatrodrigo.github.io/skforecast/0.4/index.html), una sencilla librería de Python que permite, entre otras cosas, adaptar cualquier regresor de scikit-learn a problemas de *forecasting*.\n",
    "\n",
    "Mismo ejemplo con **Skforecast v0.3** [aquí](https://www.cienciadedatos.net/documentos/py37-forecasting-visitas-web-machine-learning.html-0.3.html).\n",
    "<br>"
   ]
  },
  {
   "cell_type": "markdown",
   "metadata": {},
   "source": [
    "## Caso de uso\n",
    "<br>\n",
    "\n",
    "Se dispone del historial de visitas diarias a la web [cienciadedatos.net](https://www.cienciadedatos.net) desde el 01/07/2020. Se pretende generar un modelo de *forecasting* capaz de predecir el tráfico web que tendrá la página a 7 días vista. En concreto, el usuario quiere ser capaz de ejecutar el modelo cada lunes y obtener las predicciones de tráfico diario hasta el lunes siguiente.\n",
    "\n",
    "Con el objetivo de poder evaluar de forma robusta la capacidad del modelo acorde al uso que se le quiere dar, conviene no limitarse a predecir únicamente los últimos 7 días de la serie temporal, sino simular el proceso completo. Dos de las estrategias que se pueden emplear a la hora de realizar este tipo de validación son:\n",
    "\n",
    "**Backtesting con reentrenamiento (refit)**\n",
    "\n",
    "El modelo se entrena cada vez antes de realizar las predicciones, de esta forma, se incorpora toda la información disponible hasta el momento. Se trata de una adaptación del proceso de *cross-validation* en el que, en lugar de hacer un reparto aleatorio de las observaciones, el conjunto de entrenamiento se incrementa de forma secuencial, manteniendo el orden temporal de los datos.\n",
    "\n",
    "<img src=\"./images/diagram-backtesting-refit.png\" style=\"width: 500px;\"/>\n",
    "\n",
    "<center><font size='2.5'> <i>Diagrama de time series backtesting con un tamaño inicial de entrenamiento de 10 observaciones, un horizonte de predicción de 3 steps y reentrenamiento en cada iteración.</i></font></center>\n",
    "\n",
    "\n",
    "**Backtesting sin reentrenamiento**\n",
    "\n",
    "Con esta estrategia, el modelo se entrena una única vez con un conjunto inicial y se realizan las predicciones de forma secuencial sin actualizar el modelo y siguiendo el orden temporal de los datos. Esta estrategia tiene la ventaja de ser mucho más rápida puesto que el modelo solo se entrena una vez. La desventaja es que el modelo no incorpora la última información disponible por lo que puede perder capacidad predictiva con el tiempo.\n",
    "\n",
    "<img src=\"./images/diagram-backtesting-no-refit.png\" style=\"width: 500px;\"/>\n",
    "\n",
    "<br>\n",
    "\n",
    "<center><font size='2.5'> <i>Diagrama de time series backtesting con un tamaño inicial de entrenamiento de 10 observaciones, un horizonte de predicción de 3 steps, sin reentrenamiento en cada iteración.</i></font></center>\n",
    "\n",
    "El método de validación más adecuada dependerá de cuál sea la estrategia seguida en la puesta en producción, en concreto, de si el modelo se va a reentrenar periódicamente o no antes de que se ejecute el proceso de predicción. Independientemente de la estrategia utilizada, es importante no incluir los datos de test en el proceso de búsqueda para no caer en problemas de *overfitting*."
   ]
  },
  {
   "cell_type": "markdown",
   "metadata": {},
   "source": [
    "## Librerías\n",
    "<br>\n",
    "\n",
    "Las librerías utilizadas en este documento son:"
   ]
  },
  {
   "cell_type": "code",
   "execution_count": 22,
   "metadata": {},
   "outputs": [],
   "source": [
    "# Tratamiento de datos\n",
    "# ==============================================================================\n",
    "import numpy as np\n",
    "import pandas as pd\n",
    "\n",
    "# Gráficos\n",
    "# ==============================================================================\n",
    "import matplotlib.pyplot as plt\n",
    "import seaborn as sns\n",
    "import hvplot.pandas\n",
    "%matplotlib inline\n",
    "from statsmodels.graphics.tsaplots import plot_acf\n",
    "from statsmodels.graphics.tsaplots import plot_pacf\n",
    "plt.style.use('fivethirtyeight')\n",
    "\n",
    "# Modelado y Forecasting\n",
    "# ==============================================================================\n",
    "from skforecast.ForecasterAutoreg import ForecasterAutoreg\n",
    "from skforecast.model_selection import grid_search_forecaster\n",
    "from skforecast.model_selection import backtesting_forecaster\n",
    "from skforecast.model_selection_statsmodels import backtesting_sarimax\n",
    "from skforecast.model_selection_statsmodels import grid_search_sarimax\n",
    "\n",
    "from sklearn.linear_model import Ridge\n",
    "from sklearn.preprocessing import StandardScaler\n",
    "from sklearn.pipeline import make_pipeline\n",
    "from sklearn.metrics import mean_absolute_error\n",
    "\n",
    "# Configuración warnings\n",
    "# ==============================================================================\n",
    "import warnings\n",
    "warnings.filterwarnings('once')"
   ]
  },
  {
   "cell_type": "markdown",
   "metadata": {},
   "source": [
    "## Datos\n",
    "<br>\n",
    "\n",
    "Los datos empleados en este documento se han obtenido a partir del servicio de google analytics integrado en la página y pueden descargarse de [aquí](https://github.com/JoaquinAmatRodrigo/Estadistica-machine-learning-python/blob/master/data/visitas_por_dia_web_cienciadedatos.csv). Los campos incluidos son:\n",
    "\n",
    "+ date: fecha en formato dia/mes/año\n",
    "\n",
    "+ users: número total de personas que visitan la web"
   ]
  },
  {
   "cell_type": "code",
   "execution_count": 23,
   "metadata": {},
   "outputs": [
    {
     "name": "stdout",
     "output_type": "stream",
     "text": [
      "<class 'pandas.core.frame.DataFrame'>\n",
      "RangeIndex: 421 entries, 0 to 420\n",
      "Data columns (total 2 columns):\n",
      " #   Column  Non-Null Count  Dtype \n",
      "---  ------  --------------  ----- \n",
      " 0   date    421 non-null    object\n",
      " 1   users   421 non-null    int64 \n",
      "dtypes: int64(1), object(1)\n",
      "memory usage: 6.7+ KB\n"
     ]
    }
   ],
   "source": [
    "# Descarga de datos\n",
    "# ==============================================================================\n",
    "url = ('https://raw.githubusercontent.com/JoaquinAmatRodrigo/Estadistica-machine-learning-python/' +\n",
    "       'master/data/visitas_por_dia_web_cienciadedatos.csv')\n",
    "datos = pd.read_csv(url, sep=',')\n",
    "datos.info()"
   ]
  },
  {
   "cell_type": "markdown",
   "metadata": {},
   "source": [
    "La columna *date* se ha almacenado como `string`. Para convertirla en formato fecha, se emplea la función `pd.to_datetime()`. Una vez en formato `datetime`, y para hacer uso de las funcionalidades de **pandas**, se establece como índice. Además, dado que los datos son de carácter diario, se indica la frecuencia ('1D')."
   ]
  },
  {
   "cell_type": "code",
   "execution_count": 24,
   "metadata": {},
   "outputs": [],
   "source": [
    "# Conversión del formato fecha\n",
    "# ==============================================================================\n",
    "datos['date'] = pd.to_datetime(datos['date'], format='%d/%m/%y')\n",
    "datos = datos.set_index('date')\n",
    "datos = datos.asfreq('1D')\n",
    "datos = datos.sort_index()"
   ]
  },
  {
   "cell_type": "code",
   "execution_count": 25,
   "metadata": {},
   "outputs": [
    {
     "data": {
      "text/plain": [
       "True"
      ]
     },
     "execution_count": 25,
     "metadata": {},
     "output_type": "execute_result"
    }
   ],
   "source": [
    "# Verificar que un índice temporal está completo\n",
    "# ==============================================================================\n",
    "(datos.index == pd.date_range(\n",
    "                    start = datos.index.min(),\n",
    "                    end   = datos.index.max(),\n",
    "                    freq  = datos.index.freq)\n",
    "                ).all()"
   ]
  },
  {
   "cell_type": "markdown",
   "metadata": {},
   "source": [
    "El set de datos empieza el *2020-07-01* y termina el *2021-08-22*. Se dividen los datos en 3 conjuntos, uno de entrenamiento, uno de validación y otro de test."
   ]
  },
  {
   "cell_type": "code",
   "execution_count": 26,
   "metadata": {},
   "outputs": [
    {
     "name": "stdout",
     "output_type": "stream",
     "text": [
      "Fechas train      : 2020-07-01 00:00:00 --- 2021-03-30 00:00:00\n",
      "Fechas validación : 2021-03-31 00:00:00 --- 2021-06-30 00:00:00\n",
      "Fechas test       : 2021-07-01 00:00:00 --- 2021-08-25 00:00:00\n"
     ]
    }
   ],
   "source": [
    "# Separación datos train-test\n",
    "# ==============================================================================\n",
    "fin_train = '2021-03-30 23:59:00'\n",
    "fin_validacion = '2021-06-30 23:59:00'\n",
    "\n",
    "datos_train = datos.loc[: fin_train, :]\n",
    "datos_val   = datos.loc[fin_train:fin_validacion, :]\n",
    "datos_test  = datos.loc[fin_validacion:, :]\n",
    "\n",
    "print(f\"Fechas train      : {datos_train.index.min()} --- {datos_train.index.max()}\")\n",
    "print(f\"Fechas validación : {datos_val.index.min()} --- {datos_val.index.max()}\")\n",
    "print(f\"Fechas test       : {datos_test.index.min()} --- {datos_test.index.max()}\")"
   ]
  },
  {
   "cell_type": "markdown",
   "metadata": {},
   "source": [
    "## Exploración gráfica\n",
    "<br>\n",
    "\n",
    "Cuando se quiere generar un modelo de *forecasting*, es importante representar los valores de la serie temporal. Esto permite identificar patrones tales como tendencias y estacionalidad."
   ]
  },
  {
   "cell_type": "markdown",
   "metadata": {},
   "source": [
    "**Serie temporal completa**"
   ]
  },
  {
   "cell_type": "code",
   "execution_count": 27,
   "metadata": {},
   "outputs": [
    {
     "data": {},
     "metadata": {},
     "output_type": "display_data"
    },
    {
     "data": {
      "application/vnd.holoviews_exec.v0+json": "",
      "text/html": [
       "<div id='3832'>\n",
       "\n",
       "\n",
       "\n",
       "\n",
       "\n",
       "  <div class=\"bk-root\" id=\"ec149064-2a1a-4ee5-98e5-cd81fe3414a3\" data-root-id=\"3832\"></div>\n",
       "</div>\n",
       "<script type=\"application/javascript\">(function(root) {\n",
       "  function embed_document(root) {\n",
       "    var docs_json = {\"2fbe1a8c-d04a-42c7-9f5e-4f47374337b9\":{\"defs\":[{\"extends\":null,\"module\":null,\"name\":\"ReactiveHTML1\",\"overrides\":[],\"properties\":[]},{\"extends\":null,\"module\":null,\"name\":\"FlexBox1\",\"overrides\":[],\"properties\":[{\"default\":\"flex-start\",\"kind\":null,\"name\":\"align_content\"},{\"default\":\"flex-start\",\"kind\":null,\"name\":\"align_items\"},{\"default\":\"row\",\"kind\":null,\"name\":\"flex_direction\"},{\"default\":\"wrap\",\"kind\":null,\"name\":\"flex_wrap\"},{\"default\":\"flex-start\",\"kind\":null,\"name\":\"justify_content\"}]},{\"extends\":null,\"module\":null,\"name\":\"TemplateActions1\",\"overrides\":[],\"properties\":[{\"default\":0,\"kind\":null,\"name\":\"open_modal\"},{\"default\":0,\"kind\":null,\"name\":\"close_modal\"}]},{\"extends\":null,\"module\":null,\"name\":\"MaterialTemplateActions1\",\"overrides\":[],\"properties\":[{\"default\":0,\"kind\":null,\"name\":\"open_modal\"},{\"default\":0,\"kind\":null,\"name\":\"close_modal\"}]}],\"roots\":{\"references\":[{\"attributes\":{\"base\":24,\"mantissas\":[1,2,4,6,8,12],\"max_interval\":43200000.0,\"min_interval\":3600000.0,\"num_minor_ticks\":0},\"id\":\"3895\",\"type\":\"AdaptiveTicker\"},{\"attributes\":{\"label\":{\"value\":\"train\"},\"renderers\":[{\"id\":\"3881\"}]},\"id\":\"3906\",\"type\":\"LegendItem\"},{\"attributes\":{},\"id\":\"3963\",\"type\":\"UnionRenderers\"},{\"attributes\":{\"label\":{\"value\":\"test\"},\"renderers\":[{\"id\":\"3948\"}]},\"id\":\"3976\",\"type\":\"LegendItem\"},{\"attributes\":{\"axis_label\":\"date\",\"formatter\":{\"id\":\"3869\"},\"major_label_policy\":{\"id\":\"3871\"},\"ticker\":{\"id\":\"3849\"}},\"id\":\"3848\",\"type\":\"DatetimeAxis\"},{\"attributes\":{\"days\":[1,2,3,4,5,6,7,8,9,10,11,12,13,14,15,16,17,18,19,20,21,22,23,24,25,26,27,28,29,30,31]},\"id\":\"3896\",\"type\":\"DaysTicker\"},{\"attributes\":{},\"id\":\"3844\",\"type\":\"LinearScale\"},{\"attributes\":{},\"id\":\"3872\",\"type\":\"BasicTickFormatter\"},{\"attributes\":{\"days\":[1,4,7,10,13,16,19,22,25,28]},\"id\":\"3897\",\"type\":\"DaysTicker\"},{\"attributes\":{\"num_minor_ticks\":5,\"tickers\":[{\"id\":\"3893\"},{\"id\":\"3894\"},{\"id\":\"3895\"},{\"id\":\"3896\"},{\"id\":\"3897\"},{\"id\":\"3898\"},{\"id\":\"3899\"},{\"id\":\"3900\"},{\"id\":\"3901\"},{\"id\":\"3902\"},{\"id\":\"3903\"},{\"id\":\"3904\"}]},\"id\":\"3849\",\"type\":\"DatetimeTicker\"},{\"attributes\":{\"days\":[1,8,15,22]},\"id\":\"3898\",\"type\":\"DaysTicker\"},{\"attributes\":{\"line_color\":\"#e5ae38\",\"line_width\":2,\"x\":{\"field\":\"date\"},\"y\":{\"field\":\"users\"}},\"id\":\"3977\",\"type\":\"Line\"},{\"attributes\":{\"days\":[1,15]},\"id\":\"3899\",\"type\":\"DaysTicker\"},{\"attributes\":{},\"id\":\"3846\",\"type\":\"LinearScale\"},{\"attributes\":{\"months\":[0,1,2,3,4,5,6,7,8,9,10,11]},\"id\":\"3900\",\"type\":\"MonthsTicker\"},{\"attributes\":{\"margin\":[5,5,5,5],\"name\":\"HSpacer07327\",\"sizing_mode\":\"stretch_width\"},\"id\":\"4212\",\"type\":\"Spacer\"},{\"attributes\":{\"base\":60,\"mantissas\":[1,2,5,10,15,20,30],\"max_interval\":1800000.0,\"min_interval\":1000.0,\"num_minor_ticks\":0},\"id\":\"3894\",\"type\":\"AdaptiveTicker\"},{\"attributes\":{\"months\":[0,2,4,6,8,10]},\"id\":\"3901\",\"type\":\"MonthsTicker\"},{\"attributes\":{},\"id\":\"3853\",\"type\":\"BasicTicker\"},{\"attributes\":{\"callback\":null,\"formatters\":{\"@{date}\":\"datetime\"},\"renderers\":[{\"id\":\"3881\"},{\"id\":\"3914\"},{\"id\":\"3948\"}],\"tags\":[\"hv_created\"],\"tooltips\":[[\"date\",\"@{date}{%F %T}\"],[\"users\",\"@{users}\"]]},\"id\":\"3836\",\"type\":\"HoverTool\"},{\"attributes\":{\"axis_label\":\"users\",\"formatter\":{\"id\":\"3872\"},\"major_label_policy\":{\"id\":\"3874\"},\"ticker\":{\"id\":\"3853\"}},\"id\":\"3852\",\"type\":\"LinearAxis\"},{\"attributes\":{\"months\":[0,4,8]},\"id\":\"3902\",\"type\":\"MonthsTicker\"},{\"attributes\":{\"click_policy\":\"mute\",\"items\":[{\"id\":\"3906\"},{\"id\":\"3940\"},{\"id\":\"3976\"}]},\"id\":\"3905\",\"type\":\"Legend\"},{\"attributes\":{\"axis\":{\"id\":\"3848\"},\"grid_line_color\":null,\"ticker\":null},\"id\":\"3851\",\"type\":\"Grid\"},{\"attributes\":{\"months\":[0,6]},\"id\":\"3903\",\"type\":\"MonthsTicker\"},{\"attributes\":{},\"id\":\"3871\",\"type\":\"AllLabels\"},{\"attributes\":{},\"id\":\"3904\",\"type\":\"YearsTicker\"},{\"attributes\":{\"line_color\":\"#30a2da\",\"line_width\":2,\"x\":{\"field\":\"date\"},\"y\":{\"field\":\"users\"}},\"id\":\"3907\",\"type\":\"Line\"},{\"attributes\":{\"axis\":{\"id\":\"3852\"},\"dimension\":1,\"grid_line_color\":null,\"ticker\":null},\"id\":\"3855\",\"type\":\"Grid\"},{\"attributes\":{},\"id\":\"3927\",\"type\":\"UnionRenderers\"},{\"attributes\":{\"margin\":[5,5,5,5],\"name\":\"HSpacer07326\",\"sizing_mode\":\"stretch_width\"},\"id\":\"3833\",\"type\":\"Spacer\"},{\"attributes\":{\"children\":[{\"id\":\"3833\"},{\"id\":\"3839\"},{\"id\":\"4212\"}],\"margin\":[0,0,0,0],\"name\":\"Row07322\",\"tags\":[\"embedded\"]},\"id\":\"3832\",\"type\":\"Row\"},{\"attributes\":{\"source\":{\"id\":\"3875\"}},\"id\":\"3882\",\"type\":\"CDSView\"},{\"attributes\":{\"source\":{\"id\":\"3908\"}},\"id\":\"3915\",\"type\":\"CDSView\"},{\"attributes\":{\"active_multi\":null,\"tools\":[{\"id\":\"3836\"},{\"id\":\"3856\"},{\"id\":\"3857\"},{\"id\":\"3858\"},{\"id\":\"3859\"},{\"id\":\"3860\"}]},\"id\":\"3862\",\"type\":\"Toolbar\"},{\"attributes\":{\"line_alpha\":0.2,\"line_color\":\"#fc4f30\",\"line_width\":2,\"x\":{\"field\":\"date\"},\"y\":{\"field\":\"users\"}},\"id\":\"3913\",\"type\":\"Line\"},{\"attributes\":{},\"id\":\"3909\",\"type\":\"Selection\"},{\"attributes\":{},\"id\":\"3874\",\"type\":\"AllLabels\"},{\"attributes\":{\"data_source\":{\"id\":\"3908\"},\"glyph\":{\"id\":\"3911\"},\"hover_glyph\":null,\"muted_glyph\":{\"id\":\"3913\"},\"nonselection_glyph\":{\"id\":\"3912\"},\"selection_glyph\":{\"id\":\"3941\"},\"view\":{\"id\":\"3915\"}},\"id\":\"3914\",\"type\":\"GlyphRenderer\"},{\"attributes\":{},\"id\":\"3856\",\"type\":\"SaveTool\"},{\"attributes\":{},\"id\":\"3857\",\"type\":\"PanTool\"},{\"attributes\":{\"line_color\":\"#fc4f30\",\"line_width\":2,\"x\":{\"field\":\"date\"},\"y\":{\"field\":\"users\"}},\"id\":\"3941\",\"type\":\"Line\"},{\"attributes\":{},\"id\":\"3858\",\"type\":\"WheelZoomTool\"},{\"attributes\":{\"data\":{\"date\":{\"__ndarray__\":\"AAAAxXowd0IAAMAqzTB3QgAAgJAfMXdCAABA9nExd0IAAABcxDF3QgAAwMEWMndCAACAJ2kyd0IAAECNuzJ3QgAAAPMNM3dCAADAWGAzd0IAAIC+sjN3QgAAQCQFNHdCAAAAilc0d0IAAMDvqTR3QgAAgFX8NHdCAABAu041d0IAAAAhoTV3QgAAwIbzNXdCAACA7EU2d0IAAEBSmDZ3QgAAALjqNndCAADAHT03d0IAAICDjzd3QgAAQOnhN3dCAAAATzQ4d0IAAMC0hjh3QgAAgBrZOHdCAABAgCs5d0IAAADmfTl3QgAAwEvQOXdCAACAsSI6d0IAAEAXdTp3QgAAAH3HOndCAADA4hk7d0IAAIBIbDt3QgAAQK6+O3dCAAAAFBE8d0IAAMB5Yzx3QgAAgN+1PHdCAABARQg9d0IAAACrWj13QgAAwBCtPXdCAACAdv89d0IAAEDcUT53QgAAAEKkPndCAADAp/Y+d0IAAIANST93QgAAQHObP3dCAAAA2e0/d0IAAMA+QEB3QgAAgKSSQHdCAABACuVAd0IAAABwN0F3QgAAwNWJQXdCAACAO9xBd0IAAEChLkJ3QgAAAAeBQndCAADAbNNCd0IAAIDSJUN3QgAAQDh4Q3dCAAAAnspDd0IAAMADHUR3QgAAgGlvRHdCAABAz8FEd0IAAAA1FEV3QgAAwJpmRXdCAACAALlFd0IAAEBmC0Z3QgAAAMxdRndCAADAMbBGd0IAAICXAkd3QgAAQP1UR3dCAAAAY6dHd0IAAMDI+Ud3QgAAgC5MSHdCAABAlJ5Id0IAAAD68Eh3QgAAwF9DSXdCAACAxZVJd0IAAEAr6El3QgAAAJE6SndCAADA9oxKd0IAAIBc30p3QgAAQMIxS3dCAAAAKIRLd0IAAMCN1kt3QgAAgPMoTHdCAABAWXtMd0IAAAC/zUx3QgAAwCQgTXdCAACAinJNd0IAAEDwxE13QgAAAFYXTndCAADAu2lOd0IAAIAhvE53QgAAQIcOT3dCAAAA7WBPd0IAAMBSs093QgAAgLgFUHdCAABAHlhQd0IAAACEqlB3QgAAwOn8UHdCAACAT09Rd0IAAEC1oVF3QgAAABv0UXdCAADAgEZSd0IAAIDmmFJ3QgAAQEzrUndCAAAAsj1Td0IAAMAXkFN3QgAAgH3iU3dCAABA4zRUd0IAAABJh1R3QgAAwK7ZVHdCAACAFCxVd0IAAEB6flV3QgAAAODQVXdCAADARSNWd0IAAICrdVZ3QgAAQBHIVndCAAAAdxpXd0IAAMDcbFd3QgAAgEK/V3dCAABAqBFYd0IAAAAOZFh3QgAAwHO2WHdCAACA2QhZd0IAAEA/W1l3QgAAAKWtWXdCAADACgBad0IAAIBwUlp3QgAAQNakWndCAAAAPPdad0IAAMChSVt3QgAAgAecW3dCAABAbe5bd0IAAADTQFx3QgAAwDiTXHdCAACAnuVcd0IAAEAEOF13QgAAAGqKXXdCAADAz9xdd0IAAIA1L153QgAAQJuBXndCAAAAAdRed0IAAMBmJl93QgAAgMx4X3dCAABAMstfd0IAAACYHWB3QgAAwP1vYHdCAACAY8Jgd0IAAEDJFGF3QgAAAC9nYXdCAADAlLlhd0IAAID6C2J3QgAAQGBeYndCAAAAxrBid0IAAMArA2N3QgAAgJFVY3dCAABA96djd0IAAABd+mN3QgAAwMJMZHdCAACAKJ9kd0IAAECO8WR3QgAAAPRDZXdCAADAWZZld0IAAIC/6GV3QgAAQCU7ZndCAAAAi41md0IAAMDw32Z3QgAAgFYyZ3dCAABAvIRnd0IAAAAi12d3QgAAwIcpaHdCAACA7Xtod0IAAEBTzmh3QgAAALkgaXdCAADAHnNpd0IAAICExWl3QgAAQOoXandCAAAAUGpqd0IAAMC1vGp3QgAAgBsPa3dCAABAgWFrd0IAAADns2t3QgAAwEwGbHdCAACAslhsd0IAAEAYq2x3QgAAAH79bHdCAADA409td0IAAIBJom13QgAAQK/0bXdCAAAAFUdud0IAAMB6mW53QgAAgODrbndCAABARj5vd0IAAACskG93QgAAwBHjb3dCAACAdzVwd0IAAEDdh3B3QgAAAEPacHdCAADAqCxxd0IAAIAOf3F3QgAAQHTRcXdCAAAA2iNyd0IAAMA/dnJ3QgAAgKXIcndCAABACxtzd0IAAABxbXN3QgAAwNa/c3dCAACAPBJ0d0IAAECiZHR3QgAAAAi3dHdCAADAbQl1d0IAAIDTW3V3QgAAQDmudXdCAAAAnwB2d0IAAMAEU3Z3QgAAgGqldndCAABA0Pd2d0IAAAA2Snd3QgAAwJucd3dCAACAAe93d0IAAEBnQXh3QgAAAM2TeHdCAADAMuZ4d0IAAICYOHl3QgAAQP6KeXdCAAAAZN15d0IAAMDJL3p3QgAAgC+CendCAABAldR6d0IAAAD7Jnt3QgAAwGB5e3dCAACAxst7d0IAAEAsHnx3QgAAAJJwfHdCAADA98J8d0IAAIBdFX13QgAAQMNnfXdCAAAAKbp9d0IAAMCODH53QgAAgPRefndCAABAWrF+d0IAAADAA393QgAAwCVWf3dCAACAi6h/d0IAAEDx+n93QgAAAFdNgHdCAADAvJ+Ad0IAAIAi8oB3QgAAQIhEgXdCAAAA7paBd0IAAMBT6YF3QgAAgLk7gndCAABAH46Cd0IAAACF4IJ3QgAAwOoyg3dCAACAUIWDd0IAAEC214N3QgAAABwqhHdCAADAgXyEd0IAAIDnzoR3QgAAQE0hhXdCAAAAs3OFd0IAAMAYxoV3QgAAgH4YhndCAABA5GqGd0IAAABKvYZ3QgAAwK8Ph3dCAACAFWKHd0IAAEB7tId3QgAAAOEGiHdC\",\"dtype\":\"float64\",\"order\":\"little\",\"shape\":[273]},\"users\":[2324,2201,2146,1666,1433,2195,2240,2295,2279,2155,1737,1391,2150,2121,2136,2166,2067,1648,1401,2040,2269,2283,2174,2178,1659,1338,2041,2162,2123,2147,2124,1533,1398,2080,2110,2235,2100,1815,1635,1477,2060,2227,2054,2247,2358,1676,1384,2101,2281,2144,2161,2088,1596,1411,1952,2116,2228,2132,2092,1659,1476,2213,2206,2543,2670,2537,1858,1458,2422,2682,2817,2905,2641,2059,1708,2557,2762,2448,2784,2743,2172,1770,2977,3404,3534,3134,3086,2586,2040,3130,3632,3495,3411,3444,2457,2138,3281,3780,3775,3872,3600,2721,2307,3216,3994,4064,4201,4124,3116,2561,4185,4630,4513,4656,4319,3160,2824,4132,4553,4559,4621,4258,3092,2324,3342,4318,4821,4855,4604,3544,3195,5045,5265,5282,5419,5130,3861,3317,4156,5258,5668,5565,5306,4073,3579,5828,6807,6774,6587,6312,4810,4110,6117,6298,6587,6671,5235,3416,2855,4079,3983,4418,4660,3894,2965,2459,3698,3751,3565,3179,2781,1931,1558,1934,1973,1640,886,472,863,987,1432,1390,1278,785,488,922,1144,1677,1968,1750,2108,2012,1574,1569,2413,2604,2441,2596,2400,1994,1871,2545,2706,2753,2587,2377,1739,1747,2555,2666,2695,2640,2459,1808,1724,2320,2463,2594,2446,2379,1883,1538,2390,2521,2606,2467,2342,1652,1438,2185,2311,2563,2622,2336,1693,1579,2499,2920,2726,2827,2567,2015,1670,2642,2827,3129,3154,2758,2050,1968,2902,2954,3072,3116,2928,2133,1987,2726,3218,3178,3127,2848,2069,1926,3227,3189,3192,3177,2952,1964,1482,2179,2286]},\"selected\":{\"id\":\"3876\"},\"selection_policy\":{\"id\":\"3892\"}},\"id\":\"3875\",\"type\":\"ColumnDataSource\"},{\"attributes\":{\"line_color\":\"#fc4f30\",\"line_width\":2,\"x\":{\"field\":\"date\"},\"y\":{\"field\":\"users\"}},\"id\":\"3911\",\"type\":\"Line\"},{\"attributes\":{\"data\":{\"date\":{\"__ndarray__\":\"AADA1/Wld0IAAIA9SKZ3QgAAQKOapndCAAAACe2md0IAAMBuP6d3QgAAgNSRp3dCAABAOuSnd0IAAACgNqh3QgAAwAWJqHdCAACAa9uod0IAAEDRLal3QgAAADeAqXdCAADAnNKpd0IAAIACJap3QgAAQGh3qndCAAAAzsmqd0IAAMAzHKt3QgAAgJluq3dCAABA/8Crd0IAAABlE6x3QgAAwMplrHdCAACAMLisd0IAAECWCq13QgAAAPxcrXdCAADAYa+td0IAAIDHAa53QgAAQC1UrndCAAAAk6aud0IAAMD4+K53QgAAgF5Lr3dCAABAxJ2vd0IAAAAq8K93QgAAwI9CsHdCAACA9ZSwd0IAAEBb57B3QgAAAME5sXdCAADAJoyxd0IAAICM3rF3QgAAQPIwsndCAAAAWIOyd0IAAMC91bJ3QgAAgCMos3dCAABAiXqzd0IAAADvzLN3QgAAwFQftHdCAACAunG0d0IAAEAgxLR3QgAAAIYWtXdCAADA62i1d0IAAIBRu7V3QgAAQLcNtndCAAAAHWC2d0IAAMCCsrZ3QgAAgOgEt3dCAABATle3d0IAAAC0qbd3Qg==\",\"dtype\":\"float64\",\"order\":\"little\",\"shape\":[56]},\"users\":[3123,2870,2020,1828,2722,2991,2976,2834,2609,1832,1462,2563,2897,3057,2697,2391,1730,1434,2455,2508,2563,2447,2543,1714,1415,2407,2587,2314,2465,2088,1535,133,2146,2266,2330,2323,2003,1406,1239,1989,2268,2249,2322,2098,1477,1308,1920,2219,2482,2345,2185,1546,1393,2371,2547,2448]},\"selected\":{\"id\":\"3943\"},\"selection_policy\":{\"id\":\"3963\"}},\"id\":\"3942\",\"type\":\"ColumnDataSource\"},{\"attributes\":{\"overlay\":{\"id\":\"3861\"}},\"id\":\"3859\",\"type\":\"BoxZoomTool\"},{\"attributes\":{\"data_source\":{\"id\":\"3942\"},\"glyph\":{\"id\":\"3945\"},\"hover_glyph\":null,\"muted_glyph\":{\"id\":\"3947\"},\"nonselection_glyph\":{\"id\":\"3946\"},\"selection_glyph\":{\"id\":\"3977\"},\"view\":{\"id\":\"3949\"}},\"id\":\"3948\",\"type\":\"GlyphRenderer\"},{\"attributes\":{\"line_alpha\":0.2,\"line_color\":\"#30a2da\",\"line_width\":2,\"x\":{\"field\":\"date\"},\"y\":{\"field\":\"users\"}},\"id\":\"3880\",\"type\":\"Line\"},{\"attributes\":{\"data\":{\"date\":{\"__ndarray__\":\"AADARlmId0IAAICsq4h3QgAAQBL+iHdCAAAAeFCJd0IAAMDdool3QgAAgEP1iXdCAABAqUeKd0IAAAAPmop3QgAAwHTsindCAACA2j6Ld0IAAEBAkYt3QgAAAKbji3dCAADACzaMd0IAAIBxiIx3QgAAQNfajHdCAAAAPS2Nd0IAAMCif413QgAAgAjSjXdCAABAbiSOd0IAAADUdo53QgAAwDnJjndCAACAnxuPd0IAAEAFbo93QgAAAGvAj3dCAADA0BKQd0IAAIA2ZZB3QgAAQJy3kHdCAAAAAgqRd0IAAMBnXJF3QgAAgM2ukXdCAABAMwGSd0IAAACZU5J3QgAAwP6lkndCAACAZPiSd0IAAEDKSpN3QgAAADCdk3dCAADAle+Td0IAAID7QZR3QgAAQGGUlHdCAAAAx+aUd0IAAMAsOZV3QgAAgJKLlXdCAABA+N2Vd0IAAABeMJZ3QgAAwMOClndCAACAKdWWd0IAAECPJ5d3QgAAAPV5l3dCAADAWsyXd0IAAIDAHph3QgAAQCZxmHdCAAAAjMOYd0IAAMDxFZl3QgAAgFdomXdCAABAvbqZd0IAAAAjDZp3QgAAwIhfmndCAACA7rGad0IAAEBUBJt3QgAAALpWm3dCAADAH6mbd0IAAICF+5t3QgAAQOtNnHdCAAAAUaCcd0IAAMC28px3QgAAgBxFnXdCAABAgpedd0IAAADo6Z13QgAAwE08nndCAACAs46ed0IAAEAZ4Z53QgAAAH8zn3dCAADA5IWfd0IAAIBK2J93QgAAQLAqoHdCAAAAFn2gd0IAAMB7z6B3QgAAgOEhoXdCAABAR3Shd0IAAACtxqF3QgAAwBIZondCAACAeGuid0IAAEDevaJ3QgAAAEQQo3dCAADAqWKjd0IAAIAPtaN3QgAAQHUHpHdCAAAA21mkd0IAAMBArKR3QgAAgKb+pHdCAABADFGld0IAAAByo6V3Qg==\",\"dtype\":\"float64\",\"order\":\"little\",\"shape\":[92]},\"users\":[2038,1464,1381,1360,1359,2225,2605,2615,2519,2837,2118,1966,2924,3182,3134,3127,3167,2504,2330,3605,3585,3852,3914,3541,2794,2467,3585,4022,3690,3579,3331,2543,2292,3645,3698,3623,3529,3468,2615,2534,3348,3787,3907,3848,3451,2619,2461,3399,3801,3946,3742,3543,2610,2560,3928,4257,4208,4260,4033,3005,2570,3948,4084,3866,4001,3490,2921,2504,3843,4055,3931,4016,3668,2694,2376,3569,3887,4012,3714,3494,2622,2333,3343,3659,3847,3461,3256,2443,2084,3211,3435,3391]},\"selected\":{\"id\":\"3909\"},\"selection_policy\":{\"id\":\"3927\"}},\"id\":\"3908\",\"type\":\"ColumnDataSource\"},{\"attributes\":{},\"id\":\"3943\",\"type\":\"Selection\"},{\"attributes\":{\"text\":\"Visitas diarias a cienciadedatos.net\",\"text_color\":\"black\",\"text_font_size\":\"12pt\"},\"id\":\"3840\",\"type\":\"Title\"},{\"attributes\":{},\"id\":\"3860\",\"type\":\"ResetTool\"},{\"attributes\":{\"line_alpha\":0.1,\"line_color\":\"#fc4f30\",\"line_width\":2,\"x\":{\"field\":\"date\"},\"y\":{\"field\":\"users\"}},\"id\":\"3912\",\"type\":\"Line\"},{\"attributes\":{\"mantissas\":[1,2,5],\"max_interval\":500.0,\"num_minor_ticks\":0},\"id\":\"3893\",\"type\":\"AdaptiveTicker\"},{\"attributes\":{\"label\":{\"value\":\"val\"},\"renderers\":[{\"id\":\"3914\"}]},\"id\":\"3940\",\"type\":\"LegendItem\"},{\"attributes\":{\"line_alpha\":0.1,\"line_color\":\"#30a2da\",\"line_width\":2,\"x\":{\"field\":\"date\"},\"y\":{\"field\":\"users\"}},\"id\":\"3879\",\"type\":\"Line\"},{\"attributes\":{\"below\":[{\"id\":\"3848\"}],\"center\":[{\"id\":\"3851\"},{\"id\":\"3855\"},{\"id\":\"3905\"}],\"height\":300,\"left\":[{\"id\":\"3852\"}],\"margin\":[5,5,5,5],\"min_border_bottom\":10,\"min_border_left\":10,\"min_border_right\":10,\"min_border_top\":10,\"renderers\":[{\"id\":\"3881\"},{\"id\":\"3914\"},{\"id\":\"3948\"}],\"sizing_mode\":\"fixed\",\"title\":{\"id\":\"3840\"},\"toolbar\":{\"id\":\"3862\"},\"width\":700,\"x_range\":{\"id\":\"3834\"},\"x_scale\":{\"id\":\"3844\"},\"y_range\":{\"id\":\"3835\"},\"y_scale\":{\"id\":\"3846\"}},\"id\":\"3839\",\"subtype\":\"Figure\",\"type\":\"Plot\"},{\"attributes\":{\"line_alpha\":0.1,\"line_color\":\"#e5ae38\",\"line_width\":2,\"x\":{\"field\":\"date\"},\"y\":{\"field\":\"users\"}},\"id\":\"3946\",\"type\":\"Line\"},{\"attributes\":{\"end\":7474.4,\"reset_end\":7474.4,\"reset_start\":-534.4000000000001,\"start\":-534.4000000000001,\"tags\":[[[\"users\",\"users\",null]]]},\"id\":\"3835\",\"type\":\"Range1d\"},{\"attributes\":{},\"id\":\"3892\",\"type\":\"UnionRenderers\"},{\"attributes\":{\"line_color\":\"#30a2da\",\"line_width\":2,\"x\":{\"field\":\"date\"},\"y\":{\"field\":\"users\"}},\"id\":\"3878\",\"type\":\"Line\"},{\"attributes\":{\"line_alpha\":0.2,\"line_color\":\"#e5ae38\",\"line_width\":2,\"x\":{\"field\":\"date\"},\"y\":{\"field\":\"users\"}},\"id\":\"3947\",\"type\":\"Line\"},{\"attributes\":{},\"id\":\"3869\",\"type\":\"DatetimeTickFormatter\"},{\"attributes\":{\"source\":{\"id\":\"3942\"}},\"id\":\"3949\",\"type\":\"CDSView\"},{\"attributes\":{\"bottom_units\":\"screen\",\"fill_alpha\":0.5,\"fill_color\":\"lightgrey\",\"left_units\":\"screen\",\"level\":\"overlay\",\"line_alpha\":1.0,\"line_color\":\"black\",\"line_dash\":[4,4],\"line_width\":2,\"right_units\":\"screen\",\"syncable\":false,\"top_units\":\"screen\"},\"id\":\"3861\",\"type\":\"BoxAnnotation\"},{\"attributes\":{\"end\":1629849600000.0,\"reset_end\":1629849600000.0,\"reset_start\":1593561600000.0,\"start\":1593561600000.0,\"tags\":[[[\"date\",\"date\",null]]]},\"id\":\"3834\",\"type\":\"Range1d\"},{\"attributes\":{\"data_source\":{\"id\":\"3875\"},\"glyph\":{\"id\":\"3878\"},\"hover_glyph\":null,\"muted_glyph\":{\"id\":\"3880\"},\"nonselection_glyph\":{\"id\":\"3879\"},\"selection_glyph\":{\"id\":\"3907\"},\"view\":{\"id\":\"3882\"}},\"id\":\"3881\",\"type\":\"GlyphRenderer\"},{\"attributes\":{\"line_color\":\"#e5ae38\",\"line_width\":2,\"x\":{\"field\":\"date\"},\"y\":{\"field\":\"users\"}},\"id\":\"3945\",\"type\":\"Line\"},{\"attributes\":{},\"id\":\"3876\",\"type\":\"Selection\"}],\"root_ids\":[\"3832\"]},\"title\":\"Bokeh Application\",\"version\":\"2.3.3\"}};\n",
       "    var render_items = [{\"docid\":\"2fbe1a8c-d04a-42c7-9f5e-4f47374337b9\",\"root_ids\":[\"3832\"],\"roots\":{\"3832\":\"ec149064-2a1a-4ee5-98e5-cd81fe3414a3\"}}];\n",
       "    root.Bokeh.embed.embed_items_notebook(docs_json, render_items);\n",
       "  }\n",
       "  if (root.Bokeh !== undefined && root.Bokeh.Panel !== undefined) {\n",
       "    embed_document(root);\n",
       "  } else {\n",
       "    var attempts = 0;\n",
       "    var timer = setInterval(function(root) {\n",
       "      if (root.Bokeh !== undefined && root.Bokeh.Panel !== undefined) {\n",
       "        clearInterval(timer);\n",
       "        embed_document(root);\n",
       "      } else if (document.readyState == \"complete\") {\n",
       "        attempts++;\n",
       "        if (attempts > 200) {\n",
       "          clearInterval(timer);\n",
       "          console.log(\"Bokeh: ERROR: Unable to run BokehJS code because BokehJS library is missing\");\n",
       "        }\n",
       "      }\n",
       "    }, 25, root)\n",
       "  }\n",
       "})(window);</script>"
      ],
      "text/plain": [
       ":Overlay\n",
       "   .Curve.Train :Curve   [date]   (users)\n",
       "   .Curve.Val   :Curve   [date]   (users)\n",
       "   .Curve.Test  :Curve   [date]   (users)"
      ]
     },
     "execution_count": 27,
     "metadata": {
      "application/vnd.holoviews_exec.v0+json": {
       "id": "3832"
      }
     },
     "output_type": "execute_result"
    }
   ],
   "source": [
    "# Gráfico serie temporal\n",
    "# ==============================================================================\n",
    "# fig, ax = plt.subplots(figsize=(12, 4))\n",
    "# datos_train.users.plot(ax=ax, label='train', linewidth=1)\n",
    "# datos_val.users.plot(ax=ax, label='val', linewidth=1)\n",
    "# datos_test.users.plot(ax=ax, label='test', linewidth=1)\n",
    "# ax.set_title('Visitas diarias a cienciadedatos.net')\n",
    "# ax.legend();\n",
    "\n",
    "plot_train = datos_train.users.hvplot.line(label='train')\n",
    "plot_val = datos_val.users.hvplot.line(label='val')\n",
    "plot_test = datos_test.users.hvplot.line(label='test')\n",
    "\n",
    "layout = plot_train * plot_val * plot_test\n",
    "layout = layout.opts(title='Visitas diarias a cienciadedatos.net', ylabel='users')\n",
    "layout"
   ]
  },
  {
   "cell_type": "markdown",
   "metadata": {},
   "source": [
    "**Estacionalidad anual, mensual y semanal**"
   ]
  },
  {
   "cell_type": "code",
   "execution_count": 28,
   "metadata": {},
   "outputs": [
    {
     "data": {},
     "metadata": {},
     "output_type": "display_data"
    },
    {
     "data": {
      "application/vnd.holoviews_exec.v0+json": "",
      "text/html": [
       "<div id='4344'>\n",
       "\n",
       "\n",
       "\n",
       "\n",
       "\n",
       "  <div class=\"bk-root\" id=\"d04eca63-b064-4615-9bcb-bf4e931bf6b1\" data-root-id=\"4344\"></div>\n",
       "</div>\n",
       "<script type=\"application/javascript\">(function(root) {\n",
       "  function embed_document(root) {\n",
       "    var docs_json = {\"0ffef412-e5f6-4e97-b011-64d978038d1f\":{\"defs\":[{\"extends\":null,\"module\":null,\"name\":\"ReactiveHTML1\",\"overrides\":[],\"properties\":[]},{\"extends\":null,\"module\":null,\"name\":\"FlexBox1\",\"overrides\":[],\"properties\":[{\"default\":\"flex-start\",\"kind\":null,\"name\":\"align_content\"},{\"default\":\"flex-start\",\"kind\":null,\"name\":\"align_items\"},{\"default\":\"row\",\"kind\":null,\"name\":\"flex_direction\"},{\"default\":\"wrap\",\"kind\":null,\"name\":\"flex_wrap\"},{\"default\":\"flex-start\",\"kind\":null,\"name\":\"justify_content\"}]},{\"extends\":null,\"module\":null,\"name\":\"TemplateActions1\",\"overrides\":[],\"properties\":[{\"default\":0,\"kind\":null,\"name\":\"open_modal\"},{\"default\":0,\"kind\":null,\"name\":\"close_modal\"}]},{\"extends\":null,\"module\":null,\"name\":\"MaterialTemplateActions1\",\"overrides\":[],\"properties\":[{\"default\":0,\"kind\":null,\"name\":\"open_modal\"},{\"default\":0,\"kind\":null,\"name\":\"close_modal\"}]}],\"roots\":{\"references\":[{\"attributes\":{\"margin\":[5,5,5,5],\"name\":\"HSpacer08180\",\"sizing_mode\":\"stretch_width\"},\"id\":\"4345\",\"type\":\"Spacer\"},{\"attributes\":{},\"id\":\"4366\",\"type\":\"SaveTool\"},{\"attributes\":{\"data_source\":{\"id\":\"4443\"},\"glyph\":{\"id\":\"4446\"},\"hover_glyph\":null,\"muted_glyph\":{\"id\":\"4448\"},\"nonselection_glyph\":{\"id\":\"4447\"},\"selection_glyph\":{\"id\":\"4451\"},\"view\":{\"id\":\"4450\"}},\"id\":\"4449\",\"type\":\"GlyphRenderer\"},{\"attributes\":{\"source\":{\"id\":\"4427\"}},\"id\":\"4432\",\"type\":\"CDSView\"},{\"attributes\":{\"source\":{\"id\":\"4443\"}},\"id\":\"4450\",\"type\":\"CDSView\"},{\"attributes\":{},\"id\":\"4363\",\"type\":\"BasicTicker\"},{\"attributes\":{\"angle\":{\"value\":0.0},\"fill_alpha\":{\"value\":1.0},\"fill_color\":{\"value\":\"#30a2da\"},\"hatch_alpha\":{\"value\":1.0},\"hatch_color\":{\"value\":\"black\"},\"hatch_scale\":{\"value\":12.0},\"hatch_weight\":{\"value\":1.0},\"line_alpha\":{\"value\":1.0},\"line_cap\":{\"value\":\"butt\"},\"line_color\":{\"value\":\"#30a2da\"},\"line_dash\":{\"value\":[]},\"line_dash_offset\":{\"value\":0},\"line_join\":{\"value\":\"bevel\"},\"line_width\":{\"value\":1},\"marker\":{\"value\":\"circle\"},\"size\":{\"value\":5.477225575051661},\"x\":{\"field\":\"mes\"},\"y\":{\"field\":\"users\"}},\"id\":\"4451\",\"type\":\"Scatter\"},{\"attributes\":{\"x0\":{\"field\":\"x0\"},\"x1\":{\"field\":\"x1\"},\"y0\":{\"field\":\"y0\"},\"y1\":{\"field\":\"y1\"}},\"id\":\"4408\",\"type\":\"Segment\"},{\"attributes\":{\"data\":{\"x0\":[\"1\",\"2\",\"3\",\"4\",\"5\",\"6\",\"7\",\"8\",\"9\",\"10\",\"11\",\"12\"],\"x1\":[\"1\",\"2\",\"3\",\"4\",\"5\",\"6\",\"7\",\"8\",\"9\",\"10\",\"11\",\"12\"],\"y0\":[2753,2920,3227,4022,4260,4084,3123,2547,3632,4656,6807,6671],\"y1\":{\"__ndarray__\":\"AAAAAAAWpEAAAAAAAAikQAAAAAAAcKhAAAAAAADjq0AAAAAAAEuuQAAAAACAKq5AAAAAAAA9o0AAAAAAAHyhQAAAAAAAHqdAAAAAAICFsEAAAAAAgJi1QAAAAAAAxa5A\",\"dtype\":\"float64\",\"order\":\"little\",\"shape\":[12]}},\"selected\":{\"id\":\"4462\"},\"selection_policy\":{\"id\":\"4463\"}},\"id\":\"4392\",\"type\":\"ColumnDataSource\"},{\"attributes\":{},\"id\":\"4461\",\"type\":\"UnionRenderers\"},{\"attributes\":{\"data\":{\"x0\":[[\"1\",-0.2],[\"2\",-0.2],[\"3\",-0.2],[\"4\",-0.2],[\"5\",-0.2],[\"6\",-0.2],[\"7\",-0.2],[\"8\",-0.2],[\"9\",-0.2],[\"10\",-0.2],[\"11\",-0.2],[\"12\",-0.2]],\"x1\":[[\"1\",0.2],[\"2\",0.2],[\"3\",0.2],[\"4\",0.2],[\"5\",0.2],[\"6\",0.2],[\"7\",0.2],[\"8\",0.2],[\"9\",0.2],[\"10\",0.2],[\"11\",0.2],[\"12\",0.2]],\"y0\":[922,1438,1482,1359,2292,2084,1338,1239,1458,2138,2324,472],\"y1\":[922,1438,1482,1359,2292,2084,1338,1239,1458,2138,2324,472]},\"selected\":{\"id\":\"4466\"},\"selection_policy\":{\"id\":\"4467\"}},\"id\":\"4406\",\"type\":\"ColumnDataSource\"},{\"attributes\":{\"source\":{\"id\":\"4385\"}},\"id\":\"4390\",\"type\":\"CDSView\"},{\"attributes\":{\"source\":{\"id\":\"4406\"}},\"id\":\"4411\",\"type\":\"CDSView\"},{\"attributes\":{},\"id\":\"4460\",\"type\":\"Selection\"},{\"attributes\":{},\"id\":\"4368\",\"type\":\"WheelZoomTool\"},{\"attributes\":{\"line_alpha\":0.2,\"line_color\":\"#30a2da\",\"line_width\":2,\"x\":{\"field\":\"mes\"},\"y\":{\"field\":\"users\"}},\"id\":\"4439\",\"type\":\"Line\"},{\"attributes\":{\"line_alpha\":{\"value\":0.1},\"x0\":{\"field\":\"x0\"},\"x1\":{\"field\":\"x1\"},\"y0\":{\"field\":\"y0\"},\"y1\":{\"field\":\"y1\"}},\"id\":\"4409\",\"type\":\"Segment\"},{\"attributes\":{\"source\":{\"id\":\"4413\"}},\"id\":\"4418\",\"type\":\"CDSView\"},{\"attributes\":{},\"id\":\"4465\",\"type\":\"UnionRenderers\"},{\"attributes\":{},\"id\":\"4367\",\"type\":\"PanTool\"},{\"attributes\":{},\"id\":\"4444\",\"type\":\"Selection\"},{\"attributes\":{\"line_alpha\":{\"value\":0.1},\"x0\":{\"field\":\"x0\"},\"x1\":{\"field\":\"x1\"},\"y0\":{\"field\":\"y0\"},\"y1\":{\"field\":\"y1\"}},\"id\":\"4402\",\"type\":\"Segment\"},{\"attributes\":{},\"id\":\"4463\",\"type\":\"UnionRenderers\"},{\"attributes\":{\"source\":{\"id\":\"4434\"}},\"id\":\"4441\",\"type\":\"CDSView\"},{\"attributes\":{\"source\":{\"id\":\"4399\"}},\"id\":\"4404\",\"type\":\"CDSView\"},{\"attributes\":{\"bottom\":{\"field\":\"bottom\"},\"fill_color\":{\"value\":null},\"top\":{\"field\":\"top\"},\"width\":{\"value\":0.7},\"x\":{\"field\":\"index\"}},\"id\":\"4422\",\"type\":\"VBar\"},{\"attributes\":{\"children\":[{\"id\":\"4345\"},{\"id\":\"4350\"},{\"id\":\"4686\"}],\"margin\":[0,0,0,0],\"name\":\"Row08176\",\"tags\":[\"embedded\"]},\"id\":\"4344\",\"type\":\"Row\"},{\"attributes\":{\"data_source\":{\"id\":\"4413\"},\"glyph\":{\"id\":\"4415\"},\"hover_glyph\":null,\"muted_glyph\":null,\"nonselection_glyph\":{\"id\":\"4416\"},\"selection_glyph\":{\"id\":\"4419\"},\"view\":{\"id\":\"4418\"}},\"id\":\"4417\",\"type\":\"GlyphRenderer\"},{\"attributes\":{\"data\":{\"bottom\":{\"__ndarray__\":\"AAAAAAB4oEAAAAAAAKGiQAAAAAAAQKZAAAAAAACBpkAAAAAAAK6rQAAAAAAASKtAAAAAAAD0oEAAAAAAAGagQAAAAAAAv6RAAAAAAACIrUAAAAAAAFazQAAAAAAATqZA\",\"dtype\":\"float64\",\"order\":\"little\",\"shape\":[12]},\"index\":[\"1\",\"2\",\"3\",\"4\",\"5\",\"6\",\"7\",\"8\",\"9\",\"10\",\"11\",\"12\"],\"top\":{\"__ndarray__\":\"AAAAAAA8m0AAAAAAAPieQAAAAAAAaqBAAAAAAIB4okAAAAAAAHKkQAAAAAAAY6dAAAAAAABcnUAAAAAAAGWZQAAAAAAAqKFAAAAAAACEqEAAAAAAgOSvQAAAAAAAXJdA\",\"dtype\":\"float64\",\"order\":\"little\",\"shape\":[12]}},\"selected\":{\"id\":\"4472\"},\"selection_policy\":{\"id\":\"4473\"}},\"id\":\"4427\",\"type\":\"ColumnDataSource\"},{\"attributes\":{\"overlay\":{\"id\":\"4371\"}},\"id\":\"4369\",\"type\":\"BoxZoomTool\"},{\"attributes\":{\"axis_label\":\"users\",\"formatter\":{\"id\":\"4382\"},\"major_label_policy\":{\"id\":\"4384\"},\"ticker\":{\"id\":\"4363\"}},\"id\":\"4362\",\"type\":\"LinearAxis\"},{\"attributes\":{\"fill_color\":{\"value\":null},\"x\":{\"field\":\"index\"},\"y\":{\"field\":\"users\"}},\"id\":\"4387\",\"type\":\"Circle\"},{\"attributes\":{},\"id\":\"4462\",\"type\":\"Selection\"},{\"attributes\":{\"bottom\":{\"field\":\"bottom\"},\"fill_alpha\":{\"value\":1.0},\"fill_color\":{\"value\":null},\"hatch_alpha\":{\"value\":1.0},\"hatch_color\":{\"value\":\"black\"},\"hatch_scale\":{\"value\":12.0},\"hatch_weight\":{\"value\":1.0},\"line_alpha\":{\"value\":1.0},\"line_cap\":{\"value\":\"butt\"},\"line_color\":{\"value\":\"black\"},\"line_dash\":{\"value\":[]},\"line_dash_offset\":{\"value\":0},\"line_join\":{\"value\":\"bevel\"},\"line_width\":{\"value\":1},\"top\":{\"field\":\"top\"},\"width\":{\"value\":0.7},\"x\":{\"field\":\"index\"}},\"id\":\"4426\",\"type\":\"VBar\"},{\"attributes\":{\"line_alpha\":0.1,\"line_color\":\"#30a2da\",\"line_width\":2,\"x\":{\"field\":\"mes\"},\"y\":{\"field\":\"users\"}},\"id\":\"4438\",\"type\":\"Line\"},{\"attributes\":{},\"id\":\"4382\",\"type\":\"BasicTickFormatter\"},{\"attributes\":{\"fill_alpha\":{\"value\":0.1},\"fill_color\":{\"value\":null},\"line_alpha\":{\"value\":0.1},\"x\":{\"field\":\"index\"},\"y\":{\"field\":\"users\"}},\"id\":\"4388\",\"type\":\"Circle\"},{\"attributes\":{\"data\":{\"x0\":[[\"1\",-0.2],[\"2\",-0.2],[\"3\",-0.2],[\"4\",-0.2],[\"5\",-0.2],[\"6\",-0.2],[\"7\",-0.2],[\"8\",-0.2],[\"9\",-0.2],[\"10\",-0.2],[\"11\",-0.2],[\"12\",-0.2]],\"x1\":[[\"1\",0.2],[\"2\",0.2],[\"3\",0.2],[\"4\",0.2],[\"5\",0.2],[\"6\",0.2],[\"7\",0.2],[\"8\",0.2],[\"9\",0.2],[\"10\",0.2],[\"11\",0.2],[\"12\",0.2]],\"y0\":[2753,2920,3227,4022,4260,4084,3123,2547,3632,4656,6807,6671],\"y1\":[2753,2920,3227,4022,4260,4084,3123,2547,3632,4656,6807,6671]},\"selected\":{\"id\":\"4468\"},\"selection_policy\":{\"id\":\"4469\"}},\"id\":\"4413\",\"type\":\"ColumnDataSource\"},{\"attributes\":{\"data_source\":{\"id\":\"4420\"},\"glyph\":{\"id\":\"4422\"},\"hover_glyph\":null,\"muted_glyph\":null,\"nonselection_glyph\":{\"id\":\"4423\"},\"selection_glyph\":{\"id\":\"4426\"},\"view\":{\"id\":\"4425\"}},\"id\":\"4424\",\"type\":\"GlyphRenderer\"},{\"attributes\":{\"data_source\":{\"id\":\"4399\"},\"glyph\":{\"id\":\"4401\"},\"hover_glyph\":null,\"muted_glyph\":null,\"nonselection_glyph\":{\"id\":\"4402\"},\"selection_glyph\":{\"id\":\"4405\"},\"view\":{\"id\":\"4404\"}},\"id\":\"4403\",\"type\":\"GlyphRenderer\"},{\"attributes\":{},\"id\":\"4464\",\"type\":\"Selection\"},{\"attributes\":{\"axis\":{\"id\":\"4362\"},\"dimension\":1,\"grid_line_color\":null,\"ticker\":null},\"id\":\"4365\",\"type\":\"Grid\"},{\"attributes\":{\"data_source\":{\"id\":\"4406\"},\"glyph\":{\"id\":\"4408\"},\"hover_glyph\":null,\"muted_glyph\":null,\"nonselection_glyph\":{\"id\":\"4409\"},\"selection_glyph\":{\"id\":\"4412\"},\"view\":{\"id\":\"4411\"}},\"id\":\"4410\",\"type\":\"GlyphRenderer\"},{\"attributes\":{},\"id\":\"4466\",\"type\":\"Selection\"},{\"attributes\":{\"end\":7474.4,\"reset_end\":7474.4,\"reset_start\":-534.4000000000001,\"start\":-534.4000000000001,\"tags\":[[[\"users\",\"users\",null]]]},\"id\":\"4347\",\"type\":\"Range1d\"},{\"attributes\":{\"data_source\":{\"id\":\"4392\"},\"glyph\":{\"id\":\"4394\"},\"hover_glyph\":null,\"muted_glyph\":null,\"nonselection_glyph\":{\"id\":\"4395\"},\"selection_glyph\":{\"id\":\"4398\"},\"view\":{\"id\":\"4397\"}},\"id\":\"4396\",\"type\":\"GlyphRenderer\"},{\"attributes\":{\"data\":{\"index\":[\"1\",\"8\"],\"users\":[488,133]},\"selected\":{\"id\":\"4460\"},\"selection_policy\":{\"id\":\"4461\"}},\"id\":\"4385\",\"type\":\"ColumnDataSource\"},{\"attributes\":{},\"id\":\"4467\",\"type\":\"UnionRenderers\"},{\"attributes\":{\"line_alpha\":{\"value\":1.0},\"line_cap\":{\"value\":\"butt\"},\"line_color\":{\"value\":\"black\"},\"line_dash\":{\"value\":[]},\"line_dash_offset\":{\"value\":0},\"line_join\":{\"value\":\"bevel\"},\"line_width\":{\"value\":1},\"x0\":{\"field\":\"x0\"},\"x1\":{\"field\":\"x1\"},\"y0\":{\"field\":\"y0\"},\"y1\":{\"field\":\"y1\"}},\"id\":\"4405\",\"type\":\"Segment\"},{\"attributes\":{},\"id\":\"4381\",\"type\":\"CategoricalTickFormatter\"},{\"attributes\":{\"fill_color\":{\"value\":\"#30a2da\"},\"line_color\":{\"value\":\"#30a2da\"},\"size\":{\"value\":5.477225575051661},\"x\":{\"field\":\"mes\"},\"y\":{\"field\":\"users\"}},\"id\":\"4446\",\"type\":\"Scatter\"},{\"attributes\":{\"axis\":{\"id\":\"4359\"},\"grid_line_color\":null,\"ticker\":null},\"id\":\"4361\",\"type\":\"Grid\"},{\"attributes\":{},\"id\":\"4380\",\"type\":\"AllLabels\"},{\"attributes\":{},\"id\":\"4469\",\"type\":\"UnionRenderers\"},{\"attributes\":{\"data\":{\"mes\":[\"1\",\"2\",\"3\",\"4\",\"5\",\"6\",\"7\",\"8\",\"9\",\"10\",\"11\",\"12\"],\"users\":{\"__ndarray__\":\"AAAAAAB4oEAAAAAAAKGiQAAAAAAAQKZAAAAAAACBpkAAAAAAAK6rQAAAAAAASKtAAAAAAAD0oEAAAAAAAGagQAAAAAAAv6RAAAAAAACIrUAAAAAAAFazQAAAAAAATqZA\",\"dtype\":\"float64\",\"order\":\"little\",\"shape\":[12]}},\"selected\":{\"id\":\"4444\"},\"selection_policy\":{\"id\":\"4477\"}},\"id\":\"4443\",\"type\":\"ColumnDataSource\"},{\"attributes\":{\"text\":\"Distribuci\\u00f3n de visitas por mes\",\"text_color\":\"black\",\"text_font_size\":\"12pt\"},\"id\":\"4351\",\"type\":\"Title\"},{\"attributes\":{},\"id\":\"4471\",\"type\":\"UnionRenderers\"},{\"attributes\":{},\"id\":\"4472\",\"type\":\"Selection\"},{\"attributes\":{\"data_source\":{\"id\":\"4434\"},\"glyph\":{\"id\":\"4437\"},\"hover_glyph\":null,\"muted_glyph\":{\"id\":\"4439\"},\"nonselection_glyph\":{\"id\":\"4438\"},\"selection_glyph\":{\"id\":\"4442\"},\"view\":{\"id\":\"4441\"}},\"id\":\"4440\",\"type\":\"GlyphRenderer\"},{\"attributes\":{},\"id\":\"4357\",\"type\":\"LinearScale\"},{\"attributes\":{\"line_alpha\":{\"value\":1.0},\"line_cap\":{\"value\":\"butt\"},\"line_color\":{\"value\":\"black\"},\"line_dash\":{\"value\":[]},\"line_dash_offset\":{\"value\":0},\"line_join\":{\"value\":\"bevel\"},\"line_width\":{\"value\":1},\"x0\":{\"field\":\"x0\"},\"x1\":{\"field\":\"x1\"},\"y0\":{\"field\":\"y0\"},\"y1\":{\"field\":\"y1\"}},\"id\":\"4398\",\"type\":\"Segment\"},{\"attributes\":{},\"id\":\"4473\",\"type\":\"UnionRenderers\"},{\"attributes\":{\"axis_label\":\"mes\",\"formatter\":{\"id\":\"4381\"},\"major_label_policy\":{\"id\":\"4380\"},\"ticker\":{\"id\":\"4360\"}},\"id\":\"4359\",\"type\":\"CategoricalAxis\"},{\"attributes\":{\"factors\":[\"1\",\"2\",\"3\",\"4\",\"5\",\"6\",\"7\",\"8\",\"9\",\"10\",\"11\",\"12\"],\"tags\":[[[\"mes\",\"mes\",null]]]},\"id\":\"4346\",\"type\":\"FactorRange\"},{\"attributes\":{},\"id\":\"4475\",\"type\":\"UnionRenderers\"},{\"attributes\":{},\"id\":\"4360\",\"type\":\"CategoricalTicker\"},{\"attributes\":{},\"id\":\"4477\",\"type\":\"UnionRenderers\"},{\"attributes\":{},\"id\":\"4470\",\"type\":\"Selection\"},{\"attributes\":{\"below\":[{\"id\":\"4359\"}],\"center\":[{\"id\":\"4361\"},{\"id\":\"4365\"}],\"height\":300,\"left\":[{\"id\":\"4362\"}],\"margin\":[5,5,5,5],\"min_border_bottom\":10,\"min_border_left\":10,\"min_border_right\":10,\"min_border_top\":10,\"renderers\":[{\"id\":\"4389\"},{\"id\":\"4396\"},{\"id\":\"4403\"},{\"id\":\"4410\"},{\"id\":\"4417\"},{\"id\":\"4424\"},{\"id\":\"4431\"},{\"id\":\"4440\"},{\"id\":\"4449\"}],\"sizing_mode\":\"fixed\",\"title\":{\"id\":\"4351\"},\"toolbar\":{\"id\":\"4372\"},\"x_range\":{\"id\":\"4346\"},\"x_scale\":{\"id\":\"4355\"},\"y_range\":{\"id\":\"4347\"},\"y_scale\":{\"id\":\"4357\"}},\"id\":\"4350\",\"subtype\":\"Figure\",\"type\":\"Plot\"},{\"attributes\":{\"x0\":{\"field\":\"x0\"},\"x1\":{\"field\":\"x1\"},\"y0\":{\"field\":\"y0\"},\"y1\":{\"field\":\"y1\"}},\"id\":\"4401\",\"type\":\"Segment\"},{\"attributes\":{\"bottom\":{\"field\":\"bottom\"},\"fill_alpha\":{\"value\":1.0},\"fill_color\":{\"value\":null},\"hatch_alpha\":{\"value\":1.0},\"hatch_color\":{\"value\":\"black\"},\"hatch_scale\":{\"value\":12.0},\"hatch_weight\":{\"value\":1.0},\"line_alpha\":{\"value\":1.0},\"line_cap\":{\"value\":\"butt\"},\"line_color\":{\"value\":\"black\"},\"line_dash\":{\"value\":[]},\"line_dash_offset\":{\"value\":0},\"line_join\":{\"value\":\"bevel\"},\"line_width\":{\"value\":1},\"top\":{\"field\":\"top\"},\"width\":{\"value\":0.7},\"x\":{\"field\":\"index\"}},\"id\":\"4433\",\"type\":\"VBar\"},{\"attributes\":{},\"id\":\"4355\",\"type\":\"CategoricalScale\"},{\"attributes\":{\"line_color\":\"#30a2da\",\"line_width\":2,\"x\":{\"field\":\"mes\"},\"y\":{\"field\":\"users\"}},\"id\":\"4437\",\"type\":\"Line\"},{\"attributes\":{\"x0\":{\"field\":\"x0\"},\"x1\":{\"field\":\"x1\"},\"y0\":{\"field\":\"y0\"},\"y1\":{\"field\":\"y1\"}},\"id\":\"4415\",\"type\":\"Segment\"},{\"attributes\":{\"line_color\":\"#30a2da\",\"line_width\":2,\"x\":{\"field\":\"mes\"},\"y\":{\"field\":\"users\"}},\"id\":\"4442\",\"type\":\"Line\"},{\"attributes\":{\"data_source\":{\"id\":\"4427\"},\"glyph\":{\"id\":\"4429\"},\"hover_glyph\":null,\"muted_glyph\":null,\"nonselection_glyph\":{\"id\":\"4430\"},\"selection_glyph\":{\"id\":\"4433\"},\"view\":{\"id\":\"4432\"}},\"id\":\"4431\",\"type\":\"GlyphRenderer\"},{\"attributes\":{},\"id\":\"4370\",\"type\":\"ResetTool\"},{\"attributes\":{\"line_alpha\":{\"value\":1.0},\"line_cap\":{\"value\":\"butt\"},\"line_color\":{\"value\":\"black\"},\"line_dash\":{\"value\":[]},\"line_dash_offset\":{\"value\":0},\"line_join\":{\"value\":\"bevel\"},\"line_width\":{\"value\":1},\"x0\":{\"field\":\"x0\"},\"x1\":{\"field\":\"x1\"},\"y0\":{\"field\":\"y0\"},\"y1\":{\"field\":\"y1\"}},\"id\":\"4419\",\"type\":\"Segment\"},{\"attributes\":{\"source\":{\"id\":\"4392\"}},\"id\":\"4397\",\"type\":\"CDSView\"},{\"attributes\":{\"bottom\":{\"field\":\"bottom\"},\"fill_color\":{\"value\":null},\"top\":{\"field\":\"top\"},\"width\":{\"value\":0.7},\"x\":{\"field\":\"index\"}},\"id\":\"4429\",\"type\":\"VBar\"},{\"attributes\":{\"active_multi\":null,\"tools\":[{\"id\":\"4348\"},{\"id\":\"4366\"},{\"id\":\"4367\"},{\"id\":\"4368\"},{\"id\":\"4369\"},{\"id\":\"4370\"}]},\"id\":\"4372\",\"type\":\"Toolbar\"},{\"attributes\":{\"x0\":{\"field\":\"x0\"},\"x1\":{\"field\":\"x1\"},\"y0\":{\"field\":\"y0\"},\"y1\":{\"field\":\"y1\"}},\"id\":\"4394\",\"type\":\"Segment\"},{\"attributes\":{\"bottom\":{\"field\":\"bottom\"},\"fill_alpha\":{\"value\":0.1},\"fill_color\":{\"value\":null},\"line_alpha\":{\"value\":0.1},\"top\":{\"field\":\"top\"},\"width\":{\"value\":0.7},\"x\":{\"field\":\"index\"}},\"id\":\"4430\",\"type\":\"VBar\"},{\"attributes\":{\"line_alpha\":{\"value\":1.0},\"line_cap\":{\"value\":\"butt\"},\"line_color\":{\"value\":\"black\"},\"line_dash\":{\"value\":[]},\"line_dash_offset\":{\"value\":0},\"line_join\":{\"value\":\"bevel\"},\"line_width\":{\"value\":1},\"x0\":{\"field\":\"x0\"},\"x1\":{\"field\":\"x1\"},\"y0\":{\"field\":\"y0\"},\"y1\":{\"field\":\"y1\"}},\"id\":\"4412\",\"type\":\"Segment\"},{\"attributes\":{\"source\":{\"id\":\"4420\"}},\"id\":\"4425\",\"type\":\"CDSView\"},{\"attributes\":{},\"id\":\"4468\",\"type\":\"Selection\"},{\"attributes\":{\"callback\":null,\"renderers\":[{\"id\":\"4440\"},{\"id\":\"4449\"}],\"tags\":[\"hv_created\"],\"tooltips\":[[\"mes\",\"@{mes}\"],[\"users\",\"@{users}\"]]},\"id\":\"4348\",\"type\":\"HoverTool\"},{\"attributes\":{\"angle\":{\"value\":0.0},\"fill_alpha\":{\"value\":1.0},\"fill_color\":{\"value\":null},\"hatch_alpha\":{\"value\":1.0},\"hatch_color\":{\"value\":\"black\"},\"hatch_scale\":{\"value\":12.0},\"hatch_weight\":{\"value\":1.0},\"line_alpha\":{\"value\":1.0},\"line_cap\":{\"value\":\"butt\"},\"line_color\":{\"value\":\"black\"},\"line_dash\":{\"value\":[]},\"line_dash_offset\":{\"value\":0},\"line_join\":{\"value\":\"bevel\"},\"line_width\":{\"value\":1},\"size\":{\"value\":4},\"x\":{\"field\":\"index\"},\"y\":{\"field\":\"users\"}},\"id\":\"4391\",\"type\":\"Circle\"},{\"attributes\":{\"data_source\":{\"id\":\"4385\"},\"glyph\":{\"id\":\"4387\"},\"hover_glyph\":null,\"muted_glyph\":null,\"nonselection_glyph\":{\"id\":\"4388\"},\"selection_glyph\":{\"id\":\"4391\"},\"view\":{\"id\":\"4390\"}},\"id\":\"4389\",\"type\":\"GlyphRenderer\"},{\"attributes\":{},\"id\":\"4435\",\"type\":\"Selection\"},{\"attributes\":{\"line_alpha\":{\"value\":0.1},\"x0\":{\"field\":\"x0\"},\"x1\":{\"field\":\"x1\"},\"y0\":{\"field\":\"y0\"},\"y1\":{\"field\":\"y1\"}},\"id\":\"4395\",\"type\":\"Segment\"},{\"attributes\":{\"line_alpha\":{\"value\":0.1},\"x0\":{\"field\":\"x0\"},\"x1\":{\"field\":\"x1\"},\"y0\":{\"field\":\"y0\"},\"y1\":{\"field\":\"y1\"}},\"id\":\"4416\",\"type\":\"Segment\"},{\"attributes\":{},\"id\":\"4384\",\"type\":\"AllLabels\"},{\"attributes\":{\"data\":{\"bottom\":{\"__ndarray__\":\"AAAAAAAWpEAAAAAAAAikQAAAAAAAcKhAAAAAAADjq0AAAAAAAEuuQAAAAACAKq5AAAAAAAA9o0AAAAAAAHyhQAAAAAAAHqdAAAAAAICFsEAAAAAAgJi1QAAAAAAAxa5A\",\"dtype\":\"float64\",\"order\":\"little\",\"shape\":[12]},\"index\":[\"1\",\"2\",\"3\",\"4\",\"5\",\"6\",\"7\",\"8\",\"9\",\"10\",\"11\",\"12\"],\"top\":{\"__ndarray__\":\"AAAAAAB4oEAAAAAAAKGiQAAAAAAAQKZAAAAAAACBpkAAAAAAAK6rQAAAAAAASKtAAAAAAAD0oEAAAAAAAGagQAAAAAAAv6RAAAAAAACIrUAAAAAAAFazQAAAAAAATqZA\",\"dtype\":\"float64\",\"order\":\"little\",\"shape\":[12]}},\"selected\":{\"id\":\"4470\"},\"selection_policy\":{\"id\":\"4471\"}},\"id\":\"4420\",\"type\":\"ColumnDataSource\"},{\"attributes\":{\"fill_alpha\":{\"value\":0.1},\"fill_color\":{\"value\":\"#30a2da\"},\"line_alpha\":{\"value\":0.1},\"line_color\":{\"value\":\"#30a2da\"},\"size\":{\"value\":5.477225575051661},\"x\":{\"field\":\"mes\"},\"y\":{\"field\":\"users\"}},\"id\":\"4447\",\"type\":\"Scatter\"},{\"attributes\":{\"data\":{\"x0\":[\"1\",\"2\",\"3\",\"4\",\"5\",\"6\",\"7\",\"8\",\"9\",\"10\",\"11\",\"12\"],\"x1\":[\"1\",\"2\",\"3\",\"4\",\"5\",\"6\",\"7\",\"8\",\"9\",\"10\",\"11\",\"12\"],\"y0\":[922,1438,1482,1359,2292,2084,1338,1239,1458,2138,2324,472],\"y1\":{\"__ndarray__\":\"AAAAAAA8m0AAAAAAAPieQAAAAAAAaqBAAAAAAIB4okAAAAAAAHKkQAAAAAAAY6dAAAAAAABcnUAAAAAAAGWZQAAAAAAAqKFAAAAAAACEqEAAAAAAgOSvQAAAAAAAXJdA\",\"dtype\":\"float64\",\"order\":\"little\",\"shape\":[12]}},\"selected\":{\"id\":\"4464\"},\"selection_policy\":{\"id\":\"4465\"}},\"id\":\"4399\",\"type\":\"ColumnDataSource\"},{\"attributes\":{\"bottom\":{\"field\":\"bottom\"},\"fill_alpha\":{\"value\":0.1},\"fill_color\":{\"value\":null},\"line_alpha\":{\"value\":0.1},\"top\":{\"field\":\"top\"},\"width\":{\"value\":0.7},\"x\":{\"field\":\"index\"}},\"id\":\"4423\",\"type\":\"VBar\"},{\"attributes\":{\"fill_alpha\":{\"value\":0.2},\"fill_color\":{\"value\":\"#30a2da\"},\"line_alpha\":{\"value\":0.2},\"line_color\":{\"value\":\"#30a2da\"},\"size\":{\"value\":5.477225575051661},\"x\":{\"field\":\"mes\"},\"y\":{\"field\":\"users\"}},\"id\":\"4448\",\"type\":\"Scatter\"},{\"attributes\":{\"margin\":[5,5,5,5],\"name\":\"HSpacer08181\",\"sizing_mode\":\"stretch_width\"},\"id\":\"4686\",\"type\":\"Spacer\"},{\"attributes\":{\"data\":{\"mes\":[\"1\",\"2\",\"3\",\"4\",\"5\",\"6\",\"7\",\"8\",\"9\",\"10\",\"11\",\"12\"],\"users\":{\"__ndarray__\":\"AAAAAAB4oEAAAAAAAKGiQAAAAAAAQKZAAAAAAACBpkAAAAAAAK6rQAAAAAAASKtAAAAAAAD0oEAAAAAAAGagQAAAAAAAv6RAAAAAAACIrUAAAAAAAFazQAAAAAAATqZA\",\"dtype\":\"float64\",\"order\":\"little\",\"shape\":[12]}},\"selected\":{\"id\":\"4435\"},\"selection_policy\":{\"id\":\"4475\"}},\"id\":\"4434\",\"type\":\"ColumnDataSource\"},{\"attributes\":{\"bottom_units\":\"screen\",\"fill_alpha\":0.5,\"fill_color\":\"lightgrey\",\"left_units\":\"screen\",\"level\":\"overlay\",\"line_alpha\":1.0,\"line_color\":\"black\",\"line_dash\":[4,4],\"line_width\":2,\"right_units\":\"screen\",\"syncable\":false,\"top_units\":\"screen\"},\"id\":\"4371\",\"type\":\"BoxAnnotation\"}],\"root_ids\":[\"4344\"]},\"title\":\"Bokeh Application\",\"version\":\"2.3.3\"}};\n",
       "    var render_items = [{\"docid\":\"0ffef412-e5f6-4e97-b011-64d978038d1f\",\"root_ids\":[\"4344\"],\"roots\":{\"4344\":\"d04eca63-b064-4615-9bcb-bf4e931bf6b1\"}}];\n",
       "    root.Bokeh.embed.embed_items_notebook(docs_json, render_items);\n",
       "  }\n",
       "  if (root.Bokeh !== undefined && root.Bokeh.Panel !== undefined) {\n",
       "    embed_document(root);\n",
       "  } else {\n",
       "    var attempts = 0;\n",
       "    var timer = setInterval(function(root) {\n",
       "      if (root.Bokeh !== undefined && root.Bokeh.Panel !== undefined) {\n",
       "        clearInterval(timer);\n",
       "        embed_document(root);\n",
       "      } else if (document.readyState == \"complete\") {\n",
       "        attempts++;\n",
       "        if (attempts > 200) {\n",
       "          clearInterval(timer);\n",
       "          console.log(\"Bokeh: ERROR: Unable to run BokehJS code because BokehJS library is missing\");\n",
       "        }\n",
       "      }\n",
       "    }, 25, root)\n",
       "  }\n",
       "})(window);</script>"
      ],
      "text/plain": [
       ":Overlay\n",
       "   .BoxWhisker.I  :BoxWhisker   [mes]   (users)\n",
       "   .Curve.Users   :Curve   [mes]   (users)\n",
       "   .Scatter.Users :Scatter   [mes]   (users)"
      ]
     },
     "execution_count": 28,
     "metadata": {
      "application/vnd.holoviews_exec.v0+json": {
       "id": "4344"
      }
     },
     "output_type": "execute_result"
    }
   ],
   "source": [
    "# Gráfico boxplot para estacionalidad anual\n",
    "# ==============================================================================\n",
    "# fig, ax = plt.subplots(figsize=(7, 3.5))\n",
    "# datos['mes'] = datos.index.month\n",
    "# datos.boxplot(column='users', by='mes', ax=ax,)\n",
    "# datos.groupby('mes')['users'].median().plot(style='o-', linewidth=0.8, ax=ax)\n",
    "# ax.set_ylabel('users')\n",
    "# ax.set_title('Distribución de visitas por mes')\n",
    "# fig.suptitle('');\n",
    "\n",
    "datos['mes'] = datos.index.month\n",
    "boxplot  = datos.sort_values('mes').hvplot.box(\n",
    "                y                  = 'users',\n",
    "                by                 = 'mes',\n",
    "                legend             = False,\n",
    "                box_fill_color     = None,\n",
    "                outlier_fill_color = None\n",
    "            )\n",
    "lineplot = datos.groupby('mes')['users'].median().hvplot.line(legend=False)\n",
    "scatterplot = datos.groupby('mes')['users'].median().hvplot.scatter(legend=False)\n",
    "layout = boxplot * lineplot * scatterplot\n",
    "layout = layout.opts(title='Distribución de visitas por mes', ylabel='users', width=600)\n",
    "layout"
   ]
  },
  {
   "cell_type": "code",
   "execution_count": 29,
   "metadata": {},
   "outputs": [
    {
     "data": {},
     "metadata": {},
     "output_type": "display_data"
    },
    {
     "data": {
      "application/vnd.holoviews_exec.v0+json": "",
      "text/html": [
       "<div id='4818'>\n",
       "\n",
       "\n",
       "\n",
       "\n",
       "\n",
       "  <div class=\"bk-root\" id=\"936d3aef-dcf0-40c1-97de-6ef72261e784\" data-root-id=\"4818\"></div>\n",
       "</div>\n",
       "<script type=\"application/javascript\">(function(root) {\n",
       "  function embed_document(root) {\n",
       "    var docs_json = {\"5da38bb0-ad94-442f-b62a-f6ba927acc34\":{\"defs\":[{\"extends\":null,\"module\":null,\"name\":\"ReactiveHTML1\",\"overrides\":[],\"properties\":[]},{\"extends\":null,\"module\":null,\"name\":\"FlexBox1\",\"overrides\":[],\"properties\":[{\"default\":\"flex-start\",\"kind\":null,\"name\":\"align_content\"},{\"default\":\"flex-start\",\"kind\":null,\"name\":\"align_items\"},{\"default\":\"row\",\"kind\":null,\"name\":\"flex_direction\"},{\"default\":\"wrap\",\"kind\":null,\"name\":\"flex_wrap\"},{\"default\":\"flex-start\",\"kind\":null,\"name\":\"justify_content\"}]},{\"extends\":null,\"module\":null,\"name\":\"TemplateActions1\",\"overrides\":[],\"properties\":[{\"default\":0,\"kind\":null,\"name\":\"open_modal\"},{\"default\":0,\"kind\":null,\"name\":\"close_modal\"}]},{\"extends\":null,\"module\":null,\"name\":\"MaterialTemplateActions1\",\"overrides\":[],\"properties\":[{\"default\":0,\"kind\":null,\"name\":\"open_modal\"},{\"default\":0,\"kind\":null,\"name\":\"close_modal\"}]}],\"roots\":{\"references\":[{\"attributes\":{\"line_color\":\"#30a2da\",\"line_width\":2,\"x\":{\"field\":\"dia_mes\"},\"y\":{\"field\":\"users\"}},\"id\":\"4911\",\"type\":\"Line\"},{\"attributes\":{\"bottom\":{\"field\":\"bottom\"},\"fill_alpha\":{\"value\":0.1},\"fill_color\":{\"value\":null},\"line_alpha\":{\"value\":0.1},\"top\":{\"field\":\"top\"},\"width\":{\"value\":0.7},\"x\":{\"field\":\"index\"}},\"id\":\"4904\",\"type\":\"VBar\"},{\"attributes\":{\"data\":{\"dia_mes\":[\"1\",\"2\",\"3\",\"4\",\"5\",\"6\",\"7\",\"8\",\"9\",\"10\",\"11\",\"12\",\"13\",\"14\",\"15\",\"16\",\"17\",\"18\",\"19\",\"20\",\"21\",\"22\",\"23\",\"24\",\"25\",\"26\",\"27\",\"28\",\"29\",\"30\",\"31\"],\"users\":{\"__ndarray__\":\"AAAAAAAookAAAAAAAI6jQAAAAAAAu6NAAAAAAACookAAAAAAAO2jQAAAAAAAW6JAAAAAAACto0AAAAAAALGkQAAAAAAAMqVAAAAAAADPpEAAAAAAABCjQAAAAAAAsqRAAAAAAADRokAAAAAAABWmQAAAAAAAL6VAAAAAAAAto0AAAAAAAOOkQAAAAAAAP6RAAAAAAADVo0AAAAAAAKahQAAAAAAAHqRAAAAAAAD1o0AAAAAAAGilQAAAAAAAkKVAAAAAAAADpUAAAAAAADSkQAAAAAAAqKBAAAAAAACgpEAAAAAAAF6lQAAAAAAA+KJAAAAAAABCoEA=\",\"dtype\":\"float64\",\"order\":\"little\",\"shape\":[31]}},\"selected\":{\"id\":\"4918\"},\"selection_policy\":{\"id\":\"4951\"}},\"id\":\"4917\",\"type\":\"ColumnDataSource\"},{\"attributes\":{\"data_source\":{\"id\":\"4917\"},\"glyph\":{\"id\":\"4920\"},\"hover_glyph\":null,\"muted_glyph\":{\"id\":\"4922\"},\"nonselection_glyph\":{\"id\":\"4921\"},\"selection_glyph\":{\"id\":\"4925\"},\"view\":{\"id\":\"4924\"}},\"id\":\"4923\",\"type\":\"GlyphRenderer\"},{\"attributes\":{\"data_source\":{\"id\":\"4866\"},\"glyph\":{\"id\":\"4868\"},\"hover_glyph\":null,\"muted_glyph\":null,\"nonselection_glyph\":{\"id\":\"4869\"},\"selection_glyph\":{\"id\":\"4872\"},\"view\":{\"id\":\"4871\"}},\"id\":\"4870\",\"type\":\"GlyphRenderer\"},{\"attributes\":{},\"id\":\"4834\",\"type\":\"CategoricalTicker\"},{\"attributes\":{\"data_source\":{\"id\":\"4859\"},\"glyph\":{\"id\":\"4861\"},\"hover_glyph\":null,\"muted_glyph\":null,\"nonselection_glyph\":{\"id\":\"4862\"},\"selection_glyph\":{\"id\":\"4865\"},\"view\":{\"id\":\"4864\"}},\"id\":\"4863\",\"type\":\"GlyphRenderer\"},{\"attributes\":{\"line_alpha\":0.2,\"line_color\":\"#30a2da\",\"line_width\":2,\"x\":{\"field\":\"dia_mes\"},\"y\":{\"field\":\"users\"}},\"id\":\"4913\",\"type\":\"Line\"},{\"attributes\":{},\"id\":\"4918\",\"type\":\"Selection\"},{\"attributes\":{\"line_alpha\":{\"value\":1.0},\"line_cap\":{\"value\":\"butt\"},\"line_color\":{\"value\":\"black\"},\"line_dash\":{\"value\":[]},\"line_dash_offset\":{\"value\":0},\"line_join\":{\"value\":\"bevel\"},\"line_width\":{\"value\":1},\"x0\":{\"field\":\"x0\"},\"x1\":{\"field\":\"x1\"},\"y0\":{\"field\":\"y0\"},\"y1\":{\"field\":\"y1\"}},\"id\":\"4872\",\"type\":\"Segment\"},{\"attributes\":{\"axis\":{\"id\":\"4833\"},\"grid_line_color\":null,\"ticker\":null},\"id\":\"4835\",\"type\":\"Grid\"},{\"attributes\":{\"data_source\":{\"id\":\"4873\"},\"glyph\":{\"id\":\"4875\"},\"hover_glyph\":null,\"muted_glyph\":null,\"nonselection_glyph\":{\"id\":\"4876\"},\"selection_glyph\":{\"id\":\"4879\"},\"view\":{\"id\":\"4878\"}},\"id\":\"4877\",\"type\":\"GlyphRenderer\"},{\"attributes\":{},\"id\":\"4944\",\"type\":\"Selection\"},{\"attributes\":{},\"id\":\"4837\",\"type\":\"BasicTicker\"},{\"attributes\":{\"line_alpha\":{\"value\":1.0},\"line_cap\":{\"value\":\"butt\"},\"line_color\":{\"value\":\"black\"},\"line_dash\":{\"value\":[]},\"line_dash_offset\":{\"value\":0},\"line_join\":{\"value\":\"bevel\"},\"line_width\":{\"value\":1},\"x0\":{\"field\":\"x0\"},\"x1\":{\"field\":\"x1\"},\"y0\":{\"field\":\"y0\"},\"y1\":{\"field\":\"y1\"}},\"id\":\"4893\",\"type\":\"Segment\"},{\"attributes\":{},\"id\":\"4951\",\"type\":\"UnionRenderers\"},{\"attributes\":{\"axis\":{\"id\":\"4836\"},\"dimension\":1,\"grid_line_color\":null,\"ticker\":null},\"id\":\"4839\",\"type\":\"Grid\"},{\"attributes\":{\"fill_alpha\":{\"value\":0.1},\"fill_color\":{\"value\":\"#30a2da\"},\"line_alpha\":{\"value\":0.1},\"line_color\":{\"value\":\"#30a2da\"},\"size\":{\"value\":5.477225575051661},\"x\":{\"field\":\"dia_mes\"},\"y\":{\"field\":\"users\"}},\"id\":\"4921\",\"type\":\"Scatter\"},{\"attributes\":{\"factors\":[\"1\",\"2\",\"3\",\"4\",\"5\",\"6\",\"7\",\"8\",\"9\",\"10\",\"11\",\"12\",\"13\",\"14\",\"15\",\"16\",\"17\",\"18\",\"19\",\"20\",\"21\",\"22\",\"23\",\"24\",\"25\",\"26\",\"27\",\"28\",\"29\",\"30\",\"31\"],\"tags\":[[[\"dia_mes\",\"dia_mes\",null]]]},\"id\":\"4820\",\"type\":\"FactorRange\"},{\"attributes\":{},\"id\":\"4940\",\"type\":\"Selection\"},{\"attributes\":{\"bottom\":{\"field\":\"bottom\"},\"fill_alpha\":{\"value\":1.0},\"fill_color\":{\"value\":null},\"hatch_alpha\":{\"value\":1.0},\"hatch_color\":{\"value\":\"black\"},\"hatch_scale\":{\"value\":12.0},\"hatch_weight\":{\"value\":1.0},\"line_alpha\":{\"value\":1.0},\"line_cap\":{\"value\":\"butt\"},\"line_color\":{\"value\":\"black\"},\"line_dash\":{\"value\":[]},\"line_dash_offset\":{\"value\":0},\"line_join\":{\"value\":\"bevel\"},\"line_width\":{\"value\":1},\"top\":{\"field\":\"top\"},\"width\":{\"value\":0.7},\"x\":{\"field\":\"index\"}},\"id\":\"4907\",\"type\":\"VBar\"},{\"attributes\":{},\"id\":\"4934\",\"type\":\"Selection\"},{\"attributes\":{\"active_multi\":null,\"tools\":[{\"id\":\"4822\"},{\"id\":\"4840\"},{\"id\":\"4841\"},{\"id\":\"4842\"},{\"id\":\"4843\"},{\"id\":\"4844\"}]},\"id\":\"4846\",\"type\":\"Toolbar\"},{\"attributes\":{},\"id\":\"4942\",\"type\":\"Selection\"},{\"attributes\":{},\"id\":\"4856\",\"type\":\"BasicTickFormatter\"},{\"attributes\":{\"fill_alpha\":{\"value\":0.2},\"fill_color\":{\"value\":\"#30a2da\"},\"line_alpha\":{\"value\":0.2},\"line_color\":{\"value\":\"#30a2da\"},\"size\":{\"value\":5.477225575051661},\"x\":{\"field\":\"dia_mes\"},\"y\":{\"field\":\"users\"}},\"id\":\"4922\",\"type\":\"Scatter\"},{\"attributes\":{\"source\":{\"id\":\"4859\"}},\"id\":\"4864\",\"type\":\"CDSView\"},{\"attributes\":{\"source\":{\"id\":\"4901\"}},\"id\":\"4906\",\"type\":\"CDSView\"},{\"attributes\":{\"data_source\":{\"id\":\"4887\"},\"glyph\":{\"id\":\"4889\"},\"hover_glyph\":null,\"muted_glyph\":null,\"nonselection_glyph\":{\"id\":\"4890\"},\"selection_glyph\":{\"id\":\"4893\"},\"view\":{\"id\":\"4892\"}},\"id\":\"4891\",\"type\":\"GlyphRenderer\"},{\"attributes\":{},\"id\":\"4840\",\"type\":\"SaveTool\"},{\"attributes\":{},\"id\":\"4841\",\"type\":\"PanTool\"},{\"attributes\":{\"angle\":{\"value\":0.0},\"fill_alpha\":{\"value\":1.0},\"fill_color\":{\"value\":null},\"hatch_alpha\":{\"value\":1.0},\"hatch_color\":{\"value\":\"black\"},\"hatch_scale\":{\"value\":12.0},\"hatch_weight\":{\"value\":1.0},\"line_alpha\":{\"value\":1.0},\"line_cap\":{\"value\":\"butt\"},\"line_color\":{\"value\":\"black\"},\"line_dash\":{\"value\":[]},\"line_dash_offset\":{\"value\":0},\"line_join\":{\"value\":\"bevel\"},\"line_width\":{\"value\":1},\"size\":{\"value\":4},\"x\":{\"field\":\"index\"},\"y\":{\"field\":\"users\"}},\"id\":\"4865\",\"type\":\"Circle\"},{\"attributes\":{\"bottom\":{\"field\":\"bottom\"},\"fill_alpha\":{\"value\":1.0},\"fill_color\":{\"value\":null},\"hatch_alpha\":{\"value\":1.0},\"hatch_color\":{\"value\":\"black\"},\"hatch_scale\":{\"value\":12.0},\"hatch_weight\":{\"value\":1.0},\"line_alpha\":{\"value\":1.0},\"line_cap\":{\"value\":\"butt\"},\"line_color\":{\"value\":\"black\"},\"line_dash\":{\"value\":[]},\"line_dash_offset\":{\"value\":0},\"line_join\":{\"value\":\"bevel\"},\"line_width\":{\"value\":1},\"top\":{\"field\":\"top\"},\"width\":{\"value\":0.7},\"x\":{\"field\":\"index\"}},\"id\":\"4900\",\"type\":\"VBar\"},{\"attributes\":{\"x0\":{\"field\":\"x0\"},\"x1\":{\"field\":\"x1\"},\"y0\":{\"field\":\"y0\"},\"y1\":{\"field\":\"y1\"}},\"id\":\"4875\",\"type\":\"Segment\"},{\"attributes\":{},\"id\":\"4842\",\"type\":\"WheelZoomTool\"},{\"attributes\":{\"fill_color\":{\"value\":null},\"x\":{\"field\":\"index\"},\"y\":{\"field\":\"users\"}},\"id\":\"4861\",\"type\":\"Circle\"},{\"attributes\":{\"overlay\":{\"id\":\"4845\"}},\"id\":\"4843\",\"type\":\"BoxZoomTool\"},{\"attributes\":{\"source\":{\"id\":\"4866\"}},\"id\":\"4871\",\"type\":\"CDSView\"},{\"attributes\":{\"children\":[{\"id\":\"4819\"},{\"id\":\"4824\"},{\"id\":\"5160\"}],\"margin\":[0,0,0,0],\"name\":\"Row09218\",\"tags\":[\"embedded\"]},\"id\":\"4818\",\"type\":\"Row\"},{\"attributes\":{},\"id\":\"4858\",\"type\":\"AllLabels\"},{\"attributes\":{\"source\":{\"id\":\"4894\"}},\"id\":\"4899\",\"type\":\"CDSView\"},{\"attributes\":{\"data\":{\"bottom\":{\"__ndarray__\":\"AAAAAIB1p0AAAAAAADCpQAAAAAAAeKtAAAAAAACcqkAAAAAAAO6oQAAAAAAAGqdAAAAAAACKq0AAAAAAgGOoQAAAAAAA3apAAAAAAACeqUAAAAAAAJSrQAAAAACAF6dAAAAAAIBNqEAAAAAAAKerQAAAAAAAi6lAAAAAAIAsq0AAAAAAgNWoQAAAAAAAwadAAAAAAICvqkAAAAAAAGKqQAAAAAAASqtAAAAAAICeq0AAAAAAgKarQAAAAAAA4KhAAAAAAICkqEAAAAAAAAKsQAAAAAAAbK9AAAAAAADUrEAAAAAAgBCsQAAAAAAAsqpAAAAAAIABo0A=\",\"dtype\":\"float64\",\"order\":\"little\",\"shape\":[31]},\"index\":[\"1\",\"2\",\"3\",\"4\",\"5\",\"6\",\"7\",\"8\",\"9\",\"10\",\"11\",\"12\",\"13\",\"14\",\"15\",\"16\",\"17\",\"18\",\"19\",\"20\",\"21\",\"22\",\"23\",\"24\",\"25\",\"26\",\"27\",\"28\",\"29\",\"30\",\"31\"],\"top\":{\"__ndarray__\":\"AAAAAAAookAAAAAAAI6jQAAAAAAAu6NAAAAAAACookAAAAAAAO2jQAAAAAAAW6JAAAAAAACto0AAAAAAALGkQAAAAAAAMqVAAAAAAADPpEAAAAAAABCjQAAAAAAAsqRAAAAAAADRokAAAAAAABWmQAAAAAAAL6VAAAAAAAAto0AAAAAAAOOkQAAAAAAAP6RAAAAAAADVo0AAAAAAAKahQAAAAAAAHqRAAAAAAAD1o0AAAAAAAGilQAAAAAAAkKVAAAAAAAADpUAAAAAAADSkQAAAAAAAqKBAAAAAAACgpEAAAAAAAF6lQAAAAAAA+KJAAAAAAABCoEA=\",\"dtype\":\"float64\",\"order\":\"little\",\"shape\":[31]}},\"selected\":{\"id\":\"4944\"},\"selection_policy\":{\"id\":\"4945\"}},\"id\":\"4894\",\"type\":\"ColumnDataSource\"},{\"attributes\":{},\"id\":\"4938\",\"type\":\"Selection\"},{\"attributes\":{},\"id\":\"4909\",\"type\":\"Selection\"},{\"attributes\":{\"data\":{\"x0\":[[\"1\",-0.2],[\"2\",-0.2],[\"3\",-0.2],[\"4\",-0.2],[\"5\",-0.2],[\"6\",-0.2],[\"7\",-0.2],[\"8\",-0.2],[\"9\",-0.2],[\"10\",-0.2],[\"11\",-0.2],[\"12\",-0.2],[\"13\",-0.2],[\"14\",-0.2],[\"15\",-0.2],[\"16\",-0.2],[\"17\",-0.2],[\"18\",-0.2],[\"19\",-0.2],[\"20\",-0.2],[\"21\",-0.2],[\"22\",-0.2],[\"23\",-0.2],[\"24\",-0.2],[\"25\",-0.2],[\"26\",-0.2],[\"27\",-0.2],[\"28\",-0.2],[\"29\",-0.2],[\"30\",-0.2],[\"31\",-0.2]],\"x1\":[[\"1\",0.2],[\"2\",0.2],[\"3\",0.2],[\"4\",0.2],[\"5\",0.2],[\"6\",0.2],[\"7\",0.2],[\"8\",0.2],[\"9\",0.2],[\"10\",0.2],[\"11\",0.2],[\"12\",0.2],[\"13\",0.2],[\"14\",0.2],[\"15\",0.2],[\"16\",0.2],[\"17\",0.2],[\"18\",0.2],[\"19\",0.2],[\"20\",0.2],[\"21\",0.2],[\"22\",0.2],[\"23\",0.2],[\"24\",0.2],[\"25\",0.2],[\"26\",0.2],[\"27\",0.2],[\"28\",0.2],[\"29\",0.2],[\"30\",0.2],[\"31\",0.2]],\"y0\":[133,922,1144,1359,1433,1458,1406,1239,1477,1569,1462,1391,1652,1438,1308,1384,1730,1434,1401,1558,1546,1393,1411,886,1415,863,987,1432,1390,1278,785],\"y1\":[133,922,1144,1359,1433,1458,1406,1239,1477,1569,1462,1391,1652,1438,1308,1384,1730,1434,1401,1558,1546,1393,1411,886,1415,863,987,1432,1390,1278,785]},\"selected\":{\"id\":\"4940\"},\"selection_policy\":{\"id\":\"4941\"}},\"id\":\"4880\",\"type\":\"ColumnDataSource\"},{\"attributes\":{\"data_source\":{\"id\":\"4894\"},\"glyph\":{\"id\":\"4896\"},\"hover_glyph\":null,\"muted_glyph\":null,\"nonselection_glyph\":{\"id\":\"4897\"},\"selection_glyph\":{\"id\":\"4900\"},\"view\":{\"id\":\"4899\"}},\"id\":\"4898\",\"type\":\"GlyphRenderer\"},{\"attributes\":{},\"id\":\"4844\",\"type\":\"ResetTool\"},{\"attributes\":{},\"id\":\"4943\",\"type\":\"UnionRenderers\"},{\"attributes\":{\"data_source\":{\"id\":\"4880\"},\"glyph\":{\"id\":\"4882\"},\"hover_glyph\":null,\"muted_glyph\":null,\"nonselection_glyph\":{\"id\":\"4883\"},\"selection_glyph\":{\"id\":\"4886\"},\"view\":{\"id\":\"4885\"}},\"id\":\"4884\",\"type\":\"GlyphRenderer\"},{\"attributes\":{},\"id\":\"4947\",\"type\":\"UnionRenderers\"},{\"attributes\":{\"data\":{\"bottom\":{\"__ndarray__\":\"AAAAAAAookAAAAAAAI6jQAAAAAAAu6NAAAAAAACookAAAAAAAO2jQAAAAAAAW6JAAAAAAACto0AAAAAAALGkQAAAAAAAMqVAAAAAAADPpEAAAAAAABCjQAAAAAAAsqRAAAAAAADRokAAAAAAABWmQAAAAAAAL6VAAAAAAAAto0AAAAAAAOOkQAAAAAAAP6RAAAAAAADVo0AAAAAAAKahQAAAAAAAHqRAAAAAAAD1o0AAAAAAAGilQAAAAAAAkKVAAAAAAAADpUAAAAAAADSkQAAAAAAAqKBAAAAAAACgpEAAAAAAAF6lQAAAAAAA+KJAAAAAAABCoEA=\",\"dtype\":\"float64\",\"order\":\"little\",\"shape\":[31]},\"index\":[\"1\",\"2\",\"3\",\"4\",\"5\",\"6\",\"7\",\"8\",\"9\",\"10\",\"11\",\"12\",\"13\",\"14\",\"15\",\"16\",\"17\",\"18\",\"19\",\"20\",\"21\",\"22\",\"23\",\"24\",\"25\",\"26\",\"27\",\"28\",\"29\",\"30\",\"31\"],\"top\":{\"__ndarray__\":\"AAAAAACVmkAAAAAAgN+gQAAAAAAAYaBAAAAAAACqnUAAAAAAAGehQAAAAAAAe59AAAAAAABMn0AAAAAAgB2iQAAAAAAAR6JAAAAAAICeoEAAAAAAAHGhQAAAAAAALqJAAAAAAICyoEAAAAAAgAihQAAAAACAfaFAAAAAAIA0oUAAAAAAAKWgQAAAAAAAgKJAAAAAAABKoUAAAAAAAP2fQAAAAAAA0p5AAAAAAAAFokAAAAAAgF6hQAAAAAAAYp9AAAAAAAAuoUAAAAAAAM6iQAAAAAAA4J9AAAAAAABYoEAAAAAAAOqgQAAAAAAAiJ9AAAAAAAAzmkA=\",\"dtype\":\"float64\",\"order\":\"little\",\"shape\":[31]}},\"selected\":{\"id\":\"4946\"},\"selection_policy\":{\"id\":\"4947\"}},\"id\":\"4901\",\"type\":\"ColumnDataSource\"},{\"attributes\":{\"source\":{\"id\":\"4917\"}},\"id\":\"4924\",\"type\":\"CDSView\"},{\"attributes\":{},\"id\":\"4854\",\"type\":\"AllLabels\"},{\"attributes\":{\"source\":{\"id\":\"4887\"}},\"id\":\"4892\",\"type\":\"CDSView\"},{\"attributes\":{\"axis_label\":\"users\",\"formatter\":{\"id\":\"4856\"},\"major_label_policy\":{\"id\":\"4858\"},\"ticker\":{\"id\":\"4837\"}},\"id\":\"4836\",\"type\":\"LinearAxis\"},{\"attributes\":{},\"id\":\"4935\",\"type\":\"UnionRenderers\"},{\"attributes\":{\"source\":{\"id\":\"4880\"}},\"id\":\"4885\",\"type\":\"CDSView\"},{\"attributes\":{\"data\":{\"x0\":[[\"1\",-0.2],[\"2\",-0.2],[\"3\",-0.2],[\"4\",-0.2],[\"5\",-0.2],[\"6\",-0.2],[\"7\",-0.2],[\"8\",-0.2],[\"9\",-0.2],[\"10\",-0.2],[\"11\",-0.2],[\"12\",-0.2],[\"13\",-0.2],[\"14\",-0.2],[\"15\",-0.2],[\"16\",-0.2],[\"17\",-0.2],[\"18\",-0.2],[\"19\",-0.2],[\"20\",-0.2],[\"21\",-0.2],[\"22\",-0.2],[\"23\",-0.2],[\"24\",-0.2],[\"25\",-0.2],[\"26\",-0.2],[\"27\",-0.2],[\"28\",-0.2],[\"29\",-0.2],[\"30\",-0.2],[\"31\",-0.2]],\"x1\":[[\"1\",0.2],[\"2\",0.2],[\"3\",0.2],[\"4\",0.2],[\"5\",0.2],[\"6\",0.2],[\"7\",0.2],[\"8\",0.2],[\"9\",0.2],[\"10\",0.2],[\"11\",0.2],[\"12\",0.2],[\"13\",0.2],[\"14\",0.2],[\"15\",0.2],[\"16\",0.2],[\"17\",0.2],[\"18\",0.2],[\"19\",0.2],[\"20\",0.2],[\"21\",0.2],[\"22\",0.2],[\"23\",0.2],[\"24\",0.2],[\"25\",0.2],[\"26\",0.2],[\"27\",0.2],[\"28\",0.2],[\"29\",0.2],[\"30\",0.2],[\"31\",0.2]],\"y0\":[4084,3866,4318,5235,3623,3780,4079,4055,5045,4660,5282,3216,3994,4064,4201,4156,3714,3801,4185,5306,4513,4656,4319,3928,4257,4208,6312,4810,4621,4258,3092],\"y1\":[4084,3866,4318,5235,3623,3780,4079,4055,5045,4660,5282,3216,3994,4064,4201,4156,3714,3801,4185,5306,4513,4656,4319,3928,4257,4208,6312,4810,4621,4258,3092]},\"selected\":{\"id\":\"4942\"},\"selection_policy\":{\"id\":\"4943\"}},\"id\":\"4887\",\"type\":\"ColumnDataSource\"},{\"attributes\":{\"line_alpha\":{\"value\":1.0},\"line_cap\":{\"value\":\"butt\"},\"line_color\":{\"value\":\"black\"},\"line_dash\":{\"value\":[]},\"line_dash_offset\":{\"value\":0},\"line_join\":{\"value\":\"bevel\"},\"line_width\":{\"value\":1},\"x0\":{\"field\":\"x0\"},\"x1\":{\"field\":\"x1\"},\"y0\":{\"field\":\"y0\"},\"y1\":{\"field\":\"y1\"}},\"id\":\"4879\",\"type\":\"Segment\"},{\"attributes\":{\"line_color\":\"#30a2da\",\"line_width\":2,\"x\":{\"field\":\"dia_mes\"},\"y\":{\"field\":\"users\"}},\"id\":\"4916\",\"type\":\"Line\"},{\"attributes\":{\"data\":{\"dia_mes\":[\"1\",\"2\",\"3\",\"4\",\"5\",\"6\",\"7\",\"8\",\"9\",\"10\",\"11\",\"12\",\"13\",\"14\",\"15\",\"16\",\"17\",\"18\",\"19\",\"20\",\"21\",\"22\",\"23\",\"24\",\"25\",\"26\",\"27\",\"28\",\"29\",\"30\",\"31\"],\"users\":{\"__ndarray__\":\"AAAAAAAookAAAAAAAI6jQAAAAAAAu6NAAAAAAACookAAAAAAAO2jQAAAAAAAW6JAAAAAAACto0AAAAAAALGkQAAAAAAAMqVAAAAAAADPpEAAAAAAABCjQAAAAAAAsqRAAAAAAADRokAAAAAAABWmQAAAAAAAL6VAAAAAAAAto0AAAAAAAOOkQAAAAAAAP6RAAAAAAADVo0AAAAAAAKahQAAAAAAAHqRAAAAAAAD1o0AAAAAAAGilQAAAAAAAkKVAAAAAAAADpUAAAAAAADSkQAAAAAAAqKBAAAAAAACgpEAAAAAAAF6lQAAAAAAA+KJAAAAAAABCoEA=\",\"dtype\":\"float64\",\"order\":\"little\",\"shape\":[31]}},\"selected\":{\"id\":\"4909\"},\"selection_policy\":{\"id\":\"4949\"}},\"id\":\"4908\",\"type\":\"ColumnDataSource\"},{\"attributes\":{\"callback\":null,\"renderers\":[{\"id\":\"4914\"},{\"id\":\"4923\"}],\"tags\":[\"hv_created\"],\"tooltips\":[[\"dia_mes\",\"@{dia_mes}\"],[\"users\",\"@{users}\"]]},\"id\":\"4822\",\"type\":\"HoverTool\"},{\"attributes\":{\"line_alpha\":{\"value\":0.1},\"x0\":{\"field\":\"x0\"},\"x1\":{\"field\":\"x1\"},\"y0\":{\"field\":\"y0\"},\"y1\":{\"field\":\"y1\"}},\"id\":\"4883\",\"type\":\"Segment\"},{\"attributes\":{},\"id\":\"4939\",\"type\":\"UnionRenderers\"},{\"attributes\":{\"bottom\":{\"field\":\"bottom\"},\"fill_alpha\":{\"value\":0.1},\"fill_color\":{\"value\":null},\"line_alpha\":{\"value\":0.1},\"top\":{\"field\":\"top\"},\"width\":{\"value\":0.7},\"x\":{\"field\":\"index\"}},\"id\":\"4897\",\"type\":\"VBar\"},{\"attributes\":{\"line_alpha\":0.1,\"line_color\":\"#30a2da\",\"line_width\":2,\"x\":{\"field\":\"dia_mes\"},\"y\":{\"field\":\"users\"}},\"id\":\"4912\",\"type\":\"Line\"},{\"attributes\":{},\"id\":\"4936\",\"type\":\"Selection\"},{\"attributes\":{\"line_alpha\":{\"value\":0.1},\"x0\":{\"field\":\"x0\"},\"x1\":{\"field\":\"x1\"},\"y0\":{\"field\":\"y0\"},\"y1\":{\"field\":\"y1\"}},\"id\":\"4876\",\"type\":\"Segment\"},{\"attributes\":{},\"id\":\"4831\",\"type\":\"LinearScale\"},{\"attributes\":{\"line_alpha\":{\"value\":1.0},\"line_cap\":{\"value\":\"butt\"},\"line_color\":{\"value\":\"black\"},\"line_dash\":{\"value\":[]},\"line_dash_offset\":{\"value\":0},\"line_join\":{\"value\":\"bevel\"},\"line_width\":{\"value\":1},\"x0\":{\"field\":\"x0\"},\"x1\":{\"field\":\"x1\"},\"y0\":{\"field\":\"y0\"},\"y1\":{\"field\":\"y1\"}},\"id\":\"4886\",\"type\":\"Segment\"},{\"attributes\":{},\"id\":\"4855\",\"type\":\"CategoricalTickFormatter\"},{\"attributes\":{\"fill_alpha\":{\"value\":0.1},\"fill_color\":{\"value\":null},\"line_alpha\":{\"value\":0.1},\"x\":{\"field\":\"index\"},\"y\":{\"field\":\"users\"}},\"id\":\"4862\",\"type\":\"Circle\"},{\"attributes\":{\"data\":{\"index\":[\"1\",\"2\",\"3\",\"5\",\"6\",\"10\",\"12\",\"12\",\"13\",\"17\",\"18\",\"19\",\"23\",\"24\",\"25\",\"25\",\"26\",\"30\",\"31\"],\"users\":[6298,6587,6671,4855,4604,5265,5419,3907,5130,5258,5668,5565,5828,6807,6774,472,6587,6117,3948]},\"selected\":{\"id\":\"4934\"},\"selection_policy\":{\"id\":\"4935\"}},\"id\":\"4859\",\"type\":\"ColumnDataSource\"},{\"attributes\":{\"line_alpha\":{\"value\":0.1},\"x0\":{\"field\":\"x0\"},\"x1\":{\"field\":\"x1\"},\"y0\":{\"field\":\"y0\"},\"y1\":{\"field\":\"y1\"}},\"id\":\"4890\",\"type\":\"Segment\"},{\"attributes\":{\"margin\":[5,5,5,5],\"name\":\"HSpacer09222\",\"sizing_mode\":\"stretch_width\"},\"id\":\"4819\",\"type\":\"Spacer\"},{\"attributes\":{\"bottom\":{\"field\":\"bottom\"},\"fill_color\":{\"value\":null},\"top\":{\"field\":\"top\"},\"width\":{\"value\":0.7},\"x\":{\"field\":\"index\"}},\"id\":\"4903\",\"type\":\"VBar\"},{\"attributes\":{\"bottom_units\":\"screen\",\"fill_alpha\":0.5,\"fill_color\":\"lightgrey\",\"left_units\":\"screen\",\"level\":\"overlay\",\"line_alpha\":1.0,\"line_color\":\"black\",\"line_dash\":[4,4],\"line_width\":2,\"right_units\":\"screen\",\"syncable\":false,\"top_units\":\"screen\"},\"id\":\"4845\",\"type\":\"BoxAnnotation\"},{\"attributes\":{\"data\":{\"x0\":[\"1\",\"2\",\"3\",\"4\",\"5\",\"6\",\"7\",\"8\",\"9\",\"10\",\"11\",\"12\",\"13\",\"14\",\"15\",\"16\",\"17\",\"18\",\"19\",\"20\",\"21\",\"22\",\"23\",\"24\",\"25\",\"26\",\"27\",\"28\",\"29\",\"30\",\"31\"],\"x1\":[\"1\",\"2\",\"3\",\"4\",\"5\",\"6\",\"7\",\"8\",\"9\",\"10\",\"11\",\"12\",\"13\",\"14\",\"15\",\"16\",\"17\",\"18\",\"19\",\"20\",\"21\",\"22\",\"23\",\"24\",\"25\",\"26\",\"27\",\"28\",\"29\",\"30\",\"31\"],\"y0\":[4084,3866,4318,5235,3623,3780,4079,4055,5045,4660,5282,3216,3994,4064,4201,4156,3714,3801,4185,5306,4513,4656,4319,3928,4257,4208,6312,4810,4621,4258,3092],\"y1\":{\"__ndarray__\":\"AAAAAIB1p0AAAAAAADCpQAAAAAAAeKtAAAAAAACcqkAAAAAAAO6oQAAAAAAAGqdAAAAAAACKq0AAAAAAgGOoQAAAAAAA3apAAAAAAACeqUAAAAAAAJSrQAAAAACAF6dAAAAAAIBNqEAAAAAAAKerQAAAAAAAi6lAAAAAAIAsq0AAAAAAgNWoQAAAAAAAwadAAAAAAICvqkAAAAAAAGKqQAAAAAAASqtAAAAAAICeq0AAAAAAgKarQAAAAAAA4KhAAAAAAICkqEAAAAAAAAKsQAAAAAAAbK9AAAAAAADUrEAAAAAAgBCsQAAAAAAAsqpAAAAAAIABo0A=\",\"dtype\":\"float64\",\"order\":\"little\",\"shape\":[31]}},\"selected\":{\"id\":\"4936\"},\"selection_policy\":{\"id\":\"4937\"}},\"id\":\"4866\",\"type\":\"ColumnDataSource\"},{\"attributes\":{\"line_alpha\":{\"value\":0.1},\"x0\":{\"field\":\"x0\"},\"x1\":{\"field\":\"x1\"},\"y0\":{\"field\":\"y0\"},\"y1\":{\"field\":\"y1\"}},\"id\":\"4869\",\"type\":\"Segment\"},{\"attributes\":{\"bottom\":{\"field\":\"bottom\"},\"fill_color\":{\"value\":null},\"top\":{\"field\":\"top\"},\"width\":{\"value\":0.7},\"x\":{\"field\":\"index\"}},\"id\":\"4896\",\"type\":\"VBar\"},{\"attributes\":{},\"id\":\"4941\",\"type\":\"UnionRenderers\"},{\"attributes\":{\"angle\":{\"value\":0.0},\"fill_alpha\":{\"value\":1.0},\"fill_color\":{\"value\":\"#30a2da\"},\"hatch_alpha\":{\"value\":1.0},\"hatch_color\":{\"value\":\"black\"},\"hatch_scale\":{\"value\":12.0},\"hatch_weight\":{\"value\":1.0},\"line_alpha\":{\"value\":1.0},\"line_cap\":{\"value\":\"butt\"},\"line_color\":{\"value\":\"#30a2da\"},\"line_dash\":{\"value\":[]},\"line_dash_offset\":{\"value\":0},\"line_join\":{\"value\":\"bevel\"},\"line_width\":{\"value\":1},\"marker\":{\"value\":\"circle\"},\"size\":{\"value\":5.477225575051661},\"x\":{\"field\":\"dia_mes\"},\"y\":{\"field\":\"users\"}},\"id\":\"4925\",\"type\":\"Scatter\"},{\"attributes\":{\"text\":\"Distribuci\\u00f3n de visitas por d\\u00eda del mes\",\"text_color\":\"black\",\"text_font_size\":\"12pt\"},\"id\":\"4825\",\"type\":\"Title\"},{\"attributes\":{\"fill_color\":{\"value\":\"#30a2da\"},\"line_color\":{\"value\":\"#30a2da\"},\"size\":{\"value\":5.477225575051661},\"x\":{\"field\":\"dia_mes\"},\"y\":{\"field\":\"users\"}},\"id\":\"4920\",\"type\":\"Scatter\"},{\"attributes\":{\"x0\":{\"field\":\"x0\"},\"x1\":{\"field\":\"x1\"},\"y0\":{\"field\":\"y0\"},\"y1\":{\"field\":\"y1\"}},\"id\":\"4868\",\"type\":\"Segment\"},{\"attributes\":{\"data_source\":{\"id\":\"4908\"},\"glyph\":{\"id\":\"4911\"},\"hover_glyph\":null,\"muted_glyph\":{\"id\":\"4913\"},\"nonselection_glyph\":{\"id\":\"4912\"},\"selection_glyph\":{\"id\":\"4916\"},\"view\":{\"id\":\"4915\"}},\"id\":\"4914\",\"type\":\"GlyphRenderer\"},{\"attributes\":{\"data\":{\"x0\":[\"1\",\"2\",\"3\",\"4\",\"5\",\"6\",\"7\",\"8\",\"9\",\"10\",\"11\",\"12\",\"13\",\"14\",\"15\",\"16\",\"17\",\"18\",\"19\",\"20\",\"21\",\"22\",\"23\",\"24\",\"25\",\"26\",\"27\",\"28\",\"29\",\"30\",\"31\"],\"x1\":[\"1\",\"2\",\"3\",\"4\",\"5\",\"6\",\"7\",\"8\",\"9\",\"10\",\"11\",\"12\",\"13\",\"14\",\"15\",\"16\",\"17\",\"18\",\"19\",\"20\",\"21\",\"22\",\"23\",\"24\",\"25\",\"26\",\"27\",\"28\",\"29\",\"30\",\"31\"],\"y0\":[133,922,1144,1359,1433,1458,1406,1239,1477,1569,1462,1391,1652,1438,1308,1384,1730,1434,1401,1558,1546,1393,1411,886,1415,863,987,1432,1390,1278,785],\"y1\":{\"__ndarray__\":\"AAAAAACVmkAAAAAAgN+gQAAAAAAAYaBAAAAAAACqnUAAAAAAAGehQAAAAAAAe59AAAAAAABMn0AAAAAAgB2iQAAAAAAAR6JAAAAAAICeoEAAAAAAAHGhQAAAAAAALqJAAAAAAICyoEAAAAAAgAihQAAAAACAfaFAAAAAAIA0oUAAAAAAAKWgQAAAAAAAgKJAAAAAAABKoUAAAAAAAP2fQAAAAAAA0p5AAAAAAAAFokAAAAAAgF6hQAAAAAAAYp9AAAAAAAAuoUAAAAAAAM6iQAAAAAAA4J9AAAAAAABYoEAAAAAAAOqgQAAAAAAAiJ9AAAAAAAAzmkA=\",\"dtype\":\"float64\",\"order\":\"little\",\"shape\":[31]}},\"selected\":{\"id\":\"4938\"},\"selection_policy\":{\"id\":\"4939\"}},\"id\":\"4873\",\"type\":\"ColumnDataSource\"},{\"attributes\":{},\"id\":\"4946\",\"type\":\"Selection\"},{\"attributes\":{\"below\":[{\"id\":\"4833\"}],\"center\":[{\"id\":\"4835\"},{\"id\":\"4839\"}],\"height\":300,\"left\":[{\"id\":\"4836\"}],\"margin\":[5,5,5,5],\"min_border_bottom\":10,\"min_border_left\":10,\"min_border_right\":10,\"min_border_top\":10,\"renderers\":[{\"id\":\"4863\"},{\"id\":\"4870\"},{\"id\":\"4877\"},{\"id\":\"4884\"},{\"id\":\"4891\"},{\"id\":\"4898\"},{\"id\":\"4905\"},{\"id\":\"4914\"},{\"id\":\"4923\"}],\"sizing_mode\":\"fixed\",\"title\":{\"id\":\"4825\"},\"toolbar\":{\"id\":\"4846\"},\"x_range\":{\"id\":\"4820\"},\"x_scale\":{\"id\":\"4829\"},\"y_range\":{\"id\":\"4821\"},\"y_scale\":{\"id\":\"4831\"}},\"id\":\"4824\",\"subtype\":\"Figure\",\"type\":\"Plot\"},{\"attributes\":{},\"id\":\"4945\",\"type\":\"UnionRenderers\"},{\"attributes\":{},\"id\":\"4829\",\"type\":\"CategoricalScale\"},{\"attributes\":{\"margin\":[5,5,5,5],\"name\":\"HSpacer09223\",\"sizing_mode\":\"stretch_width\"},\"id\":\"5160\",\"type\":\"Spacer\"},{\"attributes\":{\"x0\":{\"field\":\"x0\"},\"x1\":{\"field\":\"x1\"},\"y0\":{\"field\":\"y0\"},\"y1\":{\"field\":\"y1\"}},\"id\":\"4889\",\"type\":\"Segment\"},{\"attributes\":{\"end\":7474.4,\"reset_end\":7474.4,\"reset_start\":-534.4000000000001,\"start\":-534.4000000000001,\"tags\":[[[\"users\",\"users\",null]]]},\"id\":\"4821\",\"type\":\"Range1d\"},{\"attributes\":{\"source\":{\"id\":\"4873\"}},\"id\":\"4878\",\"type\":\"CDSView\"},{\"attributes\":{\"source\":{\"id\":\"4908\"}},\"id\":\"4915\",\"type\":\"CDSView\"},{\"attributes\":{},\"id\":\"4937\",\"type\":\"UnionRenderers\"},{\"attributes\":{\"x0\":{\"field\":\"x0\"},\"x1\":{\"field\":\"x1\"},\"y0\":{\"field\":\"y0\"},\"y1\":{\"field\":\"y1\"}},\"id\":\"4882\",\"type\":\"Segment\"},{\"attributes\":{\"data_source\":{\"id\":\"4901\"},\"glyph\":{\"id\":\"4903\"},\"hover_glyph\":null,\"muted_glyph\":null,\"nonselection_glyph\":{\"id\":\"4904\"},\"selection_glyph\":{\"id\":\"4907\"},\"view\":{\"id\":\"4906\"}},\"id\":\"4905\",\"type\":\"GlyphRenderer\"},{\"attributes\":{},\"id\":\"4949\",\"type\":\"UnionRenderers\"},{\"attributes\":{\"axis_label\":\"dia_mes\",\"formatter\":{\"id\":\"4855\"},\"major_label_policy\":{\"id\":\"4854\"},\"ticker\":{\"id\":\"4834\"}},\"id\":\"4833\",\"type\":\"CategoricalAxis\"}],\"root_ids\":[\"4818\"]},\"title\":\"Bokeh Application\",\"version\":\"2.3.3\"}};\n",
       "    var render_items = [{\"docid\":\"5da38bb0-ad94-442f-b62a-f6ba927acc34\",\"root_ids\":[\"4818\"],\"roots\":{\"4818\":\"936d3aef-dcf0-40c1-97de-6ef72261e784\"}}];\n",
       "    root.Bokeh.embed.embed_items_notebook(docs_json, render_items);\n",
       "  }\n",
       "  if (root.Bokeh !== undefined && root.Bokeh.Panel !== undefined) {\n",
       "    embed_document(root);\n",
       "  } else {\n",
       "    var attempts = 0;\n",
       "    var timer = setInterval(function(root) {\n",
       "      if (root.Bokeh !== undefined && root.Bokeh.Panel !== undefined) {\n",
       "        clearInterval(timer);\n",
       "        embed_document(root);\n",
       "      } else if (document.readyState == \"complete\") {\n",
       "        attempts++;\n",
       "        if (attempts > 200) {\n",
       "          clearInterval(timer);\n",
       "          console.log(\"Bokeh: ERROR: Unable to run BokehJS code because BokehJS library is missing\");\n",
       "        }\n",
       "      }\n",
       "    }, 25, root)\n",
       "  }\n",
       "})(window);</script>"
      ],
      "text/plain": [
       ":Overlay\n",
       "   .BoxWhisker.I  :BoxWhisker   [dia_mes]   (users)\n",
       "   .Curve.Users   :Curve   [dia_mes]   (users)\n",
       "   .Scatter.Users :Scatter   [dia_mes]   (users)"
      ]
     },
     "execution_count": 29,
     "metadata": {
      "application/vnd.holoviews_exec.v0+json": {
       "id": "4818"
      }
     },
     "output_type": "execute_result"
    }
   ],
   "source": [
    "# Gráfico boxplot para estacionalidad mensual\n",
    "# ==============================================================================\n",
    "# fig, ax = plt.subplots(figsize=(9, 3.5))\n",
    "# datos['dia_mes'] = pd.Series(datos.index).dt.day.values\n",
    "# datos.boxplot(column='users', by='dia_mes', ax=ax,)\n",
    "# datos.groupby('dia_mes')['users'].median().plot(style='o-', linewidth=0.8, ax=ax)\n",
    "# ax.set_ylabel('users')\n",
    "# ax.set_title('Distribución de visitas por día del mes')\n",
    "# fig.suptitle('');\n",
    "\n",
    "datos['dia_mes'] = pd.Series(datos.index).dt.day.values\n",
    "boxplot = datos.hvplot.box(\n",
    "            y                  = 'users',\n",
    "            by                 = 'dia_mes',\n",
    "            legend             = False,\n",
    "            box_fill_color     = None,\n",
    "            outlier_fill_color = None\n",
    "          )\n",
    "lineplot = datos.groupby('dia_mes')['users'].median().hvplot.line(legend=False)\n",
    "scatterplot = datos.groupby('dia_mes')['users'].median().hvplot.scatter(legend=False)\n",
    "layout = boxplot * lineplot * scatterplot\n",
    "layout = layout.opts(title='Distribución de visitas por día del mes', ylabel='users', width=600)\n",
    "layout"
   ]
  },
  {
   "cell_type": "code",
   "execution_count": 30,
   "metadata": {},
   "outputs": [
    {
     "data": {},
     "metadata": {},
     "output_type": "display_data"
    },
    {
     "data": {
      "application/vnd.holoviews_exec.v0+json": "",
      "text/html": [
       "<div id='5292'>\n",
       "\n",
       "\n",
       "\n",
       "\n",
       "\n",
       "  <div class=\"bk-root\" id=\"57d9caca-5e80-4c6d-9c6a-d3519f13d991\" data-root-id=\"5292\"></div>\n",
       "</div>\n",
       "<script type=\"application/javascript\">(function(root) {\n",
       "  function embed_document(root) {\n",
       "    var docs_json = {\"d4ecff6f-03df-43e1-a06a-55b93a31a447\":{\"defs\":[{\"extends\":null,\"module\":null,\"name\":\"ReactiveHTML1\",\"overrides\":[],\"properties\":[]},{\"extends\":null,\"module\":null,\"name\":\"FlexBox1\",\"overrides\":[],\"properties\":[{\"default\":\"flex-start\",\"kind\":null,\"name\":\"align_content\"},{\"default\":\"flex-start\",\"kind\":null,\"name\":\"align_items\"},{\"default\":\"row\",\"kind\":null,\"name\":\"flex_direction\"},{\"default\":\"wrap\",\"kind\":null,\"name\":\"flex_wrap\"},{\"default\":\"flex-start\",\"kind\":null,\"name\":\"justify_content\"}]},{\"extends\":null,\"module\":null,\"name\":\"TemplateActions1\",\"overrides\":[],\"properties\":[{\"default\":0,\"kind\":null,\"name\":\"open_modal\"},{\"default\":0,\"kind\":null,\"name\":\"close_modal\"}]},{\"extends\":null,\"module\":null,\"name\":\"MaterialTemplateActions1\",\"overrides\":[],\"properties\":[{\"default\":0,\"kind\":null,\"name\":\"open_modal\"},{\"default\":0,\"kind\":null,\"name\":\"close_modal\"}]}],\"roots\":{\"references\":[{\"attributes\":{},\"id\":\"5328\",\"type\":\"AllLabels\"},{\"attributes\":{},\"id\":\"5419\",\"type\":\"UnionRenderers\"},{\"attributes\":{\"data_source\":{\"id\":\"5382\"},\"glyph\":{\"id\":\"5385\"},\"hover_glyph\":null,\"muted_glyph\":{\"id\":\"5387\"},\"nonselection_glyph\":{\"id\":\"5386\"},\"selection_glyph\":{\"id\":\"5390\"},\"view\":{\"id\":\"5389\"}},\"id\":\"5388\",\"type\":\"GlyphRenderer\"},{\"attributes\":{},\"id\":\"5311\",\"type\":\"BasicTicker\"},{\"attributes\":{},\"id\":\"5420\",\"type\":\"Selection\"},{\"attributes\":{\"source\":{\"id\":\"5354\"}},\"id\":\"5359\",\"type\":\"CDSView\"},{\"attributes\":{\"data\":{\"bottom\":{\"__ndarray__\":\"AAAAAABVpEAAAAAAALmmQAAAAAAAQKdAAAAAAABrpkAAAAAAAH2lQAAAAAAAhp9AAAAAAAB6m0A=\",\"dtype\":\"float64\",\"order\":\"little\",\"shape\":[7]},\"index\":[\"1\",\"2\",\"3\",\"4\",\"5\",\"6\",\"7\"],\"top\":{\"__ndarray__\":\"AAAAAAAhoUAAAAAAgNmhQAAAAAAANKJAAAAAAABHokAAAAAAgA6hQAAAAAAAAZpAAAAAAABnlkA=\",\"dtype\":\"float64\",\"order\":\"little\",\"shape\":[7]}},\"selected\":{\"id\":\"5420\"},\"selection_policy\":{\"id\":\"5421\"}},\"id\":\"5375\",\"type\":\"ColumnDataSource\"},{\"attributes\":{\"axis\":{\"id\":\"5310\"},\"dimension\":1,\"grid_line_color\":null,\"ticker\":null},\"id\":\"5313\",\"type\":\"Grid\"},{\"attributes\":{\"line_alpha\":0.2,\"line_color\":\"#30a2da\",\"line_width\":2,\"x\":{\"field\":\"dia_semana\"},\"y\":{\"field\":\"users\"}},\"id\":\"5387\",\"type\":\"Line\"},{\"attributes\":{\"data\":{\"dia_semana\":[\"1\",\"2\",\"3\",\"4\",\"5\",\"6\",\"7\"],\"users\":{\"__ndarray__\":\"AAAAAABVpEAAAAAAALmmQAAAAAAAQKdAAAAAAABrpkAAAAAAAH2lQAAAAAAAhp9AAAAAAAB6m0A=\",\"dtype\":\"float64\",\"order\":\"little\",\"shape\":[7]}},\"selected\":{\"id\":\"5383\"},\"selection_policy\":{\"id\":\"5423\"}},\"id\":\"5382\",\"type\":\"ColumnDataSource\"},{\"attributes\":{},\"id\":\"5421\",\"type\":\"UnionRenderers\"},{\"attributes\":{\"children\":[{\"id\":\"5293\"},{\"id\":\"5298\"},{\"id\":\"5634\"}],\"margin\":[0,0,0,0],\"name\":\"Row10489\",\"tags\":[\"embedded\"]},\"id\":\"5292\",\"type\":\"Row\"},{\"attributes\":{\"source\":{\"id\":\"5333\"}},\"id\":\"5338\",\"type\":\"CDSView\"},{\"attributes\":{},\"id\":\"5423\",\"type\":\"UnionRenderers\"},{\"attributes\":{\"source\":{\"id\":\"5375\"}},\"id\":\"5380\",\"type\":\"CDSView\"},{\"attributes\":{\"data_source\":{\"id\":\"5354\"},\"glyph\":{\"id\":\"5356\"},\"hover_glyph\":null,\"muted_glyph\":null,\"nonselection_glyph\":{\"id\":\"5357\"},\"selection_glyph\":{\"id\":\"5360\"},\"view\":{\"id\":\"5359\"}},\"id\":\"5358\",\"type\":\"GlyphRenderer\"},{\"attributes\":{},\"id\":\"5329\",\"type\":\"CategoricalTickFormatter\"},{\"attributes\":{},\"id\":\"5425\",\"type\":\"UnionRenderers\"},{\"attributes\":{\"active_multi\":null,\"tools\":[{\"id\":\"5296\"},{\"id\":\"5314\"},{\"id\":\"5315\"},{\"id\":\"5316\"},{\"id\":\"5317\"},{\"id\":\"5318\"}]},\"id\":\"5320\",\"type\":\"Toolbar\"},{\"attributes\":{\"source\":{\"id\":\"5382\"}},\"id\":\"5389\",\"type\":\"CDSView\"},{\"attributes\":{\"bottom\":{\"field\":\"bottom\"},\"fill_alpha\":{\"value\":1.0},\"fill_color\":{\"value\":null},\"hatch_alpha\":{\"value\":1.0},\"hatch_color\":{\"value\":\"black\"},\"hatch_scale\":{\"value\":12.0},\"hatch_weight\":{\"value\":1.0},\"line_alpha\":{\"value\":1.0},\"line_cap\":{\"value\":\"butt\"},\"line_color\":{\"value\":\"black\"},\"line_dash\":{\"value\":[]},\"line_dash_offset\":{\"value\":0},\"line_join\":{\"value\":\"bevel\"},\"line_width\":{\"value\":1},\"top\":{\"field\":\"top\"},\"width\":{\"value\":0.7},\"x\":{\"field\":\"index\"}},\"id\":\"5381\",\"type\":\"VBar\"},{\"attributes\":{\"line_alpha\":{\"value\":0.1},\"x0\":{\"field\":\"x0\"},\"x1\":{\"field\":\"x1\"},\"y0\":{\"field\":\"y0\"},\"y1\":{\"field\":\"y1\"}},\"id\":\"5350\",\"type\":\"Segment\"},{\"attributes\":{\"data\":{\"bottom\":{\"__ndarray__\":\"AAAAAADjqkAAAAAAAJ2tQAAAAAAAGK5AAAAAAABxrUAAAAAAAEarQAAAAACAd6RAAAAAAIBPokA=\",\"dtype\":\"float64\",\"order\":\"little\",\"shape\":[7]},\"index\":[\"1\",\"2\",\"3\",\"4\",\"5\",\"6\",\"7\"],\"top\":{\"__ndarray__\":\"AAAAAABVpEAAAAAAALmmQAAAAAAAQKdAAAAAAABrpkAAAAAAAH2lQAAAAAAAhp9AAAAAAAB6m0A=\",\"dtype\":\"float64\",\"order\":\"little\",\"shape\":[7]}},\"selected\":{\"id\":\"5418\"},\"selection_policy\":{\"id\":\"5419\"}},\"id\":\"5368\",\"type\":\"ColumnDataSource\"},{\"attributes\":{\"data_source\":{\"id\":\"5375\"},\"glyph\":{\"id\":\"5377\"},\"hover_glyph\":null,\"muted_glyph\":null,\"nonselection_glyph\":{\"id\":\"5378\"},\"selection_glyph\":{\"id\":\"5381\"},\"view\":{\"id\":\"5380\"}},\"id\":\"5379\",\"type\":\"GlyphRenderer\"},{\"attributes\":{},\"id\":\"5314\",\"type\":\"SaveTool\"},{\"attributes\":{\"source\":{\"id\":\"5340\"}},\"id\":\"5345\",\"type\":\"CDSView\"},{\"attributes\":{\"line_alpha\":{\"value\":1.0},\"line_cap\":{\"value\":\"butt\"},\"line_color\":{\"value\":\"black\"},\"line_dash\":{\"value\":[]},\"line_dash_offset\":{\"value\":0},\"line_join\":{\"value\":\"bevel\"},\"line_width\":{\"value\":1},\"x0\":{\"field\":\"x0\"},\"x1\":{\"field\":\"x1\"},\"y0\":{\"field\":\"y0\"},\"y1\":{\"field\":\"y1\"}},\"id\":\"5367\",\"type\":\"Segment\"},{\"attributes\":{\"margin\":[5,5,5,5],\"name\":\"HSpacer10493\",\"sizing_mode\":\"stretch_width\"},\"id\":\"5293\",\"type\":\"Spacer\"},{\"attributes\":{},\"id\":\"5315\",\"type\":\"PanTool\"},{\"attributes\":{\"bottom\":{\"field\":\"bottom\"},\"fill_alpha\":{\"value\":0.1},\"fill_color\":{\"value\":null},\"line_alpha\":{\"value\":0.1},\"top\":{\"field\":\"top\"},\"width\":{\"value\":0.7},\"x\":{\"field\":\"index\"}},\"id\":\"5371\",\"type\":\"VBar\"},{\"attributes\":{},\"id\":\"5305\",\"type\":\"LinearScale\"},{\"attributes\":{\"x0\":{\"field\":\"x0\"},\"x1\":{\"field\":\"x1\"},\"y0\":{\"field\":\"y0\"},\"y1\":{\"field\":\"y1\"}},\"id\":\"5363\",\"type\":\"Segment\"},{\"attributes\":{},\"id\":\"5316\",\"type\":\"WheelZoomTool\"},{\"attributes\":{},\"id\":\"5308\",\"type\":\"CategoricalTicker\"},{\"attributes\":{\"line_alpha\":0.1,\"line_color\":\"#30a2da\",\"line_width\":2,\"x\":{\"field\":\"dia_semana\"},\"y\":{\"field\":\"users\"}},\"id\":\"5386\",\"type\":\"Line\"},{\"attributes\":{\"factors\":[\"1\",\"2\",\"3\",\"4\",\"5\",\"6\",\"7\"],\"tags\":[[[\"dia_semana\",\"dia_semana\",null]]]},\"id\":\"5294\",\"type\":\"FactorRange\"},{\"attributes\":{\"overlay\":{\"id\":\"5319\"}},\"id\":\"5317\",\"type\":\"BoxZoomTool\"},{\"attributes\":{\"line_color\":\"#30a2da\",\"line_width\":2,\"x\":{\"field\":\"dia_semana\"},\"y\":{\"field\":\"users\"}},\"id\":\"5385\",\"type\":\"Line\"},{\"attributes\":{\"x0\":{\"field\":\"x0\"},\"x1\":{\"field\":\"x1\"},\"y0\":{\"field\":\"y0\"},\"y1\":{\"field\":\"y1\"}},\"id\":\"5349\",\"type\":\"Segment\"},{\"attributes\":{\"source\":{\"id\":\"5361\"}},\"id\":\"5366\",\"type\":\"CDSView\"},{\"attributes\":{},\"id\":\"5332\",\"type\":\"AllLabels\"},{\"attributes\":{},\"id\":\"5392\",\"type\":\"Selection\"},{\"attributes\":{\"data_source\":{\"id\":\"5347\"},\"glyph\":{\"id\":\"5349\"},\"hover_glyph\":null,\"muted_glyph\":null,\"nonselection_glyph\":{\"id\":\"5350\"},\"selection_glyph\":{\"id\":\"5353\"},\"view\":{\"id\":\"5352\"}},\"id\":\"5351\",\"type\":\"GlyphRenderer\"},{\"attributes\":{},\"id\":\"5408\",\"type\":\"Selection\"},{\"attributes\":{\"data_source\":{\"id\":\"5391\"},\"glyph\":{\"id\":\"5394\"},\"hover_glyph\":null,\"muted_glyph\":{\"id\":\"5396\"},\"nonselection_glyph\":{\"id\":\"5395\"},\"selection_glyph\":{\"id\":\"5399\"},\"view\":{\"id\":\"5398\"}},\"id\":\"5397\",\"type\":\"GlyphRenderer\"},{\"attributes\":{},\"id\":\"5318\",\"type\":\"ResetTool\"},{\"attributes\":{\"axis_label\":\"users\",\"formatter\":{\"id\":\"5330\"},\"major_label_policy\":{\"id\":\"5332\"},\"ticker\":{\"id\":\"5311\"}},\"id\":\"5310\",\"type\":\"LinearAxis\"},{\"attributes\":{},\"id\":\"5414\",\"type\":\"Selection\"},{\"attributes\":{\"margin\":[5,5,5,5],\"name\":\"HSpacer10494\",\"sizing_mode\":\"stretch_width\"},\"id\":\"5634\",\"type\":\"Spacer\"},{\"attributes\":{},\"id\":\"5330\",\"type\":\"BasicTickFormatter\"},{\"attributes\":{\"line_alpha\":{\"value\":0.1},\"x0\":{\"field\":\"x0\"},\"x1\":{\"field\":\"x1\"},\"y0\":{\"field\":\"y0\"},\"y1\":{\"field\":\"y1\"}},\"id\":\"5364\",\"type\":\"Segment\"},{\"attributes\":{\"line_color\":\"#30a2da\",\"line_width\":2,\"x\":{\"field\":\"dia_semana\"},\"y\":{\"field\":\"users\"}},\"id\":\"5390\",\"type\":\"Line\"},{\"attributes\":{\"source\":{\"id\":\"5368\"}},\"id\":\"5373\",\"type\":\"CDSView\"},{\"attributes\":{},\"id\":\"5413\",\"type\":\"UnionRenderers\"},{\"attributes\":{},\"id\":\"5409\",\"type\":\"UnionRenderers\"},{\"attributes\":{\"bottom\":{\"field\":\"bottom\"},\"fill_color\":{\"value\":null},\"top\":{\"field\":\"top\"},\"width\":{\"value\":0.7},\"x\":{\"field\":\"index\"}},\"id\":\"5377\",\"type\":\"VBar\"},{\"attributes\":{},\"id\":\"5410\",\"type\":\"Selection\"},{\"attributes\":{\"line_alpha\":{\"value\":1.0},\"line_cap\":{\"value\":\"butt\"},\"line_color\":{\"value\":\"black\"},\"line_dash\":{\"value\":[]},\"line_dash_offset\":{\"value\":0},\"line_join\":{\"value\":\"bevel\"},\"line_width\":{\"value\":1},\"x0\":{\"field\":\"x0\"},\"x1\":{\"field\":\"x1\"},\"y0\":{\"field\":\"y0\"},\"y1\":{\"field\":\"y1\"}},\"id\":\"5346\",\"type\":\"Segment\"},{\"attributes\":{},\"id\":\"5411\",\"type\":\"UnionRenderers\"},{\"attributes\":{\"fill_color\":{\"value\":\"#30a2da\"},\"line_color\":{\"value\":\"#30a2da\"},\"size\":{\"value\":5.477225575051661},\"x\":{\"field\":\"dia_semana\"},\"y\":{\"field\":\"users\"}},\"id\":\"5394\",\"type\":\"Scatter\"},{\"attributes\":{\"end\":7474.4,\"reset_end\":7474.4,\"reset_start\":-534.4000000000001,\"start\":-534.4000000000001,\"tags\":[[[\"users\",\"users\",null]]]},\"id\":\"5295\",\"type\":\"Range1d\"},{\"attributes\":{\"data\":{\"x0\":[[\"1\",-0.2],[\"2\",-0.2],[\"3\",-0.2],[\"4\",-0.2],[\"5\",-0.2],[\"6\",-0.2],[\"7\",-0.2]],\"x1\":[[\"1\",0.2],[\"2\",0.2],[\"3\",0.2],[\"4\",0.2],[\"5\",0.2],[\"6\",0.2],[\"7\",0.2]],\"y0\":[5045,5265,5668,5565,5306,3861,3579],\"y1\":[5045,5265,5668,5565,5306,3861,3579]},\"selected\":{\"id\":\"5416\"},\"selection_policy\":{\"id\":\"5417\"}},\"id\":\"5361\",\"type\":\"ColumnDataSource\"},{\"attributes\":{\"bottom_units\":\"screen\",\"fill_alpha\":0.5,\"fill_color\":\"lightgrey\",\"left_units\":\"screen\",\"level\":\"overlay\",\"line_alpha\":1.0,\"line_color\":\"black\",\"line_dash\":[4,4],\"line_width\":2,\"right_units\":\"screen\",\"syncable\":false,\"top_units\":\"screen\"},\"id\":\"5319\",\"type\":\"BoxAnnotation\"},{\"attributes\":{\"data_source\":{\"id\":\"5340\"},\"glyph\":{\"id\":\"5342\"},\"hover_glyph\":null,\"muted_glyph\":null,\"nonselection_glyph\":{\"id\":\"5343\"},\"selection_glyph\":{\"id\":\"5346\"},\"view\":{\"id\":\"5345\"}},\"id\":\"5344\",\"type\":\"GlyphRenderer\"},{\"attributes\":{\"data_source\":{\"id\":\"5361\"},\"glyph\":{\"id\":\"5363\"},\"hover_glyph\":null,\"muted_glyph\":null,\"nonselection_glyph\":{\"id\":\"5364\"},\"selection_glyph\":{\"id\":\"5367\"},\"view\":{\"id\":\"5366\"}},\"id\":\"5365\",\"type\":\"GlyphRenderer\"},{\"attributes\":{\"callback\":null,\"renderers\":[{\"id\":\"5388\"},{\"id\":\"5397\"}],\"tags\":[\"hv_created\"],\"tooltips\":[[\"dia_semana\",\"@{dia_semana}\"],[\"users\",\"@{users}\"]]},\"id\":\"5296\",\"type\":\"HoverTool\"},{\"attributes\":{\"line_alpha\":{\"value\":0.1},\"x0\":{\"field\":\"x0\"},\"x1\":{\"field\":\"x1\"},\"y0\":{\"field\":\"y0\"},\"y1\":{\"field\":\"y1\"}},\"id\":\"5357\",\"type\":\"Segment\"},{\"attributes\":{\"below\":[{\"id\":\"5307\"}],\"center\":[{\"id\":\"5309\"},{\"id\":\"5313\"}],\"height\":300,\"left\":[{\"id\":\"5310\"}],\"margin\":[5,5,5,5],\"min_border_bottom\":10,\"min_border_left\":10,\"min_border_right\":10,\"min_border_top\":10,\"renderers\":[{\"id\":\"5337\"},{\"id\":\"5344\"},{\"id\":\"5351\"},{\"id\":\"5358\"},{\"id\":\"5365\"},{\"id\":\"5372\"},{\"id\":\"5379\"},{\"id\":\"5388\"},{\"id\":\"5397\"}],\"sizing_mode\":\"fixed\",\"title\":{\"id\":\"5299\"},\"toolbar\":{\"id\":\"5320\"},\"x_range\":{\"id\":\"5294\"},\"x_scale\":{\"id\":\"5303\"},\"y_range\":{\"id\":\"5295\"},\"y_scale\":{\"id\":\"5305\"}},\"id\":\"5298\",\"subtype\":\"Figure\",\"type\":\"Plot\"},{\"attributes\":{\"x0\":{\"field\":\"x0\"},\"x1\":{\"field\":\"x1\"},\"y0\":{\"field\":\"y0\"},\"y1\":{\"field\":\"y1\"}},\"id\":\"5356\",\"type\":\"Segment\"},{\"attributes\":{\"line_alpha\":{\"value\":1.0},\"line_cap\":{\"value\":\"butt\"},\"line_color\":{\"value\":\"black\"},\"line_dash\":{\"value\":[]},\"line_dash_offset\":{\"value\":0},\"line_join\":{\"value\":\"bevel\"},\"line_width\":{\"value\":1},\"x0\":{\"field\":\"x0\"},\"x1\":{\"field\":\"x1\"},\"y0\":{\"field\":\"y0\"},\"y1\":{\"field\":\"y1\"}},\"id\":\"5353\",\"type\":\"Segment\"},{\"attributes\":{\"angle\":{\"value\":0.0},\"fill_alpha\":{\"value\":1.0},\"fill_color\":{\"value\":null},\"hatch_alpha\":{\"value\":1.0},\"hatch_color\":{\"value\":\"black\"},\"hatch_scale\":{\"value\":12.0},\"hatch_weight\":{\"value\":1.0},\"line_alpha\":{\"value\":1.0},\"line_cap\":{\"value\":\"butt\"},\"line_color\":{\"value\":\"black\"},\"line_dash\":{\"value\":[]},\"line_dash_offset\":{\"value\":0},\"line_join\":{\"value\":\"bevel\"},\"line_width\":{\"value\":1},\"size\":{\"value\":4},\"x\":{\"field\":\"index\"},\"y\":{\"field\":\"users\"}},\"id\":\"5339\",\"type\":\"Circle\"},{\"attributes\":{\"fill_alpha\":{\"value\":0.1},\"fill_color\":{\"value\":\"#30a2da\"},\"line_alpha\":{\"value\":0.1},\"line_color\":{\"value\":\"#30a2da\"},\"size\":{\"value\":5.477225575051661},\"x\":{\"field\":\"dia_semana\"},\"y\":{\"field\":\"users\"}},\"id\":\"5395\",\"type\":\"Scatter\"},{\"attributes\":{\"bottom\":{\"field\":\"bottom\"},\"fill_alpha\":{\"value\":0.1},\"fill_color\":{\"value\":null},\"line_alpha\":{\"value\":0.1},\"top\":{\"field\":\"top\"},\"width\":{\"value\":0.7},\"x\":{\"field\":\"index\"}},\"id\":\"5378\",\"type\":\"VBar\"},{\"attributes\":{\"source\":{\"id\":\"5391\"}},\"id\":\"5398\",\"type\":\"CDSView\"},{\"attributes\":{\"axis\":{\"id\":\"5307\"},\"grid_line_color\":null,\"ticker\":null},\"id\":\"5309\",\"type\":\"Grid\"},{\"attributes\":{\"fill_alpha\":{\"value\":0.1},\"fill_color\":{\"value\":null},\"line_alpha\":{\"value\":0.1},\"x\":{\"field\":\"index\"},\"y\":{\"field\":\"users\"}},\"id\":\"5336\",\"type\":\"Circle\"},{\"attributes\":{\"fill_alpha\":{\"value\":0.2},\"fill_color\":{\"value\":\"#30a2da\"},\"line_alpha\":{\"value\":0.2},\"line_color\":{\"value\":\"#30a2da\"},\"size\":{\"value\":5.477225575051661},\"x\":{\"field\":\"dia_semana\"},\"y\":{\"field\":\"users\"}},\"id\":\"5396\",\"type\":\"Scatter\"},{\"attributes\":{},\"id\":\"5303\",\"type\":\"CategoricalScale\"},{\"attributes\":{\"source\":{\"id\":\"5347\"}},\"id\":\"5352\",\"type\":\"CDSView\"},{\"attributes\":{},\"id\":\"5383\",\"type\":\"Selection\"},{\"attributes\":{\"data\":{\"x0\":[[\"1\",-0.2],[\"2\",-0.2],[\"3\",-0.2],[\"4\",-0.2],[\"5\",-0.2],[\"6\",-0.2],[\"7\",-0.2]],\"x1\":[[\"1\",0.2],[\"2\",0.2],[\"3\",0.2],[\"4\",0.2],[\"5\",0.2],[\"6\",0.2],[\"7\",0.2]],\"y0\":[1432,1390,1278,785,472,863,133],\"y1\":[1432,1390,1278,785,472,863,133]},\"selected\":{\"id\":\"5414\"},\"selection_policy\":{\"id\":\"5415\"}},\"id\":\"5354\",\"type\":\"ColumnDataSource\"},{\"attributes\":{\"angle\":{\"value\":0.0},\"fill_alpha\":{\"value\":1.0},\"fill_color\":{\"value\":\"#30a2da\"},\"hatch_alpha\":{\"value\":1.0},\"hatch_color\":{\"value\":\"black\"},\"hatch_scale\":{\"value\":12.0},\"hatch_weight\":{\"value\":1.0},\"line_alpha\":{\"value\":1.0},\"line_cap\":{\"value\":\"butt\"},\"line_color\":{\"value\":\"#30a2da\"},\"line_dash\":{\"value\":[]},\"line_dash_offset\":{\"value\":0},\"line_join\":{\"value\":\"bevel\"},\"line_width\":{\"value\":1},\"marker\":{\"value\":\"circle\"},\"size\":{\"value\":5.477225575051661},\"x\":{\"field\":\"dia_semana\"},\"y\":{\"field\":\"users\"}},\"id\":\"5399\",\"type\":\"Scatter\"},{\"attributes\":{\"data\":{\"index\":[\"1\",\"1\",\"2\",\"2\",\"3\",\"3\",\"4\",\"4\",\"5\",\"6\",\"6\",\"7\"],\"users\":[5828,6117,6807,6298,6774,6587,6587,6671,6312,4073,4810,4110]},\"selected\":{\"id\":\"5408\"},\"selection_policy\":{\"id\":\"5409\"}},\"id\":\"5333\",\"type\":\"ColumnDataSource\"},{\"attributes\":{},\"id\":\"5418\",\"type\":\"Selection\"},{\"attributes\":{\"axis_label\":\"dia_semana\",\"formatter\":{\"id\":\"5329\"},\"major_label_policy\":{\"id\":\"5328\"},\"ticker\":{\"id\":\"5308\"}},\"id\":\"5307\",\"type\":\"CategoricalAxis\"},{\"attributes\":{\"data_source\":{\"id\":\"5368\"},\"glyph\":{\"id\":\"5370\"},\"hover_glyph\":null,\"muted_glyph\":null,\"nonselection_glyph\":{\"id\":\"5371\"},\"selection_glyph\":{\"id\":\"5374\"},\"view\":{\"id\":\"5373\"}},\"id\":\"5372\",\"type\":\"GlyphRenderer\"},{\"attributes\":{\"x0\":{\"field\":\"x0\"},\"x1\":{\"field\":\"x1\"},\"y0\":{\"field\":\"y0\"},\"y1\":{\"field\":\"y1\"}},\"id\":\"5342\",\"type\":\"Segment\"},{\"attributes\":{\"bottom\":{\"field\":\"bottom\"},\"fill_color\":{\"value\":null},\"top\":{\"field\":\"top\"},\"width\":{\"value\":0.7},\"x\":{\"field\":\"index\"}},\"id\":\"5370\",\"type\":\"VBar\"},{\"attributes\":{\"fill_color\":{\"value\":null},\"x\":{\"field\":\"index\"},\"y\":{\"field\":\"users\"}},\"id\":\"5335\",\"type\":\"Circle\"},{\"attributes\":{},\"id\":\"5417\",\"type\":\"UnionRenderers\"},{\"attributes\":{\"line_alpha\":{\"value\":0.1},\"x0\":{\"field\":\"x0\"},\"x1\":{\"field\":\"x1\"},\"y0\":{\"field\":\"y0\"},\"y1\":{\"field\":\"y1\"}},\"id\":\"5343\",\"type\":\"Segment\"},{\"attributes\":{\"data\":{\"dia_semana\":[\"1\",\"2\",\"3\",\"4\",\"5\",\"6\",\"7\"],\"users\":{\"__ndarray__\":\"AAAAAABVpEAAAAAAALmmQAAAAAAAQKdAAAAAAABrpkAAAAAAAH2lQAAAAAAAhp9AAAAAAAB6m0A=\",\"dtype\":\"float64\",\"order\":\"little\",\"shape\":[7]}},\"selected\":{\"id\":\"5392\"},\"selection_policy\":{\"id\":\"5425\"}},\"id\":\"5391\",\"type\":\"ColumnDataSource\"},{\"attributes\":{\"text\":\"Distribuci\\u00f3n de visitas por d\\u00eda de la semana\",\"text_color\":\"black\",\"text_font_size\":\"12pt\"},\"id\":\"5299\",\"type\":\"Title\"},{\"attributes\":{},\"id\":\"5412\",\"type\":\"Selection\"},{\"attributes\":{\"bottom\":{\"field\":\"bottom\"},\"fill_alpha\":{\"value\":1.0},\"fill_color\":{\"value\":null},\"hatch_alpha\":{\"value\":1.0},\"hatch_color\":{\"value\":\"black\"},\"hatch_scale\":{\"value\":12.0},\"hatch_weight\":{\"value\":1.0},\"line_alpha\":{\"value\":1.0},\"line_cap\":{\"value\":\"butt\"},\"line_color\":{\"value\":\"black\"},\"line_dash\":{\"value\":[]},\"line_dash_offset\":{\"value\":0},\"line_join\":{\"value\":\"bevel\"},\"line_width\":{\"value\":1},\"top\":{\"field\":\"top\"},\"width\":{\"value\":0.7},\"x\":{\"field\":\"index\"}},\"id\":\"5374\",\"type\":\"VBar\"},{\"attributes\":{\"data\":{\"x0\":[\"1\",\"2\",\"3\",\"4\",\"5\",\"6\",\"7\"],\"x1\":[\"1\",\"2\",\"3\",\"4\",\"5\",\"6\",\"7\"],\"y0\":[5045,5265,5668,5565,5306,3861,3579],\"y1\":{\"__ndarray__\":\"AAAAAADjqkAAAAAAAJ2tQAAAAAAAGK5AAAAAAABxrUAAAAAAAEarQAAAAACAd6RAAAAAAIBPokA=\",\"dtype\":\"float64\",\"order\":\"little\",\"shape\":[7]}},\"selected\":{\"id\":\"5410\"},\"selection_policy\":{\"id\":\"5411\"}},\"id\":\"5340\",\"type\":\"ColumnDataSource\"},{\"attributes\":{},\"id\":\"5416\",\"type\":\"Selection\"},{\"attributes\":{},\"id\":\"5415\",\"type\":\"UnionRenderers\"},{\"attributes\":{\"line_alpha\":{\"value\":1.0},\"line_cap\":{\"value\":\"butt\"},\"line_color\":{\"value\":\"black\"},\"line_dash\":{\"value\":[]},\"line_dash_offset\":{\"value\":0},\"line_join\":{\"value\":\"bevel\"},\"line_width\":{\"value\":1},\"x0\":{\"field\":\"x0\"},\"x1\":{\"field\":\"x1\"},\"y0\":{\"field\":\"y0\"},\"y1\":{\"field\":\"y1\"}},\"id\":\"5360\",\"type\":\"Segment\"},{\"attributes\":{\"data_source\":{\"id\":\"5333\"},\"glyph\":{\"id\":\"5335\"},\"hover_glyph\":null,\"muted_glyph\":null,\"nonselection_glyph\":{\"id\":\"5336\"},\"selection_glyph\":{\"id\":\"5339\"},\"view\":{\"id\":\"5338\"}},\"id\":\"5337\",\"type\":\"GlyphRenderer\"},{\"attributes\":{\"data\":{\"x0\":[\"1\",\"2\",\"3\",\"4\",\"5\",\"6\",\"7\"],\"x1\":[\"1\",\"2\",\"3\",\"4\",\"5\",\"6\",\"7\"],\"y0\":[1432,1390,1278,785,472,863,133],\"y1\":{\"__ndarray__\":\"AAAAAAAhoUAAAAAAgNmhQAAAAAAANKJAAAAAAABHokAAAAAAgA6hQAAAAAAAAZpAAAAAAABnlkA=\",\"dtype\":\"float64\",\"order\":\"little\",\"shape\":[7]}},\"selected\":{\"id\":\"5412\"},\"selection_policy\":{\"id\":\"5413\"}},\"id\":\"5347\",\"type\":\"ColumnDataSource\"}],\"root_ids\":[\"5292\"]},\"title\":\"Bokeh Application\",\"version\":\"2.3.3\"}};\n",
       "    var render_items = [{\"docid\":\"d4ecff6f-03df-43e1-a06a-55b93a31a447\",\"root_ids\":[\"5292\"],\"roots\":{\"5292\":\"57d9caca-5e80-4c6d-9c6a-d3519f13d991\"}}];\n",
       "    root.Bokeh.embed.embed_items_notebook(docs_json, render_items);\n",
       "  }\n",
       "  if (root.Bokeh !== undefined && root.Bokeh.Panel !== undefined) {\n",
       "    embed_document(root);\n",
       "  } else {\n",
       "    var attempts = 0;\n",
       "    var timer = setInterval(function(root) {\n",
       "      if (root.Bokeh !== undefined && root.Bokeh.Panel !== undefined) {\n",
       "        clearInterval(timer);\n",
       "        embed_document(root);\n",
       "      } else if (document.readyState == \"complete\") {\n",
       "        attempts++;\n",
       "        if (attempts > 200) {\n",
       "          clearInterval(timer);\n",
       "          console.log(\"Bokeh: ERROR: Unable to run BokehJS code because BokehJS library is missing\");\n",
       "        }\n",
       "      }\n",
       "    }, 25, root)\n",
       "  }\n",
       "})(window);</script>"
      ],
      "text/plain": [
       ":Overlay\n",
       "   .BoxWhisker.I  :BoxWhisker   [dia_semana]   (users)\n",
       "   .Curve.Users   :Curve   [dia_semana]   (users)\n",
       "   .Scatter.Users :Scatter   [dia_semana]   (users)"
      ]
     },
     "execution_count": 30,
     "metadata": {
      "application/vnd.holoviews_exec.v0+json": {
       "id": "5292"
      }
     },
     "output_type": "execute_result"
    }
   ],
   "source": [
    "# Gráfico boxplot para estacionalidad semanal\n",
    "# ==============================================================================\n",
    "# fig, ax = plt.subplots(figsize=(7, 3.5))\n",
    "# datos['dia_semana'] = datos.index.day_of_week + 1\n",
    "# datos.boxplot(column='users', by='dia_semana', ax=ax)\n",
    "# datos.groupby('dia_semana')['users'].median().plot(style='o-', linewidth=0.8, ax=ax)\n",
    "# ax.set_ylabel('users')\n",
    "# ax.set_title('Distribución visitas por día de la semana')\n",
    "# fig.suptitle('');\n",
    "\n",
    "datos['dia_semana'] = datos.index.day_of_week + 1\n",
    "boxplot = datos.sort_values('dia_semana').hvplot.box(\n",
    "            y                  = 'users',\n",
    "            by                 = 'dia_semana',\n",
    "            legend             = False,\n",
    "            box_fill_color     = None,\n",
    "            outlier_fill_color = None\n",
    "         )\n",
    "lineplot = datos.groupby('dia_semana')['users'].median().hvplot.line(legend=False)\n",
    "scatterplot = datos.groupby('dia_semana')['users'].median().hvplot.scatter(legend=False)\n",
    "layout = boxplot * lineplot * scatterplot\n",
    "layout = layout.opts(\n",
    "            title  = 'Distribución de visitas por día de la semana',\n",
    "            ylabel = 'users',\n",
    "            width  = 600\n",
    "         )\n",
    "layout"
   ]
  },
  {
   "cell_type": "markdown",
   "metadata": {},
   "source": [
    "Al no disponer de dos años de histórico completos, no se puede determinar si existe una estacionalidad anual. Sí se aprecia una estacionalidad semanal, con una reducción del tráfico web los fines de semana."
   ]
  },
  {
   "cell_type": "markdown",
   "metadata": {},
   "source": [
    "**Gráficos de autocorrelación**"
   ]
  },
  {
   "cell_type": "code",
   "execution_count": 31,
   "metadata": {},
   "outputs": [
    {
     "data": {
      "image/png": "[encoded data removed]",
      "text/plain": [
       "<Figure size 504x216 with 1 Axes>"
      ]
     },
     "metadata": {},
     "output_type": "display_data"
    }
   ],
   "source": [
    "# Gráfico autocorrelación\n",
    "# ==============================================================================\n",
    "fig, ax = plt.subplots(figsize=(7, 3))\n",
    "plot_acf(datos.users, ax=ax, lags=50)\n",
    "plt.show()"
   ]
  },
  {
   "cell_type": "code",
   "execution_count": 32,
   "metadata": {},
   "outputs": [
    {
     "data": {
      "image/png": "[encoded data removed]",
      "text/plain": [
       "<Figure size 504x216 with 1 Axes>"
      ]
     },
     "metadata": {},
     "output_type": "display_data"
    }
   ],
   "source": [
    "# Gráfico autocorrelación parcial\n",
    "# ==============================================================================\n",
    "fig, ax = plt.subplots(figsize=(7, 3))\n",
    "plot_pacf(datos.users, ax=ax, lags=50)\n",
    "plt.show()"
   ]
  },
  {
   "cell_type": "markdown",
   "metadata": {},
   "source": [
    "Los gráficos de autocorrelación y autocorrelación parcial muestran una clara asociación entre el número de usuarios un día y los días anteriores. Este tipo de correlación, es un indicativo de que los modelos autorregresivos pueden funcionar bien.\n",
    "<br><br>"
   ]
  },
  {
   "cell_type": "markdown",
   "metadata": {},
   "source": [
    "## Modelo autoregresivo recursivo\n",
    "<br>\n",
    "\n",
    "Se crea y entrena un modelo autorregresivo recursivo (`ForecasterAutoreg`) a partir de un modelo de [regresión lineal con penalización Ridge](https://www.cienciadedatos.net/documentos/py14-ridge-lasso-elastic-net-python.html) y una ventana temporal de 2 semanas (14 lags). Esto último significa que, para cada predicción, se utilizan como predictores el tráfico que tuvo la página los 14 días anteriores.\n",
    "\n",
    "Los modelos Ridge requieren que los predictores se estandaricen. Con este fin, se combinan en un mismo `pipeline` un regressor `Ridge` y un `StandarScaler`. Para conocer más sobre el uso de las funcionalidades de sklearn consultar [Machine learning con Python y Scikit-learn](https://www.cienciadedatos.net/documentos/py06_machine_learning_python_scikitlearn.html#Pipeline-y-ColumnTransformer)."
   ]
  },
  {
   "cell_type": "markdown",
   "metadata": {},
   "source": [
    "### Entrenamiento del Forecaster"
   ]
  },
  {
   "cell_type": "code",
   "execution_count": 33,
   "metadata": {},
   "outputs": [
    {
     "data": {
      "text/plain": [
       "================= \n",
       "ForecasterAutoreg \n",
       "================= \n",
       "Regressor: Pipeline(steps=[('standardscaler', StandardScaler()),\n",
       "                ('ridge', Ridge(random_state=123))]) \n",
       "Lags: [ 1  2  3  4  5  6  7  8  9 10 11 12 13 14] \n",
       "Window size: 14 \n",
       "Included exogenous: False \n",
       "Type of exogenous variable: None \n",
       "Exogenous variables names: None \n",
       "Training range: [Timestamp('2020-07-01 00:00:00'), Timestamp('2021-03-30 00:00:00')] \n",
       "Training index type: DatetimeIndex \n",
       "Training index frequency: D \n",
       "Regressor parameters: {'standardscaler__copy': True, 'standardscaler__with_mean': True, 'standardscaler__with_std': True, 'ridge__alpha': 1.0, 'ridge__copy_X': True, 'ridge__fit_intercept': True, 'ridge__max_iter': None, 'ridge__normalize': 'deprecated', 'ridge__positive': False, 'ridge__random_state': 123, 'ridge__solver': 'auto', 'ridge__tol': 0.001} \n",
       "Creation date: 2022-01-01 19:53:20 \n",
       "Last fit date: 2022-01-01 19:53:20 \n",
       "Skforecast version: 0.4.2 "
      ]
     },
     "execution_count": 33,
     "metadata": {},
     "output_type": "execute_result"
    }
   ],
   "source": [
    "# Crear y entrenar forecaster\n",
    "# ==============================================================================\n",
    "forecaster = ForecasterAutoreg(\n",
    "                regressor = make_pipeline(StandardScaler(), Ridge(random_state=123)),\n",
    "                lags      = 14\n",
    "             )\n",
    "\n",
    "forecaster.fit(y=datos_train.users)\n",
    "forecaster"
   ]
  },
  {
   "cell_type": "markdown",
   "metadata": {},
   "source": [
    "### Predicción (*backtest*)\n",
    "<br>\n",
    "\n",
    "Se evalúa el comportamiento que habría tenido el modelo si se hubiese entrenado con los datos desde 2020-07-01 al 2021-06-30 y, después, se realizasen predicciones de 7 en 7 días sin reentrenar el modelo. A este tipo de evaluación se le conoce como [*backtesting*](https://es.wikipedia.org/wiki/Backtesting), y puede aplicarse fácilmente con la función `backtesting_forecaster()`. Esta función devuelve, además de las predicciones, una métrica de error."
   ]
  },
  {
   "cell_type": "code",
   "execution_count": 34,
   "metadata": {},
   "outputs": [
    {
     "name": "stdout",
     "output_type": "stream",
     "text": [
      "Information of backtesting process\n",
      "----------------------------------\n",
      "Number of observations used for initial training or as initial window: 365\n",
      "Number of observations used for backtesting: 56\n",
      "    Number of folds: 8\n",
      "    Number of steps per fold: 7\n",
      "\n",
      "Data partition in fold: 0\n",
      "    Training:   2020-07-01 00:00:00 -- 2021-06-30 00:00:00\n",
      "    Validation: 2021-07-01 00:00:00 -- 2021-07-07 00:00:00\n",
      "Data partition in fold: 1\n",
      "    Training:   2020-07-01 00:00:00 -- 2021-06-30 00:00:00\n",
      "    Validation: 2021-07-08 00:00:00 -- 2021-07-14 00:00:00\n",
      "Data partition in fold: 2\n",
      "    Training:   2020-07-01 00:00:00 -- 2021-06-30 00:00:00\n",
      "    Validation: 2021-07-15 00:00:00 -- 2021-07-21 00:00:00\n",
      "Data partition in fold: 3\n",
      "    Training:   2020-07-01 00:00:00 -- 2021-06-30 00:00:00\n",
      "    Validation: 2021-07-22 00:00:00 -- 2021-07-28 00:00:00\n",
      "Data partition in fold: 4\n",
      "    Training:   2020-07-01 00:00:00 -- 2021-06-30 00:00:00\n",
      "    Validation: 2021-07-29 00:00:00 -- 2021-08-04 00:00:00\n",
      "Data partition in fold: 5\n",
      "    Training:   2020-07-01 00:00:00 -- 2021-06-30 00:00:00\n",
      "    Validation: 2021-08-05 00:00:00 -- 2021-08-11 00:00:00\n",
      "Data partition in fold: 6\n",
      "    Training:   2020-07-01 00:00:00 -- 2021-06-30 00:00:00\n",
      "    Validation: 2021-08-12 00:00:00 -- 2021-08-18 00:00:00\n",
      "Data partition in fold: 7\n",
      "    Training:   2020-07-01 00:00:00 -- 2021-06-30 00:00:00\n",
      "    Validation: 2021-08-19 00:00:00 -- 2021-08-25 00:00:00\n",
      "\n",
      "Error backtest: [220.91842071]\n"
     ]
    },
    {
     "data": {
      "text/html": [
       "<div>\n",
       "<style scoped>\n",
       "    .dataframe tbody tr th:only-of-type {\n",
       "        vertical-align: middle;\n",
       "    }\n",
       "\n",
       "    .dataframe tbody tr th {\n",
       "        vertical-align: top;\n",
       "    }\n",
       "\n",
       "    .dataframe thead th {\n",
       "        text-align: right;\n",
       "    }\n",
       "</style>\n",
       "<table border=\"1\" class=\"dataframe\">\n",
       "  <thead>\n",
       "    <tr style=\"text-align: right;\">\n",
       "      <th></th>\n",
       "      <th>pred</th>\n",
       "    </tr>\n",
       "  </thead>\n",
       "  <tbody>\n",
       "    <tr>\n",
       "      <th>2021-07-01</th>\n",
       "      <td>3200.360985</td>\n",
       "    </tr>\n",
       "    <tr>\n",
       "      <th>2021-07-02</th>\n",
       "      <td>2998.779152</td>\n",
       "    </tr>\n",
       "    <tr>\n",
       "      <th>2021-07-03</th>\n",
       "      <td>2257.136347</td>\n",
       "    </tr>\n",
       "    <tr>\n",
       "      <th>2021-07-04</th>\n",
       "      <td>2039.233702</td>\n",
       "    </tr>\n",
       "    <tr>\n",
       "      <th>2021-07-05</th>\n",
       "      <td>2998.728288</td>\n",
       "    </tr>\n",
       "  </tbody>\n",
       "</table>\n",
       "</div>"
      ],
      "text/plain": [
       "                   pred\n",
       "2021-07-01  3200.360985\n",
       "2021-07-02  2998.779152\n",
       "2021-07-03  2257.136347\n",
       "2021-07-04  2039.233702\n",
       "2021-07-05  2998.728288"
      ]
     },
     "execution_count": 34,
     "metadata": {},
     "output_type": "execute_result"
    }
   ],
   "source": [
    "# Backtest\n",
    "# ==============================================================================\n",
    "metrica, predicciones = backtesting_forecaster(\n",
    "                            forecaster = forecaster,\n",
    "                            y          = datos.users,\n",
    "                            initial_train_size = len(datos.loc[:fin_validacion]),\n",
    "                            steps      = 7,\n",
    "                            refit      = False,\n",
    "                            metric     = 'mean_absolute_error',\n",
    "                            verbose    = True\n",
    "                        )\n",
    "\n",
    "print(f'Error backtest: {metrica}')\n",
    "predicciones.head(5)"
   ]
  },
  {
   "cell_type": "code",
   "execution_count": 35,
   "metadata": {},
   "outputs": [
    {
     "data": {},
     "metadata": {},
     "output_type": "display_data"
    },
    {
     "data": {
      "application/vnd.holoviews_exec.v0+json": "",
      "text/html": [
       "<div id='5766'>\n",
       "\n",
       "\n",
       "\n",
       "\n",
       "\n",
       "  <div class=\"bk-root\" id=\"5f25bf06-503b-49b0-9fbd-dbe8bb9809ea\" data-root-id=\"5766\"></div>\n",
       "</div>\n",
       "<script type=\"application/javascript\">(function(root) {\n",
       "  function embed_document(root) {\n",
       "    var docs_json = {\"7042a486-09b3-4336-9e93-540fd4da17a8\":{\"defs\":[{\"extends\":null,\"module\":null,\"name\":\"ReactiveHTML1\",\"overrides\":[],\"properties\":[]},{\"extends\":null,\"module\":null,\"name\":\"FlexBox1\",\"overrides\":[],\"properties\":[{\"default\":\"flex-start\",\"kind\":null,\"name\":\"align_content\"},{\"default\":\"flex-start\",\"kind\":null,\"name\":\"align_items\"},{\"default\":\"row\",\"kind\":null,\"name\":\"flex_direction\"},{\"default\":\"wrap\",\"kind\":null,\"name\":\"flex_wrap\"},{\"default\":\"flex-start\",\"kind\":null,\"name\":\"justify_content\"}]},{\"extends\":null,\"module\":null,\"name\":\"TemplateActions1\",\"overrides\":[],\"properties\":[{\"default\":0,\"kind\":null,\"name\":\"open_modal\"},{\"default\":0,\"kind\":null,\"name\":\"close_modal\"}]},{\"extends\":null,\"module\":null,\"name\":\"MaterialTemplateActions1\",\"overrides\":[],\"properties\":[{\"default\":0,\"kind\":null,\"name\":\"open_modal\"},{\"default\":0,\"kind\":null,\"name\":\"close_modal\"}]}],\"roots\":{\"references\":[{\"attributes\":{},\"id\":\"5786\",\"type\":\"BasicTicker\"},{\"attributes\":{\"children\":[{\"id\":\"5767\"},{\"id\":\"5772\"},{\"id\":\"6092\"}],\"margin\":[0,0,0,0],\"name\":\"Row11365\",\"tags\":[\"embedded\"]},\"id\":\"5766\",\"type\":\"Row\"},{\"attributes\":{\"axis\":{\"id\":\"5781\"},\"grid_line_color\":null,\"ticker\":null},\"id\":\"5784\",\"type\":\"Grid\"},{\"attributes\":{\"label\":{\"value\":\"test\"},\"renderers\":[{\"id\":\"5815\"}]},\"id\":\"5840\",\"type\":\"LegendItem\"},{\"attributes\":{\"data\":{\"index\":{\"__ndarray__\":\"AADA1/Wld0IAAIA9SKZ3QgAAQKOapndCAAAACe2md0IAAMBuP6d3QgAAgNSRp3dCAABAOuSnd0IAAACgNqh3QgAAwAWJqHdCAACAa9uod0IAAEDRLal3QgAAADeAqXdCAADAnNKpd0IAAIACJap3QgAAQGh3qndCAAAAzsmqd0IAAMAzHKt3QgAAgJluq3dCAABA/8Crd0IAAABlE6x3QgAAwMplrHdCAACAMLisd0IAAECWCq13QgAAAPxcrXdCAADAYa+td0IAAIDHAa53QgAAQC1UrndCAAAAk6aud0IAAMD4+K53QgAAgF5Lr3dCAABAxJ2vd0IAAAAq8K93QgAAwI9CsHdCAACA9ZSwd0IAAEBb57B3QgAAAME5sXdCAADAJoyxd0IAAICM3rF3QgAAQPIwsndCAAAAWIOyd0IAAMC91bJ3QgAAgCMos3dCAABAiXqzd0IAAADvzLN3QgAAwFQftHdCAACAunG0d0IAAEAgxLR3QgAAAIYWtXdCAADA62i1d0IAAIBRu7V3QgAAQLcNtndCAAAAHWC2d0IAAMCCsrZ3QgAAgOgEt3dCAABATle3d0IAAAC0qbd3Qg==\",\"dtype\":\"float64\",\"order\":\"little\",\"shape\":[56]},\"pred\":{\"__ndarray__\":\"Ld8E07gAqUB+HAXtjm2nQAJ5Tc9FoqFABneoT+/cn0C50SnidG2nQC5HjD1m2alAAOSc8FLhqUCLsNJkgiCmQGtsOY4WOaRAJvxC0iOfnUBTUGm/M86bQJDM7IKNYaRAl/0qzcU7p0DpmRExHnenQERDbTD0P6dA33nAIzM6pUBsrc4xmk+fQOoZM6Y95ZtAEpUmzQIzpUCQJDldUFWoQG43H0ltQqlA1wtYxSDfokDadYeRX8WgQPi23LNKQ5hAfWfXwvDAlUDwSwWDU6ChQOaFye5dUaNAtAXp1+kZpEBo1f9whoCiQA+YjAqN9aJAe/VrzfmKmkC3QvSs11qXQNLv9NtWhqJAiTUNB+UlpEA114MbE76iQI06ZrsYQ6NA+Dws/dA+oUC+OWcI9W2XQPz3wghrRIZA8MLv64vfoUD6Wk0uA3akQNLipLpssKRA8CBxFo3aoUAS/NKDk5OfQF99V+j2TJhAsK6WXTQIlEAIe9JqiuueQOG67hv1OKJAv+p1Ue1kokDaiiTE3NijQCbqT+wosqFAL/9GXknPmkB/47V/Is+YQNdBaw1znKBAcyINEHVdo0Ah0+0dRROlQA==\",\"dtype\":\"float64\",\"order\":\"little\",\"shape\":[56]}},\"selected\":{\"id\":\"5843\"},\"selection_policy\":{\"id\":\"5861\"}},\"id\":\"5842\",\"type\":\"ColumnDataSource\"},{\"attributes\":{},\"id\":\"5810\",\"type\":\"Selection\"},{\"attributes\":{\"days\":[1,8,15,22]},\"id\":\"5832\",\"type\":\"DaysTicker\"},{\"attributes\":{\"line_color\":\"#fc4f30\",\"line_width\":2,\"x\":{\"field\":\"index\"},\"y\":{\"field\":\"pred\"}},\"id\":\"5845\",\"type\":\"Line\"},{\"attributes\":{\"days\":[1,2,3,4,5,6,7,8,9,10,11,12,13,14,15,16,17,18,19,20,21,22,23,24,25,26,27,28,29,30,31]},\"id\":\"5830\",\"type\":\"DaysTicker\"},{\"attributes\":{\"days\":[1,15]},\"id\":\"5833\",\"type\":\"DaysTicker\"},{\"attributes\":{\"axis_label\":\"users\",\"formatter\":{\"id\":\"5806\"},\"major_label_policy\":{\"id\":\"5808\"},\"ticker\":{\"id\":\"5786\"}},\"id\":\"5785\",\"type\":\"LinearAxis\"},{\"attributes\":{\"axis\":{\"id\":\"5785\"},\"dimension\":1,\"grid_line_color\":null,\"ticker\":null},\"id\":\"5788\",\"type\":\"Grid\"},{\"attributes\":{\"days\":[1,4,7,10,13,16,19,22,25,28]},\"id\":\"5831\",\"type\":\"DaysTicker\"},{\"attributes\":{\"line_color\":\"#30a2da\",\"line_width\":2,\"x\":{\"field\":\"date\"},\"y\":{\"field\":\"users\"}},\"id\":\"5812\",\"type\":\"Line\"},{\"attributes\":{\"data\":{\"date\":{\"__ndarray__\":\"AADA1/Wld0IAAIA9SKZ3QgAAQKOapndCAAAACe2md0IAAMBuP6d3QgAAgNSRp3dCAABAOuSnd0IAAACgNqh3QgAAwAWJqHdCAACAa9uod0IAAEDRLal3QgAAADeAqXdCAADAnNKpd0IAAIACJap3QgAAQGh3qndCAAAAzsmqd0IAAMAzHKt3QgAAgJluq3dCAABA/8Crd0IAAABlE6x3QgAAwMplrHdCAACAMLisd0IAAECWCq13QgAAAPxcrXdCAADAYa+td0IAAIDHAa53QgAAQC1UrndCAAAAk6aud0IAAMD4+K53QgAAgF5Lr3dCAABAxJ2vd0IAAAAq8K93QgAAwI9CsHdCAACA9ZSwd0IAAEBb57B3QgAAAME5sXdCAADAJoyxd0IAAICM3rF3QgAAQPIwsndCAAAAWIOyd0IAAMC91bJ3QgAAgCMos3dCAABAiXqzd0IAAADvzLN3QgAAwFQftHdCAACAunG0d0IAAEAgxLR3QgAAAIYWtXdCAADA62i1d0IAAIBRu7V3QgAAQLcNtndCAAAAHWC2d0IAAMCCsrZ3QgAAgOgEt3dCAABATle3d0IAAAC0qbd3Qg==\",\"dtype\":\"float64\",\"order\":\"little\",\"shape\":[56]},\"users\":[3123,2870,2020,1828,2722,2991,2976,2834,2609,1832,1462,2563,2897,3057,2697,2391,1730,1434,2455,2508,2563,2447,2543,1714,1415,2407,2587,2314,2465,2088,1535,133,2146,2266,2330,2323,2003,1406,1239,1989,2268,2249,2322,2098,1477,1308,1920,2219,2482,2345,2185,1546,1393,2371,2547,2448]},\"selected\":{\"id\":\"5810\"},\"selection_policy\":{\"id\":\"5826\"}},\"id\":\"5809\",\"type\":\"ColumnDataSource\"},{\"attributes\":{\"margin\":[5,5,5,5],\"name\":\"HSpacer11370\",\"sizing_mode\":\"stretch_width\"},\"id\":\"6092\",\"type\":\"Spacer\"},{\"attributes\":{\"line_alpha\":0.1,\"line_color\":\"#30a2da\",\"line_width\":2,\"x\":{\"field\":\"date\"},\"y\":{\"field\":\"users\"}},\"id\":\"5813\",\"type\":\"Line\"},{\"attributes\":{\"bottom_units\":\"screen\",\"fill_alpha\":0.5,\"fill_color\":\"lightgrey\",\"left_units\":\"screen\",\"level\":\"overlay\",\"line_alpha\":1.0,\"line_color\":\"black\",\"line_dash\":[4,4],\"line_width\":2,\"right_units\":\"screen\",\"syncable\":false,\"top_units\":\"screen\"},\"id\":\"5794\",\"type\":\"BoxAnnotation\"},{\"attributes\":{\"active_multi\":null,\"tools\":[{\"id\":\"5770\"},{\"id\":\"5771\"},{\"id\":\"5789\"},{\"id\":\"5790\"},{\"id\":\"5791\"},{\"id\":\"5792\"},{\"id\":\"5793\"}]},\"id\":\"5795\",\"type\":\"Toolbar\"},{\"attributes\":{},\"id\":\"5826\",\"type\":\"UnionRenderers\"},{\"attributes\":{},\"id\":\"5808\",\"type\":\"AllLabels\"},{\"attributes\":{},\"id\":\"5789\",\"type\":\"SaveTool\"},{\"attributes\":{\"line_alpha\":0.2,\"line_color\":\"#fc4f30\",\"line_width\":2,\"x\":{\"field\":\"index\"},\"y\":{\"field\":\"pred\"}},\"id\":\"5847\",\"type\":\"Line\"},{\"attributes\":{\"click_policy\":\"mute\",\"items\":[{\"id\":\"5840\"},{\"id\":\"5874\"}],\"location\":\"bottom_left\"},\"id\":\"5839\",\"type\":\"Legend\"},{\"attributes\":{\"callback\":null,\"formatters\":{\"@{date}\":\"datetime\"},\"renderers\":[{\"id\":\"5815\"}],\"tags\":[\"hv_created\"],\"tooltips\":[[\"date\",\"@{date}{%F %T}\"],[\"users\",\"@{users}\"]]},\"id\":\"5770\",\"type\":\"HoverTool\"},{\"attributes\":{},\"id\":\"5843\",\"type\":\"Selection\"},{\"attributes\":{\"below\":[{\"id\":\"5781\"}],\"center\":[{\"id\":\"5784\"},{\"id\":\"5788\"},{\"id\":\"5839\"}],\"height\":300,\"left\":[{\"id\":\"5785\"}],\"margin\":[5,5,5,5],\"min_border_bottom\":10,\"min_border_left\":10,\"min_border_right\":10,\"min_border_top\":10,\"renderers\":[{\"id\":\"5815\"},{\"id\":\"5848\"}],\"sizing_mode\":\"fixed\",\"title\":{\"id\":\"5773\"},\"toolbar\":{\"id\":\"5795\"},\"width\":700,\"x_range\":{\"id\":\"5768\"},\"x_scale\":{\"id\":\"5777\"},\"y_range\":{\"id\":\"5769\"},\"y_scale\":{\"id\":\"5779\"}},\"id\":\"5772\",\"subtype\":\"Figure\",\"type\":\"Plot\"},{\"attributes\":{},\"id\":\"5790\",\"type\":\"PanTool\"},{\"attributes\":{\"data_source\":{\"id\":\"5809\"},\"glyph\":{\"id\":\"5812\"},\"hover_glyph\":null,\"muted_glyph\":{\"id\":\"5814\"},\"nonselection_glyph\":{\"id\":\"5813\"},\"selection_glyph\":{\"id\":\"5841\"},\"view\":{\"id\":\"5816\"}},\"id\":\"5815\",\"type\":\"GlyphRenderer\"},{\"attributes\":{\"data_source\":{\"id\":\"5842\"},\"glyph\":{\"id\":\"5845\"},\"hover_glyph\":null,\"muted_glyph\":{\"id\":\"5847\"},\"nonselection_glyph\":{\"id\":\"5846\"},\"selection_glyph\":{\"id\":\"5875\"},\"view\":{\"id\":\"5849\"}},\"id\":\"5848\",\"type\":\"GlyphRenderer\"},{\"attributes\":{\"end\":3630.6281911784317,\"reset_end\":3630.6281911784317,\"reset_start\":-184.96619919803925,\"start\":-184.96619919803925,\"tags\":[[[\"users\",\"users\",null]]]},\"id\":\"5769\",\"type\":\"Range1d\"},{\"attributes\":{\"callback\":null,\"formatters\":{\"@{index}\":\"datetime\"},\"renderers\":[{\"id\":\"5848\"}],\"tags\":[\"hv_created\"],\"tooltips\":[[\"index\",\"@{index}{%F %T}\"],[\"pred\",\"@{pred}\"]]},\"id\":\"5771\",\"type\":\"HoverTool\"},{\"attributes\":{},\"id\":\"5791\",\"type\":\"WheelZoomTool\"},{\"attributes\":{\"line_alpha\":0.2,\"line_color\":\"#30a2da\",\"line_width\":2,\"x\":{\"field\":\"date\"},\"y\":{\"field\":\"users\"}},\"id\":\"5814\",\"type\":\"Line\"},{\"attributes\":{},\"id\":\"5793\",\"type\":\"ResetTool\"},{\"attributes\":{},\"id\":\"5805\",\"type\":\"AllLabels\"},{\"attributes\":{\"end\":1629849600000.0,\"reset_end\":1629849600000.0,\"reset_start\":1625097600000.0,\"start\":1625097600000.0,\"tags\":[[[\"date\",\"date\",null]]]},\"id\":\"5768\",\"type\":\"Range1d\"},{\"attributes\":{\"line_color\":\"#30a2da\",\"line_width\":2,\"x\":{\"field\":\"date\"},\"y\":{\"field\":\"users\"}},\"id\":\"5841\",\"type\":\"Line\"},{\"attributes\":{\"line_alpha\":0.1,\"line_color\":\"#fc4f30\",\"line_width\":2,\"x\":{\"field\":\"index\"},\"y\":{\"field\":\"pred\"}},\"id\":\"5846\",\"type\":\"Line\"},{\"attributes\":{\"text\":\"Predicci\\u00f3n (Autoreg-Ridge) vs vistas reales\",\"text_color\":\"black\",\"text_font_size\":\"12pt\"},\"id\":\"5773\",\"type\":\"Title\"},{\"attributes\":{\"source\":{\"id\":\"5809\"}},\"id\":\"5816\",\"type\":\"CDSView\"},{\"attributes\":{\"source\":{\"id\":\"5842\"}},\"id\":\"5849\",\"type\":\"CDSView\"},{\"attributes\":{\"margin\":[5,5,5,5],\"name\":\"HSpacer11369\",\"sizing_mode\":\"stretch_width\"},\"id\":\"5767\",\"type\":\"Spacer\"},{\"attributes\":{},\"id\":\"5806\",\"type\":\"BasicTickFormatter\"},{\"attributes\":{\"overlay\":{\"id\":\"5794\"}},\"id\":\"5792\",\"type\":\"BoxZoomTool\"},{\"attributes\":{\"base\":24,\"mantissas\":[1,2,4,6,8,12],\"max_interval\":43200000.0,\"min_interval\":3600000.0,\"num_minor_ticks\":0},\"id\":\"5829\",\"type\":\"AdaptiveTicker\"},{\"attributes\":{\"axis_label\":\"date\",\"formatter\":{\"id\":\"5803\"},\"major_label_policy\":{\"id\":\"5805\"},\"ticker\":{\"id\":\"5782\"}},\"id\":\"5781\",\"type\":\"DatetimeAxis\"},{\"attributes\":{\"months\":[0,1,2,3,4,5,6,7,8,9,10,11]},\"id\":\"5834\",\"type\":\"MonthsTicker\"},{\"attributes\":{\"label\":{\"value\":\"predicci\\u00f3n\"},\"renderers\":[{\"id\":\"5848\"}]},\"id\":\"5874\",\"type\":\"LegendItem\"},{\"attributes\":{},\"id\":\"5777\",\"type\":\"LinearScale\"},{\"attributes\":{\"line_color\":\"#fc4f30\",\"line_width\":2,\"x\":{\"field\":\"index\"},\"y\":{\"field\":\"pred\"}},\"id\":\"5875\",\"type\":\"Line\"},{\"attributes\":{\"mantissas\":[1,2,5],\"max_interval\":500.0,\"num_minor_ticks\":0},\"id\":\"5827\",\"type\":\"AdaptiveTicker\"},{\"attributes\":{\"months\":[0,2,4,6,8,10]},\"id\":\"5835\",\"type\":\"MonthsTicker\"},{\"attributes\":{},\"id\":\"5803\",\"type\":\"DatetimeTickFormatter\"},{\"attributes\":{},\"id\":\"5861\",\"type\":\"UnionRenderers\"},{\"attributes\":{\"base\":60,\"mantissas\":[1,2,5,10,15,20,30],\"max_interval\":1800000.0,\"min_interval\":1000.0,\"num_minor_ticks\":0},\"id\":\"5828\",\"type\":\"AdaptiveTicker\"},{\"attributes\":{\"months\":[0,4,8]},\"id\":\"5836\",\"type\":\"MonthsTicker\"},{\"attributes\":{\"num_minor_ticks\":5,\"tickers\":[{\"id\":\"5827\"},{\"id\":\"5828\"},{\"id\":\"5829\"},{\"id\":\"5830\"},{\"id\":\"5831\"},{\"id\":\"5832\"},{\"id\":\"5833\"},{\"id\":\"5834\"},{\"id\":\"5835\"},{\"id\":\"5836\"},{\"id\":\"5837\"},{\"id\":\"5838\"}]},\"id\":\"5782\",\"type\":\"DatetimeTicker\"},{\"attributes\":{\"months\":[0,6]},\"id\":\"5837\",\"type\":\"MonthsTicker\"},{\"attributes\":{},\"id\":\"5779\",\"type\":\"LinearScale\"},{\"attributes\":{},\"id\":\"5838\",\"type\":\"YearsTicker\"}],\"root_ids\":[\"5766\"]},\"title\":\"Bokeh Application\",\"version\":\"2.3.3\"}};\n",
       "    var render_items = [{\"docid\":\"7042a486-09b3-4336-9e93-540fd4da17a8\",\"root_ids\":[\"5766\"],\"roots\":{\"5766\":\"5f25bf06-503b-49b0-9fbd-dbe8bb9809ea\"}}];\n",
       "    root.Bokeh.embed.embed_items_notebook(docs_json, render_items);\n",
       "  }\n",
       "  if (root.Bokeh !== undefined && root.Bokeh.Panel !== undefined) {\n",
       "    embed_document(root);\n",
       "  } else {\n",
       "    var attempts = 0;\n",
       "    var timer = setInterval(function(root) {\n",
       "      if (root.Bokeh !== undefined && root.Bokeh.Panel !== undefined) {\n",
       "        clearInterval(timer);\n",
       "        embed_document(root);\n",
       "      } else if (document.readyState == \"complete\") {\n",
       "        attempts++;\n",
       "        if (attempts > 200) {\n",
       "          clearInterval(timer);\n",
       "          console.log(\"Bokeh: ERROR: Unable to run BokehJS code because BokehJS library is missing\");\n",
       "        }\n",
       "      }\n",
       "    }, 25, root)\n",
       "  }\n",
       "})(window);</script>"
      ],
      "text/plain": [
       ":Overlay\n",
       "   .Curve.Test       :Curve   [date]   (users)\n",
       "   .Curve.Predicción :Curve   [index]   (pred)"
      ]
     },
     "execution_count": 35,
     "metadata": {
      "application/vnd.holoviews_exec.v0+json": {
       "id": "5766"
      }
     },
     "output_type": "execute_result"
    }
   ],
   "source": [
    "# Gráfico\n",
    "# ==============================================================================\n",
    "# fig, ax = plt.subplots(figsize=(10, 3))\n",
    "# datos_test.loc[predicciones.index, 'users'].plot(ax=ax, linewidth=2, label='test')\n",
    "# predicciones.plot(linewidth=2, label='predicción', ax=ax)\n",
    "# ax.set_title('Predicción (Autoreg-Ridge) vs vistas reales')\n",
    "# ax.legend();\n",
    "\n",
    "plot_test = datos_test.users.hvplot.line(label='test')\n",
    "plot_predict = predicciones.hvplot.line(label='predicción')\n",
    "layout = plot_test * plot_predict\n",
    "layout = layout.opts(\n",
    "            title = 'Predicción (Autoreg-Ridge) vs vistas reales',\n",
    "            ylabel = 'users',\n",
    "            legend_position = 'bottom_left'\n",
    "         )\n",
    "layout"
   ]
  },
  {
   "cell_type": "markdown",
   "metadata": {},
   "source": [
    "### Optimización de hiperparámetros (*tuning*)\n",
    "<br>\n",
    "\n",
    "En el apartado anterior, se han utilizado los primeros 14 lags como predictores y un modelo [Ridge](https://www.cienciadedatos.net/documentos/py14-ridge-lasso-elastic-net-python.html) con los hiperparámetros por defecto. Sin embargo, no hay ninguna razón por la que estos valores sean los más adecuados.\n",
    "\n",
    "Con el objetivo de identificar la mejor combinación de lags e hiperparámetros, se recurre a un *Grid Search*. Este proceso consiste en entrenar un modelo con cada combinación de hiperparámetros y lags, y evaluar su capacidad predictiva mediante *backtesting*.\n",
    "\n",
    "En el proceso de búsqueda es importante evaluar los modelos utilizando únicamente los datos de validación y no incluir los de test, estos se utilizan solo en último lugar para evaluar al modelo final."
   ]
  },
  {
   "cell_type": "code",
   "execution_count": 36,
   "metadata": {},
   "outputs": [
    {
     "name": "stdout",
     "output_type": "stream",
     "text": [
      "Number of models compared: 40\n"
     ]
    },
    {
     "name": "stderr",
     "output_type": "stream",
     "text": [
      "loop lags_grid:   0%|                                               | 0/4 [00:00<?, ?it/s]\n",
      "loop param_grid:   0%|                                             | 0/10 [00:00<?, ?it/s]\u001b[A\n",
      "loop param_grid:  20%|███████▍                             | 2/10 [00:00<00:00, 17.23it/s]\u001b[A\n",
      "loop param_grid:  50%|██████████████████▌                  | 5/10 [00:00<00:00, 21.26it/s]\u001b[A\n",
      "loop param_grid:  80%|█████████████████████████████▌       | 8/10 [00:00<00:00, 21.36it/s]\u001b[A\n",
      "loop lags_grid:  25%|█████████▊                             | 1/4 [00:00<00:01,  2.09it/s]\u001b[A\n",
      "loop param_grid:   0%|                                             | 0/10 [00:00<?, ?it/s]\u001b[A\n",
      "loop param_grid:  30%|███████████                          | 3/10 [00:00<00:00, 24.23it/s]\u001b[A\n",
      "loop param_grid:  60%|██████████████████████▏              | 6/10 [00:00<00:00, 25.38it/s]\u001b[A\n",
      "loop param_grid:  90%|█████████████████████████████████▎   | 9/10 [00:00<00:00, 18.99it/s]\u001b[A\n",
      "loop lags_grid:  50%|███████████████████▌                   | 2/4 [00:00<00:01,  2.00it/s]\u001b[A\n",
      "loop param_grid:   0%|                                             | 0/10 [00:00<?, ?it/s]\u001b[A\n",
      "loop param_grid:  20%|███████▍                             | 2/10 [00:00<00:00, 18.16it/s]\u001b[A\n",
      "loop param_grid:  50%|██████████████████▌                  | 5/10 [00:00<00:00, 20.30it/s]\u001b[A\n",
      "loop param_grid:  80%|█████████████████████████████▌       | 8/10 [00:00<00:00, 20.58it/s]\u001b[A\n",
      "loop lags_grid:  75%|█████████████████████████████▎         | 3/4 [00:01<00:00,  1.95it/s]\u001b[A\n",
      "loop param_grid:   0%|                                             | 0/10 [00:00<?, ?it/s]\u001b[A\n",
      "loop param_grid:  20%|███████▍                             | 2/10 [00:00<00:00, 16.13it/s]\u001b[A\n",
      "loop param_grid:  40%|██████████████▊                      | 4/10 [00:00<00:00, 14.88it/s]\u001b[A\n",
      "loop param_grid:  60%|██████████████████████▏              | 6/10 [00:00<00:00, 14.37it/s]\u001b[A\n",
      "loop param_grid:  80%|█████████████████████████████▌       | 8/10 [00:00<00:00, 15.02it/s]\u001b[A\n",
      "loop param_grid: 100%|████████████████████████████████████| 10/10 [00:00<00:00, 15.72it/s]\u001b[A\n",
      "loop lags_grid: 100%|███████████████████████████████████████| 4/4 [00:02<00:00,  1.83it/s]\u001b[A"
     ]
    },
    {
     "name": "stdout",
     "output_type": "stream",
     "text": [
      "Refitting `forecaster` using the best found lags and parameters and the whole data set: \n",
      "  Lags: [ 1  2  3  4  5  6  7  8  9 10 11 12 13 14] \n",
      "  Parameters: {'ridge__alpha': 2.154434690031882}\n",
      "  Backtesting metric: 214.78958139997715\n",
      "\n"
     ]
    },
    {
     "name": "stderr",
     "output_type": "stream",
     "text": [
      "\n"
     ]
    }
   ],
   "source": [
    "# Grid search de hiperparámetros\n",
    "# ==============================================================================\n",
    "forecaster = ForecasterAutoreg(\n",
    "                regressor = make_pipeline(StandardScaler(), Ridge(random_state=123)),\n",
    "                lags      = 14\n",
    "             )\n",
    "\n",
    "# Hiperparámetros del regresor: al utilizar un pipeline, el nombre del hiperparámetro\n",
    "# va precedido por el nombre del regressor.\n",
    "param_grid = {'ridge__alpha': np.logspace(-3, 3, 10)}\n",
    "\n",
    "# Lags utilizados como predictores\n",
    "lags_grid = [7, 14, 21, [7, 14, 21]]\n",
    "\n",
    "resultados_grid = grid_search_forecaster(\n",
    "                        forecaster  = forecaster,\n",
    "                        y           = datos.loc[:fin_validacion, 'users'],\n",
    "                        param_grid  = param_grid,\n",
    "                        lags_grid   = lags_grid,\n",
    "                        steps       = 7,\n",
    "                        metric      = 'mean_absolute_error',\n",
    "                        refit       = False,\n",
    "                        initial_train_size = len(datos_train),\n",
    "                        return_best = True,\n",
    "                        verbose     = False\n",
    "                  )"
   ]
  },
  {
   "cell_type": "code",
   "execution_count": 37,
   "metadata": {},
   "outputs": [
    {
     "data": {
      "text/html": [
       "<div>\n",
       "<style scoped>\n",
       "    .dataframe tbody tr th:only-of-type {\n",
       "        vertical-align: middle;\n",
       "    }\n",
       "\n",
       "    .dataframe tbody tr th {\n",
       "        vertical-align: top;\n",
       "    }\n",
       "\n",
       "    .dataframe thead th {\n",
       "        text-align: right;\n",
       "    }\n",
       "</style>\n",
       "<table border=\"1\" class=\"dataframe\">\n",
       "  <thead>\n",
       "    <tr style=\"text-align: right;\">\n",
       "      <th></th>\n",
       "      <th>lags</th>\n",
       "      <th>params</th>\n",
       "      <th>metric</th>\n",
       "      <th>ridge__alpha</th>\n",
       "    </tr>\n",
       "  </thead>\n",
       "  <tbody>\n",
       "    <tr>\n",
       "      <th>15</th>\n",
       "      <td>[1, 2, 3, 4, 5, 6, 7, 8, 9, 10, 11, 12, 13, 14]</td>\n",
       "      <td>{'ridge__alpha': 2.154434690031882}</td>\n",
       "      <td>214.789581</td>\n",
       "      <td>2.154435</td>\n",
       "    </tr>\n",
       "    <tr>\n",
       "      <th>14</th>\n",
       "      <td>[1, 2, 3, 4, 5, 6, 7, 8, 9, 10, 11, 12, 13, 14]</td>\n",
       "      <td>{'ridge__alpha': 0.46415888336127775}</td>\n",
       "      <td>216.521380</td>\n",
       "      <td>0.464159</td>\n",
       "    </tr>\n",
       "    <tr>\n",
       "      <th>13</th>\n",
       "      <td>[1, 2, 3, 4, 5, 6, 7, 8, 9, 10, 11, 12, 13, 14]</td>\n",
       "      <td>{'ridge__alpha': 0.1}</td>\n",
       "      <td>217.757468</td>\n",
       "      <td>0.100000</td>\n",
       "    </tr>\n",
       "    <tr>\n",
       "      <th>12</th>\n",
       "      <td>[1, 2, 3, 4, 5, 6, 7, 8, 9, 10, 11, 12, 13, 14]</td>\n",
       "      <td>{'ridge__alpha': 0.021544346900318832}</td>\n",
       "      <td>218.124430</td>\n",
       "      <td>0.021544</td>\n",
       "    </tr>\n",
       "    <tr>\n",
       "      <th>11</th>\n",
       "      <td>[1, 2, 3, 4, 5, 6, 7, 8, 9, 10, 11, 12, 13, 14]</td>\n",
       "      <td>{'ridge__alpha': 0.004641588833612777}</td>\n",
       "      <td>218.205822</td>\n",
       "      <td>0.004642</td>\n",
       "    </tr>\n",
       "    <tr>\n",
       "      <th>10</th>\n",
       "      <td>[1, 2, 3, 4, 5, 6, 7, 8, 9, 10, 11, 12, 13, 14]</td>\n",
       "      <td>{'ridge__alpha': 0.001}</td>\n",
       "      <td>218.223468</td>\n",
       "      <td>0.001000</td>\n",
       "    </tr>\n",
       "    <tr>\n",
       "      <th>26</th>\n",
       "      <td>[1, 2, 3, 4, 5, 6, 7, 8, 9, 10, 11, 12, 13, 14...</td>\n",
       "      <td>{'ridge__alpha': 10.0}</td>\n",
       "      <td>219.936605</td>\n",
       "      <td>10.000000</td>\n",
       "    </tr>\n",
       "    <tr>\n",
       "      <th>25</th>\n",
       "      <td>[1, 2, 3, 4, 5, 6, 7, 8, 9, 10, 11, 12, 13, 14...</td>\n",
       "      <td>{'ridge__alpha': 2.154434690031882}</td>\n",
       "      <td>221.274328</td>\n",
       "      <td>2.154435</td>\n",
       "    </tr>\n",
       "    <tr>\n",
       "      <th>16</th>\n",
       "      <td>[1, 2, 3, 4, 5, 6, 7, 8, 9, 10, 11, 12, 13, 14]</td>\n",
       "      <td>{'ridge__alpha': 10.0}</td>\n",
       "      <td>221.291519</td>\n",
       "      <td>10.000000</td>\n",
       "    </tr>\n",
       "    <tr>\n",
       "      <th>24</th>\n",
       "      <td>[1, 2, 3, 4, 5, 6, 7, 8, 9, 10, 11, 12, 13, 14...</td>\n",
       "      <td>{'ridge__alpha': 0.46415888336127775}</td>\n",
       "      <td>226.604345</td>\n",
       "      <td>0.464159</td>\n",
       "    </tr>\n",
       "    <tr>\n",
       "      <th>23</th>\n",
       "      <td>[1, 2, 3, 4, 5, 6, 7, 8, 9, 10, 11, 12, 13, 14...</td>\n",
       "      <td>{'ridge__alpha': 0.1}</td>\n",
       "      <td>228.475988</td>\n",
       "      <td>0.100000</td>\n",
       "    </tr>\n",
       "    <tr>\n",
       "      <th>22</th>\n",
       "      <td>[1, 2, 3, 4, 5, 6, 7, 8, 9, 10, 11, 12, 13, 14...</td>\n",
       "      <td>{'ridge__alpha': 0.021544346900318832}</td>\n",
       "      <td>228.925768</td>\n",
       "      <td>0.021544</td>\n",
       "    </tr>\n",
       "    <tr>\n",
       "      <th>21</th>\n",
       "      <td>[1, 2, 3, 4, 5, 6, 7, 8, 9, 10, 11, 12, 13, 14...</td>\n",
       "      <td>{'ridge__alpha': 0.004641588833612777}</td>\n",
       "      <td>229.025617</td>\n",
       "      <td>0.004642</td>\n",
       "    </tr>\n",
       "    <tr>\n",
       "      <th>20</th>\n",
       "      <td>[1, 2, 3, 4, 5, 6, 7, 8, 9, 10, 11, 12, 13, 14...</td>\n",
       "      <td>{'ridge__alpha': 0.001}</td>\n",
       "      <td>229.047191</td>\n",
       "      <td>0.001000</td>\n",
       "    </tr>\n",
       "    <tr>\n",
       "      <th>27</th>\n",
       "      <td>[1, 2, 3, 4, 5, 6, 7, 8, 9, 10, 11, 12, 13, 14...</td>\n",
       "      <td>{'ridge__alpha': 46.41588833612773}</td>\n",
       "      <td>266.598407</td>\n",
       "      <td>46.415888</td>\n",
       "    </tr>\n",
       "    <tr>\n",
       "      <th>17</th>\n",
       "      <td>[1, 2, 3, 4, 5, 6, 7, 8, 9, 10, 11, 12, 13, 14]</td>\n",
       "      <td>{'ridge__alpha': 46.41588833612773}</td>\n",
       "      <td>270.101172</td>\n",
       "      <td>46.415888</td>\n",
       "    </tr>\n",
       "    <tr>\n",
       "      <th>36</th>\n",
       "      <td>[7, 14, 21]</td>\n",
       "      <td>{'ridge__alpha': 10.0}</td>\n",
       "      <td>306.666238</td>\n",
       "      <td>10.000000</td>\n",
       "    </tr>\n",
       "    <tr>\n",
       "      <th>35</th>\n",
       "      <td>[7, 14, 21]</td>\n",
       "      <td>{'ridge__alpha': 2.154434690031882}</td>\n",
       "      <td>309.692239</td>\n",
       "      <td>2.154435</td>\n",
       "    </tr>\n",
       "    <tr>\n",
       "      <th>34</th>\n",
       "      <td>[7, 14, 21]</td>\n",
       "      <td>{'ridge__alpha': 0.46415888336127775}</td>\n",
       "      <td>311.468760</td>\n",
       "      <td>0.464159</td>\n",
       "    </tr>\n",
       "    <tr>\n",
       "      <th>33</th>\n",
       "      <td>[7, 14, 21]</td>\n",
       "      <td>{'ridge__alpha': 0.1}</td>\n",
       "      <td>311.916745</td>\n",
       "      <td>0.100000</td>\n",
       "    </tr>\n",
       "    <tr>\n",
       "      <th>32</th>\n",
       "      <td>[7, 14, 21]</td>\n",
       "      <td>{'ridge__alpha': 0.021544346900318832}</td>\n",
       "      <td>312.014652</td>\n",
       "      <td>0.021544</td>\n",
       "    </tr>\n",
       "    <tr>\n",
       "      <th>31</th>\n",
       "      <td>[7, 14, 21]</td>\n",
       "      <td>{'ridge__alpha': 0.004641588833612777}</td>\n",
       "      <td>312.035812</td>\n",
       "      <td>0.004642</td>\n",
       "    </tr>\n",
       "    <tr>\n",
       "      <th>30</th>\n",
       "      <td>[7, 14, 21]</td>\n",
       "      <td>{'ridge__alpha': 0.001}</td>\n",
       "      <td>312.040374</td>\n",
       "      <td>0.001000</td>\n",
       "    </tr>\n",
       "    <tr>\n",
       "      <th>37</th>\n",
       "      <td>[7, 14, 21]</td>\n",
       "      <td>{'ridge__alpha': 46.41588833612773}</td>\n",
       "      <td>313.396238</td>\n",
       "      <td>46.415888</td>\n",
       "    </tr>\n",
       "    <tr>\n",
       "      <th>0</th>\n",
       "      <td>[1, 2, 3, 4, 5, 6, 7]</td>\n",
       "      <td>{'ridge__alpha': 0.001}</td>\n",
       "      <td>348.244771</td>\n",
       "      <td>0.001000</td>\n",
       "    </tr>\n",
       "    <tr>\n",
       "      <th>1</th>\n",
       "      <td>[1, 2, 3, 4, 5, 6, 7]</td>\n",
       "      <td>{'ridge__alpha': 0.004641588833612777}</td>\n",
       "      <td>348.255874</td>\n",
       "      <td>0.004642</td>\n",
       "    </tr>\n",
       "    <tr>\n",
       "      <th>2</th>\n",
       "      <td>[1, 2, 3, 4, 5, 6, 7]</td>\n",
       "      <td>{'ridge__alpha': 0.021544346900318832}</td>\n",
       "      <td>348.307161</td>\n",
       "      <td>0.021544</td>\n",
       "    </tr>\n",
       "    <tr>\n",
       "      <th>3</th>\n",
       "      <td>[1, 2, 3, 4, 5, 6, 7]</td>\n",
       "      <td>{'ridge__alpha': 0.1}</td>\n",
       "      <td>348.539867</td>\n",
       "      <td>0.100000</td>\n",
       "    </tr>\n",
       "    <tr>\n",
       "      <th>4</th>\n",
       "      <td>[1, 2, 3, 4, 5, 6, 7]</td>\n",
       "      <td>{'ridge__alpha': 0.46415888336127775}</td>\n",
       "      <td>349.513146</td>\n",
       "      <td>0.464159</td>\n",
       "    </tr>\n",
       "    <tr>\n",
       "      <th>5</th>\n",
       "      <td>[1, 2, 3, 4, 5, 6, 7]</td>\n",
       "      <td>{'ridge__alpha': 2.154434690031882}</td>\n",
       "      <td>352.794048</td>\n",
       "      <td>2.154435</td>\n",
       "    </tr>\n",
       "    <tr>\n",
       "      <th>6</th>\n",
       "      <td>[1, 2, 3, 4, 5, 6, 7]</td>\n",
       "      <td>{'ridge__alpha': 10.0}</td>\n",
       "      <td>358.928543</td>\n",
       "      <td>10.000000</td>\n",
       "    </tr>\n",
       "    <tr>\n",
       "      <th>28</th>\n",
       "      <td>[1, 2, 3, 4, 5, 6, 7, 8, 9, 10, 11, 12, 13, 14...</td>\n",
       "      <td>{'ridge__alpha': 215.44346900318823}</td>\n",
       "      <td>364.451997</td>\n",
       "      <td>215.443469</td>\n",
       "    </tr>\n",
       "    <tr>\n",
       "      <th>7</th>\n",
       "      <td>[1, 2, 3, 4, 5, 6, 7]</td>\n",
       "      <td>{'ridge__alpha': 46.41588833612773}</td>\n",
       "      <td>365.259246</td>\n",
       "      <td>46.415888</td>\n",
       "    </tr>\n",
       "    <tr>\n",
       "      <th>38</th>\n",
       "      <td>[7, 14, 21]</td>\n",
       "      <td>{'ridge__alpha': 215.44346900318823}</td>\n",
       "      <td>374.631638</td>\n",
       "      <td>215.443469</td>\n",
       "    </tr>\n",
       "    <tr>\n",
       "      <th>18</th>\n",
       "      <td>[1, 2, 3, 4, 5, 6, 7, 8, 9, 10, 11, 12, 13, 14]</td>\n",
       "      <td>{'ridge__alpha': 215.44346900318823}</td>\n",
       "      <td>386.119961</td>\n",
       "      <td>215.443469</td>\n",
       "    </tr>\n",
       "    <tr>\n",
       "      <th>8</th>\n",
       "      <td>[1, 2, 3, 4, 5, 6, 7]</td>\n",
       "      <td>{'ridge__alpha': 215.44346900318823}</td>\n",
       "      <td>435.588786</td>\n",
       "      <td>215.443469</td>\n",
       "    </tr>\n",
       "    <tr>\n",
       "      <th>29</th>\n",
       "      <td>[1, 2, 3, 4, 5, 6, 7, 8, 9, 10, 11, 12, 13, 14...</td>\n",
       "      <td>{'ridge__alpha': 1000.0}</td>\n",
       "      <td>506.066124</td>\n",
       "      <td>1000.000000</td>\n",
       "    </tr>\n",
       "    <tr>\n",
       "      <th>19</th>\n",
       "      <td>[1, 2, 3, 4, 5, 6, 7, 8, 9, 10, 11, 12, 13, 14]</td>\n",
       "      <td>{'ridge__alpha': 1000.0}</td>\n",
       "      <td>525.760121</td>\n",
       "      <td>1000.000000</td>\n",
       "    </tr>\n",
       "    <tr>\n",
       "      <th>39</th>\n",
       "      <td>[7, 14, 21]</td>\n",
       "      <td>{'ridge__alpha': 1000.0}</td>\n",
       "      <td>527.505972</td>\n",
       "      <td>1000.000000</td>\n",
       "    </tr>\n",
       "    <tr>\n",
       "      <th>9</th>\n",
       "      <td>[1, 2, 3, 4, 5, 6, 7]</td>\n",
       "      <td>{'ridge__alpha': 1000.0}</td>\n",
       "      <td>565.471869</td>\n",
       "      <td>1000.000000</td>\n",
       "    </tr>\n",
       "  </tbody>\n",
       "</table>\n",
       "</div>"
      ],
      "text/plain": [
       "                                                 lags  \\\n",
       "15    [1, 2, 3, 4, 5, 6, 7, 8, 9, 10, 11, 12, 13, 14]   \n",
       "14    [1, 2, 3, 4, 5, 6, 7, 8, 9, 10, 11, 12, 13, 14]   \n",
       "13    [1, 2, 3, 4, 5, 6, 7, 8, 9, 10, 11, 12, 13, 14]   \n",
       "12    [1, 2, 3, 4, 5, 6, 7, 8, 9, 10, 11, 12, 13, 14]   \n",
       "11    [1, 2, 3, 4, 5, 6, 7, 8, 9, 10, 11, 12, 13, 14]   \n",
       "10    [1, 2, 3, 4, 5, 6, 7, 8, 9, 10, 11, 12, 13, 14]   \n",
       "26  [1, 2, 3, 4, 5, 6, 7, 8, 9, 10, 11, 12, 13, 14...   \n",
       "25  [1, 2, 3, 4, 5, 6, 7, 8, 9, 10, 11, 12, 13, 14...   \n",
       "16    [1, 2, 3, 4, 5, 6, 7, 8, 9, 10, 11, 12, 13, 14]   \n",
       "24  [1, 2, 3, 4, 5, 6, 7, 8, 9, 10, 11, 12, 13, 14...   \n",
       "23  [1, 2, 3, 4, 5, 6, 7, 8, 9, 10, 11, 12, 13, 14...   \n",
       "22  [1, 2, 3, 4, 5, 6, 7, 8, 9, 10, 11, 12, 13, 14...   \n",
       "21  [1, 2, 3, 4, 5, 6, 7, 8, 9, 10, 11, 12, 13, 14...   \n",
       "20  [1, 2, 3, 4, 5, 6, 7, 8, 9, 10, 11, 12, 13, 14...   \n",
       "27  [1, 2, 3, 4, 5, 6, 7, 8, 9, 10, 11, 12, 13, 14...   \n",
       "17    [1, 2, 3, 4, 5, 6, 7, 8, 9, 10, 11, 12, 13, 14]   \n",
       "36                                        [7, 14, 21]   \n",
       "35                                        [7, 14, 21]   \n",
       "34                                        [7, 14, 21]   \n",
       "33                                        [7, 14, 21]   \n",
       "32                                        [7, 14, 21]   \n",
       "31                                        [7, 14, 21]   \n",
       "30                                        [7, 14, 21]   \n",
       "37                                        [7, 14, 21]   \n",
       "0                               [1, 2, 3, 4, 5, 6, 7]   \n",
       "1                               [1, 2, 3, 4, 5, 6, 7]   \n",
       "2                               [1, 2, 3, 4, 5, 6, 7]   \n",
       "3                               [1, 2, 3, 4, 5, 6, 7]   \n",
       "4                               [1, 2, 3, 4, 5, 6, 7]   \n",
       "5                               [1, 2, 3, 4, 5, 6, 7]   \n",
       "6                               [1, 2, 3, 4, 5, 6, 7]   \n",
       "28  [1, 2, 3, 4, 5, 6, 7, 8, 9, 10, 11, 12, 13, 14...   \n",
       "7                               [1, 2, 3, 4, 5, 6, 7]   \n",
       "38                                        [7, 14, 21]   \n",
       "18    [1, 2, 3, 4, 5, 6, 7, 8, 9, 10, 11, 12, 13, 14]   \n",
       "8                               [1, 2, 3, 4, 5, 6, 7]   \n",
       "29  [1, 2, 3, 4, 5, 6, 7, 8, 9, 10, 11, 12, 13, 14...   \n",
       "19    [1, 2, 3, 4, 5, 6, 7, 8, 9, 10, 11, 12, 13, 14]   \n",
       "39                                        [7, 14, 21]   \n",
       "9                               [1, 2, 3, 4, 5, 6, 7]   \n",
       "\n",
       "                                    params      metric  ridge__alpha  \n",
       "15     {'ridge__alpha': 2.154434690031882}  214.789581      2.154435  \n",
       "14   {'ridge__alpha': 0.46415888336127775}  216.521380      0.464159  \n",
       "13                   {'ridge__alpha': 0.1}  217.757468      0.100000  \n",
       "12  {'ridge__alpha': 0.021544346900318832}  218.124430      0.021544  \n",
       "11  {'ridge__alpha': 0.004641588833612777}  218.205822      0.004642  \n",
       "10                 {'ridge__alpha': 0.001}  218.223468      0.001000  \n",
       "26                  {'ridge__alpha': 10.0}  219.936605     10.000000  \n",
       "25     {'ridge__alpha': 2.154434690031882}  221.274328      2.154435  \n",
       "16                  {'ridge__alpha': 10.0}  221.291519     10.000000  \n",
       "24   {'ridge__alpha': 0.46415888336127775}  226.604345      0.464159  \n",
       "23                   {'ridge__alpha': 0.1}  228.475988      0.100000  \n",
       "22  {'ridge__alpha': 0.021544346900318832}  228.925768      0.021544  \n",
       "21  {'ridge__alpha': 0.004641588833612777}  229.025617      0.004642  \n",
       "20                 {'ridge__alpha': 0.001}  229.047191      0.001000  \n",
       "27     {'ridge__alpha': 46.41588833612773}  266.598407     46.415888  \n",
       "17     {'ridge__alpha': 46.41588833612773}  270.101172     46.415888  \n",
       "36                  {'ridge__alpha': 10.0}  306.666238     10.000000  \n",
       "35     {'ridge__alpha': 2.154434690031882}  309.692239      2.154435  \n",
       "34   {'ridge__alpha': 0.46415888336127775}  311.468760      0.464159  \n",
       "33                   {'ridge__alpha': 0.1}  311.916745      0.100000  \n",
       "32  {'ridge__alpha': 0.021544346900318832}  312.014652      0.021544  \n",
       "31  {'ridge__alpha': 0.004641588833612777}  312.035812      0.004642  \n",
       "30                 {'ridge__alpha': 0.001}  312.040374      0.001000  \n",
       "37     {'ridge__alpha': 46.41588833612773}  313.396238     46.415888  \n",
       "0                  {'ridge__alpha': 0.001}  348.244771      0.001000  \n",
       "1   {'ridge__alpha': 0.004641588833612777}  348.255874      0.004642  \n",
       "2   {'ridge__alpha': 0.021544346900318832}  348.307161      0.021544  \n",
       "3                    {'ridge__alpha': 0.1}  348.539867      0.100000  \n",
       "4    {'ridge__alpha': 0.46415888336127775}  349.513146      0.464159  \n",
       "5      {'ridge__alpha': 2.154434690031882}  352.794048      2.154435  \n",
       "6                   {'ridge__alpha': 10.0}  358.928543     10.000000  \n",
       "28    {'ridge__alpha': 215.44346900318823}  364.451997    215.443469  \n",
       "7      {'ridge__alpha': 46.41588833612773}  365.259246     46.415888  \n",
       "38    {'ridge__alpha': 215.44346900318823}  374.631638    215.443469  \n",
       "18    {'ridge__alpha': 215.44346900318823}  386.119961    215.443469  \n",
       "8     {'ridge__alpha': 215.44346900318823}  435.588786    215.443469  \n",
       "29                {'ridge__alpha': 1000.0}  506.066124   1000.000000  \n",
       "19                {'ridge__alpha': 1000.0}  525.760121   1000.000000  \n",
       "39                {'ridge__alpha': 1000.0}  527.505972   1000.000000  \n",
       "9                 {'ridge__alpha': 1000.0}  565.471869   1000.000000  "
      ]
     },
     "execution_count": 37,
     "metadata": {},
     "output_type": "execute_result"
    }
   ],
   "source": [
    "# Resultados Grid Search\n",
    "# ==============================================================================\n",
    "resultados_grid"
   ]
  },
  {
   "cell_type": "markdown",
   "metadata": {},
   "source": [
    "Los mejores resultados se obtienen si se utilizan los lags [ 1  2  3  4  5  6  7  8  9 10 11 12 13 14] y una configuración de *Ridge* {'alpha': 2.154}. Al indicar `return_best = True` en la función `grid_search_forecaster()`, al final del proceso, se reentrena automáticamente el objeto forecaster con la mejor configuración encontrada y el set de datos completo."
   ]
  },
  {
   "cell_type": "code",
   "execution_count": 38,
   "metadata": {},
   "outputs": [
    {
     "data": {
      "text/plain": [
       "================= \n",
       "ForecasterAutoreg \n",
       "================= \n",
       "Regressor: Pipeline(steps=[('standardscaler', StandardScaler()),\n",
       "                ('ridge', Ridge(alpha=2.154434690031882, random_state=123))]) \n",
       "Lags: [ 1  2  3  4  5  6  7  8  9 10 11 12 13 14] \n",
       "Window size: 14 \n",
       "Included exogenous: False \n",
       "Type of exogenous variable: None \n",
       "Exogenous variables names: None \n",
       "Training range: [Timestamp('2020-07-01 00:00:00'), Timestamp('2021-06-30 00:00:00')] \n",
       "Training index type: DatetimeIndex \n",
       "Training index frequency: D \n",
       "Regressor parameters: {'standardscaler__copy': True, 'standardscaler__with_mean': True, 'standardscaler__with_std': True, 'ridge__alpha': 2.154434690031882, 'ridge__copy_X': True, 'ridge__fit_intercept': True, 'ridge__max_iter': None, 'ridge__normalize': 'deprecated', 'ridge__positive': False, 'ridge__random_state': 123, 'ridge__solver': 'auto', 'ridge__tol': 0.001} \n",
       "Creation date: 2022-01-01 19:53:20 \n",
       "Last fit date: 2022-01-01 19:53:22 \n",
       "Skforecast version: 0.4.2 "
      ]
     },
     "execution_count": 38,
     "metadata": {},
     "output_type": "execute_result"
    }
   ],
   "source": [
    "forecaster"
   ]
  },
  {
   "cell_type": "markdown",
   "metadata": {},
   "source": [
    "Una vez identificado el mejor modelo, se entrena utilizando tanto el conjunto de entrenamiento como el de validación y se calcula su error con el conjunto de test. "
   ]
  },
  {
   "cell_type": "code",
   "execution_count": 39,
   "metadata": {},
   "outputs": [
    {
     "name": "stdout",
     "output_type": "stream",
     "text": [
      "Information of backtesting process\n",
      "----------------------------------\n",
      "Number of observations used for initial training or as initial window: 365\n",
      "Number of observations used for backtesting: 56\n",
      "    Number of folds: 8\n",
      "    Number of steps per fold: 7\n",
      "\n",
      "Data partition in fold: 0\n",
      "    Training:   2020-07-01 00:00:00 -- 2021-06-30 00:00:00\n",
      "    Validation: 2021-07-01 00:00:00 -- 2021-07-07 00:00:00\n",
      "Data partition in fold: 1\n",
      "    Training:   2020-07-01 00:00:00 -- 2021-06-30 00:00:00\n",
      "    Validation: 2021-07-08 00:00:00 -- 2021-07-14 00:00:00\n",
      "Data partition in fold: 2\n",
      "    Training:   2020-07-01 00:00:00 -- 2021-06-30 00:00:00\n",
      "    Validation: 2021-07-15 00:00:00 -- 2021-07-21 00:00:00\n",
      "Data partition in fold: 3\n",
      "    Training:   2020-07-01 00:00:00 -- 2021-06-30 00:00:00\n",
      "    Validation: 2021-07-22 00:00:00 -- 2021-07-28 00:00:00\n",
      "Data partition in fold: 4\n",
      "    Training:   2020-07-01 00:00:00 -- 2021-06-30 00:00:00\n",
      "    Validation: 2021-07-29 00:00:00 -- 2021-08-04 00:00:00\n",
      "Data partition in fold: 5\n",
      "    Training:   2020-07-01 00:00:00 -- 2021-06-30 00:00:00\n",
      "    Validation: 2021-08-05 00:00:00 -- 2021-08-11 00:00:00\n",
      "Data partition in fold: 6\n",
      "    Training:   2020-07-01 00:00:00 -- 2021-06-30 00:00:00\n",
      "    Validation: 2021-08-12 00:00:00 -- 2021-08-18 00:00:00\n",
      "Data partition in fold: 7\n",
      "    Training:   2020-07-01 00:00:00 -- 2021-06-30 00:00:00\n",
      "    Validation: 2021-08-19 00:00:00 -- 2021-08-25 00:00:00\n",
      "\n",
      "Error backtest: [216.22994004]\n"
     ]
    }
   ],
   "source": [
    "# Backtest modelo final (conjunto de test)\n",
    "# ==============================================================================\n",
    "metrica, predicciones = backtesting_forecaster(\n",
    "                            forecaster = forecaster,\n",
    "                            y          = datos.users,\n",
    "                            initial_train_size = len(datos.loc[:fin_validacion, :]),\n",
    "                            steps      = 7,\n",
    "                            metric     = 'mean_absolute_error',\n",
    "                            verbose    = True\n",
    "                        )\n",
    "\n",
    "print(f'Error backtest: {metrica}')"
   ]
  },
  {
   "cell_type": "markdown",
   "metadata": {},
   "source": [
    "Tras la optimización de lags e hiperparámetros, se ha conseguido reducir el error de predicción.\n",
    "<br><br>"
   ]
  },
  {
   "cell_type": "markdown",
   "metadata": {},
   "source": [
    "## Modelo ARIMA\n",
    "<br>\n",
    "\n",
    "Para entrenar un modelo ARIMA, se puede emplear la clase [SARIMAX](https://www.statsmodels.org/stable/examples/notebooks/generated/statespace_sarimax_stata.html) de statsmodels. En concreto, un modelo SARIMAX equivale a un modelo ARIMA si el argumento *seasonal_order = (0, 0, 0, 0)* y *trend = 'c'*. Con las funciones `backtesting_sarimax_statsmodels()` y `cv_sarimax_statsmodels()` de módulo `model_selection_statsmodels` de la librería skforecast, se pueden obtener las predicciones acorde a cómo se habría comportado el modelo."
   ]
  },
  {
   "cell_type": "code",
   "execution_count": 40,
   "metadata": {},
   "outputs": [
    {
     "name": "stdout",
     "output_type": "stream",
     "text": [
      "Number of observations used for training: 365\n",
      "Number of observations used for backtesting: 56\n",
      "    Number of folds: 8\n",
      "    Number of steps per fold: 7\n",
      "Error backtest: [212.08330846]\n"
     ]
    },
    {
     "data": {
      "text/html": [
       "<div>\n",
       "<style scoped>\n",
       "    .dataframe tbody tr th:only-of-type {\n",
       "        vertical-align: middle;\n",
       "    }\n",
       "\n",
       "    .dataframe tbody tr th {\n",
       "        vertical-align: top;\n",
       "    }\n",
       "\n",
       "    .dataframe thead th {\n",
       "        text-align: right;\n",
       "    }\n",
       "</style>\n",
       "<table border=\"1\" class=\"dataframe\">\n",
       "  <thead>\n",
       "    <tr style=\"text-align: right;\">\n",
       "      <th></th>\n",
       "      <th>predicted_mean</th>\n",
       "      <th>lower users</th>\n",
       "      <th>upper users</th>\n",
       "    </tr>\n",
       "  </thead>\n",
       "  <tbody>\n",
       "    <tr>\n",
       "      <th>2021-07-01</th>\n",
       "      <td>3167.089907</td>\n",
       "      <td>2647.160777</td>\n",
       "      <td>3687.019036</td>\n",
       "    </tr>\n",
       "    <tr>\n",
       "      <th>2021-07-02</th>\n",
       "      <td>2978.492708</td>\n",
       "      <td>2265.040871</td>\n",
       "      <td>3691.944545</td>\n",
       "    </tr>\n",
       "    <tr>\n",
       "      <th>2021-07-03</th>\n",
       "      <td>2234.915297</td>\n",
       "      <td>1441.852180</td>\n",
       "      <td>3027.978414</td>\n",
       "    </tr>\n",
       "    <tr>\n",
       "      <th>2021-07-04</th>\n",
       "      <td>1997.416018</td>\n",
       "      <td>1128.771230</td>\n",
       "      <td>2866.060806</td>\n",
       "    </tr>\n",
       "    <tr>\n",
       "      <th>2021-07-05</th>\n",
       "      <td>2974.832056</td>\n",
       "      <td>2039.932689</td>\n",
       "      <td>3909.731423</td>\n",
       "    </tr>\n",
       "  </tbody>\n",
       "</table>\n",
       "</div>"
      ],
      "text/plain": [
       "            predicted_mean  lower users  upper users\n",
       "2021-07-01     3167.089907  2647.160777  3687.019036\n",
       "2021-07-02     2978.492708  2265.040871  3691.944545\n",
       "2021-07-03     2234.915297  1441.852180  3027.978414\n",
       "2021-07-04     1997.416018  1128.771230  2866.060806\n",
       "2021-07-05     2974.832056  2039.932689  3909.731423"
      ]
     },
     "execution_count": 40,
     "metadata": {},
     "output_type": "execute_result"
    }
   ],
   "source": [
    "# Backtest ARIMA\n",
    "# ==============================================================================\n",
    "metrica, predicciones = backtesting_sarimax(\n",
    "                            y       = datos.users,\n",
    "                            order   = (14, 0, 0),\n",
    "                            initial_train_size = len(datos.loc[:fin_validacion]),\n",
    "                            steps   = 7,\n",
    "                            metric  = 'mean_absolute_error',\n",
    "                            refit   = False,\n",
    "                            verbose = True,\n",
    "                            fit_kwargs = {'maxiter': 500, 'disp': 0}\n",
    "                        )\n",
    "\n",
    "print(f'Error backtest: {metrica}')\n",
    "predicciones.head(5)"
   ]
  },
  {
   "cell_type": "code",
   "execution_count": 41,
   "metadata": {},
   "outputs": [
    {
     "data": {},
     "metadata": {},
     "output_type": "display_data"
    },
    {
     "data": {
      "application/vnd.holoviews_exec.v0+json": "",
      "text/html": [
       "<div id='6214'>\n",
       "\n",
       "\n",
       "\n",
       "\n",
       "\n",
       "  <div class=\"bk-root\" id=\"0a5d4a9e-5884-401e-aa6e-937df46fc945\" data-root-id=\"6214\"></div>\n",
       "</div>\n",
       "<script type=\"application/javascript\">(function(root) {\n",
       "  function embed_document(root) {\n",
       "    var docs_json = {\"cf2f4ed4-2a54-417e-b917-e648be4bf558\":{\"defs\":[{\"extends\":null,\"module\":null,\"name\":\"ReactiveHTML1\",\"overrides\":[],\"properties\":[]},{\"extends\":null,\"module\":null,\"name\":\"FlexBox1\",\"overrides\":[],\"properties\":[{\"default\":\"flex-start\",\"kind\":null,\"name\":\"align_content\"},{\"default\":\"flex-start\",\"kind\":null,\"name\":\"align_items\"},{\"default\":\"row\",\"kind\":null,\"name\":\"flex_direction\"},{\"default\":\"wrap\",\"kind\":null,\"name\":\"flex_wrap\"},{\"default\":\"flex-start\",\"kind\":null,\"name\":\"justify_content\"}]},{\"extends\":null,\"module\":null,\"name\":\"TemplateActions1\",\"overrides\":[],\"properties\":[{\"default\":0,\"kind\":null,\"name\":\"open_modal\"},{\"default\":0,\"kind\":null,\"name\":\"close_modal\"}]},{\"extends\":null,\"module\":null,\"name\":\"MaterialTemplateActions1\",\"overrides\":[],\"properties\":[{\"default\":0,\"kind\":null,\"name\":\"open_modal\"},{\"default\":0,\"kind\":null,\"name\":\"close_modal\"}]}],\"roots\":{\"references\":[{\"attributes\":{},\"id\":\"6286\",\"type\":\"YearsTicker\"},{\"attributes\":{\"months\":[0,4,8]},\"id\":\"6284\",\"type\":\"MonthsTicker\"},{\"attributes\":{\"label\":{\"value\":\"test\"},\"renderers\":[{\"id\":\"6263\"}]},\"id\":\"6288\",\"type\":\"LegendItem\"},{\"attributes\":{\"axis\":{\"id\":\"6233\"},\"dimension\":1,\"grid_line_color\":null,\"ticker\":null},\"id\":\"6236\",\"type\":\"Grid\"},{\"attributes\":{\"callback\":null,\"formatters\":{\"@{date}\":\"datetime\"},\"renderers\":[{\"id\":\"6263\"}],\"tags\":[\"hv_created\"],\"tooltips\":[[\"date\",\"@{date}{%F %T}\"],[\"users\",\"@{users}\"]]},\"id\":\"6218\",\"type\":\"HoverTool\"},{\"attributes\":{\"months\":[0,2,4,6,8,10]},\"id\":\"6283\",\"type\":\"MonthsTicker\"},{\"attributes\":{\"line_color\":\"#30a2da\",\"line_width\":2,\"x\":{\"field\":\"date\"},\"y\":{\"field\":\"users\"}},\"id\":\"6260\",\"type\":\"Line\"},{\"attributes\":{\"data\":{\"date\":{\"__ndarray__\":\"AADA1/Wld0IAAIA9SKZ3QgAAQKOapndCAAAACe2md0IAAMBuP6d3QgAAgNSRp3dCAABAOuSnd0IAAACgNqh3QgAAwAWJqHdCAACAa9uod0IAAEDRLal3QgAAADeAqXdCAADAnNKpd0IAAIACJap3QgAAQGh3qndCAAAAzsmqd0IAAMAzHKt3QgAAgJluq3dCAABA/8Crd0IAAABlE6x3QgAAwMplrHdCAACAMLisd0IAAECWCq13QgAAAPxcrXdCAADAYa+td0IAAIDHAa53QgAAQC1UrndCAAAAk6aud0IAAMD4+K53QgAAgF5Lr3dCAABAxJ2vd0IAAAAq8K93QgAAwI9CsHdCAACA9ZSwd0IAAEBb57B3QgAAAME5sXdCAADAJoyxd0IAAICM3rF3QgAAQPIwsndCAAAAWIOyd0IAAMC91bJ3QgAAgCMos3dCAABAiXqzd0IAAADvzLN3QgAAwFQftHdCAACAunG0d0IAAEAgxLR3QgAAAIYWtXdCAADA62i1d0IAAIBRu7V3QgAAQLcNtndCAAAAHWC2d0IAAMCCsrZ3QgAAgOgEt3dCAABATle3d0IAAAC0qbd3Qg==\",\"dtype\":\"float64\",\"order\":\"little\",\"shape\":[56]},\"users\":[3123,2870,2020,1828,2722,2991,2976,2834,2609,1832,1462,2563,2897,3057,2697,2391,1730,1434,2455,2508,2563,2447,2543,1714,1415,2407,2587,2314,2465,2088,1535,133,2146,2266,2330,2323,2003,1406,1239,1989,2268,2249,2322,2098,1477,1308,1920,2219,2482,2345,2185,1546,1393,2371,2547,2448]},\"selected\":{\"id\":\"6258\"},\"selection_policy\":{\"id\":\"6274\"}},\"id\":\"6257\",\"type\":\"ColumnDataSource\"},{\"attributes\":{\"line_color\":\"#fc4f30\",\"line_width\":2,\"x\":{\"field\":\"index\"},\"y\":{\"field\":\"predicted_mean\"}},\"id\":\"6293\",\"type\":\"Line\"},{\"attributes\":{\"bottom_units\":\"screen\",\"fill_alpha\":0.5,\"fill_color\":\"lightgrey\",\"left_units\":\"screen\",\"level\":\"overlay\",\"line_alpha\":1.0,\"line_color\":\"black\",\"line_dash\":[4,4],\"line_width\":2,\"right_units\":\"screen\",\"syncable\":false,\"top_units\":\"screen\"},\"id\":\"6242\",\"type\":\"BoxAnnotation\"},{\"attributes\":{\"end\":1629849600000.0,\"reset_end\":1629849600000.0,\"reset_start\":1625097600000.0,\"start\":1625097600000.0,\"tags\":[[[\"date\",\"date\",null]]]},\"id\":\"6216\",\"type\":\"Range1d\"},{\"attributes\":{},\"id\":\"6256\",\"type\":\"AllLabels\"},{\"attributes\":{\"margin\":[5,5,5,5],\"name\":\"HSpacer11986\",\"sizing_mode\":\"stretch_width\"},\"id\":\"6540\",\"type\":\"Spacer\"},{\"attributes\":{\"below\":[{\"id\":\"6229\"}],\"center\":[{\"id\":\"6232\"},{\"id\":\"6236\"},{\"id\":\"6287\"}],\"height\":300,\"left\":[{\"id\":\"6233\"}],\"margin\":[5,5,5,5],\"min_border_bottom\":10,\"min_border_left\":10,\"min_border_right\":10,\"min_border_top\":10,\"renderers\":[{\"id\":\"6263\"},{\"id\":\"6296\"}],\"sizing_mode\":\"fixed\",\"title\":{\"id\":\"6221\"},\"toolbar\":{\"id\":\"6243\"},\"width\":700,\"x_range\":{\"id\":\"6216\"},\"x_scale\":{\"id\":\"6225\"},\"y_range\":{\"id\":\"6217\"},\"y_scale\":{\"id\":\"6227\"}},\"id\":\"6220\",\"subtype\":\"Figure\",\"type\":\"Plot\"},{\"attributes\":{\"end\":3566.0708713106824,\"reset_end\":3566.0708713106824,\"reset_start\":-179.0973519373348,\"start\":-179.0973519373348,\"tags\":[[[\"users\",\"users\",null]]]},\"id\":\"6217\",\"type\":\"Range1d\"},{\"attributes\":{\"data\":{\"index\":{\"__ndarray__\":\"AADA1/Wld0IAAIA9SKZ3QgAAQKOapndCAAAACe2md0IAAMBuP6d3QgAAgNSRp3dCAABAOuSnd0IAAACgNqh3QgAAwAWJqHdCAACAa9uod0IAAEDRLal3QgAAADeAqXdCAADAnNKpd0IAAIACJap3QgAAQGh3qndCAAAAzsmqd0IAAMAzHKt3QgAAgJluq3dCAABA/8Crd0IAAABlE6x3QgAAwMplrHdCAACAMLisd0IAAECWCq13QgAAAPxcrXdCAADAYa+td0IAAIDHAa53QgAAQC1UrndCAAAAk6aud0IAAMD4+K53QgAAgF5Lr3dCAABAxJ2vd0IAAAAq8K93QgAAwI9CsHdCAACA9ZSwd0IAAEBb57B3QgAAAME5sXdCAADAJoyxd0IAAICM3rF3QgAAQPIwsndCAAAAWIOyd0IAAMC91bJ3QgAAgCMos3dCAABAiXqzd0IAAADvzLN3QgAAwFQftHdCAACAunG0d0IAAEAgxLR3QgAAAIYWtXdCAADA62i1d0IAAIBRu7V3QgAAQLcNtndCAAAAHWC2d0IAAMCCsrZ3QgAAgOgEt3dCAABATle3d0IAAAC0qbd3Qg==\",\"dtype\":\"float64\",\"order\":\"little\",\"shape\":[56]},\"predicted_mean\":{\"__ndarray__\":\"WahGCC6+qEAafC9E/ESnQKymx6HUdaFA2tulAKo1n0DCuz0Dqj2nQGa9yghxZKlAGp0hcfJrqUD6nTJSdNulQO6vtF6P8qNAhYgIG4bznEBGgGtC++SaQKocyrG94KNAcZVAM2uDpkASLxQ5aK6mQFg7aBcNLKdAgCsjM74IpUCxJhOvOtCeQIzxbuBY7ZpAnuBpNEm/pEDPa1bu9o+nQGYZxqydeKhABok10BF7okCWM0m73zWgQGQ2d2Om/pZAc1tgWcfxk0CFGxIRh7ygQLM5A2QzCqJANM+s1xDCokC8vU2VfuyhQDfKG6nfXqJAoMEEklXzmECscbne6kqVQDQdi6yTdKFAceNlt9DSokBSW1AO2TmhQFvhmPUeiKNABrbkv/DqoEAIfvKp4CCXQIy3+K19nYJARSvbFzFaoUBEWo9U4D6jQIhZ31KlgKNAhELdxioboUBH18fwYYmdQPnmwwiIQZZAGa17rpOGkUDbKePjouKbQBoE61YohaBAQqIvtexvoEB/nivZGaajQNTMiJviMqFAyLDXFd2DmUDS2oZCaRSXQMQ3+fJjIJ9Aji9smGENokBTlriCBqSjQA==\",\"dtype\":\"float64\",\"order\":\"little\",\"shape\":[56]}},\"selected\":{\"id\":\"6291\"},\"selection_policy\":{\"id\":\"6309\"}},\"id\":\"6290\",\"type\":\"ColumnDataSource\"},{\"attributes\":{\"callback\":null,\"formatters\":{\"@{index}\":\"datetime\"},\"renderers\":[{\"id\":\"6296\"}],\"tags\":[\"hv_created\"],\"tooltips\":[[\"index\",\"@{index}{%F %T}\"],[\"predicted_mean\",\"@{predicted_mean}\"]]},\"id\":\"6219\",\"type\":\"HoverTool\"},{\"attributes\":{\"line_alpha\":0.1,\"line_color\":\"#30a2da\",\"line_width\":2,\"x\":{\"field\":\"date\"},\"y\":{\"field\":\"users\"}},\"id\":\"6261\",\"type\":\"Line\"},{\"attributes\":{},\"id\":\"6237\",\"type\":\"SaveTool\"},{\"attributes\":{\"axis_label\":\"users\",\"formatter\":{\"id\":\"6254\"},\"major_label_policy\":{\"id\":\"6256\"},\"ticker\":{\"id\":\"6234\"}},\"id\":\"6233\",\"type\":\"LinearAxis\"},{\"attributes\":{\"children\":[{\"id\":\"6215\"},{\"id\":\"6220\"},{\"id\":\"6540\"}],\"margin\":[0,0,0,0],\"name\":\"Row11981\",\"tags\":[\"embedded\"]},\"id\":\"6214\",\"type\":\"Row\"},{\"attributes\":{},\"id\":\"6238\",\"type\":\"PanTool\"},{\"attributes\":{\"data_source\":{\"id\":\"6257\"},\"glyph\":{\"id\":\"6260\"},\"hover_glyph\":null,\"muted_glyph\":{\"id\":\"6262\"},\"nonselection_glyph\":{\"id\":\"6261\"},\"selection_glyph\":{\"id\":\"6289\"},\"view\":{\"id\":\"6264\"}},\"id\":\"6263\",\"type\":\"GlyphRenderer\"},{\"attributes\":{\"line_alpha\":0.2,\"line_color\":\"#fc4f30\",\"line_width\":2,\"x\":{\"field\":\"index\"},\"y\":{\"field\":\"predicted_mean\"}},\"id\":\"6295\",\"type\":\"Line\"},{\"attributes\":{\"base\":24,\"mantissas\":[1,2,4,6,8,12],\"max_interval\":43200000.0,\"min_interval\":3600000.0,\"num_minor_ticks\":0},\"id\":\"6277\",\"type\":\"AdaptiveTicker\"},{\"attributes\":{},\"id\":\"6239\",\"type\":\"WheelZoomTool\"},{\"attributes\":{},\"id\":\"6274\",\"type\":\"UnionRenderers\"},{\"attributes\":{},\"id\":\"6291\",\"type\":\"Selection\"},{\"attributes\":{},\"id\":\"6254\",\"type\":\"BasicTickFormatter\"},{\"attributes\":{},\"id\":\"6241\",\"type\":\"ResetTool\"},{\"attributes\":{\"data_source\":{\"id\":\"6290\"},\"glyph\":{\"id\":\"6293\"},\"hover_glyph\":null,\"muted_glyph\":{\"id\":\"6295\"},\"nonselection_glyph\":{\"id\":\"6294\"},\"selection_glyph\":{\"id\":\"6323\"},\"view\":{\"id\":\"6297\"}},\"id\":\"6296\",\"type\":\"GlyphRenderer\"},{\"attributes\":{\"line_color\":\"#30a2da\",\"line_width\":2,\"x\":{\"field\":\"date\"},\"y\":{\"field\":\"users\"}},\"id\":\"6289\",\"type\":\"Line\"},{\"attributes\":{},\"id\":\"6253\",\"type\":\"AllLabels\"},{\"attributes\":{\"margin\":[5,5,5,5],\"name\":\"HSpacer11985\",\"sizing_mode\":\"stretch_width\"},\"id\":\"6215\",\"type\":\"Spacer\"},{\"attributes\":{\"text\":\"Predicci\\u00f3n (ARIMA) vs vistas reales\",\"text_color\":\"black\",\"text_font_size\":\"12pt\"},\"id\":\"6221\",\"type\":\"Title\"},{\"attributes\":{\"overlay\":{\"id\":\"6242\"}},\"id\":\"6240\",\"type\":\"BoxZoomTool\"},{\"attributes\":{\"source\":{\"id\":\"6257\"}},\"id\":\"6264\",\"type\":\"CDSView\"},{\"attributes\":{\"line_alpha\":0.2,\"line_color\":\"#30a2da\",\"line_width\":2,\"x\":{\"field\":\"date\"},\"y\":{\"field\":\"users\"}},\"id\":\"6262\",\"type\":\"Line\"},{\"attributes\":{\"line_alpha\":0.1,\"line_color\":\"#fc4f30\",\"line_width\":2,\"x\":{\"field\":\"index\"},\"y\":{\"field\":\"predicted_mean\"}},\"id\":\"6294\",\"type\":\"Line\"},{\"attributes\":{\"days\":[1,8,15,22]},\"id\":\"6280\",\"type\":\"DaysTicker\"},{\"attributes\":{\"active_multi\":null,\"tools\":[{\"id\":\"6218\"},{\"id\":\"6219\"},{\"id\":\"6237\"},{\"id\":\"6238\"},{\"id\":\"6239\"},{\"id\":\"6240\"},{\"id\":\"6241\"}]},\"id\":\"6243\",\"type\":\"Toolbar\"},{\"attributes\":{\"click_policy\":\"mute\",\"items\":[{\"id\":\"6288\"},{\"id\":\"6322\"}],\"location\":\"bottom_left\"},\"id\":\"6287\",\"type\":\"Legend\"},{\"attributes\":{\"axis_label\":\"date\",\"formatter\":{\"id\":\"6251\"},\"major_label_policy\":{\"id\":\"6253\"},\"ticker\":{\"id\":\"6230\"}},\"id\":\"6229\",\"type\":\"DatetimeAxis\"},{\"attributes\":{\"source\":{\"id\":\"6290\"}},\"id\":\"6297\",\"type\":\"CDSView\"},{\"attributes\":{},\"id\":\"6225\",\"type\":\"LinearScale\"},{\"attributes\":{},\"id\":\"6251\",\"type\":\"DatetimeTickFormatter\"},{\"attributes\":{\"mantissas\":[1,2,5],\"max_interval\":500.0,\"num_minor_ticks\":0},\"id\":\"6275\",\"type\":\"AdaptiveTicker\"},{\"attributes\":{\"months\":[0,1,2,3,4,5,6,7,8,9,10,11]},\"id\":\"6282\",\"type\":\"MonthsTicker\"},{\"attributes\":{\"label\":{\"value\":\"predicci\\u00f3n\"},\"renderers\":[{\"id\":\"6296\"}]},\"id\":\"6322\",\"type\":\"LegendItem\"},{\"attributes\":{},\"id\":\"6258\",\"type\":\"Selection\"},{\"attributes\":{\"days\":[1,15]},\"id\":\"6281\",\"type\":\"DaysTicker\"},{\"attributes\":{\"num_minor_ticks\":5,\"tickers\":[{\"id\":\"6275\"},{\"id\":\"6276\"},{\"id\":\"6277\"},{\"id\":\"6278\"},{\"id\":\"6279\"},{\"id\":\"6280\"},{\"id\":\"6281\"},{\"id\":\"6282\"},{\"id\":\"6283\"},{\"id\":\"6284\"},{\"id\":\"6285\"},{\"id\":\"6286\"}]},\"id\":\"6230\",\"type\":\"DatetimeTicker\"},{\"attributes\":{},\"id\":\"6309\",\"type\":\"UnionRenderers\"},{\"attributes\":{\"days\":[1,2,3,4,5,6,7,8,9,10,11,12,13,14,15,16,17,18,19,20,21,22,23,24,25,26,27,28,29,30,31]},\"id\":\"6278\",\"type\":\"DaysTicker\"},{\"attributes\":{},\"id\":\"6227\",\"type\":\"LinearScale\"},{\"attributes\":{\"days\":[1,4,7,10,13,16,19,22,25,28]},\"id\":\"6279\",\"type\":\"DaysTicker\"},{\"attributes\":{\"months\":[0,6]},\"id\":\"6285\",\"type\":\"MonthsTicker\"},{\"attributes\":{\"line_color\":\"#fc4f30\",\"line_width\":2,\"x\":{\"field\":\"index\"},\"y\":{\"field\":\"predicted_mean\"}},\"id\":\"6323\",\"type\":\"Line\"},{\"attributes\":{\"base\":60,\"mantissas\":[1,2,5,10,15,20,30],\"max_interval\":1800000.0,\"min_interval\":1000.0,\"num_minor_ticks\":0},\"id\":\"6276\",\"type\":\"AdaptiveTicker\"},{\"attributes\":{},\"id\":\"6234\",\"type\":\"BasicTicker\"},{\"attributes\":{\"axis\":{\"id\":\"6229\"},\"grid_line_color\":null,\"ticker\":null},\"id\":\"6232\",\"type\":\"Grid\"}],\"root_ids\":[\"6214\"]},\"title\":\"Bokeh Application\",\"version\":\"2.3.3\"}};\n",
       "    var render_items = [{\"docid\":\"cf2f4ed4-2a54-417e-b917-e648be4bf558\",\"root_ids\":[\"6214\"],\"roots\":{\"6214\":\"0a5d4a9e-5884-401e-aa6e-937df46fc945\"}}];\n",
       "    root.Bokeh.embed.embed_items_notebook(docs_json, render_items);\n",
       "  }\n",
       "  if (root.Bokeh !== undefined && root.Bokeh.Panel !== undefined) {\n",
       "    embed_document(root);\n",
       "  } else {\n",
       "    var attempts = 0;\n",
       "    var timer = setInterval(function(root) {\n",
       "      if (root.Bokeh !== undefined && root.Bokeh.Panel !== undefined) {\n",
       "        clearInterval(timer);\n",
       "        embed_document(root);\n",
       "      } else if (document.readyState == \"complete\") {\n",
       "        attempts++;\n",
       "        if (attempts > 200) {\n",
       "          clearInterval(timer);\n",
       "          console.log(\"Bokeh: ERROR: Unable to run BokehJS code because BokehJS library is missing\");\n",
       "        }\n",
       "      }\n",
       "    }, 25, root)\n",
       "  }\n",
       "})(window);</script>"
      ],
      "text/plain": [
       ":Overlay\n",
       "   .Curve.Test       :Curve   [date]   (users)\n",
       "   .Curve.Predicción :Curve   [index]   (predicted_mean)"
      ]
     },
     "execution_count": 41,
     "metadata": {
      "application/vnd.holoviews_exec.v0+json": {
       "id": "6214"
      }
     },
     "output_type": "execute_result"
    }
   ],
   "source": [
    "# fig, ax = plt.subplots(figsize=(10, 3))\n",
    "# datos_test.loc[predicciones.index, 'users'].plot(linewidth=2, label='test', ax=ax)\n",
    "# predicciones.plot(linewidth=2, label='predicción', ax=ax)\n",
    "# ax.set_title('Predicción (ARIMA) vs vistas reales')\n",
    "# ax.legend();\n",
    "\n",
    "plot_test = datos_test.users.hvplot.line(label='test')\n",
    "plot_predict = predicciones['predicted_mean'].hvplot.line(label='predicción')\n",
    "layout = plot_test * plot_predict\n",
    "layout = layout.opts(\n",
    "            title = 'Predicción (ARIMA) vs vistas reales',\n",
    "            ylabel = 'users',\n",
    "            legend_position = 'bottom_left'\n",
    "         )\n",
    "layout"
   ]
  },
  {
   "cell_type": "markdown",
   "metadata": {},
   "source": [
    "### Optimización de hiperparámetros (*tuning*)\n",
    "<br>\n",
    "\n",
    "Al igual que la mayoría de modelos, ARIMA tienen una serie de hiperparámetros que controlan su comportamiento:\n",
    "\n",
    "+ p: número de lags incluidos como predictores en el modelo autoregresivo.\n",
    "\n",
    "+ d: número de veces que se diferencian los datos, esto es el número de veces que a cada valor se le resta el valor anterior.\n",
    "\n",
    "+ q: tamaño de ventana para la media móvil.\n",
    "\n",
    "En la implementación de statsmodels, estos hiperparámetros se indican a través del argumento `order`. Dos buenas referencias para conocer más detalles de los modelos ARIMA son:  https://openforecast.org/adam/ARIMA.html y https://otexts.com/fpp3/arima.html.\n",
    "\n",
    "\n",
    "Con la función `grid_search_sarimax` se puede realizar una búsqueda de hiperparámetros comparando los modelos acorde a una métrica obtenida por validación cruzada o backtesting, o por las métricas aic y bic. "
   ]
  },
  {
   "cell_type": "code",
   "execution_count": 42,
   "metadata": {},
   "outputs": [
    {
     "name": "stderr",
     "output_type": "stream",
     "text": [
      "root       INFO  Number of models compared: 10\n",
      "100%|█████████████████████████████████████████████████████| 10/10 [02:38<00:00, 15.90s/it]\n"
     ]
    },
    {
     "data": {
      "text/html": [
       "<div>\n",
       "<style scoped>\n",
       "    .dataframe tbody tr th:only-of-type {\n",
       "        vertical-align: middle;\n",
       "    }\n",
       "\n",
       "    .dataframe tbody tr th {\n",
       "        vertical-align: top;\n",
       "    }\n",
       "\n",
       "    .dataframe thead th {\n",
       "        text-align: right;\n",
       "    }\n",
       "</style>\n",
       "<table border=\"1\" class=\"dataframe\">\n",
       "  <thead>\n",
       "    <tr style=\"text-align: right;\">\n",
       "      <th></th>\n",
       "      <th>params</th>\n",
       "      <th>metric</th>\n",
       "      <th>order</th>\n",
       "      <th>seasonal_order</th>\n",
       "      <th>trend</th>\n",
       "    </tr>\n",
       "  </thead>\n",
       "  <tbody>\n",
       "    <tr>\n",
       "      <th>8</th>\n",
       "      <td>{'order': (21, 1, 1), 'seasonal_order': (0, 0,...</td>\n",
       "      <td>[181.25668313031056]</td>\n",
       "      <td>(21, 1, 1)</td>\n",
       "      <td>(0, 0, 0, 0)</td>\n",
       "      <td>None</td>\n",
       "    </tr>\n",
       "    <tr>\n",
       "      <th>7</th>\n",
       "      <td>{'order': (21, 1, 0), 'seasonal_order': (0, 0,...</td>\n",
       "      <td>[182.1366756459324]</td>\n",
       "      <td>(21, 1, 0)</td>\n",
       "      <td>(0, 0, 0, 0)</td>\n",
       "      <td>None</td>\n",
       "    </tr>\n",
       "    <tr>\n",
       "      <th>5</th>\n",
       "      <td>{'order': (21, 0, 0), 'seasonal_order': (0, 0,...</td>\n",
       "      <td>[184.78070669249493]</td>\n",
       "      <td>(21, 0, 0)</td>\n",
       "      <td>(0, 0, 0, 0)</td>\n",
       "      <td>None</td>\n",
       "    </tr>\n",
       "    <tr>\n",
       "      <th>6</th>\n",
       "      <td>{'order': (21, 0, 0), 'seasonal_order': (0, 0,...</td>\n",
       "      <td>[184.78070669249493]</td>\n",
       "      <td>(21, 0, 0)</td>\n",
       "      <td>(0, 0, 0, 0)</td>\n",
       "      <td>None</td>\n",
       "    </tr>\n",
       "    <tr>\n",
       "      <th>3</th>\n",
       "      <td>{'order': (14, 1, 1), 'seasonal_order': (0, 0,...</td>\n",
       "      <td>[193.90492918012754]</td>\n",
       "      <td>(14, 1, 1)</td>\n",
       "      <td>(0, 0, 0, 0)</td>\n",
       "      <td>None</td>\n",
       "    </tr>\n",
       "    <tr>\n",
       "      <th>2</th>\n",
       "      <td>{'order': (14, 1, 0), 'seasonal_order': (0, 0,...</td>\n",
       "      <td>[194.06987685853437]</td>\n",
       "      <td>(14, 1, 0)</td>\n",
       "      <td>(0, 0, 0, 0)</td>\n",
       "      <td>None</td>\n",
       "    </tr>\n",
       "    <tr>\n",
       "      <th>1</th>\n",
       "      <td>{'order': (14, 2, 0), 'seasonal_order': (0, 0,...</td>\n",
       "      <td>[201.13903998855224]</td>\n",
       "      <td>(14, 2, 0)</td>\n",
       "      <td>(0, 0, 0, 0)</td>\n",
       "      <td>None</td>\n",
       "    </tr>\n",
       "    <tr>\n",
       "      <th>9</th>\n",
       "      <td>{'order': (21, 1, 4), 'seasonal_order': (0, 0,...</td>\n",
       "      <td>[206.15563233155993]</td>\n",
       "      <td>(21, 1, 4)</td>\n",
       "      <td>(0, 0, 0, 0)</td>\n",
       "      <td>None</td>\n",
       "    </tr>\n",
       "    <tr>\n",
       "      <th>0</th>\n",
       "      <td>{'order': (14, 0, 0), 'seasonal_order': (0, 0,...</td>\n",
       "      <td>[212.0833084610171]</td>\n",
       "      <td>(14, 0, 0)</td>\n",
       "      <td>(0, 0, 0, 0)</td>\n",
       "      <td>None</td>\n",
       "    </tr>\n",
       "    <tr>\n",
       "      <th>4</th>\n",
       "      <td>{'order': (14, 1, 4), 'seasonal_order': (0, 0,...</td>\n",
       "      <td>[214.83387942262434]</td>\n",
       "      <td>(14, 1, 4)</td>\n",
       "      <td>(0, 0, 0, 0)</td>\n",
       "      <td>None</td>\n",
       "    </tr>\n",
       "  </tbody>\n",
       "</table>\n",
       "</div>"
      ],
      "text/plain": [
       "                                              params                metric  \\\n",
       "8  {'order': (21, 1, 1), 'seasonal_order': (0, 0,...  [181.25668313031056]   \n",
       "7  {'order': (21, 1, 0), 'seasonal_order': (0, 0,...   [182.1366756459324]   \n",
       "5  {'order': (21, 0, 0), 'seasonal_order': (0, 0,...  [184.78070669249493]   \n",
       "6  {'order': (21, 0, 0), 'seasonal_order': (0, 0,...  [184.78070669249493]   \n",
       "3  {'order': (14, 1, 1), 'seasonal_order': (0, 0,...  [193.90492918012754]   \n",
       "2  {'order': (14, 1, 0), 'seasonal_order': (0, 0,...  [194.06987685853437]   \n",
       "1  {'order': (14, 2, 0), 'seasonal_order': (0, 0,...  [201.13903998855224]   \n",
       "9  {'order': (21, 1, 4), 'seasonal_order': (0, 0,...  [206.15563233155993]   \n",
       "0  {'order': (14, 0, 0), 'seasonal_order': (0, 0,...   [212.0833084610171]   \n",
       "4  {'order': (14, 1, 4), 'seasonal_order': (0, 0,...  [214.83387942262434]   \n",
       "\n",
       "        order seasonal_order trend  \n",
       "8  (21, 1, 1)   (0, 0, 0, 0)  None  \n",
       "7  (21, 1, 0)   (0, 0, 0, 0)  None  \n",
       "5  (21, 0, 0)   (0, 0, 0, 0)  None  \n",
       "6  (21, 0, 0)   (0, 0, 0, 0)  None  \n",
       "3  (14, 1, 1)   (0, 0, 0, 0)  None  \n",
       "2  (14, 1, 0)   (0, 0, 0, 0)  None  \n",
       "1  (14, 2, 0)   (0, 0, 0, 0)  None  \n",
       "9  (21, 1, 4)   (0, 0, 0, 0)  None  \n",
       "0  (14, 0, 0)   (0, 0, 0, 0)  None  \n",
       "4  (14, 1, 4)   (0, 0, 0, 0)  None  "
      ]
     },
     "execution_count": 42,
     "metadata": {},
     "output_type": "execute_result"
    }
   ],
   "source": [
    "# Grid search de hiperparámetros\n",
    "# ==============================================================================\n",
    "param_grid = {'order': [(14, 0, 0), (14, 2, 0), (14, 1, 0), (14, 1, 1), (14, 1, 4),\n",
    "                        (21, 0, 0), (21, 0, 0), (21, 1, 0), (21, 1, 1), (21, 1, 4)]}\n",
    "\n",
    "results = grid_search_sarimax(\n",
    "            y       = datos.users,\n",
    "            param_grid = param_grid,\n",
    "            initial_train_size = len(datos.loc[:fin_validacion]),\n",
    "            steps   = 7,\n",
    "            metric  = 'mean_absolute_error',\n",
    "            refit   = False,\n",
    "            verbose = False,\n",
    "            fit_kwargs = {'maxiter': 200, 'disp': 0}\n",
    "         )\n",
    "\n",
    "results"
   ]
  },
  {
   "cell_type": "code",
   "execution_count": 43,
   "metadata": {},
   "outputs": [
    {
     "name": "stdout",
     "output_type": "stream",
     "text": [
      "Number of observations used for training: 365\n",
      "Number of observations used for backtesting: 56\n",
      "    Number of folds: 8\n",
      "    Number of steps per fold: 7\n",
      "Error backtest: [181.36835248]\n"
     ]
    }
   ],
   "source": [
    "# Backtest modelo final\n",
    "# ==============================================================================\n",
    "metrica, predicciones = backtesting_sarimax(\n",
    "                            y       = datos.users,\n",
    "                            order   = (21, 1, 1),\n",
    "                            seasonal_order = (0, 0, 0, 0),\n",
    "                            initial_train_size = len(datos.loc[:fin_validacion]),\n",
    "                            steps   = 7,\n",
    "                            metric  = 'mean_absolute_error',\n",
    "                            refit   = False,\n",
    "                            verbose = True,\n",
    "                            fit_kwargs = {'maxiter': 250, 'disp': 0}\n",
    "                        )\n",
    "\n",
    "print(f'Error backtest: {metrica}')"
   ]
  },
  {
   "cell_type": "markdown",
   "metadata": {},
   "source": [
    "## Forecasting con variables exógenas\n",
    "<br>\n",
    "\n",
    "En el ejemplo anterior, se han utilizado como predictores únicamente lags de la propia variable objetivo. En ciertos escenarios, es posible disponer de información sobre otras variables, **cuyo valor a futuro se conoce**, y que pueden servir como predictores adicionales en el modelo. Algunos ejemplos típicos son:\n",
    "\n",
    "+ Festivos (local, nacional...)\n",
    "\n",
    "+ Mes del año\n",
    "\n",
    "+ Día de la semana\n",
    "\n",
    "+ Hora del día\n",
    "\n",
    "En este caso de uso, el análisis gráfico mostraba evidencias de que, los fines de semana, el número de visitas a la web se reduce. El día de la semana al que corresponde cada fecha puede saberse a futuro, por lo que se puede emplear como variable exógena. Véase cómo afecta a los modelos si se incluye como predictor está información."
   ]
  },
  {
   "cell_type": "code",
   "execution_count": 44,
   "metadata": {},
   "outputs": [
    {
     "data": {
      "text/html": [
       "<div>\n",
       "<style scoped>\n",
       "    .dataframe tbody tr th:only-of-type {\n",
       "        vertical-align: middle;\n",
       "    }\n",
       "\n",
       "    .dataframe tbody tr th {\n",
       "        vertical-align: top;\n",
       "    }\n",
       "\n",
       "    .dataframe thead th {\n",
       "        text-align: right;\n",
       "    }\n",
       "</style>\n",
       "<table border=\"1\" class=\"dataframe\">\n",
       "  <thead>\n",
       "    <tr style=\"text-align: right;\">\n",
       "      <th></th>\n",
       "      <th>users</th>\n",
       "      <th>dia_semana_1</th>\n",
       "      <th>dia_semana_2</th>\n",
       "      <th>dia_semana_3</th>\n",
       "      <th>dia_semana_4</th>\n",
       "      <th>dia_semana_5</th>\n",
       "      <th>dia_semana_6</th>\n",
       "      <th>dia_semana_7</th>\n",
       "    </tr>\n",
       "    <tr>\n",
       "      <th>date</th>\n",
       "      <th></th>\n",
       "      <th></th>\n",
       "      <th></th>\n",
       "      <th></th>\n",
       "      <th></th>\n",
       "      <th></th>\n",
       "      <th></th>\n",
       "      <th></th>\n",
       "    </tr>\n",
       "  </thead>\n",
       "  <tbody>\n",
       "    <tr>\n",
       "      <th>2020-07-01</th>\n",
       "      <td>2324</td>\n",
       "      <td>0</td>\n",
       "      <td>0</td>\n",
       "      <td>1</td>\n",
       "      <td>0</td>\n",
       "      <td>0</td>\n",
       "      <td>0</td>\n",
       "      <td>0</td>\n",
       "    </tr>\n",
       "    <tr>\n",
       "      <th>2020-07-02</th>\n",
       "      <td>2201</td>\n",
       "      <td>0</td>\n",
       "      <td>0</td>\n",
       "      <td>0</td>\n",
       "      <td>1</td>\n",
       "      <td>0</td>\n",
       "      <td>0</td>\n",
       "      <td>0</td>\n",
       "    </tr>\n",
       "    <tr>\n",
       "      <th>2020-07-03</th>\n",
       "      <td>2146</td>\n",
       "      <td>0</td>\n",
       "      <td>0</td>\n",
       "      <td>0</td>\n",
       "      <td>0</td>\n",
       "      <td>1</td>\n",
       "      <td>0</td>\n",
       "      <td>0</td>\n",
       "    </tr>\n",
       "  </tbody>\n",
       "</table>\n",
       "</div>"
      ],
      "text/plain": [
       "            users  dia_semana_1  dia_semana_2  dia_semana_3  dia_semana_4  \\\n",
       "date                                                                        \n",
       "2020-07-01   2324             0             0             1             0   \n",
       "2020-07-02   2201             0             0             0             1   \n",
       "2020-07-03   2146             0             0             0             0   \n",
       "\n",
       "            dia_semana_5  dia_semana_6  dia_semana_7  \n",
       "date                                                  \n",
       "2020-07-01             0             0             0  \n",
       "2020-07-02             0             0             0  \n",
       "2020-07-03             1             0             0  "
      ]
     },
     "execution_count": 44,
     "metadata": {},
     "output_type": "execute_result"
    }
   ],
   "source": [
    "# Creación de nuevas variables exógenas\n",
    "# ==============================================================================\n",
    "datos=datos.drop(columns=['mes', 'dia_mes'])\n",
    "# One hot encoding del día de la semana y la hora del día\n",
    "datos=pd.get_dummies(datos, columns=['dia_semana'])\n",
    "datos.head(3)"
   ]
  },
  {
   "cell_type": "code",
   "execution_count": 45,
   "metadata": {},
   "outputs": [],
   "source": [
    "# Separación datos train-test\n",
    "# ==============================================================================\n",
    "datos_train = datos.loc[: fin_train, :]\n",
    "datos_val   = datos.loc[fin_train:fin_validacion, :]\n",
    "datos_test  = datos.loc[fin_validacion:, :]"
   ]
  },
  {
   "cell_type": "markdown",
   "metadata": {},
   "source": [
    "### ForecasterAutoreg"
   ]
  },
  {
   "cell_type": "code",
   "execution_count": 46,
   "metadata": {},
   "outputs": [
    {
     "name": "stdout",
     "output_type": "stream",
     "text": [
      "Information of backtesting process\n",
      "----------------------------------\n",
      "Number of observations used for initial training or as initial window: 365\n",
      "Number of observations used for backtesting: 56\n",
      "    Number of folds: 8\n",
      "    Number of steps per fold: 7\n",
      "\n",
      "Data partition in fold: 0\n",
      "    Training:   2020-07-01 00:00:00 -- 2021-06-30 00:00:00\n",
      "    Validation: 2021-07-01 00:00:00 -- 2021-07-07 00:00:00\n",
      "Data partition in fold: 1\n",
      "    Training:   2020-07-01 00:00:00 -- 2021-06-30 00:00:00\n",
      "    Validation: 2021-07-08 00:00:00 -- 2021-07-14 00:00:00\n",
      "Data partition in fold: 2\n",
      "    Training:   2020-07-01 00:00:00 -- 2021-06-30 00:00:00\n",
      "    Validation: 2021-07-15 00:00:00 -- 2021-07-21 00:00:00\n",
      "Data partition in fold: 3\n",
      "    Training:   2020-07-01 00:00:00 -- 2021-06-30 00:00:00\n",
      "    Validation: 2021-07-22 00:00:00 -- 2021-07-28 00:00:00\n",
      "Data partition in fold: 4\n",
      "    Training:   2020-07-01 00:00:00 -- 2021-06-30 00:00:00\n",
      "    Validation: 2021-07-29 00:00:00 -- 2021-08-04 00:00:00\n",
      "Data partition in fold: 5\n",
      "    Training:   2020-07-01 00:00:00 -- 2021-06-30 00:00:00\n",
      "    Validation: 2021-08-05 00:00:00 -- 2021-08-11 00:00:00\n",
      "Data partition in fold: 6\n",
      "    Training:   2020-07-01 00:00:00 -- 2021-06-30 00:00:00\n",
      "    Validation: 2021-08-12 00:00:00 -- 2021-08-18 00:00:00\n",
      "Data partition in fold: 7\n",
      "    Training:   2020-07-01 00:00:00 -- 2021-06-30 00:00:00\n",
      "    Validation: 2021-08-19 00:00:00 -- 2021-08-25 00:00:00\n",
      "\n",
      "Error backtest: [178.92189063]\n"
     ]
    },
    {
     "data": {
      "text/html": [
       "<div>\n",
       "<style scoped>\n",
       "    .dataframe tbody tr th:only-of-type {\n",
       "        vertical-align: middle;\n",
       "    }\n",
       "\n",
       "    .dataframe tbody tr th {\n",
       "        vertical-align: top;\n",
       "    }\n",
       "\n",
       "    .dataframe thead th {\n",
       "        text-align: right;\n",
       "    }\n",
       "</style>\n",
       "<table border=\"1\" class=\"dataframe\">\n",
       "  <thead>\n",
       "    <tr style=\"text-align: right;\">\n",
       "      <th></th>\n",
       "      <th>pred</th>\n",
       "    </tr>\n",
       "  </thead>\n",
       "  <tbody>\n",
       "    <tr>\n",
       "      <th>2021-07-01</th>\n",
       "      <td>3295.704782</td>\n",
       "    </tr>\n",
       "    <tr>\n",
       "      <th>2021-07-02</th>\n",
       "      <td>3007.023949</td>\n",
       "    </tr>\n",
       "    <tr>\n",
       "      <th>2021-07-03</th>\n",
       "      <td>2244.458511</td>\n",
       "    </tr>\n",
       "    <tr>\n",
       "      <th>2021-07-04</th>\n",
       "      <td>1968.498544</td>\n",
       "    </tr>\n",
       "    <tr>\n",
       "      <th>2021-07-05</th>\n",
       "      <td>3005.467567</td>\n",
       "    </tr>\n",
       "  </tbody>\n",
       "</table>\n",
       "</div>"
      ],
      "text/plain": [
       "                   pred\n",
       "2021-07-01  3295.704782\n",
       "2021-07-02  3007.023949\n",
       "2021-07-03  2244.458511\n",
       "2021-07-04  1968.498544\n",
       "2021-07-05  3005.467567"
      ]
     },
     "execution_count": 46,
     "metadata": {},
     "output_type": "execute_result"
    }
   ],
   "source": [
    "# Crear y entrenar forecaster\n",
    "# ==============================================================================\n",
    "forecaster = ForecasterAutoreg(\n",
    "                regressor = make_pipeline(StandardScaler(), Ridge(alpha=10.0)),\n",
    "                lags      = 21,\n",
    "             )\n",
    "\n",
    "col_exog = [column for column in datos.columns if column.startswith(('dia'))]\n",
    "forecaster.fit(y=datos_train.users, exog=datos_train[col_exog])\n",
    "\n",
    "# Backtest modelo con variables exógenas\n",
    "# ==============================================================================\n",
    "metrica, predicciones = backtesting_forecaster(\n",
    "                            forecaster = forecaster,\n",
    "                            y          = datos.users,\n",
    "                            exog       = datos[col_exog],\n",
    "                            initial_train_size = len(datos.loc[:fin_validacion, :]),\n",
    "                            steps      = 7,\n",
    "                            metric     = 'mean_absolute_error',\n",
    "                            refit      = False,\n",
    "                            verbose    = True\n",
    "                        )\n",
    "\n",
    "print(f'Error backtest: {metrica}')\n",
    "predicciones.head(5)"
   ]
  },
  {
   "cell_type": "markdown",
   "metadata": {},
   "source": [
    "### ARIMA"
   ]
  },
  {
   "cell_type": "code",
   "execution_count": 47,
   "metadata": {},
   "outputs": [
    {
     "name": "stdout",
     "output_type": "stream",
     "text": [
      "Number of observations used for training: 365\n",
      "Number of observations used for backtesting: 56\n",
      "    Number of folds: 8\n",
      "    Number of steps per fold: 7\n",
      "Error backtest: [181.35000165]\n"
     ]
    },
    {
     "data": {
      "text/html": [
       "<div>\n",
       "<style scoped>\n",
       "    .dataframe tbody tr th:only-of-type {\n",
       "        vertical-align: middle;\n",
       "    }\n",
       "\n",
       "    .dataframe tbody tr th {\n",
       "        vertical-align: top;\n",
       "    }\n",
       "\n",
       "    .dataframe thead th {\n",
       "        text-align: right;\n",
       "    }\n",
       "</style>\n",
       "<table border=\"1\" class=\"dataframe\">\n",
       "  <thead>\n",
       "    <tr style=\"text-align: right;\">\n",
       "      <th></th>\n",
       "      <th>predicted_mean</th>\n",
       "      <th>lower users</th>\n",
       "      <th>upper users</th>\n",
       "    </tr>\n",
       "  </thead>\n",
       "  <tbody>\n",
       "    <tr>\n",
       "      <th>2021-07-01</th>\n",
       "      <td>3190.654527</td>\n",
       "      <td>2708.406954</td>\n",
       "      <td>3672.902099</td>\n",
       "    </tr>\n",
       "    <tr>\n",
       "      <th>2021-07-02</th>\n",
       "      <td>2986.914026</td>\n",
       "      <td>2300.884547</td>\n",
       "      <td>3672.943506</td>\n",
       "    </tr>\n",
       "    <tr>\n",
       "      <th>2021-07-03</th>\n",
       "      <td>2208.745065</td>\n",
       "      <td>1427.383848</td>\n",
       "      <td>2990.106282</td>\n",
       "    </tr>\n",
       "    <tr>\n",
       "      <th>2021-07-04</th>\n",
       "      <td>1960.777152</td>\n",
       "      <td>1095.386448</td>\n",
       "      <td>2826.167856</td>\n",
       "    </tr>\n",
       "    <tr>\n",
       "      <th>2021-07-05</th>\n",
       "      <td>3021.423149</td>\n",
       "      <td>2082.733072</td>\n",
       "      <td>3960.113227</td>\n",
       "    </tr>\n",
       "  </tbody>\n",
       "</table>\n",
       "</div>"
      ],
      "text/plain": [
       "            predicted_mean  lower users  upper users\n",
       "2021-07-01     3190.654527  2708.406954  3672.902099\n",
       "2021-07-02     2986.914026  2300.884547  3672.943506\n",
       "2021-07-03     2208.745065  1427.383848  2990.106282\n",
       "2021-07-04     1960.777152  1095.386448  2826.167856\n",
       "2021-07-05     3021.423149  2082.733072  3960.113227"
      ]
     },
     "execution_count": 47,
     "metadata": {},
     "output_type": "execute_result"
    }
   ],
   "source": [
    "# Backtest modelo con variables exógenas\n",
    "# ==============================================================================\n",
    "metrica, predicciones = backtesting_sarimax(\n",
    "                            y          = datos.users,\n",
    "                            exog       = datos[col_exog],\n",
    "                            order      = (21, 1, 1),\n",
    "                            seasonal_order = (0, 0, 0, 0),\n",
    "                            initial_train_size = len(datos.loc[:fin_validacion]),\n",
    "                            steps      = 7,\n",
    "                            metric     = 'mean_absolute_error',\n",
    "                            refit      = False,\n",
    "                            verbose    = True,\n",
    "                            fit_kwargs = {'maxiter': 250, 'disp': 0},\n",
    "                        )\n",
    "\n",
    "print(f'Error backtest: {metrica}')\n",
    "predicciones.head(5)"
   ]
  },
  {
   "cell_type": "code",
   "execution_count": 48,
   "metadata": {},
   "outputs": [
    {
     "data": {},
     "metadata": {},
     "output_type": "display_data"
    },
    {
     "data": {
      "application/vnd.holoviews_exec.v0+json": "",
      "text/html": [
       "<div id='6662'>\n",
       "\n",
       "\n",
       "\n",
       "\n",
       "\n",
       "  <div class=\"bk-root\" id=\"fcb6dbd9-8a0c-43ce-a17f-2b3a5dd9f535\" data-root-id=\"6662\"></div>\n",
       "</div>\n",
       "<script type=\"application/javascript\">(function(root) {\n",
       "  function embed_document(root) {\n",
       "    var docs_json = {\"3143ee68-67c2-44f1-88ef-25d3eb4b6d82\":{\"defs\":[{\"extends\":null,\"module\":null,\"name\":\"ReactiveHTML1\",\"overrides\":[],\"properties\":[]},{\"extends\":null,\"module\":null,\"name\":\"FlexBox1\",\"overrides\":[],\"properties\":[{\"default\":\"flex-start\",\"kind\":null,\"name\":\"align_content\"},{\"default\":\"flex-start\",\"kind\":null,\"name\":\"align_items\"},{\"default\":\"row\",\"kind\":null,\"name\":\"flex_direction\"},{\"default\":\"wrap\",\"kind\":null,\"name\":\"flex_wrap\"},{\"default\":\"flex-start\",\"kind\":null,\"name\":\"justify_content\"}]},{\"extends\":null,\"module\":null,\"name\":\"TemplateActions1\",\"overrides\":[],\"properties\":[{\"default\":0,\"kind\":null,\"name\":\"open_modal\"},{\"default\":0,\"kind\":null,\"name\":\"close_modal\"}]},{\"extends\":null,\"module\":null,\"name\":\"MaterialTemplateActions1\",\"overrides\":[],\"properties\":[{\"default\":0,\"kind\":null,\"name\":\"open_modal\"},{\"default\":0,\"kind\":null,\"name\":\"close_modal\"}]}],\"roots\":{\"references\":[{\"attributes\":{\"axis\":{\"id\":\"6677\"},\"grid_line_color\":null,\"ticker\":null},\"id\":\"6680\",\"type\":\"Grid\"},{\"attributes\":{},\"id\":\"6702\",\"type\":\"BasicTickFormatter\"},{\"attributes\":{\"end\":3637.106882179055,\"reset_end\":3637.106882179055,\"reset_start\":-185.55517110718688,\"start\":-185.55517110718688,\"tags\":[[[\"users\",\"users\",null]]]},\"id\":\"6665\",\"type\":\"Range1d\"},{\"attributes\":{\"days\":[1,2,3,4,5,6,7,8,9,10,11,12,13,14,15,16,17,18,19,20,21,22,23,24,25,26,27,28,29,30,31]},\"id\":\"6726\",\"type\":\"DaysTicker\"},{\"attributes\":{\"axis\":{\"id\":\"6681\"},\"dimension\":1,\"grid_line_color\":null,\"ticker\":null},\"id\":\"6684\",\"type\":\"Grid\"},{\"attributes\":{\"click_policy\":\"mute\",\"items\":[{\"id\":\"6736\"},{\"id\":\"6770\"}],\"location\":\"bottom_left\"},\"id\":\"6735\",\"type\":\"Legend\"},{\"attributes\":{},\"id\":\"6699\",\"type\":\"DatetimeTickFormatter\"},{\"attributes\":{\"days\":[1,4,7,10,13,16,19,22,25,28]},\"id\":\"6727\",\"type\":\"DaysTicker\"},{\"attributes\":{\"children\":[{\"id\":\"6663\"},{\"id\":\"6668\"},{\"id\":\"6988\"}],\"margin\":[0,0,0,0],\"name\":\"Row12597\",\"tags\":[\"embedded\"]},\"id\":\"6662\",\"type\":\"Row\"},{\"attributes\":{\"line_color\":\"#30a2da\",\"line_width\":2,\"x\":{\"field\":\"date\"},\"y\":{\"field\":\"users\"}},\"id\":\"6708\",\"type\":\"Line\"},{\"attributes\":{\"bottom_units\":\"screen\",\"fill_alpha\":0.5,\"fill_color\":\"lightgrey\",\"left_units\":\"screen\",\"level\":\"overlay\",\"line_alpha\":1.0,\"line_color\":\"black\",\"line_dash\":[4,4],\"line_width\":2,\"right_units\":\"screen\",\"syncable\":false,\"top_units\":\"screen\"},\"id\":\"6690\",\"type\":\"BoxAnnotation\"},{\"attributes\":{\"days\":[1,8,15,22]},\"id\":\"6728\",\"type\":\"DaysTicker\"},{\"attributes\":{\"axis_label\":\"users\",\"formatter\":{\"id\":\"6702\"},\"major_label_policy\":{\"id\":\"6704\"},\"ticker\":{\"id\":\"6682\"}},\"id\":\"6681\",\"type\":\"LinearAxis\"},{\"attributes\":{},\"id\":\"6704\",\"type\":\"AllLabels\"},{\"attributes\":{\"line_alpha\":0.2,\"line_color\":\"#fc4f30\",\"line_width\":2,\"x\":{\"field\":\"index\"},\"y\":{\"field\":\"predicted_mean\"}},\"id\":\"6743\",\"type\":\"Line\"},{\"attributes\":{\"days\":[1,15]},\"id\":\"6729\",\"type\":\"DaysTicker\"},{\"attributes\":{\"margin\":[5,5,5,5],\"name\":\"HSpacer12602\",\"sizing_mode\":\"stretch_width\"},\"id\":\"6988\",\"type\":\"Spacer\"},{\"attributes\":{\"line_alpha\":0.1,\"line_color\":\"#30a2da\",\"line_width\":2,\"x\":{\"field\":\"date\"},\"y\":{\"field\":\"users\"}},\"id\":\"6709\",\"type\":\"Line\"},{\"attributes\":{\"months\":[0,1,2,3,4,5,6,7,8,9,10,11]},\"id\":\"6730\",\"type\":\"MonthsTicker\"},{\"attributes\":{},\"id\":\"6685\",\"type\":\"SaveTool\"},{\"attributes\":{\"text\":\"Predicci\\u00f3n (ARIMA) vs vistas reales\",\"text_color\":\"black\",\"text_font_size\":\"12pt\"},\"id\":\"6669\",\"type\":\"Title\"},{\"attributes\":{\"data\":{\"date\":{\"__ndarray__\":\"AADA1/Wld0IAAIA9SKZ3QgAAQKOapndCAAAACe2md0IAAMBuP6d3QgAAgNSRp3dCAABAOuSnd0IAAACgNqh3QgAAwAWJqHdCAACAa9uod0IAAEDRLal3QgAAADeAqXdCAADAnNKpd0IAAIACJap3QgAAQGh3qndCAAAAzsmqd0IAAMAzHKt3QgAAgJluq3dCAABA/8Crd0IAAABlE6x3QgAAwMplrHdCAACAMLisd0IAAECWCq13QgAAAPxcrXdCAADAYa+td0IAAIDHAa53QgAAQC1UrndCAAAAk6aud0IAAMD4+K53QgAAgF5Lr3dCAABAxJ2vd0IAAAAq8K93QgAAwI9CsHdCAACA9ZSwd0IAAEBb57B3QgAAAME5sXdCAADAJoyxd0IAAICM3rF3QgAAQPIwsndCAAAAWIOyd0IAAMC91bJ3QgAAgCMos3dCAABAiXqzd0IAAADvzLN3QgAAwFQftHdCAACAunG0d0IAAEAgxLR3QgAAAIYWtXdCAADA62i1d0IAAIBRu7V3QgAAQLcNtndCAAAAHWC2d0IAAMCCsrZ3QgAAgOgEt3dCAABATle3d0IAAAC0qbd3Qg==\",\"dtype\":\"float64\",\"order\":\"little\",\"shape\":[56]},\"users\":[3123,2870,2020,1828,2722,2991,2976,2834,2609,1832,1462,2563,2897,3057,2697,2391,1730,1434,2455,2508,2563,2447,2543,1714,1415,2407,2587,2314,2465,2088,1535,133,2146,2266,2330,2323,2003,1406,1239,1989,2268,2249,2322,2098,1477,1308,1920,2219,2482,2345,2185,1546,1393,2371,2547,2448]},\"selected\":{\"id\":\"6706\"},\"selection_policy\":{\"id\":\"6722\"}},\"id\":\"6705\",\"type\":\"ColumnDataSource\"},{\"attributes\":{\"months\":[0,2,4,6,8,10]},\"id\":\"6731\",\"type\":\"MonthsTicker\"},{\"attributes\":{},\"id\":\"6686\",\"type\":\"PanTool\"},{\"attributes\":{\"data_source\":{\"id\":\"6705\"},\"glyph\":{\"id\":\"6708\"},\"hover_glyph\":null,\"muted_glyph\":{\"id\":\"6710\"},\"nonselection_glyph\":{\"id\":\"6709\"},\"selection_glyph\":{\"id\":\"6737\"},\"view\":{\"id\":\"6712\"}},\"id\":\"6711\",\"type\":\"GlyphRenderer\"},{\"attributes\":{\"line_color\":\"#30a2da\",\"line_width\":2,\"x\":{\"field\":\"date\"},\"y\":{\"field\":\"users\"}},\"id\":\"6737\",\"type\":\"Line\"},{\"attributes\":{\"months\":[0,4,8]},\"id\":\"6732\",\"type\":\"MonthsTicker\"},{\"attributes\":{\"below\":[{\"id\":\"6677\"}],\"center\":[{\"id\":\"6680\"},{\"id\":\"6684\"},{\"id\":\"6735\"}],\"height\":300,\"left\":[{\"id\":\"6681\"}],\"margin\":[5,5,5,5],\"min_border_bottom\":10,\"min_border_left\":10,\"min_border_right\":10,\"min_border_top\":10,\"renderers\":[{\"id\":\"6711\"},{\"id\":\"6744\"}],\"sizing_mode\":\"fixed\",\"title\":{\"id\":\"6669\"},\"toolbar\":{\"id\":\"6691\"},\"width\":700,\"x_range\":{\"id\":\"6664\"},\"x_scale\":{\"id\":\"6673\"},\"y_range\":{\"id\":\"6665\"},\"y_scale\":{\"id\":\"6675\"}},\"id\":\"6668\",\"subtype\":\"Figure\",\"type\":\"Plot\"},{\"attributes\":{},\"id\":\"6687\",\"type\":\"WheelZoomTool\"},{\"attributes\":{\"line_alpha\":0.1,\"line_color\":\"#fc4f30\",\"line_width\":2,\"x\":{\"field\":\"index\"},\"y\":{\"field\":\"predicted_mean\"}},\"id\":\"6742\",\"type\":\"Line\"},{\"attributes\":{},\"id\":\"6722\",\"type\":\"UnionRenderers\"},{\"attributes\":{\"callback\":null,\"formatters\":{\"@{index}\":\"datetime\"},\"renderers\":[{\"id\":\"6744\"}],\"tags\":[\"hv_created\"],\"tooltips\":[[\"index\",\"@{index}{%F %T}\"],[\"predicted_mean\",\"@{predicted_mean}\"]]},\"id\":\"6667\",\"type\":\"HoverTool\"},{\"attributes\":{},\"id\":\"6689\",\"type\":\"ResetTool\"},{\"attributes\":{\"months\":[0,6]},\"id\":\"6733\",\"type\":\"MonthsTicker\"},{\"attributes\":{\"margin\":[5,5,5,5],\"name\":\"HSpacer12601\",\"sizing_mode\":\"stretch_width\"},\"id\":\"6663\",\"type\":\"Spacer\"},{\"attributes\":{\"source\":{\"id\":\"6738\"}},\"id\":\"6745\",\"type\":\"CDSView\"},{\"attributes\":{\"axis_label\":\"date\",\"formatter\":{\"id\":\"6699\"},\"major_label_policy\":{\"id\":\"6701\"},\"ticker\":{\"id\":\"6678\"}},\"id\":\"6677\",\"type\":\"DatetimeAxis\"},{\"attributes\":{},\"id\":\"6701\",\"type\":\"AllLabels\"},{\"attributes\":{\"base\":60,\"mantissas\":[1,2,5,10,15,20,30],\"max_interval\":1800000.0,\"min_interval\":1000.0,\"num_minor_ticks\":0},\"id\":\"6724\",\"type\":\"AdaptiveTicker\"},{\"attributes\":{},\"id\":\"6734\",\"type\":\"YearsTicker\"},{\"attributes\":{\"data_source\":{\"id\":\"6738\"},\"glyph\":{\"id\":\"6741\"},\"hover_glyph\":null,\"muted_glyph\":{\"id\":\"6743\"},\"nonselection_glyph\":{\"id\":\"6742\"},\"selection_glyph\":{\"id\":\"6771\"},\"view\":{\"id\":\"6745\"}},\"id\":\"6744\",\"type\":\"GlyphRenderer\"},{\"attributes\":{\"overlay\":{\"id\":\"6690\"}},\"id\":\"6688\",\"type\":\"BoxZoomTool\"},{\"attributes\":{\"source\":{\"id\":\"6705\"}},\"id\":\"6712\",\"type\":\"CDSView\"},{\"attributes\":{\"line_alpha\":0.2,\"line_color\":\"#30a2da\",\"line_width\":2,\"x\":{\"field\":\"date\"},\"y\":{\"field\":\"users\"}},\"id\":\"6710\",\"type\":\"Line\"},{\"attributes\":{\"line_color\":\"#fc4f30\",\"line_width\":2,\"x\":{\"field\":\"index\"},\"y\":{\"field\":\"predicted_mean\"}},\"id\":\"6741\",\"type\":\"Line\"},{\"attributes\":{\"active_multi\":null,\"tools\":[{\"id\":\"6666\"},{\"id\":\"6667\"},{\"id\":\"6685\"},{\"id\":\"6686\"},{\"id\":\"6687\"},{\"id\":\"6688\"},{\"id\":\"6689\"}]},\"id\":\"6691\",\"type\":\"Toolbar\"},{\"attributes\":{\"label\":{\"value\":\"predicci\\u00f3n\"},\"renderers\":[{\"id\":\"6744\"}]},\"id\":\"6770\",\"type\":\"LegendItem\"},{\"attributes\":{},\"id\":\"6673\",\"type\":\"LinearScale\"},{\"attributes\":{},\"id\":\"6757\",\"type\":\"UnionRenderers\"},{\"attributes\":{\"end\":1629849600000.0,\"reset_end\":1629849600000.0,\"reset_start\":1625097600000.0,\"start\":1625097600000.0,\"tags\":[[[\"date\",\"date\",null]]]},\"id\":\"6664\",\"type\":\"Range1d\"},{\"attributes\":{\"callback\":null,\"formatters\":{\"@{date}\":\"datetime\"},\"renderers\":[{\"id\":\"6711\"}],\"tags\":[\"hv_created\"],\"tooltips\":[[\"date\",\"@{date}{%F %T}\"],[\"users\",\"@{users}\"]]},\"id\":\"6666\",\"type\":\"HoverTool\"},{\"attributes\":{\"mantissas\":[1,2,5],\"max_interval\":500.0,\"num_minor_ticks\":0},\"id\":\"6723\",\"type\":\"AdaptiveTicker\"},{\"attributes\":{\"label\":{\"value\":\"test\"},\"renderers\":[{\"id\":\"6711\"}]},\"id\":\"6736\",\"type\":\"LegendItem\"},{\"attributes\":{\"line_color\":\"#fc4f30\",\"line_width\":2,\"x\":{\"field\":\"index\"},\"y\":{\"field\":\"predicted_mean\"}},\"id\":\"6771\",\"type\":\"Line\"},{\"attributes\":{},\"id\":\"6706\",\"type\":\"Selection\"},{\"attributes\":{},\"id\":\"6739\",\"type\":\"Selection\"},{\"attributes\":{\"num_minor_ticks\":5,\"tickers\":[{\"id\":\"6723\"},{\"id\":\"6724\"},{\"id\":\"6725\"},{\"id\":\"6726\"},{\"id\":\"6727\"},{\"id\":\"6728\"},{\"id\":\"6729\"},{\"id\":\"6730\"},{\"id\":\"6731\"},{\"id\":\"6732\"},{\"id\":\"6733\"},{\"id\":\"6734\"}]},\"id\":\"6678\",\"type\":\"DatetimeTicker\"},{\"attributes\":{},\"id\":\"6675\",\"type\":\"LinearScale\"},{\"attributes\":{\"base\":24,\"mantissas\":[1,2,4,6,8,12],\"max_interval\":43200000.0,\"min_interval\":3600000.0,\"num_minor_ticks\":0},\"id\":\"6725\",\"type\":\"AdaptiveTicker\"},{\"attributes\":{\"data\":{\"index\":{\"__ndarray__\":\"AADA1/Wld0IAAIA9SKZ3QgAAQKOapndCAAAACe2md0IAAMBuP6d3QgAAgNSRp3dCAABAOuSnd0IAAACgNqh3QgAAwAWJqHdCAACAa9uod0IAAEDRLal3QgAAADeAqXdCAADAnNKpd0IAAIACJap3QgAAQGh3qndCAAAAzsmqd0IAAMAzHKt3QgAAgJluq3dCAABA/8Crd0IAAABlE6x3QgAAwMplrHdCAACAMLisd0IAAECWCq13QgAAAPxcrXdCAADAYa+td0IAAIDHAa53QgAAQC1UrndCAAAAk6aud0IAAMD4+K53QgAAgF5Lr3dCAABAxJ2vd0IAAAAq8K93QgAAwI9CsHdCAACA9ZSwd0IAAEBb57B3QgAAAME5sXdCAADAJoyxd0IAAICM3rF3QgAAQPIwsndCAAAAWIOyd0IAAMC91bJ3QgAAgCMos3dCAABAiXqzd0IAAADvzLN3QgAAwFQftHdCAACAunG0d0IAAEAgxLR3QgAAAIYWtXdCAADA62i1d0IAAIBRu7V3QgAAQLcNtndCAAAAHWC2d0IAAMCCsrZ3QgAAgOgEt3dCAABATle3d0IAAAC0qbd3Qg==\",\"dtype\":\"float64\",\"order\":\"little\",\"shape\":[56]},\"predicted_mean\":{\"__ndarray__\":\"E+MZHk/tqEBpZET701WnQA95MXl9QaFA7k+7zRujnkDrwgOn2JqnQO/LhVJ4ealACKXfeRrtqUDxVMtBB0ilQLW69f/1gaNAF5nrWsHnm0BoNA8QWFmZQLAf3FkX06NAwcv/IUsypkCtF7amx1amQEdkloYnXqZAtgxgQObTpEAZCep8ZMGdQNpR7sJ36plAcXXm6VqMpECSLzoVwdymQN08gJebdKdA2gOTsMixokABIU55HomgQL+nz1Z7dZZAKTDg8eAck0DUsW/uof6gQAcVoE8coaJAjCqsYBcKo0As4tkx1EWhQMkPNlNbCqFADkagvVS7l0An7iLJKQiUQDR8XKxwU6FAynBgwUQeokAHCK/rI3ChQPflY9Cmg6JAN9bxgywOoUB4V4r4llaWQI35E5eyyodANL2nwAfAoEC8Xo34spOiQFCawwnGdaJAdyndNhkZokC6KqlgKVyeQCvlDY35UJZA0HzXiCbzjEB31dNpoLSdQCPL70BqcaFAEVIafuSCoEBOOlBbNT6jQMorh/nNX6FApy9YcXePmkBptWDg9KGUQE8S4S6wUaFAn7K3lXNOokCMtaLcJbijQA==\",\"dtype\":\"float64\",\"order\":\"little\",\"shape\":[56]}},\"selected\":{\"id\":\"6739\"},\"selection_policy\":{\"id\":\"6757\"}},\"id\":\"6738\",\"type\":\"ColumnDataSource\"},{\"attributes\":{},\"id\":\"6682\",\"type\":\"BasicTicker\"}],\"root_ids\":[\"6662\"]},\"title\":\"Bokeh Application\",\"version\":\"2.3.3\"}};\n",
       "    var render_items = [{\"docid\":\"3143ee68-67c2-44f1-88ef-25d3eb4b6d82\",\"root_ids\":[\"6662\"],\"roots\":{\"6662\":\"fcb6dbd9-8a0c-43ce-a17f-2b3a5dd9f535\"}}];\n",
       "    root.Bokeh.embed.embed_items_notebook(docs_json, render_items);\n",
       "  }\n",
       "  if (root.Bokeh !== undefined && root.Bokeh.Panel !== undefined) {\n",
       "    embed_document(root);\n",
       "  } else {\n",
       "    var attempts = 0;\n",
       "    var timer = setInterval(function(root) {\n",
       "      if (root.Bokeh !== undefined && root.Bokeh.Panel !== undefined) {\n",
       "        clearInterval(timer);\n",
       "        embed_document(root);\n",
       "      } else if (document.readyState == \"complete\") {\n",
       "        attempts++;\n",
       "        if (attempts > 200) {\n",
       "          clearInterval(timer);\n",
       "          console.log(\"Bokeh: ERROR: Unable to run BokehJS code because BokehJS library is missing\");\n",
       "        }\n",
       "      }\n",
       "    }, 25, root)\n",
       "  }\n",
       "})(window);</script>"
      ],
      "text/plain": [
       ":Overlay\n",
       "   .Curve.Test       :Curve   [date]   (users)\n",
       "   .Curve.Predicción :Curve   [index]   (predicted_mean)"
      ]
     },
     "execution_count": 48,
     "metadata": {
      "application/vnd.holoviews_exec.v0+json": {
       "id": "6662"
      }
     },
     "output_type": "execute_result"
    }
   ],
   "source": [
    "# fig, ax = plt.subplots(figsize=(10, 3))\n",
    "# datos_test.loc[predicciones.index, 'users'].plot(linewidth=2, label='test', ax=ax)\n",
    "# predicciones.plot(linewidth=2, label='predicción', ax=ax)\n",
    "# ax.set_title('Predicción (ARIMA) vs vistas reales')\n",
    "# ax.legend();\n",
    "\n",
    "plot_test = datos_test.users.hvplot.line(label='test')\n",
    "plot_predict = predicciones['predicted_mean'].hvplot.line(label='predicción')\n",
    "layout = plot_test * plot_predict\n",
    "layout = layout.opts(\n",
    "            title = 'Predicción (ARIMA) vs vistas reales',\n",
    "            ylabel = 'users',\n",
    "            legend_position = 'bottom_left'\n",
    "         )\n",
    "layout"
   ]
  },
  {
   "cell_type": "markdown",
   "metadata": {},
   "source": [
    "## Intervalos de predicción\n",
    "<br>\n",
    "\n",
    "Tanto la función `backtesting_forecaster` como `backtesting_sarimax` permiten obtener, además de las predicciones, sus intervalos."
   ]
  },
  {
   "cell_type": "code",
   "execution_count": 49,
   "metadata": {},
   "outputs": [
    {
     "name": "stdout",
     "output_type": "stream",
     "text": [
      "Number of observations used for training: 365\n",
      "Number of observations used for backtesting: 56\n",
      "    Number of folds: 8\n",
      "    Number of steps per fold: 7\n",
      "Error backtest: [181.35000165]\n"
     ]
    },
    {
     "data": {
      "text/html": [
       "<div>\n",
       "<style scoped>\n",
       "    .dataframe tbody tr th:only-of-type {\n",
       "        vertical-align: middle;\n",
       "    }\n",
       "\n",
       "    .dataframe tbody tr th {\n",
       "        vertical-align: top;\n",
       "    }\n",
       "\n",
       "    .dataframe thead th {\n",
       "        text-align: right;\n",
       "    }\n",
       "</style>\n",
       "<table border=\"1\" class=\"dataframe\">\n",
       "  <thead>\n",
       "    <tr style=\"text-align: right;\">\n",
       "      <th></th>\n",
       "      <th>predicted_mean</th>\n",
       "      <th>lower users</th>\n",
       "      <th>upper users</th>\n",
       "    </tr>\n",
       "  </thead>\n",
       "  <tbody>\n",
       "    <tr>\n",
       "      <th>2021-07-01</th>\n",
       "      <td>3190.654527</td>\n",
       "      <td>2708.406954</td>\n",
       "      <td>3672.902099</td>\n",
       "    </tr>\n",
       "    <tr>\n",
       "      <th>2021-07-02</th>\n",
       "      <td>2986.914026</td>\n",
       "      <td>2300.884547</td>\n",
       "      <td>3672.943506</td>\n",
       "    </tr>\n",
       "    <tr>\n",
       "      <th>2021-07-03</th>\n",
       "      <td>2208.745065</td>\n",
       "      <td>1427.383848</td>\n",
       "      <td>2990.106282</td>\n",
       "    </tr>\n",
       "    <tr>\n",
       "      <th>2021-07-04</th>\n",
       "      <td>1960.777152</td>\n",
       "      <td>1095.386448</td>\n",
       "      <td>2826.167856</td>\n",
       "    </tr>\n",
       "    <tr>\n",
       "      <th>2021-07-05</th>\n",
       "      <td>3021.423149</td>\n",
       "      <td>2082.733072</td>\n",
       "      <td>3960.113227</td>\n",
       "    </tr>\n",
       "  </tbody>\n",
       "</table>\n",
       "</div>"
      ],
      "text/plain": [
       "            predicted_mean  lower users  upper users\n",
       "2021-07-01     3190.654527  2708.406954  3672.902099\n",
       "2021-07-02     2986.914026  2300.884547  3672.943506\n",
       "2021-07-03     2208.745065  1427.383848  2990.106282\n",
       "2021-07-04     1960.777152  1095.386448  2826.167856\n",
       "2021-07-05     3021.423149  2082.733072  3960.113227"
      ]
     },
     "execution_count": 49,
     "metadata": {},
     "output_type": "execute_result"
    }
   ],
   "source": [
    "# Backtest modelo con variables exógenas\n",
    "# ==============================================================================\n",
    "metrica, predicciones = backtesting_sarimax(\n",
    "                            y          = datos.users,\n",
    "                            exog       = datos[col_exog],\n",
    "                            order      = (21, 1, 1),\n",
    "                            seasonal_order = (0, 0, 0, 0),\n",
    "                            initial_train_size = len(datos.loc[:fin_validacion]),\n",
    "                            steps      = 7,\n",
    "                            metric     = 'mean_absolute_error',   \n",
    "                            alpha      = 0.05,\n",
    "                            refit      = False,\n",
    "                            verbose    = True,\n",
    "                            fit_kwargs = {'maxiter': 250, 'disp': 0},\n",
    "                        )\n",
    "\n",
    "print(f'Error backtest: {metrica}')\n",
    "predicciones.head(5)"
   ]
  },
  {
   "cell_type": "code",
   "execution_count": 50,
   "metadata": {},
   "outputs": [
    {
     "data": {},
     "metadata": {},
     "output_type": "display_data"
    },
    {
     "data": {
      "application/vnd.holoviews_exec.v0+json": "",
      "text/html": [
       "<div id='7110'>\n",
       "\n",
       "\n",
       "\n",
       "\n",
       "\n",
       "  <div class=\"bk-root\" id=\"c5710bed-fe81-4686-af7a-6d70a94015c4\" data-root-id=\"7110\"></div>\n",
       "</div>\n",
       "<script type=\"application/javascript\">(function(root) {\n",
       "  function embed_document(root) {\n",
       "    var docs_json = {\"7f754626-ef54-4639-a2fc-1104f1e2585a\":{\"defs\":[{\"extends\":null,\"module\":null,\"name\":\"ReactiveHTML1\",\"overrides\":[],\"properties\":[]},{\"extends\":null,\"module\":null,\"name\":\"FlexBox1\",\"overrides\":[],\"properties\":[{\"default\":\"flex-start\",\"kind\":null,\"name\":\"align_content\"},{\"default\":\"flex-start\",\"kind\":null,\"name\":\"align_items\"},{\"default\":\"row\",\"kind\":null,\"name\":\"flex_direction\"},{\"default\":\"wrap\",\"kind\":null,\"name\":\"flex_wrap\"},{\"default\":\"flex-start\",\"kind\":null,\"name\":\"justify_content\"}]},{\"extends\":null,\"module\":null,\"name\":\"TemplateActions1\",\"overrides\":[],\"properties\":[{\"default\":0,\"kind\":null,\"name\":\"open_modal\"},{\"default\":0,\"kind\":null,\"name\":\"close_modal\"}]},{\"extends\":null,\"module\":null,\"name\":\"MaterialTemplateActions1\",\"overrides\":[],\"properties\":[{\"default\":0,\"kind\":null,\"name\":\"open_modal\"},{\"default\":0,\"kind\":null,\"name\":\"close_modal\"}]}],\"roots\":{\"references\":[{\"attributes\":{\"data_source\":{\"id\":\"7188\"},\"glyph\":{\"id\":\"7191\"},\"hover_glyph\":null,\"muted_glyph\":{\"id\":\"7193\"},\"nonselection_glyph\":{\"id\":\"7192\"},\"selection_glyph\":{\"id\":\"7221\"},\"view\":{\"id\":\"7195\"}},\"id\":\"7194\",\"type\":\"GlyphRenderer\"},{\"attributes\":{\"axis_label\":\"\",\"formatter\":{\"id\":\"7149\"},\"major_label_policy\":{\"id\":\"7151\"},\"ticker\":{\"id\":\"7127\"}},\"id\":\"7126\",\"type\":\"DatetimeAxis\"},{\"attributes\":{\"source\":{\"id\":\"7222\"}},\"id\":\"7229\",\"type\":\"CDSView\"},{\"attributes\":{\"mantissas\":[1,2,5],\"max_interval\":500.0,\"num_minor_ticks\":0},\"id\":\"7173\",\"type\":\"AdaptiveTicker\"},{\"attributes\":{\"source\":{\"id\":\"7188\"}},\"id\":\"7195\",\"type\":\"CDSView\"},{\"attributes\":{\"base\":24,\"mantissas\":[1,2,4,6,8,12],\"max_interval\":43200000.0,\"min_interval\":3600000.0,\"num_minor_ticks\":0},\"id\":\"7175\",\"type\":\"AdaptiveTicker\"},{\"attributes\":{\"line_color\":\"#30a2da\",\"line_width\":2,\"x\":{\"field\":\"date\"},\"y\":{\"field\":\"users\"}},\"id\":\"7221\",\"type\":\"Line\"},{\"attributes\":{\"axis\":{\"id\":\"7126\"},\"grid_line_color\":null,\"ticker\":null},\"id\":\"7129\",\"type\":\"Grid\"},{\"attributes\":{\"label\":{\"value\":\"test\"},\"renderers\":[{\"id\":\"7194\"}]},\"id\":\"7220\",\"type\":\"LegendItem\"},{\"attributes\":{\"active_multi\":null,\"tools\":[{\"id\":\"7114\"},{\"id\":\"7115\"},{\"id\":\"7116\"},{\"id\":\"7134\"},{\"id\":\"7135\"},{\"id\":\"7136\"},{\"id\":\"7137\"},{\"id\":\"7138\"}]},\"id\":\"7140\",\"type\":\"Toolbar\"},{\"attributes\":{\"line_color\":\"#30a2da\",\"line_width\":2,\"x\":{\"field\":\"date\"},\"y\":{\"field\":\"users\"}},\"id\":\"7191\",\"type\":\"Line\"},{\"attributes\":{\"line_alpha\":0.1,\"line_color\":\"#30a2da\",\"line_width\":2,\"x\":{\"field\":\"date\"},\"y\":{\"field\":\"users\"}},\"id\":\"7192\",\"type\":\"Line\"},{\"attributes\":{\"months\":[0,4,8]},\"id\":\"7182\",\"type\":\"MonthsTicker\"},{\"attributes\":{\"children\":[{\"id\":\"7111\"},{\"id\":\"7117\"},{\"id\":\"7492\"}],\"margin\":[0,0,0,0],\"name\":\"Row13339\",\"tags\":[\"embedded\"]},\"id\":\"7110\",\"type\":\"Row\"},{\"attributes\":{\"num_minor_ticks\":5,\"tickers\":[{\"id\":\"7173\"},{\"id\":\"7174\"},{\"id\":\"7175\"},{\"id\":\"7176\"},{\"id\":\"7177\"},{\"id\":\"7178\"},{\"id\":\"7179\"},{\"id\":\"7180\"},{\"id\":\"7181\"},{\"id\":\"7182\"},{\"id\":\"7183\"},{\"id\":\"7184\"}]},\"id\":\"7127\",\"type\":\"DatetimeTicker\"},{\"attributes\":{},\"id\":\"7156\",\"type\":\"Selection\"},{\"attributes\":{\"end\":1629849600000.0,\"reset_end\":1629849600000.0,\"reset_start\":1625097600000.0,\"start\":1625097600000.0,\"tags\":[[[\"index\",\"index\",null]]]},\"id\":\"7112\",\"type\":\"Range1d\"},{\"attributes\":{},\"id\":\"7151\",\"type\":\"AllLabels\"},{\"attributes\":{\"days\":[1,15]},\"id\":\"7179\",\"type\":\"DaysTicker\"},{\"attributes\":{\"axis_label\":\"users\",\"formatter\":{\"id\":\"7152\"},\"major_label_policy\":{\"id\":\"7154\"},\"ticker\":{\"id\":\"7131\"}},\"id\":\"7130\",\"type\":\"LinearAxis\"},{\"attributes\":{\"bottom_units\":\"screen\",\"fill_alpha\":0.5,\"fill_color\":\"lightgrey\",\"left_units\":\"screen\",\"level\":\"overlay\",\"line_alpha\":1.0,\"line_color\":\"black\",\"line_dash\":[4,4],\"line_width\":2,\"right_units\":\"screen\",\"syncable\":false,\"top_units\":\"screen\"},\"id\":\"7139\",\"type\":\"BoxAnnotation\"},{\"attributes\":{\"margin\":[5,5,5,5],\"name\":\"HSpacer13343\",\"sizing_mode\":\"stretch_width\"},\"id\":\"7111\",\"type\":\"Spacer\"},{\"attributes\":{\"axis\":{\"id\":\"7130\"},\"dimension\":1,\"grid_line_color\":null,\"ticker\":null},\"id\":\"7133\",\"type\":\"Grid\"},{\"attributes\":{\"data\":{\"index\":{\"__ndarray__\":\"AADA1/Wld0IAAIA9SKZ3QgAAQKOapndCAAAACe2md0IAAMBuP6d3QgAAgNSRp3dCAABAOuSnd0IAAACgNqh3QgAAwAWJqHdCAACAa9uod0IAAEDRLal3QgAAADeAqXdCAADAnNKpd0IAAIACJap3QgAAQGh3qndCAAAAzsmqd0IAAMAzHKt3QgAAgJluq3dCAABA/8Crd0IAAABlE6x3QgAAwMplrHdCAACAMLisd0IAAECWCq13QgAAAPxcrXdCAADAYa+td0IAAIDHAa53QgAAQC1UrndCAAAAk6aud0IAAMD4+K53QgAAgF5Lr3dCAABAxJ2vd0IAAAAq8K93QgAAwI9CsHdCAACA9ZSwd0IAAEBb57B3QgAAAME5sXdCAADAJoyxd0IAAICM3rF3QgAAQPIwsndCAAAAWIOyd0IAAMC91bJ3QgAAgCMos3dCAABAiXqzd0IAAADvzLN3QgAAwFQftHdCAACAunG0d0IAAEAgxLR3QgAAAIYWtXdCAADA62i1d0IAAIBRu7V3QgAAQLcNtndCAAAAHWC2d0IAAMCCsrZ3QgAAgOgEt3dCAABATle3d0IAAAC0qbd3Qg==\",\"dtype\":\"float64\",\"order\":\"little\",\"shape\":[56]},\"predicted_mean\":{\"__ndarray__\":\"E+MZHk/tqEBpZET701WnQA95MXl9QaFA7k+7zRujnkDrwgOn2JqnQO/LhVJ4ealACKXfeRrtqUDxVMtBB0ilQLW69f/1gaNAF5nrWsHnm0BoNA8QWFmZQLAf3FkX06NAwcv/IUsypkCtF7amx1amQEdkloYnXqZAtgxgQObTpEAZCep8ZMGdQNpR7sJ36plAcXXm6VqMpECSLzoVwdymQN08gJebdKdA2gOTsMixokABIU55HomgQL+nz1Z7dZZAKTDg8eAck0DUsW/uof6gQAcVoE8coaJAjCqsYBcKo0As4tkx1EWhQMkPNlNbCqFADkagvVS7l0An7iLJKQiUQDR8XKxwU6FAynBgwUQeokAHCK/rI3ChQPflY9Cmg6JAN9bxgywOoUB4V4r4llaWQI35E5eyyodANL2nwAfAoEC8Xo34spOiQFCawwnGdaJAdyndNhkZokC6KqlgKVyeQCvlDY35UJZA0HzXiCbzjEB31dNpoLSdQCPL70BqcaFAEVIafuSCoEBOOlBbNT6jQMorh/nNX6FApy9YcXePmkBptWDg9KGUQE8S4S6wUaFAn7K3lXNOokCMtaLcJbijQA==\",\"dtype\":\"float64\",\"order\":\"little\",\"shape\":[56]}},\"selected\":{\"id\":\"7223\"},\"selection_policy\":{\"id\":\"7243\"}},\"id\":\"7222\",\"type\":\"ColumnDataSource\"},{\"attributes\":{},\"id\":\"7152\",\"type\":\"BasicTickFormatter\"},{\"attributes\":{\"fill_alpha\":0.2,\"fill_color\":\"red\",\"line_alpha\":0.2,\"x\":{\"field\":\"x\"},\"y\":{\"field\":\"y\"}},\"id\":\"7159\",\"type\":\"Patch\"},{\"attributes\":{\"line_alpha\":0.2,\"line_color\":\"#30a2da\",\"line_width\":2,\"x\":{\"field\":\"date\"},\"y\":{\"field\":\"users\"}},\"id\":\"7193\",\"type\":\"Line\"},{\"attributes\":{},\"id\":\"7207\",\"type\":\"UnionRenderers\"},{\"attributes\":{\"days\":[1,4,7,10,13,16,19,22,25,28]},\"id\":\"7177\",\"type\":\"DaysTicker\"},{\"attributes\":{},\"id\":\"7122\",\"type\":\"LinearScale\"},{\"attributes\":{\"base\":60,\"mantissas\":[1,2,5,10,15,20,30],\"max_interval\":1800000.0,\"min_interval\":1000.0,\"num_minor_ticks\":0},\"id\":\"7174\",\"type\":\"AdaptiveTicker\"},{\"attributes\":{},\"id\":\"7136\",\"type\":\"WheelZoomTool\"},{\"attributes\":{},\"id\":\"7124\",\"type\":\"LinearScale\"},{\"attributes\":{\"line_alpha\":0.1,\"line_color\":\"#fc4f30\",\"line_width\":2,\"x\":{\"field\":\"index\"},\"y\":{\"field\":\"predicted_mean\"}},\"id\":\"7226\",\"type\":\"Line\"},{\"attributes\":{\"days\":[1,2,3,4,5,6,7,8,9,10,11,12,13,14,15,16,17,18,19,20,21,22,23,24,25,26,27,28,29,30,31]},\"id\":\"7176\",\"type\":\"DaysTicker\"},{\"attributes\":{},\"id\":\"7189\",\"type\":\"Selection\"},{\"attributes\":{\"months\":[0,1,2,3,4,5,6,7,8,9,10,11]},\"id\":\"7180\",\"type\":\"MonthsTicker\"},{\"attributes\":{\"margin\":[5,5,5,5],\"name\":\"HSpacer13344\",\"sizing_mode\":\"stretch_width\"},\"id\":\"7492\",\"type\":\"Spacer\"},{\"attributes\":{\"text\":\"Predicci\\u00f3n (ARIMA) vs vistas reales\",\"text_color\":\"black\",\"text_font_size\":\"12pt\"},\"id\":\"7118\",\"type\":\"Title\"},{\"attributes\":{},\"id\":\"7138\",\"type\":\"ResetTool\"},{\"attributes\":{\"fill_alpha\":0.2,\"fill_color\":\"red\",\"line_alpha\":0.2,\"x\":{\"field\":\"x\"},\"y\":{\"field\":\"y\"}},\"id\":\"7160\",\"type\":\"Patch\"},{\"attributes\":{\"below\":[{\"id\":\"7126\"}],\"center\":[{\"id\":\"7129\"},{\"id\":\"7133\"},{\"id\":\"7185\"}],\"height\":300,\"left\":[{\"id\":\"7130\"}],\"margin\":[5,5,5,5],\"min_border_bottom\":10,\"min_border_left\":10,\"min_border_right\":10,\"min_border_top\":10,\"renderers\":[{\"id\":\"7161\"},{\"id\":\"7194\"},{\"id\":\"7228\"}],\"sizing_mode\":\"fixed\",\"title\":{\"id\":\"7118\"},\"toolbar\":{\"id\":\"7140\"},\"width\":700,\"x_range\":{\"id\":\"7112\"},\"x_scale\":{\"id\":\"7122\"},\"y_range\":{\"id\":\"7113\"},\"y_scale\":{\"id\":\"7124\"}},\"id\":\"7117\",\"subtype\":\"Figure\",\"type\":\"Plot\"},{\"attributes\":{\"label\":{\"value\":\"intervalo predicci\\u00f3n\"},\"renderers\":[{\"id\":\"7161\"}]},\"id\":\"7186\",\"type\":\"LegendItem\"},{\"attributes\":{\"days\":[1,8,15,22]},\"id\":\"7178\",\"type\":\"DaysTicker\"},{\"attributes\":{\"overlay\":{\"id\":\"7139\"}},\"id\":\"7137\",\"type\":\"BoxZoomTool\"},{\"attributes\":{},\"id\":\"7184\",\"type\":\"YearsTicker\"},{\"attributes\":{},\"id\":\"7131\",\"type\":\"BasicTicker\"},{\"attributes\":{},\"id\":\"7134\",\"type\":\"SaveTool\"},{\"attributes\":{\"label\":{\"value\":\"predicci\\u00f3n\"},\"renderers\":[{\"id\":\"7228\"}]},\"id\":\"7256\",\"type\":\"LegendItem\"},{\"attributes\":{},\"id\":\"7172\",\"type\":\"UnionRenderers\"},{\"attributes\":{\"line_color\":\"#fc4f30\",\"line_width\":2,\"x\":{\"field\":\"index\"},\"y\":{\"field\":\"predicted_mean\"}},\"id\":\"7257\",\"type\":\"Line\"},{\"attributes\":{\"data_source\":{\"id\":\"7155\"},\"glyph\":{\"id\":\"7158\"},\"hover_glyph\":null,\"muted_glyph\":{\"id\":\"7160\"},\"nonselection_glyph\":{\"id\":\"7159\"},\"selection_glyph\":{\"id\":\"7187\"},\"view\":{\"id\":\"7162\"}},\"id\":\"7161\",\"type\":\"GlyphRenderer\"},{\"attributes\":{\"months\":[0,6]},\"id\":\"7183\",\"type\":\"MonthsTicker\"},{\"attributes\":{\"callback\":null,\"formatters\":{\"@{x}\":\"datetime\"},\"renderers\":[{\"id\":\"7161\"}],\"tags\":[\"hv_created\"],\"tooltips\":[[\"index\",\"@{index}\"],[\"lower users\",\"@{lower_users}\"],[\"upper users\",\"@{upper_users}\"]]},\"id\":\"7114\",\"type\":\"HoverTool\"},{\"attributes\":{},\"id\":\"7149\",\"type\":\"DatetimeTickFormatter\"},{\"attributes\":{\"click_policy\":\"mute\",\"items\":[{\"id\":\"7186\"},{\"id\":\"7220\"},{\"id\":\"7256\"}],\"location\":\"bottom_left\"},\"id\":\"7185\",\"type\":\"Legend\"},{\"attributes\":{},\"id\":\"7243\",\"type\":\"UnionRenderers\"},{\"attributes\":{\"end\":4815.83143812677,\"reset_end\":4815.83143812677,\"reset_start\":-551.31576908529,\"start\":-551.31576908529,\"tags\":[[[\"lower users\",\"lower users\",null]]]},\"id\":\"7113\",\"type\":\"Range1d\"},{\"attributes\":{\"callback\":null,\"formatters\":{\"@{date}\":\"datetime\"},\"renderers\":[{\"id\":\"7194\"}],\"tags\":[\"hv_created\"],\"tooltips\":[[\"date\",\"@{date}{%F %T}\"],[\"users\",\"@{users}\"]]},\"id\":\"7115\",\"type\":\"HoverTool\"},{\"attributes\":{},\"id\":\"7154\",\"type\":\"AllLabels\"},{\"attributes\":{},\"id\":\"7223\",\"type\":\"Selection\"},{\"attributes\":{\"line_color\":\"#fc4f30\",\"line_width\":2,\"x\":{\"field\":\"index\"},\"y\":{\"field\":\"predicted_mean\"}},\"id\":\"7225\",\"type\":\"Line\"},{\"attributes\":{\"callback\":null,\"formatters\":{\"@{index}\":\"datetime\"},\"renderers\":[{\"id\":\"7228\"}],\"tags\":[\"hv_created\"],\"tooltips\":[[\"index\",\"@{index}{%F %T}\"],[\"predicted_mean\",\"@{predicted_mean}\"]]},\"id\":\"7116\",\"type\":\"HoverTool\"},{\"attributes\":{\"data\":{\"date\":{\"__ndarray__\":\"AADA1/Wld0IAAIA9SKZ3QgAAQKOapndCAAAACe2md0IAAMBuP6d3QgAAgNSRp3dCAABAOuSnd0IAAACgNqh3QgAAwAWJqHdCAACAa9uod0IAAEDRLal3QgAAADeAqXdCAADAnNKpd0IAAIACJap3QgAAQGh3qndCAAAAzsmqd0IAAMAzHKt3QgAAgJluq3dCAABA/8Crd0IAAABlE6x3QgAAwMplrHdCAACAMLisd0IAAECWCq13QgAAAPxcrXdCAADAYa+td0IAAIDHAa53QgAAQC1UrndCAAAAk6aud0IAAMD4+K53QgAAgF5Lr3dCAABAxJ2vd0IAAAAq8K93QgAAwI9CsHdCAACA9ZSwd0IAAEBb57B3QgAAAME5sXdCAADAJoyxd0IAAICM3rF3QgAAQPIwsndCAAAAWIOyd0IAAMC91bJ3QgAAgCMos3dCAABAiXqzd0IAAADvzLN3QgAAwFQftHdCAACAunG0d0IAAEAgxLR3QgAAAIYWtXdCAADA62i1d0IAAIBRu7V3QgAAQLcNtndCAAAAHWC2d0IAAMCCsrZ3QgAAgOgEt3dCAABATle3d0IAAAC0qbd3Qg==\",\"dtype\":\"float64\",\"order\":\"little\",\"shape\":[56]},\"users\":[3123,2870,2020,1828,2722,2991,2976,2834,2609,1832,1462,2563,2897,3057,2697,2391,1730,1434,2455,2508,2563,2447,2543,1714,1415,2407,2587,2314,2465,2088,1535,133,2146,2266,2330,2323,2003,1406,1239,1989,2268,2249,2322,2098,1477,1308,1920,2219,2482,2345,2185,1546,1393,2371,2547,2448]},\"selected\":{\"id\":\"7189\"},\"selection_policy\":{\"id\":\"7207\"}},\"id\":\"7188\",\"type\":\"ColumnDataSource\"},{\"attributes\":{\"line_alpha\":0.2,\"line_color\":\"#fc4f30\",\"line_width\":2,\"x\":{\"field\":\"index\"},\"y\":{\"field\":\"predicted_mean\"}},\"id\":\"7227\",\"type\":\"Line\"},{\"attributes\":{\"source\":{\"id\":\"7155\"}},\"id\":\"7162\",\"type\":\"CDSView\"},{\"attributes\":{\"fill_alpha\":0.2,\"fill_color\":\"red\",\"line_alpha\":0.2,\"x\":{\"field\":\"x\"},\"y\":{\"field\":\"y\"}},\"id\":\"7158\",\"type\":\"Patch\"},{\"attributes\":{\"data\":{\"x\":{\"__ndarray__\":\"AADA1/Wld0IAAIA9SKZ3QgAAQKOapndCAAAACe2md0IAAMBuP6d3QgAAgNSRp3dCAABAOuSnd0IAAACgNqh3QgAAwAWJqHdCAACAa9uod0IAAEDRLal3QgAAADeAqXdCAADAnNKpd0IAAIACJap3QgAAQGh3qndCAAAAzsmqd0IAAMAzHKt3QgAAgJluq3dCAABA/8Crd0IAAABlE6x3QgAAwMplrHdCAACAMLisd0IAAECWCq13QgAAAPxcrXdCAADAYa+td0IAAIDHAa53QgAAQC1UrndCAAAAk6aud0IAAMD4+K53QgAAgF5Lr3dCAABAxJ2vd0IAAAAq8K93QgAAwI9CsHdCAACA9ZSwd0IAAEBb57B3QgAAAME5sXdCAADAJoyxd0IAAICM3rF3QgAAQPIwsndCAAAAWIOyd0IAAMC91bJ3QgAAgCMos3dCAABAiXqzd0IAAADvzLN3QgAAwFQftHdCAACAunG0d0IAAEAgxLR3QgAAAIYWtXdCAADA62i1d0IAAIBRu7V3QgAAQLcNtndCAAAAHWC2d0IAAMCCsrZ3QgAAgOgEt3dCAABATle3d0IAAAC0qbd3QgAAALSpt3dCAABATle3d0IAAIDoBLd3QgAAwIKytndCAAAAHWC2d0IAAEC3DbZ3QgAAgFG7tXdCAADA62i1d0IAAACGFrV3QgAAQCDEtHdCAACAunG0d0IAAMBUH7R3QgAAAO/Ms3dCAABAiXqzd0IAAIAjKLN3QgAAwL3VsndCAAAAWIOyd0IAAEDyMLJ3QgAAgIzesXdCAADAJoyxd0IAAADBObF3QgAAQFvnsHdCAACA9ZSwd0IAAMCPQrB3QgAAACrwr3dCAABAxJ2vd0IAAIBeS693QgAAwPj4rndCAAAAk6aud0IAAEAtVK53QgAAgMcBrndCAADAYa+td0IAAAD8XK13QgAAQJYKrXdCAACAMLisd0IAAMDKZax3QgAAAGUTrHdCAABA/8Crd0IAAICZbqt3QgAAwDMcq3dCAAAAzsmqd0IAAEBod6p3QgAAgAIlqndCAADAnNKpd0IAAAA3gKl3QgAAQNEtqXdCAACAa9uod0IAAMAFiah3QgAAAKA2qHdCAABAOuSnd0IAAIDUkad3QgAAwG4/p3dCAAAACe2md0IAAECjmqZ3QgAAgD1IpndCAADA1/Wld0I=\",\"dtype\":\"float64\",\"order\":\"little\",\"shape\":[112]},\"y\":{\"__ndarray__\":\"Gf3w382xrEBj9z8T47GsQGp6n2o2XKdAP8A58VUUpkBSa9z4OfCuQEvCJGxcm7BAqnEutZEQsUD3bqIDhgypQK9N8RcF3qhA583jnpkOpEB8smMSdG+jQBfItKt4KKtAaITDp4vvrUD4VTOX0IquQE1+bUimIqpAsJ9bWPUvqkDoBeMva/ukQDVB0+sDuKNA2B2/O7zhq0A66P2aAZquQCh7/YekqK9A4B1qckd2pkD7s0mRLeWlQDvV1Zx2VaFAXTBMgzhRoEA7WkhAA1SoQK7NY9VcXqpA12gpUSA+q0Ay/LDzUgqlQMOiMWtqZqZAYiQ+UGP4oUBcj+3u3MagQJskNf7RqKhAcikkR4XbqUBSRizcLKSpQP3/OpIlSKZAMWntmztqpkAXLbNtBEahQFctQmDpaplAm2WAEmkVqEBkF1F+81CqQJvYQPrOqapAfUO0+JfdpUBXKFDII4qkQPHz9Lc1Q6FA+O4jWSP/m0Aik8KGsS+mQMqDs8aqLqlAXJCXbu22qEBUVCcdtAKnQMS+ghHdu6ZALxkaqnRio0D9cox6whOhQLa6uYARp6hARmt7G7QLqkDX8x/NLuyrQILuStg5CJdA7/PnH2YilUDQ0xC6nfiTQGIToi6TcXxA4Vn4HAu0jECgMRfDfQeYQJBA8jJt855AjCc6G7edkED3JFh2U2iTQFIJRYy7E45A8Lpx9mWATkDpxGNUDzeEQMYEsjALpJNA4h4M6jSpnEAKuIwyeoOUQClMk+XkrJVAmime3UzVkkCgPOOSbANawIOpXCtKQoRAeobs1zpkl0DilxkdUH6dQHiTY/Y1eJJARXA5dwjClECapwe1HvyTQFr2qtFmCnpAr4aItcULh0Ce+XR2mFyXQEyQBeCqAptAgthd4ByslUC/uLiTt8eVQNoSLjmBUpNAYv6fdENddkARSufnEoCEQA4cpcIeWpZAqNN33ZPanUAk/QVOJYGeQNXt7B4BP55AFJobMPNtmkCTQmxcz8mIQGIGDpryi5FAePPIUK7vnkBBSr/EqJmiQMSycWx9RZxAMyZ4OBXqnECS7gYQbPuYQK8HrvaPp4dAwSwf8J5kj0B2T/TPzUucQOs69H+Ig6FAvWZiiRG5oUBIE8LMN7yhQIQaK1V3RaBAXh8DuYsdkUBo74YPiU2WQG/RSOPE+aFADclCXNAopUA=\",\"dtype\":\"float64\",\"order\":\"little\",\"shape\":[112]}},\"selected\":{\"id\":\"7156\"},\"selection_policy\":{\"id\":\"7172\"}},\"id\":\"7155\",\"type\":\"ColumnDataSource\"},{\"attributes\":{\"months\":[0,2,4,6,8,10]},\"id\":\"7181\",\"type\":\"MonthsTicker\"},{\"attributes\":{\"data_source\":{\"id\":\"7222\"},\"glyph\":{\"id\":\"7225\"},\"hover_glyph\":null,\"muted_glyph\":{\"id\":\"7227\"},\"nonselection_glyph\":{\"id\":\"7226\"},\"selection_glyph\":{\"id\":\"7257\"},\"view\":{\"id\":\"7229\"}},\"id\":\"7228\",\"type\":\"GlyphRenderer\"},{\"attributes\":{},\"id\":\"7135\",\"type\":\"PanTool\"},{\"attributes\":{\"fill_alpha\":0.2,\"fill_color\":\"red\",\"line_alpha\":0.2,\"x\":{\"field\":\"x\"},\"y\":{\"field\":\"y\"}},\"id\":\"7187\",\"type\":\"Patch\"}],\"root_ids\":[\"7110\"]},\"title\":\"Bokeh Application\",\"version\":\"2.3.3\"}};\n",
       "    var render_items = [{\"docid\":\"7f754626-ef54-4639-a2fc-1104f1e2585a\",\"root_ids\":[\"7110\"],\"roots\":{\"7110\":\"c5710bed-fe81-4686-af7a-6d70a94015c4\"}}];\n",
       "    root.Bokeh.embed.embed_items_notebook(docs_json, render_items);\n",
       "  }\n",
       "  if (root.Bokeh !== undefined && root.Bokeh.Panel !== undefined) {\n",
       "    embed_document(root);\n",
       "  } else {\n",
       "    var attempts = 0;\n",
       "    var timer = setInterval(function(root) {\n",
       "      if (root.Bokeh !== undefined && root.Bokeh.Panel !== undefined) {\n",
       "        clearInterval(timer);\n",
       "        embed_document(root);\n",
       "      } else if (document.readyState == \"complete\") {\n",
       "        attempts++;\n",
       "        if (attempts > 200) {\n",
       "          clearInterval(timer);\n",
       "          console.log(\"Bokeh: ERROR: Unable to run BokehJS code because BokehJS library is missing\");\n",
       "        }\n",
       "      }\n",
       "    }, 25, root)\n",
       "  }\n",
       "})(window);</script>"
      ],
      "text/plain": [
       ":Overlay\n",
       "   .Area.Intervalo_predicción :Area   [index]   (lower users,upper users)\n",
       "   .Curve.Test                :Curve   [date]   (users)\n",
       "   .Curve.Predicción          :Curve   [index]   (predicted_mean)"
      ]
     },
     "execution_count": 50,
     "metadata": {
      "application/vnd.holoviews_exec.v0+json": {
       "id": "7110"
      }
     },
     "output_type": "execute_result"
    }
   ],
   "source": [
    "# fig, ax = plt.subplots(figsize=(10, 3))\n",
    "# datos_test.loc[predicciones.index, 'users'].plot(linewidth=2, label='test', ax=ax)\n",
    "# predicciones.iloc[:, 0].plot(linewidth=2, label='predicción', ax=ax)\n",
    "# ax.set_title('Predicción (ARIMA) vs vistas reales')\n",
    "# ax.fill_between(\n",
    "#     predicciones.index,\n",
    "#     predicciones.iloc[:, 1],\n",
    "#     predicciones.iloc[:, 2],\n",
    "#     alpha = 0.2,\n",
    "#     color = 'red',\n",
    "#     label = 'Intervalo predicción' \n",
    "# )\n",
    "# ax.legend();\n",
    "\n",
    "plot_test = datos_test.users.hvplot.line(label='test')\n",
    "plot_predict = predicciones['predicted_mean'].hvplot.line(label='predicción')\n",
    "plot_intervalo = predicciones.hvplot.area(\n",
    "                    y     = 'lower users',\n",
    "                    y2    = 'upper users',\n",
    "                    color = 'red',\n",
    "                    alpha = 0.2,\n",
    "                    label = 'intervalo predicción'\n",
    "                )\n",
    "layout = plot_intervalo * plot_test * plot_predict\n",
    "layout = layout.opts(\n",
    "            title = 'Predicción (ARIMA) vs vistas reales',\n",
    "            ylabel = 'users',\n",
    "            legend_position = 'bottom_left'\n",
    "         )\n",
    "layout"
   ]
  },
  {
   "cell_type": "markdown",
   "metadata": {},
   "source": [
    "## Conclusión\n",
    "<br>\n",
    "\n",
    "El modelo que consigue mejores resultados es el modelo autoregresivo ridge, incluyendo variables exógenas.\n",
    "\n",
    "\n",
    "| Modelo | Variables exógenas | MAE backtest |\n",
    "|:------:|:------------------:|:------------:|\n",
    "| ARIMA  | False              | 181.4     |\n",
    "| ARIMA  | True               | 181.3     |\n",
    "| Autoregresivo-ridge   | False             | 216.2     |\n",
    "| Autoregresivo-ridge   | True              | 178.9     |\n",
    "\n",
    "Posibles mejoras del modelo:\n",
    "\n",
    "+ Incluir como predictor si el día es festivo nacional.\n",
    "\n",
    "+ Utilizar un modelo autoregresivo con modelos no lineales, por ejemplo random forest o gradient boosting.\n",
    "\n",
    "+ Utilizar un [modelo direct multi-step](https://joaquinamatrodrigo.github.io/skforecast/guides/direct_multi_step_forecasting.html).\n"
   ]
  },
  {
   "cell_type": "markdown",
   "metadata": {},
   "source": [
    "## Información de sesión"
   ]
  },
  {
   "cell_type": "code",
   "execution_count": 51,
   "metadata": {},
   "outputs": [
    {
     "name": "stdout",
     "output_type": "stream",
     "text": [
      "-----\n",
      "holoviews           1.14.5\n",
      "hvplot              0.7.3\n",
      "ipykernel           6.2.0\n",
      "matplotlib          3.4.3\n",
      "numpy               1.19.5\n",
      "pandas              1.2.5\n",
      "seaborn             0.11.0\n",
      "session_info        1.0.0\n",
      "skforecast          0.4.2\n",
      "sklearn             1.0.1\n",
      "statsmodels         0.12.2\n",
      "-----\n",
      "IPython             7.26.0\n",
      "jupyter_client      6.1.7\n",
      "jupyter_core        4.6.3\n",
      "jupyterlab          2.1.3\n",
      "notebook            6.4.0\n",
      "-----\n",
      "Python 3.7.9 (default, Aug 31 2020, 12:42:55) [GCC 7.3.0]\n",
      "Linux-5.11.0-43-generic-x86_64-with-debian-bullseye-sid\n",
      "-----\n",
      "Session information updated at 2022-01-01 19:58\n"
     ]
    }
   ],
   "source": [
    "import session_info\n",
    "session_info.show(html=False)"
   ]
  },
  {
   "cell_type": "markdown",
   "metadata": {},
   "source": [
    "## Bibliografía\n",
    "<br>\n",
    "\n",
    "Hyndman, R.J., & Athanasopoulos, G. (2021) Forecasting: principles and practice, 3rd edition, OTexts: Melbourne, Australia. [libro](https://otexts.com/fpp3/)\n",
    "\n",
    "Time Series Analysis and Forecasting with ADAM Ivan Svetunkov [libro](https://openforecast.org/adam/)\n",
    "\n",
    "Python Data Science Handbook by Jake VanderPlas [libro](https://www.amazon.es/gp/product/1491912057/ref=as_li_qf_asin_il_tl?ie=UTF8&tag=cienciadedato-21&creative=24630&linkCode=as2&creativeASIN=1491912057&linkId=73620d22f9d4a0a76d27592dabf13c83)\n",
    "\n",
    "Python for Finance: Mastering Data-Driven Finance [libro](https://www.amazon.es/gp/product/1492024333/ref=as_li_qf_asin_il_tl?ie=UTF8&tag=cienciadedato-21&creative=24630&linkCode=as2&creativeASIN=1492024333&linkId=70c3175ad015970cd1c2328b7a40a055)\n",
    "\n",
    "[*skforecast*](https://joaquinamatrodrigo.github.io/skforecast/0.3/index.html)"
   ]
  },
  {
   "cell_type": "code",
   "execution_count": 52,
   "metadata": {
    "code_folding": [],
    "hide_input": true,
    "remove_cell": true,
    "tags": [
     "\"hide_input\""
    ]
   },
   "outputs": [
    {
     "data": {
      "text/html": [
       "<style>\n",
       ".text_cell_render p {\n",
       "    text-align: justify;\n",
       "    font-family: 'Open Sans','Helvetica Neue',Helvetica,Arial,sans-serif;\n",
       "    #font-size: 16px;\n",
       "    line-height: 1.5;\n",
       "    font-weight: 400;\n",
       "    text-shadow: none;\n",
       "    color: #333333;\n",
       "    text-rendering: optimizeLegibility;\n",
       "    letter-spacing: +0.1px;\n",
       "    margin-bottom: 1.15rem;\n",
       "    font-size: 1.15em\n",
       "}\n",
       "\n",
       "#notebook-container {\n",
       "    background-color: #fcfcfc;\n",
       "}\n",
       "\n",
       "div.inner_cell {\n",
       "    margin-right: 5%;\n",
       "}\n",
       "\n",
       ".output_png {\n",
       "        display: table-cell;\n",
       "        text-align: center;\n",
       "        vertical-align: middle;\n",
       "}\n",
       "\n",
       ".rendered_html code {\n",
       "    background-color: #f2f2f2;\n",
       "    font-family: monospace;\n",
       "    color: #a20505;\n",
       "    font-size: 15px;\n",
       "    #font-size: 1em;\n",
       "    padding: 1px 1px;\n",
       "    border: solid;\n",
       "    border-color: darkgray;\n",
       "    border-width: thin;\n",
       "}\n",
       "\n",
       ".rendered_html h1 {\n",
       "    padding-top: 50px;\n",
       "}\n",
       "\n",
       ".rendered_html h2 {\n",
       "    font-size: 30px\n",
       "    margin-top: 0;\n",
       "    font-size: 2.488em;\n",
       "}\n",
       "\n",
       ".rendered_html h3 {\n",
       "    font-size: 25px;\n",
       "}\n",
       "\n",
       ".rendered_html h4 {\n",
       "    font-size: 20px;\n",
       "}\n",
       "\n",
       "</style>\n"
      ],
      "text/plain": [
       "<IPython.core.display.HTML object>"
      ]
     },
     "metadata": {},
     "output_type": "display_data"
    }
   ],
   "source": [
    "%%html\n",
    "<style>\n",
    ".text_cell_render p {\n",
    "    text-align: justify;\n",
    "    font-family: 'Open Sans','Helvetica Neue',Helvetica,Arial,sans-serif;\n",
    "    #font-size: 16px;\n",
    "    line-height: 1.5;\n",
    "    font-weight: 400;\n",
    "    text-shadow: none;\n",
    "    color: #333333;\n",
    "    text-rendering: optimizeLegibility;\n",
    "    letter-spacing: +0.1px;\n",
    "    margin-bottom: 1.15rem;\n",
    "    font-size: 1.15em\n",
    "}\n",
    "\n",
    "#notebook-container {\n",
    "    background-color: #fcfcfc;\n",
    "}\n",
    "\n",
    "div.inner_cell {\n",
    "    margin-right: 5%;\n",
    "}\n",
    "\n",
    ".output_png {\n",
    "        display: table-cell;\n",
    "        text-align: center;\n",
    "        vertical-align: middle;\n",
    "}\n",
    "\n",
    ".rendered_html code {\n",
    "    background-color: #f2f2f2;\n",
    "    font-family: monospace;\n",
    "    color: #a20505;\n",
    "    font-size: 15px;\n",
    "    #font-size: 1em;\n",
    "    padding: 1px 1px;\n",
    "    border: solid;\n",
    "    border-color: darkgray;\n",
    "    border-width: thin;\n",
    "}\n",
    "\n",
    ".rendered_html h1 {\n",
    "    padding-top: 50px;\n",
    "}\n",
    "\n",
    ".rendered_html h2 {\n",
    "    font-size: 30px\n",
    "    margin-top: 0;\n",
    "    font-size: 2.488em;\n",
    "}\n",
    "\n",
    ".rendered_html h3 {\n",
    "    font-size: 25px;\n",
    "}\n",
    "\n",
    ".rendered_html h4 {\n",
    "    font-size: 20px;\n",
    "}\n",
    "\n",
    "</style>"
   ]
  },
  {
   "cell_type": "markdown",
   "metadata": {},
   "source": [
    "**¿Cómo citar este documento?**\n",
    "\n",
    "<p style=\"text-align:left\"><font size=\"3\" color=\"#555\">\n",
    "Predicción (forecasting) visitas página web con Python by Joaquín Amat Rodrigo, available under a Attribution 4.0 International (CC BY 4.0) at https://www.cienciadedatos.net/py36-forecasting-visitas-web-machine-learning.html\n",
    "    \n",
    "</font></p>"
   ]
  },
  {
   "cell_type": "markdown",
   "metadata": {},
   "source": [
    "<a rel=\"license\" href=\"http://creativecommons.org/licenses/by/4.0/\"><img alt=\"Creative Commons Licence\" style=\"border-width:0\" src=\"https://i.creativecommons.org/l/by/4.0/88x31.png\" /></a><br />This work by  Joaquín Amat Rodrigo is licensed under a <a rel=\"license\" href=\"http://creativecommons.org/licenses/by/4.0/\">Creative Commons Attribution 4.0 International License</a>."
   ]
  }
 ],
 "metadata": {
  "kernelspec": {
   "display_name": "cienciadedatos",
   "language": "python",
   "name": "cienciadedatos"
  },
  "language_info": {
   "codemirror_mode": {
    "name": "ipython",
    "version": 3
   },
   "file_extension": ".py",
   "mimetype": "text/x-python",
   "name": "python",
   "nbconvert_exporter": "python",
   "pygments_lexer": "ipython3",
   "version": "3.7.9"
  },
  "toc": {
   "base_numbering": 1,
   "nav_menu": {},
   "number_sections": false,
   "sideBar": true,
   "skip_h1_title": true,
   "title_cell": "Tabla de contenidos",
   "title_sidebar": "Tabla de contenidos",
   "toc_cell": false,
   "toc_position": {
    "height": "calc(100% - 180px)",
    "left": "10px",
    "top": "150px",
    "width": "165px"
   },
   "toc_section_display": true,
   "toc_window_display": true
  },
  "varInspector": {
   "cols": {
    "lenName": 16,
    "lenType": 16,
    "lenVar": 40
   },
   "kernels_config": {
    "python": {
     "delete_cmd_postfix": "",
     "delete_cmd_prefix": "del ",
     "library": "var_list.py",
     "varRefreshCmd": "print(var_dic_list())"
    },
    "r": {
     "delete_cmd_postfix": ") ",
     "delete_cmd_prefix": "rm(",
     "library": "var_list.r",
     "varRefreshCmd": "cat(var_dic_list()) "
    }
   },
   "position": {
    "height": "144.391px",
    "left": "1478px",
    "right": "20px",
    "top": "126px",
    "width": "350px"
   },
   "types_to_exclude": [
    "module",
    "function",
    "builtin_function_or_method",
    "instance",
    "_Feature"
   ],
   "window_display": false
  }
 },
 "nbformat": 4,
 "nbformat_minor": 4
}
