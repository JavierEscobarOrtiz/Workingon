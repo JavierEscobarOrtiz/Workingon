{
 "cells": [
  {
   "attachments": {},
   "cell_type": "markdown",
   "metadata": {},
   "source": [
    "https://anderfernandez.com/blog/como-crear-api-en-python/"
   ]
  },
  {
   "attachments": {},
   "cell_type": "markdown",
   "metadata": {},
   "source": [
    "# Crear API en Python"
   ]
  },
  {
   "cell_type": "code",
   "execution_count": 1,
   "metadata": {
    "ExecuteTime": {
     "end_time": "2021-08-31T10:34:52.322546Z",
     "start_time": "2021-08-31T10:34:52.310580Z"
    }
   },
   "outputs": [],
   "source": [
    "# Tratamiento de datos\n",
    "# ==============================================================================\n",
    "import pandas as pd\n",
    "import numpy as np\n",
    "\n",
    "# Gráficos\n",
    "# ==============================================================================\n",
    "import matplotlib.pyplot as plt\n",
    "from matplotlib import style\n",
    "import seaborn as sns\n",
    "\n",
    "# Preprocesado y modelado\n",
    "# ==============================================================================\n",
    "from scipy.stats import pearsonr\n",
    "from sklearn.linear_model import LinearRegression\n",
    "from sklearn.model_selection import train_test_split\n",
    "from sklearn.metrics import r2_score\n",
    "from sklearn.metrics import mean_squared_error\n",
    "import statsmodels.api as sm\n",
    "import statsmodels.formula.api as smf\n",
    "\n",
    "# Fast API\n",
    "# ==============================================================================\n",
    "from fastapi import FastAPI"
   ]
  },
  {
   "attachments": {},
   "cell_type": "markdown",
   "metadata": {},
   "source": [
    "## API con FastAPI\n",
    "\n",
    "pip install fastapi\n",
    "\n",
    "pip install uvicorn"
   ]
  },
  {
   "cell_type": "code",
   "execution_count": 4,
   "metadata": {},
   "outputs": [],
   "source": [
    "# API para devolver texto\n",
    "# ==============================================================================\n",
    "app = FastAPI()\n",
    "\n",
    "@app.get(\"/my-first-api\")\n",
    "def hello(name = None):\n",
    "\n",
    "    if name is None:\n",
    "        text = 'Hello!'\n",
    "\n",
    "    else:\n",
    "        text = 'Hello ' + name + '!'\n",
    "\n",
    "    return text\n",
    "\n",
    "# Para llamarla\n",
    "# http://127.0.0.1:8000/my-first-api\n",
    "# http://127.0.0.1:8000/my-first-api?name=Ander"
   ]
  },
  {
   "cell_type": "code",
   "execution_count": 5,
   "metadata": {},
   "outputs": [],
   "source": [
    "# API para devolver pandas DataFrame\n",
    "# ==============================================================================\n",
    "app = FastAPI()\n",
    "\n",
    "@app.get(\"/get-iris\")\n",
    "def get_iris():\n",
    "\n",
    "    import pandas as pd\n",
    "    url = ('https://gist.githubusercontent.com/curran/a08a1080b88344b0c8a7/raw/'\n",
    "           '0e7a9b0a5d22642a06d3d5b9bcbad9890c8ee534/iris.csv')\n",
    "    iris = pd.read_csv(url)\n",
    "\n",
    "    return iris\n",
    "\n",
    "# Para llamarla\n",
    "# http://127.0.0.1:8000/my-first-api\n",
    "# http://127.0.0.1:8000/my-first-api?name=Ander"
   ]
  },
  {
   "cell_type": "code",
   "execution_count": null,
   "metadata": {},
   "outputs": [],
   "source": [
    "# API para devolver imagen\n",
    "# ==============================================================================\n",
    "app = FastAPI()\n",
    "\n",
    "@app.get(\"/plot-iris\")\n",
    "def plot_iris():\n",
    "\n",
    "    import pandas as pd\n",
    "    import matplotlib.pyplot as plt\n",
    "\n",
    "    url ='https://gist.githubusercontent.com/curran/a08a1080b88344b0c8a7/raw/0e7a9b0a5d22642a06d3d5b9bcbad9890c8ee534/iris.csv'\n",
    "    iris = pd.read_csv(url)\n",
    "\n",
    "    plt.scatter(iris['sepal_length'], iris['sepal_width'])\n",
    "    plt.savefig('iris.png')\n",
    "    file = open('iris.png', mode=\"rb\")\n",
    "\n",
    "    return StreamingResponse(file, media_type=\"image/png\")"
   ]
  },
  {
   "attachments": {},
   "cell_type": "markdown",
   "metadata": {},
   "source": [
    "## Llamadas API"
   ]
  },
  {
   "attachments": {},
   "cell_type": "markdown",
   "metadata": {},
   "source": [
    "Iniciar API\n",
    "\n",
    "uvicorn main:app --reload"
   ]
  },
  {
   "cell_type": "code",
   "execution_count": 10,
   "metadata": {},
   "outputs": [],
   "source": [
    "import requests\n",
    "from PIL import Image\n",
    "import io\n",
    "\n",
    "resp = requests.get('http://127.0.0.1:8000/plot-iris')\n",
    "file = io.BytesIO(resp.content)\n",
    "im = Image.open(file)\n",
    "im.show()"
   ]
  },
  {
   "cell_type": "code",
   "execution_count": 8,
   "metadata": {},
   "outputs": [
    {
     "data": {
      "text/plain": [
       "'\"Hello Ander!\"'"
      ]
     },
     "execution_count": 8,
     "metadata": {},
     "output_type": "execute_result"
    }
   ],
   "source": [
    "resp = requests.get('http://127.0.0.1:8000/my-first-api?name=Ander')\n",
    "resp.text"
   ]
  },
  {
   "attachments": {},
   "cell_type": "markdown",
   "metadata": {},
   "source": [
    "Docu de FastAPI:\n",
    "\n",
    "+ http://127.0.0.1:8000/docs\n",
    "+ http://127.0.0.1:8000/redoc"
   ]
  },
  {
   "attachments": {},
   "cell_type": "markdown",
   "metadata": {},
   "source": [
    "# API con Flask\n",
    "\n",
    "pip install flask\n",
    "\n",
    "pip install flask-restful"
   ]
  },
  {
   "cell_type": "code",
   "execution_count": null,
   "metadata": {},
   "outputs": [],
   "source": []
  },
  {
   "cell_type": "code",
   "execution_count": null,
   "metadata": {},
   "outputs": [],
   "source": []
  },
  {
   "cell_type": "code",
   "execution_count": null,
   "metadata": {},
   "outputs": [],
   "source": []
  },
  {
   "cell_type": "code",
   "execution_count": null,
   "metadata": {},
   "outputs": [],
   "source": []
  },
  {
   "cell_type": "code",
   "execution_count": null,
   "metadata": {},
   "outputs": [],
   "source": []
  }
 ],
 "metadata": {
  "kernelspec": {
   "display_name": "food_digital",
   "language": "python",
   "name": "python3"
  },
  "language_info": {
   "codemirror_mode": {
    "name": "ipython",
    "version": 3
   },
   "file_extension": ".py",
   "mimetype": "text/x-python",
   "name": "python",
   "nbconvert_exporter": "python",
   "pygments_lexer": "ipython3",
   "version": "3.8.13"
  },
  "toc": {
   "base_numbering": "1",
   "nav_menu": {},
   "number_sections": true,
   "sideBar": true,
   "skip_h1_title": false,
   "title_cell": "Table of Contents",
   "title_sidebar": "Contents",
   "toc_cell": false,
   "toc_position": {},
   "toc_section_display": true,
   "toc_window_display": true
  },
  "varInspector": {
   "cols": {
    "lenName": 16,
    "lenType": 16,
    "lenVar": 40
   },
   "kernels_config": {
    "python": {
     "delete_cmd_postfix": "",
     "delete_cmd_prefix": "del ",
     "library": "var_list.py",
     "varRefreshCmd": "print(var_dic_list())"
    },
    "r": {
     "delete_cmd_postfix": ") ",
     "delete_cmd_prefix": "rm(",
     "library": "var_list.r",
     "varRefreshCmd": "cat(var_dic_list()) "
    }
   },
   "types_to_exclude": [
    "module",
    "function",
    "builtin_function_or_method",
    "instance",
    "_Feature"
   ],
   "window_display": false
  }
 },
 "nbformat": 4,
 "nbformat_minor": 4
}
