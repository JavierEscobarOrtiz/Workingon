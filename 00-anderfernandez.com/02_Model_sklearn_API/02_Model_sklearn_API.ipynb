{
 "cells": [
  {
   "attachments": {},
   "cell_type": "markdown",
   "metadata": {},
   "source": [
    "https://anderfernandez.com/blog/como-poner-modelo-de-python-en-produccion/"
   ]
  },
  {
   "attachments": {},
   "cell_type": "markdown",
   "metadata": {},
   "source": [
    "# Cómo poner un modelo de Python en Producción"
   ]
  },
  {
   "cell_type": "code",
   "execution_count": 9,
   "metadata": {
    "ExecuteTime": {
     "end_time": "2021-08-31T10:34:52.322546Z",
     "start_time": "2021-08-31T10:34:52.310580Z"
    }
   },
   "outputs": [],
   "source": [
    "# Tratamiento de datos\n",
    "# ==============================================================================\n",
    "import pandas as pd\n",
    "import numpy as np\n",
    "import math\n",
    "\n",
    "# Gráficos\n",
    "# ==============================================================================\n",
    "import matplotlib.pyplot as plt\n",
    "from matplotlib import style\n",
    "import seaborn as sns\n",
    "\n",
    "# Preprocesado y modelado\n",
    "# ==============================================================================\n",
    "from sklearn.metrics import mean_absolute_error  \n",
    "from sklearn.ensemble import RandomForestRegressor\n",
    "from sklearn.preprocessing import LabelBinarizer\n",
    "from sklearn.model_selection import train_test_split\n",
    "\n",
    "# Fast API\n",
    "# ==============================================================================\n",
    "from fastapi import FastAPI"
   ]
  },
  {
   "attachments": {},
   "cell_type": "markdown",
   "metadata": {},
   "source": [
    "## Tratamiento de datos"
   ]
  },
  {
   "cell_type": "code",
   "execution_count": 10,
   "metadata": {},
   "outputs": [
    {
     "name": "stdout",
     "output_type": "stream",
     "text": [
      "<class 'pandas.core.frame.DataFrame'>\n",
      "RangeIndex: 21742 entries, 0 to 21741\n",
      "Data columns (total 58 columns):\n",
      " #   Column                        Non-Null Count  Dtype  \n",
      "---  ------                        --------------  -----  \n",
      " 0   Unnamed: 0                    21742 non-null  int64  \n",
      " 1   id                            21742 non-null  int64  \n",
      " 2   title                         21742 non-null  object \n",
      " 3   subtitle                      21742 non-null  object \n",
      " 4   sq_mt_built                   21616 non-null  float64\n",
      " 5   sq_mt_useful                  8228 non-null   float64\n",
      " 6   n_rooms                       21742 non-null  int64  \n",
      " 7   n_bathrooms                   21726 non-null  float64\n",
      " 8   n_floors                      1437 non-null   float64\n",
      " 9   sq_mt_allotment               1432 non-null   float64\n",
      " 10  latitude                      0 non-null      float64\n",
      " 11  longitude                     0 non-null      float64\n",
      " 12  raw_address                   16277 non-null  object \n",
      " 13  is_exact_address_hidden       21742 non-null  bool   \n",
      " 14  street_name                   15837 non-null  object \n",
      " 15  street_number                 6300 non-null   object \n",
      " 16  portal                        0 non-null      float64\n",
      " 17  floor                         19135 non-null  object \n",
      " 18  is_floor_under                20572 non-null  object \n",
      " 19  door                          0 non-null      float64\n",
      " 20  neighborhood_id               21742 non-null  object \n",
      " 21  operation                     21742 non-null  object \n",
      " 22  rent_price                    21742 non-null  int64  \n",
      " 23  rent_price_by_area            0 non-null      float64\n",
      " 24  is_rent_price_known           21742 non-null  bool   \n",
      " 25  buy_price                     21742 non-null  int64  \n",
      " 26  buy_price_by_area             21742 non-null  int64  \n",
      " 27  is_buy_price_known            21742 non-null  bool   \n",
      " 28  house_type_id                 21351 non-null  object \n",
      " 29  is_renewal_needed             21742 non-null  bool   \n",
      " 30  is_new_development            20750 non-null  object \n",
      " 31  built_year                    10000 non-null  float64\n",
      " 32  has_central_heating           13608 non-null  object \n",
      " 33  has_individual_heating        13608 non-null  object \n",
      " 34  are_pets_allowed              0 non-null      float64\n",
      " 35  has_ac                        11211 non-null  object \n",
      " 36  has_fitted_wardrobes          13399 non-null  object \n",
      " 37  has_lift                      19356 non-null  object \n",
      " 38  is_exterior                   18699 non-null  object \n",
      " 39  has_garden                    1556 non-null   object \n",
      " 40  has_pool                      5171 non-null   object \n",
      " 41  has_terrace                   9548 non-null   object \n",
      " 42  has_balcony                   3321 non-null   object \n",
      " 43  has_storage_room              7698 non-null   object \n",
      " 44  is_furnished                  0 non-null      float64\n",
      " 45  is_kitchen_equipped           0 non-null      float64\n",
      " 46  is_accessible                 4074 non-null   object \n",
      " 47  has_green_zones               4057 non-null   object \n",
      " 48  energy_certificate            21742 non-null  object \n",
      " 49  has_parking                   21742 non-null  bool   \n",
      " 50  has_private_parking           0 non-null      float64\n",
      " 51  has_public_parking            0 non-null      float64\n",
      " 52  is_parking_included_in_price  7719 non-null   object \n",
      " 53  parking_price                 7719 non-null   float64\n",
      " 54  is_orientation_north          11358 non-null  object \n",
      " 55  is_orientation_west           11358 non-null  object \n",
      " 56  is_orientation_south          11358 non-null  object \n",
      " 57  is_orientation_east           11358 non-null  object \n",
      "dtypes: bool(5), float64(17), int64(6), object(30)\n",
      "memory usage: 8.9+ MB\n"
     ]
    }
   ],
   "source": [
    "# Download data\n",
    "# ==============================================================================\n",
    "url = 'https://raw.githubusercontent.com/anderfernandez/datasets/main/Casas%20Madrid/houses_Madrid.csv'\n",
    "data = pd.read_csv(url )\n",
    "data.info()"
   ]
  },
  {
   "cell_type": "code",
   "execution_count": 11,
   "metadata": {},
   "outputs": [
    {
     "data": {
      "text/plain": [
       "title                           10736\n",
       "subtitle                          146\n",
       "raw_address                      9666\n",
       "street_name                      6177\n",
       "street_number                     420\n",
       "floor                              19\n",
       "is_floor_under                      2\n",
       "neighborhood_id                   126\n",
       "operation                           1\n",
       "house_type_id                       4\n",
       "is_new_development                  2\n",
       "has_central_heating                 2\n",
       "has_individual_heating              2\n",
       "has_ac                              1\n",
       "has_fitted_wardrobes                1\n",
       "has_lift                            2\n",
       "is_exterior                         2\n",
       "has_garden                          1\n",
       "has_pool                            1\n",
       "has_terrace                         1\n",
       "has_balcony                         1\n",
       "has_storage_room                    1\n",
       "is_accessible                       1\n",
       "has_green_zones                     1\n",
       "energy_certificate                 10\n",
       "is_parking_included_in_price        2\n",
       "is_orientation_north                2\n",
       "is_orientation_west                 2\n",
       "is_orientation_south                2\n",
       "is_orientation_east                 2\n",
       "dtype: int64"
      ]
     },
     "execution_count": 11,
     "metadata": {},
     "output_type": "execute_result"
    }
   ],
   "source": [
    "# Valores texto con un único valor\n",
    "# ==============================================================================\n",
    "str_cols = data.select_dtypes(['object']).columns\n",
    "str_unique_vals = data[str_cols]\\\n",
    "    .apply(lambda x: len(x.dropna().unique()))\n",
    "\n",
    "str_unique_vals"
   ]
  },
  {
   "cell_type": "code",
   "execution_count": 12,
   "metadata": {},
   "outputs": [
    {
     "name": "stderr",
     "output_type": "stream",
     "text": [
      "C:\\Users\\jaesc2\\AppData\\Local\\Temp\\ipykernel_21068\\1114518348.py:5: DeprecationWarning: In a future version, `df.iloc[:, i] = newvals` will attempt to set the values inplace instead of always setting a new array. To retain the old behavior, use either `df[df.columns[i]] = newvals` or, if columns are non-unique, `df.isetitem(i, newvals)`\n",
      "  data.loc[:,str_unique_vals_cols] = data\\\n"
     ]
    }
   ],
   "source": [
    "# Cambiar NaNs por False\n",
    "# ==============================================================================\n",
    "str_unique_vals_cols = str_unique_vals[str_unique_vals == 1].index.tolist()\n",
    "\n",
    "data.loc[:,str_unique_vals_cols] = data\\\n",
    "  .loc[:,str_unique_vals_cols].fillna(False)\n",
    "\n",
    "# Elimino variables con mucho NA\n",
    "ind_keep = data.isna().sum() < 0.3 * data.shape[0]\n",
    "data = data.loc[:,ind_keep]\n",
    "\n",
    "# Remove columns\n",
    "data.drop([\n",
    "  'title', 'street_name','raw_address',\n",
    "  'is_exact_address_hidden','is_rent_price_known',\n",
    "  'is_buy_price_known', 'subtitle',\n",
    "  'floor','buy_price_by_area', 'rent_price', 'id', 'Unnamed: 0'\n",
    "  ], axis = 1, inplace = True)"
   ]
  },
  {
   "cell_type": "code",
   "execution_count": 13,
   "metadata": {},
   "outputs": [
    {
     "data": {
      "image/png": "[encoded data removed]",
      "text/plain": [
       "<Figure size 400x300 with 2 Axes>"
      ]
     },
     "metadata": {
      "needs_background": "light"
     },
     "output_type": "display_data"
    }
   ],
   "source": [
    "# Heatmap Numéricas\n",
    "# ==============================================================================\n",
    "\n",
    "# Cambio el tamaño\n",
    "from matplotlib.pyplot import figure\n",
    "plt.rcParams['figure.figsize'] = [4, 3]\n",
    "plt.rcParams['figure.dpi'] = 100\n",
    "\n",
    "str_cols = data.select_dtypes('object').columns.tolist()\n",
    "num_cols = data.select_dtypes(['int', 'float']).columns.tolist()\n",
    "\n",
    "# Selecciono datos numéricos\n",
    "cor_matrix = pd.concat([data[num_cols]], axis = 1).corr()\n",
    "sns.heatmap(cor_matrix)\n",
    "plt.show()"
   ]
  },
  {
   "cell_type": "code",
   "execution_count": 14,
   "metadata": {},
   "outputs": [
    {
     "data": {
      "image/png": "[encoded data removed]",
      "text/plain": [
       "<Figure size 600x600 with 9 Axes>"
      ]
     },
     "metadata": {
      "needs_background": "light"
     },
     "output_type": "display_data"
    }
   ],
   "source": [
    "# Variables Categóricas\n",
    "# ==============================================================================\n",
    "str_cols = data.select_dtypes('object').columns\n",
    "\n",
    "fig, ax = plt.subplots(math.ceil(len(str_cols)/3), 3, figsize=(6, 6))\n",
    "\n",
    "for var, subplot in zip(str_cols, ax.flatten()):\n",
    "    sns.boxplot(x=var, y='buy_price', data=data, ax=subplot)\n",
    "\n",
    "plt.show()"
   ]
  },
  {
   "attachments": {},
   "cell_type": "markdown",
   "metadata": {},
   "source": [
    "Visualmente, podemos ver como el tipo de vivienda (house_type_id) tiene unas diferencias bastante marcadas, al igual que el hecho de que tenga o no ascendor (has_lift). Aunque habría formas mejores de comprobarlo, para este ejemplo nos sirve con esto."
   ]
  },
  {
   "cell_type": "markdown",
   "metadata": {},
   "source": [
    "## Creación del Modelo de predicción del precio de la vivienda"
   ]
  },
  {
   "cell_type": "code",
   "execution_count": 15,
   "metadata": {},
   "outputs": [
    {
     "name": "stdout",
     "output_type": "stream",
     "text": [
      "(16306, 5) (16306,)\n"
     ]
    }
   ],
   "source": [
    "# Train-test split\n",
    "# ==============================================================================\n",
    "keep_cols = ['sq_mt_built', 'n_bathrooms', 'n_rooms' , 'has_lift', 'house_type_id']\n",
    "\n",
    "# Split de los datos\n",
    "y = data['buy_price']\n",
    "x = data[keep_cols]\n",
    "x_train, x_test, y_train, y_test = train_test_split(x, y, random_state = 1234)\n",
    "\n",
    "print(x_train.shape, y_train.shape)"
   ]
  },
  {
   "cell_type": "code",
   "execution_count": 16,
   "metadata": {},
   "outputs": [
    {
     "name": "stdout",
     "output_type": "stream",
     "text": [
      "sq_mt_built        98\n",
      "n_bathrooms        10\n",
      "n_rooms             0\n",
      "has_lift         1828\n",
      "house_type_id     286\n",
      "dtype: int64\n"
     ]
    },
    {
     "name": "stderr",
     "output_type": "stream",
     "text": [
      "C:\\Users\\jaesc2\\AppData\\Local\\Temp\\ipykernel_21068\\2839069436.py:4: FutureWarning: The default value of numeric_only in DataFrameGroupBy.sum is deprecated. In a future version, numeric_only will default to False. Either specify numeric_only or select only columns which should be valid for the function.\n",
      "  x_train\\\n"
     ]
    },
    {
     "data": {
      "text/html": [
       "<div>\n",
       "<style scoped>\n",
       "    .dataframe tbody tr th:only-of-type {\n",
       "        vertical-align: middle;\n",
       "    }\n",
       "\n",
       "    .dataframe tbody tr th {\n",
       "        vertical-align: top;\n",
       "    }\n",
       "\n",
       "    .dataframe thead th {\n",
       "        text-align: right;\n",
       "    }\n",
       "</style>\n",
       "<table border=\"1\" class=\"dataframe\">\n",
       "  <thead>\n",
       "    <tr style=\"text-align: right;\">\n",
       "      <th></th>\n",
       "      <th>house_type_id</th>\n",
       "      <th>n_nas</th>\n",
       "      <th>n_rows</th>\n",
       "    </tr>\n",
       "  </thead>\n",
       "  <tbody>\n",
       "    <tr>\n",
       "      <th>0</th>\n",
       "      <td>HouseType 1: Pisos</td>\n",
       "      <td>312</td>\n",
       "      <td>13260</td>\n",
       "    </tr>\n",
       "    <tr>\n",
       "      <th>1</th>\n",
       "      <td>HouseType 2: Casa o chalet</td>\n",
       "      <td>1496</td>\n",
       "      <td>1496</td>\n",
       "    </tr>\n",
       "    <tr>\n",
       "      <th>2</th>\n",
       "      <td>HouseType 4: Dúplex</td>\n",
       "      <td>7</td>\n",
       "      <td>502</td>\n",
       "    </tr>\n",
       "    <tr>\n",
       "      <th>3</th>\n",
       "      <td>HouseType 5: Áticos</td>\n",
       "      <td>5</td>\n",
       "      <td>762</td>\n",
       "    </tr>\n",
       "  </tbody>\n",
       "</table>\n",
       "</div>"
      ],
      "text/plain": [
       "                house_type_id  n_nas  n_rows\n",
       "0          HouseType 1: Pisos    312   13260\n",
       "1  HouseType 2: Casa o chalet   1496    1496\n",
       "2         HouseType 4: Dúplex      7     502\n",
       "3         HouseType 5: Áticos      5     762"
      ]
     },
     "execution_count": 16,
     "metadata": {},
     "output_type": "execute_result"
    }
   ],
   "source": [
    "# Check NaNs\n",
    "# ==============================================================================\n",
    "print(x_train.isna().sum())\n",
    "x_train\\\n",
    "  .assign(\n",
    "      n_nas = x_train['has_lift'].isnull(),\n",
    "      n_rows = 1\n",
    "      )\\\n",
    "  .groupby('house_type_id')\\\n",
    "  .sum()\\\n",
    "  .reset_index()\\\n",
    "  .loc[:,['house_type_id', 'n_nas', 'n_rows']]\n"
   ]
  },
  {
   "cell_type": "code",
   "execution_count": 17,
   "metadata": {},
   "outputs": [
    {
     "name": "stdout",
     "output_type": "stream",
     "text": [
      "sq_mt_built       98\n",
      "n_bathrooms       10\n",
      "n_rooms            0\n",
      "has_lift         332\n",
      "house_type_id    286\n",
      "dtype: int64\n"
     ]
    }
   ],
   "source": [
    "# Transformo en train y test\n",
    "x_train.loc[\n",
    "            x_train['house_type_id'] == 'HouseType 2: Casa o chalet', 'has_lift'\n",
    "            ] = False\n",
    "\n",
    "x_test.loc[\n",
    "            x_test['house_type_id'] == 'HouseType 2: Casa o chalet', 'has_lift'\n",
    "            ] = False\n",
    "\n",
    "print(x_train.isna().sum())"
   ]
  },
  {
   "cell_type": "code",
   "execution_count": 18,
   "metadata": {},
   "outputs": [],
   "source": [
    "# Imputo NAs con la moda\n",
    "import pickle\n",
    "\n",
    "# Calculo las modas\n",
    "modes = dict(zip(x_train.columns, x_train.mode().loc[0,:].tolist()))\n",
    "\n",
    "# Imputo la moda\n",
    "for column in x_train.columns:\n",
    "  x_train.loc[x_train[column].isna(),column] = modes.get(column)"
   ]
  },
  {
   "cell_type": "code",
   "execution_count": 19,
   "metadata": {},
   "outputs": [
    {
     "name": "stdout",
     "output_type": "stream",
     "text": [
      "Train error: 115372.91074353029\n"
     ]
    }
   ],
   "source": [
    "# Defino el encoder\n",
    "encoder = LabelBinarizer()\n",
    "encoder_fit = encoder.fit(x_train['house_type_id'])\n",
    "\n",
    "encoded_data_train = pd.DataFrame(\n",
    "  encoder_fit.transform(x_train['house_type_id']),\n",
    "  columns = encoder_fit.classes_.tolist()\n",
    ") \n",
    "\n",
    "# Add encoded variables\n",
    "x_train_transf = pd.concat(\n",
    "  [x_train.reset_index(), encoded_data_train],\n",
    "  axis = 1\n",
    "  )\\\n",
    "  .drop(['index', 'house_type_id'], axis = 1)\n",
    "\n",
    "# Create model\n",
    "rf_reg = RandomForestRegressor()\n",
    "rf_reg_fit = rf_reg\\\n",
    "  .fit(x_train_transf, y_train)\n",
    "\n",
    "preds = rf_reg_fit.predict(x_train_transf)\n",
    "\n",
    "print('Train error:', mean_absolute_error(y_train, preds))"
   ]
  },
  {
   "cell_type": "code",
   "execution_count": 20,
   "metadata": {},
   "outputs": [
    {
     "name": "stdout",
     "output_type": "stream",
     "text": [
      "Test error: 180108.13740147935\n"
     ]
    }
   ],
   "source": [
    "# Imputo la moda\n",
    "for column in x_test.columns:\n",
    "  x_test.loc[x_test[column].isna(),column] = modes.get(column)\n",
    "\n",
    "# One hot encoding\n",
    "encoded_data_test = pd.DataFrame(\n",
    "  encoder_fit.transform(x_test['house_type_id']),\n",
    "  columns = encoder_fit.classes_.tolist()\n",
    ") \n",
    "\n",
    "x_test_transf = pd.concat(\n",
    "  [x_test.reset_index(), encoded_data_test],\n",
    "  axis = 1\n",
    "  )\\\n",
    "  .drop(['index','house_type_id'], axis = 1)\n",
    "\n",
    "preds = rf_reg_fit.predict(x_test_transf)\n",
    "\n",
    "print('Test error:', mean_absolute_error(y_test, preds))"
   ]
  },
  {
   "cell_type": "markdown",
   "metadata": {},
   "source": [
    "## Crear API"
   ]
  },
  {
   "cell_type": "code",
   "execution_count": 22,
   "metadata": {},
   "outputs": [],
   "source": [
    "# Almacenar encoder y model\n",
    "# ==============================================================================\n",
    "with open(r'./app/encoder.pickle', 'wb') as handle:\n",
    "    pickle.dump(encoder, handle, protocol=pickle.HIGHEST_PROTOCOL)\n",
    "\n",
    "with open(r'./app/model.pickle', 'wb') as handle:\n",
    "    pickle.dump(rf_reg_fit, handle, protocol=pickle.HIGHEST_PROTOCOL)"
   ]
  },
  {
   "attachments": {},
   "cell_type": "markdown",
   "metadata": {},
   "source": [
    "lanzar API desde carpeta app:\n",
    "\n",
    "uvicorn main:app --reload"
   ]
  },
  {
   "attachments": {},
   "cell_type": "markdown",
   "metadata": {},
   "source": [
    "## Generar predicción\n",
    "\n",
    "Una vez levantada la API..."
   ]
  },
  {
   "cell_type": "code",
   "execution_count": 1,
   "metadata": {},
   "outputs": [],
   "source": [
    "sq_met = 100\n",
    "n_bathrooms = 2\n",
    "n_rooms = 2\n",
    "has_lift = True\n",
    "house_type = 'HouseType 1: Pisos'  "
   ]
  },
  {
   "cell_type": "code",
   "execution_count": 1,
   "metadata": {},
   "outputs": [],
   "source": [
    "import requests\n",
    "\n",
    "sq_met = 100\n",
    "n_bathrooms = 2\n",
    "n_rooms = 2\n",
    "has_lift = True\n",
    "house_type = 'HouseType 1: Pisos'  \n",
    "\n",
    "\n",
    "url = (f'http://127.0.0.1:8000/make_preds?'\n",
    "       f'sq_mt={sq_met}&'\n",
    "       f'n_bathrooms={n_bathrooms}&'\n",
    "       f'n_rooms={n_rooms}&'\n",
    "       f'has_lift={has_lift}&'\n",
    "       f'house_type={house_type}')\n",
    "\n",
    "url = url.replace(' ', '20')\n",
    "\n",
    "resp = requests.post(url)\n",
    "\n",
    "resp.content"
   ]
  },
  {
   "cell_type": "code",
   "execution_count": null,
   "metadata": {},
   "outputs": [],
   "source": [
    "url = f'http://127.0.0.1:8000/make_preds?sq_mt={sq_met}&n_bathrooms={n_bathrooms}&n_rooms={n_rooms}&has_lift={has_lift}&house_type={house_type}'"
   ]
  },
  {
   "cell_type": "code",
   "execution_count": null,
   "metadata": {},
   "outputs": [],
   "source": [
    "http://127.0.0.1:8000/make_preds?sq_mt=100&n_bathrooms=2&n_rooms=2&has_lift=True&house_type='HouseType 1: Pisos'"
   ]
  },
  {
   "cell_type": "code",
   "execution_count": 3,
   "metadata": {},
   "outputs": [
    {
     "name": "stdout",
     "output_type": "stream",
     "text": [
      "http://127.0.0.1:8000/make_preds?sq_mt=100&n_bathrooms=2&n_rooms=2&has_lift=True&house_type=HouseType201:20Pisos\n"
     ]
    }
   ],
   "source": [
    "print((f'http://127.0.0.1:8000/make_preds?'\n",
    "       f'sq_mt={sq_met}&'\n",
    "       f'n_bathrooms={n_bathrooms}&'\n",
    "       f'n_rooms={n_rooms}&'\n",
    "       f'has_lift={has_lift}&'\n",
    "       f'house_type={house_type}').replace(' ', '20'))"
   ]
  },
  {
   "cell_type": "code",
   "execution_count": null,
   "metadata": {},
   "outputs": [],
   "source": []
  }
 ],
 "metadata": {
  "kernelspec": {
   "display_name": "food_digital",
   "language": "python",
   "name": "python3"
  },
  "language_info": {
   "codemirror_mode": {
    "name": "ipython",
    "version": 3
   },
   "file_extension": ".py",
   "mimetype": "text/x-python",
   "name": "python",
   "nbconvert_exporter": "python",
   "pygments_lexer": "ipython3",
   "version": "3.8.13"
  },
  "toc": {
   "base_numbering": "1",
   "nav_menu": {},
   "number_sections": true,
   "sideBar": true,
   "skip_h1_title": false,
   "title_cell": "Table of Contents",
   "title_sidebar": "Contents",
   "toc_cell": false,
   "toc_position": {},
   "toc_section_display": true,
   "toc_window_display": true
  },
  "varInspector": {
   "cols": {
    "lenName": 16,
    "lenType": 16,
    "lenVar": 40
   },
   "kernels_config": {
    "python": {
     "delete_cmd_postfix": "",
     "delete_cmd_prefix": "del ",
     "library": "var_list.py",
     "varRefreshCmd": "print(var_dic_list())"
    },
    "r": {
     "delete_cmd_postfix": ") ",
     "delete_cmd_prefix": "rm(",
     "library": "var_list.r",
     "varRefreshCmd": "cat(var_dic_list()) "
    }
   },
   "types_to_exclude": [
    "module",
    "function",
    "builtin_function_or_method",
    "instance",
    "_Feature"
   ],
   "window_display": false
  }
 },
 "nbformat": 4,
 "nbformat_minor": 4
}
