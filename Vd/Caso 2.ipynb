{
 "cells": [
  {
   "cell_type": "markdown",
   "metadata": {
    "ExecuteTime": {
     "end_time": "2021-12-21T15:33:47.564855Z",
     "start_time": "2021-12-21T15:33:45.515575Z"
    }
   },
   "source": [
    "# Librerias"
   ]
  },
  {
   "cell_type": "code",
   "execution_count": 16,
   "metadata": {
    "ExecuteTime": {
     "end_time": "2021-12-22T15:19:30.023130Z",
     "start_time": "2021-12-22T15:19:26.114059Z"
    }
   },
   "outputs": [],
   "source": [
    "# Tratamiento de datos\n",
    "# ==============================================================================\n",
    "import pandas as pd\n",
    "import numpy as np\n",
    "import zipfile\n",
    "\n",
    "# Gráficos\n",
    "# ==============================================================================\n",
    "import matplotlib.pyplot as plt\n",
    "import seaborn as sns"
   ]
  },
  {
   "cell_type": "markdown",
   "metadata": {},
   "source": [
    "Valores: predicciones negativos, no tenia sentido. Se puede modelar el logaritmo\n",
    "\n",
    "Ausencia de predictores: si es negativo, medias anteriores\n",
    "\n",
    "sistema determinista en el que se asume unas condiciones de proceso dan un determinado resultado no como serie temporal de la variable respuesta. Proceso dinamico, interesa la P hace x tiempo no la de ahora, en un tramo previo del circuito. El valor de la variable hace 8 horas no influye \n"
   ]
  },
  {
   "cell_type": "markdown",
   "metadata": {},
   "source": [
    "columnas completas, variables correlacionadas, columnas con valores constantes, columnas muy desbalanceadas? combinar grupos minoritarios.\n",
    "comenzar regresion logistica sin regu\n",
    "regularizar por correlaciones\n",
    "random forest, gradient boosting\n",
    "metricas:\n",
    "accuracy, F1 score\n",
    "AUC - ROC\n",
    "\n"
   ]
  },
  {
   "cell_type": "markdown",
   "metadata": {},
   "source": [
    "# Datos modelizacion"
   ]
  },
  {
   "cell_type": "code",
   "execution_count": 2,
   "metadata": {
    "ExecuteTime": {
     "end_time": "2021-12-22T15:15:14.926716Z",
     "start_time": "2021-12-22T15:15:10.305683Z"
    }
   },
   "outputs": [
    {
     "name": "stdout",
     "output_type": "stream",
     "text": [
      "(96188, 277)\n"
     ]
    },
    {
     "data": {
      "text/html": [
       "<div>\n",
       "<style scoped>\n",
       "    .dataframe tbody tr th:only-of-type {\n",
       "        vertical-align: middle;\n",
       "    }\n",
       "\n",
       "    .dataframe tbody tr th {\n",
       "        vertical-align: top;\n",
       "    }\n",
       "\n",
       "    .dataframe thead th {\n",
       "        text-align: right;\n",
       "    }\n",
       "</style>\n",
       "<table border=\"1\" class=\"dataframe\">\n",
       "  <thead>\n",
       "    <tr style=\"text-align: right;\">\n",
       "      <th></th>\n",
       "      <th>var_0</th>\n",
       "      <th>var_1</th>\n",
       "      <th>var_2</th>\n",
       "      <th>var_3</th>\n",
       "      <th>var_4</th>\n",
       "      <th>var_5</th>\n",
       "      <th>var_6</th>\n",
       "      <th>var_7</th>\n",
       "      <th>var_8</th>\n",
       "      <th>var_9</th>\n",
       "      <th>...</th>\n",
       "      <th>var_267</th>\n",
       "      <th>var_268</th>\n",
       "      <th>var_269</th>\n",
       "      <th>var_270</th>\n",
       "      <th>var_271</th>\n",
       "      <th>var_272</th>\n",
       "      <th>var_273</th>\n",
       "      <th>var_274</th>\n",
       "      <th>var_275</th>\n",
       "      <th>label</th>\n",
       "    </tr>\n",
       "  </thead>\n",
       "  <tbody>\n",
       "    <tr>\n",
       "      <th>0</th>\n",
       "      <td>9248245</td>\n",
       "      <td>0.0</td>\n",
       "      <td>0</td>\n",
       "      <td>0</td>\n",
       "      <td>0.0</td>\n",
       "      <td>0.0</td>\n",
       "      <td>0.00</td>\n",
       "      <td>0.0</td>\n",
       "      <td>0.0</td>\n",
       "      <td>1</td>\n",
       "      <td>...</td>\n",
       "      <td>0.0</td>\n",
       "      <td>1.0</td>\n",
       "      <td>0</td>\n",
       "      <td>0.0</td>\n",
       "      <td>0.0</td>\n",
       "      <td>0</td>\n",
       "      <td>0.0</td>\n",
       "      <td>0</td>\n",
       "      <td>0.0</td>\n",
       "      <td>0</td>\n",
       "    </tr>\n",
       "    <tr>\n",
       "      <th>1</th>\n",
       "      <td>10037840</td>\n",
       "      <td>0.0</td>\n",
       "      <td>0</td>\n",
       "      <td>0</td>\n",
       "      <td>0.0</td>\n",
       "      <td>0.0</td>\n",
       "      <td>0.00</td>\n",
       "      <td>0.0</td>\n",
       "      <td>0.0</td>\n",
       "      <td>1</td>\n",
       "      <td>...</td>\n",
       "      <td>0.0</td>\n",
       "      <td>0.0</td>\n",
       "      <td>0</td>\n",
       "      <td>0.0</td>\n",
       "      <td>0.0</td>\n",
       "      <td>0</td>\n",
       "      <td>0.0</td>\n",
       "      <td>0</td>\n",
       "      <td>0.0</td>\n",
       "      <td>0</td>\n",
       "    </tr>\n",
       "    <tr>\n",
       "      <th>2</th>\n",
       "      <td>10299029</td>\n",
       "      <td>0.0</td>\n",
       "      <td>0</td>\n",
       "      <td>0</td>\n",
       "      <td>0.0</td>\n",
       "      <td>0.0</td>\n",
       "      <td>24.44</td>\n",
       "      <td>0.0</td>\n",
       "      <td>0.0</td>\n",
       "      <td>0</td>\n",
       "      <td>...</td>\n",
       "      <td>0.0</td>\n",
       "      <td>0.0</td>\n",
       "      <td>0</td>\n",
       "      <td>0.0</td>\n",
       "      <td>0.0</td>\n",
       "      <td>0</td>\n",
       "      <td>0.0</td>\n",
       "      <td>0</td>\n",
       "      <td>0.0</td>\n",
       "      <td>0</td>\n",
       "    </tr>\n",
       "    <tr>\n",
       "      <th>3</th>\n",
       "      <td>10907006</td>\n",
       "      <td>0.0</td>\n",
       "      <td>0</td>\n",
       "      <td>0</td>\n",
       "      <td>0.0</td>\n",
       "      <td>0.0</td>\n",
       "      <td>0.00</td>\n",
       "      <td>0.0</td>\n",
       "      <td>0.0</td>\n",
       "      <td>0</td>\n",
       "      <td>...</td>\n",
       "      <td>0.0</td>\n",
       "      <td>0.0</td>\n",
       "      <td>0</td>\n",
       "      <td>0.0</td>\n",
       "      <td>0.0</td>\n",
       "      <td>0</td>\n",
       "      <td>0.0</td>\n",
       "      <td>0</td>\n",
       "      <td>0.0</td>\n",
       "      <td>0</td>\n",
       "    </tr>\n",
       "    <tr>\n",
       "      <th>4</th>\n",
       "      <td>14080498</td>\n",
       "      <td>0.0</td>\n",
       "      <td>0</td>\n",
       "      <td>0</td>\n",
       "      <td>0.0</td>\n",
       "      <td>0.0</td>\n",
       "      <td>0.00</td>\n",
       "      <td>0.0</td>\n",
       "      <td>0.0</td>\n",
       "      <td>0</td>\n",
       "      <td>...</td>\n",
       "      <td>0.0</td>\n",
       "      <td>0.0</td>\n",
       "      <td>0</td>\n",
       "      <td>0.0</td>\n",
       "      <td>0.0</td>\n",
       "      <td>0</td>\n",
       "      <td>0.0</td>\n",
       "      <td>0</td>\n",
       "      <td>0.0</td>\n",
       "      <td>0</td>\n",
       "    </tr>\n",
       "  </tbody>\n",
       "</table>\n",
       "<p>5 rows × 277 columns</p>\n",
       "</div>"
      ],
      "text/plain": [
       "      var_0  var_1  var_2  var_3  var_4  var_5  var_6  var_7  var_8  var_9  \\\n",
       "0   9248245    0.0      0      0    0.0    0.0   0.00    0.0    0.0      1   \n",
       "1  10037840    0.0      0      0    0.0    0.0   0.00    0.0    0.0      1   \n",
       "2  10299029    0.0      0      0    0.0    0.0  24.44    0.0    0.0      0   \n",
       "3  10907006    0.0      0      0    0.0    0.0   0.00    0.0    0.0      0   \n",
       "4  14080498    0.0      0      0    0.0    0.0   0.00    0.0    0.0      0   \n",
       "\n",
       "   ...  var_267  var_268  var_269  var_270  var_271  var_272  var_273  \\\n",
       "0  ...      0.0      1.0        0      0.0      0.0        0      0.0   \n",
       "1  ...      0.0      0.0        0      0.0      0.0        0      0.0   \n",
       "2  ...      0.0      0.0        0      0.0      0.0        0      0.0   \n",
       "3  ...      0.0      0.0        0      0.0      0.0        0      0.0   \n",
       "4  ...      0.0      0.0        0      0.0      0.0        0      0.0   \n",
       "\n",
       "   var_274  var_275  label  \n",
       "0        0      0.0      0  \n",
       "1        0      0.0      0  \n",
       "2        0      0.0      0  \n",
       "3        0      0.0      0  \n",
       "4        0      0.0      0  \n",
       "\n",
       "[5 rows x 277 columns]"
      ]
     },
     "execution_count": 2,
     "metadata": {},
     "output_type": "execute_result"
    }
   ],
   "source": [
    "zip_file = zipfile.ZipFile(r\".\\Archive.zip\")\n",
    "datos_model_raw = pd.read_csv(zip_file.open(\"datos_para_modelizacion.csv\"))\n",
    "print(datos_model_raw.shape)\n",
    "datos_model_raw.head(5)"
   ]
  },
  {
   "cell_type": "markdown",
   "metadata": {},
   "source": [
    "## Análisis descriptivo"
   ]
  },
  {
   "cell_type": "code",
   "execution_count": 41,
   "metadata": {
    "ExecuteTime": {
     "end_time": "2021-12-22T15:33:14.909719Z",
     "start_time": "2021-12-22T15:33:12.157618Z"
    }
   },
   "outputs": [
    {
     "data": {
      "text/html": [
       "<div>\n",
       "<style scoped>\n",
       "    .dataframe tbody tr th:only-of-type {\n",
       "        vertical-align: middle;\n",
       "    }\n",
       "\n",
       "    .dataframe tbody tr th {\n",
       "        vertical-align: top;\n",
       "    }\n",
       "\n",
       "    .dataframe thead th {\n",
       "        text-align: right;\n",
       "    }\n",
       "</style>\n",
       "<table border=\"1\" class=\"dataframe\">\n",
       "  <thead>\n",
       "    <tr style=\"text-align: right;\">\n",
       "      <th></th>\n",
       "      <th>var_0</th>\n",
       "      <th>var_1</th>\n",
       "      <th>var_2</th>\n",
       "      <th>var_3</th>\n",
       "      <th>var_4</th>\n",
       "      <th>var_5</th>\n",
       "      <th>var_6</th>\n",
       "      <th>var_7</th>\n",
       "      <th>var_8</th>\n",
       "      <th>var_9</th>\n",
       "      <th>...</th>\n",
       "      <th>var_267</th>\n",
       "      <th>var_268</th>\n",
       "      <th>var_269</th>\n",
       "      <th>var_270</th>\n",
       "      <th>var_271</th>\n",
       "      <th>var_272</th>\n",
       "      <th>var_273</th>\n",
       "      <th>var_274</th>\n",
       "      <th>var_275</th>\n",
       "      <th>label</th>\n",
       "    </tr>\n",
       "  </thead>\n",
       "  <tbody>\n",
       "    <tr>\n",
       "      <th>count</th>\n",
       "      <td>9.618800e+04</td>\n",
       "      <td>96188.000000</td>\n",
       "      <td>96188.000000</td>\n",
       "      <td>96188.000000</td>\n",
       "      <td>96188.0</td>\n",
       "      <td>96188.000000</td>\n",
       "      <td>96188.000000</td>\n",
       "      <td>96188.000000</td>\n",
       "      <td>96188.000000</td>\n",
       "      <td>96188.000000</td>\n",
       "      <td>...</td>\n",
       "      <td>96188.000000</td>\n",
       "      <td>96188.000000</td>\n",
       "      <td>96188.000000</td>\n",
       "      <td>96188.000000</td>\n",
       "      <td>96188.000000</td>\n",
       "      <td>96188.0</td>\n",
       "      <td>96188.000000</td>\n",
       "      <td>96188.000000</td>\n",
       "      <td>96188.000000</td>\n",
       "      <td>96188.000000</td>\n",
       "    </tr>\n",
       "    <tr>\n",
       "      <th>mean</th>\n",
       "      <td>6.508026e+08</td>\n",
       "      <td>0.001985</td>\n",
       "      <td>0.009752</td>\n",
       "      <td>0.001071</td>\n",
       "      <td>0.0</td>\n",
       "      <td>0.000335</td>\n",
       "      <td>2.934996</td>\n",
       "      <td>0.000245</td>\n",
       "      <td>0.035151</td>\n",
       "      <td>0.206211</td>\n",
       "      <td>...</td>\n",
       "      <td>0.000602</td>\n",
       "      <td>0.759627</td>\n",
       "      <td>0.000073</td>\n",
       "      <td>0.031579</td>\n",
       "      <td>0.375511</td>\n",
       "      <td>0.0</td>\n",
       "      <td>0.000218</td>\n",
       "      <td>0.000042</td>\n",
       "      <td>0.005895</td>\n",
       "      <td>0.036314</td>\n",
       "    </tr>\n",
       "    <tr>\n",
       "      <th>std</th>\n",
       "      <td>7.305800e+08</td>\n",
       "      <td>0.232712</td>\n",
       "      <td>0.099947</td>\n",
       "      <td>0.032706</td>\n",
       "      <td>0.0</td>\n",
       "      <td>0.103920</td>\n",
       "      <td>14.669620</td>\n",
       "      <td>0.075933</td>\n",
       "      <td>2.553340</td>\n",
       "      <td>0.404586</td>\n",
       "      <td>...</td>\n",
       "      <td>0.131917</td>\n",
       "      <td>4.216230</td>\n",
       "      <td>0.008531</td>\n",
       "      <td>1.012583</td>\n",
       "      <td>4.675368</td>\n",
       "      <td>0.0</td>\n",
       "      <td>0.039093</td>\n",
       "      <td>0.006449</td>\n",
       "      <td>0.488573</td>\n",
       "      <td>0.187072</td>\n",
       "    </tr>\n",
       "    <tr>\n",
       "      <th>min</th>\n",
       "      <td>3.937070e+05</td>\n",
       "      <td>0.000000</td>\n",
       "      <td>0.000000</td>\n",
       "      <td>0.000000</td>\n",
       "      <td>0.0</td>\n",
       "      <td>0.000000</td>\n",
       "      <td>0.000000</td>\n",
       "      <td>0.000000</td>\n",
       "      <td>0.000000</td>\n",
       "      <td>0.000000</td>\n",
       "      <td>...</td>\n",
       "      <td>0.000000</td>\n",
       "      <td>0.000000</td>\n",
       "      <td>0.000000</td>\n",
       "      <td>0.000000</td>\n",
       "      <td>0.000000</td>\n",
       "      <td>0.0</td>\n",
       "      <td>0.000000</td>\n",
       "      <td>0.000000</td>\n",
       "      <td>0.000000</td>\n",
       "      <td>0.000000</td>\n",
       "    </tr>\n",
       "    <tr>\n",
       "      <th>25%</th>\n",
       "      <td>3.268936e+08</td>\n",
       "      <td>0.000000</td>\n",
       "      <td>0.000000</td>\n",
       "      <td>0.000000</td>\n",
       "      <td>0.0</td>\n",
       "      <td>0.000000</td>\n",
       "      <td>0.000000</td>\n",
       "      <td>0.000000</td>\n",
       "      <td>0.000000</td>\n",
       "      <td>0.000000</td>\n",
       "      <td>...</td>\n",
       "      <td>0.000000</td>\n",
       "      <td>0.000000</td>\n",
       "      <td>0.000000</td>\n",
       "      <td>0.000000</td>\n",
       "      <td>0.000000</td>\n",
       "      <td>0.0</td>\n",
       "      <td>0.000000</td>\n",
       "      <td>0.000000</td>\n",
       "      <td>0.000000</td>\n",
       "      <td>0.000000</td>\n",
       "    </tr>\n",
       "    <tr>\n",
       "      <th>50%</th>\n",
       "      <td>3.657658e+08</td>\n",
       "      <td>0.000000</td>\n",
       "      <td>0.000000</td>\n",
       "      <td>0.000000</td>\n",
       "      <td>0.0</td>\n",
       "      <td>0.000000</td>\n",
       "      <td>0.000000</td>\n",
       "      <td>0.000000</td>\n",
       "      <td>0.000000</td>\n",
       "      <td>0.000000</td>\n",
       "      <td>...</td>\n",
       "      <td>0.000000</td>\n",
       "      <td>0.000000</td>\n",
       "      <td>0.000000</td>\n",
       "      <td>0.000000</td>\n",
       "      <td>0.000000</td>\n",
       "      <td>0.0</td>\n",
       "      <td>0.000000</td>\n",
       "      <td>0.000000</td>\n",
       "      <td>0.000000</td>\n",
       "      <td>0.000000</td>\n",
       "    </tr>\n",
       "    <tr>\n",
       "      <th>75%</th>\n",
       "      <td>6.240783e+08</td>\n",
       "      <td>0.000000</td>\n",
       "      <td>0.000000</td>\n",
       "      <td>0.000000</td>\n",
       "      <td>0.0</td>\n",
       "      <td>0.000000</td>\n",
       "      <td>0.000000</td>\n",
       "      <td>0.000000</td>\n",
       "      <td>0.000000</td>\n",
       "      <td>0.000000</td>\n",
       "      <td>...</td>\n",
       "      <td>0.000000</td>\n",
       "      <td>0.000000</td>\n",
       "      <td>0.000000</td>\n",
       "      <td>0.000000</td>\n",
       "      <td>0.000000</td>\n",
       "      <td>0.0</td>\n",
       "      <td>0.000000</td>\n",
       "      <td>0.000000</td>\n",
       "      <td>0.000000</td>\n",
       "      <td>0.000000</td>\n",
       "    </tr>\n",
       "    <tr>\n",
       "      <th>max</th>\n",
       "      <td>3.140207e+09</td>\n",
       "      <td>27.280000</td>\n",
       "      <td>3.000000</td>\n",
       "      <td>1.000000</td>\n",
       "      <td>0.0</td>\n",
       "      <td>32.230000</td>\n",
       "      <td>222.680000</td>\n",
       "      <td>23.550000</td>\n",
       "      <td>337.120000</td>\n",
       "      <td>1.000000</td>\n",
       "      <td>...</td>\n",
       "      <td>28.930000</td>\n",
       "      <td>442.000000</td>\n",
       "      <td>1.000000</td>\n",
       "      <td>112.500000</td>\n",
       "      <td>220.810000</td>\n",
       "      <td>0.0</td>\n",
       "      <td>7.000000</td>\n",
       "      <td>1.000000</td>\n",
       "      <td>40.500000</td>\n",
       "      <td>1.000000</td>\n",
       "    </tr>\n",
       "  </tbody>\n",
       "</table>\n",
       "<p>8 rows × 274 columns</p>\n",
       "</div>"
      ],
      "text/plain": [
       "              var_0         var_1         var_2         var_3    var_4  \\\n",
       "count  9.618800e+04  96188.000000  96188.000000  96188.000000  96188.0   \n",
       "mean   6.508026e+08      0.001985      0.009752      0.001071      0.0   \n",
       "std    7.305800e+08      0.232712      0.099947      0.032706      0.0   \n",
       "min    3.937070e+05      0.000000      0.000000      0.000000      0.0   \n",
       "25%    3.268936e+08      0.000000      0.000000      0.000000      0.0   \n",
       "50%    3.657658e+08      0.000000      0.000000      0.000000      0.0   \n",
       "75%    6.240783e+08      0.000000      0.000000      0.000000      0.0   \n",
       "max    3.140207e+09     27.280000      3.000000      1.000000      0.0   \n",
       "\n",
       "              var_5         var_6         var_7         var_8         var_9  \\\n",
       "count  96188.000000  96188.000000  96188.000000  96188.000000  96188.000000   \n",
       "mean       0.000335      2.934996      0.000245      0.035151      0.206211   \n",
       "std        0.103920     14.669620      0.075933      2.553340      0.404586   \n",
       "min        0.000000      0.000000      0.000000      0.000000      0.000000   \n",
       "25%        0.000000      0.000000      0.000000      0.000000      0.000000   \n",
       "50%        0.000000      0.000000      0.000000      0.000000      0.000000   \n",
       "75%        0.000000      0.000000      0.000000      0.000000      0.000000   \n",
       "max       32.230000    222.680000     23.550000    337.120000      1.000000   \n",
       "\n",
       "       ...       var_267       var_268       var_269       var_270  \\\n",
       "count  ...  96188.000000  96188.000000  96188.000000  96188.000000   \n",
       "mean   ...      0.000602      0.759627      0.000073      0.031579   \n",
       "std    ...      0.131917      4.216230      0.008531      1.012583   \n",
       "min    ...      0.000000      0.000000      0.000000      0.000000   \n",
       "25%    ...      0.000000      0.000000      0.000000      0.000000   \n",
       "50%    ...      0.000000      0.000000      0.000000      0.000000   \n",
       "75%    ...      0.000000      0.000000      0.000000      0.000000   \n",
       "max    ...     28.930000    442.000000      1.000000    112.500000   \n",
       "\n",
       "            var_271  var_272       var_273       var_274       var_275  \\\n",
       "count  96188.000000  96188.0  96188.000000  96188.000000  96188.000000   \n",
       "mean       0.375511      0.0      0.000218      0.000042      0.005895   \n",
       "std        4.675368      0.0      0.039093      0.006449      0.488573   \n",
       "min        0.000000      0.0      0.000000      0.000000      0.000000   \n",
       "25%        0.000000      0.0      0.000000      0.000000      0.000000   \n",
       "50%        0.000000      0.0      0.000000      0.000000      0.000000   \n",
       "75%        0.000000      0.0      0.000000      0.000000      0.000000   \n",
       "max      220.810000      0.0      7.000000      1.000000     40.500000   \n",
       "\n",
       "              label  \n",
       "count  96188.000000  \n",
       "mean       0.036314  \n",
       "std        0.187072  \n",
       "min        0.000000  \n",
       "25%        0.000000  \n",
       "50%        0.000000  \n",
       "75%        0.000000  \n",
       "max        1.000000  \n",
       "\n",
       "[8 rows x 274 columns]"
      ]
     },
     "execution_count": 41,
     "metadata": {},
     "output_type": "execute_result"
    }
   ],
   "source": [
    "datos_model_raw.describe()"
   ]
  },
  {
   "cell_type": "markdown",
   "metadata": {},
   "source": [
    "### Valores constantes"
   ]
  },
  {
   "cell_type": "markdown",
   "metadata": {},
   "source": [
    "Se eliminar columnas con valores constantes"
   ]
  },
  {
   "cell_type": "code",
   "execution_count": 68,
   "metadata": {
    "ExecuteTime": {
     "end_time": "2021-12-22T15:54:25.402127Z",
     "start_time": "2021-12-22T15:54:24.989457Z"
    }
   },
   "outputs": [
    {
     "name": "stdout",
     "output_type": "stream",
     "text": [
      "Número de columnas con valores constantes:  36\n",
      "['var_4', 'var_11', 'var_22', 'var_24', 'var_28', 'var_31', 'var_50', 'var_55', 'var_58', 'var_61', 'var_65', 'var_70', 'var_78', 'var_84', 'var_91', 'var_113', 'var_114', 'var_125', 'var_127', 'var_147', 'var_154', 'var_158', 'var_169', 'var_182', 'var_190', 'var_193', 'var_206', 'var_214', 'var_217', 'var_221', 'var_225', 'var_233', 'var_251', 'var_256', 'var_265', 'var_272']\n"
     ]
    }
   ],
   "source": [
    "datos_model = datos_model_raw.copy()\n",
    "\n",
    "# Numero de columnas con valores constantes\n",
    "def valor_constante(col):\n",
    "    col = col.to_numpy()\n",
    "    return (col[0] == col).all()\n",
    "\n",
    "cols_constantes = []\n",
    "\n",
    "for col in datos_model.columns:\n",
    "    if valor_constante(datos_model[col]):\n",
    "        cols_constantes.append(col)\n",
    "        \n",
    "print(\"Número de columnas con valores constantes: \", len(cols_constantes))\n",
    "print(cols_constantes)"
   ]
  },
  {
   "cell_type": "code",
   "execution_count": 69,
   "metadata": {
    "ExecuteTime": {
     "end_time": "2021-12-22T15:54:26.387998Z",
     "start_time": "2021-12-22T15:54:26.251547Z"
    }
   },
   "outputs": [
    {
     "data": {
      "text/html": [
       "<div>\n",
       "<style scoped>\n",
       "    .dataframe tbody tr th:only-of-type {\n",
       "        vertical-align: middle;\n",
       "    }\n",
       "\n",
       "    .dataframe tbody tr th {\n",
       "        vertical-align: top;\n",
       "    }\n",
       "\n",
       "    .dataframe thead th {\n",
       "        text-align: right;\n",
       "    }\n",
       "</style>\n",
       "<table border=\"1\" class=\"dataframe\">\n",
       "  <thead>\n",
       "    <tr style=\"text-align: right;\">\n",
       "      <th></th>\n",
       "      <th>var_0</th>\n",
       "      <th>var_1</th>\n",
       "      <th>var_2</th>\n",
       "      <th>var_3</th>\n",
       "      <th>var_5</th>\n",
       "      <th>var_6</th>\n",
       "      <th>var_7</th>\n",
       "      <th>var_8</th>\n",
       "      <th>var_9</th>\n",
       "      <th>var_10</th>\n",
       "      <th>...</th>\n",
       "      <th>var_266</th>\n",
       "      <th>var_267</th>\n",
       "      <th>var_268</th>\n",
       "      <th>var_269</th>\n",
       "      <th>var_270</th>\n",
       "      <th>var_271</th>\n",
       "      <th>var_273</th>\n",
       "      <th>var_274</th>\n",
       "      <th>var_275</th>\n",
       "      <th>label</th>\n",
       "    </tr>\n",
       "  </thead>\n",
       "  <tbody>\n",
       "    <tr>\n",
       "      <th>0</th>\n",
       "      <td>9248245</td>\n",
       "      <td>0.0</td>\n",
       "      <td>0</td>\n",
       "      <td>0</td>\n",
       "      <td>0.0</td>\n",
       "      <td>0.00</td>\n",
       "      <td>0.0</td>\n",
       "      <td>0.0</td>\n",
       "      <td>1</td>\n",
       "      <td>0.0</td>\n",
       "      <td>...</td>\n",
       "      <td>0.0</td>\n",
       "      <td>0.0</td>\n",
       "      <td>1.0</td>\n",
       "      <td>0</td>\n",
       "      <td>0.0</td>\n",
       "      <td>0.0</td>\n",
       "      <td>0.0</td>\n",
       "      <td>0</td>\n",
       "      <td>0.0</td>\n",
       "      <td>0</td>\n",
       "    </tr>\n",
       "    <tr>\n",
       "      <th>1</th>\n",
       "      <td>10037840</td>\n",
       "      <td>0.0</td>\n",
       "      <td>0</td>\n",
       "      <td>0</td>\n",
       "      <td>0.0</td>\n",
       "      <td>0.00</td>\n",
       "      <td>0.0</td>\n",
       "      <td>0.0</td>\n",
       "      <td>1</td>\n",
       "      <td>0.0</td>\n",
       "      <td>...</td>\n",
       "      <td>0.0</td>\n",
       "      <td>0.0</td>\n",
       "      <td>0.0</td>\n",
       "      <td>0</td>\n",
       "      <td>0.0</td>\n",
       "      <td>0.0</td>\n",
       "      <td>0.0</td>\n",
       "      <td>0</td>\n",
       "      <td>0.0</td>\n",
       "      <td>0</td>\n",
       "    </tr>\n",
       "    <tr>\n",
       "      <th>2</th>\n",
       "      <td>10299029</td>\n",
       "      <td>0.0</td>\n",
       "      <td>0</td>\n",
       "      <td>0</td>\n",
       "      <td>0.0</td>\n",
       "      <td>24.44</td>\n",
       "      <td>0.0</td>\n",
       "      <td>0.0</td>\n",
       "      <td>0</td>\n",
       "      <td>0.0</td>\n",
       "      <td>...</td>\n",
       "      <td>0.0</td>\n",
       "      <td>0.0</td>\n",
       "      <td>0.0</td>\n",
       "      <td>0</td>\n",
       "      <td>0.0</td>\n",
       "      <td>0.0</td>\n",
       "      <td>0.0</td>\n",
       "      <td>0</td>\n",
       "      <td>0.0</td>\n",
       "      <td>0</td>\n",
       "    </tr>\n",
       "    <tr>\n",
       "      <th>3</th>\n",
       "      <td>10907006</td>\n",
       "      <td>0.0</td>\n",
       "      <td>0</td>\n",
       "      <td>0</td>\n",
       "      <td>0.0</td>\n",
       "      <td>0.00</td>\n",
       "      <td>0.0</td>\n",
       "      <td>0.0</td>\n",
       "      <td>0</td>\n",
       "      <td>0.0</td>\n",
       "      <td>...</td>\n",
       "      <td>0.0</td>\n",
       "      <td>0.0</td>\n",
       "      <td>0.0</td>\n",
       "      <td>0</td>\n",
       "      <td>0.0</td>\n",
       "      <td>0.0</td>\n",
       "      <td>0.0</td>\n",
       "      <td>0</td>\n",
       "      <td>0.0</td>\n",
       "      <td>0</td>\n",
       "    </tr>\n",
       "    <tr>\n",
       "      <th>4</th>\n",
       "      <td>14080498</td>\n",
       "      <td>0.0</td>\n",
       "      <td>0</td>\n",
       "      <td>0</td>\n",
       "      <td>0.0</td>\n",
       "      <td>0.00</td>\n",
       "      <td>0.0</td>\n",
       "      <td>0.0</td>\n",
       "      <td>0</td>\n",
       "      <td>0.0</td>\n",
       "      <td>...</td>\n",
       "      <td>0.0</td>\n",
       "      <td>0.0</td>\n",
       "      <td>0.0</td>\n",
       "      <td>0</td>\n",
       "      <td>0.0</td>\n",
       "      <td>0.0</td>\n",
       "      <td>0.0</td>\n",
       "      <td>0</td>\n",
       "      <td>0.0</td>\n",
       "      <td>0</td>\n",
       "    </tr>\n",
       "  </tbody>\n",
       "</table>\n",
       "<p>5 rows × 241 columns</p>\n",
       "</div>"
      ],
      "text/plain": [
       "      var_0  var_1  var_2  var_3  var_5  var_6  var_7  var_8  var_9  var_10  \\\n",
       "0   9248245    0.0      0      0    0.0   0.00    0.0    0.0      1     0.0   \n",
       "1  10037840    0.0      0      0    0.0   0.00    0.0    0.0      1     0.0   \n",
       "2  10299029    0.0      0      0    0.0  24.44    0.0    0.0      0     0.0   \n",
       "3  10907006    0.0      0      0    0.0   0.00    0.0    0.0      0     0.0   \n",
       "4  14080498    0.0      0      0    0.0   0.00    0.0    0.0      0     0.0   \n",
       "\n",
       "   ...  var_266  var_267  var_268  var_269  var_270  var_271  var_273  \\\n",
       "0  ...      0.0      0.0      1.0        0      0.0      0.0      0.0   \n",
       "1  ...      0.0      0.0      0.0        0      0.0      0.0      0.0   \n",
       "2  ...      0.0      0.0      0.0        0      0.0      0.0      0.0   \n",
       "3  ...      0.0      0.0      0.0        0      0.0      0.0      0.0   \n",
       "4  ...      0.0      0.0      0.0        0      0.0      0.0      0.0   \n",
       "\n",
       "   var_274  var_275  label  \n",
       "0        0      0.0      0  \n",
       "1        0      0.0      0  \n",
       "2        0      0.0      0  \n",
       "3        0      0.0      0  \n",
       "4        0      0.0      0  \n",
       "\n",
       "[5 rows x 241 columns]"
      ]
     },
     "execution_count": 69,
     "metadata": {},
     "output_type": "execute_result"
    }
   ],
   "source": [
    "datos_model = datos_model_raw.drop(cols_constantes, axis=1)\n",
    "datos_model.head()"
   ]
  },
  {
   "cell_type": "markdown",
   "metadata": {},
   "source": [
    "### NaNs"
   ]
  },
  {
   "cell_type": "markdown",
   "metadata": {},
   "source": [
    "Columnas con algún missing value"
   ]
  },
  {
   "cell_type": "code",
   "execution_count": 70,
   "metadata": {
    "ExecuteTime": {
     "end_time": "2021-12-22T15:54:29.043310Z",
     "start_time": "2021-12-22T15:54:28.888349Z"
    }
   },
   "outputs": [
    {
     "name": "stdout",
     "output_type": "stream",
     "text": [
      "Número de columnas con algún Nan:  1\n",
      "{'var_174': 19642}\n"
     ]
    }
   ],
   "source": [
    "# Columnas con número NaN >= 1\n",
    "def is_nan(df_col):\n",
    "    if df_col.isna().sum() >=1:\n",
    "        x = True\n",
    "    else:\n",
    "        x = False\n",
    "    return x\n",
    "\n",
    "cols_with_nan = {}\n",
    "\n",
    "for col in datos_model.columns:\n",
    "    if is_nan(datos_model[col]):\n",
    "        cols_with_nan[col] = datos_model[col].isna().sum()\n",
    "        \n",
    "print(\"Número de columnas con algún Nan: \", len(cols_with_nan))\n",
    "print(cols_with_nan)"
   ]
  },
  {
   "cell_type": "code",
   "execution_count": 71,
   "metadata": {
    "ExecuteTime": {
     "end_time": "2021-12-22T15:54:29.864627Z",
     "start_time": "2021-12-22T15:54:29.791535Z"
    }
   },
   "outputs": [
    {
     "name": "stdout",
     "output_type": "stream",
     "text": [
      "count           76546\n",
      "unique              3\n",
      "top       CONVERGENTE\n",
      "freq            36653\n",
      "Name: var_174, dtype: object\n"
     ]
    },
    {
     "data": {
      "text/plain": [
       "array(['HIPERCONVERGENTE', 'CONVERGENTE', nan, 'RESTO'], dtype=object)"
      ]
     },
     "execution_count": 71,
     "metadata": {},
     "output_type": "execute_result"
    }
   ],
   "source": [
    "print(datos_model[\"var_174\"].describe())\n",
    "datos_model[\"var_174\"].unique()"
   ]
  },
  {
   "cell_type": "markdown",
   "metadata": {},
   "source": [
    "Se completa la var_174 añadiendo los Nan a la categoría RESTO, lo ideal sería hablarlo con negocio"
   ]
  },
  {
   "cell_type": "code",
   "execution_count": 72,
   "metadata": {
    "ExecuteTime": {
     "end_time": "2021-12-22T15:54:31.212370Z",
     "start_time": "2021-12-22T15:54:31.194478Z"
    }
   },
   "outputs": [],
   "source": [
    "datos_model[\"var_174\"] = datos_model[\"var_174\"].fillna(value=\"RESTO\")"
   ]
  },
  {
   "cell_type": "code",
   "execution_count": 73,
   "metadata": {
    "ExecuteTime": {
     "end_time": "2021-12-22T15:54:32.034550Z",
     "start_time": "2021-12-22T15:54:32.006165Z"
    }
   },
   "outputs": [
    {
     "name": "stdout",
     "output_type": "stream",
     "text": [
      "0\n",
      "['HIPERCONVERGENTE' 'CONVERGENTE' 'RESTO']\n"
     ]
    }
   ],
   "source": [
    "print(datos_model[\"var_174\"].isna().sum())\n",
    "print(datos_model[\"var_174\"].unique())"
   ]
  },
  {
   "cell_type": "markdown",
   "metadata": {},
   "source": [
    "### Duplicates"
   ]
  },
  {
   "cell_type": "code",
   "execution_count": 74,
   "metadata": {
    "ExecuteTime": {
     "end_time": "2021-12-22T15:54:33.711125Z",
     "start_time": "2021-12-22T15:54:33.057147Z"
    }
   },
   "outputs": [
    {
     "data": {
      "text/plain": [
       "0"
      ]
     },
     "execution_count": 74,
     "metadata": {},
     "output_type": "execute_result"
    }
   ],
   "source": [
    "# Filas duplicadas\n",
    "\n",
    "datos_model.duplicated().sum()"
   ]
  },
  {
   "cell_type": "code",
   "execution_count": 75,
   "metadata": {
    "ExecuteTime": {
     "end_time": "2021-12-22T15:55:17.008759Z",
     "start_time": "2021-12-22T15:54:34.352424Z"
    }
   },
   "outputs": [
    {
     "data": {
      "text/plain": [
       "0"
      ]
     },
     "execution_count": 75,
     "metadata": {},
     "output_type": "execute_result"
    }
   ],
   "source": [
    "# Columnas duplicadas\n",
    "\n",
    "datos_model.T.duplicated().sum()"
   ]
  },
  {
   "cell_type": "markdown",
   "metadata": {},
   "source": [
    "### No numéricas"
   ]
  },
  {
   "cell_type": "markdown",
   "metadata": {},
   "source": [
    "Se comprueban si existen y los valores de las columnas no numéricas"
   ]
  },
  {
   "cell_type": "code",
   "execution_count": 76,
   "metadata": {
    "ExecuteTime": {
     "end_time": "2021-12-22T15:55:17.648137Z",
     "start_time": "2021-12-22T15:55:17.603874Z"
    }
   },
   "outputs": [
    {
     "data": {
      "text/html": [
       "<div>\n",
       "<style scoped>\n",
       "    .dataframe tbody tr th:only-of-type {\n",
       "        vertical-align: middle;\n",
       "    }\n",
       "\n",
       "    .dataframe tbody tr th {\n",
       "        vertical-align: top;\n",
       "    }\n",
       "\n",
       "    .dataframe thead th {\n",
       "        text-align: right;\n",
       "    }\n",
       "</style>\n",
       "<table border=\"1\" class=\"dataframe\">\n",
       "  <thead>\n",
       "    <tr style=\"text-align: right;\">\n",
       "      <th></th>\n",
       "      <th>var_105</th>\n",
       "      <th>var_174</th>\n",
       "      <th>var_213</th>\n",
       "    </tr>\n",
       "  </thead>\n",
       "  <tbody>\n",
       "    <tr>\n",
       "      <th>0</th>\n",
       "      <td>antiguedad_0_6</td>\n",
       "      <td>HIPERCONVERGENTE</td>\n",
       "      <td>asignacion_NLMPYME_Low</td>\n",
       "    </tr>\n",
       "    <tr>\n",
       "      <th>1</th>\n",
       "      <td>antiguedad_12_18</td>\n",
       "      <td>CONVERGENTE</td>\n",
       "      <td>asignacion_NLMPYME_Low</td>\n",
       "    </tr>\n",
       "    <tr>\n",
       "      <th>2</th>\n",
       "      <td>antiguedad_36_72</td>\n",
       "      <td>CONVERGENTE</td>\n",
       "      <td>asignacion_NLMPYME_Low</td>\n",
       "    </tr>\n",
       "    <tr>\n",
       "      <th>3</th>\n",
       "      <td>antiguedad_6_12</td>\n",
       "      <td>CONVERGENTE</td>\n",
       "      <td>asignacion_NLMPYME_Low</td>\n",
       "    </tr>\n",
       "    <tr>\n",
       "      <th>4</th>\n",
       "      <td>antiguedad_gt_120</td>\n",
       "      <td>RESTO</td>\n",
       "      <td>asignacion_NLMPYME_Low</td>\n",
       "    </tr>\n",
       "    <tr>\n",
       "      <th>...</th>\n",
       "      <td>...</td>\n",
       "      <td>...</td>\n",
       "      <td>...</td>\n",
       "    </tr>\n",
       "    <tr>\n",
       "      <th>96183</th>\n",
       "      <td>antiguedad_gt_120</td>\n",
       "      <td>CONVERGENTE</td>\n",
       "      <td>asignacion_NLMPYME_Legacy_Ono</td>\n",
       "    </tr>\n",
       "    <tr>\n",
       "      <th>96184</th>\n",
       "      <td>antiguedad_0_6</td>\n",
       "      <td>CONVERGENTE</td>\n",
       "      <td>asignacion_NLMPYME_Low</td>\n",
       "    </tr>\n",
       "    <tr>\n",
       "      <th>96185</th>\n",
       "      <td>antiguedad_gt_120</td>\n",
       "      <td>RESTO</td>\n",
       "      <td>asignacion_NLMPYME_Legacy_Ono</td>\n",
       "    </tr>\n",
       "    <tr>\n",
       "      <th>96186</th>\n",
       "      <td>antiguedad_24_36</td>\n",
       "      <td>CONVERGENTE</td>\n",
       "      <td>asignacion_NLMPYME_Legacy_Ono</td>\n",
       "    </tr>\n",
       "    <tr>\n",
       "      <th>96187</th>\n",
       "      <td>antiguedad_0_6</td>\n",
       "      <td>CONVERGENTE</td>\n",
       "      <td>asignacion_NLMPYME_Legacy_Ono</td>\n",
       "    </tr>\n",
       "  </tbody>\n",
       "</table>\n",
       "<p>96188 rows × 3 columns</p>\n",
       "</div>"
      ],
      "text/plain": [
       "                 var_105           var_174                        var_213\n",
       "0         antiguedad_0_6  HIPERCONVERGENTE         asignacion_NLMPYME_Low\n",
       "1       antiguedad_12_18       CONVERGENTE         asignacion_NLMPYME_Low\n",
       "2       antiguedad_36_72       CONVERGENTE         asignacion_NLMPYME_Low\n",
       "3        antiguedad_6_12       CONVERGENTE         asignacion_NLMPYME_Low\n",
       "4      antiguedad_gt_120             RESTO         asignacion_NLMPYME_Low\n",
       "...                  ...               ...                            ...\n",
       "96183  antiguedad_gt_120       CONVERGENTE  asignacion_NLMPYME_Legacy_Ono\n",
       "96184     antiguedad_0_6       CONVERGENTE         asignacion_NLMPYME_Low\n",
       "96185  antiguedad_gt_120             RESTO  asignacion_NLMPYME_Legacy_Ono\n",
       "96186   antiguedad_24_36       CONVERGENTE  asignacion_NLMPYME_Legacy_Ono\n",
       "96187     antiguedad_0_6       CONVERGENTE  asignacion_NLMPYME_Legacy_Ono\n",
       "\n",
       "[96188 rows x 3 columns]"
      ]
     },
     "execution_count": 76,
     "metadata": {},
     "output_type": "execute_result"
    }
   ],
   "source": [
    "# Columnas no numéricas\n",
    "df_no_num = datos_model.select_dtypes(exclude=[\"float64\", \"int64\"])\n",
    "df_no_num"
   ]
  },
  {
   "cell_type": "code",
   "execution_count": 77,
   "metadata": {
    "ExecuteTime": {
     "end_time": "2021-12-22T15:55:18.215753Z",
     "start_time": "2021-12-22T15:55:18.184194Z"
    }
   },
   "outputs": [
    {
     "name": "stdout",
     "output_type": "stream",
     "text": [
      "count               96188\n",
      "unique                  8\n",
      "top       antiguedad_6_12\n",
      "freq                22255\n",
      "Name: var_105, dtype: object\n"
     ]
    },
    {
     "data": {
      "text/plain": [
       "array(['antiguedad_0_6', 'antiguedad_12_18', 'antiguedad_36_72',\n",
       "       'antiguedad_6_12', 'antiguedad_gt_120', 'antiguedad_24_36',\n",
       "       'antiguedad_18_24', 'antiguedad_72_120'], dtype=object)"
      ]
     },
     "execution_count": 77,
     "metadata": {},
     "output_type": "execute_result"
    }
   ],
   "source": [
    "print(datos_model[\"var_105\"].describe())\n",
    "datos_model[\"var_105\"].unique()"
   ]
  },
  {
   "cell_type": "code",
   "execution_count": 78,
   "metadata": {
    "ExecuteTime": {
     "end_time": "2021-12-22T15:55:18.783202Z",
     "start_time": "2021-12-22T15:55:18.736272Z"
    }
   },
   "outputs": [
    {
     "name": "stdout",
     "output_type": "stream",
     "text": [
      "count                      96188\n",
      "unique                         2\n",
      "top       asignacion_NLMPYME_Low\n",
      "freq                       66332\n",
      "Name: var_213, dtype: object\n"
     ]
    },
    {
     "data": {
      "text/plain": [
       "array(['asignacion_NLMPYME_Low', 'asignacion_NLMPYME_Legacy_Ono'],\n",
       "      dtype=object)"
      ]
     },
     "execution_count": 78,
     "metadata": {},
     "output_type": "execute_result"
    }
   ],
   "source": [
    "print(datos_model[\"var_213\"].describe())\n",
    "datos_model[\"var_213\"].unique()"
   ]
  },
  {
   "cell_type": "markdown",
   "metadata": {},
   "source": [
    "### Numéricas"
   ]
  },
  {
   "cell_type": "code",
   "execution_count": 79,
   "metadata": {
    "ExecuteTime": {
     "end_time": "2021-12-22T15:55:33.535285Z",
     "start_time": "2021-12-22T15:55:19.339206Z"
    }
   },
   "outputs": [],
   "source": [
    "# Correlación entre columnas numéricas\n",
    "\n",
    "corr_mat = datos_model.select_dtypes(include=[\"float64\", \"int64\"]).corr(method='pearson')"
   ]
  },
  {
   "cell_type": "code",
   "execution_count": 92,
   "metadata": {
    "ExecuteTime": {
     "end_time": "2021-12-22T16:02:05.767746Z",
     "start_time": "2021-12-22T16:02:05.705252Z"
    }
   },
   "outputs": [
    {
     "data": {
      "text/html": [
       "<div>\n",
       "<style scoped>\n",
       "    .dataframe tbody tr th:only-of-type {\n",
       "        vertical-align: middle;\n",
       "    }\n",
       "\n",
       "    .dataframe tbody tr th {\n",
       "        vertical-align: top;\n",
       "    }\n",
       "\n",
       "    .dataframe thead th {\n",
       "        text-align: right;\n",
       "    }\n",
       "</style>\n",
       "<table border=\"1\" class=\"dataframe\">\n",
       "  <thead>\n",
       "    <tr style=\"text-align: right;\">\n",
       "      <th></th>\n",
       "      <th>var_1</th>\n",
       "      <th>var_2</th>\n",
       "      <th>r</th>\n",
       "      <th>abs_r</th>\n",
       "    </tr>\n",
       "  </thead>\n",
       "  <tbody>\n",
       "    <tr>\n",
       "      <th>36813</th>\n",
       "      <td>var_179</td>\n",
       "      <td>var_187</td>\n",
       "      <td>1.0</td>\n",
       "      <td>1.0</td>\n",
       "    </tr>\n",
       "    <tr>\n",
       "      <th>38348</th>\n",
       "      <td>var_187</td>\n",
       "      <td>var_36</td>\n",
       "      <td>1.0</td>\n",
       "      <td>1.0</td>\n",
       "    </tr>\n",
       "    <tr>\n",
       "      <th>38472</th>\n",
       "      <td>var_187</td>\n",
       "      <td>var_179</td>\n",
       "      <td>1.0</td>\n",
       "      <td>1.0</td>\n",
       "    </tr>\n",
       "    <tr>\n",
       "      <th>7301</th>\n",
       "      <td>var_36</td>\n",
       "      <td>var_187</td>\n",
       "      <td>1.0</td>\n",
       "      <td>1.0</td>\n",
       "    </tr>\n",
       "    <tr>\n",
       "      <th>5028</th>\n",
       "      <td>var_25</td>\n",
       "      <td>var_36</td>\n",
       "      <td>1.0</td>\n",
       "      <td>1.0</td>\n",
       "    </tr>\n",
       "  </tbody>\n",
       "</table>\n",
       "</div>"
      ],
      "text/plain": [
       "         var_1    var_2    r  abs_r\n",
       "36813  var_179  var_187  1.0    1.0\n",
       "38348  var_187   var_36  1.0    1.0\n",
       "38472  var_187  var_179  1.0    1.0\n",
       "7301    var_36  var_187  1.0    1.0\n",
       "5028    var_25   var_36  1.0    1.0"
      ]
     },
     "execution_count": 92,
     "metadata": {},
     "output_type": "execute_result"
    }
   ],
   "source": [
    "def tidy_corr_matrix(corr_mat):\n",
    "    '''\n",
    "    Convertir una matriz de correlación de pandas en formato tidy\n",
    "    '''\n",
    "    corr_mat = corr_mat.stack().reset_index()\n",
    "    corr_mat.columns = ['var_1','var_2','r']\n",
    "    corr_mat = corr_mat.loc[corr_mat['var_1'] != corr_mat['var_2'], :]\n",
    "    corr_mat['abs_r'] = np.abs(corr_mat['r'])\n",
    "    corr_mat = corr_mat.sort_values('abs_r', ascending=False)\n",
    "    \n",
    "    return(corr_mat)\n",
    "\n",
    "tidy_corr_mat = tidy_corr_matrix(corr_mat)\n",
    "tidy_corr_mat.head(5)"
   ]
  },
  {
   "cell_type": "code",
   "execution_count": 134,
   "metadata": {
    "ExecuteTime": {
     "end_time": "2021-12-22T16:17:06.447103Z",
     "start_time": "2021-12-22T16:17:06.434138Z"
    }
   },
   "outputs": [
    {
     "name": "stdout",
     "output_type": "stream",
     "text": [
      "0.0     96187\n",
      "20.0        1\n",
      "Name: var_179, dtype: int64\n",
      "0.0     96187\n",
      "30.0        1\n",
      "Name: var_187, dtype: int64\n"
     ]
    }
   ],
   "source": [
    "print(datos_model[\"var_179\"].value_counts())\n",
    "print(datos_model[\"var_187\"].value_counts())"
   ]
  },
  {
   "cell_type": "markdown",
   "metadata": {},
   "source": [
    "Columnas con prácticamente todos los valores constantes"
   ]
  },
  {
   "cell_type": "code",
   "execution_count": 140,
   "metadata": {
    "ExecuteTime": {
     "end_time": "2021-12-22T16:24:03.380390Z",
     "start_time": "2021-12-22T16:24:03.355457Z"
    }
   },
   "outputs": [
    {
     "name": "stdout",
     "output_type": "stream",
     "text": [
      "95% diferente al resto, número valores diferentes en col  4809.350000000006\n",
      "99% diferente al resto, número valores diferentes en col  961.8699999999953\n",
      "99,9% diferente al resto, número valores diferentes en col  96.18700000000536\n",
      "99,99% diferente al resto, número valores diferentes en col  9.618699999991804\n"
     ]
    }
   ],
   "source": [
    "print(\"95% diferente al resto, número valores diferentes en col \", 96187 - 0.95*96187)\n",
    "print(\"99% diferente al resto, número valores diferentes en col \", 96187 - 0.99*96187)\n",
    "print(\"99,9% diferente al resto, número valores diferentes en col \", 96187 - 0.999*96187)\n",
    "print(\"99,99% diferente al resto, número valores diferentes en col \", 96187 - 0.9999*96187)"
   ]
  },
  {
   "cell_type": "code",
   "execution_count": 137,
   "metadata": {
    "ExecuteTime": {
     "end_time": "2021-12-22T16:17:21.631738Z",
     "start_time": "2021-12-22T16:17:21.232511Z"
    }
   },
   "outputs": [
    {
     "name": "stdout",
     "output_type": "stream",
     "text": [
      "Número de columnas con valores constantes:  122\n",
      "['var_1', 'var_5', 'var_7', 'var_8', 'var_10', 'var_12', 'var_14', 'var_15', 'var_16', 'var_17', 'var_19', 'var_20', 'var_21', 'var_25', 'var_26', 'var_27', 'var_30', 'var_33', 'var_34', 'var_35', 'var_36', 'var_40', 'var_46', 'var_47', 'var_51', 'var_52', 'var_53', 'var_60', 'var_62', 'var_64', 'var_66', 'var_67', 'var_72', 'var_74', 'var_77', 'var_79', 'var_85', 'var_86', 'var_89', 'var_90', 'var_95', 'var_102', 'var_106', 'var_109', 'var_110', 'var_111', 'var_112', 'var_115', 'var_116', 'var_118', 'var_119', 'var_121', 'var_123', 'var_128', 'var_132', 'var_133', 'var_135', 'var_136', 'var_138', 'var_141', 'var_142', 'var_143', 'var_145', 'var_149', 'var_150', 'var_151', 'var_155', 'var_156', 'var_157', 'var_160', 'var_163', 'var_164', 'var_167', 'var_168', 'var_175', 'var_176', 'var_178', 'var_179', 'var_180', 'var_181', 'var_186', 'var_187', 'var_188', 'var_189', 'var_191', 'var_198', 'var_199', 'var_200', 'var_202', 'var_203', 'var_204', 'var_208', 'var_209', 'var_210', 'var_211', 'var_212', 'var_215', 'var_216', 'var_226', 'var_229', 'var_232', 'var_236', 'var_237', 'var_238', 'var_240', 'var_242', 'var_247', 'var_248', 'var_249', 'var_250', 'var_252', 'var_253', 'var_254', 'var_259', 'var_262', 'var_263', 'var_264', 'var_267', 'var_269', 'var_273', 'var_274', 'var_275']\n"
     ]
    }
   ],
   "source": [
    "# Numero de columnas con valores constantes\n",
    "def porcentaje_constante(col):\n",
    "    counts = col.value_counts().sort_values(ascending=False)\n",
    "    porc = counts.to_numpy()[0] / col.shape[0]\n",
    "    \n",
    "    return porc\n",
    "\n",
    "porc_constantes = []\n",
    "\n",
    "for col in datos_model.select_dtypes(include=[\"float64\", \"int64\"]):\n",
    "    if porcentaje_constante(datos_model[col]) >= 0.999:\n",
    "        porc_constantes.append(col)\n",
    "        \n",
    "print(\"Número de columnas con valores constantes: \", len(porc_constantes))\n",
    "print(porc_constantes)"
   ]
  },
  {
   "cell_type": "code",
   "execution_count": null,
   "metadata": {},
   "outputs": [],
   "source": []
  },
  {
   "cell_type": "code",
   "execution_count": 81,
   "metadata": {
    "ExecuteTime": {
     "end_time": "2021-12-22T15:56:23.909229Z",
     "start_time": "2021-12-22T15:56:23.199842Z"
    }
   },
   "outputs": [
    {
     "data": {
      "image/png": "[encoded data removed]",
      "text/plain": [
       "<Figure size 432x432 with 2 Axes>"
      ]
     },
     "metadata": {
      "needs_background": "light"
     },
     "output_type": "display_data"
    }
   ],
   "source": [
    "# Heatmap matriz de correlaciones\n",
    "# ==============================================================================\n",
    "fig, ax = plt.subplots(nrows=1, ncols=1, figsize=(6, 6))\n",
    "\n",
    "sns.heatmap(\n",
    "    corr_mat,\n",
    "    square    = True,\n",
    "    ax        = ax\n",
    ")\n",
    "\n",
    "ax.tick_params(labelsize = 3)"
   ]
  },
  {
   "cell_type": "code",
   "execution_count": 29,
   "metadata": {
    "ExecuteTime": {
     "end_time": "2021-12-22T15:27:42.185954Z",
     "start_time": "2021-12-22T15:27:42.170331Z"
    }
   },
   "outputs": [
    {
     "data": {
      "text/plain": [
       "True"
      ]
     },
     "execution_count": 29,
     "metadata": {},
     "output_type": "execute_result"
    }
   ],
   "source": [
    "(df_num[\"var_179\"] == df_num[\"var_187\"]).all()"
   ]
  },
  {
   "cell_type": "markdown",
   "metadata": {},
   "source": [
    "# Datos predicción"
   ]
  },
  {
   "cell_type": "code",
   "execution_count": 13,
   "metadata": {
    "ExecuteTime": {
     "end_time": "2021-12-21T15:43:10.155622Z",
     "start_time": "2021-12-21T15:43:07.601180Z"
    }
   },
   "outputs": [],
   "source": [
    "zip_file = zipfile.ZipFile(r\".\\Archive.zip\")\n",
    "datos_pred = pd.read_csv(zip_file.open(\"datos_para_prediccion.csv\"))"
   ]
  },
  {
   "cell_type": "code",
   "execution_count": 14,
   "metadata": {
    "ExecuteTime": {
     "end_time": "2021-12-21T15:43:12.022252Z",
     "start_time": "2021-12-21T15:43:11.898063Z"
    }
   },
   "outputs": [
    {
     "data": {
      "text/html": [
       "<div>\n",
       "<style scoped>\n",
       "    .dataframe tbody tr th:only-of-type {\n",
       "        vertical-align: middle;\n",
       "    }\n",
       "\n",
       "    .dataframe tbody tr th {\n",
       "        vertical-align: top;\n",
       "    }\n",
       "\n",
       "    .dataframe thead th {\n",
       "        text-align: right;\n",
       "    }\n",
       "</style>\n",
       "<table border=\"1\" class=\"dataframe\">\n",
       "  <thead>\n",
       "    <tr style=\"text-align: right;\">\n",
       "      <th></th>\n",
       "      <th>var_0</th>\n",
       "      <th>var_1</th>\n",
       "      <th>var_2</th>\n",
       "      <th>var_3</th>\n",
       "      <th>var_4</th>\n",
       "      <th>var_5</th>\n",
       "      <th>var_6</th>\n",
       "      <th>var_7</th>\n",
       "      <th>var_8</th>\n",
       "      <th>var_9</th>\n",
       "      <th>...</th>\n",
       "      <th>var_266</th>\n",
       "      <th>var_267</th>\n",
       "      <th>var_268</th>\n",
       "      <th>var_269</th>\n",
       "      <th>var_270</th>\n",
       "      <th>var_271</th>\n",
       "      <th>var_272</th>\n",
       "      <th>var_273</th>\n",
       "      <th>var_274</th>\n",
       "      <th>var_275</th>\n",
       "    </tr>\n",
       "  </thead>\n",
       "  <tbody>\n",
       "    <tr>\n",
       "      <th>0</th>\n",
       "      <td>9248245</td>\n",
       "      <td>0.0</td>\n",
       "      <td>0</td>\n",
       "      <td>0</td>\n",
       "      <td>0.0</td>\n",
       "      <td>0.0</td>\n",
       "      <td>0.0</td>\n",
       "      <td>0.0</td>\n",
       "      <td>0.0</td>\n",
       "      <td>1</td>\n",
       "      <td>...</td>\n",
       "      <td>0.00</td>\n",
       "      <td>0.0</td>\n",
       "      <td>0.0</td>\n",
       "      <td>0</td>\n",
       "      <td>0.0</td>\n",
       "      <td>0.0</td>\n",
       "      <td>0</td>\n",
       "      <td>0.0</td>\n",
       "      <td>0</td>\n",
       "      <td>0.0</td>\n",
       "    </tr>\n",
       "    <tr>\n",
       "      <th>1</th>\n",
       "      <td>10907006</td>\n",
       "      <td>0.0</td>\n",
       "      <td>0</td>\n",
       "      <td>0</td>\n",
       "      <td>0.0</td>\n",
       "      <td>0.0</td>\n",
       "      <td>0.0</td>\n",
       "      <td>0.0</td>\n",
       "      <td>0.0</td>\n",
       "      <td>0</td>\n",
       "      <td>...</td>\n",
       "      <td>0.00</td>\n",
       "      <td>0.0</td>\n",
       "      <td>0.0</td>\n",
       "      <td>0</td>\n",
       "      <td>0.0</td>\n",
       "      <td>0.0</td>\n",
       "      <td>0</td>\n",
       "      <td>0.0</td>\n",
       "      <td>0</td>\n",
       "      <td>0.0</td>\n",
       "    </tr>\n",
       "    <tr>\n",
       "      <th>2</th>\n",
       "      <td>14080498</td>\n",
       "      <td>0.0</td>\n",
       "      <td>0</td>\n",
       "      <td>0</td>\n",
       "      <td>0.0</td>\n",
       "      <td>0.0</td>\n",
       "      <td>0.0</td>\n",
       "      <td>0.0</td>\n",
       "      <td>0.0</td>\n",
       "      <td>0</td>\n",
       "      <td>...</td>\n",
       "      <td>0.00</td>\n",
       "      <td>0.0</td>\n",
       "      <td>0.0</td>\n",
       "      <td>0</td>\n",
       "      <td>0.0</td>\n",
       "      <td>0.0</td>\n",
       "      <td>0</td>\n",
       "      <td>0.0</td>\n",
       "      <td>0</td>\n",
       "      <td>0.0</td>\n",
       "    </tr>\n",
       "    <tr>\n",
       "      <th>3</th>\n",
       "      <td>29764234</td>\n",
       "      <td>0.0</td>\n",
       "      <td>0</td>\n",
       "      <td>0</td>\n",
       "      <td>0.0</td>\n",
       "      <td>0.0</td>\n",
       "      <td>0.0</td>\n",
       "      <td>0.0</td>\n",
       "      <td>0.0</td>\n",
       "      <td>1</td>\n",
       "      <td>...</td>\n",
       "      <td>0.00</td>\n",
       "      <td>0.0</td>\n",
       "      <td>2.0</td>\n",
       "      <td>0</td>\n",
       "      <td>0.0</td>\n",
       "      <td>0.0</td>\n",
       "      <td>0</td>\n",
       "      <td>0.0</td>\n",
       "      <td>0</td>\n",
       "      <td>0.0</td>\n",
       "    </tr>\n",
       "    <tr>\n",
       "      <th>4</th>\n",
       "      <td>32791073</td>\n",
       "      <td>0.0</td>\n",
       "      <td>0</td>\n",
       "      <td>0</td>\n",
       "      <td>0.0</td>\n",
       "      <td>0.0</td>\n",
       "      <td>0.0</td>\n",
       "      <td>0.0</td>\n",
       "      <td>0.0</td>\n",
       "      <td>0</td>\n",
       "      <td>...</td>\n",
       "      <td>9.09</td>\n",
       "      <td>0.0</td>\n",
       "      <td>0.0</td>\n",
       "      <td>0</td>\n",
       "      <td>0.0</td>\n",
       "      <td>0.0</td>\n",
       "      <td>0</td>\n",
       "      <td>0.0</td>\n",
       "      <td>0</td>\n",
       "      <td>0.0</td>\n",
       "    </tr>\n",
       "    <tr>\n",
       "      <th>...</th>\n",
       "      <td>...</td>\n",
       "      <td>...</td>\n",
       "      <td>...</td>\n",
       "      <td>...</td>\n",
       "      <td>...</td>\n",
       "      <td>...</td>\n",
       "      <td>...</td>\n",
       "      <td>...</td>\n",
       "      <td>...</td>\n",
       "      <td>...</td>\n",
       "      <td>...</td>\n",
       "      <td>...</td>\n",
       "      <td>...</td>\n",
       "      <td>...</td>\n",
       "      <td>...</td>\n",
       "      <td>...</td>\n",
       "      <td>...</td>\n",
       "      <td>...</td>\n",
       "      <td>...</td>\n",
       "      <td>...</td>\n",
       "      <td>...</td>\n",
       "    </tr>\n",
       "    <tr>\n",
       "      <th>71391</th>\n",
       "      <td>3029101742</td>\n",
       "      <td>0.0</td>\n",
       "      <td>0</td>\n",
       "      <td>0</td>\n",
       "      <td>0.0</td>\n",
       "      <td>0.0</td>\n",
       "      <td>0.0</td>\n",
       "      <td>0.0</td>\n",
       "      <td>0.0</td>\n",
       "      <td>0</td>\n",
       "      <td>...</td>\n",
       "      <td>0.00</td>\n",
       "      <td>0.0</td>\n",
       "      <td>2.0</td>\n",
       "      <td>0</td>\n",
       "      <td>0.0</td>\n",
       "      <td>0.0</td>\n",
       "      <td>0</td>\n",
       "      <td>0.0</td>\n",
       "      <td>0</td>\n",
       "      <td>0.0</td>\n",
       "    </tr>\n",
       "    <tr>\n",
       "      <th>71392</th>\n",
       "      <td>3033578041</td>\n",
       "      <td>0.0</td>\n",
       "      <td>0</td>\n",
       "      <td>0</td>\n",
       "      <td>0.0</td>\n",
       "      <td>0.0</td>\n",
       "      <td>0.0</td>\n",
       "      <td>0.0</td>\n",
       "      <td>0.0</td>\n",
       "      <td>0</td>\n",
       "      <td>...</td>\n",
       "      <td>0.00</td>\n",
       "      <td>0.0</td>\n",
       "      <td>0.0</td>\n",
       "      <td>0</td>\n",
       "      <td>0.0</td>\n",
       "      <td>0.0</td>\n",
       "      <td>0</td>\n",
       "      <td>0.0</td>\n",
       "      <td>0</td>\n",
       "      <td>0.0</td>\n",
       "    </tr>\n",
       "    <tr>\n",
       "      <th>71393</th>\n",
       "      <td>3035802671</td>\n",
       "      <td>0.0</td>\n",
       "      <td>0</td>\n",
       "      <td>0</td>\n",
       "      <td>0.0</td>\n",
       "      <td>0.0</td>\n",
       "      <td>0.0</td>\n",
       "      <td>0.0</td>\n",
       "      <td>0.0</td>\n",
       "      <td>0</td>\n",
       "      <td>...</td>\n",
       "      <td>0.00</td>\n",
       "      <td>0.0</td>\n",
       "      <td>0.0</td>\n",
       "      <td>0</td>\n",
       "      <td>0.0</td>\n",
       "      <td>0.0</td>\n",
       "      <td>0</td>\n",
       "      <td>0.0</td>\n",
       "      <td>0</td>\n",
       "      <td>0.0</td>\n",
       "    </tr>\n",
       "    <tr>\n",
       "      <th>71394</th>\n",
       "      <td>3047197511</td>\n",
       "      <td>0.0</td>\n",
       "      <td>0</td>\n",
       "      <td>0</td>\n",
       "      <td>0.0</td>\n",
       "      <td>0.0</td>\n",
       "      <td>0.0</td>\n",
       "      <td>0.0</td>\n",
       "      <td>0.0</td>\n",
       "      <td>0</td>\n",
       "      <td>...</td>\n",
       "      <td>0.00</td>\n",
       "      <td>0.0</td>\n",
       "      <td>0.0</td>\n",
       "      <td>0</td>\n",
       "      <td>0.0</td>\n",
       "      <td>0.0</td>\n",
       "      <td>0</td>\n",
       "      <td>0.0</td>\n",
       "      <td>0</td>\n",
       "      <td>0.0</td>\n",
       "    </tr>\n",
       "    <tr>\n",
       "      <th>71395</th>\n",
       "      <td>3073138424</td>\n",
       "      <td>0.0</td>\n",
       "      <td>0</td>\n",
       "      <td>0</td>\n",
       "      <td>0.0</td>\n",
       "      <td>0.0</td>\n",
       "      <td>0.0</td>\n",
       "      <td>0.0</td>\n",
       "      <td>0.0</td>\n",
       "      <td>0</td>\n",
       "      <td>...</td>\n",
       "      <td>0.00</td>\n",
       "      <td>0.0</td>\n",
       "      <td>0.0</td>\n",
       "      <td>0</td>\n",
       "      <td>0.0</td>\n",
       "      <td>0.0</td>\n",
       "      <td>0</td>\n",
       "      <td>0.0</td>\n",
       "      <td>0</td>\n",
       "      <td>0.0</td>\n",
       "    </tr>\n",
       "  </tbody>\n",
       "</table>\n",
       "<p>71396 rows × 276 columns</p>\n",
       "</div>"
      ],
      "text/plain": [
       "            var_0  var_1  var_2  var_3  var_4  var_5  var_6  var_7  var_8  \\\n",
       "0         9248245    0.0      0      0    0.0    0.0    0.0    0.0    0.0   \n",
       "1        10907006    0.0      0      0    0.0    0.0    0.0    0.0    0.0   \n",
       "2        14080498    0.0      0      0    0.0    0.0    0.0    0.0    0.0   \n",
       "3        29764234    0.0      0      0    0.0    0.0    0.0    0.0    0.0   \n",
       "4        32791073    0.0      0      0    0.0    0.0    0.0    0.0    0.0   \n",
       "...           ...    ...    ...    ...    ...    ...    ...    ...    ...   \n",
       "71391  3029101742    0.0      0      0    0.0    0.0    0.0    0.0    0.0   \n",
       "71392  3033578041    0.0      0      0    0.0    0.0    0.0    0.0    0.0   \n",
       "71393  3035802671    0.0      0      0    0.0    0.0    0.0    0.0    0.0   \n",
       "71394  3047197511    0.0      0      0    0.0    0.0    0.0    0.0    0.0   \n",
       "71395  3073138424    0.0      0      0    0.0    0.0    0.0    0.0    0.0   \n",
       "\n",
       "       var_9  ...  var_266  var_267  var_268  var_269  var_270  var_271  \\\n",
       "0          1  ...     0.00      0.0      0.0        0      0.0      0.0   \n",
       "1          0  ...     0.00      0.0      0.0        0      0.0      0.0   \n",
       "2          0  ...     0.00      0.0      0.0        0      0.0      0.0   \n",
       "3          1  ...     0.00      0.0      2.0        0      0.0      0.0   \n",
       "4          0  ...     9.09      0.0      0.0        0      0.0      0.0   \n",
       "...      ...  ...      ...      ...      ...      ...      ...      ...   \n",
       "71391      0  ...     0.00      0.0      2.0        0      0.0      0.0   \n",
       "71392      0  ...     0.00      0.0      0.0        0      0.0      0.0   \n",
       "71393      0  ...     0.00      0.0      0.0        0      0.0      0.0   \n",
       "71394      0  ...     0.00      0.0      0.0        0      0.0      0.0   \n",
       "71395      0  ...     0.00      0.0      0.0        0      0.0      0.0   \n",
       "\n",
       "       var_272  var_273  var_274  var_275  \n",
       "0            0      0.0        0      0.0  \n",
       "1            0      0.0        0      0.0  \n",
       "2            0      0.0        0      0.0  \n",
       "3            0      0.0        0      0.0  \n",
       "4            0      0.0        0      0.0  \n",
       "...        ...      ...      ...      ...  \n",
       "71391        0      0.0        0      0.0  \n",
       "71392        0      0.0        0      0.0  \n",
       "71393        0      0.0        0      0.0  \n",
       "71394        0      0.0        0      0.0  \n",
       "71395        0      0.0        0      0.0  \n",
       "\n",
       "[71396 rows x 276 columns]"
      ]
     },
     "execution_count": 14,
     "metadata": {},
     "output_type": "execute_result"
    }
   ],
   "source": [
    "datos_pred"
   ]
  },
  {
   "cell_type": "code",
   "execution_count": null,
   "metadata": {},
   "outputs": [],
   "source": []
  },
  {
   "cell_type": "code",
   "execution_count": null,
   "metadata": {},
   "outputs": [],
   "source": []
  }
 ],
 "metadata": {
  "kernelspec": {
   "display_name": "skforecast",
   "language": "python",
   "name": "skforecast"
  },
  "language_info": {
   "codemirror_mode": {
    "name": "ipython",
    "version": 3
   },
   "file_extension": ".py",
   "mimetype": "text/x-python",
   "name": "python",
   "nbconvert_exporter": "python",
   "pygments_lexer": "ipython3",
   "version": "3.7.9"
  },
  "toc": {
   "base_numbering": "0",
   "nav_menu": {},
   "number_sections": true,
   "sideBar": true,
   "skip_h1_title": false,
   "title_cell": "Table of Contents",
   "title_sidebar": "Contents",
   "toc_cell": false,
   "toc_position": {
    "height": "calc(100% - 180px)",
    "left": "10px",
    "top": "150px",
    "width": "220.225px"
   },
   "toc_section_display": true,
   "toc_window_display": true
  },
  "varInspector": {
   "cols": {
    "lenName": 16,
    "lenType": 16,
    "lenVar": 40
   },
   "kernels_config": {
    "python": {
     "delete_cmd_postfix": "",
     "delete_cmd_prefix": "del ",
     "library": "var_list.py",
     "varRefreshCmd": "print(var_dic_list())"
    },
    "r": {
     "delete_cmd_postfix": ") ",
     "delete_cmd_prefix": "rm(",
     "library": "var_list.r",
     "varRefreshCmd": "cat(var_dic_list()) "
    }
   },
   "types_to_exclude": [
    "module",
    "function",
    "builtin_function_or_method",
    "instance",
    "_Feature"
   ],
   "window_display": false
  }
 },
 "nbformat": 4,
 "nbformat_minor": 4
}
