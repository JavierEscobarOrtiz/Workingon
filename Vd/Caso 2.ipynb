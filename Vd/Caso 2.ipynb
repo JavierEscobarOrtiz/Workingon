{
 "cells": [
  {
   "cell_type": "markdown",
   "metadata": {
    "ExecuteTime": {
     "end_time": "2021-12-21T15:33:47.564855Z",
     "start_time": "2021-12-21T15:33:45.515575Z"
    }
   },
   "source": [
    "# Librerias"
   ]
  },
  {
   "cell_type": "code",
   "execution_count": 1,
   "metadata": {
    "ExecuteTime": {
     "end_time": "2022-01-04T13:56:00.846987Z",
     "start_time": "2022-01-04T13:55:59.156813Z"
    }
   },
   "outputs": [],
   "source": [
    "# Tratamiento de datos\n",
    "# ==============================================================================\n",
    "import pandas as pd\n",
    "import numpy as np\n",
    "import zipfile\n",
    "\n",
    "# Gráficos\n",
    "# ==============================================================================\n",
    "import matplotlib.pyplot as plt\n",
    "from matplotlib import style\n",
    "import seaborn as sns\n",
    "\n",
    "# Configuración matplotlib\n",
    "# ==============================================================================\n",
    "plt.rcParams['image.cmap'] = \"bwr\"\n",
    "#plt.rcParams['figure.dpi'] = \"100\"\n",
    "plt.rcParams['savefig.bbox'] = \"tight\"\n",
    "style.use('ggplot') or plt.style.use('ggplot') \n",
    "\n",
    "# Preprocesado y modelado\n",
    "# ==============================================================================\n",
    "from sklearn.model_selection import train_test_split\n",
    "from sklearn.metrics import accuracy_score\n",
    "from sklearn.feature_selection import VarianceThreshold\n",
    "from sklearn.compose import ColumnTransformer\n",
    "from sklearn.preprocessing import OneHotEncoder\n",
    "from sklearn.preprocessing import StandardScaler\n",
    "from sklearn.compose import make_column_selector\n",
    "from sklearn.pipeline import Pipeline\n",
    "from sklearn.metrics import balanced_accuracy_score, f1_score\n",
    "from sklearn.metrics import roc_auc_score, classification_report\n",
    "from sklearn.model_selection import GridSearchCV, StratifiedKFold\n",
    "\n",
    "from sklearn.ensemble import RandomForestClassifier\n",
    "from sklearn.linear_model import LogisticRegression\n",
    "from sklearn.linear_model import LogisticRegressionCV\n",
    "from sklearn.linear_model import RidgeClassifier\n",
    "from sklearn.linear_model import RidgeClassifierCV\n",
    "\n",
    "from imblearn.under_sampling import RandomUnderSampler\n",
    "\n",
    "import multiprocessing"
   ]
  },
  {
   "cell_type": "code",
   "execution_count": null,
   "metadata": {
    "ExecuteTime": {
     "end_time": "2022-01-04T11:06:36.102888Z",
     "start_time": "2022-01-04T11:06:36.096744Z"
    }
   },
   "outputs": [],
   "source": [
    "from sklearn.metrics import SCORERS\n",
    "SCORERS.keys()"
   ]
  },
  {
   "cell_type": "markdown",
   "metadata": {},
   "source": [
    "Valores: predicciones negativos, no tenia sentido. Se puede modelar el logaritmo\n",
    "\n",
    "Ausencia de predictores: si es negativo, medias anteriores\n",
    "\n",
    "sistema determinista en el que se asume unas condiciones de proceso dan un determinado resultado no como serie temporal de la variable respuesta. Proceso dinamico, interesa la P hace x tiempo no la de ahora, en un tramo previo del circuito. El valor de la variable hace 8 horas no influye \n"
   ]
  },
  {
   "cell_type": "markdown",
   "metadata": {},
   "source": [
    "columnas completas, variables correlacionadas, columnas con valores constantes, columnas muy desbalanceadas? combinar grupos minoritarios.\n",
    "comenzar regresion logistica sin regu\n",
    "regularizar por correlaciones\n",
    "random forest, gradient boosting\n",
    "metricas:\n",
    "accuracy, F1 score\n",
    "AUC - ROC\n",
    "\n"
   ]
  },
  {
   "cell_type": "markdown",
   "metadata": {},
   "source": [
    "# Datos modelizacion"
   ]
  },
  {
   "cell_type": "code",
   "execution_count": 2,
   "metadata": {
    "ExecuteTime": {
     "end_time": "2022-01-04T13:56:04.652828Z",
     "start_time": "2022-01-04T13:56:02.355861Z"
    }
   },
   "outputs": [
    {
     "name": "stdout",
     "output_type": "stream",
     "text": [
      "(96188, 277)\n"
     ]
    },
    {
     "data": {
      "text/html": [
       "<div>\n",
       "<style scoped>\n",
       "    .dataframe tbody tr th:only-of-type {\n",
       "        vertical-align: middle;\n",
       "    }\n",
       "\n",
       "    .dataframe tbody tr th {\n",
       "        vertical-align: top;\n",
       "    }\n",
       "\n",
       "    .dataframe thead th {\n",
       "        text-align: right;\n",
       "    }\n",
       "</style>\n",
       "<table border=\"1\" class=\"dataframe\">\n",
       "  <thead>\n",
       "    <tr style=\"text-align: right;\">\n",
       "      <th></th>\n",
       "      <th>var_0</th>\n",
       "      <th>var_1</th>\n",
       "      <th>var_2</th>\n",
       "      <th>var_3</th>\n",
       "      <th>var_4</th>\n",
       "      <th>var_5</th>\n",
       "      <th>var_6</th>\n",
       "      <th>var_7</th>\n",
       "      <th>var_8</th>\n",
       "      <th>var_9</th>\n",
       "      <th>...</th>\n",
       "      <th>var_267</th>\n",
       "      <th>var_268</th>\n",
       "      <th>var_269</th>\n",
       "      <th>var_270</th>\n",
       "      <th>var_271</th>\n",
       "      <th>var_272</th>\n",
       "      <th>var_273</th>\n",
       "      <th>var_274</th>\n",
       "      <th>var_275</th>\n",
       "      <th>label</th>\n",
       "    </tr>\n",
       "  </thead>\n",
       "  <tbody>\n",
       "    <tr>\n",
       "      <th>0</th>\n",
       "      <td>9248245</td>\n",
       "      <td>0.0</td>\n",
       "      <td>0</td>\n",
       "      <td>0</td>\n",
       "      <td>0.0</td>\n",
       "      <td>0.0</td>\n",
       "      <td>0.00</td>\n",
       "      <td>0.0</td>\n",
       "      <td>0.0</td>\n",
       "      <td>1</td>\n",
       "      <td>...</td>\n",
       "      <td>0.0</td>\n",
       "      <td>1.0</td>\n",
       "      <td>0</td>\n",
       "      <td>0.0</td>\n",
       "      <td>0.0</td>\n",
       "      <td>0</td>\n",
       "      <td>0.0</td>\n",
       "      <td>0</td>\n",
       "      <td>0.0</td>\n",
       "      <td>0</td>\n",
       "    </tr>\n",
       "    <tr>\n",
       "      <th>1</th>\n",
       "      <td>10037840</td>\n",
       "      <td>0.0</td>\n",
       "      <td>0</td>\n",
       "      <td>0</td>\n",
       "      <td>0.0</td>\n",
       "      <td>0.0</td>\n",
       "      <td>0.00</td>\n",
       "      <td>0.0</td>\n",
       "      <td>0.0</td>\n",
       "      <td>1</td>\n",
       "      <td>...</td>\n",
       "      <td>0.0</td>\n",
       "      <td>0.0</td>\n",
       "      <td>0</td>\n",
       "      <td>0.0</td>\n",
       "      <td>0.0</td>\n",
       "      <td>0</td>\n",
       "      <td>0.0</td>\n",
       "      <td>0</td>\n",
       "      <td>0.0</td>\n",
       "      <td>0</td>\n",
       "    </tr>\n",
       "    <tr>\n",
       "      <th>2</th>\n",
       "      <td>10299029</td>\n",
       "      <td>0.0</td>\n",
       "      <td>0</td>\n",
       "      <td>0</td>\n",
       "      <td>0.0</td>\n",
       "      <td>0.0</td>\n",
       "      <td>24.44</td>\n",
       "      <td>0.0</td>\n",
       "      <td>0.0</td>\n",
       "      <td>0</td>\n",
       "      <td>...</td>\n",
       "      <td>0.0</td>\n",
       "      <td>0.0</td>\n",
       "      <td>0</td>\n",
       "      <td>0.0</td>\n",
       "      <td>0.0</td>\n",
       "      <td>0</td>\n",
       "      <td>0.0</td>\n",
       "      <td>0</td>\n",
       "      <td>0.0</td>\n",
       "      <td>0</td>\n",
       "    </tr>\n",
       "    <tr>\n",
       "      <th>3</th>\n",
       "      <td>10907006</td>\n",
       "      <td>0.0</td>\n",
       "      <td>0</td>\n",
       "      <td>0</td>\n",
       "      <td>0.0</td>\n",
       "      <td>0.0</td>\n",
       "      <td>0.00</td>\n",
       "      <td>0.0</td>\n",
       "      <td>0.0</td>\n",
       "      <td>0</td>\n",
       "      <td>...</td>\n",
       "      <td>0.0</td>\n",
       "      <td>0.0</td>\n",
       "      <td>0</td>\n",
       "      <td>0.0</td>\n",
       "      <td>0.0</td>\n",
       "      <td>0</td>\n",
       "      <td>0.0</td>\n",
       "      <td>0</td>\n",
       "      <td>0.0</td>\n",
       "      <td>0</td>\n",
       "    </tr>\n",
       "    <tr>\n",
       "      <th>4</th>\n",
       "      <td>14080498</td>\n",
       "      <td>0.0</td>\n",
       "      <td>0</td>\n",
       "      <td>0</td>\n",
       "      <td>0.0</td>\n",
       "      <td>0.0</td>\n",
       "      <td>0.00</td>\n",
       "      <td>0.0</td>\n",
       "      <td>0.0</td>\n",
       "      <td>0</td>\n",
       "      <td>...</td>\n",
       "      <td>0.0</td>\n",
       "      <td>0.0</td>\n",
       "      <td>0</td>\n",
       "      <td>0.0</td>\n",
       "      <td>0.0</td>\n",
       "      <td>0</td>\n",
       "      <td>0.0</td>\n",
       "      <td>0</td>\n",
       "      <td>0.0</td>\n",
       "      <td>0</td>\n",
       "    </tr>\n",
       "  </tbody>\n",
       "</table>\n",
       "<p>5 rows × 277 columns</p>\n",
       "</div>"
      ],
      "text/plain": [
       "      var_0  var_1  var_2  var_3  var_4  var_5  var_6  var_7  var_8  var_9  \\\n",
       "0   9248245    0.0      0      0    0.0    0.0   0.00    0.0    0.0      1   \n",
       "1  10037840    0.0      0      0    0.0    0.0   0.00    0.0    0.0      1   \n",
       "2  10299029    0.0      0      0    0.0    0.0  24.44    0.0    0.0      0   \n",
       "3  10907006    0.0      0      0    0.0    0.0   0.00    0.0    0.0      0   \n",
       "4  14080498    0.0      0      0    0.0    0.0   0.00    0.0    0.0      0   \n",
       "\n",
       "   ...  var_267  var_268  var_269  var_270  var_271  var_272  var_273  \\\n",
       "0  ...      0.0      1.0        0      0.0      0.0        0      0.0   \n",
       "1  ...      0.0      0.0        0      0.0      0.0        0      0.0   \n",
       "2  ...      0.0      0.0        0      0.0      0.0        0      0.0   \n",
       "3  ...      0.0      0.0        0      0.0      0.0        0      0.0   \n",
       "4  ...      0.0      0.0        0      0.0      0.0        0      0.0   \n",
       "\n",
       "   var_274  var_275  label  \n",
       "0        0      0.0      0  \n",
       "1        0      0.0      0  \n",
       "2        0      0.0      0  \n",
       "3        0      0.0      0  \n",
       "4        0      0.0      0  \n",
       "\n",
       "[5 rows x 277 columns]"
      ]
     },
     "execution_count": 2,
     "metadata": {},
     "output_type": "execute_result"
    }
   ],
   "source": [
    "zip_file = zipfile.ZipFile(r\"./Archive.zip\")\n",
    "datos_model_raw = pd.read_csv(zip_file.open(\"datos_para_modelizacion.csv\"))\n",
    "print(datos_model_raw.shape)\n",
    "datos_model_raw.head(5)"
   ]
  },
  {
   "cell_type": "markdown",
   "metadata": {},
   "source": [
    "# Análisis descriptivo"
   ]
  },
  {
   "cell_type": "code",
   "execution_count": 3,
   "metadata": {
    "ExecuteTime": {
     "end_time": "2022-01-04T13:56:05.895874Z",
     "start_time": "2022-01-04T13:56:04.748563Z"
    }
   },
   "outputs": [
    {
     "data": {
      "text/html": [
       "<div>\n",
       "<style scoped>\n",
       "    .dataframe tbody tr th:only-of-type {\n",
       "        vertical-align: middle;\n",
       "    }\n",
       "\n",
       "    .dataframe tbody tr th {\n",
       "        vertical-align: top;\n",
       "    }\n",
       "\n",
       "    .dataframe thead th {\n",
       "        text-align: right;\n",
       "    }\n",
       "</style>\n",
       "<table border=\"1\" class=\"dataframe\">\n",
       "  <thead>\n",
       "    <tr style=\"text-align: right;\">\n",
       "      <th></th>\n",
       "      <th>var_0</th>\n",
       "      <th>var_1</th>\n",
       "      <th>var_2</th>\n",
       "      <th>var_3</th>\n",
       "      <th>var_4</th>\n",
       "      <th>var_5</th>\n",
       "      <th>var_6</th>\n",
       "      <th>var_7</th>\n",
       "      <th>var_8</th>\n",
       "      <th>var_9</th>\n",
       "      <th>...</th>\n",
       "      <th>var_267</th>\n",
       "      <th>var_268</th>\n",
       "      <th>var_269</th>\n",
       "      <th>var_270</th>\n",
       "      <th>var_271</th>\n",
       "      <th>var_272</th>\n",
       "      <th>var_273</th>\n",
       "      <th>var_274</th>\n",
       "      <th>var_275</th>\n",
       "      <th>label</th>\n",
       "    </tr>\n",
       "  </thead>\n",
       "  <tbody>\n",
       "    <tr>\n",
       "      <th>count</th>\n",
       "      <td>9.618800e+04</td>\n",
       "      <td>96188.000000</td>\n",
       "      <td>96188.000000</td>\n",
       "      <td>96188.000000</td>\n",
       "      <td>96188.0</td>\n",
       "      <td>96188.000000</td>\n",
       "      <td>96188.000000</td>\n",
       "      <td>96188.000000</td>\n",
       "      <td>96188.000000</td>\n",
       "      <td>96188.000000</td>\n",
       "      <td>...</td>\n",
       "      <td>96188.000000</td>\n",
       "      <td>96188.000000</td>\n",
       "      <td>96188.000000</td>\n",
       "      <td>96188.000000</td>\n",
       "      <td>96188.000000</td>\n",
       "      <td>96188.0</td>\n",
       "      <td>96188.000000</td>\n",
       "      <td>96188.000000</td>\n",
       "      <td>96188.000000</td>\n",
       "      <td>96188.000000</td>\n",
       "    </tr>\n",
       "    <tr>\n",
       "      <th>mean</th>\n",
       "      <td>6.508026e+08</td>\n",
       "      <td>0.001985</td>\n",
       "      <td>0.009752</td>\n",
       "      <td>0.001071</td>\n",
       "      <td>0.0</td>\n",
       "      <td>0.000335</td>\n",
       "      <td>2.934996</td>\n",
       "      <td>0.000245</td>\n",
       "      <td>0.035151</td>\n",
       "      <td>0.206211</td>\n",
       "      <td>...</td>\n",
       "      <td>0.000602</td>\n",
       "      <td>0.759627</td>\n",
       "      <td>0.000073</td>\n",
       "      <td>0.031579</td>\n",
       "      <td>0.375511</td>\n",
       "      <td>0.0</td>\n",
       "      <td>0.000218</td>\n",
       "      <td>0.000042</td>\n",
       "      <td>0.005895</td>\n",
       "      <td>0.036314</td>\n",
       "    </tr>\n",
       "    <tr>\n",
       "      <th>std</th>\n",
       "      <td>7.305800e+08</td>\n",
       "      <td>0.232712</td>\n",
       "      <td>0.099947</td>\n",
       "      <td>0.032706</td>\n",
       "      <td>0.0</td>\n",
       "      <td>0.103920</td>\n",
       "      <td>14.669620</td>\n",
       "      <td>0.075933</td>\n",
       "      <td>2.553340</td>\n",
       "      <td>0.404586</td>\n",
       "      <td>...</td>\n",
       "      <td>0.131917</td>\n",
       "      <td>4.216230</td>\n",
       "      <td>0.008531</td>\n",
       "      <td>1.012583</td>\n",
       "      <td>4.675368</td>\n",
       "      <td>0.0</td>\n",
       "      <td>0.039093</td>\n",
       "      <td>0.006449</td>\n",
       "      <td>0.488573</td>\n",
       "      <td>0.187072</td>\n",
       "    </tr>\n",
       "    <tr>\n",
       "      <th>min</th>\n",
       "      <td>3.937070e+05</td>\n",
       "      <td>0.000000</td>\n",
       "      <td>0.000000</td>\n",
       "      <td>0.000000</td>\n",
       "      <td>0.0</td>\n",
       "      <td>0.000000</td>\n",
       "      <td>0.000000</td>\n",
       "      <td>0.000000</td>\n",
       "      <td>0.000000</td>\n",
       "      <td>0.000000</td>\n",
       "      <td>...</td>\n",
       "      <td>0.000000</td>\n",
       "      <td>0.000000</td>\n",
       "      <td>0.000000</td>\n",
       "      <td>0.000000</td>\n",
       "      <td>0.000000</td>\n",
       "      <td>0.0</td>\n",
       "      <td>0.000000</td>\n",
       "      <td>0.000000</td>\n",
       "      <td>0.000000</td>\n",
       "      <td>0.000000</td>\n",
       "    </tr>\n",
       "    <tr>\n",
       "      <th>25%</th>\n",
       "      <td>3.268936e+08</td>\n",
       "      <td>0.000000</td>\n",
       "      <td>0.000000</td>\n",
       "      <td>0.000000</td>\n",
       "      <td>0.0</td>\n",
       "      <td>0.000000</td>\n",
       "      <td>0.000000</td>\n",
       "      <td>0.000000</td>\n",
       "      <td>0.000000</td>\n",
       "      <td>0.000000</td>\n",
       "      <td>...</td>\n",
       "      <td>0.000000</td>\n",
       "      <td>0.000000</td>\n",
       "      <td>0.000000</td>\n",
       "      <td>0.000000</td>\n",
       "      <td>0.000000</td>\n",
       "      <td>0.0</td>\n",
       "      <td>0.000000</td>\n",
       "      <td>0.000000</td>\n",
       "      <td>0.000000</td>\n",
       "      <td>0.000000</td>\n",
       "    </tr>\n",
       "    <tr>\n",
       "      <th>50%</th>\n",
       "      <td>3.657658e+08</td>\n",
       "      <td>0.000000</td>\n",
       "      <td>0.000000</td>\n",
       "      <td>0.000000</td>\n",
       "      <td>0.0</td>\n",
       "      <td>0.000000</td>\n",
       "      <td>0.000000</td>\n",
       "      <td>0.000000</td>\n",
       "      <td>0.000000</td>\n",
       "      <td>0.000000</td>\n",
       "      <td>...</td>\n",
       "      <td>0.000000</td>\n",
       "      <td>0.000000</td>\n",
       "      <td>0.000000</td>\n",
       "      <td>0.000000</td>\n",
       "      <td>0.000000</td>\n",
       "      <td>0.0</td>\n",
       "      <td>0.000000</td>\n",
       "      <td>0.000000</td>\n",
       "      <td>0.000000</td>\n",
       "      <td>0.000000</td>\n",
       "    </tr>\n",
       "    <tr>\n",
       "      <th>75%</th>\n",
       "      <td>6.240783e+08</td>\n",
       "      <td>0.000000</td>\n",
       "      <td>0.000000</td>\n",
       "      <td>0.000000</td>\n",
       "      <td>0.0</td>\n",
       "      <td>0.000000</td>\n",
       "      <td>0.000000</td>\n",
       "      <td>0.000000</td>\n",
       "      <td>0.000000</td>\n",
       "      <td>0.000000</td>\n",
       "      <td>...</td>\n",
       "      <td>0.000000</td>\n",
       "      <td>0.000000</td>\n",
       "      <td>0.000000</td>\n",
       "      <td>0.000000</td>\n",
       "      <td>0.000000</td>\n",
       "      <td>0.0</td>\n",
       "      <td>0.000000</td>\n",
       "      <td>0.000000</td>\n",
       "      <td>0.000000</td>\n",
       "      <td>0.000000</td>\n",
       "    </tr>\n",
       "    <tr>\n",
       "      <th>max</th>\n",
       "      <td>3.140207e+09</td>\n",
       "      <td>27.280000</td>\n",
       "      <td>3.000000</td>\n",
       "      <td>1.000000</td>\n",
       "      <td>0.0</td>\n",
       "      <td>32.230000</td>\n",
       "      <td>222.680000</td>\n",
       "      <td>23.550000</td>\n",
       "      <td>337.120000</td>\n",
       "      <td>1.000000</td>\n",
       "      <td>...</td>\n",
       "      <td>28.930000</td>\n",
       "      <td>442.000000</td>\n",
       "      <td>1.000000</td>\n",
       "      <td>112.500000</td>\n",
       "      <td>220.810000</td>\n",
       "      <td>0.0</td>\n",
       "      <td>7.000000</td>\n",
       "      <td>1.000000</td>\n",
       "      <td>40.500000</td>\n",
       "      <td>1.000000</td>\n",
       "    </tr>\n",
       "  </tbody>\n",
       "</table>\n",
       "<p>8 rows × 274 columns</p>\n",
       "</div>"
      ],
      "text/plain": [
       "              var_0         var_1         var_2         var_3    var_4  \\\n",
       "count  9.618800e+04  96188.000000  96188.000000  96188.000000  96188.0   \n",
       "mean   6.508026e+08      0.001985      0.009752      0.001071      0.0   \n",
       "std    7.305800e+08      0.232712      0.099947      0.032706      0.0   \n",
       "min    3.937070e+05      0.000000      0.000000      0.000000      0.0   \n",
       "25%    3.268936e+08      0.000000      0.000000      0.000000      0.0   \n",
       "50%    3.657658e+08      0.000000      0.000000      0.000000      0.0   \n",
       "75%    6.240783e+08      0.000000      0.000000      0.000000      0.0   \n",
       "max    3.140207e+09     27.280000      3.000000      1.000000      0.0   \n",
       "\n",
       "              var_5         var_6         var_7         var_8         var_9  \\\n",
       "count  96188.000000  96188.000000  96188.000000  96188.000000  96188.000000   \n",
       "mean       0.000335      2.934996      0.000245      0.035151      0.206211   \n",
       "std        0.103920     14.669620      0.075933      2.553340      0.404586   \n",
       "min        0.000000      0.000000      0.000000      0.000000      0.000000   \n",
       "25%        0.000000      0.000000      0.000000      0.000000      0.000000   \n",
       "50%        0.000000      0.000000      0.000000      0.000000      0.000000   \n",
       "75%        0.000000      0.000000      0.000000      0.000000      0.000000   \n",
       "max       32.230000    222.680000     23.550000    337.120000      1.000000   \n",
       "\n",
       "       ...       var_267       var_268       var_269       var_270  \\\n",
       "count  ...  96188.000000  96188.000000  96188.000000  96188.000000   \n",
       "mean   ...      0.000602      0.759627      0.000073      0.031579   \n",
       "std    ...      0.131917      4.216230      0.008531      1.012583   \n",
       "min    ...      0.000000      0.000000      0.000000      0.000000   \n",
       "25%    ...      0.000000      0.000000      0.000000      0.000000   \n",
       "50%    ...      0.000000      0.000000      0.000000      0.000000   \n",
       "75%    ...      0.000000      0.000000      0.000000      0.000000   \n",
       "max    ...     28.930000    442.000000      1.000000    112.500000   \n",
       "\n",
       "            var_271  var_272       var_273       var_274       var_275  \\\n",
       "count  96188.000000  96188.0  96188.000000  96188.000000  96188.000000   \n",
       "mean       0.375511      0.0      0.000218      0.000042      0.005895   \n",
       "std        4.675368      0.0      0.039093      0.006449      0.488573   \n",
       "min        0.000000      0.0      0.000000      0.000000      0.000000   \n",
       "25%        0.000000      0.0      0.000000      0.000000      0.000000   \n",
       "50%        0.000000      0.0      0.000000      0.000000      0.000000   \n",
       "75%        0.000000      0.0      0.000000      0.000000      0.000000   \n",
       "max      220.810000      0.0      7.000000      1.000000     40.500000   \n",
       "\n",
       "              label  \n",
       "count  96188.000000  \n",
       "mean       0.036314  \n",
       "std        0.187072  \n",
       "min        0.000000  \n",
       "25%        0.000000  \n",
       "50%        0.000000  \n",
       "75%        0.000000  \n",
       "max        1.000000  \n",
       "\n",
       "[8 rows x 274 columns]"
      ]
     },
     "execution_count": 3,
     "metadata": {},
     "output_type": "execute_result"
    }
   ],
   "source": [
    "datos_model_raw.describe()"
   ]
  },
  {
   "cell_type": "markdown",
   "metadata": {},
   "source": [
    "## Variable Respuesta "
   ]
  },
  {
   "cell_type": "code",
   "execution_count": 4,
   "metadata": {
    "ExecuteTime": {
     "end_time": "2022-01-04T13:56:05.989303Z",
     "start_time": "2022-01-04T13:56:05.983534Z"
    }
   },
   "outputs": [
    {
     "data": {
      "text/plain": [
       "0    0\n",
       "1    0\n",
       "2    0\n",
       "Name: label, dtype: int64"
      ]
     },
     "execution_count": 4,
     "metadata": {},
     "output_type": "execute_result"
    }
   ],
   "source": [
    "y = datos_model_raw[\"label\"]\n",
    "y.head(3)"
   ]
  },
  {
   "cell_type": "code",
   "execution_count": 5,
   "metadata": {
    "ExecuteTime": {
     "end_time": "2022-01-04T13:56:06.080003Z",
     "start_time": "2022-01-04T13:56:06.071330Z"
    }
   },
   "outputs": [
    {
     "data": {
      "text/plain": [
       "0    92695\n",
       "1     3493\n",
       "Name: label, dtype: int64"
      ]
     },
     "execution_count": 5,
     "metadata": {},
     "output_type": "execute_result"
    }
   ],
   "source": [
    "y.value_counts()"
   ]
  },
  {
   "cell_type": "code",
   "execution_count": 6,
   "metadata": {
    "ExecuteTime": {
     "end_time": "2022-01-04T13:56:06.445643Z",
     "start_time": "2022-01-04T13:56:06.175417Z"
    }
   },
   "outputs": [
    {
     "data": {
      "text/plain": [
       "<AxesSubplot:>"
      ]
     },
     "execution_count": 6,
     "metadata": {},
     "output_type": "execute_result"
    },
    {
     "data": {
      "image/png": "[encoded data removed]",
      "text/plain": [
       "<Figure size 432x288 with 1 Axes>"
      ]
     },
     "metadata": {},
     "output_type": "display_data"
    }
   ],
   "source": [
    "# Gráfico\n",
    "# ==============================================================================\n",
    "y.value_counts().plot(kind=\"bar\")"
   ]
  },
  {
   "cell_type": "markdown",
   "metadata": {},
   "source": [
    "## Predictores"
   ]
  },
  {
   "cell_type": "code",
   "execution_count": 7,
   "metadata": {
    "ExecuteTime": {
     "end_time": "2022-01-04T13:56:11.569216Z",
     "start_time": "2022-01-04T13:56:11.384154Z"
    }
   },
   "outputs": [],
   "source": [
    "# fijar var_0 ID cliente as index\n",
    "datos_model = datos_model_raw.copy()\n",
    "datos_model = datos_model.set_index('var_0')"
   ]
  },
  {
   "cell_type": "markdown",
   "metadata": {},
   "source": [
    "### Valores constantes"
   ]
  },
  {
   "cell_type": "markdown",
   "metadata": {},
   "source": [
    "Se eliminar columnas con valores constantes"
   ]
  },
  {
   "cell_type": "code",
   "execution_count": 8,
   "metadata": {
    "ExecuteTime": {
     "end_time": "2022-01-04T13:56:13.943161Z",
     "start_time": "2022-01-04T13:56:13.904151Z"
    }
   },
   "outputs": [
    {
     "name": "stdout",
     "output_type": "stream",
     "text": [
      "Número de columnas con valores constantes:  36\n",
      "['var_4', 'var_11', 'var_22', 'var_24', 'var_28', 'var_31', 'var_50', 'var_55', 'var_58', 'var_61', 'var_65', 'var_70', 'var_78', 'var_84', 'var_91', 'var_113', 'var_114', 'var_125', 'var_127', 'var_147', 'var_154', 'var_158', 'var_169', 'var_182', 'var_190', 'var_193', 'var_206', 'var_214', 'var_217', 'var_221', 'var_225', 'var_233', 'var_251', 'var_256', 'var_265', 'var_272']\n"
     ]
    }
   ],
   "source": [
    "# Numero de columnas con valores constantes\n",
    "def valor_constante(col):\n",
    "    col = col.to_numpy()\n",
    "    return (col[0] == col).all()\n",
    "\n",
    "cols_constantes = []\n",
    "\n",
    "for col in datos_model.columns:\n",
    "    if valor_constante(datos_model[col]):\n",
    "        cols_constantes.append(col)\n",
    "        \n",
    "print(\"Número de columnas con valores constantes: \", len(cols_constantes))\n",
    "print(cols_constantes)"
   ]
  },
  {
   "cell_type": "code",
   "execution_count": 9,
   "metadata": {
    "ExecuteTime": {
     "end_time": "2022-01-04T13:56:14.390558Z",
     "start_time": "2022-01-04T13:56:14.133118Z"
    }
   },
   "outputs": [
    {
     "data": {
      "text/html": [
       "<div>\n",
       "<style scoped>\n",
       "    .dataframe tbody tr th:only-of-type {\n",
       "        vertical-align: middle;\n",
       "    }\n",
       "\n",
       "    .dataframe tbody tr th {\n",
       "        vertical-align: top;\n",
       "    }\n",
       "\n",
       "    .dataframe thead th {\n",
       "        text-align: right;\n",
       "    }\n",
       "</style>\n",
       "<table border=\"1\" class=\"dataframe\">\n",
       "  <thead>\n",
       "    <tr style=\"text-align: right;\">\n",
       "      <th></th>\n",
       "      <th>var_1</th>\n",
       "      <th>var_2</th>\n",
       "      <th>var_3</th>\n",
       "      <th>var_5</th>\n",
       "      <th>var_6</th>\n",
       "      <th>var_7</th>\n",
       "      <th>var_8</th>\n",
       "      <th>var_9</th>\n",
       "      <th>var_10</th>\n",
       "      <th>var_12</th>\n",
       "      <th>...</th>\n",
       "      <th>var_266</th>\n",
       "      <th>var_267</th>\n",
       "      <th>var_268</th>\n",
       "      <th>var_269</th>\n",
       "      <th>var_270</th>\n",
       "      <th>var_271</th>\n",
       "      <th>var_273</th>\n",
       "      <th>var_274</th>\n",
       "      <th>var_275</th>\n",
       "      <th>label</th>\n",
       "    </tr>\n",
       "    <tr>\n",
       "      <th>var_0</th>\n",
       "      <th></th>\n",
       "      <th></th>\n",
       "      <th></th>\n",
       "      <th></th>\n",
       "      <th></th>\n",
       "      <th></th>\n",
       "      <th></th>\n",
       "      <th></th>\n",
       "      <th></th>\n",
       "      <th></th>\n",
       "      <th></th>\n",
       "      <th></th>\n",
       "      <th></th>\n",
       "      <th></th>\n",
       "      <th></th>\n",
       "      <th></th>\n",
       "      <th></th>\n",
       "      <th></th>\n",
       "      <th></th>\n",
       "      <th></th>\n",
       "      <th></th>\n",
       "    </tr>\n",
       "  </thead>\n",
       "  <tbody>\n",
       "    <tr>\n",
       "      <th>9248245</th>\n",
       "      <td>0.0</td>\n",
       "      <td>0</td>\n",
       "      <td>0</td>\n",
       "      <td>0.0</td>\n",
       "      <td>0.00</td>\n",
       "      <td>0.0</td>\n",
       "      <td>0.0</td>\n",
       "      <td>1</td>\n",
       "      <td>0.0</td>\n",
       "      <td>0.0</td>\n",
       "      <td>...</td>\n",
       "      <td>0.0</td>\n",
       "      <td>0.0</td>\n",
       "      <td>1.0</td>\n",
       "      <td>0</td>\n",
       "      <td>0.0</td>\n",
       "      <td>0.0</td>\n",
       "      <td>0.0</td>\n",
       "      <td>0</td>\n",
       "      <td>0.0</td>\n",
       "      <td>0</td>\n",
       "    </tr>\n",
       "    <tr>\n",
       "      <th>10037840</th>\n",
       "      <td>0.0</td>\n",
       "      <td>0</td>\n",
       "      <td>0</td>\n",
       "      <td>0.0</td>\n",
       "      <td>0.00</td>\n",
       "      <td>0.0</td>\n",
       "      <td>0.0</td>\n",
       "      <td>1</td>\n",
       "      <td>0.0</td>\n",
       "      <td>0.0</td>\n",
       "      <td>...</td>\n",
       "      <td>0.0</td>\n",
       "      <td>0.0</td>\n",
       "      <td>0.0</td>\n",
       "      <td>0</td>\n",
       "      <td>0.0</td>\n",
       "      <td>0.0</td>\n",
       "      <td>0.0</td>\n",
       "      <td>0</td>\n",
       "      <td>0.0</td>\n",
       "      <td>0</td>\n",
       "    </tr>\n",
       "    <tr>\n",
       "      <th>10299029</th>\n",
       "      <td>0.0</td>\n",
       "      <td>0</td>\n",
       "      <td>0</td>\n",
       "      <td>0.0</td>\n",
       "      <td>24.44</td>\n",
       "      <td>0.0</td>\n",
       "      <td>0.0</td>\n",
       "      <td>0</td>\n",
       "      <td>0.0</td>\n",
       "      <td>0.0</td>\n",
       "      <td>...</td>\n",
       "      <td>0.0</td>\n",
       "      <td>0.0</td>\n",
       "      <td>0.0</td>\n",
       "      <td>0</td>\n",
       "      <td>0.0</td>\n",
       "      <td>0.0</td>\n",
       "      <td>0.0</td>\n",
       "      <td>0</td>\n",
       "      <td>0.0</td>\n",
       "      <td>0</td>\n",
       "    </tr>\n",
       "    <tr>\n",
       "      <th>10907006</th>\n",
       "      <td>0.0</td>\n",
       "      <td>0</td>\n",
       "      <td>0</td>\n",
       "      <td>0.0</td>\n",
       "      <td>0.00</td>\n",
       "      <td>0.0</td>\n",
       "      <td>0.0</td>\n",
       "      <td>0</td>\n",
       "      <td>0.0</td>\n",
       "      <td>0.0</td>\n",
       "      <td>...</td>\n",
       "      <td>0.0</td>\n",
       "      <td>0.0</td>\n",
       "      <td>0.0</td>\n",
       "      <td>0</td>\n",
       "      <td>0.0</td>\n",
       "      <td>0.0</td>\n",
       "      <td>0.0</td>\n",
       "      <td>0</td>\n",
       "      <td>0.0</td>\n",
       "      <td>0</td>\n",
       "    </tr>\n",
       "    <tr>\n",
       "      <th>14080498</th>\n",
       "      <td>0.0</td>\n",
       "      <td>0</td>\n",
       "      <td>0</td>\n",
       "      <td>0.0</td>\n",
       "      <td>0.00</td>\n",
       "      <td>0.0</td>\n",
       "      <td>0.0</td>\n",
       "      <td>0</td>\n",
       "      <td>0.0</td>\n",
       "      <td>0.0</td>\n",
       "      <td>...</td>\n",
       "      <td>0.0</td>\n",
       "      <td>0.0</td>\n",
       "      <td>0.0</td>\n",
       "      <td>0</td>\n",
       "      <td>0.0</td>\n",
       "      <td>0.0</td>\n",
       "      <td>0.0</td>\n",
       "      <td>0</td>\n",
       "      <td>0.0</td>\n",
       "      <td>0</td>\n",
       "    </tr>\n",
       "  </tbody>\n",
       "</table>\n",
       "<p>5 rows × 240 columns</p>\n",
       "</div>"
      ],
      "text/plain": [
       "          var_1  var_2  var_3  var_5  var_6  var_7  var_8  var_9  var_10  \\\n",
       "var_0                                                                      \n",
       "9248245     0.0      0      0    0.0   0.00    0.0    0.0      1     0.0   \n",
       "10037840    0.0      0      0    0.0   0.00    0.0    0.0      1     0.0   \n",
       "10299029    0.0      0      0    0.0  24.44    0.0    0.0      0     0.0   \n",
       "10907006    0.0      0      0    0.0   0.00    0.0    0.0      0     0.0   \n",
       "14080498    0.0      0      0    0.0   0.00    0.0    0.0      0     0.0   \n",
       "\n",
       "          var_12  ...  var_266  var_267  var_268  var_269  var_270  var_271  \\\n",
       "var_0             ...                                                         \n",
       "9248245      0.0  ...      0.0      0.0      1.0        0      0.0      0.0   \n",
       "10037840     0.0  ...      0.0      0.0      0.0        0      0.0      0.0   \n",
       "10299029     0.0  ...      0.0      0.0      0.0        0      0.0      0.0   \n",
       "10907006     0.0  ...      0.0      0.0      0.0        0      0.0      0.0   \n",
       "14080498     0.0  ...      0.0      0.0      0.0        0      0.0      0.0   \n",
       "\n",
       "          var_273  var_274  var_275  label  \n",
       "var_0                                       \n",
       "9248245       0.0        0      0.0      0  \n",
       "10037840      0.0        0      0.0      0  \n",
       "10299029      0.0        0      0.0      0  \n",
       "10907006      0.0        0      0.0      0  \n",
       "14080498      0.0        0      0.0      0  \n",
       "\n",
       "[5 rows x 240 columns]"
      ]
     },
     "execution_count": 9,
     "metadata": {},
     "output_type": "execute_result"
    }
   ],
   "source": [
    "datos_model = datos_model.drop(cols_constantes, axis=1)\n",
    "datos_model.head()"
   ]
  },
  {
   "cell_type": "markdown",
   "metadata": {},
   "source": [
    "### NaNs"
   ]
  },
  {
   "cell_type": "markdown",
   "metadata": {},
   "source": [
    "Columnas con algún missing value"
   ]
  },
  {
   "cell_type": "code",
   "execution_count": 10,
   "metadata": {
    "ExecuteTime": {
     "end_time": "2022-01-04T13:56:21.694515Z",
     "start_time": "2022-01-04T13:56:21.607022Z"
    }
   },
   "outputs": [
    {
     "name": "stdout",
     "output_type": "stream",
     "text": [
      "Número de columnas con algún Nan:  1\n",
      "{'var_174': 19642}\n"
     ]
    }
   ],
   "source": [
    "# Columnas con número NaN >= 1\n",
    "def is_nan(df_col):\n",
    "    if df_col.isna().sum() >=1:\n",
    "        x = True\n",
    "    else:\n",
    "        x = False\n",
    "    return x\n",
    "\n",
    "cols_with_nan = {}\n",
    "\n",
    "for col in datos_model.columns:\n",
    "    if is_nan(datos_model[col]):\n",
    "        cols_with_nan[col] = datos_model[col].isna().sum()\n",
    "        \n",
    "print(\"Número de columnas con algún Nan: \", len(cols_with_nan))\n",
    "print(cols_with_nan)"
   ]
  },
  {
   "cell_type": "code",
   "execution_count": 11,
   "metadata": {
    "ExecuteTime": {
     "end_time": "2022-01-04T13:56:22.070703Z",
     "start_time": "2022-01-04T13:56:22.050336Z"
    }
   },
   "outputs": [
    {
     "name": "stdout",
     "output_type": "stream",
     "text": [
      "count           76546\n",
      "unique              3\n",
      "top       CONVERGENTE\n",
      "freq            36653\n",
      "Name: var_174, dtype: object\n"
     ]
    },
    {
     "data": {
      "text/plain": [
       "array(['HIPERCONVERGENTE', 'CONVERGENTE', nan, 'RESTO'], dtype=object)"
      ]
     },
     "execution_count": 11,
     "metadata": {},
     "output_type": "execute_result"
    }
   ],
   "source": [
    "print(datos_model[\"var_174\"].describe())\n",
    "datos_model[\"var_174\"].unique()"
   ]
  },
  {
   "cell_type": "markdown",
   "metadata": {},
   "source": [
    "Se completa la var_174 añadiendo los Nan a la categoría RESTO, lo ideal sería hablarlo con negocio"
   ]
  },
  {
   "cell_type": "code",
   "execution_count": 12,
   "metadata": {
    "ExecuteTime": {
     "end_time": "2022-01-04T13:56:24.263825Z",
     "start_time": "2022-01-04T13:56:24.255939Z"
    }
   },
   "outputs": [],
   "source": [
    "datos_model[\"var_174\"] = datos_model[\"var_174\"].fillna(value=\"RESTO\")"
   ]
  },
  {
   "cell_type": "code",
   "execution_count": 13,
   "metadata": {
    "ExecuteTime": {
     "end_time": "2022-01-04T13:56:24.605877Z",
     "start_time": "2022-01-04T13:56:24.594463Z"
    }
   },
   "outputs": [
    {
     "name": "stdout",
     "output_type": "stream",
     "text": [
      "0\n",
      "['HIPERCONVERGENTE' 'CONVERGENTE' 'RESTO']\n"
     ]
    }
   ],
   "source": [
    "print(datos_model[\"var_174\"].isna().sum())\n",
    "print(datos_model[\"var_174\"].unique())"
   ]
  },
  {
   "cell_type": "markdown",
   "metadata": {},
   "source": [
    "### Duplicates"
   ]
  },
  {
   "cell_type": "code",
   "execution_count": null,
   "metadata": {
    "ExecuteTime": {
     "end_time": "2022-01-04T13:18:31.495811Z",
     "start_time": "2022-01-04T13:18:31.191016Z"
    }
   },
   "outputs": [],
   "source": [
    "# Filas duplicadas\n",
    "datos_model.duplicated().sum()"
   ]
  },
  {
   "cell_type": "code",
   "execution_count": null,
   "metadata": {
    "ExecuteTime": {
     "end_time": "2022-01-04T13:19:45.236392Z",
     "start_time": "2022-01-04T13:19:13.011475Z"
    }
   },
   "outputs": [],
   "source": [
    "# Columnas duplicadas\n",
    "datos_model.T.duplicated().sum()"
   ]
  },
  {
   "cell_type": "markdown",
   "metadata": {},
   "source": [
    "### Variables cualitativas"
   ]
  },
  {
   "cell_type": "markdown",
   "metadata": {},
   "source": [
    "Se comprueban si existen y los valores de las columnas no numéricas"
   ]
  },
  {
   "cell_type": "code",
   "execution_count": 14,
   "metadata": {
    "ExecuteTime": {
     "end_time": "2022-01-04T13:56:31.512929Z",
     "start_time": "2022-01-04T13:56:31.501455Z"
    }
   },
   "outputs": [
    {
     "data": {
      "text/html": [
       "<div>\n",
       "<style scoped>\n",
       "    .dataframe tbody tr th:only-of-type {\n",
       "        vertical-align: middle;\n",
       "    }\n",
       "\n",
       "    .dataframe tbody tr th {\n",
       "        vertical-align: top;\n",
       "    }\n",
       "\n",
       "    .dataframe thead th {\n",
       "        text-align: right;\n",
       "    }\n",
       "</style>\n",
       "<table border=\"1\" class=\"dataframe\">\n",
       "  <thead>\n",
       "    <tr style=\"text-align: right;\">\n",
       "      <th></th>\n",
       "      <th>var_105</th>\n",
       "      <th>var_174</th>\n",
       "      <th>var_213</th>\n",
       "    </tr>\n",
       "    <tr>\n",
       "      <th>var_0</th>\n",
       "      <th></th>\n",
       "      <th></th>\n",
       "      <th></th>\n",
       "    </tr>\n",
       "  </thead>\n",
       "  <tbody>\n",
       "    <tr>\n",
       "      <th>9248245</th>\n",
       "      <td>antiguedad_0_6</td>\n",
       "      <td>HIPERCONVERGENTE</td>\n",
       "      <td>asignacion_NLMPYME_Low</td>\n",
       "    </tr>\n",
       "    <tr>\n",
       "      <th>10037840</th>\n",
       "      <td>antiguedad_12_18</td>\n",
       "      <td>CONVERGENTE</td>\n",
       "      <td>asignacion_NLMPYME_Low</td>\n",
       "    </tr>\n",
       "    <tr>\n",
       "      <th>10299029</th>\n",
       "      <td>antiguedad_36_72</td>\n",
       "      <td>CONVERGENTE</td>\n",
       "      <td>asignacion_NLMPYME_Low</td>\n",
       "    </tr>\n",
       "    <tr>\n",
       "      <th>10907006</th>\n",
       "      <td>antiguedad_6_12</td>\n",
       "      <td>CONVERGENTE</td>\n",
       "      <td>asignacion_NLMPYME_Low</td>\n",
       "    </tr>\n",
       "    <tr>\n",
       "      <th>14080498</th>\n",
       "      <td>antiguedad_gt_120</td>\n",
       "      <td>RESTO</td>\n",
       "      <td>asignacion_NLMPYME_Low</td>\n",
       "    </tr>\n",
       "    <tr>\n",
       "      <th>...</th>\n",
       "      <td>...</td>\n",
       "      <td>...</td>\n",
       "      <td>...</td>\n",
       "    </tr>\n",
       "    <tr>\n",
       "      <th>3027642699</th>\n",
       "      <td>antiguedad_gt_120</td>\n",
       "      <td>CONVERGENTE</td>\n",
       "      <td>asignacion_NLMPYME_Legacy_Ono</td>\n",
       "    </tr>\n",
       "    <tr>\n",
       "      <th>3039901891</th>\n",
       "      <td>antiguedad_0_6</td>\n",
       "      <td>CONVERGENTE</td>\n",
       "      <td>asignacion_NLMPYME_Low</td>\n",
       "    </tr>\n",
       "    <tr>\n",
       "      <th>3040108846</th>\n",
       "      <td>antiguedad_gt_120</td>\n",
       "      <td>RESTO</td>\n",
       "      <td>asignacion_NLMPYME_Legacy_Ono</td>\n",
       "    </tr>\n",
       "    <tr>\n",
       "      <th>3045015574</th>\n",
       "      <td>antiguedad_24_36</td>\n",
       "      <td>CONVERGENTE</td>\n",
       "      <td>asignacion_NLMPYME_Legacy_Ono</td>\n",
       "    </tr>\n",
       "    <tr>\n",
       "      <th>3049547953</th>\n",
       "      <td>antiguedad_0_6</td>\n",
       "      <td>CONVERGENTE</td>\n",
       "      <td>asignacion_NLMPYME_Legacy_Ono</td>\n",
       "    </tr>\n",
       "  </tbody>\n",
       "</table>\n",
       "<p>96188 rows × 3 columns</p>\n",
       "</div>"
      ],
      "text/plain": [
       "                      var_105           var_174                        var_213\n",
       "var_0                                                                         \n",
       "9248245        antiguedad_0_6  HIPERCONVERGENTE         asignacion_NLMPYME_Low\n",
       "10037840     antiguedad_12_18       CONVERGENTE         asignacion_NLMPYME_Low\n",
       "10299029     antiguedad_36_72       CONVERGENTE         asignacion_NLMPYME_Low\n",
       "10907006      antiguedad_6_12       CONVERGENTE         asignacion_NLMPYME_Low\n",
       "14080498    antiguedad_gt_120             RESTO         asignacion_NLMPYME_Low\n",
       "...                       ...               ...                            ...\n",
       "3027642699  antiguedad_gt_120       CONVERGENTE  asignacion_NLMPYME_Legacy_Ono\n",
       "3039901891     antiguedad_0_6       CONVERGENTE         asignacion_NLMPYME_Low\n",
       "3040108846  antiguedad_gt_120             RESTO  asignacion_NLMPYME_Legacy_Ono\n",
       "3045015574   antiguedad_24_36       CONVERGENTE  asignacion_NLMPYME_Legacy_Ono\n",
       "3049547953     antiguedad_0_6       CONVERGENTE  asignacion_NLMPYME_Legacy_Ono\n",
       "\n",
       "[96188 rows x 3 columns]"
      ]
     },
     "execution_count": 14,
     "metadata": {},
     "output_type": "execute_result"
    }
   ],
   "source": [
    "# Columnas no numéricas\n",
    "df_no_num = datos_model.select_dtypes(exclude=[\"float64\", \"int64\"])\n",
    "df_no_num"
   ]
  },
  {
   "cell_type": "code",
   "execution_count": 15,
   "metadata": {
    "ExecuteTime": {
     "end_time": "2022-01-04T13:56:32.803112Z",
     "start_time": "2022-01-04T13:56:32.408401Z"
    }
   },
   "outputs": [
    {
     "data": {
      "image/png": "[encoded data removed]",
      "text/plain": [
       "<Figure size 1080x360 with 3 Axes>"
      ]
     },
     "metadata": {},
     "output_type": "display_data"
    }
   ],
   "source": [
    "# Gráfico para cada variable cualitativa\n",
    "# ==============================================================================\n",
    "# Ajustar número de subplots en función del número de columnas\n",
    "fig, axes = plt.subplots(nrows=1, ncols=3, figsize=(15, 5))\n",
    "axes = axes.flat\n",
    "columnas_object = df_no_num.columns\n",
    "\n",
    "for i, colum in enumerate(columnas_object):\n",
    "    df_no_num[colum].value_counts().plot.barh(ax = axes[i])\n",
    "    axes[i].set_title(colum, fontsize = 10, fontweight = \"bold\")\n",
    "    axes[i].tick_params(labelsize = 10)\n",
    "    axes[i].set_xlabel(\"\")\n",
    "    \n",
    "fig.tight_layout()\n",
    "plt.subplots_adjust(top=0.85)\n",
    "fig.suptitle('Distribución variables cualitativas',\n",
    "             fontsize = 20, fontweight = \"bold\");"
   ]
  },
  {
   "cell_type": "markdown",
   "metadata": {},
   "source": [
    "### Numéricas"
   ]
  },
  {
   "cell_type": "code",
   "execution_count": 16,
   "metadata": {
    "ExecuteTime": {
     "end_time": "2022-01-04T13:56:50.019077Z",
     "start_time": "2022-01-04T13:56:38.531956Z"
    }
   },
   "outputs": [],
   "source": [
    "# Correlación entre columnas numéricas\n",
    "corr_mat = datos_model.select_dtypes(include=[\"float64\", \"int64\"]).corr(method='pearson')"
   ]
  },
  {
   "cell_type": "code",
   "execution_count": 17,
   "metadata": {
    "ExecuteTime": {
     "end_time": "2022-01-04T13:56:50.326228Z",
     "start_time": "2022-01-04T13:56:50.278468Z"
    }
   },
   "outputs": [
    {
     "data": {
      "text/html": [
       "<div>\n",
       "<style scoped>\n",
       "    .dataframe tbody tr th:only-of-type {\n",
       "        vertical-align: middle;\n",
       "    }\n",
       "\n",
       "    .dataframe tbody tr th {\n",
       "        vertical-align: top;\n",
       "    }\n",
       "\n",
       "    .dataframe thead th {\n",
       "        text-align: right;\n",
       "    }\n",
       "</style>\n",
       "<table border=\"1\" class=\"dataframe\">\n",
       "  <thead>\n",
       "    <tr style=\"text-align: right;\">\n",
       "      <th></th>\n",
       "      <th>var_1</th>\n",
       "      <th>var_2</th>\n",
       "      <th>r</th>\n",
       "      <th>abs_r</th>\n",
       "    </tr>\n",
       "  </thead>\n",
       "  <tbody>\n",
       "    <tr>\n",
       "      <th>36421</th>\n",
       "      <td>var_179</td>\n",
       "      <td>var_187</td>\n",
       "      <td>1.0</td>\n",
       "      <td>1.0</td>\n",
       "    </tr>\n",
       "    <tr>\n",
       "      <th>37949</th>\n",
       "      <td>var_187</td>\n",
       "      <td>var_36</td>\n",
       "      <td>1.0</td>\n",
       "      <td>1.0</td>\n",
       "    </tr>\n",
       "    <tr>\n",
       "      <th>38073</th>\n",
       "      <td>var_187</td>\n",
       "      <td>var_179</td>\n",
       "      <td>1.0</td>\n",
       "      <td>1.0</td>\n",
       "    </tr>\n",
       "    <tr>\n",
       "      <th>7033</th>\n",
       "      <td>var_36</td>\n",
       "      <td>var_187</td>\n",
       "      <td>1.0</td>\n",
       "      <td>1.0</td>\n",
       "    </tr>\n",
       "    <tr>\n",
       "      <th>4893</th>\n",
       "      <td>var_25</td>\n",
       "      <td>var_179</td>\n",
       "      <td>1.0</td>\n",
       "      <td>1.0</td>\n",
       "    </tr>\n",
       "  </tbody>\n",
       "</table>\n",
       "</div>"
      ],
      "text/plain": [
       "         var_1    var_2    r  abs_r\n",
       "36421  var_179  var_187  1.0    1.0\n",
       "37949  var_187   var_36  1.0    1.0\n",
       "38073  var_187  var_179  1.0    1.0\n",
       "7033    var_36  var_187  1.0    1.0\n",
       "4893    var_25  var_179  1.0    1.0"
      ]
     },
     "execution_count": 17,
     "metadata": {},
     "output_type": "execute_result"
    }
   ],
   "source": [
    "def tidy_corr_matrix(corr_mat):\n",
    "    '''\n",
    "    Convertir una matriz de correlación de pandas en formato tidy\n",
    "    '''\n",
    "    corr_mat = corr_mat.stack().reset_index()\n",
    "    corr_mat.columns = ['var_1','var_2','r']\n",
    "    corr_mat = corr_mat.loc[corr_mat['var_1'] != corr_mat['var_2'], :]\n",
    "    corr_mat['abs_r'] = np.abs(corr_mat['r'])\n",
    "    corr_mat = corr_mat.sort_values('abs_r', ascending=False)\n",
    "    \n",
    "    return(corr_mat)\n",
    "\n",
    "tidy_corr_mat = tidy_corr_matrix(corr_mat)\n",
    "tidy_corr_mat = tidy_corr_mat[(tidy_corr_mat[\"var_1\"] != \"label\") & (tidy_corr_mat[\"var_2\"] != \"label\")]\n",
    "tidy_corr_mat.head(5)"
   ]
  },
  {
   "cell_type": "code",
   "execution_count": 18,
   "metadata": {
    "ExecuteTime": {
     "end_time": "2022-01-04T13:56:50.528761Z",
     "start_time": "2022-01-04T13:56:50.522628Z"
    }
   },
   "outputs": [
    {
     "name": "stdout",
     "output_type": "stream",
     "text": [
      "0.0     96187\n",
      "20.0        1\n",
      "Name: var_179, dtype: int64\n",
      "0.0     96187\n",
      "30.0        1\n",
      "Name: var_187, dtype: int64\n"
     ]
    }
   ],
   "source": [
    "print(datos_model[\"var_179\"].value_counts())\n",
    "print(datos_model[\"var_187\"].value_counts())"
   ]
  },
  {
   "cell_type": "markdown",
   "metadata": {},
   "source": [
    "Columnas con prácticamente todos los valores constantes"
   ]
  },
  {
   "cell_type": "code",
   "execution_count": 19,
   "metadata": {
    "ExecuteTime": {
     "end_time": "2022-01-04T13:56:50.724953Z",
     "start_time": "2022-01-04T13:56:50.720436Z"
    }
   },
   "outputs": [
    {
     "name": "stdout",
     "output_type": "stream",
     "text": [
      "95% col mismo valor, número valores diferentes en col  4809.400000000009\n",
      "99% col mismo valor, número valores diferentes en col  961.8800000000047\n",
      "99,9% col mismo valor, número valores diferentes en col  96.18799999999464\n",
      "99,99% col mismo valor, número valores diferentes en col  9.618799999996554\n"
     ]
    }
   ],
   "source": [
    "print(\"95% col mismo valor, número valores diferentes en col \", 96188 - 0.95*96188)\n",
    "print(\"99% col mismo valor, número valores diferentes en col \", 96188 - 0.99*96188)\n",
    "print(\"99,9% col mismo valor, número valores diferentes en col \", 96188 - 0.999*96188)\n",
    "print(\"99,99% col mismo valor, número valores diferentes en col \", 96188 - 0.9999*96188)"
   ]
  },
  {
   "cell_type": "code",
   "execution_count": 20,
   "metadata": {
    "ExecuteTime": {
     "end_time": "2022-01-04T13:56:51.224346Z",
     "start_time": "2022-01-04T13:56:50.924766Z"
    }
   },
   "outputs": [
    {
     "name": "stdout",
     "output_type": "stream",
     "text": [
      "Número de columnas con valores constantes:  122\n",
      "['var_1', 'var_5', 'var_7', 'var_8', 'var_10', 'var_12', 'var_14', 'var_15', 'var_16', 'var_17', 'var_19', 'var_20', 'var_21', 'var_25', 'var_26', 'var_27', 'var_30', 'var_33', 'var_34', 'var_35', 'var_36', 'var_40', 'var_46', 'var_47', 'var_51', 'var_52', 'var_53', 'var_60', 'var_62', 'var_64', 'var_66', 'var_67', 'var_72', 'var_74', 'var_77', 'var_79', 'var_85', 'var_86', 'var_89', 'var_90', 'var_95', 'var_102', 'var_106', 'var_109', 'var_110', 'var_111', 'var_112', 'var_115', 'var_116', 'var_118', 'var_119', 'var_121', 'var_123', 'var_128', 'var_132', 'var_133', 'var_135', 'var_136', 'var_138', 'var_141', 'var_142', 'var_143', 'var_145', 'var_149', 'var_150', 'var_151', 'var_155', 'var_156', 'var_157', 'var_160', 'var_163', 'var_164', 'var_167', 'var_168', 'var_175', 'var_176', 'var_178', 'var_179', 'var_180', 'var_181', 'var_186', 'var_187', 'var_188', 'var_189', 'var_191', 'var_198', 'var_199', 'var_200', 'var_202', 'var_203', 'var_204', 'var_208', 'var_209', 'var_210', 'var_211', 'var_212', 'var_215', 'var_216', 'var_226', 'var_229', 'var_232', 'var_236', 'var_237', 'var_238', 'var_240', 'var_242', 'var_247', 'var_248', 'var_249', 'var_250', 'var_252', 'var_253', 'var_254', 'var_259', 'var_262', 'var_263', 'var_264', 'var_267', 'var_269', 'var_273', 'var_274', 'var_275']\n"
     ]
    }
   ],
   "source": [
    "# Limite \n",
    "x = 0.999 # % mismos valores en la columna \n",
    "\n",
    "# Numero de columnas con valores constantes\n",
    "def porcentaje_constante(col):\n",
    "    counts = col.value_counts().sort_values(ascending=False)\n",
    "    porc = counts.to_numpy()[0] / col.shape[0]\n",
    "    \n",
    "    return porc\n",
    "\n",
    "porc_constantes = []\n",
    "\n",
    "for col in datos_model.select_dtypes(include=[\"float64\", \"int64\"]):\n",
    "    if porcentaje_constante(datos_model[col]) >= x:\n",
    "        porc_constantes.append(col)\n",
    "        \n",
    "print(\"Número de columnas con valores constantes: \", len(porc_constantes))\n",
    "print(porc_constantes)"
   ]
  },
  {
   "cell_type": "code",
   "execution_count": 21,
   "metadata": {
    "ExecuteTime": {
     "end_time": "2022-01-04T13:56:56.712179Z",
     "start_time": "2022-01-04T13:56:56.663312Z"
    }
   },
   "outputs": [
    {
     "data": {
      "text/html": [
       "<div>\n",
       "<style scoped>\n",
       "    .dataframe tbody tr th:only-of-type {\n",
       "        vertical-align: middle;\n",
       "    }\n",
       "\n",
       "    .dataframe tbody tr th {\n",
       "        vertical-align: top;\n",
       "    }\n",
       "\n",
       "    .dataframe thead th {\n",
       "        text-align: right;\n",
       "    }\n",
       "</style>\n",
       "<table border=\"1\" class=\"dataframe\">\n",
       "  <thead>\n",
       "    <tr style=\"text-align: right;\">\n",
       "      <th></th>\n",
       "      <th>var_2</th>\n",
       "      <th>var_3</th>\n",
       "      <th>var_6</th>\n",
       "      <th>var_9</th>\n",
       "      <th>var_13</th>\n",
       "      <th>var_18</th>\n",
       "      <th>var_23</th>\n",
       "      <th>var_29</th>\n",
       "      <th>var_32</th>\n",
       "      <th>var_37</th>\n",
       "      <th>...</th>\n",
       "      <th>var_255</th>\n",
       "      <th>var_257</th>\n",
       "      <th>var_258</th>\n",
       "      <th>var_260</th>\n",
       "      <th>var_261</th>\n",
       "      <th>var_266</th>\n",
       "      <th>var_268</th>\n",
       "      <th>var_270</th>\n",
       "      <th>var_271</th>\n",
       "      <th>label</th>\n",
       "    </tr>\n",
       "    <tr>\n",
       "      <th>var_0</th>\n",
       "      <th></th>\n",
       "      <th></th>\n",
       "      <th></th>\n",
       "      <th></th>\n",
       "      <th></th>\n",
       "      <th></th>\n",
       "      <th></th>\n",
       "      <th></th>\n",
       "      <th></th>\n",
       "      <th></th>\n",
       "      <th></th>\n",
       "      <th></th>\n",
       "      <th></th>\n",
       "      <th></th>\n",
       "      <th></th>\n",
       "      <th></th>\n",
       "      <th></th>\n",
       "      <th></th>\n",
       "      <th></th>\n",
       "      <th></th>\n",
       "      <th></th>\n",
       "    </tr>\n",
       "  </thead>\n",
       "  <tbody>\n",
       "    <tr>\n",
       "      <th>9248245</th>\n",
       "      <td>0</td>\n",
       "      <td>0</td>\n",
       "      <td>0.00</td>\n",
       "      <td>1</td>\n",
       "      <td>0.0</td>\n",
       "      <td>1.0</td>\n",
       "      <td>0.0</td>\n",
       "      <td>0</td>\n",
       "      <td>576.00</td>\n",
       "      <td>0.0</td>\n",
       "      <td>...</td>\n",
       "      <td>0.0</td>\n",
       "      <td>0.0</td>\n",
       "      <td>0.0</td>\n",
       "      <td>0.0</td>\n",
       "      <td>0.0</td>\n",
       "      <td>0.0</td>\n",
       "      <td>1.0</td>\n",
       "      <td>0.0</td>\n",
       "      <td>0.0</td>\n",
       "      <td>0</td>\n",
       "    </tr>\n",
       "    <tr>\n",
       "      <th>10037840</th>\n",
       "      <td>0</td>\n",
       "      <td>0</td>\n",
       "      <td>0.00</td>\n",
       "      <td>1</td>\n",
       "      <td>0.0</td>\n",
       "      <td>0.0</td>\n",
       "      <td>0.0</td>\n",
       "      <td>0</td>\n",
       "      <td>323.08</td>\n",
       "      <td>0.0</td>\n",
       "      <td>...</td>\n",
       "      <td>0.0</td>\n",
       "      <td>0.0</td>\n",
       "      <td>0.0</td>\n",
       "      <td>1.0</td>\n",
       "      <td>0.0</td>\n",
       "      <td>0.0</td>\n",
       "      <td>0.0</td>\n",
       "      <td>0.0</td>\n",
       "      <td>0.0</td>\n",
       "      <td>0</td>\n",
       "    </tr>\n",
       "    <tr>\n",
       "      <th>10299029</th>\n",
       "      <td>0</td>\n",
       "      <td>0</td>\n",
       "      <td>24.44</td>\n",
       "      <td>0</td>\n",
       "      <td>0.0</td>\n",
       "      <td>1.0</td>\n",
       "      <td>0.0</td>\n",
       "      <td>0</td>\n",
       "      <td>0.00</td>\n",
       "      <td>0.0</td>\n",
       "      <td>...</td>\n",
       "      <td>0.0</td>\n",
       "      <td>0.0</td>\n",
       "      <td>0.0</td>\n",
       "      <td>0.0</td>\n",
       "      <td>0.0</td>\n",
       "      <td>0.0</td>\n",
       "      <td>0.0</td>\n",
       "      <td>0.0</td>\n",
       "      <td>0.0</td>\n",
       "      <td>0</td>\n",
       "    </tr>\n",
       "    <tr>\n",
       "      <th>10907006</th>\n",
       "      <td>0</td>\n",
       "      <td>0</td>\n",
       "      <td>0.00</td>\n",
       "      <td>0</td>\n",
       "      <td>0.0</td>\n",
       "      <td>0.0</td>\n",
       "      <td>0.0</td>\n",
       "      <td>0</td>\n",
       "      <td>0.00</td>\n",
       "      <td>0.0</td>\n",
       "      <td>...</td>\n",
       "      <td>0.0</td>\n",
       "      <td>0.0</td>\n",
       "      <td>0.0</td>\n",
       "      <td>0.0</td>\n",
       "      <td>0.0</td>\n",
       "      <td>0.0</td>\n",
       "      <td>0.0</td>\n",
       "      <td>0.0</td>\n",
       "      <td>0.0</td>\n",
       "      <td>0</td>\n",
       "    </tr>\n",
       "    <tr>\n",
       "      <th>14080498</th>\n",
       "      <td>0</td>\n",
       "      <td>0</td>\n",
       "      <td>0.00</td>\n",
       "      <td>0</td>\n",
       "      <td>0.0</td>\n",
       "      <td>0.0</td>\n",
       "      <td>0.0</td>\n",
       "      <td>0</td>\n",
       "      <td>0.00</td>\n",
       "      <td>0.0</td>\n",
       "      <td>...</td>\n",
       "      <td>0.0</td>\n",
       "      <td>0.0</td>\n",
       "      <td>0.0</td>\n",
       "      <td>0.0</td>\n",
       "      <td>0.0</td>\n",
       "      <td>0.0</td>\n",
       "      <td>0.0</td>\n",
       "      <td>0.0</td>\n",
       "      <td>0.0</td>\n",
       "      <td>0</td>\n",
       "    </tr>\n",
       "  </tbody>\n",
       "</table>\n",
       "<p>5 rows × 118 columns</p>\n",
       "</div>"
      ],
      "text/plain": [
       "          var_2  var_3  var_6  var_9  var_13  var_18  var_23  var_29  var_32  \\\n",
       "var_0                                                                          \n",
       "9248245       0      0   0.00      1     0.0     1.0     0.0       0  576.00   \n",
       "10037840      0      0   0.00      1     0.0     0.0     0.0       0  323.08   \n",
       "10299029      0      0  24.44      0     0.0     1.0     0.0       0    0.00   \n",
       "10907006      0      0   0.00      0     0.0     0.0     0.0       0    0.00   \n",
       "14080498      0      0   0.00      0     0.0     0.0     0.0       0    0.00   \n",
       "\n",
       "          var_37  ...  var_255  var_257  var_258  var_260  var_261  var_266  \\\n",
       "var_0             ...                                                         \n",
       "9248245      0.0  ...      0.0      0.0      0.0      0.0      0.0      0.0   \n",
       "10037840     0.0  ...      0.0      0.0      0.0      1.0      0.0      0.0   \n",
       "10299029     0.0  ...      0.0      0.0      0.0      0.0      0.0      0.0   \n",
       "10907006     0.0  ...      0.0      0.0      0.0      0.0      0.0      0.0   \n",
       "14080498     0.0  ...      0.0      0.0      0.0      0.0      0.0      0.0   \n",
       "\n",
       "          var_268  var_270  var_271  label  \n",
       "var_0                                       \n",
       "9248245       1.0      0.0      0.0      0  \n",
       "10037840      0.0      0.0      0.0      0  \n",
       "10299029      0.0      0.0      0.0      0  \n",
       "10907006      0.0      0.0      0.0      0  \n",
       "14080498      0.0      0.0      0.0      0  \n",
       "\n",
       "[5 rows x 118 columns]"
      ]
     },
     "execution_count": 21,
     "metadata": {},
     "output_type": "execute_result"
    }
   ],
   "source": [
    "# Eliminar columnas con % constante\n",
    "datos_model = datos_model.drop(porc_constantes, axis=1)\n",
    "datos_model.head()"
   ]
  },
  {
   "cell_type": "code",
   "execution_count": 22,
   "metadata": {
    "ExecuteTime": {
     "end_time": "2022-01-04T13:56:59.999325Z",
     "start_time": "2022-01-04T13:56:57.197085Z"
    }
   },
   "outputs": [
    {
     "data": {
      "text/html": [
       "<div>\n",
       "<style scoped>\n",
       "    .dataframe tbody tr th:only-of-type {\n",
       "        vertical-align: middle;\n",
       "    }\n",
       "\n",
       "    .dataframe tbody tr th {\n",
       "        vertical-align: top;\n",
       "    }\n",
       "\n",
       "    .dataframe thead th {\n",
       "        text-align: right;\n",
       "    }\n",
       "</style>\n",
       "<table border=\"1\" class=\"dataframe\">\n",
       "  <thead>\n",
       "    <tr style=\"text-align: right;\">\n",
       "      <th></th>\n",
       "      <th>var_1</th>\n",
       "      <th>var_2</th>\n",
       "      <th>r</th>\n",
       "      <th>abs_r</th>\n",
       "    </tr>\n",
       "  </thead>\n",
       "  <tbody>\n",
       "    <tr>\n",
       "      <th>2730</th>\n",
       "      <td>var_63</td>\n",
       "      <td>var_205</td>\n",
       "      <td>0.998921</td>\n",
       "      <td>0.998921</td>\n",
       "    </tr>\n",
       "    <tr>\n",
       "      <th>9798</th>\n",
       "      <td>var_205</td>\n",
       "      <td>var_63</td>\n",
       "      <td>0.998921</td>\n",
       "      <td>0.998921</td>\n",
       "    </tr>\n",
       "    <tr>\n",
       "      <th>991</th>\n",
       "      <td>var_32</td>\n",
       "      <td>var_170</td>\n",
       "      <td>0.991456</td>\n",
       "      <td>0.991456</td>\n",
       "    </tr>\n",
       "    <tr>\n",
       "      <th>8173</th>\n",
       "      <td>var_170</td>\n",
       "      <td>var_32</td>\n",
       "      <td>0.991456</td>\n",
       "      <td>0.991456</td>\n",
       "    </tr>\n",
       "    <tr>\n",
       "      <th>7341</th>\n",
       "      <td>var_148</td>\n",
       "      <td>var_231</td>\n",
       "      <td>-0.931877</td>\n",
       "      <td>0.931877</td>\n",
       "    </tr>\n",
       "  </tbody>\n",
       "</table>\n",
       "</div>"
      ],
      "text/plain": [
       "        var_1    var_2         r     abs_r\n",
       "2730   var_63  var_205  0.998921  0.998921\n",
       "9798  var_205   var_63  0.998921  0.998921\n",
       "991    var_32  var_170  0.991456  0.991456\n",
       "8173  var_170   var_32  0.991456  0.991456\n",
       "7341  var_148  var_231 -0.931877  0.931877"
      ]
     },
     "execution_count": 22,
     "metadata": {},
     "output_type": "execute_result"
    }
   ],
   "source": [
    "# Correlación entre columnas numéricas\n",
    "corr_mat = datos_model.corr(method='pearson')\n",
    "\n",
    "tidy_corr_mat = tidy_corr_matrix(corr_mat)\n",
    "tidy_corr_mat = tidy_corr_mat[(tidy_corr_mat[\"var_1\"] != \"label\") & (tidy_corr_mat[\"var_2\"] != \"label\")]\n",
    "tidy_corr_mat.head(5)"
   ]
  },
  {
   "cell_type": "code",
   "execution_count": 23,
   "metadata": {
    "ExecuteTime": {
     "end_time": "2022-01-04T13:57:00.704453Z",
     "start_time": "2022-01-04T13:57:00.191646Z"
    }
   },
   "outputs": [
    {
     "data": {
      "image/png": "[encoded data removed]",
      "text/plain": [
       "<Figure size 432x432 with 2 Axes>"
      ]
     },
     "metadata": {},
     "output_type": "display_data"
    }
   ],
   "source": [
    "# Heatmap matriz de correlaciones\n",
    "# ==============================================================================\n",
    "fig, ax = plt.subplots(nrows=1, ncols=1, figsize=(6, 6))\n",
    "\n",
    "sns.heatmap(\n",
    "    corr_mat,\n",
    "    square    = True,\n",
    "    ax        = ax\n",
    ")\n",
    "\n",
    "ax.tick_params(labelsize = 3)"
   ]
  },
  {
   "cell_type": "markdown",
   "metadata": {},
   "source": [
    "# Modelado"
   ]
  },
  {
   "cell_type": "markdown",
   "metadata": {},
   "source": [
    "## Preprocesado"
   ]
  },
  {
   "cell_type": "code",
   "execution_count": 28,
   "metadata": {
    "ExecuteTime": {
     "end_time": "2022-01-04T13:58:32.402831Z",
     "start_time": "2022-01-04T13:58:32.265767Z"
    }
   },
   "outputs": [],
   "source": [
    "# División de los datos en train y test\n",
    "# ==============================================================================\n",
    "X = datos_model.drop(\"label\", axis=1)\n",
    "y = datos_model['label']\n",
    "\n",
    "X_train, X_test, y_train, y_test = train_test_split(\n",
    "                                        X,\n",
    "                                        y,\n",
    "                                        train_size   = 0.8,\n",
    "                                        random_state = 1234,\n",
    "                                        stratify     = y\n",
    "                                    )"
   ]
  },
  {
   "cell_type": "code",
   "execution_count": 29,
   "metadata": {
    "ExecuteTime": {
     "end_time": "2022-01-04T13:58:33.233224Z",
     "start_time": "2022-01-04T13:58:32.846364Z"
    }
   },
   "outputs": [],
   "source": [
    "# Preprocesado\n",
    "# ==============================================================================\n",
    "\n",
    "# Identificación de columnas numéricas y categóricas\n",
    "numeric_cols = X_train.select_dtypes(include=['float64', 'int64']).columns.to_list()\n",
    "cat_cols = X_train.select_dtypes(include=['object', 'category']).columns.to_list()\n",
    "\n",
    "\n",
    "# Transformaciones para las variables numéricas\n",
    "numeric_transformer = Pipeline(\n",
    "                        steps=[('scaler', StandardScaler())]\n",
    "                      )\n",
    "\n",
    "# Transformaciones para las variables categóricas\n",
    "categorical_transformer = Pipeline(\n",
    "                            steps=[('onehot', OneHotEncoder(handle_unknown='ignore'))]\n",
    "                          )\n",
    "\n",
    "preprocessor = ColumnTransformer(\n",
    "                    transformers=[\n",
    "                        ('numeric', numeric_transformer, numeric_cols),\n",
    "                        ('cat', categorical_transformer, cat_cols)\n",
    "                    ],\n",
    "                    remainder='passthrough'\n",
    "                )\n",
    "\n",
    "# Train\n",
    "# ==============================================================================\n",
    "X_train_prep = preprocessor.fit_transform(X_train)\n",
    "X_test_prep  = preprocessor.transform(X_test)"
   ]
  },
  {
   "cell_type": "code",
   "execution_count": null,
   "metadata": {
    "ExecuteTime": {
     "end_time": "2022-01-04T13:20:04.080908Z",
     "start_time": "2022-01-04T13:20:04.058685Z"
    }
   },
   "outputs": [],
   "source": [
    "# Convertir el output en dataframe y añadir el nombre de las columnas\n",
    "# ==============================================================================\n",
    "encoded_cat = preprocessor.named_transformers_[\"cat\"]['onehot'].get_feature_names_out(cat_cols)\n",
    "labels = np.concatenate([numeric_cols, encoded_cat])\n",
    "datos_train_prep = pd.DataFrame(X_train_prep, columns=labels)\n",
    "datos_train_prep.info(verbose=True)"
   ]
  },
  {
   "cell_type": "markdown",
   "metadata": {},
   "source": [
    "## LogisticRegression baseline"
   ]
  },
  {
   "cell_type": "code",
   "execution_count": null,
   "metadata": {
    "ExecuteTime": {
     "end_time": "2022-01-04T13:20:09.114551Z",
     "start_time": "2022-01-04T13:20:04.471065Z"
    }
   },
   "outputs": [],
   "source": [
    "# Creación del modelo\n",
    "# ==============================================================================\n",
    "# Para no incluir ningún tipo de regularización en el modelo se indica\n",
    "# penalty='none'\n",
    "modelo = LogisticRegression(penalty='none',\n",
    "                            max_iter = 1000,\n",
    "                            random_state = 1234)\n",
    "modelo.fit(X = X_train_prep, y = y_train)"
   ]
  },
  {
   "cell_type": "code",
   "execution_count": null,
   "metadata": {
    "ExecuteTime": {
     "end_time": "2022-01-04T13:20:09.533909Z",
     "start_time": "2022-01-04T13:20:09.526669Z"
    }
   },
   "outputs": [],
   "source": [
    "# Predicción\n",
    "# ==============================================================================\n",
    "predicciones = modelo.predict(X_test_prep)"
   ]
  },
  {
   "cell_type": "code",
   "execution_count": null,
   "metadata": {
    "ExecuteTime": {
     "end_time": "2022-01-04T13:20:09.991797Z",
     "start_time": "2022-01-04T13:20:09.986353Z"
    }
   },
   "outputs": [],
   "source": [
    "def report_metrics(y_test, predicciones):\n",
    "\n",
    "    print(\"Porcentaje de la clase mayoritaria: \", 100 * datos_model_raw['label'].value_counts(normalize=True)[0],\"%\")\n",
    "\n",
    "    accuracy = accuracy_score(\n",
    "                y_true    = y_test,\n",
    "                y_pred    = predicciones,\n",
    "                normalize = True\n",
    "               )\n",
    "    print(\"\")\n",
    "    print(f\"El accuracy de test es: {100*accuracy} %\")\n",
    "\n",
    "    balanced_accuracy = balanced_accuracy_score(\n",
    "                            y_true    = y_test,\n",
    "                            y_pred    = predicciones,\n",
    "                            adjusted  = True\n",
    "               )\n",
    "    print(\"\")\n",
    "    print(f\"El balanced accuracy de test es: {100*balanced_accuracy} %\")\n",
    "\n",
    "    roc_auc = roc_auc_score(\n",
    "                            y_true    = y_test,\n",
    "                            y_score    = predicciones\n",
    "                           )\n",
    "    print(\"\")\n",
    "    print(f\"El roc auc score de test es: {100*roc_auc} %\")\n",
    "    \n",
    "    f1 = f1_score(\n",
    "                        y_true    = y_test,\n",
    "                        y_pred    = predicciones\n",
    "                       )\n",
    "    print(\"\")\n",
    "    print(f\"El f1 score de test es: {f1}\")\n",
    "    \n",
    "    # Clasification report de las predicciones de test\n",
    "    # ==============================================================================\n",
    "    print(\"\")\n",
    "    print(classification_report(y_true = y_test, \n",
    "                                y_pred = predicciones, \n",
    "                                labels=[0, 1]))\n",
    "\n",
    "    # Matriz de confusión de las predicciones de test\n",
    "    # ==============================================================================\n",
    "    df_predicciones = pd.DataFrame({\"predicciones\": predicciones, \"label\": y_test})\n",
    "\n",
    "    confusion_matrix = pd.crosstab(\n",
    "        df_predicciones.label,\n",
    "        df_predicciones.predicciones,\n",
    "        rownames=['Real'],\n",
    "        colnames=['Predicción']\n",
    "    )\n",
    "    print(\"\")\n",
    "    print(confusion_matrix)"
   ]
  },
  {
   "cell_type": "code",
   "execution_count": null,
   "metadata": {
    "ExecuteTime": {
     "end_time": "2022-01-04T13:20:10.396554Z",
     "start_time": "2022-01-04T13:20:10.349939Z"
    }
   },
   "outputs": [],
   "source": [
    "report_metrics(y_test, predicciones)"
   ]
  },
  {
   "cell_type": "code",
   "execution_count": null,
   "metadata": {
    "ExecuteTime": {
     "end_time": "2022-01-04T13:20:11.928077Z",
     "start_time": "2022-01-04T13:20:10.755807Z"
    }
   },
   "outputs": [],
   "source": [
    "# Coeficientes del modelo\n",
    "# ==============================================================================\n",
    "df_coeficientes = pd.DataFrame(\n",
    "                        {'predictor': datos_train_prep.columns,\n",
    "                         'coef': modelo.coef_.flatten()}\n",
    "                  )\n",
    "\n",
    "fig, ax = plt.subplots(figsize=(11, 3.84))\n",
    "ax.stem(df_coeficientes.predictor, df_coeficientes.coef, markerfmt=' ')\n",
    "plt.xticks(rotation=90, ha='right', size=5)\n",
    "ax.set_xlabel('variable')\n",
    "ax.set_ylabel('coeficientes')\n",
    "ax.set_title('Coeficientes del modelo')\n",
    "plt.show();"
   ]
  },
  {
   "cell_type": "markdown",
   "metadata": {},
   "source": [
    "### Weighted"
   ]
  },
  {
   "cell_type": "code",
   "execution_count": null,
   "metadata": {
    "ExecuteTime": {
     "end_time": "2022-01-04T13:21:11.933777Z",
     "start_time": "2022-01-04T13:20:12.277785Z"
    }
   },
   "outputs": [],
   "source": [
    "# Creación del modelo\n",
    "# ==============================================================================\n",
    "# Para no incluir ningún tipo de regularización en el modelo se indica\n",
    "# penalty='none'\n",
    "modelo = LogisticRegression(\n",
    "            penalty         = \"none\",\n",
    "            C               = 1.0,\n",
    "            fit_intercept   = True,\n",
    "            class_weight    = {0: 1, 1: 26},\n",
    "            max_iter        = 1000,\n",
    "            n_jobs          = multiprocessing.cpu_count() - 1,\n",
    "            random_state    = 1234\n",
    "         )\n",
    "modelo.fit(X = X_train_prep, y = y_train)"
   ]
  },
  {
   "cell_type": "code",
   "execution_count": null,
   "metadata": {
    "ExecuteTime": {
     "end_time": "2022-01-04T13:21:12.321069Z",
     "start_time": "2022-01-04T13:21:12.310293Z"
    }
   },
   "outputs": [],
   "source": [
    "# Predicción\n",
    "# ==============================================================================\n",
    "predicciones = modelo.predict(X_test_prep)"
   ]
  },
  {
   "cell_type": "code",
   "execution_count": null,
   "metadata": {
    "ExecuteTime": {
     "end_time": "2022-01-04T13:21:12.754273Z",
     "start_time": "2022-01-04T13:21:12.703129Z"
    }
   },
   "outputs": [],
   "source": [
    "# Report\n",
    "# ==============================================================================\n",
    "report_metrics(y_test, predicciones)"
   ]
  },
  {
   "cell_type": "code",
   "execution_count": null,
   "metadata": {
    "ExecuteTime": {
     "end_time": "2022-01-04T13:21:14.214156Z",
     "start_time": "2022-01-04T13:21:13.107306Z"
    }
   },
   "outputs": [],
   "source": [
    "# Coeficientes del modelo\n",
    "# ==============================================================================\n",
    "df_coeficientes = pd.DataFrame(\n",
    "                        {'predictor': datos_train_prep.columns,\n",
    "                         'coef': modelo.coef_.flatten()}\n",
    "                  )\n",
    "\n",
    "fig, ax = plt.subplots(figsize=(11, 3.84))\n",
    "ax.stem(df_coeficientes.predictor, df_coeficientes.coef, markerfmt=' ')\n",
    "plt.xticks(rotation=90, ha='right', size=5)\n",
    "ax.set_xlabel('variable')\n",
    "ax.set_ylabel('coeficientes')\n",
    "ax.set_title('Coeficientes del modelo')\n",
    "plt.show();"
   ]
  },
  {
   "cell_type": "markdown",
   "metadata": {},
   "source": [
    "### Undersampling"
   ]
  },
  {
   "cell_type": "code",
   "execution_count": null,
   "metadata": {
    "ExecuteTime": {
     "end_time": "2022-01-04T13:21:15.085265Z",
     "start_time": "2022-01-04T13:21:14.588308Z"
    }
   },
   "outputs": [],
   "source": [
    "# Under sampler\n",
    "# ==============================================================================\n",
    "rus = RandomUnderSampler(random_state = 1234)\n",
    "X_resampled, y_resampled = rus.fit_resample(X_train_prep, y_train)"
   ]
  },
  {
   "cell_type": "code",
   "execution_count": null,
   "metadata": {
    "ExecuteTime": {
     "end_time": "2022-01-04T13:21:15.430357Z",
     "start_time": "2022-01-04T13:21:15.424023Z"
    }
   },
   "outputs": [],
   "source": [
    "print(len(y_train[y_train == 0]))\n",
    "print(len(y_resampled[y_resampled == 0]))\n",
    "print(\"\")\n",
    "print(len(y_train[y_train == 1]))\n",
    "print(len(y_resampled[y_resampled == 1]))"
   ]
  },
  {
   "cell_type": "code",
   "execution_count": null,
   "metadata": {
    "ExecuteTime": {
     "end_time": "2022-01-04T13:19:02.679856Z",
     "start_time": "2022-01-04T13:18:46.991Z"
    }
   },
   "outputs": [],
   "source": [
    "# Creación del modelo\n",
    "# ==============================================================================\n",
    "# Para no incluir ningún tipo de regularización en el modelo se indica\n",
    "# penalty='none'\n",
    "modelo = LogisticRegression(\n",
    "            penalty         = \"none\",\n",
    "            C               = 1.0,\n",
    "            fit_intercept   = True,\n",
    "            max_iter        = 1000,\n",
    "            n_jobs          = multiprocessing.cpu_count() - 1,\n",
    "            random_state    = 1234\n",
    "         )\n",
    "modelo.fit(X = X_resampled, y = y_resampled)"
   ]
  },
  {
   "cell_type": "code",
   "execution_count": null,
   "metadata": {
    "ExecuteTime": {
     "end_time": "2022-01-04T13:19:02.685889Z",
     "start_time": "2022-01-04T13:18:47.391Z"
    }
   },
   "outputs": [],
   "source": [
    "# Predicción\n",
    "# ==============================================================================\n",
    "predicciones = modelo.predict(X_test_prep)"
   ]
  },
  {
   "cell_type": "code",
   "execution_count": null,
   "metadata": {
    "ExecuteTime": {
     "end_time": "2022-01-04T13:19:02.689153Z",
     "start_time": "2022-01-04T13:18:47.895Z"
    }
   },
   "outputs": [],
   "source": [
    "# Report\n",
    "# ==============================================================================\n",
    "report_metrics(y_test, predicciones)"
   ]
  },
  {
   "cell_type": "code",
   "execution_count": null,
   "metadata": {
    "ExecuteTime": {
     "end_time": "2022-01-04T13:19:02.692252Z",
     "start_time": "2022-01-04T13:18:48.624Z"
    }
   },
   "outputs": [],
   "source": [
    "# Coeficientes del modelo\n",
    "# ==============================================================================\n",
    "df_coeficientes = pd.DataFrame(\n",
    "                        {'predictor': datos_train_prep.columns,\n",
    "                         'coef': modelo.coef_.flatten()}\n",
    "                  )\n",
    "\n",
    "fig, ax = plt.subplots(figsize=(11, 3.84))\n",
    "ax.stem(df_coeficientes.predictor, df_coeficientes.coef, markerfmt=' ')\n",
    "plt.xticks(rotation=90, ha='right', size=5)\n",
    "ax.set_xlabel('variable')\n",
    "ax.set_ylabel('coeficientes')\n",
    "ax.set_title('Coeficientes del modelo')\n",
    "plt.show();"
   ]
  },
  {
   "cell_type": "markdown",
   "metadata": {},
   "source": [
    "## Random Forest"
   ]
  },
  {
   "cell_type": "markdown",
   "metadata": {},
   "source": [
    "### Resampliing"
   ]
  },
  {
   "cell_type": "code",
   "execution_count": null,
   "metadata": {
    "ExecuteTime": {
     "end_time": "2022-01-04T13:19:02.696084Z",
     "start_time": "2022-01-04T13:18:52.601Z"
    }
   },
   "outputs": [],
   "source": [
    "modelo = RandomForestClassifier(\n",
    "                max_depth    = 7,\n",
    "                max_features = 10,\n",
    "                oob_score    = True,\n",
    "                n_jobs       = multiprocessing.cpu_count() - 1,\n",
    "                random_state = 123\n",
    "             )\n",
    "\n",
    "modelo.fit(X = X_resampled, y = y_resampled)"
   ]
  },
  {
   "cell_type": "code",
   "execution_count": null,
   "metadata": {
    "ExecuteTime": {
     "end_time": "2022-01-04T13:19:02.701202Z",
     "start_time": "2022-01-04T13:18:52.816Z"
    }
   },
   "outputs": [],
   "source": [
    "# Predicción\n",
    "# ==============================================================================\n",
    "predicciones = modelo.predict(X_test_prep)"
   ]
  },
  {
   "cell_type": "code",
   "execution_count": null,
   "metadata": {
    "ExecuteTime": {
     "end_time": "2022-01-04T13:19:02.706894Z",
     "start_time": "2022-01-04T13:18:53.005Z"
    }
   },
   "outputs": [],
   "source": [
    "# Report\n",
    "# ==============================================================================\n",
    "report_metrics(y_test, predicciones)"
   ]
  },
  {
   "cell_type": "code",
   "execution_count": null,
   "metadata": {
    "ExecuteTime": {
     "end_time": "2022-01-04T13:19:02.709478Z",
     "start_time": "2022-01-04T13:18:53.198Z"
    }
   },
   "outputs": [],
   "source": [
    "importancia_predictores = pd.DataFrame(\n",
    "                            {'predictor': datos_train_prep.columns,\n",
    "                             'importancia': modelo.feature_importances_}\n",
    "                            )\n",
    "print(\"Importancia de los predictores en el modelo\")\n",
    "print(\"-------------------------------------------\")\n",
    "importancia_predictores.sort_values('importancia', ascending=False)"
   ]
  },
  {
   "cell_type": "markdown",
   "metadata": {},
   "source": [
    "### Weighted"
   ]
  },
  {
   "cell_type": "code",
   "execution_count": null,
   "metadata": {
    "ExecuteTime": {
     "end_time": "2022-01-04T13:19:02.712530Z",
     "start_time": "2022-01-04T13:18:54.454Z"
    }
   },
   "outputs": [],
   "source": [
    "modelo = RandomForestClassifier(\n",
    "                max_depth    = 7,\n",
    "                max_features = 10,\n",
    "                oob_score    = True,    \n",
    "                class_weight = {0: 1, 1: 26},\n",
    "                n_jobs       = multiprocessing.cpu_count() - 1,\n",
    "                random_state = 123\n",
    "             )\n",
    "\n",
    "modelo.fit(X = X_train_prep, y = y_train)"
   ]
  },
  {
   "cell_type": "code",
   "execution_count": null,
   "metadata": {
    "ExecuteTime": {
     "end_time": "2022-01-04T13:19:02.715870Z",
     "start_time": "2022-01-04T13:18:54.746Z"
    }
   },
   "outputs": [],
   "source": [
    "# Predicción\n",
    "# ==============================================================================\n",
    "predicciones = modelo.predict(X_test_prep)"
   ]
  },
  {
   "cell_type": "code",
   "execution_count": null,
   "metadata": {
    "ExecuteTime": {
     "end_time": "2022-01-04T13:19:02.718829Z",
     "start_time": "2022-01-04T13:18:55.573Z"
    }
   },
   "outputs": [],
   "source": [
    "# Report\n",
    "# ==============================================================================\n",
    "report_metrics(y_test, predicciones)"
   ]
  },
  {
   "cell_type": "code",
   "execution_count": null,
   "metadata": {
    "ExecuteTime": {
     "end_time": "2022-01-04T13:19:02.721729Z",
     "start_time": "2022-01-04T13:18:56.623Z"
    }
   },
   "outputs": [],
   "source": [
    "importancia_predictores = pd.DataFrame(\n",
    "                            {'predictor': datos_train_prep.columns,\n",
    "                             'importancia': modelo.feature_importances_}\n",
    "                            )\n",
    "print(\"Importancia de los predictores en el modelo\")\n",
    "print(\"-------------------------------------------\")\n",
    "importancia_predictores.sort_values('importancia', ascending=False)"
   ]
  },
  {
   "cell_type": "markdown",
   "metadata": {},
   "source": [
    "### Grid Search CV Weighted"
   ]
  },
  {
   "cell_type": "code",
   "execution_count": null,
   "metadata": {
    "ExecuteTime": {
     "end_time": "2022-01-04T13:19:02.724688Z",
     "start_time": "2022-01-04T13:18:58.335Z"
    }
   },
   "outputs": [],
   "source": [
    "# Grid de hiperparámetros evaluados\n",
    "# ==============================================================================\n",
    "param_grid = {'n_estimators': [150],\n",
    "              'max_features': [5, 7, 9],\n",
    "              'max_depth'   : [None, 3, 10, 20],\n",
    "              'criterion'   : ['gini', 'entropy'],\n",
    "              'class_weight': [{0: 1, 1: 26}, \n",
    "                               {0: 1, 1: 15}, \n",
    "                               {0: 1, 1: 10}, \n",
    "                               {0: 1, 1: 1}],\n",
    "             }\n",
    "\n",
    "# Búsqueda por grid search con validación cruzada\n",
    "# ==============================================================================\n",
    "grid = GridSearchCV(\n",
    "        estimator  = RandomForestClassifier(random_state = 123),\n",
    "        param_grid = param_grid,\n",
    "        scoring    = 'roc_auc',\n",
    "        n_jobs     = multiprocessing.cpu_count() - 1,\n",
    "        cv         = StratifiedKFold(n_splits=5), \n",
    "        refit      = True,\n",
    "        verbose    = True,\n",
    "        return_train_score = True\n",
    "       )\n",
    "\n",
    "grid.fit(X = X_train_prep, y = y_train)\n",
    "\n",
    "# Resultados\n",
    "# ==============================================================================\n",
    "resultados = pd.DataFrame(grid.cv_results_)\n",
    "resultados.filter(regex = '(param*|mean_t|std_t)') \\\n",
    "    .drop(columns = 'params') \\\n",
    "    .sort_values('mean_test_score', ascending = False) \\\n",
    "    .head(4)"
   ]
  },
  {
   "cell_type": "code",
   "execution_count": null,
   "metadata": {
    "ExecuteTime": {
     "end_time": "2022-01-04T13:19:02.727656Z",
     "start_time": "2022-01-04T13:18:58.841Z"
    }
   },
   "outputs": [],
   "source": [
    "# Predicción\n",
    "# ==============================================================================\n",
    "predicciones = grid.best_estimator_.predict(X_test_prep)"
   ]
  },
  {
   "cell_type": "code",
   "execution_count": null,
   "metadata": {
    "ExecuteTime": {
     "end_time": "2022-01-04T12:52:51.063641Z",
     "start_time": "2022-01-04T12:52:51.017537Z"
    }
   },
   "outputs": [],
   "source": [
    "# Report\n",
    "# ==============================================================================\n",
    "print(grid.best_params_, \":\", grid.best_score_, grid.scoring)\n",
    "\n",
    "report_metrics(y_test, predicciones)"
   ]
  },
  {
   "cell_type": "code",
   "execution_count": null,
   "metadata": {
    "ExecuteTime": {
     "end_time": "2022-01-04T12:01:56.466620Z",
     "start_time": "2022-01-04T12:01:56.341867Z"
    }
   },
   "outputs": [],
   "source": [
    "importancia_predictores = pd.DataFrame(\n",
    "                            {'predictor': datos_train_prep.columns,\n",
    "                             'importancia': modelo.feature_importances_}\n",
    "                            )\n",
    "print(\"Importancia de los predictores en el modelo\")\n",
    "print(\"-------------------------------------------\")\n",
    "importancia_predictores.sort_values('importancia', ascending=False)"
   ]
  },
  {
   "cell_type": "code",
   "execution_count": null,
   "metadata": {
    "ExecuteTime": {
     "end_time": "2022-01-04T12:50:46.769830Z",
     "start_time": "2022-01-04T12:50:34.362466Z"
    }
   },
   "outputs": [],
   "source": [
    "modelo = RandomForestClassifier(\n",
    "                n_estimators = 150,\n",
    "                max_depth    = None,\n",
    "                max_features = 9,\n",
    "                criterion    = \"entropy\",\n",
    "                oob_score    = True,    \n",
    "                class_weight = {0: 1, 1: 26},\n",
    "                n_jobs       = multiprocessing.cpu_count() - 1,\n",
    "                random_state = 123\n",
    "             )\n",
    "\n",
    "modelo.fit(X = X_train_prep, y = y_train)"
   ]
  },
  {
   "cell_type": "code",
   "execution_count": null,
   "metadata": {
    "ExecuteTime": {
     "end_time": "2022-01-04T12:50:51.544928Z",
     "start_time": "2022-01-04T12:50:51.283205Z"
    }
   },
   "outputs": [],
   "source": [
    "# Predicción\n",
    "# ==============================================================================\n",
    "predicciones = modelo.predict(X_test_prep)\n",
    "\n",
    "# Report\n",
    "# ==============================================================================\n",
    "report_metrics(y_test, predicciones)"
   ]
  },
  {
   "cell_type": "markdown",
   "metadata": {},
   "source": [
    "### Grid Undersampling"
   ]
  },
  {
   "cell_type": "code",
   "execution_count": 24,
   "metadata": {
    "ExecuteTime": {
     "end_time": "2022-01-04T13:57:51.995705Z",
     "start_time": "2022-01-04T13:57:51.218782Z"
    }
   },
   "outputs": [],
   "source": [
    "# Under sampler\n",
    "# ==============================================================================\n",
    "X = datos_model.drop(\"label\", axis=1)\n",
    "y = datos_model['label']\n",
    "\n",
    "rus = RandomUnderSampler(random_state = 1234)\n",
    "X_resampled, y_resampled = rus.fit_resample(X, y)"
   ]
  },
  {
   "cell_type": "code",
   "execution_count": 25,
   "metadata": {
    "ExecuteTime": {
     "end_time": "2022-01-04T13:58:00.789201Z",
     "start_time": "2022-01-04T13:58:00.711835Z"
    }
   },
   "outputs": [],
   "source": [
    "# División de los datos en train y test\n",
    "# ==============================================================================\n",
    "X_train, X_test, y_train, y_test = train_test_split(\n",
    "                                        X,\n",
    "                                        y,\n",
    "                                        train_size   = 0.8,\n",
    "                                        random_state = 1234\n",
    "                                    )"
   ]
  },
  {
   "cell_type": "code",
   "execution_count": 30,
   "metadata": {
    "ExecuteTime": {
     "end_time": "2022-01-04T13:58:43.579755Z",
     "start_time": "2022-01-04T13:58:43.218758Z"
    }
   },
   "outputs": [],
   "source": [
    "# Preprocesado\n",
    "# ==============================================================================\n",
    "X_train_prep = preprocessor.fit_transform(X_train)\n",
    "X_test_prep  = preprocessor.transform(X_test)"
   ]
  },
  {
   "cell_type": "code",
   "execution_count": 31,
   "metadata": {
    "ExecuteTime": {
     "end_time": "2022-01-04T14:32:29.060237Z",
     "start_time": "2022-01-04T13:58:48.272393Z"
    }
   },
   "outputs": [
    {
     "name": "stdout",
     "output_type": "stream",
     "text": [
      "Fitting 5 folds for each of 24 candidates, totalling 120 fits\n"
     ]
    },
    {
     "ename": "KeyboardInterrupt",
     "evalue": "",
     "output_type": "error",
     "traceback": [
      "\u001b[0;31m---------------------------------------------------------------------------\u001b[0m",
      "\u001b[0;31mKeyboardInterrupt\u001b[0m                         Traceback (most recent call last)",
      "\u001b[0;32m<ipython-input-31-801ec6b5e69c>\u001b[0m in \u001b[0;36m<module>\u001b[0;34m\u001b[0m\n\u001b[1;32m     20\u001b[0m        )\n\u001b[1;32m     21\u001b[0m \u001b[0;34m\u001b[0m\u001b[0m\n\u001b[0;32m---> 22\u001b[0;31m \u001b[0mgrid\u001b[0m\u001b[0;34m.\u001b[0m\u001b[0mfit\u001b[0m\u001b[0;34m(\u001b[0m\u001b[0mX\u001b[0m \u001b[0;34m=\u001b[0m \u001b[0mX_train_prep\u001b[0m\u001b[0;34m,\u001b[0m \u001b[0my\u001b[0m \u001b[0;34m=\u001b[0m \u001b[0my_train\u001b[0m\u001b[0;34m)\u001b[0m\u001b[0;34m\u001b[0m\u001b[0;34m\u001b[0m\u001b[0m\n\u001b[0m\u001b[1;32m     23\u001b[0m \u001b[0;34m\u001b[0m\u001b[0m\n\u001b[1;32m     24\u001b[0m \u001b[0;31m# Resultados\u001b[0m\u001b[0;34m\u001b[0m\u001b[0;34m\u001b[0m\u001b[0;34m\u001b[0m\u001b[0m\n",
      "\u001b[0;32m~/anaconda3/envs/skforecast/lib/python3.7/site-packages/sklearn/model_selection/_search.py\u001b[0m in \u001b[0;36mfit\u001b[0;34m(self, X, y, groups, **fit_params)\u001b[0m\n\u001b[1;32m    889\u001b[0m                 \u001b[0;32mreturn\u001b[0m \u001b[0mresults\u001b[0m\u001b[0;34m\u001b[0m\u001b[0;34m\u001b[0m\u001b[0m\n\u001b[1;32m    890\u001b[0m \u001b[0;34m\u001b[0m\u001b[0m\n\u001b[0;32m--> 891\u001b[0;31m             \u001b[0mself\u001b[0m\u001b[0;34m.\u001b[0m\u001b[0m_run_search\u001b[0m\u001b[0;34m(\u001b[0m\u001b[0mevaluate_candidates\u001b[0m\u001b[0;34m)\u001b[0m\u001b[0;34m\u001b[0m\u001b[0;34m\u001b[0m\u001b[0m\n\u001b[0m\u001b[1;32m    892\u001b[0m \u001b[0;34m\u001b[0m\u001b[0m\n\u001b[1;32m    893\u001b[0m             \u001b[0;31m# multimetric is determined here because in the case of a callable\u001b[0m\u001b[0;34m\u001b[0m\u001b[0;34m\u001b[0m\u001b[0;34m\u001b[0m\u001b[0m\n",
      "\u001b[0;32m~/anaconda3/envs/skforecast/lib/python3.7/site-packages/sklearn/model_selection/_search.py\u001b[0m in \u001b[0;36m_run_search\u001b[0;34m(self, evaluate_candidates)\u001b[0m\n\u001b[1;32m   1390\u001b[0m     \u001b[0;32mdef\u001b[0m \u001b[0m_run_search\u001b[0m\u001b[0;34m(\u001b[0m\u001b[0mself\u001b[0m\u001b[0;34m,\u001b[0m \u001b[0mevaluate_candidates\u001b[0m\u001b[0;34m)\u001b[0m\u001b[0;34m:\u001b[0m\u001b[0;34m\u001b[0m\u001b[0;34m\u001b[0m\u001b[0m\n\u001b[1;32m   1391\u001b[0m         \u001b[0;34m\"\"\"Search all candidates in param_grid\"\"\"\u001b[0m\u001b[0;34m\u001b[0m\u001b[0;34m\u001b[0m\u001b[0m\n\u001b[0;32m-> 1392\u001b[0;31m         \u001b[0mevaluate_candidates\u001b[0m\u001b[0;34m(\u001b[0m\u001b[0mParameterGrid\u001b[0m\u001b[0;34m(\u001b[0m\u001b[0mself\u001b[0m\u001b[0;34m.\u001b[0m\u001b[0mparam_grid\u001b[0m\u001b[0;34m)\u001b[0m\u001b[0;34m)\u001b[0m\u001b[0;34m\u001b[0m\u001b[0;34m\u001b[0m\u001b[0m\n\u001b[0m\u001b[1;32m   1393\u001b[0m \u001b[0;34m\u001b[0m\u001b[0m\n\u001b[1;32m   1394\u001b[0m \u001b[0;34m\u001b[0m\u001b[0m\n",
      "\u001b[0;32m~/anaconda3/envs/skforecast/lib/python3.7/site-packages/sklearn/model_selection/_search.py\u001b[0m in \u001b[0;36mevaluate_candidates\u001b[0;34m(candidate_params, cv, more_results)\u001b[0m\n\u001b[1;32m    849\u001b[0m                     )\n\u001b[1;32m    850\u001b[0m                     for (cand_idx, parameters), (split_idx, (train, test)) in product(\n\u001b[0;32m--> 851\u001b[0;31m                         \u001b[0menumerate\u001b[0m\u001b[0;34m(\u001b[0m\u001b[0mcandidate_params\u001b[0m\u001b[0;34m)\u001b[0m\u001b[0;34m,\u001b[0m \u001b[0menumerate\u001b[0m\u001b[0;34m(\u001b[0m\u001b[0mcv\u001b[0m\u001b[0;34m.\u001b[0m\u001b[0msplit\u001b[0m\u001b[0;34m(\u001b[0m\u001b[0mX\u001b[0m\u001b[0;34m,\u001b[0m \u001b[0my\u001b[0m\u001b[0;34m,\u001b[0m \u001b[0mgroups\u001b[0m\u001b[0;34m)\u001b[0m\u001b[0;34m)\u001b[0m\u001b[0;34m\u001b[0m\u001b[0;34m\u001b[0m\u001b[0m\n\u001b[0m\u001b[1;32m    852\u001b[0m                     )\n\u001b[1;32m    853\u001b[0m                 )\n",
      "\u001b[0;32m~/anaconda3/envs/skforecast/lib/python3.7/site-packages/joblib/parallel.py\u001b[0m in \u001b[0;36m__call__\u001b[0;34m(self, iterable)\u001b[0m\n\u001b[1;32m   1054\u001b[0m \u001b[0;34m\u001b[0m\u001b[0m\n\u001b[1;32m   1055\u001b[0m             \u001b[0;32mwith\u001b[0m \u001b[0mself\u001b[0m\u001b[0;34m.\u001b[0m\u001b[0m_backend\u001b[0m\u001b[0;34m.\u001b[0m\u001b[0mretrieval_context\u001b[0m\u001b[0;34m(\u001b[0m\u001b[0;34m)\u001b[0m\u001b[0;34m:\u001b[0m\u001b[0;34m\u001b[0m\u001b[0;34m\u001b[0m\u001b[0m\n\u001b[0;32m-> 1056\u001b[0;31m                 \u001b[0mself\u001b[0m\u001b[0;34m.\u001b[0m\u001b[0mretrieve\u001b[0m\u001b[0;34m(\u001b[0m\u001b[0;34m)\u001b[0m\u001b[0;34m\u001b[0m\u001b[0;34m\u001b[0m\u001b[0m\n\u001b[0m\u001b[1;32m   1057\u001b[0m             \u001b[0;31m# Make sure that we get a last message telling us we are done\u001b[0m\u001b[0;34m\u001b[0m\u001b[0;34m\u001b[0m\u001b[0;34m\u001b[0m\u001b[0m\n\u001b[1;32m   1058\u001b[0m             \u001b[0melapsed_time\u001b[0m \u001b[0;34m=\u001b[0m \u001b[0mtime\u001b[0m\u001b[0;34m.\u001b[0m\u001b[0mtime\u001b[0m\u001b[0;34m(\u001b[0m\u001b[0;34m)\u001b[0m \u001b[0;34m-\u001b[0m \u001b[0mself\u001b[0m\u001b[0;34m.\u001b[0m\u001b[0m_start_time\u001b[0m\u001b[0;34m\u001b[0m\u001b[0;34m\u001b[0m\u001b[0m\n",
      "\u001b[0;32m~/anaconda3/envs/skforecast/lib/python3.7/site-packages/joblib/parallel.py\u001b[0m in \u001b[0;36mretrieve\u001b[0;34m(self)\u001b[0m\n\u001b[1;32m    933\u001b[0m             \u001b[0;32mtry\u001b[0m\u001b[0;34m:\u001b[0m\u001b[0;34m\u001b[0m\u001b[0;34m\u001b[0m\u001b[0m\n\u001b[1;32m    934\u001b[0m                 \u001b[0;32mif\u001b[0m \u001b[0mgetattr\u001b[0m\u001b[0;34m(\u001b[0m\u001b[0mself\u001b[0m\u001b[0;34m.\u001b[0m\u001b[0m_backend\u001b[0m\u001b[0;34m,\u001b[0m \u001b[0;34m'supports_timeout'\u001b[0m\u001b[0;34m,\u001b[0m \u001b[0;32mFalse\u001b[0m\u001b[0;34m)\u001b[0m\u001b[0;34m:\u001b[0m\u001b[0;34m\u001b[0m\u001b[0;34m\u001b[0m\u001b[0m\n\u001b[0;32m--> 935\u001b[0;31m                     \u001b[0mself\u001b[0m\u001b[0;34m.\u001b[0m\u001b[0m_output\u001b[0m\u001b[0;34m.\u001b[0m\u001b[0mextend\u001b[0m\u001b[0;34m(\u001b[0m\u001b[0mjob\u001b[0m\u001b[0;34m.\u001b[0m\u001b[0mget\u001b[0m\u001b[0;34m(\u001b[0m\u001b[0mtimeout\u001b[0m\u001b[0;34m=\u001b[0m\u001b[0mself\u001b[0m\u001b[0;34m.\u001b[0m\u001b[0mtimeout\u001b[0m\u001b[0;34m)\u001b[0m\u001b[0;34m)\u001b[0m\u001b[0;34m\u001b[0m\u001b[0;34m\u001b[0m\u001b[0m\n\u001b[0m\u001b[1;32m    936\u001b[0m                 \u001b[0;32melse\u001b[0m\u001b[0;34m:\u001b[0m\u001b[0;34m\u001b[0m\u001b[0;34m\u001b[0m\u001b[0m\n\u001b[1;32m    937\u001b[0m                     \u001b[0mself\u001b[0m\u001b[0;34m.\u001b[0m\u001b[0m_output\u001b[0m\u001b[0;34m.\u001b[0m\u001b[0mextend\u001b[0m\u001b[0;34m(\u001b[0m\u001b[0mjob\u001b[0m\u001b[0;34m.\u001b[0m\u001b[0mget\u001b[0m\u001b[0;34m(\u001b[0m\u001b[0;34m)\u001b[0m\u001b[0;34m)\u001b[0m\u001b[0;34m\u001b[0m\u001b[0;34m\u001b[0m\u001b[0m\n",
      "\u001b[0;32m~/anaconda3/envs/skforecast/lib/python3.7/site-packages/joblib/_parallel_backends.py\u001b[0m in \u001b[0;36mwrap_future_result\u001b[0;34m(future, timeout)\u001b[0m\n\u001b[1;32m    540\u001b[0m         AsyncResults.get from multiprocessing.\"\"\"\n\u001b[1;32m    541\u001b[0m         \u001b[0;32mtry\u001b[0m\u001b[0;34m:\u001b[0m\u001b[0;34m\u001b[0m\u001b[0;34m\u001b[0m\u001b[0m\n\u001b[0;32m--> 542\u001b[0;31m             \u001b[0;32mreturn\u001b[0m \u001b[0mfuture\u001b[0m\u001b[0;34m.\u001b[0m\u001b[0mresult\u001b[0m\u001b[0;34m(\u001b[0m\u001b[0mtimeout\u001b[0m\u001b[0;34m=\u001b[0m\u001b[0mtimeout\u001b[0m\u001b[0;34m)\u001b[0m\u001b[0;34m\u001b[0m\u001b[0;34m\u001b[0m\u001b[0m\n\u001b[0m\u001b[1;32m    543\u001b[0m         \u001b[0;32mexcept\u001b[0m \u001b[0mCfTimeoutError\u001b[0m \u001b[0;32mas\u001b[0m \u001b[0me\u001b[0m\u001b[0;34m:\u001b[0m\u001b[0;34m\u001b[0m\u001b[0;34m\u001b[0m\u001b[0m\n\u001b[1;32m    544\u001b[0m             \u001b[0;32mraise\u001b[0m \u001b[0mTimeoutError\u001b[0m \u001b[0;32mfrom\u001b[0m \u001b[0me\u001b[0m\u001b[0;34m\u001b[0m\u001b[0;34m\u001b[0m\u001b[0m\n",
      "\u001b[0;32m~/anaconda3/envs/skforecast/lib/python3.7/concurrent/futures/_base.py\u001b[0m in \u001b[0;36mresult\u001b[0;34m(self, timeout)\u001b[0m\n\u001b[1;32m    428\u001b[0m                 \u001b[0;32mreturn\u001b[0m \u001b[0mself\u001b[0m\u001b[0;34m.\u001b[0m\u001b[0m__get_result\u001b[0m\u001b[0;34m(\u001b[0m\u001b[0;34m)\u001b[0m\u001b[0;34m\u001b[0m\u001b[0;34m\u001b[0m\u001b[0m\n\u001b[1;32m    429\u001b[0m \u001b[0;34m\u001b[0m\u001b[0m\n\u001b[0;32m--> 430\u001b[0;31m             \u001b[0mself\u001b[0m\u001b[0;34m.\u001b[0m\u001b[0m_condition\u001b[0m\u001b[0;34m.\u001b[0m\u001b[0mwait\u001b[0m\u001b[0;34m(\u001b[0m\u001b[0mtimeout\u001b[0m\u001b[0;34m)\u001b[0m\u001b[0;34m\u001b[0m\u001b[0;34m\u001b[0m\u001b[0m\n\u001b[0m\u001b[1;32m    431\u001b[0m \u001b[0;34m\u001b[0m\u001b[0m\n\u001b[1;32m    432\u001b[0m             \u001b[0;32mif\u001b[0m \u001b[0mself\u001b[0m\u001b[0;34m.\u001b[0m\u001b[0m_state\u001b[0m \u001b[0;32min\u001b[0m \u001b[0;34m[\u001b[0m\u001b[0mCANCELLED\u001b[0m\u001b[0;34m,\u001b[0m \u001b[0mCANCELLED_AND_NOTIFIED\u001b[0m\u001b[0;34m]\u001b[0m\u001b[0;34m:\u001b[0m\u001b[0;34m\u001b[0m\u001b[0;34m\u001b[0m\u001b[0m\n",
      "\u001b[0;32m~/anaconda3/envs/skforecast/lib/python3.7/threading.py\u001b[0m in \u001b[0;36mwait\u001b[0;34m(self, timeout)\u001b[0m\n\u001b[1;32m    294\u001b[0m         \u001b[0;32mtry\u001b[0m\u001b[0;34m:\u001b[0m    \u001b[0;31m# restore state no matter what (e.g., KeyboardInterrupt)\u001b[0m\u001b[0;34m\u001b[0m\u001b[0;34m\u001b[0m\u001b[0m\n\u001b[1;32m    295\u001b[0m             \u001b[0;32mif\u001b[0m \u001b[0mtimeout\u001b[0m \u001b[0;32mis\u001b[0m \u001b[0;32mNone\u001b[0m\u001b[0;34m:\u001b[0m\u001b[0;34m\u001b[0m\u001b[0;34m\u001b[0m\u001b[0m\n\u001b[0;32m--> 296\u001b[0;31m                 \u001b[0mwaiter\u001b[0m\u001b[0;34m.\u001b[0m\u001b[0macquire\u001b[0m\u001b[0;34m(\u001b[0m\u001b[0;34m)\u001b[0m\u001b[0;34m\u001b[0m\u001b[0;34m\u001b[0m\u001b[0m\n\u001b[0m\u001b[1;32m    297\u001b[0m                 \u001b[0mgotit\u001b[0m \u001b[0;34m=\u001b[0m \u001b[0;32mTrue\u001b[0m\u001b[0;34m\u001b[0m\u001b[0;34m\u001b[0m\u001b[0m\n\u001b[1;32m    298\u001b[0m             \u001b[0;32melse\u001b[0m\u001b[0;34m:\u001b[0m\u001b[0;34m\u001b[0m\u001b[0;34m\u001b[0m\u001b[0m\n",
      "\u001b[0;31mKeyboardInterrupt\u001b[0m: "
     ]
    }
   ],
   "source": [
    "# Grid de hiperparámetros evaluados\n",
    "# ==============================================================================\n",
    "param_grid = {'n_estimators': [500, 750, 1000],\n",
    "              'max_features': [7, 9],\n",
    "              'max_depth'   : [3, 10],\n",
    "              'criterion'   : ['gini', 'entropy'],\n",
    "             }\n",
    "\n",
    "# Búsqueda por grid search con validación cruzada\n",
    "# ==============================================================================\n",
    "grid = GridSearchCV(\n",
    "        estimator  = RandomForestClassifier(random_state = 123),\n",
    "        param_grid = param_grid,\n",
    "        scoring    = 'roc_auc',\n",
    "        n_jobs     = multiprocessing.cpu_count() - 1,\n",
    "        cv         = StratifiedKFold(n_splits=5), \n",
    "        refit      = True,\n",
    "        verbose    = True,\n",
    "        return_train_score = True\n",
    "       )\n",
    "\n",
    "grid.fit(X = X_train_prep, y = y_train)\n",
    "\n",
    "# Resultados\n",
    "# ==============================================================================\n",
    "resultados = pd.DataFrame(grid.cv_results_)\n",
    "resultados.filter(regex = '(param*|mean_t|std_t)') \\\n",
    "    .drop(columns = 'params') \\\n",
    "    .sort_values('mean_test_score', ascending = False) \\\n",
    "    .head(4)"
   ]
  },
  {
   "cell_type": "code",
   "execution_count": null,
   "metadata": {
    "ExecuteTime": {
     "end_time": "2022-01-04T13:09:13.127428Z",
     "start_time": "2022-01-04T13:09:10.007199Z"
    }
   },
   "outputs": [],
   "source": [
    "# Predicción\n",
    "# ==============================================================================\n",
    "predicciones = grid.best_estimator_.predict(X_test_prep)"
   ]
  },
  {
   "cell_type": "code",
   "execution_count": null,
   "metadata": {
    "ExecuteTime": {
     "end_time": "2022-01-04T13:09:27.141406Z",
     "start_time": "2022-01-04T13:09:27.004519Z"
    }
   },
   "outputs": [],
   "source": [
    "# Report\n",
    "# ==============================================================================\n",
    "print(grid.best_params_, \":\", grid.best_score_, grid.scoring)\n",
    "\n",
    "report_metrics(y_test, predicciones)"
   ]
  },
  {
   "cell_type": "code",
   "execution_count": null,
   "metadata": {
    "ExecuteTime": {
     "end_time": "2022-01-04T13:11:15.289670Z",
     "start_time": "2022-01-04T13:11:14.826375Z"
    }
   },
   "outputs": [],
   "source": [
    "importancia_predictores = pd.DataFrame(\n",
    "                            {'predictor': datos_train_prep.columns,\n",
    "                             'importancia': modelo.feature_importances_}\n",
    "                            )\n",
    "print(\"Importancia de los predictores en el modelo\")\n",
    "print(\"-------------------------------------------\")\n",
    "importancia_predictores.sort_values('importancia', ascending=False)"
   ]
  },
  {
   "cell_type": "markdown",
   "metadata": {},
   "source": [
    "## Best RF"
   ]
  },
  {
   "cell_type": "code",
   "execution_count": null,
   "metadata": {
    "ExecuteTime": {
     "end_time": "2022-01-04T13:46:53.077791Z",
     "start_time": "2022-01-04T13:46:52.337959Z"
    }
   },
   "outputs": [],
   "source": [
    "# Under sampler\n",
    "# ==============================================================================\n",
    "X = datos_model.drop(\"label\", axis=1)\n",
    "y = datos_model['label']\n",
    "\n",
    "rus = RandomUnderSampler(random_state = 1234)\n",
    "X_resampled, y_resampled = rus.fit_resample(X, y)"
   ]
  },
  {
   "cell_type": "code",
   "execution_count": null,
   "metadata": {
    "ExecuteTime": {
     "end_time": "2022-01-04T13:46:53.628009Z",
     "start_time": "2022-01-04T13:46:53.575582Z"
    }
   },
   "outputs": [],
   "source": [
    "X_resampled_prep = preprocessor.fit_transform(X_resampled)"
   ]
  },
  {
   "cell_type": "code",
   "execution_count": null,
   "metadata": {
    "ExecuteTime": {
     "end_time": "2022-01-04T13:46:56.705995Z",
     "start_time": "2022-01-04T13:46:54.101173Z"
    }
   },
   "outputs": [],
   "source": [
    "modelo_final = RandomForestClassifier(\n",
    "                        n_estimators = 1000,\n",
    "                        max_depth    = 10,\n",
    "                        max_features = 9,\n",
    "                        criterion    = \"gini\",   \n",
    "                        n_jobs       = multiprocessing.cpu_count() - 1,\n",
    "                        random_state = 123\n",
    "                     )\n",
    "\n",
    "modelo_final.fit(X = X_resampled_prep, y = y_resampled)"
   ]
  },
  {
   "cell_type": "markdown",
   "metadata": {},
   "source": [
    "## LogisticRegression con penalización"
   ]
  },
  {
   "cell_type": "markdown",
   "metadata": {},
   "source": [
    "### Ridge"
   ]
  },
  {
   "cell_type": "code",
   "execution_count": null,
   "metadata": {
    "ExecuteTime": {
     "end_time": "2022-01-04T10:54:50.601320Z",
     "start_time": "2022-01-04T10:54:46.523614Z"
    }
   },
   "outputs": [],
   "source": [
    "# Creación y entrenamiento del modelo (con búsqueda por CV del valor óptimo alpha)\n",
    "# ==============================================================================\n",
    "modelo = RidgeClassifierCV(\n",
    "            alphas          = np.logspace(-10, 2, 200),\n",
    "            fit_intercept   = True,\n",
    "            store_cv_values = True\n",
    "         )\n",
    "\n",
    "modelo.fit(X = X_train_prep, y = y_train)"
   ]
  },
  {
   "cell_type": "code",
   "execution_count": null,
   "metadata": {
    "ExecuteTime": {
     "end_time": "2022-01-03T16:22:47.735272Z",
     "start_time": "2022-01-03T16:22:12.302606Z"
    }
   },
   "outputs": [],
   "source": [
    "# Evolución de los coeficientes en función de alpha\n",
    "# ==============================================================================\n",
    "alphas = modelo.alphas\n",
    "coefs = []\n",
    "scores = []\n",
    "\n",
    "for alpha in alphas:\n",
    "    modelo_temp = RidgeClassifier(alpha=alpha, fit_intercept=True)\n",
    "    modelo_temp.fit(X_train_prep, y_train)\n",
    "    coefs.append(modelo_temp.coef_.flatten())\n",
    "    scores.append(modelo_temp.score(X_test_prep, y_test))\n",
    "\n",
    "# fig, ax = plt.subplots(figsize=(7, 3.84))\n",
    "# ax.plot(alphas, coefs)\n",
    "# ax.set_xscale('log')\n",
    "# ax.set_xlabel('alpha')\n",
    "# ax.set_ylabel('coeficientes')\n",
    "# ax.set_title('Coeficientes del modelo en función de la regularización');\n",
    "# plt.axis('tight')\n",
    "# plt.show()"
   ]
  },
  {
   "cell_type": "code",
   "execution_count": null,
   "metadata": {
    "ExecuteTime": {
     "end_time": "2022-01-03T16:25:56.502739Z",
     "start_time": "2022-01-03T16:25:55.802101Z"
    }
   },
   "outputs": [],
   "source": [
    "fig, axes = plt.subplots(nrows=2, ncols=1, figsize=(15, 10))\n",
    "axes = axes.flat\n",
    "\n",
    "axes[0].plot(alphas, coefs)\n",
    "axes[0].set_xscale('log')\n",
    "axes[0].set_xlabel('alpha')\n",
    "axes[0].set_ylabel('coeficientes')\n",
    "axes[0].set_title('Coeficientes del modelo en función de la regularización')\n",
    "\n",
    "axes[1].plot(alphas, scores)\n",
    "axes[1].set_xscale('log')\n",
    "axes[1].set_xlabel('scores')\n",
    "axes[1].set_ylabel('scores')\n",
    "axes[1].set_title('scores del modelo en función de la regularización')\n",
    "axes[1].set_ylim(0.95, 0.98)\n",
    "\n",
    "fig.tight_layout()\n",
    "plt.subplots_adjust(top=0.90)\n",
    "fig.suptitle('Distribución variables cualitativas',\n",
    "             fontsize = 20, fontweight = \"bold\")\n",
    "plt.show();"
   ]
  },
  {
   "cell_type": "code",
   "execution_count": null,
   "metadata": {
    "ExecuteTime": {
     "end_time": "2022-01-03T15:21:10.612043Z",
     "start_time": "2022-01-03T15:21:10.522283Z"
    }
   },
   "outputs": [],
   "source": [
    "# Predicción\n",
    "# ==============================================================================\n",
    "predicciones = modelo.predict(X_test_prep)"
   ]
  },
  {
   "cell_type": "code",
   "execution_count": null,
   "metadata": {
    "ExecuteTime": {
     "end_time": "2022-01-03T17:43:51.735099Z",
     "start_time": "2022-01-03T17:43:51.687681Z"
    }
   },
   "outputs": [],
   "source": [
    "print(\"Porcentaje de la clase mayoritaria: \", 100 * datos_model_raw['label'].value_counts(normalize=True)[0],\"%\")\n",
    "\n",
    "accuracy = accuracy_score(\n",
    "            y_true    = y_test,\n",
    "            y_pred    = predicciones,\n",
    "            normalize = True\n",
    "           )\n",
    "print(\"\")\n",
    "print(f\"El accuracy de test es: {100*accuracy} %\")\n",
    "\n",
    "balanced_accuracy = balanced_accuracy_score(\n",
    "                        y_true    = y_test,\n",
    "                        y_pred    = predicciones,\n",
    "                        adjusted  = True\n",
    "           )\n",
    "print(\"\")\n",
    "print(f\"El balanced accuracy de test es: {100*balanced_accuracy} %\")"
   ]
  },
  {
   "cell_type": "code",
   "execution_count": null,
   "metadata": {
    "ExecuteTime": {
     "end_time": "2022-01-03T16:26:02.252679Z",
     "start_time": "2022-01-03T16:26:02.192192Z"
    }
   },
   "outputs": [],
   "source": [
    "# Matriz de confusión de las predicciones de test\n",
    "# ==============================================================================\n",
    "df_predicciones = pd.DataFrame({\"predicciones\": predicciones, \"label\": y_test})\n",
    "\n",
    "confusion_matrix = pd.crosstab(\n",
    "    df_predicciones.label,\n",
    "    df_predicciones.predicciones,\n",
    "    rownames=['Real'],\n",
    "    colnames=['Predicción']\n",
    ")\n",
    "confusion_matrix"
   ]
  },
  {
   "cell_type": "markdown",
   "metadata": {},
   "source": [
    "### Logistic Regression L1"
   ]
  },
  {
   "cell_type": "code",
   "execution_count": null,
   "metadata": {
    "ExecuteTime": {
     "end_time": "2022-01-03T17:25:24.168236Z",
     "start_time": "2022-01-03T17:25:07.259375Z"
    }
   },
   "outputs": [],
   "source": [
    "# Creación y entrenamiento del modelo \n",
    "# ==============================================================================\n",
    "modelo = LogisticRegressionCV(\n",
    "            penalty         = \"l1\",\n",
    "            Cs              = np.logspace(-4, 4, 10),\n",
    "            fit_intercept   = True,\n",
    "            cv              = 3,\n",
    "            scoring         = \"balanced_accuracy\",\n",
    "            solver          = \"saga\",\n",
    "            refit           = True,\n",
    "            max_iter        = 10,\n",
    "            n_jobs          = multiprocessing.cpu_count() - 1,\n",
    "            verbose         = True\n",
    "         )\n",
    "\n",
    "modelo.fit(X = X_train_prep, y = y_train)"
   ]
  },
  {
   "cell_type": "code",
   "execution_count": null,
   "metadata": {
    "ExecuteTime": {
     "end_time": "2022-01-03T17:27:36.453737Z",
     "start_time": "2022-01-03T17:25:28.365564Z"
    }
   },
   "outputs": [],
   "source": [
    "# Evolución de los coeficientes en función de C\n",
    "# ==============================================================================\n",
    "cs = modelo.Cs_\n",
    "coefs = []\n",
    "scores = []\n",
    "\n",
    "for c in cs:\n",
    "    modelo_temp = LogisticRegression(\n",
    "            penalty         = \"l1\",\n",
    "            C               = c,\n",
    "            fit_intercept   = True,\n",
    "            solver          = \"saga\",\n",
    "            max_iter=100,\n",
    "            n_jobs          = multiprocessing.cpu_count() - 1,\n",
    "         )\n",
    "    modelo_temp.fit(X_train_prep, y_train)\n",
    "    coefs.append(modelo_temp.coef_.flatten())\n",
    "    predicciones_temp = modelo.predict(X_test_prep)\n",
    "    balanced_accuracy = balanced_accuracy_score(\n",
    "                        y_true    = y_test,\n",
    "                        y_pred    = predicciones_temp,\n",
    "                        adjusted  = True\n",
    "           )\n",
    "    scores.append(balanced_accuracy)\n",
    "\n",
    "# fig, ax = plt.subplots(figsize=(7, 3.84))\n",
    "# ax.plot(alphas, coefs)\n",
    "# ax.set_xscale('log')\n",
    "# ax.set_xlabel('alpha')\n",
    "# ax.set_ylabel('coeficientes')\n",
    "# ax.set_title('Coeficientes del modelo en función de la regularización');\n",
    "# plt.axis('tight')\n",
    "# plt.show()"
   ]
  },
  {
   "cell_type": "code",
   "execution_count": null,
   "metadata": {
    "ExecuteTime": {
     "end_time": "2022-01-03T17:31:42.991443Z",
     "start_time": "2022-01-03T17:31:40.804113Z"
    }
   },
   "outputs": [],
   "source": [
    "fig, axes = plt.subplots(nrows=2, ncols=1, figsize=(15, 10))\n",
    "axes = axes.flat\n",
    "\n",
    "axes[0].plot(cs, coefs)\n",
    "axes[0].set_xscale('log')\n",
    "axes[0].set_xlabel('C')\n",
    "axes[0].set_ylabel('coeficientes')\n",
    "axes[0].set_title('Coeficientes del modelo en función de la regularización')\n",
    "\n",
    "axes[1].plot(cs, scores)\n",
    "axes[1].set_xscale('log')\n",
    "axes[1].set_xlabel('C')\n",
    "axes[1].set_ylabel('scores')\n",
    "axes[1].set_title('scores del modelo en función de la regularización')\n",
    "# axes[1].set_ylim(0.95, 0.98)\n",
    "\n",
    "fig.tight_layout()\n",
    "plt.subplots_adjust(top=0.90)\n",
    "fig.suptitle('Distribución variables cualitativas',\n",
    "             fontsize = 20, fontweight = \"bold\")\n",
    "plt.show();"
   ]
  },
  {
   "cell_type": "markdown",
   "metadata": {},
   "source": [
    "### Logistic Regression L2"
   ]
  },
  {
   "cell_type": "code",
   "execution_count": null,
   "metadata": {},
   "outputs": [],
   "source": [
    "# Creación y entrenamiento del modelo \n",
    "# ==============================================================================\n",
    "modelo = LogisticRegressionCV(\n",
    "            penalty         = \"l2\",\n",
    "            Cs              = np.logspace(-4, 4, 10),\n",
    "            fit_intercept   = True,\n",
    "            cv              = 3,\n",
    "            scoring         = \"balanced_accuracy_score\",\n",
    "            solver          = \"saga\",\n",
    "            refit           = True,\n",
    "            n_jobs          = multiprocessing.cpu_count() - 1,\n",
    "            max_iter        = 1000,\n",
    "            verbose         = True\n",
    "         )\n",
    "\n",
    "modelo.fit(X = X_train_prep, y = y_train)"
   ]
  },
  {
   "cell_type": "code",
   "execution_count": null,
   "metadata": {
    "ExecuteTime": {
     "end_time": "2022-01-03T17:48:26.253594Z",
     "start_time": "2022-01-03T17:46:29.730342Z"
    }
   },
   "outputs": [],
   "source": [
    "# Evolución de los coeficientes en función de C\n",
    "# ==============================================================================\n",
    "cs = np.logspace(-4, 4, 10)\n",
    "coefs = []\n",
    "scores = []\n",
    "\n",
    "for c in cs:\n",
    "    modelo_temp = LogisticRegression(\n",
    "            penalty         = \"l2\",\n",
    "            C               = c,\n",
    "            fit_intercept   = True,\n",
    "            solver          = \"saga\",\n",
    "            max_iter        = 1000,\n",
    "            n_jobs          = multiprocessing.cpu_count() - 1,\n",
    "         )\n",
    "    modelo_temp.fit(X_train_prep, y_train)\n",
    "    coefs.append(modelo_temp.coef_.flatten())\n",
    "    predicciones_temp = modelo.predict(X_test_prep)\n",
    "    balanced_accuracy = balanced_accuracy_score(\n",
    "                        y_true    = y_test,\n",
    "                        y_pred    = predicciones_temp,\n",
    "                        adjusted  = True\n",
    "           )\n",
    "    scores.append(balanced_accuracy)"
   ]
  },
  {
   "cell_type": "code",
   "execution_count": null,
   "metadata": {
    "ExecuteTime": {
     "end_time": "2022-01-03T17:48:31.018853Z",
     "start_time": "2022-01-03T17:48:30.450354Z"
    }
   },
   "outputs": [],
   "source": [
    "fig, axes = plt.subplots(nrows=2, ncols=1, figsize=(15, 10))\n",
    "axes = axes.flat\n",
    "\n",
    "axes[0].plot(cs, coefs)\n",
    "axes[0].set_xscale('log')\n",
    "axes[0].set_xlabel('C')\n",
    "axes[0].set_ylabel('coeficientes')\n",
    "axes[0].set_title('Coeficientes del modelo en función de la regularización')\n",
    "\n",
    "axes[1].plot(cs, scores)\n",
    "axes[1].set_xscale('log')\n",
    "axes[1].set_xlabel('C')\n",
    "axes[1].set_ylabel('scores')\n",
    "axes[1].set_title('scores del modelo en función de la regularización')\n",
    "# axes[1].set_ylim(0.95, 0.98)\n",
    "\n",
    "fig.tight_layout()\n",
    "plt.subplots_adjust(top=0.90)\n",
    "fig.suptitle('Distribución variables cualitativas',\n",
    "             fontsize = 20, fontweight = \"bold\")\n",
    "plt.show();"
   ]
  },
  {
   "cell_type": "code",
   "execution_count": null,
   "metadata": {},
   "outputs": [],
   "source": []
  },
  {
   "cell_type": "code",
   "execution_count": null,
   "metadata": {
    "ExecuteTime": {
     "end_time": "2022-01-03T17:53:30.841102Z",
     "start_time": "2022-01-03T17:50:53.258567Z"
    }
   },
   "outputs": [],
   "source": [
    "modelo = LogisticRegression(\n",
    "            penalty         = \"elasticnet\",\n",
    "            C               = 1,\n",
    "            fit_intercept   = True,\n",
    "            solver          = \"saga\",\n",
    "            max_iter        = 1000,\n",
    "            n_jobs          = multiprocessing.cpu_count() - 1,\n",
    "            l1_ratio = 0.5\n",
    "         )\n",
    "modelo.fit(X = X_train_prep, y = y_train)"
   ]
  },
  {
   "cell_type": "code",
   "execution_count": null,
   "metadata": {
    "ExecuteTime": {
     "end_time": "2022-01-03T17:54:24.554149Z",
     "start_time": "2022-01-03T17:54:24.536379Z"
    }
   },
   "outputs": [],
   "source": [
    "predicciones = modelo.predict(X_test_prep)\n",
    "balanced_accuracy = balanced_accuracy_score(\n",
    "                    y_true    = y_test,\n",
    "                    y_pred    = predicciones,\n",
    "                    adjusted  = True\n",
    "       )\n",
    "balanced_accuracy"
   ]
  },
  {
   "cell_type": "code",
   "execution_count": null,
   "metadata": {},
   "outputs": [],
   "source": []
  },
  {
   "cell_type": "markdown",
   "metadata": {},
   "source": [
    "# Datos predicción"
   ]
  },
  {
   "cell_type": "code",
   "execution_count": null,
   "metadata": {
    "ExecuteTime": {
     "end_time": "2022-01-04T13:30:09.001024Z",
     "start_time": "2022-01-04T13:30:07.494936Z"
    }
   },
   "outputs": [],
   "source": [
    "zip_file = zipfile.ZipFile(r\"./Archive.zip\")\n",
    "datos_pred_raw = pd.read_csv(zip_file.open(\"datos_para_prediccion.csv\"))"
   ]
  },
  {
   "cell_type": "code",
   "execution_count": null,
   "metadata": {
    "ExecuteTime": {
     "end_time": "2022-01-04T13:40:56.110339Z",
     "start_time": "2022-01-04T13:40:56.059241Z"
    }
   },
   "outputs": [],
   "source": [
    "datos_pred_raw"
   ]
  },
  {
   "cell_type": "code",
   "execution_count": null,
   "metadata": {
    "ExecuteTime": {
     "end_time": "2022-01-04T13:41:52.299445Z",
     "start_time": "2022-01-04T13:41:52.272108Z"
    }
   },
   "outputs": [],
   "source": [
    "datos_pred = datos_pred_raw[numeric_cols + cat_cols]\n",
    "datos_pred[\"var_174\"] = datos_pred[\"var_174\"].fillna(value=\"RESTO\")"
   ]
  },
  {
   "cell_type": "code",
   "execution_count": null,
   "metadata": {
    "ExecuteTime": {
     "end_time": "2022-01-04T13:47:20.873491Z",
     "start_time": "2022-01-04T13:47:20.652100Z"
    }
   },
   "outputs": [],
   "source": [
    "X_test_prep = preprocessor.transform(datos_pred)"
   ]
  },
  {
   "cell_type": "code",
   "execution_count": null,
   "metadata": {
    "ExecuteTime": {
     "end_time": "2022-01-04T13:47:25.848883Z",
     "start_time": "2022-01-04T13:47:21.992296Z"
    }
   },
   "outputs": [],
   "source": [
    "# Predicción\n",
    "# ==============================================================================\n",
    "predicciones = modelo_final.predict(X_test_prep)\n",
    "np.unique(predicciones, return_counts=True)"
   ]
  },
  {
   "cell_type": "code",
   "execution_count": null,
   "metadata": {},
   "outputs": [],
   "source": []
  },
  {
   "cell_type": "code",
   "execution_count": null,
   "metadata": {},
   "outputs": [],
   "source": []
  },
  {
   "cell_type": "code",
   "execution_count": null,
   "metadata": {},
   "outputs": [],
   "source": []
  },
  {
   "cell_type": "code",
   "execution_count": null,
   "metadata": {},
   "outputs": [],
   "source": []
  }
 ],
 "metadata": {
  "kernelspec": {
   "display_name": "skforecast",
   "language": "python",
   "name": "skforecast"
  },
  "language_info": {
   "codemirror_mode": {
    "name": "ipython",
    "version": 3
   },
   "file_extension": ".py",
   "mimetype": "text/x-python",
   "name": "python",
   "nbconvert_exporter": "python",
   "pygments_lexer": "ipython3",
   "version": "3.8.0"
  },
  "toc": {
   "base_numbering": "0",
   "nav_menu": {},
   "number_sections": true,
   "sideBar": true,
   "skip_h1_title": false,
   "title_cell": "Table of Contents",
   "title_sidebar": "Contents",
   "toc_cell": false,
   "toc_position": {
    "height": "calc(100% - 180px)",
    "left": "10px",
    "top": "150px",
    "width": "165px"
   },
   "toc_section_display": true,
   "toc_window_display": true
  },
  "varInspector": {
   "cols": {
    "lenName": 16,
    "lenType": 16,
    "lenVar": 40
   },
   "kernels_config": {
    "python": {
     "delete_cmd_postfix": "",
     "delete_cmd_prefix": "del ",
     "library": "var_list.py",
     "varRefreshCmd": "print(var_dic_list())"
    },
    "r": {
     "delete_cmd_postfix": ") ",
     "delete_cmd_prefix": "rm(",
     "library": "var_list.r",
     "varRefreshCmd": "cat(var_dic_list()) "
    }
   },
   "types_to_exclude": [
    "module",
    "function",
    "builtin_function_or_method",
    "instance",
    "_Feature"
   ],
   "window_display": false
  }
 },
 "nbformat": 4,
 "nbformat_minor": 4
}
