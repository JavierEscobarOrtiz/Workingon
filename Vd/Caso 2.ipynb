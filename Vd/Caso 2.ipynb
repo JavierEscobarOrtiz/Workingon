{
 "cells": [
  {
   "cell_type": "markdown",
   "metadata": {
    "ExecuteTime": {
     "end_time": "2021-12-21T15:33:47.564855Z",
     "start_time": "2021-12-21T15:33:45.515575Z"
    }
   },
   "source": [
    "# Librerias"
   ]
  },
  {
   "cell_type": "code",
   "execution_count": 293,
   "metadata": {
    "ExecuteTime": {
     "end_time": "2022-01-03T16:56:04.375986Z",
     "start_time": "2022-01-03T16:56:04.354968Z"
    }
   },
   "outputs": [],
   "source": [
    "# Tratamiento de datos\n",
    "# ==============================================================================\n",
    "import pandas as pd\n",
    "import numpy as np\n",
    "import zipfile\n",
    "\n",
    "# Gráficos\n",
    "# ==============================================================================\n",
    "import matplotlib.pyplot as plt\n",
    "from matplotlib import style\n",
    "import seaborn as sns\n",
    "\n",
    "# Configuración matplotlib\n",
    "# ==============================================================================\n",
    "plt.rcParams['image.cmap'] = \"bwr\"\n",
    "#plt.rcParams['figure.dpi'] = \"100\"\n",
    "plt.rcParams['savefig.bbox'] = \"tight\"\n",
    "style.use('ggplot') or plt.style.use('ggplot') \n",
    "\n",
    "# Preprocesado y modelado\n",
    "# ==============================================================================\n",
    "from sklearn.model_selection import train_test_split\n",
    "from sklearn.metrics import accuracy_score\n",
    "from sklearn.feature_selection import VarianceThreshold\n",
    "from sklearn.compose import ColumnTransformer\n",
    "from sklearn.preprocessing import OneHotEncoder\n",
    "from sklearn.preprocessing import StandardScaler\n",
    "from sklearn.compose import make_column_selector\n",
    "from sklearn.pipeline import Pipeline\n",
    "from sklearn.metrics import balanced_accuracy_score\n",
    "\n",
    "from sklearn.linear_model import LogisticRegression\n",
    "from sklearn.linear_model import LogisticRegressionCV\n",
    "from sklearn.linear_model import RidgeClassifier\n",
    "from sklearn.linear_model import RidgeClassifierCV\n",
    "\n",
    "import multiprocessing"
   ]
  },
  {
   "cell_type": "code",
   "execution_count": 296,
   "metadata": {
    "ExecuteTime": {
     "end_time": "2022-01-03T17:23:41.139085Z",
     "start_time": "2022-01-03T17:23:41.112887Z"
    }
   },
   "outputs": [
    {
     "data": {
      "text/plain": [
       "dict_keys(['explained_variance', 'r2', 'max_error', 'neg_median_absolute_error', 'neg_mean_absolute_error', 'neg_mean_absolute_percentage_error', 'neg_mean_squared_error', 'neg_mean_squared_log_error', 'neg_root_mean_squared_error', 'neg_mean_poisson_deviance', 'neg_mean_gamma_deviance', 'accuracy', 'top_k_accuracy', 'roc_auc', 'roc_auc_ovr', 'roc_auc_ovo', 'roc_auc_ovr_weighted', 'roc_auc_ovo_weighted', 'balanced_accuracy', 'average_precision', 'neg_log_loss', 'neg_brier_score', 'adjusted_rand_score', 'rand_score', 'homogeneity_score', 'completeness_score', 'v_measure_score', 'mutual_info_score', 'adjusted_mutual_info_score', 'normalized_mutual_info_score', 'fowlkes_mallows_score', 'precision', 'precision_macro', 'precision_micro', 'precision_samples', 'precision_weighted', 'recall', 'recall_macro', 'recall_micro', 'recall_samples', 'recall_weighted', 'f1', 'f1_macro', 'f1_micro', 'f1_samples', 'f1_weighted', 'jaccard', 'jaccard_macro', 'jaccard_micro', 'jaccard_samples', 'jaccard_weighted'])"
      ]
     },
     "execution_count": 296,
     "metadata": {},
     "output_type": "execute_result"
    }
   ],
   "source": [
    "from sklearn.metrics import SCORERS\n",
    "SCORERS.keys()"
   ]
  },
  {
   "cell_type": "markdown",
   "metadata": {},
   "source": [
    "Valores: predicciones negativos, no tenia sentido. Se puede modelar el logaritmo\n",
    "\n",
    "Ausencia de predictores: si es negativo, medias anteriores\n",
    "\n",
    "sistema determinista en el que se asume unas condiciones de proceso dan un determinado resultado no como serie temporal de la variable respuesta. Proceso dinamico, interesa la P hace x tiempo no la de ahora, en un tramo previo del circuito. El valor de la variable hace 8 horas no influye \n"
   ]
  },
  {
   "cell_type": "markdown",
   "metadata": {},
   "source": [
    "columnas completas, variables correlacionadas, columnas con valores constantes, columnas muy desbalanceadas? combinar grupos minoritarios.\n",
    "comenzar regresion logistica sin regu\n",
    "regularizar por correlaciones\n",
    "random forest, gradient boosting\n",
    "metricas:\n",
    "accuracy, F1 score\n",
    "AUC - ROC\n",
    "\n"
   ]
  },
  {
   "cell_type": "markdown",
   "metadata": {},
   "source": [
    "# Datos modelizacion"
   ]
  },
  {
   "cell_type": "code",
   "execution_count": 84,
   "metadata": {
    "ExecuteTime": {
     "end_time": "2022-01-03T10:26:17.041529Z",
     "start_time": "2022-01-03T10:26:12.265521Z"
    }
   },
   "outputs": [
    {
     "name": "stdout",
     "output_type": "stream",
     "text": [
      "(96188, 277)\n"
     ]
    },
    {
     "data": {
      "text/html": [
       "<div>\n",
       "<style scoped>\n",
       "    .dataframe tbody tr th:only-of-type {\n",
       "        vertical-align: middle;\n",
       "    }\n",
       "\n",
       "    .dataframe tbody tr th {\n",
       "        vertical-align: top;\n",
       "    }\n",
       "\n",
       "    .dataframe thead th {\n",
       "        text-align: right;\n",
       "    }\n",
       "</style>\n",
       "<table border=\"1\" class=\"dataframe\">\n",
       "  <thead>\n",
       "    <tr style=\"text-align: right;\">\n",
       "      <th></th>\n",
       "      <th>var_0</th>\n",
       "      <th>var_1</th>\n",
       "      <th>var_2</th>\n",
       "      <th>var_3</th>\n",
       "      <th>var_4</th>\n",
       "      <th>var_5</th>\n",
       "      <th>var_6</th>\n",
       "      <th>var_7</th>\n",
       "      <th>var_8</th>\n",
       "      <th>var_9</th>\n",
       "      <th>...</th>\n",
       "      <th>var_267</th>\n",
       "      <th>var_268</th>\n",
       "      <th>var_269</th>\n",
       "      <th>var_270</th>\n",
       "      <th>var_271</th>\n",
       "      <th>var_272</th>\n",
       "      <th>var_273</th>\n",
       "      <th>var_274</th>\n",
       "      <th>var_275</th>\n",
       "      <th>label</th>\n",
       "    </tr>\n",
       "  </thead>\n",
       "  <tbody>\n",
       "    <tr>\n",
       "      <th>0</th>\n",
       "      <td>9248245</td>\n",
       "      <td>0.0</td>\n",
       "      <td>0</td>\n",
       "      <td>0</td>\n",
       "      <td>0.0</td>\n",
       "      <td>0.0</td>\n",
       "      <td>0.00</td>\n",
       "      <td>0.0</td>\n",
       "      <td>0.0</td>\n",
       "      <td>1</td>\n",
       "      <td>...</td>\n",
       "      <td>0.0</td>\n",
       "      <td>1.0</td>\n",
       "      <td>0</td>\n",
       "      <td>0.0</td>\n",
       "      <td>0.0</td>\n",
       "      <td>0</td>\n",
       "      <td>0.0</td>\n",
       "      <td>0</td>\n",
       "      <td>0.0</td>\n",
       "      <td>0</td>\n",
       "    </tr>\n",
       "    <tr>\n",
       "      <th>1</th>\n",
       "      <td>10037840</td>\n",
       "      <td>0.0</td>\n",
       "      <td>0</td>\n",
       "      <td>0</td>\n",
       "      <td>0.0</td>\n",
       "      <td>0.0</td>\n",
       "      <td>0.00</td>\n",
       "      <td>0.0</td>\n",
       "      <td>0.0</td>\n",
       "      <td>1</td>\n",
       "      <td>...</td>\n",
       "      <td>0.0</td>\n",
       "      <td>0.0</td>\n",
       "      <td>0</td>\n",
       "      <td>0.0</td>\n",
       "      <td>0.0</td>\n",
       "      <td>0</td>\n",
       "      <td>0.0</td>\n",
       "      <td>0</td>\n",
       "      <td>0.0</td>\n",
       "      <td>0</td>\n",
       "    </tr>\n",
       "    <tr>\n",
       "      <th>2</th>\n",
       "      <td>10299029</td>\n",
       "      <td>0.0</td>\n",
       "      <td>0</td>\n",
       "      <td>0</td>\n",
       "      <td>0.0</td>\n",
       "      <td>0.0</td>\n",
       "      <td>24.44</td>\n",
       "      <td>0.0</td>\n",
       "      <td>0.0</td>\n",
       "      <td>0</td>\n",
       "      <td>...</td>\n",
       "      <td>0.0</td>\n",
       "      <td>0.0</td>\n",
       "      <td>0</td>\n",
       "      <td>0.0</td>\n",
       "      <td>0.0</td>\n",
       "      <td>0</td>\n",
       "      <td>0.0</td>\n",
       "      <td>0</td>\n",
       "      <td>0.0</td>\n",
       "      <td>0</td>\n",
       "    </tr>\n",
       "    <tr>\n",
       "      <th>3</th>\n",
       "      <td>10907006</td>\n",
       "      <td>0.0</td>\n",
       "      <td>0</td>\n",
       "      <td>0</td>\n",
       "      <td>0.0</td>\n",
       "      <td>0.0</td>\n",
       "      <td>0.00</td>\n",
       "      <td>0.0</td>\n",
       "      <td>0.0</td>\n",
       "      <td>0</td>\n",
       "      <td>...</td>\n",
       "      <td>0.0</td>\n",
       "      <td>0.0</td>\n",
       "      <td>0</td>\n",
       "      <td>0.0</td>\n",
       "      <td>0.0</td>\n",
       "      <td>0</td>\n",
       "      <td>0.0</td>\n",
       "      <td>0</td>\n",
       "      <td>0.0</td>\n",
       "      <td>0</td>\n",
       "    </tr>\n",
       "    <tr>\n",
       "      <th>4</th>\n",
       "      <td>14080498</td>\n",
       "      <td>0.0</td>\n",
       "      <td>0</td>\n",
       "      <td>0</td>\n",
       "      <td>0.0</td>\n",
       "      <td>0.0</td>\n",
       "      <td>0.00</td>\n",
       "      <td>0.0</td>\n",
       "      <td>0.0</td>\n",
       "      <td>0</td>\n",
       "      <td>...</td>\n",
       "      <td>0.0</td>\n",
       "      <td>0.0</td>\n",
       "      <td>0</td>\n",
       "      <td>0.0</td>\n",
       "      <td>0.0</td>\n",
       "      <td>0</td>\n",
       "      <td>0.0</td>\n",
       "      <td>0</td>\n",
       "      <td>0.0</td>\n",
       "      <td>0</td>\n",
       "    </tr>\n",
       "  </tbody>\n",
       "</table>\n",
       "<p>5 rows × 277 columns</p>\n",
       "</div>"
      ],
      "text/plain": [
       "      var_0  var_1  var_2  var_3  var_4  var_5  var_6  var_7  var_8  var_9  \\\n",
       "0   9248245    0.0      0      0    0.0    0.0   0.00    0.0    0.0      1   \n",
       "1  10037840    0.0      0      0    0.0    0.0   0.00    0.0    0.0      1   \n",
       "2  10299029    0.0      0      0    0.0    0.0  24.44    0.0    0.0      0   \n",
       "3  10907006    0.0      0      0    0.0    0.0   0.00    0.0    0.0      0   \n",
       "4  14080498    0.0      0      0    0.0    0.0   0.00    0.0    0.0      0   \n",
       "\n",
       "   ...  var_267  var_268  var_269  var_270  var_271  var_272  var_273  \\\n",
       "0  ...      0.0      1.0        0      0.0      0.0        0      0.0   \n",
       "1  ...      0.0      0.0        0      0.0      0.0        0      0.0   \n",
       "2  ...      0.0      0.0        0      0.0      0.0        0      0.0   \n",
       "3  ...      0.0      0.0        0      0.0      0.0        0      0.0   \n",
       "4  ...      0.0      0.0        0      0.0      0.0        0      0.0   \n",
       "\n",
       "   var_274  var_275  label  \n",
       "0        0      0.0      0  \n",
       "1        0      0.0      0  \n",
       "2        0      0.0      0  \n",
       "3        0      0.0      0  \n",
       "4        0      0.0      0  \n",
       "\n",
       "[5 rows x 277 columns]"
      ]
     },
     "execution_count": 84,
     "metadata": {},
     "output_type": "execute_result"
    }
   ],
   "source": [
    "zip_file = zipfile.ZipFile(r\".\\Archive.zip\")\n",
    "datos_model_raw = pd.read_csv(zip_file.open(\"datos_para_modelizacion.csv\"))\n",
    "print(datos_model_raw.shape)\n",
    "datos_model_raw.head(5)"
   ]
  },
  {
   "cell_type": "markdown",
   "metadata": {},
   "source": [
    "# Análisis descriptivo"
   ]
  },
  {
   "cell_type": "code",
   "execution_count": 3,
   "metadata": {
    "ExecuteTime": {
     "end_time": "2022-01-03T09:50:34.695547Z",
     "start_time": "2022-01-03T09:50:33.353990Z"
    }
   },
   "outputs": [
    {
     "data": {
      "text/html": [
       "<div>\n",
       "<style scoped>\n",
       "    .dataframe tbody tr th:only-of-type {\n",
       "        vertical-align: middle;\n",
       "    }\n",
       "\n",
       "    .dataframe tbody tr th {\n",
       "        vertical-align: top;\n",
       "    }\n",
       "\n",
       "    .dataframe thead th {\n",
       "        text-align: right;\n",
       "    }\n",
       "</style>\n",
       "<table border=\"1\" class=\"dataframe\">\n",
       "  <thead>\n",
       "    <tr style=\"text-align: right;\">\n",
       "      <th></th>\n",
       "      <th>var_0</th>\n",
       "      <th>var_1</th>\n",
       "      <th>var_2</th>\n",
       "      <th>var_3</th>\n",
       "      <th>var_4</th>\n",
       "      <th>var_5</th>\n",
       "      <th>var_6</th>\n",
       "      <th>var_7</th>\n",
       "      <th>var_8</th>\n",
       "      <th>var_9</th>\n",
       "      <th>...</th>\n",
       "      <th>var_267</th>\n",
       "      <th>var_268</th>\n",
       "      <th>var_269</th>\n",
       "      <th>var_270</th>\n",
       "      <th>var_271</th>\n",
       "      <th>var_272</th>\n",
       "      <th>var_273</th>\n",
       "      <th>var_274</th>\n",
       "      <th>var_275</th>\n",
       "      <th>label</th>\n",
       "    </tr>\n",
       "  </thead>\n",
       "  <tbody>\n",
       "    <tr>\n",
       "      <th>count</th>\n",
       "      <td>9.618800e+04</td>\n",
       "      <td>96188.000000</td>\n",
       "      <td>96188.000000</td>\n",
       "      <td>96188.000000</td>\n",
       "      <td>96188.0</td>\n",
       "      <td>96188.000000</td>\n",
       "      <td>96188.000000</td>\n",
       "      <td>96188.000000</td>\n",
       "      <td>96188.000000</td>\n",
       "      <td>96188.000000</td>\n",
       "      <td>...</td>\n",
       "      <td>96188.000000</td>\n",
       "      <td>96188.000000</td>\n",
       "      <td>96188.000000</td>\n",
       "      <td>96188.000000</td>\n",
       "      <td>96188.000000</td>\n",
       "      <td>96188.0</td>\n",
       "      <td>96188.000000</td>\n",
       "      <td>96188.000000</td>\n",
       "      <td>96188.000000</td>\n",
       "      <td>96188.000000</td>\n",
       "    </tr>\n",
       "    <tr>\n",
       "      <th>mean</th>\n",
       "      <td>6.508026e+08</td>\n",
       "      <td>0.001985</td>\n",
       "      <td>0.009752</td>\n",
       "      <td>0.001071</td>\n",
       "      <td>0.0</td>\n",
       "      <td>0.000335</td>\n",
       "      <td>2.934996</td>\n",
       "      <td>0.000245</td>\n",
       "      <td>0.035151</td>\n",
       "      <td>0.206211</td>\n",
       "      <td>...</td>\n",
       "      <td>0.000602</td>\n",
       "      <td>0.759627</td>\n",
       "      <td>0.000073</td>\n",
       "      <td>0.031579</td>\n",
       "      <td>0.375511</td>\n",
       "      <td>0.0</td>\n",
       "      <td>0.000218</td>\n",
       "      <td>0.000042</td>\n",
       "      <td>0.005895</td>\n",
       "      <td>0.036314</td>\n",
       "    </tr>\n",
       "    <tr>\n",
       "      <th>std</th>\n",
       "      <td>7.305800e+08</td>\n",
       "      <td>0.232712</td>\n",
       "      <td>0.099947</td>\n",
       "      <td>0.032706</td>\n",
       "      <td>0.0</td>\n",
       "      <td>0.103920</td>\n",
       "      <td>14.669620</td>\n",
       "      <td>0.075933</td>\n",
       "      <td>2.553340</td>\n",
       "      <td>0.404586</td>\n",
       "      <td>...</td>\n",
       "      <td>0.131917</td>\n",
       "      <td>4.216230</td>\n",
       "      <td>0.008531</td>\n",
       "      <td>1.012583</td>\n",
       "      <td>4.675368</td>\n",
       "      <td>0.0</td>\n",
       "      <td>0.039093</td>\n",
       "      <td>0.006449</td>\n",
       "      <td>0.488573</td>\n",
       "      <td>0.187072</td>\n",
       "    </tr>\n",
       "    <tr>\n",
       "      <th>min</th>\n",
       "      <td>3.937070e+05</td>\n",
       "      <td>0.000000</td>\n",
       "      <td>0.000000</td>\n",
       "      <td>0.000000</td>\n",
       "      <td>0.0</td>\n",
       "      <td>0.000000</td>\n",
       "      <td>0.000000</td>\n",
       "      <td>0.000000</td>\n",
       "      <td>0.000000</td>\n",
       "      <td>0.000000</td>\n",
       "      <td>...</td>\n",
       "      <td>0.000000</td>\n",
       "      <td>0.000000</td>\n",
       "      <td>0.000000</td>\n",
       "      <td>0.000000</td>\n",
       "      <td>0.000000</td>\n",
       "      <td>0.0</td>\n",
       "      <td>0.000000</td>\n",
       "      <td>0.000000</td>\n",
       "      <td>0.000000</td>\n",
       "      <td>0.000000</td>\n",
       "    </tr>\n",
       "    <tr>\n",
       "      <th>25%</th>\n",
       "      <td>3.268936e+08</td>\n",
       "      <td>0.000000</td>\n",
       "      <td>0.000000</td>\n",
       "      <td>0.000000</td>\n",
       "      <td>0.0</td>\n",
       "      <td>0.000000</td>\n",
       "      <td>0.000000</td>\n",
       "      <td>0.000000</td>\n",
       "      <td>0.000000</td>\n",
       "      <td>0.000000</td>\n",
       "      <td>...</td>\n",
       "      <td>0.000000</td>\n",
       "      <td>0.000000</td>\n",
       "      <td>0.000000</td>\n",
       "      <td>0.000000</td>\n",
       "      <td>0.000000</td>\n",
       "      <td>0.0</td>\n",
       "      <td>0.000000</td>\n",
       "      <td>0.000000</td>\n",
       "      <td>0.000000</td>\n",
       "      <td>0.000000</td>\n",
       "    </tr>\n",
       "    <tr>\n",
       "      <th>50%</th>\n",
       "      <td>3.657658e+08</td>\n",
       "      <td>0.000000</td>\n",
       "      <td>0.000000</td>\n",
       "      <td>0.000000</td>\n",
       "      <td>0.0</td>\n",
       "      <td>0.000000</td>\n",
       "      <td>0.000000</td>\n",
       "      <td>0.000000</td>\n",
       "      <td>0.000000</td>\n",
       "      <td>0.000000</td>\n",
       "      <td>...</td>\n",
       "      <td>0.000000</td>\n",
       "      <td>0.000000</td>\n",
       "      <td>0.000000</td>\n",
       "      <td>0.000000</td>\n",
       "      <td>0.000000</td>\n",
       "      <td>0.0</td>\n",
       "      <td>0.000000</td>\n",
       "      <td>0.000000</td>\n",
       "      <td>0.000000</td>\n",
       "      <td>0.000000</td>\n",
       "    </tr>\n",
       "    <tr>\n",
       "      <th>75%</th>\n",
       "      <td>6.240783e+08</td>\n",
       "      <td>0.000000</td>\n",
       "      <td>0.000000</td>\n",
       "      <td>0.000000</td>\n",
       "      <td>0.0</td>\n",
       "      <td>0.000000</td>\n",
       "      <td>0.000000</td>\n",
       "      <td>0.000000</td>\n",
       "      <td>0.000000</td>\n",
       "      <td>0.000000</td>\n",
       "      <td>...</td>\n",
       "      <td>0.000000</td>\n",
       "      <td>0.000000</td>\n",
       "      <td>0.000000</td>\n",
       "      <td>0.000000</td>\n",
       "      <td>0.000000</td>\n",
       "      <td>0.0</td>\n",
       "      <td>0.000000</td>\n",
       "      <td>0.000000</td>\n",
       "      <td>0.000000</td>\n",
       "      <td>0.000000</td>\n",
       "    </tr>\n",
       "    <tr>\n",
       "      <th>max</th>\n",
       "      <td>3.140207e+09</td>\n",
       "      <td>27.280000</td>\n",
       "      <td>3.000000</td>\n",
       "      <td>1.000000</td>\n",
       "      <td>0.0</td>\n",
       "      <td>32.230000</td>\n",
       "      <td>222.680000</td>\n",
       "      <td>23.550000</td>\n",
       "      <td>337.120000</td>\n",
       "      <td>1.000000</td>\n",
       "      <td>...</td>\n",
       "      <td>28.930000</td>\n",
       "      <td>442.000000</td>\n",
       "      <td>1.000000</td>\n",
       "      <td>112.500000</td>\n",
       "      <td>220.810000</td>\n",
       "      <td>0.0</td>\n",
       "      <td>7.000000</td>\n",
       "      <td>1.000000</td>\n",
       "      <td>40.500000</td>\n",
       "      <td>1.000000</td>\n",
       "    </tr>\n",
       "  </tbody>\n",
       "</table>\n",
       "<p>8 rows × 274 columns</p>\n",
       "</div>"
      ],
      "text/plain": [
       "              var_0         var_1         var_2         var_3    var_4  \\\n",
       "count  9.618800e+04  96188.000000  96188.000000  96188.000000  96188.0   \n",
       "mean   6.508026e+08      0.001985      0.009752      0.001071      0.0   \n",
       "std    7.305800e+08      0.232712      0.099947      0.032706      0.0   \n",
       "min    3.937070e+05      0.000000      0.000000      0.000000      0.0   \n",
       "25%    3.268936e+08      0.000000      0.000000      0.000000      0.0   \n",
       "50%    3.657658e+08      0.000000      0.000000      0.000000      0.0   \n",
       "75%    6.240783e+08      0.000000      0.000000      0.000000      0.0   \n",
       "max    3.140207e+09     27.280000      3.000000      1.000000      0.0   \n",
       "\n",
       "              var_5         var_6         var_7         var_8         var_9  \\\n",
       "count  96188.000000  96188.000000  96188.000000  96188.000000  96188.000000   \n",
       "mean       0.000335      2.934996      0.000245      0.035151      0.206211   \n",
       "std        0.103920     14.669620      0.075933      2.553340      0.404586   \n",
       "min        0.000000      0.000000      0.000000      0.000000      0.000000   \n",
       "25%        0.000000      0.000000      0.000000      0.000000      0.000000   \n",
       "50%        0.000000      0.000000      0.000000      0.000000      0.000000   \n",
       "75%        0.000000      0.000000      0.000000      0.000000      0.000000   \n",
       "max       32.230000    222.680000     23.550000    337.120000      1.000000   \n",
       "\n",
       "       ...       var_267       var_268       var_269       var_270  \\\n",
       "count  ...  96188.000000  96188.000000  96188.000000  96188.000000   \n",
       "mean   ...      0.000602      0.759627      0.000073      0.031579   \n",
       "std    ...      0.131917      4.216230      0.008531      1.012583   \n",
       "min    ...      0.000000      0.000000      0.000000      0.000000   \n",
       "25%    ...      0.000000      0.000000      0.000000      0.000000   \n",
       "50%    ...      0.000000      0.000000      0.000000      0.000000   \n",
       "75%    ...      0.000000      0.000000      0.000000      0.000000   \n",
       "max    ...     28.930000    442.000000      1.000000    112.500000   \n",
       "\n",
       "            var_271  var_272       var_273       var_274       var_275  \\\n",
       "count  96188.000000  96188.0  96188.000000  96188.000000  96188.000000   \n",
       "mean       0.375511      0.0      0.000218      0.000042      0.005895   \n",
       "std        4.675368      0.0      0.039093      0.006449      0.488573   \n",
       "min        0.000000      0.0      0.000000      0.000000      0.000000   \n",
       "25%        0.000000      0.0      0.000000      0.000000      0.000000   \n",
       "50%        0.000000      0.0      0.000000      0.000000      0.000000   \n",
       "75%        0.000000      0.0      0.000000      0.000000      0.000000   \n",
       "max      220.810000      0.0      7.000000      1.000000     40.500000   \n",
       "\n",
       "              label  \n",
       "count  96188.000000  \n",
       "mean       0.036314  \n",
       "std        0.187072  \n",
       "min        0.000000  \n",
       "25%        0.000000  \n",
       "50%        0.000000  \n",
       "75%        0.000000  \n",
       "max        1.000000  \n",
       "\n",
       "[8 rows x 274 columns]"
      ]
     },
     "execution_count": 3,
     "metadata": {},
     "output_type": "execute_result"
    }
   ],
   "source": [
    "datos_model_raw.describe()"
   ]
  },
  {
   "cell_type": "markdown",
   "metadata": {},
   "source": [
    "## Variable Respuesta "
   ]
  },
  {
   "cell_type": "code",
   "execution_count": 31,
   "metadata": {
    "ExecuteTime": {
     "end_time": "2022-01-03T10:14:33.590252Z",
     "start_time": "2022-01-03T10:14:33.576292Z"
    }
   },
   "outputs": [
    {
     "data": {
      "text/plain": [
       "0    0\n",
       "1    0\n",
       "2    0\n",
       "Name: label, dtype: int64"
      ]
     },
     "execution_count": 31,
     "metadata": {},
     "output_type": "execute_result"
    }
   ],
   "source": [
    "y = datos_model_raw[\"label\"]\n",
    "y.head(3)"
   ]
  },
  {
   "cell_type": "code",
   "execution_count": 33,
   "metadata": {
    "ExecuteTime": {
     "end_time": "2022-01-03T10:14:43.326808Z",
     "start_time": "2022-01-03T10:14:43.316834Z"
    }
   },
   "outputs": [
    {
     "data": {
      "text/plain": [
       "0    92695\n",
       "1     3493\n",
       "Name: label, dtype: int64"
      ]
     },
     "execution_count": 33,
     "metadata": {},
     "output_type": "execute_result"
    }
   ],
   "source": [
    "y.value_counts()"
   ]
  },
  {
   "cell_type": "code",
   "execution_count": 40,
   "metadata": {
    "ExecuteTime": {
     "end_time": "2022-01-03T10:18:41.998808Z",
     "start_time": "2022-01-03T10:18:41.871408Z"
    }
   },
   "outputs": [
    {
     "data": {
      "text/plain": [
       "<AxesSubplot:>"
      ]
     },
     "execution_count": 40,
     "metadata": {},
     "output_type": "execute_result"
    },
    {
     "data": {
      "image/png": "[encoded data removed]",
      "text/plain": [
       "<Figure size 432x288 with 1 Axes>"
      ]
     },
     "metadata": {
      "needs_background": "light"
     },
     "output_type": "display_data"
    }
   ],
   "source": [
    "# Gráfico\n",
    "# ==============================================================================\n",
    "y.value_counts().plot(kind=\"bar\")"
   ]
  },
  {
   "cell_type": "markdown",
   "metadata": {},
   "source": [
    "## Predictores"
   ]
  },
  {
   "cell_type": "markdown",
   "metadata": {},
   "source": [
    "### Valores constantes"
   ]
  },
  {
   "cell_type": "markdown",
   "metadata": {},
   "source": [
    "Se eliminar columnas con valores constantes"
   ]
  },
  {
   "cell_type": "code",
   "execution_count": 85,
   "metadata": {
    "ExecuteTime": {
     "end_time": "2022-01-03T10:26:21.052548Z",
     "start_time": "2022-01-03T10:26:20.933040Z"
    }
   },
   "outputs": [
    {
     "name": "stdout",
     "output_type": "stream",
     "text": [
      "Número de columnas con valores constantes:  36\n",
      "['var_4', 'var_11', 'var_22', 'var_24', 'var_28', 'var_31', 'var_50', 'var_55', 'var_58', 'var_61', 'var_65', 'var_70', 'var_78', 'var_84', 'var_91', 'var_113', 'var_114', 'var_125', 'var_127', 'var_147', 'var_154', 'var_158', 'var_169', 'var_182', 'var_190', 'var_193', 'var_206', 'var_214', 'var_217', 'var_221', 'var_225', 'var_233', 'var_251', 'var_256', 'var_265', 'var_272']\n"
     ]
    }
   ],
   "source": [
    "datos_model = datos_model_raw.copy()\n",
    "\n",
    "# Numero de columnas con valores constantes\n",
    "def valor_constante(col):\n",
    "    col = col.to_numpy()\n",
    "    return (col[0] == col).all()\n",
    "\n",
    "cols_constantes = []\n",
    "\n",
    "for col in datos_model.columns:\n",
    "    if valor_constante(datos_model[col]):\n",
    "        cols_constantes.append(col)\n",
    "        \n",
    "print(\"Número de columnas con valores constantes: \", len(cols_constantes))\n",
    "print(cols_constantes)"
   ]
  },
  {
   "cell_type": "code",
   "execution_count": 86,
   "metadata": {
    "ExecuteTime": {
     "end_time": "2022-01-03T10:26:22.263717Z",
     "start_time": "2022-01-03T10:26:22.105965Z"
    }
   },
   "outputs": [
    {
     "data": {
      "text/html": [
       "<div>\n",
       "<style scoped>\n",
       "    .dataframe tbody tr th:only-of-type {\n",
       "        vertical-align: middle;\n",
       "    }\n",
       "\n",
       "    .dataframe tbody tr th {\n",
       "        vertical-align: top;\n",
       "    }\n",
       "\n",
       "    .dataframe thead th {\n",
       "        text-align: right;\n",
       "    }\n",
       "</style>\n",
       "<table border=\"1\" class=\"dataframe\">\n",
       "  <thead>\n",
       "    <tr style=\"text-align: right;\">\n",
       "      <th></th>\n",
       "      <th>var_0</th>\n",
       "      <th>var_1</th>\n",
       "      <th>var_2</th>\n",
       "      <th>var_3</th>\n",
       "      <th>var_5</th>\n",
       "      <th>var_6</th>\n",
       "      <th>var_7</th>\n",
       "      <th>var_8</th>\n",
       "      <th>var_9</th>\n",
       "      <th>var_10</th>\n",
       "      <th>...</th>\n",
       "      <th>var_266</th>\n",
       "      <th>var_267</th>\n",
       "      <th>var_268</th>\n",
       "      <th>var_269</th>\n",
       "      <th>var_270</th>\n",
       "      <th>var_271</th>\n",
       "      <th>var_273</th>\n",
       "      <th>var_274</th>\n",
       "      <th>var_275</th>\n",
       "      <th>label</th>\n",
       "    </tr>\n",
       "  </thead>\n",
       "  <tbody>\n",
       "    <tr>\n",
       "      <th>0</th>\n",
       "      <td>9248245</td>\n",
       "      <td>0.0</td>\n",
       "      <td>0</td>\n",
       "      <td>0</td>\n",
       "      <td>0.0</td>\n",
       "      <td>0.00</td>\n",
       "      <td>0.0</td>\n",
       "      <td>0.0</td>\n",
       "      <td>1</td>\n",
       "      <td>0.0</td>\n",
       "      <td>...</td>\n",
       "      <td>0.0</td>\n",
       "      <td>0.0</td>\n",
       "      <td>1.0</td>\n",
       "      <td>0</td>\n",
       "      <td>0.0</td>\n",
       "      <td>0.0</td>\n",
       "      <td>0.0</td>\n",
       "      <td>0</td>\n",
       "      <td>0.0</td>\n",
       "      <td>0</td>\n",
       "    </tr>\n",
       "    <tr>\n",
       "      <th>1</th>\n",
       "      <td>10037840</td>\n",
       "      <td>0.0</td>\n",
       "      <td>0</td>\n",
       "      <td>0</td>\n",
       "      <td>0.0</td>\n",
       "      <td>0.00</td>\n",
       "      <td>0.0</td>\n",
       "      <td>0.0</td>\n",
       "      <td>1</td>\n",
       "      <td>0.0</td>\n",
       "      <td>...</td>\n",
       "      <td>0.0</td>\n",
       "      <td>0.0</td>\n",
       "      <td>0.0</td>\n",
       "      <td>0</td>\n",
       "      <td>0.0</td>\n",
       "      <td>0.0</td>\n",
       "      <td>0.0</td>\n",
       "      <td>0</td>\n",
       "      <td>0.0</td>\n",
       "      <td>0</td>\n",
       "    </tr>\n",
       "    <tr>\n",
       "      <th>2</th>\n",
       "      <td>10299029</td>\n",
       "      <td>0.0</td>\n",
       "      <td>0</td>\n",
       "      <td>0</td>\n",
       "      <td>0.0</td>\n",
       "      <td>24.44</td>\n",
       "      <td>0.0</td>\n",
       "      <td>0.0</td>\n",
       "      <td>0</td>\n",
       "      <td>0.0</td>\n",
       "      <td>...</td>\n",
       "      <td>0.0</td>\n",
       "      <td>0.0</td>\n",
       "      <td>0.0</td>\n",
       "      <td>0</td>\n",
       "      <td>0.0</td>\n",
       "      <td>0.0</td>\n",
       "      <td>0.0</td>\n",
       "      <td>0</td>\n",
       "      <td>0.0</td>\n",
       "      <td>0</td>\n",
       "    </tr>\n",
       "    <tr>\n",
       "      <th>3</th>\n",
       "      <td>10907006</td>\n",
       "      <td>0.0</td>\n",
       "      <td>0</td>\n",
       "      <td>0</td>\n",
       "      <td>0.0</td>\n",
       "      <td>0.00</td>\n",
       "      <td>0.0</td>\n",
       "      <td>0.0</td>\n",
       "      <td>0</td>\n",
       "      <td>0.0</td>\n",
       "      <td>...</td>\n",
       "      <td>0.0</td>\n",
       "      <td>0.0</td>\n",
       "      <td>0.0</td>\n",
       "      <td>0</td>\n",
       "      <td>0.0</td>\n",
       "      <td>0.0</td>\n",
       "      <td>0.0</td>\n",
       "      <td>0</td>\n",
       "      <td>0.0</td>\n",
       "      <td>0</td>\n",
       "    </tr>\n",
       "    <tr>\n",
       "      <th>4</th>\n",
       "      <td>14080498</td>\n",
       "      <td>0.0</td>\n",
       "      <td>0</td>\n",
       "      <td>0</td>\n",
       "      <td>0.0</td>\n",
       "      <td>0.00</td>\n",
       "      <td>0.0</td>\n",
       "      <td>0.0</td>\n",
       "      <td>0</td>\n",
       "      <td>0.0</td>\n",
       "      <td>...</td>\n",
       "      <td>0.0</td>\n",
       "      <td>0.0</td>\n",
       "      <td>0.0</td>\n",
       "      <td>0</td>\n",
       "      <td>0.0</td>\n",
       "      <td>0.0</td>\n",
       "      <td>0.0</td>\n",
       "      <td>0</td>\n",
       "      <td>0.0</td>\n",
       "      <td>0</td>\n",
       "    </tr>\n",
       "  </tbody>\n",
       "</table>\n",
       "<p>5 rows × 241 columns</p>\n",
       "</div>"
      ],
      "text/plain": [
       "      var_0  var_1  var_2  var_3  var_5  var_6  var_7  var_8  var_9  var_10  \\\n",
       "0   9248245    0.0      0      0    0.0   0.00    0.0    0.0      1     0.0   \n",
       "1  10037840    0.0      0      0    0.0   0.00    0.0    0.0      1     0.0   \n",
       "2  10299029    0.0      0      0    0.0  24.44    0.0    0.0      0     0.0   \n",
       "3  10907006    0.0      0      0    0.0   0.00    0.0    0.0      0     0.0   \n",
       "4  14080498    0.0      0      0    0.0   0.00    0.0    0.0      0     0.0   \n",
       "\n",
       "   ...  var_266  var_267  var_268  var_269  var_270  var_271  var_273  \\\n",
       "0  ...      0.0      0.0      1.0        0      0.0      0.0      0.0   \n",
       "1  ...      0.0      0.0      0.0        0      0.0      0.0      0.0   \n",
       "2  ...      0.0      0.0      0.0        0      0.0      0.0      0.0   \n",
       "3  ...      0.0      0.0      0.0        0      0.0      0.0      0.0   \n",
       "4  ...      0.0      0.0      0.0        0      0.0      0.0      0.0   \n",
       "\n",
       "   var_274  var_275  label  \n",
       "0        0      0.0      0  \n",
       "1        0      0.0      0  \n",
       "2        0      0.0      0  \n",
       "3        0      0.0      0  \n",
       "4        0      0.0      0  \n",
       "\n",
       "[5 rows x 241 columns]"
      ]
     },
     "execution_count": 86,
     "metadata": {},
     "output_type": "execute_result"
    }
   ],
   "source": [
    "datos_model = datos_model.drop(cols_constantes, axis=1)\n",
    "datos_model.head()"
   ]
  },
  {
   "cell_type": "markdown",
   "metadata": {},
   "source": [
    "### NaNs"
   ]
  },
  {
   "cell_type": "markdown",
   "metadata": {},
   "source": [
    "Columnas con algún missing value"
   ]
  },
  {
   "cell_type": "code",
   "execution_count": 87,
   "metadata": {
    "ExecuteTime": {
     "end_time": "2022-01-03T10:26:25.499395Z",
     "start_time": "2022-01-03T10:26:25.333521Z"
    }
   },
   "outputs": [
    {
     "name": "stdout",
     "output_type": "stream",
     "text": [
      "Número de columnas con algún Nan:  1\n",
      "{'var_174': 19642}\n"
     ]
    }
   ],
   "source": [
    "# Columnas con número NaN >= 1\n",
    "def is_nan(df_col):\n",
    "    if df_col.isna().sum() >=1:\n",
    "        x = True\n",
    "    else:\n",
    "        x = False\n",
    "    return x\n",
    "\n",
    "cols_with_nan = {}\n",
    "\n",
    "for col in datos_model.columns:\n",
    "    if is_nan(datos_model[col]):\n",
    "        cols_with_nan[col] = datos_model[col].isna().sum()\n",
    "        \n",
    "print(\"Número de columnas con algún Nan: \", len(cols_with_nan))\n",
    "print(cols_with_nan)"
   ]
  },
  {
   "cell_type": "code",
   "execution_count": 88,
   "metadata": {
    "ExecuteTime": {
     "end_time": "2022-01-03T10:26:26.207710Z",
     "start_time": "2022-01-03T10:26:26.163830Z"
    }
   },
   "outputs": [
    {
     "name": "stdout",
     "output_type": "stream",
     "text": [
      "count           76546\n",
      "unique              3\n",
      "top       CONVERGENTE\n",
      "freq            36653\n",
      "Name: var_174, dtype: object\n"
     ]
    },
    {
     "data": {
      "text/plain": [
       "array(['HIPERCONVERGENTE', 'CONVERGENTE', nan, 'RESTO'], dtype=object)"
      ]
     },
     "execution_count": 88,
     "metadata": {},
     "output_type": "execute_result"
    }
   ],
   "source": [
    "print(datos_model[\"var_174\"].describe())\n",
    "datos_model[\"var_174\"].unique()"
   ]
  },
  {
   "cell_type": "markdown",
   "metadata": {},
   "source": [
    "Se completa la var_174 añadiendo los Nan a la categoría RESTO, lo ideal sería hablarlo con negocio"
   ]
  },
  {
   "cell_type": "code",
   "execution_count": 89,
   "metadata": {
    "ExecuteTime": {
     "end_time": "2022-01-03T10:26:27.697355Z",
     "start_time": "2022-01-03T10:26:27.674414Z"
    }
   },
   "outputs": [],
   "source": [
    "datos_model[\"var_174\"] = datos_model[\"var_174\"].fillna(value=\"RESTO\")"
   ]
  },
  {
   "cell_type": "code",
   "execution_count": 90,
   "metadata": {
    "ExecuteTime": {
     "end_time": "2022-01-03T10:26:27.975640Z",
     "start_time": "2022-01-03T10:26:27.947696Z"
    }
   },
   "outputs": [
    {
     "name": "stdout",
     "output_type": "stream",
     "text": [
      "0\n",
      "['HIPERCONVERGENTE' 'CONVERGENTE' 'RESTO']\n"
     ]
    }
   ],
   "source": [
    "print(datos_model[\"var_174\"].isna().sum())\n",
    "print(datos_model[\"var_174\"].unique())"
   ]
  },
  {
   "cell_type": "markdown",
   "metadata": {},
   "source": [
    "### Duplicates"
   ]
  },
  {
   "cell_type": "code",
   "execution_count": 67,
   "metadata": {
    "ExecuteTime": {
     "end_time": "2022-01-03T10:22:45.494711Z",
     "start_time": "2022-01-03T10:22:44.926897Z"
    }
   },
   "outputs": [
    {
     "data": {
      "text/plain": [
       "0"
      ]
     },
     "execution_count": 67,
     "metadata": {},
     "output_type": "execute_result"
    }
   ],
   "source": [
    "# Filas duplicadas\n",
    "datos_model.duplicated().sum()"
   ]
  },
  {
   "cell_type": "code",
   "execution_count": 68,
   "metadata": {
    "ExecuteTime": {
     "end_time": "2022-01-03T10:23:27.482208Z",
     "start_time": "2022-01-03T10:22:45.687130Z"
    }
   },
   "outputs": [
    {
     "data": {
      "text/plain": [
       "0"
      ]
     },
     "execution_count": 68,
     "metadata": {},
     "output_type": "execute_result"
    }
   ],
   "source": [
    "# Columnas duplicadas\n",
    "datos_model.T.duplicated().sum()"
   ]
  },
  {
   "cell_type": "markdown",
   "metadata": {},
   "source": [
    "### Variables cualitativas"
   ]
  },
  {
   "cell_type": "markdown",
   "metadata": {},
   "source": [
    "Se comprueban si existen y los valores de las columnas no numéricas"
   ]
  },
  {
   "cell_type": "code",
   "execution_count": 69,
   "metadata": {
    "ExecuteTime": {
     "end_time": "2022-01-03T10:23:27.873451Z",
     "start_time": "2022-01-03T10:23:27.830461Z"
    }
   },
   "outputs": [
    {
     "data": {
      "text/html": [
       "<div>\n",
       "<style scoped>\n",
       "    .dataframe tbody tr th:only-of-type {\n",
       "        vertical-align: middle;\n",
       "    }\n",
       "\n",
       "    .dataframe tbody tr th {\n",
       "        vertical-align: top;\n",
       "    }\n",
       "\n",
       "    .dataframe thead th {\n",
       "        text-align: right;\n",
       "    }\n",
       "</style>\n",
       "<table border=\"1\" class=\"dataframe\">\n",
       "  <thead>\n",
       "    <tr style=\"text-align: right;\">\n",
       "      <th></th>\n",
       "      <th>var_105</th>\n",
       "      <th>var_174</th>\n",
       "      <th>var_213</th>\n",
       "    </tr>\n",
       "  </thead>\n",
       "  <tbody>\n",
       "    <tr>\n",
       "      <th>0</th>\n",
       "      <td>antiguedad_0_6</td>\n",
       "      <td>HIPERCONVERGENTE</td>\n",
       "      <td>asignacion_NLMPYME_Low</td>\n",
       "    </tr>\n",
       "    <tr>\n",
       "      <th>1</th>\n",
       "      <td>antiguedad_12_18</td>\n",
       "      <td>CONVERGENTE</td>\n",
       "      <td>asignacion_NLMPYME_Low</td>\n",
       "    </tr>\n",
       "    <tr>\n",
       "      <th>2</th>\n",
       "      <td>antiguedad_36_72</td>\n",
       "      <td>CONVERGENTE</td>\n",
       "      <td>asignacion_NLMPYME_Low</td>\n",
       "    </tr>\n",
       "    <tr>\n",
       "      <th>3</th>\n",
       "      <td>antiguedad_6_12</td>\n",
       "      <td>CONVERGENTE</td>\n",
       "      <td>asignacion_NLMPYME_Low</td>\n",
       "    </tr>\n",
       "    <tr>\n",
       "      <th>4</th>\n",
       "      <td>antiguedad_gt_120</td>\n",
       "      <td>RESTO</td>\n",
       "      <td>asignacion_NLMPYME_Low</td>\n",
       "    </tr>\n",
       "    <tr>\n",
       "      <th>...</th>\n",
       "      <td>...</td>\n",
       "      <td>...</td>\n",
       "      <td>...</td>\n",
       "    </tr>\n",
       "    <tr>\n",
       "      <th>96183</th>\n",
       "      <td>antiguedad_gt_120</td>\n",
       "      <td>CONVERGENTE</td>\n",
       "      <td>asignacion_NLMPYME_Legacy_Ono</td>\n",
       "    </tr>\n",
       "    <tr>\n",
       "      <th>96184</th>\n",
       "      <td>antiguedad_0_6</td>\n",
       "      <td>CONVERGENTE</td>\n",
       "      <td>asignacion_NLMPYME_Low</td>\n",
       "    </tr>\n",
       "    <tr>\n",
       "      <th>96185</th>\n",
       "      <td>antiguedad_gt_120</td>\n",
       "      <td>RESTO</td>\n",
       "      <td>asignacion_NLMPYME_Legacy_Ono</td>\n",
       "    </tr>\n",
       "    <tr>\n",
       "      <th>96186</th>\n",
       "      <td>antiguedad_24_36</td>\n",
       "      <td>CONVERGENTE</td>\n",
       "      <td>asignacion_NLMPYME_Legacy_Ono</td>\n",
       "    </tr>\n",
       "    <tr>\n",
       "      <th>96187</th>\n",
       "      <td>antiguedad_0_6</td>\n",
       "      <td>CONVERGENTE</td>\n",
       "      <td>asignacion_NLMPYME_Legacy_Ono</td>\n",
       "    </tr>\n",
       "  </tbody>\n",
       "</table>\n",
       "<p>96188 rows × 3 columns</p>\n",
       "</div>"
      ],
      "text/plain": [
       "                 var_105           var_174                        var_213\n",
       "0         antiguedad_0_6  HIPERCONVERGENTE         asignacion_NLMPYME_Low\n",
       "1       antiguedad_12_18       CONVERGENTE         asignacion_NLMPYME_Low\n",
       "2       antiguedad_36_72       CONVERGENTE         asignacion_NLMPYME_Low\n",
       "3        antiguedad_6_12       CONVERGENTE         asignacion_NLMPYME_Low\n",
       "4      antiguedad_gt_120             RESTO         asignacion_NLMPYME_Low\n",
       "...                  ...               ...                            ...\n",
       "96183  antiguedad_gt_120       CONVERGENTE  asignacion_NLMPYME_Legacy_Ono\n",
       "96184     antiguedad_0_6       CONVERGENTE         asignacion_NLMPYME_Low\n",
       "96185  antiguedad_gt_120             RESTO  asignacion_NLMPYME_Legacy_Ono\n",
       "96186   antiguedad_24_36       CONVERGENTE  asignacion_NLMPYME_Legacy_Ono\n",
       "96187     antiguedad_0_6       CONVERGENTE  asignacion_NLMPYME_Legacy_Ono\n",
       "\n",
       "[96188 rows x 3 columns]"
      ]
     },
     "execution_count": 69,
     "metadata": {},
     "output_type": "execute_result"
    }
   ],
   "source": [
    "# Columnas no numéricas\n",
    "df_no_num = datos_model.select_dtypes(exclude=[\"float64\", \"int64\"])\n",
    "df_no_num"
   ]
  },
  {
   "cell_type": "code",
   "execution_count": 138,
   "metadata": {
    "ExecuteTime": {
     "end_time": "2022-01-03T10:47:42.338317Z",
     "start_time": "2022-01-03T10:47:41.815953Z"
    }
   },
   "outputs": [
    {
     "data": {
      "image/png": "[encoded data removed]",
      "text/plain": [
       "<Figure size 1080x360 with 3 Axes>"
      ]
     },
     "metadata": {
      "needs_background": "light"
     },
     "output_type": "display_data"
    }
   ],
   "source": [
    "# Gráfico para cada variable cualitativa\n",
    "# ==============================================================================\n",
    "# Ajustar número de subplots en función del número de columnas\n",
    "fig, axes = plt.subplots(nrows=1, ncols=3, figsize=(15, 5))\n",
    "axes = axes.flat\n",
    "columnas_object = df_no_num.columns\n",
    "\n",
    "for i, colum in enumerate(columnas_object):\n",
    "    df_no_num[colum].value_counts().plot.barh(ax = axes[i])\n",
    "    axes[i].set_title(colum, fontsize = 10, fontweight = \"bold\")\n",
    "    axes[i].tick_params(labelsize = 10)\n",
    "    axes[i].set_xlabel(\"\")\n",
    "    \n",
    "fig.tight_layout()\n",
    "plt.subplots_adjust(top=0.85)\n",
    "fig.suptitle('Distribución variables cualitativas',\n",
    "             fontsize = 20, fontweight = \"bold\");"
   ]
  },
  {
   "cell_type": "markdown",
   "metadata": {},
   "source": [
    "### Numéricas"
   ]
  },
  {
   "cell_type": "code",
   "execution_count": 91,
   "metadata": {
    "ExecuteTime": {
     "end_time": "2022-01-03T10:26:50.342065Z",
     "start_time": "2022-01-03T10:26:35.473069Z"
    }
   },
   "outputs": [],
   "source": [
    "# Correlación entre columnas numéricas\n",
    "corr_mat = datos_model.select_dtypes(include=[\"float64\", \"int64\"]).corr(method='pearson')"
   ]
  },
  {
   "cell_type": "code",
   "execution_count": 92,
   "metadata": {
    "ExecuteTime": {
     "end_time": "2022-01-03T10:26:50.641107Z",
     "start_time": "2022-01-03T10:26:50.566175Z"
    }
   },
   "outputs": [
    {
     "data": {
      "text/html": [
       "<div>\n",
       "<style scoped>\n",
       "    .dataframe tbody tr th:only-of-type {\n",
       "        vertical-align: middle;\n",
       "    }\n",
       "\n",
       "    .dataframe tbody tr th {\n",
       "        vertical-align: top;\n",
       "    }\n",
       "\n",
       "    .dataframe thead th {\n",
       "        text-align: right;\n",
       "    }\n",
       "</style>\n",
       "<table border=\"1\" class=\"dataframe\">\n",
       "  <thead>\n",
       "    <tr style=\"text-align: right;\">\n",
       "      <th></th>\n",
       "      <th>var_1</th>\n",
       "      <th>var_2</th>\n",
       "      <th>r</th>\n",
       "      <th>abs_r</th>\n",
       "    </tr>\n",
       "  </thead>\n",
       "  <tbody>\n",
       "    <tr>\n",
       "      <th>36813</th>\n",
       "      <td>var_179</td>\n",
       "      <td>var_187</td>\n",
       "      <td>1.0</td>\n",
       "      <td>1.0</td>\n",
       "    </tr>\n",
       "    <tr>\n",
       "      <th>38348</th>\n",
       "      <td>var_187</td>\n",
       "      <td>var_36</td>\n",
       "      <td>1.0</td>\n",
       "      <td>1.0</td>\n",
       "    </tr>\n",
       "    <tr>\n",
       "      <th>38472</th>\n",
       "      <td>var_187</td>\n",
       "      <td>var_179</td>\n",
       "      <td>1.0</td>\n",
       "      <td>1.0</td>\n",
       "    </tr>\n",
       "    <tr>\n",
       "      <th>7301</th>\n",
       "      <td>var_36</td>\n",
       "      <td>var_187</td>\n",
       "      <td>1.0</td>\n",
       "      <td>1.0</td>\n",
       "    </tr>\n",
       "    <tr>\n",
       "      <th>5028</th>\n",
       "      <td>var_25</td>\n",
       "      <td>var_36</td>\n",
       "      <td>1.0</td>\n",
       "      <td>1.0</td>\n",
       "    </tr>\n",
       "  </tbody>\n",
       "</table>\n",
       "</div>"
      ],
      "text/plain": [
       "         var_1    var_2    r  abs_r\n",
       "36813  var_179  var_187  1.0    1.0\n",
       "38348  var_187   var_36  1.0    1.0\n",
       "38472  var_187  var_179  1.0    1.0\n",
       "7301    var_36  var_187  1.0    1.0\n",
       "5028    var_25   var_36  1.0    1.0"
      ]
     },
     "execution_count": 92,
     "metadata": {},
     "output_type": "execute_result"
    }
   ],
   "source": [
    "def tidy_corr_matrix(corr_mat):\n",
    "    '''\n",
    "    Convertir una matriz de correlación de pandas en formato tidy\n",
    "    '''\n",
    "    corr_mat = corr_mat.stack().reset_index()\n",
    "    corr_mat.columns = ['var_1','var_2','r']\n",
    "    corr_mat = corr_mat.loc[corr_mat['var_1'] != corr_mat['var_2'], :]\n",
    "    corr_mat['abs_r'] = np.abs(corr_mat['r'])\n",
    "    corr_mat = corr_mat.sort_values('abs_r', ascending=False)\n",
    "    \n",
    "    return(corr_mat)\n",
    "\n",
    "tidy_corr_mat = tidy_corr_matrix(corr_mat)\n",
    "tidy_corr_mat = tidy_corr_mat[(tidy_corr_mat[\"var_1\"] != \"label\") & (tidy_corr_mat[\"var_2\"] != \"label\")]\n",
    "tidy_corr_mat.head(5)"
   ]
  },
  {
   "cell_type": "code",
   "execution_count": 93,
   "metadata": {
    "ExecuteTime": {
     "end_time": "2022-01-03T10:26:50.878371Z",
     "start_time": "2022-01-03T10:26:50.850446Z"
    }
   },
   "outputs": [
    {
     "name": "stdout",
     "output_type": "stream",
     "text": [
      "0.0     96187\n",
      "20.0        1\n",
      "Name: var_179, dtype: int64\n",
      "0.0     96187\n",
      "30.0        1\n",
      "Name: var_187, dtype: int64\n"
     ]
    }
   ],
   "source": [
    "print(datos_model[\"var_179\"].value_counts())\n",
    "print(datos_model[\"var_187\"].value_counts())"
   ]
  },
  {
   "cell_type": "markdown",
   "metadata": {},
   "source": [
    "Columnas con prácticamente todos los valores constantes"
   ]
  },
  {
   "cell_type": "code",
   "execution_count": 94,
   "metadata": {
    "ExecuteTime": {
     "end_time": "2022-01-03T10:26:51.068862Z",
     "start_time": "2022-01-03T10:26:51.056895Z"
    }
   },
   "outputs": [
    {
     "name": "stdout",
     "output_type": "stream",
     "text": [
      "95% col mismo valor, número valores diferentes en col  4809.400000000009\n",
      "99% col mismo valor, número valores diferentes en col  961.8800000000047\n",
      "99,9% col mismo valor, número valores diferentes en col  96.18799999999464\n",
      "99,99% col mismo valor, número valores diferentes en col  9.618799999996554\n"
     ]
    }
   ],
   "source": [
    "print(\"95% col mismo valor, número valores diferentes en col \", 96188 - 0.95*96188)\n",
    "print(\"99% col mismo valor, número valores diferentes en col \", 96188 - 0.99*96188)\n",
    "print(\"99,9% col mismo valor, número valores diferentes en col \", 96188 - 0.999*96188)\n",
    "print(\"99,99% col mismo valor, número valores diferentes en col \", 96188 - 0.9999*96188)"
   ]
  },
  {
   "cell_type": "code",
   "execution_count": 95,
   "metadata": {
    "ExecuteTime": {
     "end_time": "2022-01-03T10:26:51.734978Z",
     "start_time": "2022-01-03T10:26:51.286375Z"
    }
   },
   "outputs": [
    {
     "name": "stdout",
     "output_type": "stream",
     "text": [
      "Número de columnas con valores constantes:  161\n",
      "['var_1', 'var_2', 'var_3', 'var_5', 'var_7', 'var_8', 'var_10', 'var_12', 'var_14', 'var_15', 'var_16', 'var_17', 'var_19', 'var_20', 'var_21', 'var_23', 'var_25', 'var_26', 'var_27', 'var_30', 'var_33', 'var_34', 'var_35', 'var_36', 'var_37', 'var_40', 'var_42', 'var_46', 'var_47', 'var_51', 'var_52', 'var_53', 'var_60', 'var_62', 'var_64', 'var_66', 'var_67', 'var_68', 'var_71', 'var_72', 'var_74', 'var_76', 'var_77', 'var_79', 'var_85', 'var_86', 'var_88', 'var_89', 'var_90', 'var_94', 'var_95', 'var_96', 'var_97', 'var_98', 'var_99', 'var_100', 'var_101', 'var_102', 'var_106', 'var_109', 'var_110', 'var_111', 'var_112', 'var_115', 'var_116', 'var_118', 'var_119', 'var_121', 'var_123', 'var_128', 'var_130', 'var_131', 'var_132', 'var_133', 'var_135', 'var_136', 'var_138', 'var_140', 'var_141', 'var_142', 'var_143', 'var_145', 'var_146', 'var_149', 'var_150', 'var_151', 'var_153', 'var_155', 'var_156', 'var_157', 'var_160', 'var_163', 'var_164', 'var_166', 'var_167', 'var_168', 'var_173', 'var_175', 'var_176', 'var_178', 'var_179', 'var_180', 'var_181', 'var_186', 'var_187', 'var_188', 'var_189', 'var_191', 'var_192', 'var_194', 'var_195', 'var_196', 'var_198', 'var_199', 'var_200', 'var_201', 'var_202', 'var_203', 'var_204', 'var_208', 'var_209', 'var_210', 'var_211', 'var_212', 'var_215', 'var_216', 'var_220', 'var_224', 'var_226', 'var_227', 'var_229', 'var_230', 'var_232', 'var_234', 'var_235', 'var_236', 'var_237', 'var_238', 'var_240', 'var_242', 'var_244', 'var_245', 'var_246', 'var_247', 'var_248', 'var_249', 'var_250', 'var_252', 'var_253', 'var_254', 'var_255', 'var_259', 'var_262', 'var_263', 'var_264', 'var_267', 'var_269', 'var_270', 'var_273', 'var_274', 'var_275']\n"
     ]
    }
   ],
   "source": [
    "# Limite \n",
    "x = 0.99 # % mismos valores en la columna \n",
    "\n",
    "# Numero de columnas con valores constantes\n",
    "def porcentaje_constante(col):\n",
    "    counts = col.value_counts().sort_values(ascending=False)\n",
    "    porc = counts.to_numpy()[0] / col.shape[0]\n",
    "    \n",
    "    return porc\n",
    "\n",
    "porc_constantes = []\n",
    "\n",
    "for col in datos_model.select_dtypes(include=[\"float64\", \"int64\"]):\n",
    "    if porcentaje_constante(datos_model[col]) >= x:\n",
    "        porc_constantes.append(col)\n",
    "        \n",
    "print(\"Número de columnas con valores constantes: \", len(porc_constantes))\n",
    "print(porc_constantes)"
   ]
  },
  {
   "cell_type": "code",
   "execution_count": 96,
   "metadata": {
    "ExecuteTime": {
     "end_time": "2022-01-03T10:26:52.033914Z",
     "start_time": "2022-01-03T10:26:51.964104Z"
    }
   },
   "outputs": [
    {
     "data": {
      "text/html": [
       "<div>\n",
       "<style scoped>\n",
       "    .dataframe tbody tr th:only-of-type {\n",
       "        vertical-align: middle;\n",
       "    }\n",
       "\n",
       "    .dataframe tbody tr th {\n",
       "        vertical-align: top;\n",
       "    }\n",
       "\n",
       "    .dataframe thead th {\n",
       "        text-align: right;\n",
       "    }\n",
       "</style>\n",
       "<table border=\"1\" class=\"dataframe\">\n",
       "  <thead>\n",
       "    <tr style=\"text-align: right;\">\n",
       "      <th></th>\n",
       "      <th>var_0</th>\n",
       "      <th>var_6</th>\n",
       "      <th>var_9</th>\n",
       "      <th>var_13</th>\n",
       "      <th>var_18</th>\n",
       "      <th>var_29</th>\n",
       "      <th>var_32</th>\n",
       "      <th>var_38</th>\n",
       "      <th>var_39</th>\n",
       "      <th>var_41</th>\n",
       "      <th>...</th>\n",
       "      <th>var_241</th>\n",
       "      <th>var_243</th>\n",
       "      <th>var_257</th>\n",
       "      <th>var_258</th>\n",
       "      <th>var_260</th>\n",
       "      <th>var_261</th>\n",
       "      <th>var_266</th>\n",
       "      <th>var_268</th>\n",
       "      <th>var_271</th>\n",
       "      <th>label</th>\n",
       "    </tr>\n",
       "  </thead>\n",
       "  <tbody>\n",
       "    <tr>\n",
       "      <th>0</th>\n",
       "      <td>9248245</td>\n",
       "      <td>0.00</td>\n",
       "      <td>1</td>\n",
       "      <td>0.0</td>\n",
       "      <td>1.0</td>\n",
       "      <td>0</td>\n",
       "      <td>576.00</td>\n",
       "      <td>0.0</td>\n",
       "      <td>0.000000</td>\n",
       "      <td>0</td>\n",
       "      <td>...</td>\n",
       "      <td>0.0</td>\n",
       "      <td>0.0</td>\n",
       "      <td>0.0</td>\n",
       "      <td>0.0</td>\n",
       "      <td>0.0</td>\n",
       "      <td>0.0</td>\n",
       "      <td>0.0</td>\n",
       "      <td>1.0</td>\n",
       "      <td>0.0</td>\n",
       "      <td>0</td>\n",
       "    </tr>\n",
       "    <tr>\n",
       "      <th>1</th>\n",
       "      <td>10037840</td>\n",
       "      <td>0.00</td>\n",
       "      <td>1</td>\n",
       "      <td>0.0</td>\n",
       "      <td>0.0</td>\n",
       "      <td>0</td>\n",
       "      <td>323.08</td>\n",
       "      <td>0.0</td>\n",
       "      <td>0.000000</td>\n",
       "      <td>1</td>\n",
       "      <td>...</td>\n",
       "      <td>0.0</td>\n",
       "      <td>0.0</td>\n",
       "      <td>0.0</td>\n",
       "      <td>0.0</td>\n",
       "      <td>1.0</td>\n",
       "      <td>0.0</td>\n",
       "      <td>0.0</td>\n",
       "      <td>0.0</td>\n",
       "      <td>0.0</td>\n",
       "      <td>0</td>\n",
       "    </tr>\n",
       "    <tr>\n",
       "      <th>2</th>\n",
       "      <td>10299029</td>\n",
       "      <td>24.44</td>\n",
       "      <td>0</td>\n",
       "      <td>0.0</td>\n",
       "      <td>1.0</td>\n",
       "      <td>0</td>\n",
       "      <td>0.00</td>\n",
       "      <td>0.0</td>\n",
       "      <td>3.451613</td>\n",
       "      <td>0</td>\n",
       "      <td>...</td>\n",
       "      <td>0.0</td>\n",
       "      <td>0.0</td>\n",
       "      <td>0.0</td>\n",
       "      <td>0.0</td>\n",
       "      <td>0.0</td>\n",
       "      <td>0.0</td>\n",
       "      <td>0.0</td>\n",
       "      <td>0.0</td>\n",
       "      <td>0.0</td>\n",
       "      <td>0</td>\n",
       "    </tr>\n",
       "    <tr>\n",
       "      <th>3</th>\n",
       "      <td>10907006</td>\n",
       "      <td>0.00</td>\n",
       "      <td>0</td>\n",
       "      <td>0.0</td>\n",
       "      <td>0.0</td>\n",
       "      <td>0</td>\n",
       "      <td>0.00</td>\n",
       "      <td>0.0</td>\n",
       "      <td>0.000000</td>\n",
       "      <td>0</td>\n",
       "      <td>...</td>\n",
       "      <td>0.0</td>\n",
       "      <td>0.0</td>\n",
       "      <td>0.0</td>\n",
       "      <td>0.0</td>\n",
       "      <td>0.0</td>\n",
       "      <td>0.0</td>\n",
       "      <td>0.0</td>\n",
       "      <td>0.0</td>\n",
       "      <td>0.0</td>\n",
       "      <td>0</td>\n",
       "    </tr>\n",
       "    <tr>\n",
       "      <th>4</th>\n",
       "      <td>14080498</td>\n",
       "      <td>0.00</td>\n",
       "      <td>0</td>\n",
       "      <td>0.0</td>\n",
       "      <td>0.0</td>\n",
       "      <td>0</td>\n",
       "      <td>0.00</td>\n",
       "      <td>0.0</td>\n",
       "      <td>0.000000</td>\n",
       "      <td>0</td>\n",
       "      <td>...</td>\n",
       "      <td>0.0</td>\n",
       "      <td>1.0</td>\n",
       "      <td>0.0</td>\n",
       "      <td>0.0</td>\n",
       "      <td>0.0</td>\n",
       "      <td>0.0</td>\n",
       "      <td>0.0</td>\n",
       "      <td>0.0</td>\n",
       "      <td>0.0</td>\n",
       "      <td>0</td>\n",
       "    </tr>\n",
       "  </tbody>\n",
       "</table>\n",
       "<p>5 rows × 80 columns</p>\n",
       "</div>"
      ],
      "text/plain": [
       "      var_0  var_6  var_9  var_13  var_18  var_29  var_32  var_38    var_39  \\\n",
       "0   9248245   0.00      1     0.0     1.0       0  576.00     0.0  0.000000   \n",
       "1  10037840   0.00      1     0.0     0.0       0  323.08     0.0  0.000000   \n",
       "2  10299029  24.44      0     0.0     1.0       0    0.00     0.0  3.451613   \n",
       "3  10907006   0.00      0     0.0     0.0       0    0.00     0.0  0.000000   \n",
       "4  14080498   0.00      0     0.0     0.0       0    0.00     0.0  0.000000   \n",
       "\n",
       "   var_41  ...  var_241  var_243  var_257  var_258  var_260  var_261  var_266  \\\n",
       "0       0  ...      0.0      0.0      0.0      0.0      0.0      0.0      0.0   \n",
       "1       1  ...      0.0      0.0      0.0      0.0      1.0      0.0      0.0   \n",
       "2       0  ...      0.0      0.0      0.0      0.0      0.0      0.0      0.0   \n",
       "3       0  ...      0.0      0.0      0.0      0.0      0.0      0.0      0.0   \n",
       "4       0  ...      0.0      1.0      0.0      0.0      0.0      0.0      0.0   \n",
       "\n",
       "   var_268  var_271  label  \n",
       "0      1.0      0.0      0  \n",
       "1      0.0      0.0      0  \n",
       "2      0.0      0.0      0  \n",
       "3      0.0      0.0      0  \n",
       "4      0.0      0.0      0  \n",
       "\n",
       "[5 rows x 80 columns]"
      ]
     },
     "execution_count": 96,
     "metadata": {},
     "output_type": "execute_result"
    }
   ],
   "source": [
    "# Eliminar columnas con % constante\n",
    "datos_model = datos_model.drop(porc_constantes, axis=1)\n",
    "datos_model.head()"
   ]
  },
  {
   "cell_type": "code",
   "execution_count": 97,
   "metadata": {
    "ExecuteTime": {
     "end_time": "2022-01-03T10:26:54.021915Z",
     "start_time": "2022-01-03T10:26:52.295524Z"
    }
   },
   "outputs": [
    {
     "data": {
      "text/html": [
       "<div>\n",
       "<style scoped>\n",
       "    .dataframe tbody tr th:only-of-type {\n",
       "        vertical-align: middle;\n",
       "    }\n",
       "\n",
       "    .dataframe tbody tr th {\n",
       "        vertical-align: top;\n",
       "    }\n",
       "\n",
       "    .dataframe thead th {\n",
       "        text-align: right;\n",
       "    }\n",
       "</style>\n",
       "<table border=\"1\" class=\"dataframe\">\n",
       "  <thead>\n",
       "    <tr style=\"text-align: right;\">\n",
       "      <th></th>\n",
       "      <th>var_1</th>\n",
       "      <th>var_2</th>\n",
       "      <th>r</th>\n",
       "      <th>abs_r</th>\n",
       "    </tr>\n",
       "  </thead>\n",
       "  <tbody>\n",
       "    <tr>\n",
       "      <th>4485</th>\n",
       "      <td>var_205</td>\n",
       "      <td>var_63</td>\n",
       "      <td>0.998921</td>\n",
       "      <td>0.998921</td>\n",
       "    </tr>\n",
       "    <tr>\n",
       "      <th>1521</th>\n",
       "      <td>var_63</td>\n",
       "      <td>var_205</td>\n",
       "      <td>0.998921</td>\n",
       "      <td>0.998921</td>\n",
       "    </tr>\n",
       "    <tr>\n",
       "      <th>3856</th>\n",
       "      <td>var_170</td>\n",
       "      <td>var_32</td>\n",
       "      <td>0.991456</td>\n",
       "      <td>0.991456</td>\n",
       "    </tr>\n",
       "    <tr>\n",
       "      <th>512</th>\n",
       "      <td>var_32</td>\n",
       "      <td>var_170</td>\n",
       "      <td>0.991456</td>\n",
       "      <td>0.991456</td>\n",
       "    </tr>\n",
       "    <tr>\n",
       "      <th>3453</th>\n",
       "      <td>var_148</td>\n",
       "      <td>var_231</td>\n",
       "      <td>-0.931877</td>\n",
       "      <td>0.931877</td>\n",
       "    </tr>\n",
       "  </tbody>\n",
       "</table>\n",
       "</div>"
      ],
      "text/plain": [
       "        var_1    var_2         r     abs_r\n",
       "4485  var_205   var_63  0.998921  0.998921\n",
       "1521   var_63  var_205  0.998921  0.998921\n",
       "3856  var_170   var_32  0.991456  0.991456\n",
       "512    var_32  var_170  0.991456  0.991456\n",
       "3453  var_148  var_231 -0.931877  0.931877"
      ]
     },
     "execution_count": 97,
     "metadata": {},
     "output_type": "execute_result"
    }
   ],
   "source": [
    "# Correlación entre columnas numéricas\n",
    "corr_mat = datos_model.corr(method='pearson')\n",
    "\n",
    "tidy_corr_mat = tidy_corr_matrix(corr_mat)\n",
    "tidy_corr_mat = tidy_corr_mat[(tidy_corr_mat[\"var_1\"] != \"label\") & (tidy_corr_mat[\"var_2\"] != \"label\")]\n",
    "tidy_corr_mat.head(5)"
   ]
  },
  {
   "cell_type": "code",
   "execution_count": 98,
   "metadata": {
    "ExecuteTime": {
     "end_time": "2022-01-03T10:26:54.992413Z",
     "start_time": "2022-01-03T10:26:54.333086Z"
    }
   },
   "outputs": [
    {
     "data": {
      "image/png": "[encoded data removed]",
      "text/plain": [
       "<Figure size 432x432 with 2 Axes>"
      ]
     },
     "metadata": {
      "needs_background": "light"
     },
     "output_type": "display_data"
    }
   ],
   "source": [
    "# Heatmap matriz de correlaciones\n",
    "# ==============================================================================\n",
    "fig, ax = plt.subplots(nrows=1, ncols=1, figsize=(6, 6))\n",
    "\n",
    "sns.heatmap(\n",
    "    corr_mat,\n",
    "    square    = True,\n",
    "    ax        = ax\n",
    ")\n",
    "\n",
    "ax.tick_params(labelsize = 3)"
   ]
  },
  {
   "cell_type": "markdown",
   "metadata": {},
   "source": [
    "# Modelado"
   ]
  },
  {
   "cell_type": "markdown",
   "metadata": {},
   "source": [
    "## Preprocesado"
   ]
  },
  {
   "cell_type": "code",
   "execution_count": 162,
   "metadata": {
    "ExecuteTime": {
     "end_time": "2022-01-03T11:13:45.635708Z",
     "start_time": "2022-01-03T11:13:45.478536Z"
    }
   },
   "outputs": [],
   "source": [
    "# División de los datos en train y test\n",
    "# ==============================================================================\n",
    "X = datos_model.drop(\"label\", axis=1)\n",
    "y = datos_model['label']\n",
    "\n",
    "X_train, X_test, y_train, y_test = train_test_split(\n",
    "                                        X,\n",
    "                                        y,\n",
    "                                        train_size   = 0.8,\n",
    "                                        random_state = 1234,\n",
    "                                        stratify     = y\n",
    "                                    )"
   ]
  },
  {
   "cell_type": "code",
   "execution_count": 175,
   "metadata": {
    "ExecuteTime": {
     "end_time": "2022-01-03T11:19:41.845746Z",
     "start_time": "2022-01-03T11:19:40.976336Z"
    }
   },
   "outputs": [],
   "source": [
    "# Preprocedado\n",
    "# ==============================================================================\n",
    "\n",
    "# Identificación de columnas numéricas y categóricas\n",
    "numeric_cols = X_train.select_dtypes(include=['float64', 'int64']).columns.to_list()\n",
    "cat_cols = X_train.select_dtypes(include=['object', 'category']).columns.to_list()\n",
    "\n",
    "\n",
    "# Transformaciones para las variables numéricas\n",
    "numeric_transformer = Pipeline(\n",
    "                        steps=[('scaler', StandardScaler())]\n",
    "                      )\n",
    "\n",
    "# Transformaciones para las variables categóricas\n",
    "categorical_transformer = Pipeline(\n",
    "                            steps=[('onehot', OneHotEncoder(handle_unknown='ignore'))]\n",
    "                          )\n",
    "\n",
    "preprocessor = ColumnTransformer(\n",
    "                    transformers=[\n",
    "                        ('numeric', numeric_transformer, numeric_cols),\n",
    "                        ('cat', categorical_transformer, cat_cols)\n",
    "                    ],\n",
    "                    remainder='passthrough'\n",
    "                )\n",
    "\n",
    "# Train\n",
    "# ==============================================================================\n",
    "# Se asigna el resultado a _ para que no se imprima por pantalla\n",
    "X_train_prep = preprocessor.fit_transform(X_train)\n",
    "X_test_prep  = preprocessor.transform(X_test)"
   ]
  },
  {
   "cell_type": "code",
   "execution_count": 193,
   "metadata": {
    "ExecuteTime": {
     "end_time": "2022-01-03T11:25:56.702565Z",
     "start_time": "2022-01-03T11:25:56.630758Z"
    }
   },
   "outputs": [
    {
     "name": "stdout",
     "output_type": "stream",
     "text": [
      "<class 'pandas.core.frame.DataFrame'>\n",
      "RangeIndex: 76950 entries, 0 to 76949\n",
      "Data columns (total 89 columns):\n",
      " #   Column                                 Non-Null Count  Dtype  \n",
      "---  ------                                 --------------  -----  \n",
      " 0   var_0                                  76950 non-null  float64\n",
      " 1   var_6                                  76950 non-null  float64\n",
      " 2   var_9                                  76950 non-null  float64\n",
      " 3   var_13                                 76950 non-null  float64\n",
      " 4   var_18                                 76950 non-null  float64\n",
      " 5   var_29                                 76950 non-null  float64\n",
      " 6   var_32                                 76950 non-null  float64\n",
      " 7   var_38                                 76950 non-null  float64\n",
      " 8   var_39                                 76950 non-null  float64\n",
      " 9   var_41                                 76950 non-null  float64\n",
      " 10  var_43                                 76950 non-null  float64\n",
      " 11  var_44                                 76950 non-null  float64\n",
      " 12  var_45                                 76950 non-null  float64\n",
      " 13  var_48                                 76950 non-null  float64\n",
      " 14  var_49                                 76950 non-null  float64\n",
      " 15  var_54                                 76950 non-null  float64\n",
      " 16  var_56                                 76950 non-null  float64\n",
      " 17  var_57                                 76950 non-null  float64\n",
      " 18  var_59                                 76950 non-null  float64\n",
      " 19  var_63                                 76950 non-null  float64\n",
      " 20  var_69                                 76950 non-null  float64\n",
      " 21  var_73                                 76950 non-null  float64\n",
      " 22  var_75                                 76950 non-null  float64\n",
      " 23  var_80                                 76950 non-null  float64\n",
      " 24  var_81                                 76950 non-null  float64\n",
      " 25  var_82                                 76950 non-null  float64\n",
      " 26  var_83                                 76950 non-null  float64\n",
      " 27  var_87                                 76950 non-null  float64\n",
      " 28  var_92                                 76950 non-null  float64\n",
      " 29  var_93                                 76950 non-null  float64\n",
      " 30  var_103                                76950 non-null  float64\n",
      " 31  var_104                                76950 non-null  float64\n",
      " 32  var_107                                76950 non-null  float64\n",
      " 33  var_108                                76950 non-null  float64\n",
      " 34  var_117                                76950 non-null  float64\n",
      " 35  var_120                                76950 non-null  float64\n",
      " 36  var_122                                76950 non-null  float64\n",
      " 37  var_124                                76950 non-null  float64\n",
      " 38  var_126                                76950 non-null  float64\n",
      " 39  var_129                                76950 non-null  float64\n",
      " 40  var_134                                76950 non-null  float64\n",
      " 41  var_137                                76950 non-null  float64\n",
      " 42  var_139                                76950 non-null  float64\n",
      " 43  var_144                                76950 non-null  float64\n",
      " 44  var_148                                76950 non-null  float64\n",
      " 45  var_152                                76950 non-null  float64\n",
      " 46  var_159                                76950 non-null  float64\n",
      " 47  var_161                                76950 non-null  float64\n",
      " 48  var_162                                76950 non-null  float64\n",
      " 49  var_165                                76950 non-null  float64\n",
      " 50  var_170                                76950 non-null  float64\n",
      " 51  var_171                                76950 non-null  float64\n",
      " 52  var_172                                76950 non-null  float64\n",
      " 53  var_177                                76950 non-null  float64\n",
      " 54  var_183                                76950 non-null  float64\n",
      " 55  var_184                                76950 non-null  float64\n",
      " 56  var_185                                76950 non-null  float64\n",
      " 57  var_197                                76950 non-null  float64\n",
      " 58  var_205                                76950 non-null  float64\n",
      " 59  var_207                                76950 non-null  float64\n",
      " 60  var_218                                76950 non-null  float64\n",
      " 61  var_219                                76950 non-null  float64\n",
      " 62  var_222                                76950 non-null  float64\n",
      " 63  var_223                                76950 non-null  float64\n",
      " 64  var_228                                76950 non-null  float64\n",
      " 65  var_231                                76950 non-null  float64\n",
      " 66  var_239                                76950 non-null  float64\n",
      " 67  var_241                                76950 non-null  float64\n",
      " 68  var_243                                76950 non-null  float64\n",
      " 69  var_257                                76950 non-null  float64\n",
      " 70  var_258                                76950 non-null  float64\n",
      " 71  var_260                                76950 non-null  float64\n",
      " 72  var_261                                76950 non-null  float64\n",
      " 73  var_266                                76950 non-null  float64\n",
      " 74  var_268                                76950 non-null  float64\n",
      " 75  var_271                                76950 non-null  float64\n",
      " 76  var_105_antiguedad_0_6                 76950 non-null  float64\n",
      " 77  var_105_antiguedad_12_18               76950 non-null  float64\n",
      " 78  var_105_antiguedad_18_24               76950 non-null  float64\n",
      " 79  var_105_antiguedad_24_36               76950 non-null  float64\n",
      " 80  var_105_antiguedad_36_72               76950 non-null  float64\n",
      " 81  var_105_antiguedad_6_12                76950 non-null  float64\n",
      " 82  var_105_antiguedad_72_120              76950 non-null  float64\n",
      " 83  var_105_antiguedad_gt_120              76950 non-null  float64\n",
      " 84  var_174_CONVERGENTE                    76950 non-null  float64\n",
      " 85  var_174_HIPERCONVERGENTE               76950 non-null  float64\n",
      " 86  var_174_RESTO                          76950 non-null  float64\n",
      " 87  var_213_asignacion_NLMPYME_Legacy_Ono  76950 non-null  float64\n",
      " 88  var_213_asignacion_NLMPYME_Low         76950 non-null  float64\n",
      "dtypes: float64(89)\n",
      "memory usage: 52.3 MB\n"
     ]
    },
    {
     "name": "stderr",
     "output_type": "stream",
     "text": [
      "C:\\Users\\JESCOBARO\\Anaconda3\\envs\\skforecast\\lib\\site-packages\\sklearn\\utils\\deprecation.py:87: FutureWarning: Function get_feature_names is deprecated; get_feature_names is deprecated in 1.0 and will be removed in 1.2. Please use get_feature_names_out instead.\n",
      "  warnings.warn(msg, category=FutureWarning)\n"
     ]
    }
   ],
   "source": [
    "# Convertir el output en dataframe y añadir el nombre de las columnas\n",
    "# ==============================================================================\n",
    "encoded_cat = preprocessor.named_transformers_[\"cat\"]['onehot'].get_feature_names(cat_cols)\n",
    "labels = np.concatenate([numeric_cols, encoded_cat])\n",
    "datos_train_prep = pd.DataFrame(X_train_prep, columns=labels)\n",
    "datos_train_prep.info()"
   ]
  },
  {
   "cell_type": "markdown",
   "metadata": {},
   "source": [
    "## LogisticRegression sin penalización"
   ]
  },
  {
   "cell_type": "code",
   "execution_count": 195,
   "metadata": {
    "ExecuteTime": {
     "end_time": "2022-01-03T11:29:18.501122Z",
     "start_time": "2022-01-03T11:29:15.183003Z"
    }
   },
   "outputs": [
    {
     "data": {
      "text/plain": [
       "LogisticRegression(max_iter=1000, penalty='none', random_state=1234)"
      ]
     },
     "execution_count": 195,
     "metadata": {},
     "output_type": "execute_result"
    }
   ],
   "source": [
    "# Creación del modelo\n",
    "# ==============================================================================\n",
    "# Para no incluir ningún tipo de regularización en el modelo se indica\n",
    "# penalty='none'\n",
    "modelo = LogisticRegression(penalty='none',\n",
    "                            max_iter = 1000,\n",
    "                            random_state = 1234)\n",
    "modelo.fit(X = X_train_prep, y = y_train)"
   ]
  },
  {
   "cell_type": "code",
   "execution_count": 196,
   "metadata": {
    "ExecuteTime": {
     "end_time": "2022-01-03T11:30:57.312567Z",
     "start_time": "2022-01-03T11:30:57.281650Z"
    }
   },
   "outputs": [],
   "source": [
    "# Predicción\n",
    "# ==============================================================================\n",
    "predicciones = modelo.predict(X_test_prep)"
   ]
  },
  {
   "cell_type": "code",
   "execution_count": 243,
   "metadata": {
    "ExecuteTime": {
     "end_time": "2022-01-03T11:58:26.488780Z",
     "start_time": "2022-01-03T11:58:26.458865Z"
    }
   },
   "outputs": [
    {
     "name": "stdout",
     "output_type": "stream",
     "text": [
      "Porcentaje de la clase mayoritaria:  96.3685698839772 %\n",
      "\n",
      "El accuracy de test es: 96.34577398898014 %\n",
      "\n",
      "El balanced accuracy de test es: 0.2537588277150782 %\n"
     ]
    }
   ],
   "source": [
    "print(\"Porcentaje de la clase mayoritaria: \", 100 * datos_model_raw['label'].value_counts(normalize=True)[0],\"%\")\n",
    "\n",
    "accuracy = accuracy_score(\n",
    "            y_true    = y_test,\n",
    "            y_pred    = predicciones,\n",
    "            normalize = True\n",
    "           )\n",
    "print(\"\")\n",
    "print(f\"El accuracy de test es: {100*accuracy} %\")\n",
    "\n",
    "balanced_accuracy = balanced_accuracy_score(\n",
    "                        y_true    = y_test,\n",
    "                        y_pred    = predicciones,\n",
    "                        adjusted  = True\n",
    "           )\n",
    "print(\"\")\n",
    "print(f\"El balanced accuracy de test es: {100*balanced_accuracy} %\")"
   ]
  },
  {
   "cell_type": "code",
   "execution_count": 236,
   "metadata": {
    "ExecuteTime": {
     "end_time": "2022-01-03T11:55:42.781827Z",
     "start_time": "2022-01-03T11:55:42.748914Z"
    }
   },
   "outputs": [
    {
     "data": {
      "text/html": [
       "<div>\n",
       "<style scoped>\n",
       "    .dataframe tbody tr th:only-of-type {\n",
       "        vertical-align: middle;\n",
       "    }\n",
       "\n",
       "    .dataframe tbody tr th {\n",
       "        vertical-align: top;\n",
       "    }\n",
       "\n",
       "    .dataframe thead th {\n",
       "        text-align: right;\n",
       "    }\n",
       "</style>\n",
       "<table border=\"1\" class=\"dataframe\">\n",
       "  <thead>\n",
       "    <tr style=\"text-align: right;\">\n",
       "      <th>Predicción</th>\n",
       "      <th>0</th>\n",
       "      <th>1</th>\n",
       "    </tr>\n",
       "    <tr>\n",
       "      <th>Real</th>\n",
       "      <th></th>\n",
       "      <th></th>\n",
       "    </tr>\n",
       "  </thead>\n",
       "  <tbody>\n",
       "    <tr>\n",
       "      <th>0</th>\n",
       "      <td>18533</td>\n",
       "      <td>6</td>\n",
       "    </tr>\n",
       "    <tr>\n",
       "      <th>1</th>\n",
       "      <td>697</td>\n",
       "      <td>2</td>\n",
       "    </tr>\n",
       "  </tbody>\n",
       "</table>\n",
       "</div>"
      ],
      "text/plain": [
       "Predicción      0  1\n",
       "Real                \n",
       "0           18533  6\n",
       "1             697  2"
      ]
     },
     "execution_count": 236,
     "metadata": {},
     "output_type": "execute_result"
    }
   ],
   "source": [
    "# Matriz de confusión de las predicciones de test\n",
    "# ==============================================================================\n",
    "df_predicciones = pd.DataFrame({\"predicciones\": predicciones, \"label\": y_test})\n",
    "\n",
    "confusion_matrix = pd.crosstab(\n",
    "    df_predicciones.label,\n",
    "    df_predicciones.predicciones,\n",
    "    rownames=['Real'],\n",
    "    colnames=['Predicción']\n",
    ")\n",
    "confusion_matrix"
   ]
  },
  {
   "cell_type": "code",
   "execution_count": 249,
   "metadata": {
    "ExecuteTime": {
     "end_time": "2022-01-03T14:05:26.518935Z",
     "start_time": "2022-01-03T14:05:25.410063Z"
    }
   },
   "outputs": [
    {
     "data": {
      "image/png": "[encoded data removed]",
      "text/plain": [
       "<Figure size 792x276.48 with 1 Axes>"
      ]
     },
     "metadata": {
      "needs_background": "light"
     },
     "output_type": "display_data"
    }
   ],
   "source": [
    "# Coeficientes del modelo\n",
    "# ==============================================================================\n",
    "df_coeficientes = pd.DataFrame(\n",
    "                        {'predictor': datos_train_prep.columns,\n",
    "                         'coef': modelo.coef_.flatten()}\n",
    "                  )\n",
    "\n",
    "fig, ax = plt.subplots(figsize=(11, 3.84))\n",
    "ax.stem(df_coeficientes.predictor, df_coeficientes.coef, markerfmt=' ')\n",
    "plt.xticks(rotation=90, ha='right', size=5)\n",
    "ax.set_xlabel('variable')\n",
    "ax.set_ylabel('coeficientes')\n",
    "ax.set_title('Coeficientes del modelo')\n",
    "plt.show();"
   ]
  },
  {
   "cell_type": "markdown",
   "metadata": {},
   "source": [
    "## LogisticRegression con penalización"
   ]
  },
  {
   "cell_type": "markdown",
   "metadata": {},
   "source": [
    "### Ridge"
   ]
  },
  {
   "cell_type": "code",
   "execution_count": 265,
   "metadata": {
    "ExecuteTime": {
     "end_time": "2022-01-03T16:03:00.213636Z",
     "start_time": "2022-01-03T16:02:44.553033Z"
    }
   },
   "outputs": [
    {
     "data": {
      "text/plain": [
       "RidgeClassifierCV(alphas=array([1.00000000e-10, 1.14895100e-10, 1.32008840e-10, 1.51671689e-10,\n",
       "       1.74263339e-10, 2.00220037e-10, 2.30043012e-10, 2.64308149e-10,\n",
       "       3.03677112e-10, 3.48910121e-10, 4.00880633e-10, 4.60592204e-10,\n",
       "       5.29197874e-10, 6.08022426e-10, 6.98587975e-10, 8.02643352e-10,\n",
       "       9.22197882e-10, 1.05956018e-09, 1.21738273e-09, 1.39871310e-09,\n",
       "       1.60705282e-09, 1.8...\n",
       "       4.10265811e+00, 4.71375313e+00, 5.41587138e+00, 6.22257084e+00,\n",
       "       7.14942899e+00, 8.21434358e+00, 9.43787828e+00, 1.08436597e+01,\n",
       "       1.24588336e+01, 1.43145894e+01, 1.64467618e+01, 1.88965234e+01,\n",
       "       2.17111795e+01, 2.49450814e+01, 2.86606762e+01, 3.29297126e+01,\n",
       "       3.78346262e+01, 4.34701316e+01, 4.99450512e+01, 5.73844165e+01,\n",
       "       6.59318827e+01, 7.57525026e+01, 8.70359136e+01, 1.00000000e+02]),\n",
       "                  store_cv_values=True)"
      ]
     },
     "execution_count": 265,
     "metadata": {},
     "output_type": "execute_result"
    }
   ],
   "source": [
    "# Creación y entrenamiento del modelo (con búsqueda por CV del valor óptimo alpha)\n",
    "# ==============================================================================\n",
    "modelo = RidgeClassifierCV(\n",
    "            alphas          = np.logspace(-10, 2, 200),\n",
    "            fit_intercept   = True,\n",
    "            store_cv_values = True\n",
    "         )\n",
    "\n",
    "modelo.fit(X = X_train_prep, y = y_train)"
   ]
  },
  {
   "cell_type": "code",
   "execution_count": 273,
   "metadata": {
    "ExecuteTime": {
     "end_time": "2022-01-03T16:22:47.735272Z",
     "start_time": "2022-01-03T16:22:12.302606Z"
    }
   },
   "outputs": [
    {
     "name": "stderr",
     "output_type": "stream",
     "text": [
      "C:\\Users\\JESCOBARO\\Anaconda3\\envs\\skforecast\\lib\\site-packages\\sklearn\\linear_model\\_ridge.py:156: LinAlgWarning: Ill-conditioned matrix (rcond=3.84703e-17): result may not be accurate.\n",
      "  return linalg.solve(A, Xy, sym_pos=True, overwrite_a=True).T\n",
      "C:\\Users\\JESCOBARO\\Anaconda3\\envs\\skforecast\\lib\\site-packages\\sklearn\\linear_model\\_ridge.py:156: LinAlgWarning: Ill-conditioned matrix (rcond=4.94992e-17): result may not be accurate.\n",
      "  return linalg.solve(A, Xy, sym_pos=True, overwrite_a=True).T\n",
      "C:\\Users\\JESCOBARO\\Anaconda3\\envs\\skforecast\\lib\\site-packages\\sklearn\\linear_model\\_ridge.py:156: LinAlgWarning: Ill-conditioned matrix (rcond=6.39921e-17): result may not be accurate.\n",
      "  return linalg.solve(A, Xy, sym_pos=True, overwrite_a=True).T\n",
      "C:\\Users\\JESCOBARO\\Anaconda3\\envs\\skforecast\\lib\\site-packages\\sklearn\\linear_model\\_ridge.py:156: LinAlgWarning: Ill-conditioned matrix (rcond=6.80362e-17): result may not be accurate.\n",
      "  return linalg.solve(A, Xy, sym_pos=True, overwrite_a=True).T\n",
      "C:\\Users\\JESCOBARO\\Anaconda3\\envs\\skforecast\\lib\\site-packages\\sklearn\\linear_model\\_ridge.py:156: LinAlgWarning: Ill-conditioned matrix (rcond=9.3677e-17): result may not be accurate.\n",
      "  return linalg.solve(A, Xy, sym_pos=True, overwrite_a=True).T\n"
     ]
    },
    {
     "data": {
      "image/png": "[encoded data removed]",
      "text/plain": [
       "<Figure size 1080x1080 with 2 Axes>"
      ]
     },
     "metadata": {},
     "output_type": "display_data"
    }
   ],
   "source": [
    "# Evolución de los coeficientes en función de alpha\n",
    "# ==============================================================================\n",
    "alphas = modelo.alphas\n",
    "coefs = []\n",
    "scores = []\n",
    "\n",
    "for alpha in alphas:\n",
    "    modelo_temp = RidgeClassifier(alpha=alpha, fit_intercept=True)\n",
    "    modelo_temp.fit(X_train_prep, y_train)\n",
    "    coefs.append(modelo_temp.coef_.flatten())\n",
    "    scores.append(modelo_temp.score(X_test_prep, y_test))\n",
    "\n",
    "# fig, ax = plt.subplots(figsize=(7, 3.84))\n",
    "# ax.plot(alphas, coefs)\n",
    "# ax.set_xscale('log')\n",
    "# ax.set_xlabel('alpha')\n",
    "# ax.set_ylabel('coeficientes')\n",
    "# ax.set_title('Coeficientes del modelo en función de la regularización');\n",
    "# plt.axis('tight')\n",
    "# plt.show()"
   ]
  },
  {
   "cell_type": "code",
   "execution_count": 279,
   "metadata": {
    "ExecuteTime": {
     "end_time": "2022-01-03T16:25:56.502739Z",
     "start_time": "2022-01-03T16:25:55.802101Z"
    }
   },
   "outputs": [
    {
     "data": {
      "image/png": "[encoded data removed]",
      "text/plain": [
       "<Figure size 1080x720 with 2 Axes>"
      ]
     },
     "metadata": {},
     "output_type": "display_data"
    }
   ],
   "source": [
    "fig, axes = plt.subplots(nrows=2, ncols=1, figsize=(15, 10))\n",
    "axes = axes.flat\n",
    "\n",
    "axes[0].plot(alphas, coefs)\n",
    "axes[0].set_xscale('log')\n",
    "axes[0].set_xlabel('alpha')\n",
    "axes[0].set_ylabel('coeficientes')\n",
    "axes[0].set_title('Coeficientes del modelo en función de la regularización')\n",
    "\n",
    "axes[1].plot(alphas, scores)\n",
    "axes[1].set_xscale('log')\n",
    "axes[1].set_xlabel('scores')\n",
    "axes[1].set_ylabel('scores')\n",
    "axes[1].set_title('scores del modelo en función de la regularización')\n",
    "axes[1].set_ylim(0.95, 0.98)\n",
    "\n",
    "fig.tight_layout()\n",
    "plt.subplots_adjust(top=0.90)\n",
    "fig.suptitle('Distribución variables cualitativas',\n",
    "             fontsize = 20, fontweight = \"bold\")\n",
    "plt.show();"
   ]
  },
  {
   "cell_type": "code",
   "execution_count": 257,
   "metadata": {
    "ExecuteTime": {
     "end_time": "2022-01-03T15:21:10.612043Z",
     "start_time": "2022-01-03T15:21:10.522283Z"
    }
   },
   "outputs": [],
   "source": [
    "# Predicción\n",
    "# ==============================================================================\n",
    "predicciones = modelo.predict(X_test_prep)"
   ]
  },
  {
   "cell_type": "code",
   "execution_count": 301,
   "metadata": {
    "ExecuteTime": {
     "end_time": "2022-01-03T17:43:51.735099Z",
     "start_time": "2022-01-03T17:43:51.687681Z"
    }
   },
   "outputs": [
    {
     "name": "stdout",
     "output_type": "stream",
     "text": [
      "Porcentaje de la clase mayoritaria:  96.3685698839772 %\n",
      "\n",
      "El accuracy de test es: 96.36656617111966 %\n",
      "\n",
      "El balanced accuracy de test es: 0.0 %\n"
     ]
    }
   ],
   "source": [
    "print(\"Porcentaje de la clase mayoritaria: \", 100 * datos_model_raw['label'].value_counts(normalize=True)[0],\"%\")\n",
    "\n",
    "accuracy = accuracy_score(\n",
    "            y_true    = y_test,\n",
    "            y_pred    = predicciones,\n",
    "            normalize = True\n",
    "           )\n",
    "print(\"\")\n",
    "print(f\"El accuracy de test es: {100*accuracy} %\")\n",
    "\n",
    "balanced_accuracy = balanced_accuracy_score(\n",
    "                        y_true    = y_test,\n",
    "                        y_pred    = predicciones,\n",
    "                        adjusted  = True\n",
    "           )\n",
    "print(\"\")\n",
    "print(f\"El balanced accuracy de test es: {100*balanced_accuracy} %\")"
   ]
  },
  {
   "cell_type": "code",
   "execution_count": 281,
   "metadata": {
    "ExecuteTime": {
     "end_time": "2022-01-03T16:26:02.252679Z",
     "start_time": "2022-01-03T16:26:02.192192Z"
    }
   },
   "outputs": [
    {
     "data": {
      "text/html": [
       "<div>\n",
       "<style scoped>\n",
       "    .dataframe tbody tr th:only-of-type {\n",
       "        vertical-align: middle;\n",
       "    }\n",
       "\n",
       "    .dataframe tbody tr th {\n",
       "        vertical-align: top;\n",
       "    }\n",
       "\n",
       "    .dataframe thead th {\n",
       "        text-align: right;\n",
       "    }\n",
       "</style>\n",
       "<table border=\"1\" class=\"dataframe\">\n",
       "  <thead>\n",
       "    <tr style=\"text-align: right;\">\n",
       "      <th>Predicción</th>\n",
       "      <th>0</th>\n",
       "    </tr>\n",
       "    <tr>\n",
       "      <th>Real</th>\n",
       "      <th></th>\n",
       "    </tr>\n",
       "  </thead>\n",
       "  <tbody>\n",
       "    <tr>\n",
       "      <th>0</th>\n",
       "      <td>18539</td>\n",
       "    </tr>\n",
       "    <tr>\n",
       "      <th>1</th>\n",
       "      <td>699</td>\n",
       "    </tr>\n",
       "  </tbody>\n",
       "</table>\n",
       "</div>"
      ],
      "text/plain": [
       "Predicción      0\n",
       "Real             \n",
       "0           18539\n",
       "1             699"
      ]
     },
     "execution_count": 281,
     "metadata": {},
     "output_type": "execute_result"
    }
   ],
   "source": [
    "# Matriz de confusión de las predicciones de test\n",
    "# ==============================================================================\n",
    "df_predicciones = pd.DataFrame({\"predicciones\": predicciones, \"label\": y_test})\n",
    "\n",
    "confusion_matrix = pd.crosstab(\n",
    "    df_predicciones.label,\n",
    "    df_predicciones.predicciones,\n",
    "    rownames=['Real'],\n",
    "    colnames=['Predicción']\n",
    ")\n",
    "confusion_matrix"
   ]
  },
  {
   "cell_type": "markdown",
   "metadata": {},
   "source": [
    "### Logistic Regression L1"
   ]
  },
  {
   "cell_type": "code",
   "execution_count": 297,
   "metadata": {
    "ExecuteTime": {
     "end_time": "2022-01-03T17:25:24.168236Z",
     "start_time": "2022-01-03T17:25:07.259375Z"
    }
   },
   "outputs": [
    {
     "name": "stderr",
     "output_type": "stream",
     "text": [
      "[Parallel(n_jobs=3)]: Using backend ThreadingBackend with 3 concurrent workers.\n"
     ]
    },
    {
     "name": "stdout",
     "output_type": "stream",
     "text": [
      "convergence after 5 epochs took 1 seconds\n",
      "convergence after 5 epochs took 1 seconds\n",
      "convergence after 6 epochs took 1 seconds\n",
      "max_iter reached after 1 seconds\n",
      "max_iter reached after 1 seconds\n",
      "max_iter reached after 1 seconds\n"
     ]
    },
    {
     "name": "stderr",
     "output_type": "stream",
     "text": [
      "C:\\Users\\JESCOBARO\\Anaconda3\\envs\\skforecast\\lib\\site-packages\\sklearn\\linear_model\\_sag.py:354: ConvergenceWarning: The max_iter was reached which means the coef_ did not converge\n",
      "  ConvergenceWarning,\n",
      "C:\\Users\\JESCOBARO\\Anaconda3\\envs\\skforecast\\lib\\site-packages\\sklearn\\linear_model\\_sag.py:354: ConvergenceWarning: The max_iter was reached which means the coef_ did not converge\n",
      "  ConvergenceWarning,\n",
      "C:\\Users\\JESCOBARO\\Anaconda3\\envs\\skforecast\\lib\\site-packages\\sklearn\\linear_model\\_sag.py:354: ConvergenceWarning: The max_iter was reached which means the coef_ did not converge\n",
      "  ConvergenceWarning,\n"
     ]
    },
    {
     "name": "stdout",
     "output_type": "stream",
     "text": [
      "max_iter reached after 2 seconds\n",
      "max_iter reached after 2 seconds"
     ]
    },
    {
     "name": "stderr",
     "output_type": "stream",
     "text": [
      "C:\\Users\\JESCOBARO\\Anaconda3\\envs\\skforecast\\lib\\site-packages\\sklearn\\linear_model\\_sag.py:354: ConvergenceWarning: The max_iter was reached which means the coef_ did not converge\n",
      "  ConvergenceWarning,\n"
     ]
    },
    {
     "name": "stdout",
     "output_type": "stream",
     "text": [
      "\n",
      "max_iter reached after 2 seconds\n"
     ]
    },
    {
     "name": "stderr",
     "output_type": "stream",
     "text": [
      "C:\\Users\\JESCOBARO\\Anaconda3\\envs\\skforecast\\lib\\site-packages\\sklearn\\linear_model\\_sag.py:354: ConvergenceWarning: The max_iter was reached which means the coef_ did not converge\n",
      "  ConvergenceWarning,\n",
      "C:\\Users\\JESCOBARO\\Anaconda3\\envs\\skforecast\\lib\\site-packages\\sklearn\\linear_model\\_sag.py:354: ConvergenceWarning: The max_iter was reached which means the coef_ did not converge\n",
      "  ConvergenceWarning,\n"
     ]
    },
    {
     "name": "stdout",
     "output_type": "stream",
     "text": [
      "max_iter reached after 2 seconds\n",
      "max_iter reached after 2 seconds\n",
      "max_iter reached after 2 seconds\n"
     ]
    },
    {
     "name": "stderr",
     "output_type": "stream",
     "text": [
      "C:\\Users\\JESCOBARO\\Anaconda3\\envs\\skforecast\\lib\\site-packages\\sklearn\\linear_model\\_sag.py:354: ConvergenceWarning: The max_iter was reached which means the coef_ did not converge\n",
      "  ConvergenceWarning,\n",
      "C:\\Users\\JESCOBARO\\Anaconda3\\envs\\skforecast\\lib\\site-packages\\sklearn\\linear_model\\_sag.py:354: ConvergenceWarning: The max_iter was reached which means the coef_ did not converge\n",
      "  ConvergenceWarning,\n",
      "C:\\Users\\JESCOBARO\\Anaconda3\\envs\\skforecast\\lib\\site-packages\\sklearn\\linear_model\\_sag.py:354: ConvergenceWarning: The max_iter was reached which means the coef_ did not converge\n",
      "  ConvergenceWarning,\n"
     ]
    },
    {
     "name": "stdout",
     "output_type": "stream",
     "text": [
      "max_iter reached after 1 seconds\n",
      "max_iter reached after 1 seconds\n",
      "max_iter reached after 1 seconds\n"
     ]
    },
    {
     "name": "stderr",
     "output_type": "stream",
     "text": [
      "C:\\Users\\JESCOBARO\\Anaconda3\\envs\\skforecast\\lib\\site-packages\\sklearn\\linear_model\\_sag.py:354: ConvergenceWarning: The max_iter was reached which means the coef_ did not converge\n",
      "  ConvergenceWarning,\n",
      "C:\\Users\\JESCOBARO\\Anaconda3\\envs\\skforecast\\lib\\site-packages\\sklearn\\linear_model\\_sag.py:354: ConvergenceWarning: The max_iter was reached which means the coef_ did not converge\n",
      "  ConvergenceWarning,\n",
      "C:\\Users\\JESCOBARO\\Anaconda3\\envs\\skforecast\\lib\\site-packages\\sklearn\\linear_model\\_sag.py:354: ConvergenceWarning: The max_iter was reached which means the coef_ did not converge\n",
      "  ConvergenceWarning,\n"
     ]
    },
    {
     "name": "stdout",
     "output_type": "stream",
     "text": [
      "max_iter reached after 1 seconds\n",
      "max_iter reached after 1 seconds\n",
      "max_iter reached after 1 seconds\n"
     ]
    },
    {
     "name": "stderr",
     "output_type": "stream",
     "text": [
      "C:\\Users\\JESCOBARO\\Anaconda3\\envs\\skforecast\\lib\\site-packages\\sklearn\\linear_model\\_sag.py:354: ConvergenceWarning: The max_iter was reached which means the coef_ did not converge\n",
      "  ConvergenceWarning,\n",
      "C:\\Users\\JESCOBARO\\Anaconda3\\envs\\skforecast\\lib\\site-packages\\sklearn\\linear_model\\_sag.py:354: ConvergenceWarning: The max_iter was reached which means the coef_ did not converge\n",
      "  ConvergenceWarning,\n",
      "C:\\Users\\JESCOBARO\\Anaconda3\\envs\\skforecast\\lib\\site-packages\\sklearn\\linear_model\\_sag.py:354: ConvergenceWarning: The max_iter was reached which means the coef_ did not converge\n",
      "  ConvergenceWarning,\n"
     ]
    },
    {
     "name": "stdout",
     "output_type": "stream",
     "text": [
      "max_iter reached after 2 seconds\n",
      "max_iter reached after 2 seconds\n",
      "max_iter reached after 2 seconds\n"
     ]
    },
    {
     "name": "stderr",
     "output_type": "stream",
     "text": [
      "C:\\Users\\JESCOBARO\\Anaconda3\\envs\\skforecast\\lib\\site-packages\\sklearn\\linear_model\\_sag.py:354: ConvergenceWarning: The max_iter was reached which means the coef_ did not converge\n",
      "  ConvergenceWarning,\n",
      "C:\\Users\\JESCOBARO\\Anaconda3\\envs\\skforecast\\lib\\site-packages\\sklearn\\linear_model\\_sag.py:354: ConvergenceWarning: The max_iter was reached which means the coef_ did not converge\n",
      "  ConvergenceWarning,\n",
      "C:\\Users\\JESCOBARO\\Anaconda3\\envs\\skforecast\\lib\\site-packages\\sklearn\\linear_model\\_sag.py:354: ConvergenceWarning: The max_iter was reached which means the coef_ did not converge\n",
      "  ConvergenceWarning,\n"
     ]
    },
    {
     "name": "stdout",
     "output_type": "stream",
     "text": [
      "max_iter reached after 1 seconds\n",
      "max_iter reached after 1 seconds\n"
     ]
    },
    {
     "name": "stderr",
     "output_type": "stream",
     "text": [
      "C:\\Users\\JESCOBARO\\Anaconda3\\envs\\skforecast\\lib\\site-packages\\sklearn\\linear_model\\_sag.py:354: ConvergenceWarning: The max_iter was reached which means the coef_ did not converge\n",
      "  ConvergenceWarning,\n",
      "C:\\Users\\JESCOBARO\\Anaconda3\\envs\\skforecast\\lib\\site-packages\\sklearn\\linear_model\\_sag.py:354: ConvergenceWarning: The max_iter was reached which means the coef_ did not converge\n",
      "  ConvergenceWarning,\n"
     ]
    },
    {
     "name": "stdout",
     "output_type": "stream",
     "text": [
      "max_iter reached after 2 seconds\n"
     ]
    },
    {
     "name": "stderr",
     "output_type": "stream",
     "text": [
      "C:\\Users\\JESCOBARO\\Anaconda3\\envs\\skforecast\\lib\\site-packages\\sklearn\\linear_model\\_sag.py:354: ConvergenceWarning: The max_iter was reached which means the coef_ did not converge\n",
      "  ConvergenceWarning,\n"
     ]
    },
    {
     "name": "stdout",
     "output_type": "stream",
     "text": [
      "max_iter reached after 2 seconds\n",
      "max_iter reached after 2 seconds\n"
     ]
    },
    {
     "name": "stderr",
     "output_type": "stream",
     "text": [
      "C:\\Users\\JESCOBARO\\Anaconda3\\envs\\skforecast\\lib\\site-packages\\sklearn\\linear_model\\_sag.py:354: ConvergenceWarning: The max_iter was reached which means the coef_ did not converge\n",
      "  ConvergenceWarning,\n",
      "C:\\Users\\JESCOBARO\\Anaconda3\\envs\\skforecast\\lib\\site-packages\\sklearn\\linear_model\\_sag.py:354: ConvergenceWarning: The max_iter was reached which means the coef_ did not converge\n",
      "  ConvergenceWarning,\n"
     ]
    },
    {
     "name": "stdout",
     "output_type": "stream",
     "text": [
      "max_iter reached after 1 seconds\n"
     ]
    },
    {
     "name": "stderr",
     "output_type": "stream",
     "text": [
      "C:\\Users\\JESCOBARO\\Anaconda3\\envs\\skforecast\\lib\\site-packages\\sklearn\\linear_model\\_sag.py:354: ConvergenceWarning: The max_iter was reached which means the coef_ did not converge\n",
      "  ConvergenceWarning,\n"
     ]
    },
    {
     "name": "stdout",
     "output_type": "stream",
     "text": [
      "max_iter reached after 1 seconds\n",
      "max_iter reached after 1 seconds\n"
     ]
    },
    {
     "name": "stderr",
     "output_type": "stream",
     "text": [
      "C:\\Users\\JESCOBARO\\Anaconda3\\envs\\skforecast\\lib\\site-packages\\sklearn\\linear_model\\_sag.py:354: ConvergenceWarning: The max_iter was reached which means the coef_ did not converge\n",
      "  ConvergenceWarning,\n",
      "C:\\Users\\JESCOBARO\\Anaconda3\\envs\\skforecast\\lib\\site-packages\\sklearn\\linear_model\\_sag.py:354: ConvergenceWarning: The max_iter was reached which means the coef_ did not converge\n",
      "  ConvergenceWarning,\n"
     ]
    },
    {
     "name": "stdout",
     "output_type": "stream",
     "text": [
      "max_iter reached after 1 seconds\n"
     ]
    },
    {
     "name": "stderr",
     "output_type": "stream",
     "text": [
      "C:\\Users\\JESCOBARO\\Anaconda3\\envs\\skforecast\\lib\\site-packages\\sklearn\\linear_model\\_sag.py:354: ConvergenceWarning: The max_iter was reached which means the coef_ did not converge\n",
      "  ConvergenceWarning,\n",
      "[Parallel(n_jobs=3)]: Done   3 out of   3 | elapsed:   15.2s finished\n",
      "C:\\Users\\JESCOBARO\\Anaconda3\\envs\\skforecast\\lib\\site-packages\\sklearn\\linear_model\\_sag.py:354: ConvergenceWarning: The max_iter was reached which means the coef_ did not converge\n",
      "  ConvergenceWarning,\n"
     ]
    },
    {
     "data": {
      "text/plain": [
       "LogisticRegressionCV(Cs=array([1.00000000e-04, 7.74263683e-04, 5.99484250e-03, 4.64158883e-02,\n",
       "       3.59381366e-01, 2.78255940e+00, 2.15443469e+01, 1.66810054e+02,\n",
       "       1.29154967e+03, 1.00000000e+04]),\n",
       "                     cv=3, max_iter=10, n_jobs=3, penalty='l1',\n",
       "                     scoring='balanced_accuracy', solver='saga', verbose=True)"
      ]
     },
     "execution_count": 297,
     "metadata": {},
     "output_type": "execute_result"
    }
   ],
   "source": [
    "# Creación y entrenamiento del modelo \n",
    "# ==============================================================================\n",
    "modelo = LogisticRegressionCV(\n",
    "            penalty         = \"l1\",\n",
    "            Cs              = np.logspace(-4, 4, 10),\n",
    "            fit_intercept   = True,\n",
    "            cv              = 3,\n",
    "            scoring         = \"balanced_accuracy\",\n",
    "            solver          = \"saga\",\n",
    "            refit           = True,\n",
    "            max_iter        = 10,\n",
    "            n_jobs          = multiprocessing.cpu_count() - 1,\n",
    "            verbose         = True\n",
    "         )\n",
    "\n",
    "modelo.fit(X = X_train_prep, y = y_train)"
   ]
  },
  {
   "cell_type": "code",
   "execution_count": 298,
   "metadata": {
    "ExecuteTime": {
     "end_time": "2022-01-03T17:27:36.453737Z",
     "start_time": "2022-01-03T17:25:28.365564Z"
    }
   },
   "outputs": [
    {
     "name": "stderr",
     "output_type": "stream",
     "text": [
      "C:\\Users\\JESCOBARO\\Anaconda3\\envs\\skforecast\\lib\\site-packages\\sklearn\\linear_model\\_sag.py:354: ConvergenceWarning: The max_iter was reached which means the coef_ did not converge\n",
      "  ConvergenceWarning,\n",
      "C:\\Users\\JESCOBARO\\Anaconda3\\envs\\skforecast\\lib\\site-packages\\sklearn\\linear_model\\_sag.py:354: ConvergenceWarning: The max_iter was reached which means the coef_ did not converge\n",
      "  ConvergenceWarning,\n",
      "C:\\Users\\JESCOBARO\\Anaconda3\\envs\\skforecast\\lib\\site-packages\\sklearn\\linear_model\\_sag.py:354: ConvergenceWarning: The max_iter was reached which means the coef_ did not converge\n",
      "  ConvergenceWarning,\n",
      "C:\\Users\\JESCOBARO\\Anaconda3\\envs\\skforecast\\lib\\site-packages\\sklearn\\linear_model\\_sag.py:354: ConvergenceWarning: The max_iter was reached which means the coef_ did not converge\n",
      "  ConvergenceWarning,\n",
      "C:\\Users\\JESCOBARO\\Anaconda3\\envs\\skforecast\\lib\\site-packages\\sklearn\\linear_model\\_sag.py:354: ConvergenceWarning: The max_iter was reached which means the coef_ did not converge\n",
      "  ConvergenceWarning,\n",
      "C:\\Users\\JESCOBARO\\Anaconda3\\envs\\skforecast\\lib\\site-packages\\sklearn\\linear_model\\_sag.py:354: ConvergenceWarning: The max_iter was reached which means the coef_ did not converge\n",
      "  ConvergenceWarning,\n",
      "C:\\Users\\JESCOBARO\\Anaconda3\\envs\\skforecast\\lib\\site-packages\\sklearn\\linear_model\\_sag.py:354: ConvergenceWarning: The max_iter was reached which means the coef_ did not converge\n",
      "  ConvergenceWarning,\n",
      "C:\\Users\\JESCOBARO\\Anaconda3\\envs\\skforecast\\lib\\site-packages\\sklearn\\linear_model\\_sag.py:354: ConvergenceWarning: The max_iter was reached which means the coef_ did not converge\n",
      "  ConvergenceWarning,\n"
     ]
    }
   ],
   "source": [
    "# Evolución de los coeficientes en función de C\n",
    "# ==============================================================================\n",
    "cs = modelo.Cs_\n",
    "coefs = []\n",
    "scores = []\n",
    "\n",
    "for c in cs:\n",
    "    modelo_temp = LogisticRegression(\n",
    "            penalty         = \"l1\",\n",
    "            C               = c,\n",
    "            fit_intercept   = True,\n",
    "            solver          = \"saga\",\n",
    "            max_iter=100,\n",
    "            n_jobs          = multiprocessing.cpu_count() - 1,\n",
    "         )\n",
    "    modelo_temp.fit(X_train_prep, y_train)\n",
    "    coefs.append(modelo_temp.coef_.flatten())\n",
    "    predicciones_temp = modelo.predict(X_test_prep)\n",
    "    balanced_accuracy = balanced_accuracy_score(\n",
    "                        y_true    = y_test,\n",
    "                        y_pred    = predicciones_temp,\n",
    "                        adjusted  = True\n",
    "           )\n",
    "    scores.append(balanced_accuracy)\n",
    "\n",
    "# fig, ax = plt.subplots(figsize=(7, 3.84))\n",
    "# ax.plot(alphas, coefs)\n",
    "# ax.set_xscale('log')\n",
    "# ax.set_xlabel('alpha')\n",
    "# ax.set_ylabel('coeficientes')\n",
    "# ax.set_title('Coeficientes del modelo en función de la regularización');\n",
    "# plt.axis('tight')\n",
    "# plt.show()"
   ]
  },
  {
   "cell_type": "code",
   "execution_count": 300,
   "metadata": {
    "ExecuteTime": {
     "end_time": "2022-01-03T17:31:42.991443Z",
     "start_time": "2022-01-03T17:31:40.804113Z"
    }
   },
   "outputs": [
    {
     "data": {
      "image/png": "[encoded data removed]",
      "text/plain": [
       "<Figure size 1080x720 with 2 Axes>"
      ]
     },
     "metadata": {},
     "output_type": "display_data"
    }
   ],
   "source": [
    "fig, axes = plt.subplots(nrows=2, ncols=1, figsize=(15, 10))\n",
    "axes = axes.flat\n",
    "\n",
    "axes[0].plot(cs, coefs)\n",
    "axes[0].set_xscale('log')\n",
    "axes[0].set_xlabel('C')\n",
    "axes[0].set_ylabel('coeficientes')\n",
    "axes[0].set_title('Coeficientes del modelo en función de la regularización')\n",
    "\n",
    "axes[1].plot(cs, scores)\n",
    "axes[1].set_xscale('log')\n",
    "axes[1].set_xlabel('C')\n",
    "axes[1].set_ylabel('scores')\n",
    "axes[1].set_title('scores del modelo en función de la regularización')\n",
    "# axes[1].set_ylim(0.95, 0.98)\n",
    "\n",
    "fig.tight_layout()\n",
    "plt.subplots_adjust(top=0.90)\n",
    "fig.suptitle('Distribución variables cualitativas',\n",
    "             fontsize = 20, fontweight = \"bold\")\n",
    "plt.show();"
   ]
  },
  {
   "cell_type": "markdown",
   "metadata": {},
   "source": [
    "### Logistic Regression L2"
   ]
  },
  {
   "cell_type": "code",
   "execution_count": null,
   "metadata": {},
   "outputs": [],
   "source": [
    "# Creación y entrenamiento del modelo \n",
    "# ==============================================================================\n",
    "modelo = LogisticRegressionCV(\n",
    "            penalty         = \"l2\",\n",
    "            Cs              = np.logspace(-4, 4, 10),\n",
    "            fit_intercept   = True,\n",
    "            cv              = 3,\n",
    "            scoring         = \"balanced_accuracy_score\",\n",
    "            solver          = \"saga\",\n",
    "            refit           = True,\n",
    "            n_jobs          = multiprocessing.cpu_count() - 1,\n",
    "            max_iter        = 1000,\n",
    "            verbose         = True\n",
    "         )\n",
    "\n",
    "modelo.fit(X = X_train_prep, y = y_train)"
   ]
  },
  {
   "cell_type": "code",
   "execution_count": 303,
   "metadata": {
    "ExecuteTime": {
     "end_time": "2022-01-03T17:48:26.253594Z",
     "start_time": "2022-01-03T17:46:29.730342Z"
    }
   },
   "outputs": [
    {
     "name": "stderr",
     "output_type": "stream",
     "text": [
      "C:\\Users\\JESCOBARO\\Anaconda3\\envs\\skforecast\\lib\\site-packages\\sklearn\\linear_model\\_sag.py:354: ConvergenceWarning: The max_iter was reached which means the coef_ did not converge\n",
      "  ConvergenceWarning,\n",
      "C:\\Users\\JESCOBARO\\Anaconda3\\envs\\skforecast\\lib\\site-packages\\sklearn\\linear_model\\_sag.py:354: ConvergenceWarning: The max_iter was reached which means the coef_ did not converge\n",
      "  ConvergenceWarning,\n",
      "C:\\Users\\JESCOBARO\\Anaconda3\\envs\\skforecast\\lib\\site-packages\\sklearn\\linear_model\\_sag.py:354: ConvergenceWarning: The max_iter was reached which means the coef_ did not converge\n",
      "  ConvergenceWarning,\n",
      "C:\\Users\\JESCOBARO\\Anaconda3\\envs\\skforecast\\lib\\site-packages\\sklearn\\linear_model\\_sag.py:354: ConvergenceWarning: The max_iter was reached which means the coef_ did not converge\n",
      "  ConvergenceWarning,\n",
      "C:\\Users\\JESCOBARO\\Anaconda3\\envs\\skforecast\\lib\\site-packages\\sklearn\\linear_model\\_sag.py:354: ConvergenceWarning: The max_iter was reached which means the coef_ did not converge\n",
      "  ConvergenceWarning,\n",
      "C:\\Users\\JESCOBARO\\Anaconda3\\envs\\skforecast\\lib\\site-packages\\sklearn\\linear_model\\_sag.py:354: ConvergenceWarning: The max_iter was reached which means the coef_ did not converge\n",
      "  ConvergenceWarning,\n",
      "C:\\Users\\JESCOBARO\\Anaconda3\\envs\\skforecast\\lib\\site-packages\\sklearn\\linear_model\\_sag.py:354: ConvergenceWarning: The max_iter was reached which means the coef_ did not converge\n",
      "  ConvergenceWarning,\n",
      "C:\\Users\\JESCOBARO\\Anaconda3\\envs\\skforecast\\lib\\site-packages\\sklearn\\linear_model\\_sag.py:354: ConvergenceWarning: The max_iter was reached which means the coef_ did not converge\n",
      "  ConvergenceWarning,\n",
      "C:\\Users\\JESCOBARO\\Anaconda3\\envs\\skforecast\\lib\\site-packages\\sklearn\\linear_model\\_sag.py:354: ConvergenceWarning: The max_iter was reached which means the coef_ did not converge\n",
      "  ConvergenceWarning,\n",
      "C:\\Users\\JESCOBARO\\Anaconda3\\envs\\skforecast\\lib\\site-packages\\sklearn\\linear_model\\_sag.py:354: ConvergenceWarning: The max_iter was reached which means the coef_ did not converge\n",
      "  ConvergenceWarning,\n"
     ]
    }
   ],
   "source": [
    "# Evolución de los coeficientes en función de C\n",
    "# ==============================================================================\n",
    "cs = np.logspace(-4, 4, 10)\n",
    "coefs = []\n",
    "scores = []\n",
    "\n",
    "for c in cs:\n",
    "    modelo_temp = LogisticRegression(\n",
    "            penalty         = \"l2\",\n",
    "            C               = c,\n",
    "            fit_intercept   = True,\n",
    "            solver          = \"saga\",\n",
    "            max_iter        = 1000,\n",
    "            n_jobs          = multiprocessing.cpu_count() - 1,\n",
    "         )\n",
    "    modelo_temp.fit(X_train_prep, y_train)\n",
    "    coefs.append(modelo_temp.coef_.flatten())\n",
    "    predicciones_temp = modelo.predict(X_test_prep)\n",
    "    balanced_accuracy = balanced_accuracy_score(\n",
    "                        y_true    = y_test,\n",
    "                        y_pred    = predicciones_temp,\n",
    "                        adjusted  = True\n",
    "           )\n",
    "    scores.append(balanced_accuracy)"
   ]
  },
  {
   "cell_type": "code",
   "execution_count": 304,
   "metadata": {
    "ExecuteTime": {
     "end_time": "2022-01-03T17:48:31.018853Z",
     "start_time": "2022-01-03T17:48:30.450354Z"
    }
   },
   "outputs": [
    {
     "data": {
      "image/png": "[encoded data removed]",
      "text/plain": [
       "<Figure size 1080x720 with 2 Axes>"
      ]
     },
     "metadata": {},
     "output_type": "display_data"
    }
   ],
   "source": [
    "fig, axes = plt.subplots(nrows=2, ncols=1, figsize=(15, 10))\n",
    "axes = axes.flat\n",
    "\n",
    "axes[0].plot(cs, coefs)\n",
    "axes[0].set_xscale('log')\n",
    "axes[0].set_xlabel('C')\n",
    "axes[0].set_ylabel('coeficientes')\n",
    "axes[0].set_title('Coeficientes del modelo en función de la regularización')\n",
    "\n",
    "axes[1].plot(cs, scores)\n",
    "axes[1].set_xscale('log')\n",
    "axes[1].set_xlabel('C')\n",
    "axes[1].set_ylabel('scores')\n",
    "axes[1].set_title('scores del modelo en función de la regularización')\n",
    "# axes[1].set_ylim(0.95, 0.98)\n",
    "\n",
    "fig.tight_layout()\n",
    "plt.subplots_adjust(top=0.90)\n",
    "fig.suptitle('Distribución variables cualitativas',\n",
    "             fontsize = 20, fontweight = \"bold\")\n",
    "plt.show();"
   ]
  },
  {
   "cell_type": "code",
   "execution_count": null,
   "metadata": {},
   "outputs": [],
   "source": []
  },
  {
   "cell_type": "code",
   "execution_count": 306,
   "metadata": {
    "ExecuteTime": {
     "end_time": "2022-01-03T17:53:30.841102Z",
     "start_time": "2022-01-03T17:50:53.258567Z"
    }
   },
   "outputs": [
    {
     "name": "stderr",
     "output_type": "stream",
     "text": [
      "C:\\Users\\JESCOBARO\\Anaconda3\\envs\\skforecast\\lib\\site-packages\\sklearn\\linear_model\\_sag.py:354: ConvergenceWarning: The max_iter was reached which means the coef_ did not converge\n",
      "  ConvergenceWarning,\n"
     ]
    },
    {
     "data": {
      "text/plain": [
       "LogisticRegression(C=1, l1_ratio=0.5, max_iter=1000, n_jobs=3,\n",
       "                   penalty='elasticnet', solver='saga')"
      ]
     },
     "execution_count": 306,
     "metadata": {},
     "output_type": "execute_result"
    }
   ],
   "source": [
    "modelo = LogisticRegression(\n",
    "            penalty         = \"elasticnet\",\n",
    "            C               = 1,\n",
    "            fit_intercept   = True,\n",
    "            solver          = \"saga\",\n",
    "            max_iter        = 1000,\n",
    "            n_jobs          = multiprocessing.cpu_count() - 1,\n",
    "            l1_ratio = 0.5\n",
    "         )\n",
    "modelo.fit(X = X_train_prep, y = y_train)"
   ]
  },
  {
   "cell_type": "code",
   "execution_count": 309,
   "metadata": {
    "ExecuteTime": {
     "end_time": "2022-01-03T17:54:24.554149Z",
     "start_time": "2022-01-03T17:54:24.536379Z"
    }
   },
   "outputs": [
    {
     "data": {
      "text/plain": [
       "0.0024836479351690866"
      ]
     },
     "execution_count": 309,
     "metadata": {},
     "output_type": "execute_result"
    }
   ],
   "source": [
    "predicciones = modelo.predict(X_test_prep)\n",
    "balanced_accuracy = balanced_accuracy_score(\n",
    "                    y_true    = y_test,\n",
    "                    y_pred    = predicciones,\n",
    "                    adjusted  = True\n",
    "       )\n",
    "balanced_accuracy"
   ]
  },
  {
   "cell_type": "code",
   "execution_count": null,
   "metadata": {},
   "outputs": [],
   "source": []
  },
  {
   "cell_type": "markdown",
   "metadata": {},
   "source": [
    "# Datos predicción"
   ]
  },
  {
   "cell_type": "code",
   "execution_count": 13,
   "metadata": {
    "ExecuteTime": {
     "end_time": "2021-12-21T15:43:10.155622Z",
     "start_time": "2021-12-21T15:43:07.601180Z"
    }
   },
   "outputs": [],
   "source": [
    "zip_file = zipfile.ZipFile(r\".\\Archive.zip\")\n",
    "datos_pred = pd.read_csv(zip_file.open(\"datos_para_prediccion.csv\"))"
   ]
  },
  {
   "cell_type": "code",
   "execution_count": 14,
   "metadata": {
    "ExecuteTime": {
     "end_time": "2021-12-21T15:43:12.022252Z",
     "start_time": "2021-12-21T15:43:11.898063Z"
    }
   },
   "outputs": [
    {
     "data": {
      "text/html": [
       "<div>\n",
       "<style scoped>\n",
       "    .dataframe tbody tr th:only-of-type {\n",
       "        vertical-align: middle;\n",
       "    }\n",
       "\n",
       "    .dataframe tbody tr th {\n",
       "        vertical-align: top;\n",
       "    }\n",
       "\n",
       "    .dataframe thead th {\n",
       "        text-align: right;\n",
       "    }\n",
       "</style>\n",
       "<table border=\"1\" class=\"dataframe\">\n",
       "  <thead>\n",
       "    <tr style=\"text-align: right;\">\n",
       "      <th></th>\n",
       "      <th>var_0</th>\n",
       "      <th>var_1</th>\n",
       "      <th>var_2</th>\n",
       "      <th>var_3</th>\n",
       "      <th>var_4</th>\n",
       "      <th>var_5</th>\n",
       "      <th>var_6</th>\n",
       "      <th>var_7</th>\n",
       "      <th>var_8</th>\n",
       "      <th>var_9</th>\n",
       "      <th>...</th>\n",
       "      <th>var_266</th>\n",
       "      <th>var_267</th>\n",
       "      <th>var_268</th>\n",
       "      <th>var_269</th>\n",
       "      <th>var_270</th>\n",
       "      <th>var_271</th>\n",
       "      <th>var_272</th>\n",
       "      <th>var_273</th>\n",
       "      <th>var_274</th>\n",
       "      <th>var_275</th>\n",
       "    </tr>\n",
       "  </thead>\n",
       "  <tbody>\n",
       "    <tr>\n",
       "      <th>0</th>\n",
       "      <td>9248245</td>\n",
       "      <td>0.0</td>\n",
       "      <td>0</td>\n",
       "      <td>0</td>\n",
       "      <td>0.0</td>\n",
       "      <td>0.0</td>\n",
       "      <td>0.0</td>\n",
       "      <td>0.0</td>\n",
       "      <td>0.0</td>\n",
       "      <td>1</td>\n",
       "      <td>...</td>\n",
       "      <td>0.00</td>\n",
       "      <td>0.0</td>\n",
       "      <td>0.0</td>\n",
       "      <td>0</td>\n",
       "      <td>0.0</td>\n",
       "      <td>0.0</td>\n",
       "      <td>0</td>\n",
       "      <td>0.0</td>\n",
       "      <td>0</td>\n",
       "      <td>0.0</td>\n",
       "    </tr>\n",
       "    <tr>\n",
       "      <th>1</th>\n",
       "      <td>10907006</td>\n",
       "      <td>0.0</td>\n",
       "      <td>0</td>\n",
       "      <td>0</td>\n",
       "      <td>0.0</td>\n",
       "      <td>0.0</td>\n",
       "      <td>0.0</td>\n",
       "      <td>0.0</td>\n",
       "      <td>0.0</td>\n",
       "      <td>0</td>\n",
       "      <td>...</td>\n",
       "      <td>0.00</td>\n",
       "      <td>0.0</td>\n",
       "      <td>0.0</td>\n",
       "      <td>0</td>\n",
       "      <td>0.0</td>\n",
       "      <td>0.0</td>\n",
       "      <td>0</td>\n",
       "      <td>0.0</td>\n",
       "      <td>0</td>\n",
       "      <td>0.0</td>\n",
       "    </tr>\n",
       "    <tr>\n",
       "      <th>2</th>\n",
       "      <td>14080498</td>\n",
       "      <td>0.0</td>\n",
       "      <td>0</td>\n",
       "      <td>0</td>\n",
       "      <td>0.0</td>\n",
       "      <td>0.0</td>\n",
       "      <td>0.0</td>\n",
       "      <td>0.0</td>\n",
       "      <td>0.0</td>\n",
       "      <td>0</td>\n",
       "      <td>...</td>\n",
       "      <td>0.00</td>\n",
       "      <td>0.0</td>\n",
       "      <td>0.0</td>\n",
       "      <td>0</td>\n",
       "      <td>0.0</td>\n",
       "      <td>0.0</td>\n",
       "      <td>0</td>\n",
       "      <td>0.0</td>\n",
       "      <td>0</td>\n",
       "      <td>0.0</td>\n",
       "    </tr>\n",
       "    <tr>\n",
       "      <th>3</th>\n",
       "      <td>29764234</td>\n",
       "      <td>0.0</td>\n",
       "      <td>0</td>\n",
       "      <td>0</td>\n",
       "      <td>0.0</td>\n",
       "      <td>0.0</td>\n",
       "      <td>0.0</td>\n",
       "      <td>0.0</td>\n",
       "      <td>0.0</td>\n",
       "      <td>1</td>\n",
       "      <td>...</td>\n",
       "      <td>0.00</td>\n",
       "      <td>0.0</td>\n",
       "      <td>2.0</td>\n",
       "      <td>0</td>\n",
       "      <td>0.0</td>\n",
       "      <td>0.0</td>\n",
       "      <td>0</td>\n",
       "      <td>0.0</td>\n",
       "      <td>0</td>\n",
       "      <td>0.0</td>\n",
       "    </tr>\n",
       "    <tr>\n",
       "      <th>4</th>\n",
       "      <td>32791073</td>\n",
       "      <td>0.0</td>\n",
       "      <td>0</td>\n",
       "      <td>0</td>\n",
       "      <td>0.0</td>\n",
       "      <td>0.0</td>\n",
       "      <td>0.0</td>\n",
       "      <td>0.0</td>\n",
       "      <td>0.0</td>\n",
       "      <td>0</td>\n",
       "      <td>...</td>\n",
       "      <td>9.09</td>\n",
       "      <td>0.0</td>\n",
       "      <td>0.0</td>\n",
       "      <td>0</td>\n",
       "      <td>0.0</td>\n",
       "      <td>0.0</td>\n",
       "      <td>0</td>\n",
       "      <td>0.0</td>\n",
       "      <td>0</td>\n",
       "      <td>0.0</td>\n",
       "    </tr>\n",
       "    <tr>\n",
       "      <th>...</th>\n",
       "      <td>...</td>\n",
       "      <td>...</td>\n",
       "      <td>...</td>\n",
       "      <td>...</td>\n",
       "      <td>...</td>\n",
       "      <td>...</td>\n",
       "      <td>...</td>\n",
       "      <td>...</td>\n",
       "      <td>...</td>\n",
       "      <td>...</td>\n",
       "      <td>...</td>\n",
       "      <td>...</td>\n",
       "      <td>...</td>\n",
       "      <td>...</td>\n",
       "      <td>...</td>\n",
       "      <td>...</td>\n",
       "      <td>...</td>\n",
       "      <td>...</td>\n",
       "      <td>...</td>\n",
       "      <td>...</td>\n",
       "      <td>...</td>\n",
       "    </tr>\n",
       "    <tr>\n",
       "      <th>71391</th>\n",
       "      <td>3029101742</td>\n",
       "      <td>0.0</td>\n",
       "      <td>0</td>\n",
       "      <td>0</td>\n",
       "      <td>0.0</td>\n",
       "      <td>0.0</td>\n",
       "      <td>0.0</td>\n",
       "      <td>0.0</td>\n",
       "      <td>0.0</td>\n",
       "      <td>0</td>\n",
       "      <td>...</td>\n",
       "      <td>0.00</td>\n",
       "      <td>0.0</td>\n",
       "      <td>2.0</td>\n",
       "      <td>0</td>\n",
       "      <td>0.0</td>\n",
       "      <td>0.0</td>\n",
       "      <td>0</td>\n",
       "      <td>0.0</td>\n",
       "      <td>0</td>\n",
       "      <td>0.0</td>\n",
       "    </tr>\n",
       "    <tr>\n",
       "      <th>71392</th>\n",
       "      <td>3033578041</td>\n",
       "      <td>0.0</td>\n",
       "      <td>0</td>\n",
       "      <td>0</td>\n",
       "      <td>0.0</td>\n",
       "      <td>0.0</td>\n",
       "      <td>0.0</td>\n",
       "      <td>0.0</td>\n",
       "      <td>0.0</td>\n",
       "      <td>0</td>\n",
       "      <td>...</td>\n",
       "      <td>0.00</td>\n",
       "      <td>0.0</td>\n",
       "      <td>0.0</td>\n",
       "      <td>0</td>\n",
       "      <td>0.0</td>\n",
       "      <td>0.0</td>\n",
       "      <td>0</td>\n",
       "      <td>0.0</td>\n",
       "      <td>0</td>\n",
       "      <td>0.0</td>\n",
       "    </tr>\n",
       "    <tr>\n",
       "      <th>71393</th>\n",
       "      <td>3035802671</td>\n",
       "      <td>0.0</td>\n",
       "      <td>0</td>\n",
       "      <td>0</td>\n",
       "      <td>0.0</td>\n",
       "      <td>0.0</td>\n",
       "      <td>0.0</td>\n",
       "      <td>0.0</td>\n",
       "      <td>0.0</td>\n",
       "      <td>0</td>\n",
       "      <td>...</td>\n",
       "      <td>0.00</td>\n",
       "      <td>0.0</td>\n",
       "      <td>0.0</td>\n",
       "      <td>0</td>\n",
       "      <td>0.0</td>\n",
       "      <td>0.0</td>\n",
       "      <td>0</td>\n",
       "      <td>0.0</td>\n",
       "      <td>0</td>\n",
       "      <td>0.0</td>\n",
       "    </tr>\n",
       "    <tr>\n",
       "      <th>71394</th>\n",
       "      <td>3047197511</td>\n",
       "      <td>0.0</td>\n",
       "      <td>0</td>\n",
       "      <td>0</td>\n",
       "      <td>0.0</td>\n",
       "      <td>0.0</td>\n",
       "      <td>0.0</td>\n",
       "      <td>0.0</td>\n",
       "      <td>0.0</td>\n",
       "      <td>0</td>\n",
       "      <td>...</td>\n",
       "      <td>0.00</td>\n",
       "      <td>0.0</td>\n",
       "      <td>0.0</td>\n",
       "      <td>0</td>\n",
       "      <td>0.0</td>\n",
       "      <td>0.0</td>\n",
       "      <td>0</td>\n",
       "      <td>0.0</td>\n",
       "      <td>0</td>\n",
       "      <td>0.0</td>\n",
       "    </tr>\n",
       "    <tr>\n",
       "      <th>71395</th>\n",
       "      <td>3073138424</td>\n",
       "      <td>0.0</td>\n",
       "      <td>0</td>\n",
       "      <td>0</td>\n",
       "      <td>0.0</td>\n",
       "      <td>0.0</td>\n",
       "      <td>0.0</td>\n",
       "      <td>0.0</td>\n",
       "      <td>0.0</td>\n",
       "      <td>0</td>\n",
       "      <td>...</td>\n",
       "      <td>0.00</td>\n",
       "      <td>0.0</td>\n",
       "      <td>0.0</td>\n",
       "      <td>0</td>\n",
       "      <td>0.0</td>\n",
       "      <td>0.0</td>\n",
       "      <td>0</td>\n",
       "      <td>0.0</td>\n",
       "      <td>0</td>\n",
       "      <td>0.0</td>\n",
       "    </tr>\n",
       "  </tbody>\n",
       "</table>\n",
       "<p>71396 rows × 276 columns</p>\n",
       "</div>"
      ],
      "text/plain": [
       "            var_0  var_1  var_2  var_3  var_4  var_5  var_6  var_7  var_8  \\\n",
       "0         9248245    0.0      0      0    0.0    0.0    0.0    0.0    0.0   \n",
       "1        10907006    0.0      0      0    0.0    0.0    0.0    0.0    0.0   \n",
       "2        14080498    0.0      0      0    0.0    0.0    0.0    0.0    0.0   \n",
       "3        29764234    0.0      0      0    0.0    0.0    0.0    0.0    0.0   \n",
       "4        32791073    0.0      0      0    0.0    0.0    0.0    0.0    0.0   \n",
       "...           ...    ...    ...    ...    ...    ...    ...    ...    ...   \n",
       "71391  3029101742    0.0      0      0    0.0    0.0    0.0    0.0    0.0   \n",
       "71392  3033578041    0.0      0      0    0.0    0.0    0.0    0.0    0.0   \n",
       "71393  3035802671    0.0      0      0    0.0    0.0    0.0    0.0    0.0   \n",
       "71394  3047197511    0.0      0      0    0.0    0.0    0.0    0.0    0.0   \n",
       "71395  3073138424    0.0      0      0    0.0    0.0    0.0    0.0    0.0   \n",
       "\n",
       "       var_9  ...  var_266  var_267  var_268  var_269  var_270  var_271  \\\n",
       "0          1  ...     0.00      0.0      0.0        0      0.0      0.0   \n",
       "1          0  ...     0.00      0.0      0.0        0      0.0      0.0   \n",
       "2          0  ...     0.00      0.0      0.0        0      0.0      0.0   \n",
       "3          1  ...     0.00      0.0      2.0        0      0.0      0.0   \n",
       "4          0  ...     9.09      0.0      0.0        0      0.0      0.0   \n",
       "...      ...  ...      ...      ...      ...      ...      ...      ...   \n",
       "71391      0  ...     0.00      0.0      2.0        0      0.0      0.0   \n",
       "71392      0  ...     0.00      0.0      0.0        0      0.0      0.0   \n",
       "71393      0  ...     0.00      0.0      0.0        0      0.0      0.0   \n",
       "71394      0  ...     0.00      0.0      0.0        0      0.0      0.0   \n",
       "71395      0  ...     0.00      0.0      0.0        0      0.0      0.0   \n",
       "\n",
       "       var_272  var_273  var_274  var_275  \n",
       "0            0      0.0        0      0.0  \n",
       "1            0      0.0        0      0.0  \n",
       "2            0      0.0        0      0.0  \n",
       "3            0      0.0        0      0.0  \n",
       "4            0      0.0        0      0.0  \n",
       "...        ...      ...      ...      ...  \n",
       "71391        0      0.0        0      0.0  \n",
       "71392        0      0.0        0      0.0  \n",
       "71393        0      0.0        0      0.0  \n",
       "71394        0      0.0        0      0.0  \n",
       "71395        0      0.0        0      0.0  \n",
       "\n",
       "[71396 rows x 276 columns]"
      ]
     },
     "execution_count": 14,
     "metadata": {},
     "output_type": "execute_result"
    }
   ],
   "source": [
    "datos_pred"
   ]
  },
  {
   "cell_type": "code",
   "execution_count": null,
   "metadata": {},
   "outputs": [],
   "source": []
  },
  {
   "cell_type": "code",
   "execution_count": null,
   "metadata": {},
   "outputs": [],
   "source": []
  }
 ],
 "metadata": {
  "kernelspec": {
   "display_name": "skforecast",
   "language": "python",
   "name": "skforecast"
  },
  "language_info": {
   "codemirror_mode": {
    "name": "ipython",
    "version": 3
   },
   "file_extension": ".py",
   "mimetype": "text/x-python",
   "name": "python",
   "nbconvert_exporter": "python",
   "pygments_lexer": "ipython3",
   "version": "3.7.9"
  },
  "toc": {
   "base_numbering": "0",
   "nav_menu": {},
   "number_sections": true,
   "sideBar": true,
   "skip_h1_title": false,
   "title_cell": "Table of Contents",
   "title_sidebar": "Contents",
   "toc_cell": false,
   "toc_position": {
    "height": "calc(100% - 180px)",
    "left": "10px",
    "top": "150px",
    "width": "165px"
   },
   "toc_section_display": true,
   "toc_window_display": true
  },
  "varInspector": {
   "cols": {
    "lenName": 16,
    "lenType": 16,
    "lenVar": 40
   },
   "kernels_config": {
    "python": {
     "delete_cmd_postfix": "",
     "delete_cmd_prefix": "del ",
     "library": "var_list.py",
     "varRefreshCmd": "print(var_dic_list())"
    },
    "r": {
     "delete_cmd_postfix": ") ",
     "delete_cmd_prefix": "rm(",
     "library": "var_list.r",
     "varRefreshCmd": "cat(var_dic_list()) "
    }
   },
   "types_to_exclude": [
    "module",
    "function",
    "builtin_function_or_method",
    "instance",
    "_Feature"
   ],
   "window_display": false
  }
 },
 "nbformat": 4,
 "nbformat_minor": 4
}
