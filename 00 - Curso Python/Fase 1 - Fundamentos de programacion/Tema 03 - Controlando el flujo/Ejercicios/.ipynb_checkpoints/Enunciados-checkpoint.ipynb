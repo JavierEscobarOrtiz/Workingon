{
 "cells": [
  {
   "cell_type": "markdown",
   "metadata": {},
   "source": [
    "# Tema 03: Control de flujo (Enunciados)\n",
    "*Nota: Estos ejercicios son optativos para hacer al final de la unidad y están pensados para apoyar tu aprendizaje*."
   ]
  },
  {
   "cell_type": "markdown",
   "metadata": {},
   "source": [
    "**1) Realiza un programa que lea dos números por teclado y permita elegir entre 3 opciones en un menú:** \n",
    "* Mostrar una suma de los dos números\n",
    "* Mostrar una resta de los dos números (el primero menos el segundo)\n",
    "* Mostrar una multiplicación de los dos números\n",
    "* En caso de no introducir una opción válida, el programa informará de que no es correcta."
   ]
  },
  {
   "cell_type": "code",
   "execution_count": 9,
   "metadata": {},
   "outputs": [
    {
     "name": "stdout",
     "output_type": "stream",
     "text": [
      "Nñumero 1 2\n",
      "Nñumero 2 2\n",
      "Elige una opción\n",
      "        1) suma\n",
      "        2) resta\n",
      "        3) multiplicar\n",
      "Introduce una opción: 1\n",
      "Suma de  2.0 + 2.0  es  4.0\n"
     ]
    }
   ],
   "source": [
    "# Completa el ejercicio aquí\n",
    "n1 = float(input(\"Nñumero 1 \"))\n",
    "n2 = float(input(\"Nñumero 2 \"))\n",
    "print(\"\"\"Elige una opción\n",
    "        1) suma\n",
    "        2) resta\n",
    "        3) multiplicar\"\"\")\n",
    "opcion = int(input(\"Introduce una opción: \"))\n",
    "\n",
    "if opcion == 1:\n",
    "    print(\"Suma de \",n1,\"+\",n2,\" es \", n1+n2)\n",
    "elif opcion == 2:\n",
    "    print(\"Resta\", n1-n2)\n",
    "elif opcion == 3:\n",
    "    print(\"Multiplicación\", n1*n2)\n",
    "else:\n",
    "    print(\"Opción no correcta\")"
   ]
  },
  {
   "cell_type": "markdown",
   "metadata": {},
   "source": [
    "**2) Realiza un programa que lea un número impar por teclado. Si el usuario no introduce un número impar, debe repetise el proceso hasta que lo introduzca correctamente.**"
   ]
  },
  {
   "cell_type": "code",
   "execution_count": 11,
   "metadata": {},
   "outputs": [
    {
     "name": "stdout",
     "output_type": "stream",
     "text": [
      "Introduce un número impar 2\n",
      "Introduce un número impar 2\n",
      "Introduce un número impar 3\n",
      "3 es impar\n",
      "Introduce un número impar 3\n"
     ]
    }
   ],
   "source": [
    "# Completa el ejercicio aquí\n",
    "while True:\n",
    "    x = int(input(\"Introduce un número impar \"))\n",
    "    if x % 2 != 0:\n",
    "        print(x, \"es impar\")\n",
    "        break\n",
    "    else:\n",
    "        pass\n",
    "\n",
    "numero = 0\n",
    "while numero % 2 == 0:\n",
    "    numero = int(input(\"Introduce un número impar \"))"
   ]
  },
  {
   "cell_type": "markdown",
   "metadata": {},
   "source": [
    "## **3) Realiza un programa que sume todos los números enteros pares desde el 0 hasta el 100:**\n",
    "\n",
    "*Sugerencia: Puedes utilizar la funciones sum() y range() para hacerlo más fácil. El tercer parámetro en la función range(inicio, fin, salto) indica un salto de números, pruébalo.*"
   ]
  },
  {
   "cell_type": "code",
   "execution_count": 20,
   "metadata": {},
   "outputs": [
    {
     "name": "stdout",
     "output_type": "stream",
     "text": [
      "2550\n",
      "2550\n"
     ]
    },
    {
     "data": {
      "text/plain": [
       "range(0, 5)"
      ]
     },
     "execution_count": 20,
     "metadata": {},
     "output_type": "execute_result"
    }
   ],
   "source": [
    "# Completa el ejercicio aquí\n",
    "x = range(0,101,2) #el ultimo valor lo excluye\n",
    "list(x)\n",
    "suma = sum(x)\n",
    "print(suma)\n",
    "\n",
    "# Forma con bucles\n",
    "num = 0\n",
    "suma = 0\n",
    "while num <= 100:\n",
    "    if num % 2 ==0:\n",
    "        suma += num\n",
    "    num +=1\n",
    "    \n",
    "print(suma)\n",
    "range(5)"
   ]
  },
  {
   "cell_type": "markdown",
   "metadata": {},
   "source": [
    "**4) Realiza un programa que pida al usuario cuantos números quiere introducir. Luego lee todos los números y realiza una media aritmética:**\n"
   ]
  },
  {
   "cell_type": "code",
   "execution_count": 24,
   "metadata": {},
   "outputs": [
    {
     "name": "stdout",
     "output_type": "stream",
     "text": [
      "Cuántos números quieres introducir?: 3\n",
      "Número: 4\n",
      "Número: 7\n",
      "Número: 7\n"
     ]
    },
    {
     "data": {
      "text/plain": [
       "2.3333333333333335"
      ]
     },
     "execution_count": 24,
     "metadata": {},
     "output_type": "execute_result"
    }
   ],
   "source": [
    "# Completa el ejercicio aquí\n",
    "x = int(input(\"Cuántos números quieres introducir?: \"))\n",
    "suma = 0\n",
    "for i in range(x):\n",
    "    suma =+ float(input(\"Número: \"))\n",
    "    \n",
    "media = suma/x\n",
    "media\n",
    "    \n"
   ]
  },
  {
   "cell_type": "markdown",
   "metadata": {},
   "source": [
    "**5) Realiza un programa que pida al usuario un número entero del 0 al 9, y que mientras el número no sea correcto se repita el proceso. Luego debe comprobar si el número se encuentra en la lista de números y notificarlo:**\n",
    "\n",
    "*Consejo: La sintaxis \"valor in lista\" permite comprobar fácilmente si un valor se encuentra en una lista (devuelve True o False)*"
   ]
  },
  {
   "cell_type": "code",
   "execution_count": 8,
   "metadata": {},
   "outputs": [
    {
     "name": "stdout",
     "output_type": "stream",
     "text": [
      "Introduce un número entero del 0 al 9 6\n",
      "si  6  está en  [1, 3, 6, 9]\n"
     ]
    }
   ],
   "source": [
    "### Completa el ejercicio aquí\n",
    "numeros = [1, 3, 6, 9]\n",
    "while True:\n",
    "    x = int(input(\"Introduce un número entero del 0 al 9 \"))\n",
    "    if x >= 0 and x <= 9:\n",
    "        break\n",
    "        \n",
    "if x in numeros:\n",
    "    print(\"si \",x,\" está en \", numeros)\n",
    "else:\n",
    "    print(\"no\")"
   ]
  },
  {
   "cell_type": "markdown",
   "metadata": {},
   "source": [
    "**6) Utilizando la función range() y la conversión a listas genera las siguientes listas dinámicamente:**\n",
    "* Todos los números del 0 al 10 [0, 1, 2, ..., 10]\n",
    "* Todos los números del -10 al 0 [-10, -9, -8, ..., 0]\n",
    "* Todos los números pares del 0 al 20 [0, 2, 4, ..., 20]\n",
    "* Todos los números impares entre -20 y 0 [-19, -17, -15, ..., -1]\n",
    "* Todos los números múltiples de 5 del 0 al 50 [0, 5, 10, ..., 50]\n",
    "\n",
    "*Pista: Utiliza el tercer parámetro de la función range(inicio, fin, salto).*"
   ]
  },
  {
   "cell_type": "code",
   "execution_count": 10,
   "metadata": {},
   "outputs": [
    {
     "name": "stdout",
     "output_type": "stream",
     "text": [
      "[0, 1, 2, 3, 4, 5, 6, 7, 8, 9, 10]\n",
      "[-10, -9, -8, -7, -6, -5, -4, -3, -2, -1, 0]\n",
      "[0, 2, 4, 6, 8, 10, 12, 14, 16, 18, 20]\n",
      "[-19, -17, -15, -13, -11, -9, -7, -5, -3, -1]\n",
      "[0, 5, 10, 15, 20, 25, 30, 35, 40, 45, 50]\n"
     ]
    }
   ],
   "source": [
    "# Completa el ejercicio\n",
    "x = list(range(0,11))\n",
    "print(x)\n",
    "x = list(range(-10,1))\n",
    "print(x)\n",
    "x = list(range(0,21,2))\n",
    "print(x)\n",
    "x = list(range(-19,0,2))\n",
    "print(x)\n",
    "print(list(range(0,51,5)))\n"
   ]
  },
  {
   "cell_type": "markdown",
   "metadata": {},
   "source": [
    "**7) Dadas dos listas, debes generar una tercera con todos los elementos que se repitan en ellas, pero no debe repetise ningún elemento en la nueva lista:**"
   ]
  },
  {
   "cell_type": "code",
   "execution_count": 11,
   "metadata": {},
   "outputs": [
    {
     "name": "stdout",
     "output_type": "stream",
     "text": [
      "['h', 'o', 'l', 'a', ' ', 'u', 'n']\n"
     ]
    }
   ],
   "source": [
    "# Completa el ejercicio aquí\n",
    "lista_1 = [\"h\",\"o\",\"l\",\"a\",\" \",\"m\",\"u\",\"n\",\"d\",\"o\"]\n",
    "lista_2 = [\"h\",\"o\",\"l\",\"a\",\" \",\"l\",\"u\",\"n\",\"a\"]\n",
    "\n",
    "lista_3 = []\n",
    "\n",
    "for letra in lista_1:\n",
    "    if letra in lista_2 and letra not in lista_3:\n",
    "        lista_3.append(letra)\n",
    "        \n",
    "print(lista_3)\n"
   ]
  },
  {
   "cell_type": "code",
   "execution_count": null,
   "metadata": {},
   "outputs": [],
   "source": []
  }
 ],
 "metadata": {
  "anaconda-cloud": {},
  "kernelspec": {
   "display_name": "Python 3",
   "language": "python",
   "name": "python3"
  },
  "language_info": {
   "codemirror_mode": {
    "name": "ipython",
    "version": 3
   },
   "file_extension": ".py",
   "mimetype": "text/x-python",
   "name": "python",
   "nbconvert_exporter": "python",
   "pygments_lexer": "ipython3",
   "version": "3.7.6"
  }
 },
 "nbformat": 4,
 "nbformat_minor": 1
}
