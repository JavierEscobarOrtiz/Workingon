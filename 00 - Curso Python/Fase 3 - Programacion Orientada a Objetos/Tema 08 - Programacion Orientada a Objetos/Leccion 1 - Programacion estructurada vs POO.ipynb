{
 "cells": [
  {
   "cell_type": "code",
   "execution_count": 1,
   "metadata": {},
   "outputs": [],
   "source": [
    "\"\"\" Ejemplo de implementación con Programación Estructurada \"\"\"\n",
    "\n",
    "clientes= [\n",
    "    {'Nombre': 'Hector',  'Apellidos':'Costa Guzman',      'dni':'11111111A'},\n",
    "    {'Nombre': 'Juan',    'Apellidos':'González Márquez',  'dni':'22222222B'} \n",
    "]"
   ]
  },
  {
   "cell_type": "code",
   "execution_count": 2,
   "metadata": {},
   "outputs": [
    {
     "data": {
      "text/plain": [
       "[{'Nombre': 'Hector', 'Apellidos': 'Costa Guzman', 'dni': '11111111A'},\n",
       " {'Nombre': 'Juan', 'Apellidos': 'González Márquez', 'dni': '22222222B'}]"
      ]
     },
     "execution_count": 2,
     "metadata": {},
     "output_type": "execute_result"
    }
   ],
   "source": [
    "clientes"
   ]
  },
  {
   "cell_type": "code",
   "execution_count": 3,
   "metadata": {},
   "outputs": [],
   "source": [
    "def mostrar_cliente(clientes, dni):\n",
    "    for c in clientes:\n",
    "        if (dni == c['dni']):\n",
    "            print('{} {}'.format(c['Nombre'],c['Apellidos']))\n",
    "            return\n",
    "        \n",
    "    print('Cliente no encontrado')"
   ]
  },
  {
   "cell_type": "code",
   "execution_count": 6,
   "metadata": {},
   "outputs": [
    {
     "name": "stdout",
     "output_type": "stream",
     "text": [
      "Hector Costa Guzman\n"
     ]
    }
   ],
   "source": [
    "mostrar_cliente(clientes,\"11111111A\")"
   ]
  },
  {
   "cell_type": "code",
   "execution_count": 7,
   "metadata": {},
   "outputs": [],
   "source": [
    "def borrar_cliente(clientes, dni):\n",
    "    for i,c in enumerate(clientes):\n",
    "        if (dni == c['dni']):\n",
    "            del( clientes[i] )\n",
    "            print(str(c),\"> BORRADO\")\n",
    "            return\n",
    "        \n",
    "    print('Cliente no encontrado')"
   ]
  },
  {
   "cell_type": "code",
   "execution_count": 10,
   "metadata": {},
   "outputs": [
    {
     "name": "stdout",
     "output_type": "stream",
     "text": [
      "{'Nombre': 'Juan', 'Apellidos': 'González Márquez', 'dni': '22222222B'} > BORRADO\n"
     ]
    }
   ],
   "source": [
    "borrar_cliente(clientes,\"22222222B\")"
   ]
  },
  {
   "cell_type": "code",
   "execution_count": 11,
   "metadata": {},
   "outputs": [
    {
     "data": {
      "text/plain": [
       "[{'Nombre': 'Hector', 'Apellidos': 'Costa Guzman', 'dni': '11111111A'}]"
      ]
     },
     "execution_count": 11,
     "metadata": {},
     "output_type": "execute_result"
    }
   ],
   "source": [
    "clientes"
   ]
  },
  {
   "cell_type": "code",
   "execution_count": null,
   "metadata": {
    "collapsed": true
   },
   "outputs": [],
   "source": []
  },
  {
   "cell_type": "code",
   "execution_count": null,
   "metadata": {
    "collapsed": true
   },
   "outputs": [],
   "source": []
  },
  {
   "cell_type": "code",
   "execution_count": null,
   "metadata": {
    "collapsed": true
   },
   "outputs": [],
   "source": []
  },
  {
   "cell_type": "markdown",
   "metadata": {},
   "source": [
    "<br /><br /><br /><br /><br /><br /><br /><br /><br /><br /><br /><br /><br /><br /><br /><br /><br /><br />\n",
    "## Espacio en blanco a propósito\n",
    "<br /><br /><br /><br /><br /><br /><br /><br /><br /><br /><br /><br /><br /><br /><br /><br /><br /><br />"
   ]
  },
  {
   "cell_type": "code",
   "execution_count": 12,
   "metadata": {},
   "outputs": [],
   "source": [
    "\"\"\" Ejemplo de implementación con Programación Orientada a Objetos \n",
    "    No hace falta entender el código, lo aprenderemos en esta unidad \"\"\"\n",
    "\n",
    "class Cliente:\n",
    "    \n",
    "    def __init__(self, dni, nombre, apellidos):\n",
    "        self.dni = dni\n",
    "        self.nombre = nombre\n",
    "        self.apellidos = apellidos\n",
    "        \n",
    "    def __str__(self):\n",
    "        return '{} {}'.format(self.nombre,self.apellidos)\n",
    "    \n",
    "\n",
    "class Empresa:\n",
    "    \n",
    "    def __init__(self, clientes=[]):\n",
    "        self.clientes = clientes\n",
    "        \n",
    "    def mostrar_cliente(self, dni=None):\n",
    "        for c in self.clientes:\n",
    "            if c.dni == dni:\n",
    "                print(c)\n",
    "                return\n",
    "        print(\"Cliente no encontrado\")\n",
    "    \n",
    "    def borrar_cliente(self, dni=None):\n",
    "        for i,c in enumerate(self.clientes):\n",
    "            if c.dni == dni:\n",
    "                del(self.clientes[i])\n",
    "                print(str(c),\"> BORRADO\")\n",
    "                return\n",
    "        print(\"Cliente no encontrado\")"
   ]
  },
  {
   "cell_type": "code",
   "execution_count": 14,
   "metadata": {},
   "outputs": [],
   "source": [
    "hector = Cliente(nombre=\"Hector\",apellidos=\"Costa Guzman\",dni=\"88888888A\")"
   ]
  },
  {
   "cell_type": "code",
   "execution_count": 15,
   "metadata": {},
   "outputs": [
    {
     "data": {
      "text/plain": [
       "<__main__.Cliente at 0x283d90e7a48>"
      ]
     },
     "execution_count": 15,
     "metadata": {},
     "output_type": "execute_result"
    }
   ],
   "source": [
    "hector"
   ]
  },
  {
   "cell_type": "code",
   "execution_count": 16,
   "metadata": {},
   "outputs": [],
   "source": [
    "juan = Cliente(\"22222222B\",\"Juan\",\"González Marquez\")"
   ]
  },
  {
   "cell_type": "code",
   "execution_count": 17,
   "metadata": {},
   "outputs": [],
   "source": [
    "empresa = Empresa(clientes=[hector,juan])"
   ]
  },
  {
   "cell_type": "code",
   "execution_count": 18,
   "metadata": {},
   "outputs": [
    {
     "data": {
      "text/plain": [
       "[<__main__.Cliente at 0x283d90e7a48>, <__main__.Cliente at 0x283d90de348>]"
      ]
     },
     "execution_count": 18,
     "metadata": {},
     "output_type": "execute_result"
    }
   ],
   "source": [
    "empresa.clientes"
   ]
  },
  {
   "cell_type": "code",
   "execution_count": 20,
   "metadata": {},
   "outputs": [
    {
     "name": "stdout",
     "output_type": "stream",
     "text": [
      "Hector Costa Guzman\n"
     ]
    }
   ],
   "source": [
    "empresa.mostrar_cliente(dni=\"88888888A\")"
   ]
  },
  {
   "cell_type": "code",
   "execution_count": 21,
   "metadata": {},
   "outputs": [
    {
     "name": "stdout",
     "output_type": "stream",
     "text": [
      "Juan González Marquez > BORRADO\n"
     ]
    }
   ],
   "source": [
    "empresa.borrar_cliente(dni=\"22222222B\")"
   ]
  },
  {
   "cell_type": "code",
   "execution_count": 22,
   "metadata": {},
   "outputs": [
    {
     "data": {
      "text/plain": [
       "[<__main__.Cliente at 0x283d90e7a48>]"
      ]
     },
     "execution_count": 22,
     "metadata": {},
     "output_type": "execute_result"
    }
   ],
   "source": [
    "empresa.clientes"
   ]
  },
  {
   "cell_type": "code",
   "execution_count": null,
   "metadata": {},
   "outputs": [],
   "source": []
  }
 ],
 "metadata": {
  "kernelspec": {
   "display_name": "Python 3",
   "language": "python",
   "name": "python3"
  },
  "language_info": {
   "codemirror_mode": {
    "name": "ipython",
    "version": 3
   },
   "file_extension": ".py",
   "mimetype": "text/x-python",
   "name": "python",
   "nbconvert_exporter": "python",
   "pygments_lexer": "ipython3",
   "version": "3.7.6"
  }
 },
 "nbformat": 4,
 "nbformat_minor": 1
}
